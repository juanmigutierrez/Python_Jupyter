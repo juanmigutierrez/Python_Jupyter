{
 "cells": [
  {
   "cell_type": "markdown",
   "metadata": {},
   "source": [
    "# Clustering I: El problema del Pintor (Color Quantization)\n",
    "\n",
    "Un estudiante de pintura quiere realizar un cuadro como trabajo final de su curso. Entre los cuadros que puede escoger para el proyecto se encuentran:\n",
    "\n",
    "* El jardin de las Delicias de Bosch\n",
    "* El nacimiento de enuza de Boticelli\n",
    "* La persistencia de la memoria de Dali.\n",
    "* La For de Loto de Monet\n",
    "* Las señoritas de Aviñón de Picaso.\n",
    "* La noche estrellada de Van Gogh\n",
    "* Las Meninas de Velazquez\n",
    "* La chica de la perla de Vermeer\n",
    "\n",
    "Sin embargo, debido a la situación de la cuarentena tiene mucho trabajo. El quiere un cuadro donde no tenga que utilizar más de 15 tonos diferentes, además quiere saber como se veria el cuadro resultante utilizando solamente esos 15 tonos. El ha escuchado que los alumnos de MACC pueden colaborarle utilizando algunas técnicas de Machine Learning. Es por esto que el ha pedido nuestra ayuda. Para esto, el contactó al profesor Alexander, quien decidió utilizar esta oportunidad para evaluar sus conocimientos en Clustering (agrupamiento). Para esto el profesor dividio el problema en las siguientes tareas:\n",
    "\n",
    "1. Cargar los datos de las imagenes en Python usando la libreria cv2. Las imagenes se encuentran adjuntas en esta carpeta.\n",
    "2. Utilizando sus conociientos en clustering identifiquen una paleta de colores adecuada, cumpliendo con la condicion de que no se deben obtener mas de 15 colores.\n",
    "3. Una vez identificada la paleta de colores, utilicen esa infomración para evaluar como se veria visualmente la pintura si se utilizarán solo esos colores.\n",
    "4. Con base en los resultados obtenidos identifiquen cual de las pinturas debería ser utilizada para el proyecto final del estudiante de pintura. Además porporcione la paleta de colores necesarios y una muestra visual de como luciría la pintura.\n",
    "\n",
    "Como el objetivo es evaluar sus conocimientos en agrupamiento, el profesor Alexander también quiere que contesten las siguientes preguntas:\n",
    "\n",
    "1. ¿Qué puede observar de los datos del problema?\n",
    "2. ¿Se tuvó que realizar algun tipo de transformación a los datos?, ¿Porqué?\n",
    "3. ¿Cuál fue el criterio para escoger la pintura que recomendará al estudiante para pintar?\n",
    "4. ¿El algoritmo tuvo un performance similar para todas las pinturas, o no?, ¿Porqué se comporto así?\n",
    "5. ¿Qué puede concluir al final de este proyecto?, escriba su opinión frente a los metodos de clustering y como se aplicó en este proyecto.\n",
    "\n",
    "Finalmente, el profesor Alexander les pide que entreguen el notebook de jupyter con el código documentado con el análisis de cada una de las partes, es decir una explicación de que hace en cada parte del código; además, deben incluri las respuestas a las preguntas realizadas. Al entregar el notebook, por favor use la convención Grupo_ID_ML.\n",
    "\n",
    "**Nota:** Recuerden que tienen hasta el **Martes 2 de Marzo** a las 12 de la noche para entregar sus notebooks. Mucha suerte!!\n"
   ]
  },
  {
   "cell_type": "code",
   "execution_count": 1,
   "metadata": {},
   "outputs": [],
   "source": [
    "import cv2 as cv\n",
    "import numpy as np\n",
    "import sys\n",
    "import matplotlib.pyplot as plt\n",
    "from sklearn.cluster import KMeans\n",
    "from PIL import Image"
   ]
  },
  {
   "cell_type": "markdown",
   "metadata": {},
   "source": [
    "Loading Image"
   ]
  },
  {
   "cell_type": "markdown",
   "metadata": {},
   "source": [
    "### Pregunta 1\n",
    "\n",
    "1. ¿Qué puede observar de los datos del problema?\n",
    "\n",
    "Se puede observar que la imagen que posee 3 componentes, estop pues cada componente define un color de la escala RGB (Rojo,Verde,Azul). Dado que sucede esto es necesario ajustar los datos de tal manera que el algoritmo K-means pueda inferir correctamente los diferentes agrupamientos que existen en los datos las imagenes. Esto pues el algoritmo de k-means que vimos en clase solo funcionaba en dos dimensiones."
   ]
  },
  {
   "cell_type": "markdown",
   "metadata": {},
   "source": [
    "### Pregunta 2\n",
    "\n",
    "2. ¿Se tuvó que realizar algun tipo de transformación a los datos?, ¿Porqué?\n",
    "\n",
    "Si se tuve que realizar una transformacion a los datos, esto pues es necesario para que el algoritmos de Kmean pueda aprender correctamente las agrupaciones de los diferentes colores que representan la imagen. Se convirtio la imagen que es un tensor de (Ancho $\\cdot$ Altura $\\cdot$ 3), donde el 3 corresponde a el RGB a una matriz de (Ancho $\\cdot$ altura,3)."
   ]
  },
  {
   "cell_type": "markdown",
   "metadata": {},
   "source": [
    "## Scikit Learn"
   ]
  },
  {
   "cell_type": "code",
   "execution_count": 2,
   "metadata": {},
   "outputs": [],
   "source": [
    "images = [\"Bosch\",\"Boticelli\",\"Dali\",\"Monet\",\"Picaso\",\"VanGogh\",\"Velazquez\"]"
   ]
  },
  {
   "cell_type": "code",
   "execution_count": 3,
   "metadata": {},
   "outputs": [],
   "source": [
    "def recreate_image(codebook, labels, w, h):\n",
    "    \"\"\"Recreate the (compressed) image from the code book & labels\"\"\"\n",
    "    d = codebook.shape[1]\n",
    "    image = np.zeros((w, h, d))\n",
    "    label_idx = 0\n",
    "    for i in range(w):\n",
    "        for j in range(h):\n",
    "            image[i][j] = codebook[labels[label_idx]]\n",
    "            label_idx += 1\n",
    "    return image"
   ]
  },
  {
   "cell_type": "code",
   "execution_count": 4,
   "metadata": {},
   "outputs": [],
   "source": [
    "def get_img_one(n_colors,image):\n",
    "        print(\"Analizando la imagen %s\" %image)\n",
    "        \n",
    "        #Open Image\n",
    "        im = cv.imread(cv.samples.findFile(f\"{image}.jpg\"))\n",
    "        im_o = im.copy()\n",
    "        \n",
    "        if im is None:\n",
    "            sys.exit(\"Could not read the image.\")\n",
    "        \n",
    "        #Original Shape\n",
    "        shape_original = im.shape\n",
    "        \n",
    "        #Image to array\n",
    "        im = np.array(im, dtype=np.float64)/255\n",
    "        \n",
    "        #reshape imagen\n",
    "        im = im.reshape((-1,3))\n",
    "        \n",
    "        #KMM\n",
    "        kmeans = KMeans(n_clusters=n_colors)\n",
    "        kmeans.fit(im)\n",
    "        \n",
    "        #BIC\n",
    "        pred = kmeans.predict(im)\n",
    "        \n",
    "        new_im = recreate_image(kmeans.cluster_centers_, pred, shape_original[0], shape_original[1])\n",
    "        \n",
    "        L2 = sum(sum(shape_original-new_im)**2)\n",
    "        print(\"La norma L2 es %s\" %L2)\n",
    "\n",
    "        #plot\n",
    "        plt.imshow(new_im)\n",
    "        plt.title(f\"{image}\")\n",
    "        plt.show()"
   ]
  },
  {
   "cell_type": "code",
   "execution_count": 5,
   "metadata": {},
   "outputs": [],
   "source": [
    "def get_img_onef(n_colors,image):\n",
    "        print(\"Analizando la imagen %s\" %image)\n",
    "        \n",
    "        #Open Image\n",
    "        im = cv.imread(cv.samples.findFile(f\"{image}.jpg\"))\n",
    "        im_o = im.copy()\n",
    "        \n",
    "        if im is None:\n",
    "            sys.exit(\"Could not read the image.\")\n",
    "        \n",
    "        #Original Shape\n",
    "        shape_original = im.shape\n",
    "        \n",
    "        #Image to array\n",
    "        im = np.array(im, dtype=np.float64)/255\n",
    "        \n",
    "        #reshape imagen\n",
    "        im = im.reshape((-1,3))\n",
    "        \n",
    "        #KMM\n",
    "        kmeans = KMeans(n_clusters=n_colors)\n",
    "        kmeans.fit(im)\n",
    "        \n",
    "        #BIC\n",
    "        #pred = kmeans.predict(im)\n",
    "        \n",
    "        labels = kmeans.labels_\n",
    "        centers = kmeans.cluster_centers_\n",
    "        new_im = centers[labels].reshape(shape_original).astype('uint8')\n",
    "        \n",
    "        L2 = sum(sum(shape_original-new_im)**2)\n",
    "        print(\"La norma L2 es %s\" %L2)\n",
    "\n",
    "        #plot\n",
    "        plt.imshow(new_im)\n",
    "        plt.title(f\"{image}\")\n",
    "        plt.show()"
   ]
  },
  {
   "cell_type": "code",
   "execution_count": null,
   "metadata": {},
   "outputs": [],
   "source": [
    "def get_img(n_colors,images):\n",
    "    i=0\n",
    "    for image in images:\n",
    "        print(\"Analizando la imagen %s\" %image)\n",
    "        \n",
    "        #Open Image\n",
    "        im = cv.imread(cv.samples.findFile(f\"{image}.jpg\"))\n",
    "        im_o = im.copy()\n",
    "        \n",
    "        if im is None:\n",
    "            sys.exit(\"Could not read the image.\")\n",
    "        \n",
    "        #Original Shape\n",
    "        shape_original = im.shape\n",
    "        \n",
    "        #Image to array\n",
    "        im = np.array(im, dtype=np.float64)/255\n",
    "        \n",
    "        #reshape imagen\n",
    "        im = im.reshape((-1,3))\n",
    "        \n",
    "        #KMM\n",
    "        kmeans = KMeans(n_clusters=n_colors)\n",
    "        kmeans.fit(im)\n",
    "        \n",
    "        #BIC\n",
    "        pred = kmeans.predict(im)\n",
    "        \n",
    "        new_im = recreate_image(kmeans.cluster_centers_, pred, shape_original[0], shape_original[1])\n",
    "        \n",
    "        L2 = sum(sum(shape_original-new_im)**2)\n",
    "        print(\"La norma L2 es %s\" %L2)\n",
    "\n",
    "        #plot\n",
    "        plt.figure(figsize = (20,60))\n",
    "        plt.subplot(4, 2,i+1), plt.imshow(new_im)\n",
    "        plt.title(f\"{image}\")\n",
    "        i = i+1\n",
    "        plt.show()\n",
    "    return "
   ]
  },
  {
   "cell_type": "markdown",
   "metadata": {},
   "source": [
    "## Showing Images only on 15 colors"
   ]
  },
  {
   "cell_type": "code",
   "execution_count": 49,
   "metadata": {
    "scrolled": false
   },
   "outputs": [
    {
     "name": "stdout",
     "output_type": "stream",
     "text": [
      "Analizando la imagen Bosch\n"
     ]
    },
    {
     "ename": "KeyboardInterrupt",
     "evalue": "",
     "output_type": "error",
     "traceback": [
      "\u001b[1;31m---------------------------------------------------------------------------\u001b[0m",
      "\u001b[1;31mKeyboardInterrupt\u001b[0m                         Traceback (most recent call last)",
      "\u001b[1;32m<timed eval>\u001b[0m in \u001b[0;36m<module>\u001b[1;34m\u001b[0m\n",
      "\u001b[1;32m<ipython-input-48-ac460aab48eb>\u001b[0m in \u001b[0;36mget_img\u001b[1;34m(n_colors, images)\u001b[0m\n\u001b[0;32m     21\u001b[0m         \u001b[1;31m#KMM\u001b[0m\u001b[1;33m\u001b[0m\u001b[1;33m\u001b[0m\u001b[1;33m\u001b[0m\u001b[0m\n\u001b[0;32m     22\u001b[0m         \u001b[0mkmeans\u001b[0m \u001b[1;33m=\u001b[0m \u001b[0mKMeans\u001b[0m\u001b[1;33m(\u001b[0m\u001b[0mn_clusters\u001b[0m\u001b[1;33m=\u001b[0m\u001b[0mn_colors\u001b[0m\u001b[1;33m)\u001b[0m\u001b[1;33m\u001b[0m\u001b[1;33m\u001b[0m\u001b[0m\n\u001b[1;32m---> 23\u001b[1;33m         \u001b[0mkmeans\u001b[0m\u001b[1;33m.\u001b[0m\u001b[0mfit\u001b[0m\u001b[1;33m(\u001b[0m\u001b[0mim\u001b[0m\u001b[1;33m)\u001b[0m\u001b[1;33m\u001b[0m\u001b[1;33m\u001b[0m\u001b[0m\n\u001b[0m\u001b[0;32m     24\u001b[0m \u001b[1;33m\u001b[0m\u001b[0m\n\u001b[0;32m     25\u001b[0m         \u001b[1;31m#BIC\u001b[0m\u001b[1;33m\u001b[0m\u001b[1;33m\u001b[0m\u001b[1;33m\u001b[0m\u001b[0m\n",
      "\u001b[1;32mc:\\users\\miguel gutierrez\\appdata\\local\\programs\\python\\python38-32\\lib\\site-packages\\sklearn\\cluster\\_kmeans.py\u001b[0m in \u001b[0;36mfit\u001b[1;34m(self, X, y, sample_weight)\u001b[0m\n\u001b[0;32m   1049\u001b[0m         \u001b[1;32mfor\u001b[0m \u001b[0mseed\u001b[0m \u001b[1;32min\u001b[0m \u001b[0mseeds\u001b[0m\u001b[1;33m:\u001b[0m\u001b[1;33m\u001b[0m\u001b[1;33m\u001b[0m\u001b[0m\n\u001b[0;32m   1050\u001b[0m             \u001b[1;31m# run a k-means once\u001b[0m\u001b[1;33m\u001b[0m\u001b[1;33m\u001b[0m\u001b[1;33m\u001b[0m\u001b[0m\n\u001b[1;32m-> 1051\u001b[1;33m             labels, inertia, centers, n_iter_ = kmeans_single(\n\u001b[0m\u001b[0;32m   1052\u001b[0m                 \u001b[0mX\u001b[0m\u001b[1;33m,\u001b[0m \u001b[0msample_weight\u001b[0m\u001b[1;33m,\u001b[0m \u001b[0mself\u001b[0m\u001b[1;33m.\u001b[0m\u001b[0mn_clusters\u001b[0m\u001b[1;33m,\u001b[0m \u001b[0mmax_iter\u001b[0m\u001b[1;33m=\u001b[0m\u001b[0mself\u001b[0m\u001b[1;33m.\u001b[0m\u001b[0mmax_iter\u001b[0m\u001b[1;33m,\u001b[0m\u001b[1;33m\u001b[0m\u001b[1;33m\u001b[0m\u001b[0m\n\u001b[0;32m   1053\u001b[0m                 \u001b[0minit\u001b[0m\u001b[1;33m=\u001b[0m\u001b[0minit\u001b[0m\u001b[1;33m,\u001b[0m \u001b[0mverbose\u001b[0m\u001b[1;33m=\u001b[0m\u001b[0mself\u001b[0m\u001b[1;33m.\u001b[0m\u001b[0mverbose\u001b[0m\u001b[1;33m,\u001b[0m \u001b[0mtol\u001b[0m\u001b[1;33m=\u001b[0m\u001b[0mtol\u001b[0m\u001b[1;33m,\u001b[0m\u001b[1;33m\u001b[0m\u001b[1;33m\u001b[0m\u001b[0m\n",
      "\u001b[1;32mc:\\users\\miguel gutierrez\\appdata\\local\\programs\\python\\python38-32\\lib\\site-packages\\sklearn\\cluster\\_kmeans.py\u001b[0m in \u001b[0;36m_kmeans_single_elkan\u001b[1;34m(X, sample_weight, n_clusters, max_iter, init, verbose, x_squared_norms, random_state, tol, n_threads)\u001b[0m\n\u001b[0;32m    441\u001b[0m         \u001b[1;31m# compute new pairwise distances between centers and closest other\u001b[0m\u001b[1;33m\u001b[0m\u001b[1;33m\u001b[0m\u001b[1;33m\u001b[0m\u001b[0m\n\u001b[0;32m    442\u001b[0m         \u001b[1;31m# center of each center for next iterations\u001b[0m\u001b[1;33m\u001b[0m\u001b[1;33m\u001b[0m\u001b[1;33m\u001b[0m\u001b[0m\n\u001b[1;32m--> 443\u001b[1;33m         \u001b[0mcenter_half_distances\u001b[0m \u001b[1;33m=\u001b[0m \u001b[0meuclidean_distances\u001b[0m\u001b[1;33m(\u001b[0m\u001b[0mcenters_new\u001b[0m\u001b[1;33m)\u001b[0m \u001b[1;33m/\u001b[0m \u001b[1;36m2\u001b[0m\u001b[1;33m\u001b[0m\u001b[1;33m\u001b[0m\u001b[0m\n\u001b[0m\u001b[0;32m    444\u001b[0m         distance_next_center = np.partition(\n\u001b[0;32m    445\u001b[0m             np.asarray(center_half_distances), kth=1, axis=0)[1]\n",
      "\u001b[1;31mKeyboardInterrupt\u001b[0m: "
     ]
    }
   ],
   "source": [
    "%%time\n",
    "get_img(15,images)"
   ]
  },
  {
   "cell_type": "code",
   "execution_count": 6,
   "metadata": {},
   "outputs": [
    {
     "name": "stdout",
     "output_type": "stream",
     "text": [
      "Analizando la imagen VanGogh\n",
      "La norma L2 es [         0          0 2026897408]\n"
     ]
    },
    {
     "data": {
      "image/png": "[encoded data removed]",
      "text/plain": [
       "<Figure size 432x288 with 1 Axes>"
      ]
     },
     "metadata": {
      "needs_background": "light"
     },
     "output_type": "display_data"
    }
   ],
   "source": [
    "get_img_onef(15,\"VanGogh\")"
   ]
  },
  {
   "cell_type": "code",
   "execution_count": null,
   "metadata": {},
   "outputs": [],
   "source": []
  }
 ],
 "metadata": {
  "kernelspec": {
   "display_name": "Python 3",
   "language": "python",
   "name": "python3"
  },
  "language_info": {
   "codemirror_mode": {
    "name": "ipython",
    "version": 3
   },
   "file_extension": ".py",
   "mimetype": "text/x-python",
   "name": "python",
   "nbconvert_exporter": "python",
   "pygments_lexer": "ipython3",
   "version": "3.8.2"
  },
  "latex_envs": {
   "LaTeX_envs_menu_present": true,
   "autoclose": false,
   "autocomplete": true,
   "bibliofile": "biblio.bib",
   "cite_by": "apalike",
   "current_citInitial": 1,
   "eqLabelWithNumbers": true,
   "eqNumInitial": 1,
   "hotkeys": {
    "equation": "Ctrl-E",
    "itemize": "Ctrl-I"
   },
   "labels_anchors": false,
   "latex_user_defs": false,
   "report_style_numbering": false,
   "user_envs_cfg": false
  }
 },
 "nbformat": 4,
 "nbformat_minor": 2
}
