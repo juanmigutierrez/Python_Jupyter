{
 "cells": [
  {
   "cell_type": "markdown",
   "metadata": {},
   "source": [
    "# Proyecto II: De palabras a Vectores\n",
    "\n",
    "En este proyecto vamos a implementar uno de los sistemas más utilizados par aconvertir palabras a vectores **word2vec**. En este proyecto la idea es que ustedes creen una base de datos de texto, la cúal utilizarán para entrenar la códificación de estás palabras, y a partir de allí implementar ciertos sistemas. Para facilitar el trabajo, en este notebook pueden encontrar unas funciones que fueron extraidas de esté [link](https://towardsdatascience.com/a-word2vec-implementation-using-numpy-and-python-d256cf0e5f28), y adaptadas para trabajar con el lenguaje español. Sientanse libres de utilizar estas funciones o de adaptarlas a su gusto. Las funciones toman como entrada un texto en formato plano, y al finalizar entregan el vector de palabras de contexto y el vector target que puede ser utilizado para entrenar el modelo word2vec. Los datos de entrenamiento se entregan en una lista que contiene el vector de salida (codificación one hot de una palabra) y el vector que contiene la suma de los vectores hot encoded de las palabras de contexto. Para escoger el tamaño de la palabra de contexto deben modificar el parámetro $C$.\n",
    "\n",
    "Para este proyecto necesitan realizar lo siguiente:\n",
    "\n",
    "1. Obtengan un corpus de texto plano en Español, lo suficientemente largo, que contenga información sobre diferentes países. Este texto lo pueden extraer de wikipedia.\n",
    "2. Con la información de este corpus entrenen un modelo word2vec, aquí debe seleccionar un valor $N$ que representa la longitud del vector que representará las palabras. Este modelo es una red neuronal con una sola capa oculta de $N$ neuronas.\n",
    "3. Una vez tengan el modelo identifiquen la relación entre algunos países (no todos) de su corpus y sus capitales.\n",
    "4. Mediante esta relación encuentren las capitales de los demás países que incluyeron en el corpus. Para esto deben realizar una búsqueda de vectores cercanos a un punto en el espacio $\\mathbb{R}^{\\text{N}}$. Esta búsqueda la pueden realizar con *Locally Sensitive Hashing*.\n",
    "4. Realice una visualización en 2D o 3D de los vectores correspondientes a los países y sus capitales. Indicando los que usarón de referencia para encontrar la relación entre país y capital, y aquellos para los cuales no utilizarón esa relación.\n",
    "5. Seleccione 5 Palabras y para ellas calcule las 10 palabras más parecidas (sinonimos) en orden de similitud.\n",
    "6. Construya un nuevo corpus, más pequeño, sobre un tema cualquiera. Para este corpus necesita la versión en Español y en Ingles de los textos. Una vez más pueden utilizar Wikipedia para esto. \n",
    "7. Obtenga las representaciones en vectores para las palabras en Español y en Ingles.\n",
    "8. De los datos obtenidos, escoga un conjunto $m$ de palabras en español, y las respectiva traducción en ingles (que se encuentren en el vocabulario que construyeron) y planteé el problema de transformacion $\\mathcal{X}\\mathbf{R} = \\mathcal{Y}$. De tal forma que encuentren la matrix de \"traducción\" $\\mathbf{R}$.\n",
    "9. Realicé esta operación para varios valores de $m$.\n",
    "10. Finalmente escoja algunas palabras en Español, apliqueles la transformación $\\mathbf{R}$ y liste las 5 palabras más cercanas en $\\mathcal{Y}$ a esta traducción.\n",
    "\n",
    "Al finalizar los diferentes puntos del proyecto, contesten las siguientes preguntas:\n",
    "\n",
    "1. ¿Qué problemas tuvierón a la hora de implementar el modelo word2vec?\n",
    "2. ¿Cómo escogierón el parámetro $N$?\n",
    "3. ¿Qué pueden decir de los resultados del modelo buscando la relación entre los países y las capitales?\n",
    "4. ¿Qué tan bien funciona el modelo para los sinonimos?, ¿Cómo creen que se puede mejorar este modelo?\n",
    "5. ¿Cómo afecta el parámetro $m$ el funcionamiento del modelo de traducción?\n",
    "6. ¿Cómo mejorarian el modelo de traducción?\n",
    "7. ¿Qué concluyen de este proyecto y de los resultados obtenidos?\n",
    "\n",
    "Al finalizar deben entregar el notebook, con los archivos de soporte (los corpus) y demás elementos que consideren necesarios. Recuerde dar respuesta a las preguntas del notebook, y comentar cada parte del proceso. El proyecto se debe entregar a más tardar el **Domingo 29 de Marzo a las 12 de la noche**.\n"
   ]
  },
  {
   "cell_type": "code",
   "execution_count": 1,
   "metadata": {},
   "outputs": [],
   "source": [
    "# Importando librerias necesarias\n",
    "\n",
    "import re\n",
    "import numpy as np\n",
    "from tensorflow.keras import models, layers\n",
    "from scipy.spatial import distance\n",
    "from sklearn.decomposition import PCA\n",
    "import matplotlib.pyplot as plt"
   ]
  },
  {
   "cell_type": "code",
   "execution_count": 2,
   "metadata": {},
   "outputs": [],
   "source": [
    "# Función para leer y procesar el archivo en texto plano.\n",
    "\n",
    "def get_file_data(fname, stop_word_removal='no'):\n",
    "    file_contents = []\n",
    "    with open(fname,encoding='utf-8') as f:\n",
    "        file_contents = f.read()\n",
    "    text = []\n",
    "    for val in file_contents.split('.'):\n",
    "        val = re.sub(r'[,¡!¿?;-]+','.',val)\n",
    "        val = re.sub(r'á','a',val)\n",
    "        val = re.sub(r'é','e',val)\n",
    "        val = re.sub(r'í','i',val)\n",
    "        val = re.sub(r'ó','o',val)\n",
    "        val = re.sub(r'ú','u',val)\n",
    "        val = re.sub(r'ü','u',val)\n",
    "        val = re.sub(r'Á','A',val)\n",
    "        val = re.sub(r'É','E',val)\n",
    "        val = re.sub(r'Í','I',val)\n",
    "        val = re.sub(r'Ó','O',val)\n",
    "        val = re.sub(r'Ú','U',val)\n",
    "        val = re.sub(r'Ü','U',val)\n",
    "        val = re.sub(r'ñ','n',val)\n",
    "        val = re.sub(r'Ñ','N',val)\n",
    "        sent = re.findall(\"[A-Za-z]+\", val)\n",
    "        line = ''\n",
    "        for words in sent:\n",
    "            \n",
    "            if stop_word_removal == 'yes': \n",
    "                if len(words) > 1 and words not in stop_words:\n",
    "                    line = line + ' ' + words\n",
    "            else:\n",
    "                if len(words) > 1 :\n",
    "                    line = line + ' ' + words\n",
    "        text.append(line)\n",
    "    return text\n",
    "\n",
    "# Función para obtener un Vocabulario en función del texto procesado\n",
    "\n",
    "def generate_dictinoary_data(text):\n",
    "    word_to_index= dict()\n",
    "    index_to_word = dict()\n",
    "    corpus = []\n",
    "    count = 0\n",
    "    vocab_size = 0\n",
    "    \n",
    "    for row in text:\n",
    "        for word in row.split():\n",
    "            word = word.lower()\n",
    "            corpus.append(word)\n",
    "            if word_to_index.get(word) == None:\n",
    "                word_to_index.update ( {word : count})\n",
    "                index_to_word.update ( {count : word })\n",
    "                count  += 1\n",
    "    vocab_size = len(word_to_index)\n",
    "    length_of_corpus = len(corpus)\n",
    "    \n",
    "    return word_to_index,index_to_word,corpus,vocab_size,length_of_corpus\n",
    "\n",
    "# Función para generar representaciones one hot de los vectores target y del corpus\n",
    "\n",
    "def get_one_hot_vectors(target_word,context_words,vocab_size,word_to_index):\n",
    "    \n",
    "    #Create an array of size = vocab_size filled with zeros\n",
    "    trgt_word_vector = np.zeros(vocab_size)\n",
    "    \n",
    "    #Get the index of the target_word according to the dictionary word_to_index. \n",
    "    index_of_word_dictionary = word_to_index.get(target_word) \n",
    "    \n",
    "    #Set the index to 1\n",
    "    trgt_word_vector[index_of_word_dictionary] = 1\n",
    "    \n",
    "    #Repeat same steps for context_words but in a loop\n",
    "    ctxt_word_vector = np.zeros(vocab_size)\n",
    "    \n",
    "    \n",
    "    for word in context_words:\n",
    "        index_of_word_dictionary = word_to_index.get(word) \n",
    "        ctxt_word_vector[index_of_word_dictionary] = 1\n",
    "        \n",
    "    return trgt_word_vector,ctxt_word_vector\n",
    "\n",
    "# Función para generar los datos de entrenamiento para la red neuronal que representa el modelo word2vec\n",
    "\n",
    "def generate_training_data(corpus,window_size,vocab_size,word_to_index,length_of_corpus,sample=None):\n",
    "\n",
    "    training_data =  []\n",
    "    training_sample_words =  []\n",
    "    for i,word in enumerate(corpus):\n",
    "\n",
    "        index_target_word = i\n",
    "        target_word = word\n",
    "        context_words = []\n",
    "\n",
    "        #when target word is the first word\n",
    "        if i == 0:  \n",
    "\n",
    "            # trgt_word_index:(0), ctxt_word_index:(1,2)\n",
    "            context_words = [corpus[x] for x in range(i + 1 , window_size + 1)] \n",
    "\n",
    "\n",
    "        #when target word is the last word\n",
    "        elif i == len(corpus)-1:\n",
    "\n",
    "            # trgt_word_index:(9), ctxt_word_index:(8,7), length_of_corpus = 10\n",
    "            context_words = [corpus[x] for x in range(length_of_corpus - 2 ,length_of_corpus -2 - window_size  , -1 )]\n",
    "\n",
    "        #When target word is the middle word\n",
    "        else:\n",
    "\n",
    "            #Before the middle target word\n",
    "            before_target_word_index = index_target_word - 1\n",
    "            for x in range(before_target_word_index, before_target_word_index - window_size , -1):\n",
    "                if x >=0:\n",
    "                    context_words.extend([corpus[x]])\n",
    "\n",
    "            #After the middle target word\n",
    "            after_target_word_index = index_target_word + 1\n",
    "            for x in range(after_target_word_index, after_target_word_index + window_size):\n",
    "                if x < len(corpus):\n",
    "                    context_words.extend([corpus[x]])\n",
    "\n",
    "\n",
    "        trgt_word_vector,ctxt_word_vector = get_one_hot_vectors(target_word,context_words,vocab_size,word_to_index)\n",
    "        training_data.append([trgt_word_vector,ctxt_word_vector])   \n",
    "        \n",
    "        if sample is not None:\n",
    "            training_sample_words.append([target_word,context_words])   \n",
    "        \n",
    "    return training_data,training_sample_words"
   ]
  },
  {
   "cell_type": "code",
   "execution_count": 3,
   "metadata": {},
   "outputs": [],
   "source": [
    "# Ejecución del código\n",
    "\n",
    "fname = 'corpus_grande.txt' #Nombre del archivo\n",
    "C = 2 # Número de palabras de contexto a la derecha y a la izquierda\n",
    "text = get_file_data(fname, stop_word_removal='no')\n",
    "word_to_index,index_to_word,corpus,vocab_size,length_of_corpus = generate_dictinoary_data(text)\n",
    "training_data,training_sample_words = generate_training_data(corpus,C,vocab_size,word_to_index,length_of_corpus,sample=None)"
   ]
  },
  {
   "cell_type": "markdown",
   "metadata": {},
   "source": [
    "# Solución\n",
    "\n",
    "En primer lugar, se entrena la red neuronal para el modelo *word2vec*. Se escoge un valor $n = 300$."
   ]
  },
  {
   "cell_type": "code",
   "execution_count": 4,
   "metadata": {},
   "outputs": [
    {
     "name": "stdout",
     "output_type": "stream",
     "text": [
      "Model accuracy: 0.9920881390571594\n"
     ]
    }
   ],
   "source": [
    "training_data = np.array(training_data)\n",
    "X = training_data[:,1,:]\n",
    "y = training_data[:,0,:]\n",
    "n = 300\n",
    "\n",
    "modelo = models.Sequential()\n",
    "modelo.add(layers.Dense(len(training_data[0][1]), activation='relu'))\n",
    "modelo.add(layers.Dense(n, activation='relu'))\n",
    "modelo.add(layers.Dense(len(training_data[0][0]), activation='softmax'))\n",
    "\n",
    "modelo.compile(loss='categorical_crossentropy', optimizer='adam', metrics=['accuracy'])\n",
    "historial = modelo.fit(X,y,epochs=100,verbose=0)\n",
    "print('Model accuracy:', historial.history['accuracy'][-1])"
   ]
  },
  {
   "cell_type": "markdown",
   "metadata": {},
   "source": [
    "La matriz *word embedding* se crea promediando los pesos de las dos últimas capas de la red neuronal."
   ]
  },
  {
   "cell_type": "code",
   "execution_count": 5,
   "metadata": {},
   "outputs": [
    {
     "name": "stdout",
     "output_type": "stream",
     "text": [
      "Word embedding shape: (1172, 300)\n"
     ]
    }
   ],
   "source": [
    "w1 = modelo.layers[1].get_weights()[0]\n",
    "w2 = modelo.layers[2].get_weights()[0]\n",
    "word_embedding = 0.5*(w1 + w2.T)\n",
    "print('Word embedding shape:', word_embedding.shape)"
   ]
  },
  {
   "cell_type": "markdown",
   "metadata": {},
   "source": [
    "Se identifica la relación entre Colombia, Rusia y España con sus respectivas capitales. Después, Se promedian estas tres diferencias para hallar el vector *d_pais_capital*, el cual permitirá encontrar más capitales, posteriormente."
   ]
  },
  {
   "cell_type": "code",
   "execution_count": 6,
   "metadata": {},
   "outputs": [
    {
     "data": {
      "text/plain": [
       "(300,)"
      ]
     },
     "execution_count": 6,
     "metadata": {},
     "output_type": "execute_result"
    }
   ],
   "source": [
    "d1 = word_embedding[word_to_index['ottawa']] - word_embedding[word_to_index['canada']]\n",
    "d2 = word_embedding[word_to_index['berlin']] - word_embedding[word_to_index['alemania']]\n",
    "d3 = word_embedding[word_to_index['moscu']] - word_embedding[word_to_index['rusia']]\n",
    "d4 = word_embedding[word_to_index['madrid']] - word_embedding[word_to_index['espana']]\n",
    "d_pais_capital = (d1 + d2 + d3 + d4)/4\n",
    "d_pais_capital.shape"
   ]
  },
  {
   "cell_type": "markdown",
   "metadata": {},
   "source": [
    "Para encontrar las capitales faltantes, se suman los vectores correspondientes con *d_pais_capital*. Luego, se hallan las 10 palabras más cercanas a este resultado, empleando la distancia del coseno."
   ]
  },
  {
   "cell_type": "code",
   "execution_count": 7,
   "metadata": {},
   "outputs": [
    {
     "name": "stdout",
     "output_type": "stream",
     "text": [
      "Posibles capitales de colombia: ['colombia', 'tanto', 'unificado', 'planeta', 'per', 'empatado', 'catalina', 'al', 'ecuador', 'madrid']\n",
      "Posibles capitales de venezuela: ['venezuela', 'ottawa', 'reino', 'capita', 'berlin', 'madrid', 'providencia', 'implementado', 'zonas', 'entero']\n"
     ]
    }
   ],
   "source": [
    "pais = 'colombia'\n",
    "capital = word_embedding[word_to_index[pais]] + d_pais_capital\n",
    "distancias_capital = distance.cdist(capital.reshape(1,-1), word_embedding, metric='cosine').ravel()\n",
    "distancias_capital = np.array(list(enumerate(distancias_capital)))\n",
    "distancias_capital = distancias_capital[distancias_capital[:,1].argsort()]\n",
    "indices = distancias_capital[:10, 0]\n",
    "print('Posibles capitales de {}:'.format(pais), [index_to_word[i] for i in indices])\n",
    "\n",
    "pais = 'venezuela'\n",
    "capital = word_embedding[word_to_index[pais]] + d_pais_capital\n",
    "distancias_capital = distance.cdist(capital.reshape(1,-1), word_embedding, metric='cosine').ravel()\n",
    "distancias_capital = np.array(list(enumerate(distancias_capital)))\n",
    "distancias_capital = distancias_capital[distancias_capital[:,1].argsort()]\n",
    "indices = distancias_capital[:10, 0]\n",
    "print('Posibles capitales de {}:'.format(pais), [index_to_word[i] for i in indices])"
   ]
  },
  {
   "cell_type": "markdown",
   "metadata": {},
   "source": [
    "Se grafican las proyecciones tridimensionales de los países y las capitales, usando el algoritmo PCA."
   ]
  },
  {
   "cell_type": "code",
   "execution_count": 61,
   "metadata": {},
   "outputs": [
    {
     "data": {
      "image/png": "[encoded data removed]",
      "text/plain": [
       "<Figure size 720x720 with 1 Axes>"
      ]
     },
     "metadata": {
      "needs_background": "light"
     },
     "output_type": "display_data"
    }
   ],
   "source": [
    "pca = PCA(n_components=3)\n",
    "pca.fit(word_embedding)\n",
    "\n",
    "fig = plt.figure(figsize=(10,10))\n",
    "ax = plt.axes(projection='3d')\n",
    "palabras = ['colombia', 'bogota', 'rusia', 'moscu', 'espana', 'madrid', 'canada', 'ottawa', 'venezuela', 'caracas', 'alemania', 'berlin']\n",
    "zdirs = (None, 'x', 'y', 'z', (1, 1, 0), (1, 1, 1))\n",
    "for p in palabras:\n",
    "    p3d = pca.transform(word_embedding[word_to_index[p]].reshape(1,-1)).ravel()\n",
    "    ax.scatter([0,p3d[0]],[0,p3d[1]],[0,p3d[2]])\n",
    "    ax.plot3D([0,p3d[0]],[0,p3d[1]],[0,p3d[2]], label=p)\n",
    "    ax.text(p3d[0]+0.005,p3d[1]+0.005,p3d[2]+0.005,'%s' %(p),size=10,zorder=2,color='k')\n",
    "plt.legend()\n",
    "plt.title(\" PCA 3 Componentes\")\n",
    "plt.show()"
   ]
  },
  {
   "cell_type": "code",
   "execution_count": 62,
   "metadata": {},
   "outputs": [
    {
     "data": {
      "image/png": "[encoded data removed]",
      "text/plain": [
       "<Figure size 720x720 with 1 Axes>"
      ]
     },
     "metadata": {
      "needs_background": "light"
     },
     "output_type": "display_data"
    }
   ],
   "source": [
    "pca = PCA(n_components=2)\n",
    "pca.fit(word_embedding)\n",
    "\n",
    "fig = plt.figure(figsize=(10,10))\n",
    "palabras = ['colombia', 'bogota', 'rusia', 'moscu', 'espana', 'madrid', 'canada', 'ottawa', 'venezuela', 'caracas', 'alemania', 'berlin']\n",
    "zdirs = (None, 'x', 'y', 'z', (1, 1, 0), (1, 1, 1))\n",
    "for p in palabras:\n",
    "    p3d = pca.transform(word_embedding[word_to_index[p]].reshape(1,-1)).ravel()\n",
    "    plt.scatter([0,p3d[0]],[0,p3d[1]])\n",
    "    plt.plot([0,p3d[0]],[0,p3d[1]], label=p)\n",
    "    plt.text(p3d[0]+0.005,p3d[1]+0.005,s ='%s' %(p),size=10,zorder=1,color='k')\n",
    "plt.legend()\n",
    "plt.title(\" PCA 2 Componentes\")\n",
    "plt.show()"
   ]
  },
  {
   "cell_type": "markdown",
   "metadata": {},
   "source": [
    "De forma similar a lo anterior, se buscan las 10 palabras más cercanas (posibles sinónimos) a 5 palabras seleccionadas del corpus."
   ]
  },
  {
   "cell_type": "code",
   "execution_count": 9,
   "metadata": {},
   "outputs": [
    {
     "name": "stdout",
     "output_type": "stream",
     "text": [
      "Palabras más similares a recursos: ['recursos', 'resistencia', 'primeros', 'tierra', 'gobiernos', 'tribu', 'luxemburgo', 'uno', 'confederacion', 'aspectos']\n",
      "Palabras más similares a culturas: ['culturas', 'culminacion', 'federacion', 'alhucemas', 'refleja', 'franco', 'prusiana', 'mayoria', 'denominar', 'sufrio']\n",
      "Palabras más similares a pais: ['pais', 'esequibo', 'primer', 'frances', 'la', 'alemanes', 'xix', 'banco', 'militares', 'climatico']\n",
      "Palabras más similares a republica: ['republica', 'uno', 'especies', 'dominante', 'descontrolada', 'explotacion', 'altitud', 'habitantes', 'allmanis', 'georgia']\n",
      "Palabras más similares a europa: ['europa', 'llivia', 'occidental', 'pesar', 'reconquista', 'consejo', 'al', 'asociaciones', 'grupos', 'quimbayas']\n"
     ]
    }
   ],
   "source": [
    "palabras = ['recursos', 'culturas', 'pais', 'republica', 'europa']\n",
    "for p in palabras:\n",
    "    palabra = word_embedding[word_to_index[p]]\n",
    "    palabra = distance.cdist(palabra.reshape(1,-1), word_embedding, metric='cosine').ravel()\n",
    "    palabra = np.array(list(enumerate(palabra)))\n",
    "    palabra = palabra[palabra[:,1].argsort()]\n",
    "    indices = palabra[:10, 0]\n",
    "    print('Palabras más similares a {}:'.format(p),[index_to_word[i] for i in indices])"
   ]
  },
  {
   "cell_type": "markdown",
   "metadata": {},
   "source": [
    "Machine Translation:\n",
    "\n",
    "En primer lugar, se halla la representación de las palabras en español y en inglés:"
   ]
  },
  {
   "cell_type": "code",
   "execution_count": 10,
   "metadata": {},
   "outputs": [],
   "source": [
    "fname = 'corpus_ingles.txt' #Nombre del archivo\n",
    "C = 2 # Número de palabras de contexto a la derecha y a la izquierda\n",
    "text = get_file_data(fname, stop_word_removal='no')\n",
    "word_to_index_ingles,index_to_word_ingles,corpus,vocab_size,length_of_corpus = generate_dictinoary_data(text)\n",
    "training_data_ingles,training_sample_words_ingles = generate_training_data(corpus,C,vocab_size,word_to_index_ingles,length_of_corpus,sample=None)\n",
    "\n",
    "fname = 'corpus_espanol.txt' #Nombre del archivo\n",
    "C = 2 # Número de palabras de contexto a la derecha y a la izquierda\n",
    "text = get_file_data(fname, stop_word_removal='no')\n",
    "word_to_index_espanol,index_to_word_espanol,corpus,vocab_size,length_of_corpus = generate_dictinoary_data(text)\n",
    "training_data_espanol,training_sample_words_espanol = generate_training_data(corpus,C,vocab_size,word_to_index_espanol,length_of_corpus,sample=None)"
   ]
  },
  {
   "cell_type": "code",
   "execution_count": 11,
   "metadata": {},
   "outputs": [
    {
     "name": "stdout",
     "output_type": "stream",
     "text": [
      "Model accuracy: 0.9914772510528564\n"
     ]
    }
   ],
   "source": [
    "training_data_espanol = np.array(training_data_espanol)\n",
    "X = training_data_espanol[:,1,:]\n",
    "y = training_data_espanol[:,0,:]\n",
    "n = 50\n",
    "\n",
    "modelo_espanol = models.Sequential()\n",
    "modelo_espanol.add(layers.Dense(len(training_data_espanol[0][1]), activation='relu'))\n",
    "modelo_espanol.add(layers.Dense(n, activation='relu'))\n",
    "modelo_espanol.add(layers.Dense(len(training_data_espanol[0][0]), activation='softmax'))\n",
    "\n",
    "modelo_espanol.compile(loss='categorical_crossentropy', optimizer='adam', metrics=['accuracy'])\n",
    "historial = modelo_espanol.fit(X,y,epochs=100,verbose=0)\n",
    "print('Model accuracy:', historial.history['accuracy'][-1])"
   ]
  },
  {
   "cell_type": "code",
   "execution_count": 12,
   "metadata": {},
   "outputs": [
    {
     "name": "stdout",
     "output_type": "stream",
     "text": [
      "Model accuracy: 1.0\n"
     ]
    }
   ],
   "source": [
    "training_data_ingles = np.array(training_data_ingles)\n",
    "X = training_data_ingles[:,1,:]\n",
    "y = training_data_ingles[:,0,:]\n",
    "n = 50\n",
    "\n",
    "modelo_ingles = models.Sequential()\n",
    "modelo_ingles.add(layers.Dense(len(training_data_ingles[0][1]), activation='relu'))\n",
    "modelo_ingles.add(layers.Dense(n, activation='relu'))\n",
    "modelo_ingles.add(layers.Dense(len(training_data_ingles[0][0]), activation='softmax'))\n",
    "\n",
    "modelo_ingles.compile(loss='categorical_crossentropy', optimizer='adam', metrics=['accuracy'])\n",
    "historial = modelo_ingles.fit(X,y,epochs=100,verbose=0)\n",
    "print('Model accuracy:', historial.history['accuracy'][-1])"
   ]
  },
  {
   "cell_type": "code",
   "execution_count": 13,
   "metadata": {},
   "outputs": [
    {
     "name": "stdout",
     "output_type": "stream",
     "text": [
      "Word embedding shape (español): (334, 50)\n",
      "Word embedding shape (ingles): (201, 50)\n"
     ]
    }
   ],
   "source": [
    "w1 = modelo_espanol.layers[1].get_weights()[0]\n",
    "w2 = modelo_espanol.layers[2].get_weights()[0]\n",
    "word_embedding_espanol = 0.5*(w1 + w2.T)\n",
    "print('Word embedding shape (español):', word_embedding_espanol.shape)\n",
    "\n",
    "w1 = modelo_ingles.layers[1].get_weights()[0]\n",
    "w2 = modelo_ingles.layers[2].get_weights()[0]\n",
    "word_embedding_ingles = 0.5*(w1 + w2.T)\n",
    "print('Word embedding shape (ingles):', word_embedding_ingles.shape)"
   ]
  },
  {
   "cell_type": "markdown",
   "metadata": {},
   "source": [
    "A continuación, se crean las matrices $X$ y $Y$ para plantear el problema de la transformación. Estas serán matrices de tamaño $50 \\times 50$."
   ]
  },
  {
   "cell_type": "code",
   "execution_count": 14,
   "metadata": {},
   "outputs": [
    {
     "name": "stdout",
     "output_type": "stream",
     "text": [
      "Dimensión de la matriz X: (51, 50)\n",
      "Dimensión de la matriz Y: (51, 50)\n"
     ]
    }
   ],
   "source": [
    "Matriz_espanol = []\n",
    "Matriz_ingles = []\n",
    "\n",
    "Matriz_espanol.append(word_embedding_espanol[word_to_index_espanol['pais']])\n",
    "Matriz_ingles.append(word_embedding_ingles[word_to_index_ingles['country']])\n",
    "\n",
    "Matriz_espanol.append(word_embedding_espanol[word_to_index_espanol['oficialmente']])\n",
    "Matriz_ingles.append(word_embedding_ingles[word_to_index_ingles['officially']])\n",
    "\n",
    "Matriz_espanol.append(word_embedding_espanol[word_to_index_espanol['sur']])\n",
    "Matriz_ingles.append(word_embedding_ingles[word_to_index_ingles['south']])\n",
    "\n",
    "Matriz_espanol.append(word_embedding_espanol[word_to_index_espanol['nacion']])\n",
    "Matriz_ingles.append(word_embedding_ingles[word_to_index_ingles['nation']])\n",
    "                     \n",
    "Matriz_espanol.append(word_embedding_espanol[word_to_index_espanol['territorio']])\n",
    "Matriz_ingles.append(word_embedding_ingles[word_to_index_ingles['territory']])\n",
    "                     \n",
    "Matriz_espanol.append(word_embedding_espanol[word_to_index_espanol['america']])\n",
    "Matriz_ingles.append(word_embedding_ingles[word_to_index_ingles['america']])\n",
    "\n",
    "Matriz_espanol.append(word_embedding_espanol[word_to_index_espanol['politica']])\n",
    "Matriz_ingles.append(word_embedding_ingles[word_to_index_ingles['political']])\n",
    "                     \n",
    "Matriz_espanol.append(word_embedding_espanol[word_to_index_espanol['conflicto']])\n",
    "Matriz_ingles.append(word_embedding_ingles[word_to_index_ingles['conflict']])        \n",
    "\n",
    "Matriz_espanol.append(word_embedding_espanol[word_to_index_espanol['conflicto']])\n",
    "Matriz_ingles.append(word_embedding_ingles[word_to_index_ingles['conflict']])   \n",
    "\n",
    "Matriz_espanol.append(word_embedding_espanol[word_to_index_espanol['europa']])\n",
    "Matriz_ingles.append(word_embedding_ingles[word_to_index_ingles['europe']])  \n",
    "\n",
    "# 10\n",
    "\n",
    "Matriz_espanol.append(word_embedding_espanol[word_to_index_espanol['europa']])\n",
    "Matriz_ingles.append(word_embedding_ingles[word_to_index_ingles['europe']]) \n",
    "\n",
    "Matriz_espanol.append(word_embedding_espanol[word_to_index_espanol['mar']])\n",
    "Matriz_ingles.append(word_embedding_ingles[word_to_index_ingles['sea']]) \n",
    "\n",
    "Matriz_espanol.append(word_embedding_espanol[word_to_index_espanol['caribe']])\n",
    "Matriz_ingles.append(word_embedding_ingles[word_to_index_ingles['caribbean']]) \n",
    "\n",
    "Matriz_espanol.append(word_embedding_espanol[word_to_index_espanol['departamentos']])\n",
    "Matriz_ingles.append(word_embedding_ingles[word_to_index_ingles['departments']]) \n",
    "\n",
    "Matriz_espanol.append(word_embedding_espanol[word_to_index_espanol['bogota']])\n",
    "Matriz_ingles.append(word_embedding_ingles[word_to_index_ingles['bogota']]) \n",
    "\n",
    "Matriz_espanol.append(word_embedding_espanol[word_to_index_espanol['nueva']])\n",
    "Matriz_ingles.append(word_embedding_ingles[word_to_index_ingles['new']]) \n",
    "\n",
    "Matriz_espanol.append(word_embedding_espanol[word_to_index_espanol['nueva']])\n",
    "Matriz_ingles.append(word_embedding_ingles[word_to_index_ingles['new']]) \n",
    "\n",
    "Matriz_espanol.append(word_embedding_espanol[word_to_index_espanol['capital']])\n",
    "Matriz_ingles.append(word_embedding_ingles[word_to_index_ingles['capital']]) \n",
    "\n",
    "Matriz_espanol.append(word_embedding_espanol[word_to_index_espanol['distrito']])\n",
    "Matriz_ingles.append(word_embedding_ingles[word_to_index_ingles['district']]) \n",
    "\n",
    "Matriz_espanol.append(word_embedding_espanol[word_to_index_espanol['habitantes']])\n",
    "Matriz_ingles.append(word_embedding_ingles[word_to_index_ingles['inhabitants']]) \n",
    "\n",
    "Matriz_espanol.append(word_embedding_espanol[word_to_index_espanol['ecuador']])\n",
    "Matriz_ingles.append(word_embedding_ingles[word_to_index_ingles['ecuador']]) \n",
    "\n",
    "#20\n",
    "\n",
    "Matriz_espanol.append(word_embedding_espanol[word_to_index_espanol['panama']])\n",
    "Matriz_ingles.append(word_embedding_ingles[word_to_index_ingles['panama']]) \n",
    "\n",
    "Matriz_espanol.append(word_embedding_espanol[word_to_index_espanol['noroccidente']])\n",
    "Matriz_ingles.append(word_embedding_ingles[word_to_index_ingles['northwest']]) \n",
    "\n",
    "Matriz_espanol.append(word_embedding_espanol[word_to_index_espanol['noroccidente']])\n",
    "Matriz_ingles.append(word_embedding_ingles[word_to_index_ingles['northwest']])\n",
    "\n",
    "Matriz_espanol.append(word_embedding_espanol[word_to_index_espanol['republica']])\n",
    "Matriz_ingles.append(word_embedding_ingles[word_to_index_ingles['republic']])\n",
    "\n",
    "Matriz_espanol.append(word_embedding_espanol[word_to_index_espanol['diversas']])\n",
    "Matriz_ingles.append(word_embedding_ingles[word_to_index_ingles['diverse']])\n",
    "\n",
    "Matriz_espanol.append(word_embedding_espanol[word_to_index_espanol['mundo']])\n",
    "Matriz_ingles.append(word_embedding_ingles[word_to_index_ingles['world']])\n",
    "\n",
    "Matriz_espanol.append(word_embedding_espanol[word_to_index_espanol['mundo']])\n",
    "Matriz_ingles.append(word_embedding_ingles[word_to_index_ingles['world']])\n",
    "\n",
    "Matriz_espanol.append(word_embedding_espanol[word_to_index_espanol['cultural']])\n",
    "Matriz_ingles.append(word_embedding_ingles[word_to_index_ingles['cultural']])\n",
    "\n",
    "Matriz_espanol.append(word_embedding_espanol[word_to_index_espanol['cultural']])\n",
    "Matriz_ingles.append(word_embedding_ingles[word_to_index_ingles['cultural']])\n",
    "\n",
    "Matriz_espanol.append(word_embedding_espanol[word_to_index_espanol['obra']])\n",
    "Matriz_ingles.append(word_embedding_ingles[word_to_index_ingles['labor']])\n",
    "\n",
    "# 30\n",
    "\n",
    "Matriz_espanol.append(word_embedding_espanol[word_to_index_espanol['africana']])\n",
    "Matriz_ingles.append(word_embedding_ingles[word_to_index_ingles['african']])\n",
    "\n",
    "Matriz_espanol.append(word_embedding_espanol[word_to_index_espanol['colonizacion']])\n",
    "Matriz_ingles.append(word_embedding_ingles[word_to_index_ingles['settlement']])\n",
    "\n",
    "Matriz_espanol.append(word_embedding_espanol[word_to_index_espanol['colonizacion']])\n",
    "Matriz_ingles.append(word_embedding_ingles[word_to_index_ingles['settlement']])\n",
    "\n",
    "Matriz_espanol.append(word_embedding_espanol[word_to_index_espanol['colonizacion']])\n",
    "Matriz_ingles.append(word_embedding_ingles[word_to_index_ingles['settlement']])\n",
    "\n",
    "Matriz_espanol.append(word_embedding_espanol[word_to_index_espanol['colonizacion']])\n",
    "Matriz_ingles.append(word_embedding_ingles[word_to_index_ingles['settlement']])\n",
    "\n",
    "Matriz_espanol.append(word_embedding_espanol[word_to_index_espanol['muiscas']])\n",
    "Matriz_ingles.append(word_embedding_ingles[word_to_index_ingles['muisca']])\n",
    "\n",
    "Matriz_espanol.append(word_embedding_espanol[word_to_index_espanol['quimbayas']])\n",
    "Matriz_ingles.append(word_embedding_ingles[word_to_index_ingles['quimbaya']])\n",
    "\n",
    "Matriz_espanol.append(word_embedding_espanol[word_to_index_espanol['taironas']])\n",
    "Matriz_ingles.append(word_embedding_ingles[word_to_index_ingles['tairona']])\n",
    "\n",
    "Matriz_espanol.append(word_embedding_espanol[word_to_index_espanol['region']])\n",
    "Matriz_ingles.append(word_embedding_ingles[word_to_index_ingles['region']])\n",
    "\n",
    "Matriz_espanol.append(word_embedding_espanol[word_to_index_espanol['granada']])\n",
    "Matriz_ingles.append(word_embedding_ingles[word_to_index_ingles['granada']])\n",
    "\n",
    "# 40\n",
    "\n",
    "Matriz_espanol.append(word_embedding_espanol[word_to_index_espanol['armado']])\n",
    "Matriz_ingles.append(word_embedding_ingles[word_to_index_ingles['armed']])\n",
    "\n",
    "Matriz_espanol.append(word_embedding_espanol[word_to_index_espanol['economia']])\n",
    "Matriz_ingles.append(word_embedding_ingles[word_to_index_ingles['economy']])\n",
    "\n",
    "Matriz_espanol.append(word_embedding_espanol[word_to_index_espanol['economia']])\n",
    "Matriz_ingles.append(word_embedding_ingles[word_to_index_ingles['economy']])\n",
    "\n",
    "Matriz_espanol.append(word_embedding_espanol[word_to_index_espanol['islas']])\n",
    "Matriz_ingles.append(word_embedding_ingles[word_to_index_ingles['islands']])\n",
    "\n",
    "Matriz_espanol.append(word_embedding_espanol[word_to_index_espanol['islas']])\n",
    "Matriz_ingles.append(word_embedding_ingles[word_to_index_ingles['islands']])\n",
    "\n",
    "Matriz_espanol.append(word_embedding_espanol[word_to_index_espanol['atlantico']])\n",
    "Matriz_ingles.append(word_embedding_ingles[word_to_index_ingles['atlantic']])\n",
    "\n",
    "Matriz_espanol.append(word_embedding_espanol[word_to_index_espanol['pacifico']])\n",
    "Matriz_ingles.append(word_embedding_ingles[word_to_index_ingles['pacific']])\n",
    "\n",
    "Matriz_espanol.append(word_embedding_espanol[word_to_index_espanol['internacionales']])\n",
    "Matriz_ingles.append(word_embedding_ingles[word_to_index_ingles['international']])\n",
    "\n",
    "Matriz_espanol.append(word_embedding_espanol[word_to_index_espanol['internacionales']])\n",
    "Matriz_ingles.append(word_embedding_ingles[word_to_index_ingles['international']])\n",
    "\n",
    "Matriz_espanol.append(word_embedding_espanol[word_to_index_espanol['global']])\n",
    "Matriz_ingles.append(word_embedding_ingles[word_to_index_ingles['global']])\n",
    "\n",
    "X = np.array(Matriz_espanol)\n",
    "Y = np.array(Matriz_ingles)\n",
    "\n",
    "print('Dimensión de la matriz X:', X.shape)\n",
    "print('Dimensión de la matriz Y:', Y.shape)"
   ]
  },
  {
   "cell_type": "markdown",
   "metadata": {},
   "source": [
    "Con esto, se plantea la ecuación $XR = Y$, para encontrar la matriz de traducción $R = X^{-1}Y$."
   ]
  },
  {
   "cell_type": "code",
   "execution_count": 15,
   "metadata": {},
   "outputs": [
    {
     "name": "stdout",
     "output_type": "stream",
     "text": [
      "Dimensiones de R: (50, 50)\n"
     ]
    }
   ],
   "source": [
    "R = np.linalg.pinv(X) @ Y\n",
    "print('Dimensiones de R:', R.shape)"
   ]
  },
  {
   "cell_type": "markdown",
   "metadata": {},
   "source": [
    "Así, se puede hallar la traducción de las palabras en español:"
   ]
  },
  {
   "cell_type": "code",
   "execution_count": 16,
   "metadata": {},
   "outputs": [
    {
     "name": "stdout",
     "output_type": "stream",
     "text": [
      "Posibles traducciones de republica: ['republic', 'law', 'rule', 'now', 'before']\n",
      "Posibles traducciones de soberano: ['african', 'europe', 'growth', 'security', 'which']\n",
      "Posibles traducciones de habitantes: ['inhabitants', 'highest', 'emerging', 'bce', 'co']\n",
      "Posibles traducciones de distancia: ['middle', 'new', 'district', 'granada', 'community']\n",
      "Posibles traducciones de paises: ['conflict', 'has', 'rich', 'armed', 'confederation']\n",
      "Posibles traducciones de independencia: ['urban', 'has', 'confederation', 'northwest', 'capital']\n"
     ]
    }
   ],
   "source": [
    "p = 'republica'\n",
    "palabra = word_embedding_espanol[word_to_index_espanol[p]]\n",
    "traduccion = palabra @ R\n",
    "distancias_traduccion = distance.cdist(traduccion.reshape(1,-1), word_embedding_ingles, metric='cosine').ravel()\n",
    "distancias_traduccion = np.array(list(enumerate(distancias_traduccion)))\n",
    "distancias_traduccion = distancias_traduccion[distancias_traduccion[:,1].argsort()]\n",
    "indices = distancias_traduccion[:5, 0]\n",
    "print('Posibles traducciones de {}:'.format(p), [index_to_word_ingles[i] for i in indices])\n",
    "\n",
    "p = 'soberano'\n",
    "palabra = word_embedding_espanol[word_to_index_espanol[p]]\n",
    "traduccion = palabra @ R\n",
    "distancias_traduccion = distance.cdist(traduccion.reshape(1,-1), word_embedding_ingles, metric='cosine').ravel()\n",
    "distancias_traduccion = np.array(list(enumerate(distancias_traduccion)))\n",
    "distancias_traduccion = distancias_traduccion[distancias_traduccion[:,1].argsort()]\n",
    "indices = distancias_traduccion[:5, 0]\n",
    "print('Posibles traducciones de {}:'.format(p), [index_to_word_ingles[i] for i in indices])\n",
    "\n",
    "p = 'habitantes'\n",
    "palabra = word_embedding_espanol[word_to_index_espanol[p]]\n",
    "traduccion = palabra @ R\n",
    "distancias_traduccion = distance.cdist(traduccion.reshape(1,-1), word_embedding_ingles, metric='cosine').ravel()\n",
    "distancias_traduccion = np.array(list(enumerate(distancias_traduccion)))\n",
    "distancias_traduccion = distancias_traduccion[distancias_traduccion[:,1].argsort()]\n",
    "indices = distancias_traduccion[:5, 0]\n",
    "print('Posibles traducciones de {}:'.format(p), [index_to_word_ingles[i] for i in indices])\n",
    "\n",
    "p = 'distancia'\n",
    "palabra = word_embedding_espanol[word_to_index_espanol[p]]\n",
    "traduccion = palabra @ R\n",
    "distancias_traduccion = distance.cdist(traduccion.reshape(1,-1), word_embedding_ingles, metric='cosine').ravel()\n",
    "distancias_traduccion = np.array(list(enumerate(distancias_traduccion)))\n",
    "distancias_traduccion = distancias_traduccion[distancias_traduccion[:,1].argsort()]\n",
    "indices = distancias_traduccion[:5, 0]\n",
    "print('Posibles traducciones de {}:'.format(p), [index_to_word_ingles[i] for i in indices])\n",
    "\n",
    "p = 'paises'\n",
    "palabra = word_embedding_espanol[word_to_index_espanol[p]]\n",
    "traduccion = palabra @ R\n",
    "distancias_traduccion = distance.cdist(traduccion.reshape(1,-1), word_embedding_ingles, metric='cosine').ravel()\n",
    "distancias_traduccion = np.array(list(enumerate(distancias_traduccion)))\n",
    "distancias_traduccion = distancias_traduccion[distancias_traduccion[:,1].argsort()]\n",
    "indices = distancias_traduccion[:5, 0]\n",
    "print('Posibles traducciones de {}:'.format(p), [index_to_word_ingles[i] for i in indices])\n",
    "\n",
    "p = 'independencia'\n",
    "palabra = word_embedding_espanol[word_to_index_espanol[p]]\n",
    "traduccion = palabra @ R\n",
    "distancias_traduccion = distance.cdist(traduccion.reshape(1,-1), word_embedding_ingles, metric='cosine').ravel()\n",
    "distancias_traduccion = np.array(list(enumerate(distancias_traduccion)))\n",
    "distancias_traduccion = distancias_traduccion[distancias_traduccion[:,1].argsort()]\n",
    "indices = distancias_traduccion[:5, 0]\n",
    "print('Posibles traducciones de {}:'.format(p), [index_to_word_ingles[i] for i in indices])"
   ]
  },
  {
   "cell_type": "markdown",
   "metadata": {},
   "source": [
    "## Modificando $m$"
   ]
  },
  {
   "cell_type": "code",
   "execution_count": 17,
   "metadata": {},
   "outputs": [
    {
     "name": "stdout",
     "output_type": "stream",
     "text": [
      "Model accuracy: 0.9928977489471436\n"
     ]
    }
   ],
   "source": [
    "training_data_espanol = np.array(training_data_espanol)\n",
    "X = training_data_espanol[:,1,:]\n",
    "y = training_data_espanol[:,0,:]\n",
    "n = 30\n",
    "\n",
    "modelo_espanol = models.Sequential()\n",
    "modelo_espanol.add(layers.Dense(len(training_data_espanol[0][1]), activation='relu'))\n",
    "modelo_espanol.add(layers.Dense(n, activation='relu'))\n",
    "modelo_espanol.add(layers.Dense(len(training_data_espanol[0][0]), activation='softmax'))\n",
    "\n",
    "modelo_espanol.compile(loss='categorical_crossentropy', optimizer='adam', metrics=['accuracy'])\n",
    "historial = modelo_espanol.fit(X,y,epochs=100,verbose=0)\n",
    "print('Model accuracy:', historial.history['accuracy'][-1])"
   ]
  },
  {
   "cell_type": "code",
   "execution_count": 18,
   "metadata": {},
   "outputs": [
    {
     "name": "stdout",
     "output_type": "stream",
     "text": [
      "Model accuracy: 1.0\n"
     ]
    }
   ],
   "source": [
    "training_data_ingles = np.array(training_data_ingles)\n",
    "X = training_data_ingles[:,1,:]\n",
    "y = training_data_ingles[:,0,:]\n",
    "n = 30\n",
    "\n",
    "modelo_ingles = models.Sequential()\n",
    "modelo_ingles.add(layers.Dense(len(training_data_ingles[0][1]), activation='relu'))\n",
    "modelo_ingles.add(layers.Dense(n, activation='relu'))\n",
    "modelo_ingles.add(layers.Dense(len(training_data_ingles[0][0]), activation='softmax'))\n",
    "\n",
    "modelo_ingles.compile(loss='categorical_crossentropy', optimizer='adam', metrics=['accuracy'])\n",
    "historial = modelo_ingles.fit(X,y,epochs=100,verbose=0)\n",
    "print('Model accuracy:', historial.history['accuracy'][-1])"
   ]
  },
  {
   "cell_type": "code",
   "execution_count": 19,
   "metadata": {},
   "outputs": [
    {
     "name": "stdout",
     "output_type": "stream",
     "text": [
      "Word embedding shape (español): (334, 30)\n",
      "Word embedding shape (ingles): (201, 30)\n"
     ]
    }
   ],
   "source": [
    "w1 = modelo_espanol.layers[1].get_weights()[0]\n",
    "w2 = modelo_espanol.layers[2].get_weights()[0]\n",
    "word_embedding_espanol = 0.5*(w1 + w2.T)\n",
    "print('Word embedding shape (español):', word_embedding_espanol.shape)\n",
    "\n",
    "w1 = modelo_ingles.layers[1].get_weights()[0]\n",
    "w2 = modelo_ingles.layers[2].get_weights()[0]\n",
    "word_embedding_ingles = 0.5*(w1 + w2.T)\n",
    "print('Word embedding shape (ingles):', word_embedding_ingles.shape)"
   ]
  },
  {
   "cell_type": "code",
   "execution_count": 21,
   "metadata": {},
   "outputs": [
    {
     "name": "stdout",
     "output_type": "stream",
     "text": [
      "Dimensión de la matriz X: (51, 30)\n",
      "Dimensión de la matriz Y: (51, 30)\n"
     ]
    }
   ],
   "source": [
    "Matriz_espanol = []\n",
    "Matriz_ingles = []\n",
    "\n",
    "Matriz_espanol.append(word_embedding_espanol[word_to_index_espanol['pais']])\n",
    "Matriz_ingles.append(word_embedding_ingles[word_to_index_ingles['country']])\n",
    "\n",
    "Matriz_espanol.append(word_embedding_espanol[word_to_index_espanol['oficialmente']])\n",
    "Matriz_ingles.append(word_embedding_ingles[word_to_index_ingles['officially']])\n",
    "\n",
    "Matriz_espanol.append(word_embedding_espanol[word_to_index_espanol['sur']])\n",
    "Matriz_ingles.append(word_embedding_ingles[word_to_index_ingles['south']])\n",
    "\n",
    "Matriz_espanol.append(word_embedding_espanol[word_to_index_espanol['nacion']])\n",
    "Matriz_ingles.append(word_embedding_ingles[word_to_index_ingles['nation']])\n",
    "                     \n",
    "Matriz_espanol.append(word_embedding_espanol[word_to_index_espanol['territorio']])\n",
    "Matriz_ingles.append(word_embedding_ingles[word_to_index_ingles['territory']])\n",
    "                     \n",
    "Matriz_espanol.append(word_embedding_espanol[word_to_index_espanol['america']])\n",
    "Matriz_ingles.append(word_embedding_ingles[word_to_index_ingles['america']])\n",
    "\n",
    "Matriz_espanol.append(word_embedding_espanol[word_to_index_espanol['politica']])\n",
    "Matriz_ingles.append(word_embedding_ingles[word_to_index_ingles['political']])\n",
    "                     \n",
    "Matriz_espanol.append(word_embedding_espanol[word_to_index_espanol['conflicto']])\n",
    "Matriz_ingles.append(word_embedding_ingles[word_to_index_ingles['conflict']])        \n",
    "\n",
    "Matriz_espanol.append(word_embedding_espanol[word_to_index_espanol['conflicto']])\n",
    "Matriz_ingles.append(word_embedding_ingles[word_to_index_ingles['conflict']])   \n",
    "\n",
    "Matriz_espanol.append(word_embedding_espanol[word_to_index_espanol['europa']])\n",
    "Matriz_ingles.append(word_embedding_ingles[word_to_index_ingles['europe']])  \n",
    "\n",
    "# 10\n",
    "\n",
    "Matriz_espanol.append(word_embedding_espanol[word_to_index_espanol['europa']])\n",
    "Matriz_ingles.append(word_embedding_ingles[word_to_index_ingles['europe']]) \n",
    "\n",
    "Matriz_espanol.append(word_embedding_espanol[word_to_index_espanol['mar']])\n",
    "Matriz_ingles.append(word_embedding_ingles[word_to_index_ingles['sea']]) \n",
    "\n",
    "Matriz_espanol.append(word_embedding_espanol[word_to_index_espanol['caribe']])\n",
    "Matriz_ingles.append(word_embedding_ingles[word_to_index_ingles['caribbean']]) \n",
    "\n",
    "Matriz_espanol.append(word_embedding_espanol[word_to_index_espanol['departamentos']])\n",
    "Matriz_ingles.append(word_embedding_ingles[word_to_index_ingles['departments']]) \n",
    "\n",
    "Matriz_espanol.append(word_embedding_espanol[word_to_index_espanol['bogota']])\n",
    "Matriz_ingles.append(word_embedding_ingles[word_to_index_ingles['bogota']]) \n",
    "\n",
    "Matriz_espanol.append(word_embedding_espanol[word_to_index_espanol['nueva']])\n",
    "Matriz_ingles.append(word_embedding_ingles[word_to_index_ingles['new']]) \n",
    "\n",
    "Matriz_espanol.append(word_embedding_espanol[word_to_index_espanol['nueva']])\n",
    "Matriz_ingles.append(word_embedding_ingles[word_to_index_ingles['new']]) \n",
    "\n",
    "Matriz_espanol.append(word_embedding_espanol[word_to_index_espanol['capital']])\n",
    "Matriz_ingles.append(word_embedding_ingles[word_to_index_ingles['capital']]) \n",
    "\n",
    "Matriz_espanol.append(word_embedding_espanol[word_to_index_espanol['distrito']])\n",
    "Matriz_ingles.append(word_embedding_ingles[word_to_index_ingles['district']]) \n",
    "\n",
    "Matriz_espanol.append(word_embedding_espanol[word_to_index_espanol['habitantes']])\n",
    "Matriz_ingles.append(word_embedding_ingles[word_to_index_ingles['inhabitants']]) \n",
    "\n",
    "Matriz_espanol.append(word_embedding_espanol[word_to_index_espanol['ecuador']])\n",
    "Matriz_ingles.append(word_embedding_ingles[word_to_index_ingles['ecuador']]) \n",
    "\n",
    "#20\n",
    "\n",
    "Matriz_espanol.append(word_embedding_espanol[word_to_index_espanol['panama']])\n",
    "Matriz_ingles.append(word_embedding_ingles[word_to_index_ingles['panama']]) \n",
    "\n",
    "Matriz_espanol.append(word_embedding_espanol[word_to_index_espanol['noroccidente']])\n",
    "Matriz_ingles.append(word_embedding_ingles[word_to_index_ingles['northwest']]) \n",
    "\n",
    "Matriz_espanol.append(word_embedding_espanol[word_to_index_espanol['noroccidente']])\n",
    "Matriz_ingles.append(word_embedding_ingles[word_to_index_ingles['northwest']])\n",
    "\n",
    "Matriz_espanol.append(word_embedding_espanol[word_to_index_espanol['republica']])\n",
    "Matriz_ingles.append(word_embedding_ingles[word_to_index_ingles['republic']])\n",
    "\n",
    "Matriz_espanol.append(word_embedding_espanol[word_to_index_espanol['diversas']])\n",
    "Matriz_ingles.append(word_embedding_ingles[word_to_index_ingles['diverse']])\n",
    "\n",
    "Matriz_espanol.append(word_embedding_espanol[word_to_index_espanol['mundo']])\n",
    "Matriz_ingles.append(word_embedding_ingles[word_to_index_ingles['world']])\n",
    "\n",
    "Matriz_espanol.append(word_embedding_espanol[word_to_index_espanol['mundo']])\n",
    "Matriz_ingles.append(word_embedding_ingles[word_to_index_ingles['world']])\n",
    "\n",
    "Matriz_espanol.append(word_embedding_espanol[word_to_index_espanol['cultural']])\n",
    "Matriz_ingles.append(word_embedding_ingles[word_to_index_ingles['cultural']])\n",
    "\n",
    "Matriz_espanol.append(word_embedding_espanol[word_to_index_espanol['cultural']])\n",
    "Matriz_ingles.append(word_embedding_ingles[word_to_index_ingles['cultural']])\n",
    "\n",
    "Matriz_espanol.append(word_embedding_espanol[word_to_index_espanol['obra']])\n",
    "Matriz_ingles.append(word_embedding_ingles[word_to_index_ingles['labor']])\n",
    "\n",
    "# 30\n",
    "\n",
    "Matriz_espanol.append(word_embedding_espanol[word_to_index_espanol['africana']])\n",
    "Matriz_ingles.append(word_embedding_ingles[word_to_index_ingles['african']])\n",
    "\n",
    "Matriz_espanol.append(word_embedding_espanol[word_to_index_espanol['colonizacion']])\n",
    "Matriz_ingles.append(word_embedding_ingles[word_to_index_ingles['settlement']])\n",
    "\n",
    "Matriz_espanol.append(word_embedding_espanol[word_to_index_espanol['colonizacion']])\n",
    "Matriz_ingles.append(word_embedding_ingles[word_to_index_ingles['settlement']])\n",
    "\n",
    "Matriz_espanol.append(word_embedding_espanol[word_to_index_espanol['colonizacion']])\n",
    "Matriz_ingles.append(word_embedding_ingles[word_to_index_ingles['settlement']])\n",
    "\n",
    "Matriz_espanol.append(word_embedding_espanol[word_to_index_espanol['colonizacion']])\n",
    "Matriz_ingles.append(word_embedding_ingles[word_to_index_ingles['settlement']])\n",
    "\n",
    "Matriz_espanol.append(word_embedding_espanol[word_to_index_espanol['muiscas']])\n",
    "Matriz_ingles.append(word_embedding_ingles[word_to_index_ingles['muisca']])\n",
    "\n",
    "Matriz_espanol.append(word_embedding_espanol[word_to_index_espanol['quimbayas']])\n",
    "Matriz_ingles.append(word_embedding_ingles[word_to_index_ingles['quimbaya']])\n",
    "\n",
    "Matriz_espanol.append(word_embedding_espanol[word_to_index_espanol['taironas']])\n",
    "Matriz_ingles.append(word_embedding_ingles[word_to_index_ingles['tairona']])\n",
    "\n",
    "Matriz_espanol.append(word_embedding_espanol[word_to_index_espanol['region']])\n",
    "Matriz_ingles.append(word_embedding_ingles[word_to_index_ingles['region']])\n",
    "\n",
    "Matriz_espanol.append(word_embedding_espanol[word_to_index_espanol['granada']])\n",
    "Matriz_ingles.append(word_embedding_ingles[word_to_index_ingles['granada']])\n",
    "\n",
    "# 40\n",
    "\n",
    "Matriz_espanol.append(word_embedding_espanol[word_to_index_espanol['armado']])\n",
    "Matriz_ingles.append(word_embedding_ingles[word_to_index_ingles['armed']])\n",
    "\n",
    "Matriz_espanol.append(word_embedding_espanol[word_to_index_espanol['economia']])\n",
    "Matriz_ingles.append(word_embedding_ingles[word_to_index_ingles['economy']])\n",
    "\n",
    "Matriz_espanol.append(word_embedding_espanol[word_to_index_espanol['economia']])\n",
    "Matriz_ingles.append(word_embedding_ingles[word_to_index_ingles['economy']])\n",
    "\n",
    "Matriz_espanol.append(word_embedding_espanol[word_to_index_espanol['islas']])\n",
    "Matriz_ingles.append(word_embedding_ingles[word_to_index_ingles['islands']])\n",
    "\n",
    "Matriz_espanol.append(word_embedding_espanol[word_to_index_espanol['islas']])\n",
    "Matriz_ingles.append(word_embedding_ingles[word_to_index_ingles['islands']])\n",
    "\n",
    "Matriz_espanol.append(word_embedding_espanol[word_to_index_espanol['atlantico']])\n",
    "Matriz_ingles.append(word_embedding_ingles[word_to_index_ingles['atlantic']])\n",
    "\n",
    "Matriz_espanol.append(word_embedding_espanol[word_to_index_espanol['pacifico']])\n",
    "Matriz_ingles.append(word_embedding_ingles[word_to_index_ingles['pacific']])\n",
    "\n",
    "Matriz_espanol.append(word_embedding_espanol[word_to_index_espanol['internacionales']])\n",
    "Matriz_ingles.append(word_embedding_ingles[word_to_index_ingles['international']])\n",
    "\n",
    "Matriz_espanol.append(word_embedding_espanol[word_to_index_espanol['internacionales']])\n",
    "Matriz_ingles.append(word_embedding_ingles[word_to_index_ingles['international']])\n",
    "\n",
    "Matriz_espanol.append(word_embedding_espanol[word_to_index_espanol['global']])\n",
    "Matriz_ingles.append(word_embedding_ingles[word_to_index_ingles['global']])\n",
    "\n",
    "X = np.array(Matriz_espanol)\n",
    "Y = np.array(Matriz_ingles)\n",
    "\n",
    "print('Dimensión de la matriz X:', X.shape)\n",
    "print('Dimensión de la matriz Y:', Y.shape)"
   ]
  },
  {
   "cell_type": "code",
   "execution_count": 22,
   "metadata": {},
   "outputs": [
    {
     "name": "stdout",
     "output_type": "stream",
     "text": [
      "Dimensiones de R: (30, 30)\n"
     ]
    }
   ],
   "source": [
    "R = np.linalg.pinv(X) @ Y\n",
    "print('Dimensiones de R:', R.shape)"
   ]
  },
  {
   "cell_type": "code",
   "execution_count": 23,
   "metadata": {},
   "outputs": [
    {
     "name": "stdout",
     "output_type": "stream",
     "text": [
      "Posibles traducciones de republica: ['republic', 'century', 'venezuela', 'regional', 'district']\n",
      "Posibles traducciones de soberano: ['settlement', 'beginning', 'political', 'been', 'significant']\n",
      "Posibles traducciones de habitantes: ['inhabitants', 'million', 'rainforest', 'favorable', 'rule']\n",
      "Posibles traducciones de distancia: ['significant', 'unprecedented', 'african', 'islands', 'departments']\n",
      "Posibles traducciones de paises: ['independence', 'highest', 'confederation', 'economic', 'most']\n",
      "Posibles traducciones de independencia: ['quimbaya', 'significant', 'departments', 'well', 'sea']\n"
     ]
    }
   ],
   "source": [
    "p = 'republica'\n",
    "palabra = word_embedding_espanol[word_to_index_espanol[p]]\n",
    "traduccion = palabra @ R\n",
    "distancias_traduccion = distance.cdist(traduccion.reshape(1,-1), word_embedding_ingles, metric='cosine').ravel()\n",
    "distancias_traduccion = np.array(list(enumerate(distancias_traduccion)))\n",
    "distancias_traduccion = distancias_traduccion[distancias_traduccion[:,1].argsort()]\n",
    "indices = distancias_traduccion[:5, 0]\n",
    "print('Posibles traducciones de {}:'.format(p), [index_to_word_ingles[i] for i in indices])\n",
    "\n",
    "p = 'soberano'\n",
    "palabra = word_embedding_espanol[word_to_index_espanol[p]]\n",
    "traduccion = palabra @ R\n",
    "distancias_traduccion = distance.cdist(traduccion.reshape(1,-1), word_embedding_ingles, metric='cosine').ravel()\n",
    "distancias_traduccion = np.array(list(enumerate(distancias_traduccion)))\n",
    "distancias_traduccion = distancias_traduccion[distancias_traduccion[:,1].argsort()]\n",
    "indices = distancias_traduccion[:5, 0]\n",
    "print('Posibles traducciones de {}:'.format(p), [index_to_word_ingles[i] for i in indices])\n",
    "\n",
    "p = 'habitantes'\n",
    "palabra = word_embedding_espanol[word_to_index_espanol[p]]\n",
    "traduccion = palabra @ R\n",
    "distancias_traduccion = distance.cdist(traduccion.reshape(1,-1), word_embedding_ingles, metric='cosine').ravel()\n",
    "distancias_traduccion = np.array(list(enumerate(distancias_traduccion)))\n",
    "distancias_traduccion = distancias_traduccion[distancias_traduccion[:,1].argsort()]\n",
    "indices = distancias_traduccion[:5, 0]\n",
    "print('Posibles traducciones de {}:'.format(p), [index_to_word_ingles[i] for i in indices])\n",
    "\n",
    "p = 'distancia'\n",
    "palabra = word_embedding_espanol[word_to_index_espanol[p]]\n",
    "traduccion = palabra @ R\n",
    "distancias_traduccion = distance.cdist(traduccion.reshape(1,-1), word_embedding_ingles, metric='cosine').ravel()\n",
    "distancias_traduccion = np.array(list(enumerate(distancias_traduccion)))\n",
    "distancias_traduccion = distancias_traduccion[distancias_traduccion[:,1].argsort()]\n",
    "indices = distancias_traduccion[:5, 0]\n",
    "print('Posibles traducciones de {}:'.format(p), [index_to_word_ingles[i] for i in indices])\n",
    "\n",
    "p = 'paises'\n",
    "palabra = word_embedding_espanol[word_to_index_espanol[p]]\n",
    "traduccion = palabra @ R\n",
    "distancias_traduccion = distance.cdist(traduccion.reshape(1,-1), word_embedding_ingles, metric='cosine').ravel()\n",
    "distancias_traduccion = np.array(list(enumerate(distancias_traduccion)))\n",
    "distancias_traduccion = distancias_traduccion[distancias_traduccion[:,1].argsort()]\n",
    "indices = distancias_traduccion[:5, 0]\n",
    "print('Posibles traducciones de {}:'.format(p), [index_to_word_ingles[i] for i in indices])\n",
    "\n",
    "p = 'independencia'\n",
    "palabra = word_embedding_espanol[word_to_index_espanol[p]]\n",
    "traduccion = palabra @ R\n",
    "distancias_traduccion = distance.cdist(traduccion.reshape(1,-1), word_embedding_ingles, metric='cosine').ravel()\n",
    "distancias_traduccion = np.array(list(enumerate(distancias_traduccion)))\n",
    "distancias_traduccion = distancias_traduccion[distancias_traduccion[:,1].argsort()]\n",
    "indices = distancias_traduccion[:5, 0]\n",
    "print('Posibles traducciones de {}:'.format(p), [index_to_word_ingles[i] for i in indices])"
   ]
  },
  {
   "cell_type": "markdown",
   "metadata": {},
   "source": [
    "# Respuestas a las preguntas\n",
    "\n",
    "1. ¿Qué problemas tuvierón a la hora de implementar el modelo word2vec? En general no tuvimos un problema grande sin embargo fue necesario ajustar el codigo para que reconociera las ü, ya que eso modificaba como se limpiaban las palabras del corpus. Asi mismo tambien pudimos ver que la forma como keras tratan los indices de las capas es ligeramente diferente a como vimos matematicamente en la clase. Por lo que aveces teniamos que transponer matrices/vectores.\n",
    "2. En la práctica, el parámetro $N$ es usualmente elegido como $300$. En este caso, también usamos este valor, ya que permite una gran reducción en la dimensionalidad de los vectores y matrices sin que haya una pérdida considerable de información. Es decir, la representación de las palabras es mucho menor, pero se mantiene una clara separación entre las mismas.\n",
    "3. El modelo no presenta un buen funcionamiento a la hora de encontrar las capitales de los países. Aunque sí encuentra palabras relacionadas con el problema que se desea solucionar, como otras ciudades o países, no logra detectar la palabra exacta requerida (la capital del país) al realizar varias pruebas.\n",
    "4. Con los sinónimos, se observan mejores resultados que con las capitales de los países. Aunque no todas las 10 palabras más parecidas a una palabra dada guardan una relación real con la misma, sí se presentan parejas relativamente acertadas como *recursos-tierra*, *culturas-tribus*, o *Europa-alamanes*, entre otras.\n",
    "5. ¿Cómo afecta el parámetro $m$ el funcionamiento del modelo de traducción? Al aumentar el parametro $m$, es posible ver que mejora la seleccion en general de las traducciones para las palabras.\n",
    "6. La mejor forma de mejorar el modelo de traducción, es incrementar parámetros como $m$ (palabras consideradas para crear las matrices $X$ y $Y$) o $C$ (longitud del contexto usado para crear las representaciones iniciales de las palabras). Con esto, aumentaría en gran medida la precisión del modelo. No obstante, sería más sencillo implementar el modelo de traducción si se automatizara la forma de encontrar las traducciones de las palabras con las que se construye la matriz inicialmente, ya que en este caso se realizó a mano.\n",
    "7. ¿Qué concluyen de este proyecto y de los resultados obtenidos?\n",
    "1) El modelo word2vec es muy util para realizar traducciones de palabras a diferentes lenguajes o ver que tan similes son algunas palabras. Es probable que si aumentamos el numero de neuronas, la red se vuelva mas grande y pueda aprender mejores representaicones vectoriales de las palabras. Asi mismo tambien vimos que aumentar $m$ mejora la seleccion de traducciones en el corpus. Tal vez existan implementaciones mas complejas con mejoras resultados, como utilizar no solo dos capas, si no mas capas para encontrar la representaciones de las palabras a vectores."
   ]
  },
  {
   "cell_type": "code",
   "execution_count": null,
   "metadata": {},
   "outputs": [],
   "source": []
  }
 ],
 "metadata": {
  "kernelspec": {
   "display_name": "Python 3",
   "language": "python",
   "name": "python3"
  },
  "language_info": {
   "codemirror_mode": {
    "name": "ipython",
    "version": 3
   },
   "file_extension": ".py",
   "mimetype": "text/x-python",
   "name": "python",
   "nbconvert_exporter": "python",
   "pygments_lexer": "ipython3",
   "version": "3.8.8"
  },
  "latex_envs": {
   "LaTeX_envs_menu_present": true,
   "autoclose": false,
   "autocomplete": true,
   "bibliofile": "biblio.bib",
   "cite_by": "apalike",
   "current_citInitial": 1,
   "eqLabelWithNumbers": true,
   "eqNumInitial": 1,
   "hotkeys": {
    "equation": "Ctrl-E",
    "itemize": "Ctrl-I"
   },
   "labels_anchors": false,
   "latex_user_defs": false,
   "report_style_numbering": false,
   "user_envs_cfg": false
  }
 },
 "nbformat": 4,
 "nbformat_minor": 2
}
