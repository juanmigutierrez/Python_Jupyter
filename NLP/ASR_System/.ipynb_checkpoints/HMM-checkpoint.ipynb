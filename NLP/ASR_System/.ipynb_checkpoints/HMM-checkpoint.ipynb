{
 "cells": [
  {
   "cell_type": "markdown",
   "metadata": {},
   "source": [
    "Grupo: Juan Miguel Gutierrez Vidal y Felipe Guzman Sierra"
   ]
  },
  {
   "cell_type": "markdown",
   "metadata": {},
   "source": [
    "# Taller II: Implementing a simple ASR system using HMM\n",
    "\n",
    "En este taller implementaremos un sistema de reconocimiento automatico de habla, utilizando modelos ocultos de markov. Para este taller se puede utilizar la libreria [hmmlearn](https://hmmlearn.readthedocs.io/en/latest/tutorial.html#customizing) de Python. Este taller será parte de la nota del proyecto de evaluación del primer corte. Así que se deberá entregar al finalizar la semana 5 junto con el desarrollo del proyecto de evaluación.\n",
    "\n",
    "En este taller implementaremos un sistema de reconocimiento de habla de palabras aisladas. Esto quiere decir que hay una separación entre cada palabra pronunciada, y no se utilizará  habla fluida continua. La idea es implementar un sistema sencillo con un vocabulario limitado, para qu epuedan entender el principio de funcionamiento de estos sistemas. Para este taller deben seguir lso siguientes pasos:\n",
    "\n",
    "1. Cree un diccionaro pequeño compuesto de alrededor de 20 palabras. Si desean incluir más palabras no hay problema.\n",
    "2. Cada una de estas palabras dividalas en fonemas. Asigne a cada fonema un número para facilitar su identificación.\n",
    "3. Grabé cada una de las palbaras de forma aislada. \n",
    "4. Para cada señal de voz grabada calcule el mel espectrograma utilizando 39 componentes (este es el estandar que usan los sistemas modernos).\n",
    "5. Identifique las secciones del mel spectrograma que corresponden a cada fonema.\n",
    "6. Modele la distribución de los vectores del Mel espectrograma para cada fonema, esto puede hacerlo usando GMM (Gaussian Mixture Models).\n",
    "7. Calcule la matrix de probabilidades de transición utilizando el diccionario que ustedes crearón.\n",
    "8. Implemente el modelo HMM.\n",
    "9. Pruebe con los datos de entrenamiento si el modelo produce la secuencia de fonemas indicada.\n",
    "10. Genere un nuevo conjunto de palabras (al menos 10) que se conformen con los fonemas presentes en su diccionario. A partir de la señal de voz de cada una de estas nuevas palabras, trate de predecir la palbara escrita utilizando el modelo implementado.\n",
    "\n",
    "**NOTA:** Trate de Utilizar fonemas que tengan una única relación con letras (silabas) del alfabeto. Esto disminuirá la tasa de error del modelo."
   ]
  },
  {
   "cell_type": "markdown",
   "metadata": {},
   "source": [
    "**Palabras**\n",
    "\n",
    "\n",
    "    estucado : \\e\\s\\t\\u\\k\\a\\d\\o\n",
    "    estucar : \\e\\s\\t\\u\\k\\a\\rr\\\n",
    "    estuche : \\e\\s\\t\\u\\ch\\e\n",
    "    estuco : \\e\\s\\t\\u\\k\\o\n",
    "    estudiado : \\e\\s\\t\\u\\\\d\\i\\a\\d\\o\n",
    "    estudiantado : \\e\\s\\t\\u\\d\\i\\a\\n\\t\\a\\d\\o\n",
    "    estudiante : \\e\\s\\t\\u\\d\\i\\a\\n\\t\\e\n",
    "    estudiantes : \\e\\s\\t\\u\\d\\i\\a\\n\\t\\e\\s\n",
    "    estudiantil : \\e\\s\\t\\u\\d\\i\\a\\t\\i\\l\n",
    "    estudiantina : \\e\\s\\t\\u\\d\\i\\a\\n\\\n",
    "    estudiar: \\e\\s\\t\\u\\d\\i\\a\\rr\\\n",
    "    estudio: \\e\\s\\t\\u\\d\\i\\o\n",
    "    estudios: \\e\\s\\t\\u\\d\\i\\o\\s\n",
    "    estudiosamente: \\e\\s\\t\\u\\d\\i\\o\\s\\a\\m\\e\\n\\t\\e\n",
    "    estudioso: \\e\\s\\t\\u\\d\\i\\o\\s\\o\n",
    "    estufa: \\e\\s\\t\\u\\f\\a\n",
    "    estulticia: \\e\\s\\t\\u\\l\\t\\i\\c\\i\\a\n",
    "    estulto: \\e\\s\\t\\u\\l\\t\\o\n",
    "    estuosidad \\e\\s\\t\\u\\o\\s\\i\\d\\a\\d\n",
    "    estuoso: \\e\\s\\t\\u\\o\\s\\o\n",
    "    estupefacción: \\e\\s\\t\\u\\p\\e\\f\\a\\k\\k\\i\\o\\n\n",
    "    \n",
    "**fonemas**:7\n",
    "\n",
    "    \\e\\:1\n",
    "    \\s\\:2\n",
    "    \\t\\:3\n",
    "    \\u\\:4\n",
    "    \\d\\:5\n",
    "    \\i\\:6\n",
    "    \\k\\:7\n",
    "    \\a\\:8\n",
    "    \\d\\:9\n",
    "    \\rr\\:10\n",
    "    \\ch\\:11\n",
    "    \\s\\:12\n",
    "    \\l\\:13\n",
    "    \\0\\:14\n",
    "    \\m\\:15\n",
    "    \\n\\:16\n",
    "    \\f\\17\n",
    "    \n",
    "    \n",
    "**Palabras generadas con los fonemas**\n",
    "\n",
    "    dia\n",
    "    tu\n",
    "    antes\n",
    "    carro\n",
    "    dado\n",
    "    mente\n",
    "    tina\n",
    "    si\n",
    "    carroceria\n",
    "    faccion\n",
    "    \n",
    "    "
   ]
  },
  {
   "cell_type": "code",
   "execution_count": 1,
   "metadata": {},
   "outputs": [],
   "source": [
    "# Grabación\n",
    "import sounddevice as sd  \n",
    "import soundfile as sf\n",
    "from scipy.io.wavfile import write\n",
    "import numpy as np\n",
    "from numpy import random\n",
    "\n",
    "# Espectrograma\n",
    "from scipy import signal\n",
    "from scipy.fft import fftshift\n",
    "import matplotlib.pyplot as plt\n",
    "\n",
    "# Mel-scale Espectrograma\n",
    "\n",
    "import librosa\n",
    "import librosa.display\n",
    "\n",
    "from functools import reduce\n",
    "# Necesaria para identificar rangos de fonemas\n",
    "#%matplotlib notebook "
   ]
  },
  {
   "cell_type": "markdown",
   "metadata": {},
   "source": [
    "## Carga de Sonidos Grabados"
   ]
  },
  {
   "cell_type": "markdown",
   "metadata": {},
   "source": [
    "Primero cargamos los sonidos grabados, nos sera util definir una lista de sonidos, palabras relacionadas con cada sonido para recorrer los sonidos de manera algorítmica."
   ]
  },
  {
   "cell_type": "code",
   "execution_count": 2,
   "metadata": {},
   "outputs": [],
   "source": [
    "estucado, fs = sf.read('Audios/estucado/estucado1.wav', dtype='float32')\n",
    "estucar, fs = sf.read('Audios/estucar/estucar1.wav', dtype='float32')\n",
    "estuche, fs = sf.read('Audios/estuche/estuche1.wav', dtype='float32')\n",
    "estuco, fs = sf.read('Audios/estuco/estuco1.wav', dtype='float32')\n",
    "estudiado, fs = sf.read('Audios/estudiado/estudiado1.wav', dtype='float32')\n",
    "estudiantado, fs = sf.read('Audios/estudiantado/estudiantado1.wav', dtype='float32')\n",
    "estudiante, fs = sf.read('Audios/estudiante/estudiante1.wav', dtype='float32')\n",
    "estudiantes, fs = sf.read('Audios/estudiantes/estudiantes1.wav', dtype='float32')\n",
    "estudiantil, fs = sf.read('Audios/estudiantil/estudiantil1.wav', dtype='float32')\n",
    "estudiantina, fs = sf.read('Audios/estudiantina/estudiantina1.wav', dtype='float32')\n",
    "estudiar, fs = sf.read('Audios/estudiar/estudiar1.wav', dtype='float32')\n",
    "estudio, fs = sf.read('Audios/estudio/estudio1.wav', dtype='float32')\n",
    "estudios, fs = sf.read('Audios/estudios/estudios1.wav', dtype='float32')\n",
    "estudiosamente, fs = sf.read('Audios/estudiosamente/estudiosamente1.wav', dtype='float32')\n",
    "estudioso, fs = sf.read('Audios/estudioso/estudioso1.wav', dtype='float32')\n",
    "estufa, fs = sf.read('Audios/estufa/estufa1.wav', dtype='float32')\n",
    "estulticia, fs = sf.read('Audios/estulticia/estulticia1.wav', dtype='float32')\n",
    "estulto, fs = sf.read('Audios/estulticia/estulticia1.wav', dtype='float32')\n",
    "estuosidad, fs = sf.read('Audios/estuosidad/estuosidad1.wav', dtype='float32')\n",
    "estuoso, fs = sf.read('Audios/estuoso/estuoso1.wav', dtype='float32')\n",
    "estupefaccion, fs = sf.read('Audios/estupefaccion/estupefaccion1.wav', dtype='float32')\n",
    "\n",
    "# la lista nos sera util para no repetir funciones\n",
    "lista_sonidos =[(estucado,10),(estucar,9),(estuche,9),\n",
    "                (estuco,8),(estudiado,11),(estudiantado,14),\n",
    "                (estudiante,12),(estudiantes,13),(estudiantil,13),\n",
    "                (estudiantina,14),(estudiar,10),(estudio,9),\n",
    "                (estudios,10),(estudiosamente,16),(estudioso,11),\n",
    "                (estufa,8),(estulticia,12),(estulto,9),\n",
    "                (estuosidad,12),(estuoso,9),(estupefaccion,15)\n",
    "               ]"
   ]
  },
  {
   "cell_type": "markdown",
   "metadata": {},
   "source": [
    "Definimos las palabras a las que pertenece cada sonido y le agregamos el silencion inicial y el silencio final"
   ]
  },
  {
   "cell_type": "code",
   "execution_count": 3,
   "metadata": {},
   "outputs": [],
   "source": [
    "words = ['estucado','estucar','estuche','estuco','estudiado','estudiantado','estudiante','estudiantes',\n",
    "         'estudiantil','estudiantina','estudiar','estudio','estudios','estudiosamente','estudioso',\n",
    "         'estufa','estulticia','estulto','estuosidad','estuoso','estupefaccion']\n",
    "words = [' '+n+' ' for n in words]"
   ]
  },
  {
   "cell_type": "markdown",
   "metadata": {},
   "source": [
    "## Calculando señal mel espectograma\n"
   ]
  },
  {
   "cell_type": "markdown",
   "metadata": {},
   "source": [
    "Calculamos los coeficientes mel"
   ]
  },
  {
   "cell_type": "code",
   "execution_count": 4,
   "metadata": {},
   "outputs": [],
   "source": [
    "# Creando la matriz del espectrograma\n",
    "n_window = int(0.02*fs)\n",
    "len_over = int(0.01*fs) # Number overlap between samples\n",
    "nfft = 512              # Number Points FFT\n",
    "n_mels = 39\n",
    "lista_espectrogramas_mel =[]\n",
    "for sonido in lista_sonidos: # Iteramos por cada sonido\n",
    "    mel = librosa.feature.melspectrogram(sonido[0],sr=fs,n_fft=512,win_length=n_window,window='hann',n_mels=n_mels) # obteniendo coeficientes mel\n",
    "    lista_espectrogramas_mel.append((mel,sonido[1]))"
   ]
  },
  {
   "cell_type": "markdown",
   "metadata": {},
   "source": [
    "Graficamos todos los espectogramas, nos sera util para encontrar rangos de sonido"
   ]
  },
  {
   "cell_type": "code",
   "execution_count": 5,
   "metadata": {
    "scrolled": false
   },
   "outputs": [
    {
     "data": {
      "image/png": "[encoded data removed]",
      "text/plain": [
       "<Figure size 1080x3240 with 21 Axes>"
      ]
     },
     "metadata": {
      "needs_background": "light"
     },
     "output_type": "display_data"
    }
   ],
   "source": [
    "%matplotlib inline\n",
    "fig = plt.figure(figsize=(15,45))\n",
    "#fig.subplots_adjust(hspace=0.5, wspace=0.4)\n",
    "for i in range(len(lista_espectrogramas_mel)):\n",
    "    # (4,5) = 4x5 = 20\n",
    "    #                    row,column\n",
    "    ax = fig.add_subplot(11,2, i+1)\n",
    "    ax.pcolormesh(lista_espectrogramas_mel[i][0])\n",
    "    ax.set_title(words[i])"
   ]
  },
  {
   "cell_type": "markdown",
   "metadata": {},
   "source": [
    "# Revisando Fonemas"
   ]
  },
  {
   "cell_type": "code",
   "execution_count": 6,
   "metadata": {},
   "outputs": [],
   "source": [
    "mel = lista_espectrogramas_mel[0][0]\n",
    "d = np.sqrt(sum(np.power(mel[1:]-mel[0:-1],2)))\n",
    "m = np.mean(d)"
   ]
  },
  {
   "cell_type": "code",
   "execution_count": 7,
   "metadata": {},
   "outputs": [
    {
     "data": {
      "text/plain": [
       "[<matplotlib.lines.Line2D at 0x1be6d142610>]"
      ]
     },
     "execution_count": 7,
     "metadata": {},
     "output_type": "execute_result"
    },
    {
     "data": {
      "image/png": "[encoded data removed]",
      "text/plain": [
       "<Figure size 432x288 with 1 Axes>"
      ]
     },
     "metadata": {
      "needs_background": "light"
     },
     "output_type": "display_data"
    }
   ],
   "source": [
    "plt.plot(d)\n",
    "plt.plot(m*np.ones(len(d)))"
   ]
  },
  {
   "cell_type": "code",
   "execution_count": 8,
   "metadata": {},
   "outputs": [
    {
     "data": {
      "image/png": "[encoded data removed]",
      "text/plain": [
       "<Figure size 432x288 with 1 Axes>"
      ]
     },
     "metadata": {
      "needs_background": "light"
     },
     "output_type": "display_data"
    }
   ],
   "source": [
    "plt.pcolormesh(mel)\n",
    "plt.ylabel('Frequency [Hz]')\n",
    "plt.xlabel('Time [sec]')\n",
    "plt.show()"
   ]
  },
  {
   "cell_type": "markdown",
   "metadata": {},
   "source": [
    "# Funciones y diccionarios útiles"
   ]
  },
  {
   "cell_type": "markdown",
   "metadata": {},
   "source": [
    "Luego nos sera util definir un diccionario que mapee para cada letra su respectivo fonema"
   ]
  },
  {
   "cell_type": "code",
   "execution_count": 9,
   "metadata": {},
   "outputs": [],
   "source": [
    "letter2phonem = {\n",
    "    'a':'a','b':'b','v':'b','w':'b','c':'k','z':'0',\n",
    "    'ch':'ch','d':'d','e':'e','f':'f','g':'g','gu':'g',\n",
    "    'h':'','i':'i','y':'i','g':'j','j':'j','ca':'k',\n",
    "    'cc':'k','ci':'s','ce':'s','co':'k','cu':'k','qu':'k',\n",
    "    'k':'k','l':'l','ll':'ll','m':'m','n':'n','ñ':'ñ',\n",
    "    'o':'o','p':'p','r':'r','s':'s','t':'t','u':'u',\n",
    "    'x':'gs','y':'y',' ':' '\n",
    "}"
   ]
  },
  {
   "cell_type": "markdown",
   "metadata": {},
   "source": [
    "Las siguientes funciones nos seran útiles para traducir una palabra a su representación fonética."
   ]
  },
  {
   "cell_type": "code",
   "execution_count": 10,
   "metadata": {},
   "outputs": [],
   "source": [
    "def getLetters(word,dic): \n",
    "    # Funcion recursiva\n",
    "    # Word : Palabras\n",
    "    # Dic : Diccionario de letras y fonemas\n",
    "    special = [n for n in dic if len(n)>1] # Reconoce fonemas especiales como 'ch','co'.\n",
    "    if(len(word)==1 or len(word)==0):\n",
    "        return list(word) if word!='h' else [] # caso base solo un fonema\n",
    "    else:\n",
    "        i = next((word.index(n) for n in special if n in word),None) # busca caso especial en palabras\n",
    "        if(i is None):\n",
    "            return list(word) # si no hay caso especial retorna palabra\n",
    "        else:\n",
    "            return getLetters(word[0:i],dic)+[word[i:i+2]]+getLetters(word[i+1:],dic)# si tiene caso especial llama la funcion\n",
    "        # con los letras de la izquierda mas el fonema especial mas los casos de la derecha del caso especial\n",
    "\n",
    "def getPhonems(word,dic):\n",
    "    '''\n",
    "        Funcion que dada una palabra (word) y \n",
    "        un diccionario (dic) retorna una lista \n",
    "        con los fonemas que componen la palabra.\n",
    "        \n",
    "        INPUT:\n",
    "            word: string\n",
    "            dic: diccionario\n",
    "        OUTPUT: lista de strings\n",
    "    '''\n",
    "    print('Palabra: ',getLetters(word,dic))\n",
    "    return [dic[n] for n in getLetters(word,dic)] # convierte las letras fonemas con el diccionario ya planteado"
   ]
  },
  {
   "cell_type": "markdown",
   "metadata": {},
   "source": [
    "# Obteniendo Fonemas"
   ]
  },
  {
   "cell_type": "markdown",
   "metadata": {},
   "source": [
    "La siguiente función detectara automáticamente donde se produce el sonido de voz, seleccionara el rango que corresponde a la voz, lo dividirá en partes iguales correspodiente al número de fonema que posee cada palabra. Luego le dara a cada fonema su respectivo rango."
   ]
  },
  {
   "cell_type": "code",
   "execution_count": 11,
   "metadata": {},
   "outputs": [],
   "source": [
    "def getFonemas(mel,n_fonema):\n",
    "    '''\n",
    "        Funcion que dado un espectrograma de mel y\n",
    "        una cantidad de fonemas retorna una lista, \n",
    "        de longitud n_fonemas, de vectores los cuales \n",
    "        representan los fonemas que componen a la palbra\n",
    "        \n",
    "        INPUT:\n",
    "            mel: matriz de 39x63\n",
    "            n_foenma: enetro\n",
    "        OUTPUT: lista de vectores longitud n_fonema\n",
    "    '''\n",
    "    rou = lambda x,n : int(x/n) if x%n == 0 else int(x/n)+1 # Division palabra en partes iguales\n",
    "    d = np.sqrt(sum(np.power(mel[1:]-mel[0:-1],2))) # Potencia cuadrada señales, para reconocer fonemas\n",
    "    m = np.mean(d) # media d\n",
    "    index = [i for i,n in enumerate(d) if n>m] # Obtiene indices de quienes superen la media, reconoce la voz\n",
    "    delta = rou(index[-1]-index[0],n_fonema) # Obtiene el rango y divide el rango en el numero de fonemas de la palabra\n",
    "    fonemas = []\n",
    "    for f in range(n_fonema): # por cada fonema, se añade el respectivo rango del sonido que concuerda con la posicion de \n",
    "        # la palabra\n",
    "        I_1 = index[0]+(delta*f)\n",
    "        I_2 = index[0]+(delta*(f+1))+1\n",
    "        fonemas.append(mel[:,I_1:I_2])\n",
    "    return fonemas"
   ]
  },
  {
   "cell_type": "code",
   "execution_count": 12,
   "metadata": {},
   "outputs": [],
   "source": [
    "# Por cada sonido aplica la funcion get fonemas con el respectivo numero de fonemas y el espectograma\n",
    "fonemas = [getFonemas(melSpec,nFonem) for melSpec,nFonem in lista_espectrogramas_mel] "
   ]
  },
  {
   "cell_type": "code",
   "execution_count": 13,
   "metadata": {},
   "outputs": [
    {
     "name": "stdout",
     "output_type": "stream",
     "text": [
      "Cantidad de palabras:  21\n",
      "Cantidad de fonemas primera palabra:  10\n",
      "Dimensiones de la matriz que compone el primer fonema de la primera palabra:  (39, 3)\n"
     ]
    }
   ],
   "source": [
    "print(\"Cantidad de palabras: \",len(fonemas))\n",
    "print(\"Cantidad de fonemas primera palabra: \",len(fonemas[0]))\n",
    "print(\"Dimensiones de la matriz que compone el primer fonema de la primera palabra: \",fonemas[0][0].shape)"
   ]
  },
  {
   "cell_type": "code",
   "execution_count": 14,
   "metadata": {},
   "outputs": [],
   "source": [
    "# Encontrando fonemas\n",
    "phonemsAndVectors = {\n",
    "    'e':[],'s':[],'t':[],'u':[],'d':[],'i':[],'k':[],'a':[],'ch':[],\n",
    "    'l':[],'o':[],'m':[],'n':[],'f':[],'r':[],'p':[],'':[], ' ':[]\n",
    "}"
   ]
  },
  {
   "cell_type": "markdown",
   "metadata": {},
   "source": [
    "El siguiente codigo nos será útil para poder determinar la posición de los fonemas en tdas la palabras, que nos sera util para determinar asi tambien los vectores que corresponde a cada fonema."
   ]
  },
  {
   "cell_type": "code",
   "execution_count": 15,
   "metadata": {},
   "outputs": [
    {
     "name": "stdout",
     "output_type": "stream",
     "text": [
      "Palabra:  [' ', 'e', 's', 't', 'u', 'ca', 'a', 'd', 'o', ' ']\n",
      "Fonema:  [' ', 'e', 's', 't', 'u', 'k', 'a', 'd', 'o', ' ']\n",
      "0  estucado \n",
      "Palabra:  [' ', 'e', 's', 't', 'u', 'ca', 'a', 'r', ' ']\n",
      "Fonema:  [' ', 'e', 's', 't', 'u', 'k', 'a', 'r', ' ']\n",
      "1  estucar \n",
      "Palabra:  [' ', 'e', 's', 't', 'u', 'ch', 'h', 'e', ' ']\n",
      "Fonema:  [' ', 'e', 's', 't', 'u', 'ch', '', 'e', ' ']\n",
      "2  estuche \n",
      "Palabra:  [' ', 'e', 's', 't', 'u', 'co', 'o', ' ']\n",
      "Fonema:  [' ', 'e', 's', 't', 'u', 'k', 'o', ' ']\n",
      "3  estuco \n",
      "Palabra:  [' ', 'e', 's', 't', 'u', 'd', 'i', 'a', 'd', 'o', ' ']\n",
      "Fonema:  [' ', 'e', 's', 't', 'u', 'd', 'i', 'a', 'd', 'o', ' ']\n",
      "4  estudiado \n",
      "Palabra:  [' ', 'e', 's', 't', 'u', 'd', 'i', 'a', 'n', 't', 'a', 'd', 'o', ' ']\n",
      "Fonema:  [' ', 'e', 's', 't', 'u', 'd', 'i', 'a', 'n', 't', 'a', 'd', 'o', ' ']\n",
      "5  estudiantado \n",
      "Palabra:  [' ', 'e', 's', 't', 'u', 'd', 'i', 'a', 'n', 't', 'e', ' ']\n",
      "Fonema:  [' ', 'e', 's', 't', 'u', 'd', 'i', 'a', 'n', 't', 'e', ' ']\n",
      "6  estudiante \n",
      "Palabra:  [' ', 'e', 's', 't', 'u', 'd', 'i', 'a', 'n', 't', 'e', 's', ' ']\n",
      "Fonema:  [' ', 'e', 's', 't', 'u', 'd', 'i', 'a', 'n', 't', 'e', 's', ' ']\n",
      "7  estudiantes \n",
      "Palabra:  [' ', 'e', 's', 't', 'u', 'd', 'i', 'a', 'n', 't', 'i', 'l', ' ']\n",
      "Fonema:  [' ', 'e', 's', 't', 'u', 'd', 'i', 'a', 'n', 't', 'i', 'l', ' ']\n",
      "8  estudiantil \n",
      "Palabra:  [' ', 'e', 's', 't', 'u', 'd', 'i', 'a', 'n', 't', 'i', 'n', 'a', ' ']\n",
      "Fonema:  [' ', 'e', 's', 't', 'u', 'd', 'i', 'a', 'n', 't', 'i', 'n', 'a', ' ']\n",
      "9  estudiantina \n",
      "Palabra:  [' ', 'e', 's', 't', 'u', 'd', 'i', 'a', 'r', ' ']\n",
      "Fonema:  [' ', 'e', 's', 't', 'u', 'd', 'i', 'a', 'r', ' ']\n",
      "10  estudiar \n",
      "Palabra:  [' ', 'e', 's', 't', 'u', 'd', 'i', 'o', ' ']\n",
      "Fonema:  [' ', 'e', 's', 't', 'u', 'd', 'i', 'o', ' ']\n",
      "11  estudio \n",
      "Palabra:  [' ', 'e', 's', 't', 'u', 'd', 'i', 'o', 's', ' ']\n",
      "Fonema:  [' ', 'e', 's', 't', 'u', 'd', 'i', 'o', 's', ' ']\n",
      "12  estudios \n",
      "Palabra:  [' ', 'e', 's', 't', 'u', 'd', 'i', 'o', 's', 'a', 'm', 'e', 'n', 't', 'e', ' ']\n",
      "Fonema:  [' ', 'e', 's', 't', 'u', 'd', 'i', 'o', 's', 'a', 'm', 'e', 'n', 't', 'e', ' ']\n",
      "13  estudiosamente \n",
      "Palabra:  [' ', 'e', 's', 't', 'u', 'd', 'i', 'o', 's', 'o', ' ']\n",
      "Fonema:  [' ', 'e', 's', 't', 'u', 'd', 'i', 'o', 's', 'o', ' ']\n",
      "14  estudioso \n",
      "Palabra:  [' ', 'e', 's', 't', 'u', 'f', 'a', ' ']\n",
      "Fonema:  [' ', 'e', 's', 't', 'u', 'f', 'a', ' ']\n",
      "15  estufa \n",
      "Palabra:  [' ', 'e', 's', 't', 'u', 'l', 't', 'i', 'ci', 'i', 'a', ' ']\n",
      "Fonema:  [' ', 'e', 's', 't', 'u', 'l', 't', 'i', 's', 'i', 'a', ' ']\n",
      "16  estulticia \n",
      "Palabra:  [' ', 'e', 's', 't', 'u', 'l', 't', 'o', ' ']\n",
      "Fonema:  [' ', 'e', 's', 't', 'u', 'l', 't', 'o', ' ']\n",
      "17  estulto \n",
      "Palabra:  [' ', 'e', 's', 't', 'u', 'o', 's', 'i', 'd', 'a', 'd', ' ']\n",
      "Fonema:  [' ', 'e', 's', 't', 'u', 'o', 's', 'i', 'd', 'a', 'd', ' ']\n",
      "18  estuosidad \n",
      "Palabra:  [' ', 'e', 's', 't', 'u', 'o', 's', 'o', ' ']\n",
      "Fonema:  [' ', 'e', 's', 't', 'u', 'o', 's', 'o', ' ']\n",
      "19  estuoso \n",
      "Palabra:  [' ', 'e', 's', 't', 'u', 'p', 'e', 'f', 'a', 'cc', 'ci', 'i', 'o', 'n', ' ']\n",
      "Fonema:  [' ', 'e', 's', 't', 'u', 'p', 'e', 'f', 'a', 'k', 's', 'i', 'o', 'n', ' ']\n",
      "20  estupefaccion \n"
     ]
    }
   ],
   "source": [
    "#(numbers of word,position)\n",
    "secciones_fonemas_e =[]\n",
    "secciones_fonemas_s =[]\n",
    "secciones_fonemas_t =[]\n",
    "secciones_fonemas_u =[]\n",
    "secciones_fonemas_d =[]\n",
    "secciones_fonemas_i =[]\n",
    "secciones_fonemas_k =[]\n",
    "secciones_fonemas_a =[]\n",
    "secciones_fonemas_r =[]\n",
    "secciones_fonemas_ch =[]\n",
    "secciones_fonemas_l =[]\n",
    "secciones_fonemas_o =[]\n",
    "secciones_fonemas_m =[]\n",
    "secciones_fonemas_n =[]\n",
    "secciones_fonemas_f =[]\n",
    "secciones_fonemas_p =[]\n",
    "secciones_fonemas_ =[]\n",
    "secciones_fonemas_v =[]\n",
    "\n",
    "# Adding (word,position phoneme)\n",
    "for i in range(len(words)):\n",
    "    palabra_i = getPhonems(words[i],letter2phonem) # Remember we could change this\n",
    "    print('Fonema: ',palabra_i)\n",
    "    print(i,words[i])\n",
    "    for pos_fo in range(len(palabra_i)):\n",
    "        if palabra_i[pos_fo] == \"e\":\n",
    "            secciones_fonemas_e.append((i,pos_fo))\n",
    "        elif palabra_i[pos_fo] == \"s\":\n",
    "             secciones_fonemas_s.append((i,pos_fo))\n",
    "        elif palabra_i[pos_fo] == \"t\":\n",
    "             secciones_fonemas_t.append((i,pos_fo))\n",
    "        elif palabra_i[pos_fo] == \"u\":\n",
    "             secciones_fonemas_u.append((i,pos_fo))\n",
    "        elif palabra_i[pos_fo] == \"d\":\n",
    "             secciones_fonemas_d.append((i,pos_fo))\n",
    "        elif palabra_i[pos_fo] == \"i\":\n",
    "             secciones_fonemas_i.append((i,pos_fo))\n",
    "        elif palabra_i[pos_fo] == \"k\":\n",
    "             secciones_fonemas_k.append((i,pos_fo))\n",
    "        elif palabra_i[pos_fo] == \"a\":\n",
    "             secciones_fonemas_a.append((i,pos_fo))\n",
    "        elif palabra_i[pos_fo] == \"r\":\n",
    "             secciones_fonemas_r.append((i,pos_fo))\n",
    "        elif palabra_i[pos_fo] == \"ch\":\n",
    "             secciones_fonemas_ch.append((i,pos_fo))\n",
    "        elif palabra_i[pos_fo] == \"l\":\n",
    "             secciones_fonemas_l.append((i,pos_fo))\n",
    "        elif palabra_i[pos_fo] == \"m\":\n",
    "             secciones_fonemas_m.append((i,pos_fo))\n",
    "        elif palabra_i[pos_fo] == \"n\":\n",
    "             secciones_fonemas_n.append((i,pos_fo))\n",
    "        elif palabra_i[pos_fo] == \"f\":\n",
    "             secciones_fonemas_f.append((i,pos_fo))\n",
    "        elif palabra_i[pos_fo] == \"p\":\n",
    "             secciones_fonemas_p.append((i,pos_fo))\n",
    "        elif palabra_i[pos_fo] == \"\":\n",
    "             secciones_fonemas_.append((i,pos_fo))\n",
    "        elif palabra_i[pos_fo] == \"o\":\n",
    "             secciones_fonemas_o.append((i,pos_fo))\n",
    "        elif palabra_i[pos_fo] == \" \":\n",
    "             secciones_fonemas_v.append((i,pos_fo))"
   ]
  },
  {
   "cell_type": "markdown",
   "metadata": {},
   "source": [
    "# Modelos Mixtos Gaussianos"
   ]
  },
  {
   "cell_type": "code",
   "execution_count": 16,
   "metadata": {},
   "outputs": [],
   "source": [
    "from sklearn.mixture import GaussianMixture"
   ]
  },
  {
   "cell_type": "markdown",
   "metadata": {},
   "source": [
    "Nuestra primera aproximación fue concatenar todos los vectores correspondientes a los mel espectogramas y ajustar el modelo gaussiano con esos datos en una matriz $M$"
   ]
  },
  {
   "cell_type": "code",
   "execution_count": 17,
   "metadata": {},
   "outputs": [
    {
     "data": {
      "text/plain": [
       "(39, 780)"
      ]
     },
     "execution_count": 17,
     "metadata": {},
     "output_type": "execute_result"
    }
   ],
   "source": [
    "M = np.concatenate((sum([fonemas[i][:] for i in range(len(fonemas))],[])),axis=1)\n",
    "M.shape"
   ]
  },
  {
   "cell_type": "code",
   "execution_count": 18,
   "metadata": {},
   "outputs": [
    {
     "data": {
      "text/plain": [
       "(39, 780)"
      ]
     },
     "execution_count": 18,
     "metadata": {},
     "output_type": "execute_result"
    }
   ],
   "source": [
    "M.shape"
   ]
  },
  {
   "cell_type": "code",
   "execution_count": 19,
   "metadata": {},
   "outputs": [
    {
     "data": {
      "text/plain": [
       "GaussianMixture(covariance_type='spherical', n_components=18)"
      ]
     },
     "execution_count": 19,
     "metadata": {},
     "output_type": "execute_result"
    }
   ],
   "source": [
    "# Ajuste del modelo con los 18 fonemas\n",
    "gmm_model = GaussianMixture(n_components=18, covariance_type=\"spherical\")\n",
    "gmm_model.fit(M.T)"
   ]
  },
  {
   "cell_type": "code",
   "execution_count": 20,
   "metadata": {},
   "outputs": [],
   "source": [
    "means = gmm_model.means_\n",
    "cov = gmm_model.covariances_"
   ]
  },
  {
   "cell_type": "markdown",
   "metadata": {},
   "source": [
    "Al final no resulto con buenas predicciones, incluso para reconocer los estados de la cadena markov, si el profesor decide puede correr este algoritmo y luego la ultim celda que se encarga de generar las predicciones de las palabras y genera palabras muy aleatorias."
   ]
  },
  {
   "cell_type": "markdown",
   "metadata": {},
   "source": [
    "# Matrices de medias y varianzas"
   ]
  },
  {
   "cell_type": "markdown",
   "metadata": {},
   "source": [
    "Finalmente optamos por obtener las medias y varianzas de cada fonema de manera individual"
   ]
  },
  {
   "cell_type": "markdown",
   "metadata": {},
   "source": [
    "### Medias"
   ]
  },
  {
   "cell_type": "code",
   "execution_count": 21,
   "metadata": {},
   "outputs": [],
   "source": [
    "# Fonema media \n",
    "f_m_E = np.mean(np.concatenate([fonemas[i][j] for i,j in secciones_fonemas_e],axis=1),axis=1) #obtiene media fonema e\n",
    "f_m_S = np.mean(np.concatenate([fonemas[i][j] for i,j in secciones_fonemas_s],axis=1),axis=1)\n",
    "f_m_T = np.mean(np.concatenate([fonemas[i][j] for i,j in secciones_fonemas_t],axis=1),axis=1)\n",
    "f_m_U = np.mean(np.concatenate([fonemas[i][j] for i,j in secciones_fonemas_u],axis=1),axis=1)\n",
    "f_m_D = np.mean(np.concatenate([fonemas[i][j] for i,j in secciones_fonemas_d],axis=1),axis=1)\n",
    "f_m_I = np.mean(np.concatenate([fonemas[i][j] for i,j in secciones_fonemas_i],axis=1),axis=1)\n",
    "f_m_K = np.mean(np.concatenate([fonemas[i][j] for i,j in secciones_fonemas_k],axis=1),axis=1)\n",
    "f_m_A = np.mean(np.concatenate([fonemas[i][j] for i,j in secciones_fonemas_a],axis=1),axis=1)\n",
    "f_m_CH = np.mean(np.concatenate([fonemas[i][j] for i,j in secciones_fonemas_ch],axis=1),axis=1)\n",
    "f_m_L = np.mean(np.concatenate([fonemas[i][j] for i,j in secciones_fonemas_l],axis=1),axis=1)\n",
    "f_m_O = np.mean(np.concatenate([fonemas[i][j] for i,j in secciones_fonemas_o],axis=1),axis=1)\n",
    "f_m_M = np.mean(np.concatenate([fonemas[i][j] for i,j in secciones_fonemas_m],axis=1),axis=1)\n",
    "f_m_N = np.mean(np.concatenate([fonemas[i][j] for i,j in secciones_fonemas_n],axis=1),axis=1)\n",
    "f_m_F = np.mean(np.concatenate([fonemas[i][j] for i,j in secciones_fonemas_f],axis=1),axis=1)\n",
    "f_m_R = np.mean(np.concatenate([fonemas[i][j] for i,j in secciones_fonemas_r],axis=1),axis=1)\n",
    "f_m_P = np.mean(np.concatenate([fonemas[i][j] for i,j in secciones_fonemas_p],axis=1),axis=1)\n",
    "f_m_ = np.mean(np.concatenate([fonemas[i][j] for i,j in secciones_fonemas_],axis=1),axis=1)\n",
    "f_m_V = np.mean(np.concatenate([fonemas[i][j] for i,j in secciones_fonemas_v],axis=1),axis=1)"
   ]
  },
  {
   "cell_type": "markdown",
   "metadata": {},
   "source": [
    "Juntamos todas las medias en un vector de medias"
   ]
  },
  {
   "cell_type": "code",
   "execution_count": 22,
   "metadata": {},
   "outputs": [],
   "source": [
    "# Matriz de medias\n",
    "means = np.array([f_m_E,f_m_S,f_m_T,f_m_U,f_m_D,f_m_I,f_m_K,f_m_A,f_m_CH,f_m_L,f_m_O,f_m_M,f_m_N,f_m_F,f_m_R,f_m_P,f_m_,f_m_V])"
   ]
  },
  {
   "cell_type": "markdown",
   "metadata": {},
   "source": [
    "### Covarianzas"
   ]
  },
  {
   "cell_type": "markdown",
   "metadata": {},
   "source": []
  },
  {
   "cell_type": "code",
   "execution_count": 23,
   "metadata": {},
   "outputs": [],
   "source": [
    "def morePhonem(fonema):\n",
    "    M = fonema.copy()\n",
    "    c = fonema.shape[1]\n",
    "    s = 39-c\n",
    "    if s > 0:\n",
    "        mean = np.mean(fonema,axis=1)\n",
    "        cov = np.cov(fonema)\n",
    "        vector = np.random.multivariate_normal(mean,cov)\n",
    "        for k in range(s+10):\n",
    "            M = np.concatenate([M,np.reshape(vector,(39,1))],axis=1)\n",
    "        return M\n",
    "    else:\n",
    "        return fonema"
   ]
  },
  {
   "cell_type": "code",
   "execution_count": 24,
   "metadata": {},
   "outputs": [],
   "source": [
    "# Matriz en la que se almacenan todas las matrices de covarianza\n",
    "cov = np.zeros((18,39,39))\n",
    "\n",
    "# Función que calcula la matriz de covarianza dados todos los vectores de un fonema\n",
    "covPhonem = lambda x : np.cov(morePhonem(np.concatenate([fonemas[i][j] for i,j in x],axis=1)))\n",
    "\n",
    "# Calculando Matrices de covarianza por fonema\n",
    "cov_E = covPhonem(secciones_fonemas_e)\n",
    "cov_S = covPhonem(secciones_fonemas_s)\n",
    "cov_T = covPhonem(secciones_fonemas_t)\n",
    "cov_U = covPhonem(secciones_fonemas_u)\n",
    "cov_D = covPhonem(secciones_fonemas_d)\n",
    "cov_I = covPhonem(secciones_fonemas_i)\n",
    "cov_K = covPhonem(secciones_fonemas_k)+np.eye(39)*2\n",
    "cov_A = covPhonem(secciones_fonemas_a)\n",
    "cov_CH = covPhonem(secciones_fonemas_ch)+np.eye(39)*2\n",
    "cov_L = covPhonem(secciones_fonemas_l)+np.eye(39)*2\n",
    "cov_O = covPhonem(secciones_fonemas_o)\n",
    "cov_M = covPhonem(secciones_fonemas_m)+np.eye(39)*2\n",
    "cov_N = covPhonem(secciones_fonemas_n)+np.eye(39)*2\n",
    "cov_F = covPhonem(secciones_fonemas_f)+np.eye(39)*2\n",
    "cov_R = covPhonem(secciones_fonemas_r)+np.eye(39)*2\n",
    "cov_P = covPhonem(secciones_fonemas_p)+np.eye(39)*2\n",
    "cov_ = covPhonem(secciones_fonemas_)+np.eye(39)*2\n",
    "cov_V = covPhonem(secciones_fonemas_v)\n",
    "\n",
    "# Creando matriz de (18x39x39) de covarianzas\n",
    "cov[0,:,:] = cov_E\n",
    "cov[1,:,:] = cov_S\n",
    "cov[2,:,:] = cov_T\n",
    "cov[3,:,:] = cov_U\n",
    "cov[4,:,:] = cov_D\n",
    "cov[5,:,:] = cov_I\n",
    "cov[6,:,:] = cov_K\n",
    "cov[7,:,:] = cov_A\n",
    "cov[8,:,:] = cov_CH\n",
    "cov[9,:,:] = cov_L\n",
    "cov[10,:,:] = cov_O\n",
    "cov[11,:,:] = cov_M\n",
    "cov[12,:,:] = cov_N\n",
    "cov[13,:,:] = cov_F\n",
    "cov[14,:,:] = cov_R\n",
    "cov[15,:,:] = cov_P\n",
    "cov[16,:,:] = cov_\n",
    "cov[17,:,:] = cov_V"
   ]
  },
  {
   "cell_type": "code",
   "execution_count": 25,
   "metadata": {},
   "outputs": [],
   "source": [
    "# Permite saber si una matriz es definida positiva\n",
    "def is_pos_def(x): \n",
    "    return np.all(np.linalg.eigvals(x) > 0)"
   ]
  },
  {
   "cell_type": "code",
   "execution_count": 26,
   "metadata": {},
   "outputs": [
    {
     "data": {
      "text/plain": [
       "['La matriz 0 es definida positiva?: True',\n",
       " 'La matriz 1 es definida positiva?: True',\n",
       " 'La matriz 2 es definida positiva?: True',\n",
       " 'La matriz 3 es definida positiva?: True',\n",
       " 'La matriz 4 es definida positiva?: True',\n",
       " 'La matriz 5 es definida positiva?: True',\n",
       " 'La matriz 6 es definida positiva?: True',\n",
       " 'La matriz 7 es definida positiva?: True',\n",
       " 'La matriz 8 es definida positiva?: True',\n",
       " 'La matriz 9 es definida positiva?: True',\n",
       " 'La matriz 10 es definida positiva?: True',\n",
       " 'La matriz 11 es definida positiva?: True',\n",
       " 'La matriz 12 es definida positiva?: True',\n",
       " 'La matriz 13 es definida positiva?: True',\n",
       " 'La matriz 14 es definida positiva?: True',\n",
       " 'La matriz 15 es definida positiva?: True',\n",
       " 'La matriz 16 es definida positiva?: True',\n",
       " 'La matriz 17 es definida positiva?: True']"
      ]
     },
     "execution_count": 26,
     "metadata": {},
     "output_type": "execute_result"
    }
   ],
   "source": [
    "['La matriz '+str(i)+' es definida positiva?: '+str(is_pos_def(cov[i,:,:])) for i in range(18)]"
   ]
  },
  {
   "cell_type": "markdown",
   "metadata": {},
   "source": [
    "# Matriz de Transiciones"
   ]
  },
  {
   "cell_type": "markdown",
   "metadata": {},
   "source": [
    "Ahora calcularemos las probabilidades de transición"
   ]
  },
  {
   "cell_type": "code",
   "execution_count": 27,
   "metadata": {},
   "outputs": [],
   "source": [
    "transitions = np.zeros((18,18)) # Creamos matriz 18 x 18\n",
    "np.fill_diagonal(transitions,5) # Añadimos 5 en las diagonales nos permitiran añadir probabilidad que despues \n",
    "                                # de un fonema se repita el mismo fonema\n",
    "# Definimos un diccionario de phonema,posicion fonema en matriz\n",
    "phonem2index = {\n",
    "    'e':0,'s':1,'t':2,'u':3,'d':4,'i':5,'k':6,'a':7,'ch':8,\n",
    "    'l':9,'o':10,'m':11,'n':12,'f':13,'r':14,'p':15,'':16,' ':17\n",
    "}"
   ]
  },
  {
   "cell_type": "code",
   "execution_count": 28,
   "metadata": {},
   "outputs": [
    {
     "data": {
      "text/plain": [
       "array([[5., 0., 0., 0., 0., 0., 0., 0., 0., 0., 0., 0., 0., 0., 0., 0.,\n",
       "        0., 0.],\n",
       "       [0., 5., 0., 0., 0., 0., 0., 0., 0., 0., 0., 0., 0., 0., 0., 0.,\n",
       "        0., 0.],\n",
       "       [0., 0., 5., 0., 0., 0., 0., 0., 0., 0., 0., 0., 0., 0., 0., 0.,\n",
       "        0., 0.],\n",
       "       [0., 0., 0., 5., 0., 0., 0., 0., 0., 0., 0., 0., 0., 0., 0., 0.,\n",
       "        0., 0.],\n",
       "       [0., 0., 0., 0., 5., 0., 0., 0., 0., 0., 0., 0., 0., 0., 0., 0.,\n",
       "        0., 0.],\n",
       "       [0., 0., 0., 0., 0., 5., 0., 0., 0., 0., 0., 0., 0., 0., 0., 0.,\n",
       "        0., 0.],\n",
       "       [0., 0., 0., 0., 0., 0., 5., 0., 0., 0., 0., 0., 0., 0., 0., 0.,\n",
       "        0., 0.],\n",
       "       [0., 0., 0., 0., 0., 0., 0., 5., 0., 0., 0., 0., 0., 0., 0., 0.,\n",
       "        0., 0.],\n",
       "       [0., 0., 0., 0., 0., 0., 0., 0., 5., 0., 0., 0., 0., 0., 0., 0.,\n",
       "        0., 0.],\n",
       "       [0., 0., 0., 0., 0., 0., 0., 0., 0., 5., 0., 0., 0., 0., 0., 0.,\n",
       "        0., 0.],\n",
       "       [0., 0., 0., 0., 0., 0., 0., 0., 0., 0., 5., 0., 0., 0., 0., 0.,\n",
       "        0., 0.],\n",
       "       [0., 0., 0., 0., 0., 0., 0., 0., 0., 0., 0., 5., 0., 0., 0., 0.,\n",
       "        0., 0.],\n",
       "       [0., 0., 0., 0., 0., 0., 0., 0., 0., 0., 0., 0., 5., 0., 0., 0.,\n",
       "        0., 0.],\n",
       "       [0., 0., 0., 0., 0., 0., 0., 0., 0., 0., 0., 0., 0., 5., 0., 0.,\n",
       "        0., 0.],\n",
       "       [0., 0., 0., 0., 0., 0., 0., 0., 0., 0., 0., 0., 0., 0., 5., 0.,\n",
       "        0., 0.],\n",
       "       [0., 0., 0., 0., 0., 0., 0., 0., 0., 0., 0., 0., 0., 0., 0., 5.,\n",
       "        0., 0.],\n",
       "       [0., 0., 0., 0., 0., 0., 0., 0., 0., 0., 0., 0., 0., 0., 0., 0.,\n",
       "        5., 0.],\n",
       "       [0., 0., 0., 0., 0., 0., 0., 0., 0., 0., 0., 0., 0., 0., 0., 0.,\n",
       "        0., 5.]])"
      ]
     },
     "execution_count": 28,
     "metadata": {},
     "output_type": "execute_result"
    }
   ],
   "source": [
    "transitions"
   ]
  },
  {
   "cell_type": "markdown",
   "metadata": {},
   "source": [
    "Ahora calculamos la probabilidad de transición de cada fonema, esta se encarga de ver el fonema, luego el fonema que le sigue y contar cuantas veces sucede. Esto es supongamos que despues de e, sigue la s 4 veces, en la matriz en la posicion (0,1) de la matriz se guarda el conteo."
   ]
  },
  {
   "cell_type": "code",
   "execution_count": 29,
   "metadata": {},
   "outputs": [
    {
     "name": "stdout",
     "output_type": "stream",
     "text": [
      "Palabra:  [' ', 'e', 's', 't', 'u', 'ca', 'a', 'd', 'o', ' ']\n",
      "Fonemas:  [' ', 'e', 's', 't', 'u', 'k', 'a', 'd', 'o', ' '] \n",
      "\n",
      "Palabra:  [' ', 'e', 's', 't', 'u', 'ca', 'a', 'r', ' ']\n",
      "Fonemas:  [' ', 'e', 's', 't', 'u', 'k', 'a', 'r', ' '] \n",
      "\n",
      "Palabra:  [' ', 'e', 's', 't', 'u', 'ch', 'h', 'e', ' ']\n",
      "Fonemas:  [' ', 'e', 's', 't', 'u', 'ch', '', 'e', ' '] \n",
      "\n",
      "Palabra:  [' ', 'e', 's', 't', 'u', 'co', 'o', ' ']\n",
      "Fonemas:  [' ', 'e', 's', 't', 'u', 'k', 'o', ' '] \n",
      "\n",
      "Palabra:  [' ', 'e', 's', 't', 'u', 'd', 'i', 'a', 'd', 'o', ' ']\n",
      "Fonemas:  [' ', 'e', 's', 't', 'u', 'd', 'i', 'a', 'd', 'o', ' '] \n",
      "\n",
      "Palabra:  [' ', 'e', 's', 't', 'u', 'd', 'i', 'a', 'n', 't', 'a', 'd', 'o', ' ']\n",
      "Fonemas:  [' ', 'e', 's', 't', 'u', 'd', 'i', 'a', 'n', 't', 'a', 'd', 'o', ' '] \n",
      "\n",
      "Palabra:  [' ', 'e', 's', 't', 'u', 'd', 'i', 'a', 'n', 't', 'e', ' ']\n",
      "Fonemas:  [' ', 'e', 's', 't', 'u', 'd', 'i', 'a', 'n', 't', 'e', ' '] \n",
      "\n",
      "Palabra:  [' ', 'e', 's', 't', 'u', 'd', 'i', 'a', 'n', 't', 'e', 's', ' ']\n",
      "Fonemas:  [' ', 'e', 's', 't', 'u', 'd', 'i', 'a', 'n', 't', 'e', 's', ' '] \n",
      "\n",
      "Palabra:  [' ', 'e', 's', 't', 'u', 'd', 'i', 'a', 'n', 't', 'i', 'l', ' ']\n",
      "Fonemas:  [' ', 'e', 's', 't', 'u', 'd', 'i', 'a', 'n', 't', 'i', 'l', ' '] \n",
      "\n",
      "Palabra:  [' ', 'e', 's', 't', 'u', 'd', 'i', 'a', 'n', 't', 'i', 'n', 'a', ' ']\n",
      "Fonemas:  [' ', 'e', 's', 't', 'u', 'd', 'i', 'a', 'n', 't', 'i', 'n', 'a', ' '] \n",
      "\n",
      "Palabra:  [' ', 'e', 's', 't', 'u', 'd', 'i', 'a', 'r', ' ']\n",
      "Fonemas:  [' ', 'e', 's', 't', 'u', 'd', 'i', 'a', 'r', ' '] \n",
      "\n",
      "Palabra:  [' ', 'e', 's', 't', 'u', 'd', 'i', 'o', ' ']\n",
      "Fonemas:  [' ', 'e', 's', 't', 'u', 'd', 'i', 'o', ' '] \n",
      "\n",
      "Palabra:  [' ', 'e', 's', 't', 'u', 'd', 'i', 'o', 's', ' ']\n",
      "Fonemas:  [' ', 'e', 's', 't', 'u', 'd', 'i', 'o', 's', ' '] \n",
      "\n",
      "Palabra:  [' ', 'e', 's', 't', 'u', 'd', 'i', 'o', 's', 'a', 'm', 'e', 'n', 't', 'e', ' ']\n",
      "Fonemas:  [' ', 'e', 's', 't', 'u', 'd', 'i', 'o', 's', 'a', 'm', 'e', 'n', 't', 'e', ' '] \n",
      "\n",
      "Palabra:  [' ', 'e', 's', 't', 'u', 'd', 'i', 'o', 's', 'o', ' ']\n",
      "Fonemas:  [' ', 'e', 's', 't', 'u', 'd', 'i', 'o', 's', 'o', ' '] \n",
      "\n",
      "Palabra:  [' ', 'e', 's', 't', 'u', 'f', 'a', ' ']\n",
      "Fonemas:  [' ', 'e', 's', 't', 'u', 'f', 'a', ' '] \n",
      "\n",
      "Palabra:  [' ', 'e', 's', 't', 'u', 'l', 't', 'i', 'ci', 'i', 'a', ' ']\n",
      "Fonemas:  [' ', 'e', 's', 't', 'u', 'l', 't', 'i', 's', 'i', 'a', ' '] \n",
      "\n",
      "Palabra:  [' ', 'e', 's', 't', 'u', 'l', 't', 'o', ' ']\n",
      "Fonemas:  [' ', 'e', 's', 't', 'u', 'l', 't', 'o', ' '] \n",
      "\n",
      "Palabra:  [' ', 'e', 's', 't', 'u', 'o', 's', 'i', 'd', 'a', 'd', ' ']\n",
      "Fonemas:  [' ', 'e', 's', 't', 'u', 'o', 's', 'i', 'd', 'a', 'd', ' '] \n",
      "\n",
      "Palabra:  [' ', 'e', 's', 't', 'u', 'o', 's', 'o', ' ']\n",
      "Fonemas:  [' ', 'e', 's', 't', 'u', 'o', 's', 'o', ' '] \n",
      "\n",
      "Palabra:  [' ', 'e', 's', 't', 'u', 'p', 'e', 'f', 'a', 'cc', 'ci', 'i', 'o', 'n', ' ']\n",
      "Fonemas:  [' ', 'e', 's', 't', 'u', 'p', 'e', 'f', 'a', 'k', 's', 'i', 'o', 'n', ' '] \n",
      "\n"
     ]
    }
   ],
   "source": [
    "for word in words:\n",
    "    phonems = getPhonems(word,letter2phonem)# obtiene representaion fonematica de palabra\n",
    "    print('Fonemas: ',phonems,'\\n')\n",
    "    for i,phonem in enumerate(phonems[0:-1]):# por cada fonema\n",
    "        x = phonem2index[phonem] #fonema analizar\n",
    "        y = phonem2index[phonems[i+1]] # fonema que le sigue\n",
    "        transitions[x,y]+=1 #suma conteo en matriz en la posición correspondiente"
   ]
  },
  {
   "cell_type": "markdown",
   "metadata": {},
   "source": [
    "Luego normalizamos los conteos a probabilidades"
   ]
  },
  {
   "cell_type": "code",
   "execution_count": 30,
   "metadata": {},
   "outputs": [],
   "source": [
    "probTransitions = np.nan_to_num(transitions/transitions.sum(axis=1)[:,None])"
   ]
  },
  {
   "cell_type": "code",
   "execution_count": 31,
   "metadata": {},
   "outputs": [
    {
     "data": {
      "text/plain": [
       "array([[0.15625   , 0.6875    , 0.        , 0.        , 0.        ,\n",
       "        0.        , 0.        , 0.        , 0.        , 0.        ,\n",
       "        0.        , 0.        , 0.03125   , 0.03125   , 0.        ,\n",
       "        0.        , 0.        , 0.09375   ],\n",
       "       [0.        , 0.14705882, 0.61764706, 0.        , 0.        ,\n",
       "        0.08823529, 0.        , 0.02941176, 0.        , 0.        ,\n",
       "        0.05882353, 0.        , 0.        , 0.        , 0.        ,\n",
       "        0.        , 0.        , 0.05882353],\n",
       "       [0.08823529, 0.        , 0.14705882, 0.61764706, 0.        ,\n",
       "        0.08823529, 0.        , 0.02941176, 0.        , 0.        ,\n",
       "        0.02941176, 0.        , 0.        , 0.        , 0.        ,\n",
       "        0.        , 0.        , 0.        ],\n",
       "       [0.        , 0.        , 0.        , 0.19230769, 0.42307692,\n",
       "        0.        , 0.11538462, 0.        , 0.03846154, 0.07692308,\n",
       "        0.07692308, 0.        , 0.        , 0.03846154, 0.        ,\n",
       "        0.03846154, 0.        , 0.        ],\n",
       "       [0.        , 0.        , 0.        , 0.        , 0.23809524,\n",
       "        0.52380952, 0.        , 0.04761905, 0.        , 0.        ,\n",
       "        0.14285714, 0.        , 0.        , 0.        , 0.        ,\n",
       "        0.        , 0.        , 0.04761905],\n",
       "       [0.        , 0.04545455, 0.        , 0.        , 0.04545455,\n",
       "        0.22727273, 0.        , 0.36363636, 0.        , 0.04545455,\n",
       "        0.22727273, 0.        , 0.04545455, 0.        , 0.        ,\n",
       "        0.        , 0.        , 0.        ],\n",
       "       [0.        , 0.11111111, 0.        , 0.        , 0.        ,\n",
       "        0.        , 0.55555556, 0.22222222, 0.        , 0.        ,\n",
       "        0.11111111, 0.        , 0.        , 0.        , 0.        ,\n",
       "        0.        , 0.        , 0.        ],\n",
       "       [0.        , 0.        , 0.        , 0.        , 0.19047619,\n",
       "        0.        , 0.04761905, 0.23809524, 0.        , 0.        ,\n",
       "        0.        , 0.04761905, 0.23809524, 0.        , 0.0952381 ,\n",
       "        0.        , 0.        , 0.14285714],\n",
       "       [0.        , 0.        , 0.        , 0.        , 0.        ,\n",
       "        0.        , 0.        , 0.        , 0.83333333, 0.        ,\n",
       "        0.        , 0.        , 0.        , 0.        , 0.        ,\n",
       "        0.        , 0.16666667, 0.        ],\n",
       "       [0.        , 0.        , 0.25      , 0.        , 0.        ,\n",
       "        0.        , 0.        , 0.        , 0.        , 0.625     ,\n",
       "        0.        , 0.        , 0.        , 0.        , 0.        ,\n",
       "        0.        , 0.        , 0.125     ],\n",
       "       [0.        , 0.26315789, 0.        , 0.        , 0.        ,\n",
       "        0.        , 0.        , 0.        , 0.        , 0.        ,\n",
       "        0.26315789, 0.        , 0.05263158, 0.        , 0.        ,\n",
       "        0.        , 0.        , 0.42105263],\n",
       "       [0.16666667, 0.        , 0.        , 0.        , 0.        ,\n",
       "        0.        , 0.        , 0.        , 0.        , 0.        ,\n",
       "        0.        , 0.83333333, 0.        , 0.        , 0.        ,\n",
       "        0.        , 0.        , 0.        ],\n",
       "       [0.        , 0.        , 0.46153846, 0.        , 0.        ,\n",
       "        0.        , 0.        , 0.07692308, 0.        , 0.        ,\n",
       "        0.        , 0.        , 0.38461538, 0.        , 0.        ,\n",
       "        0.        , 0.        , 0.07692308],\n",
       "       [0.        , 0.        , 0.        , 0.        , 0.        ,\n",
       "        0.        , 0.        , 0.28571429, 0.        , 0.        ,\n",
       "        0.        , 0.        , 0.        , 0.71428571, 0.        ,\n",
       "        0.        , 0.        , 0.        ],\n",
       "       [0.        , 0.        , 0.        , 0.        , 0.        ,\n",
       "        0.        , 0.        , 0.        , 0.        , 0.        ,\n",
       "        0.        , 0.        , 0.        , 0.        , 0.71428571,\n",
       "        0.        , 0.        , 0.28571429],\n",
       "       [0.16666667, 0.        , 0.        , 0.        , 0.        ,\n",
       "        0.        , 0.        , 0.        , 0.        , 0.        ,\n",
       "        0.        , 0.        , 0.        , 0.        , 0.        ,\n",
       "        0.83333333, 0.        , 0.        ],\n",
       "       [0.16666667, 0.        , 0.        , 0.        , 0.        ,\n",
       "        0.        , 0.        , 0.        , 0.        , 0.        ,\n",
       "        0.        , 0.        , 0.        , 0.        , 0.        ,\n",
       "        0.        , 0.83333333, 0.        ],\n",
       "       [0.80769231, 0.        , 0.        , 0.        , 0.        ,\n",
       "        0.        , 0.        , 0.        , 0.        , 0.        ,\n",
       "        0.        , 0.        , 0.        , 0.        , 0.        ,\n",
       "        0.        , 0.        , 0.19230769]])"
      ]
     },
     "execution_count": 31,
     "metadata": {},
     "output_type": "execute_result"
    }
   ],
   "source": [
    "probTransitions"
   ]
  },
  {
   "cell_type": "code",
   "execution_count": 32,
   "metadata": {},
   "outputs": [
    {
     "data": {
      "text/plain": [
       "(18, 18)"
      ]
     },
     "execution_count": 32,
     "metadata": {},
     "output_type": "execute_result"
    }
   ],
   "source": [
    "probTransitions.shape"
   ]
  },
  {
   "cell_type": "code",
   "execution_count": 33,
   "metadata": {},
   "outputs": [
    {
     "data": {
      "text/plain": [
       "array([[0.15625   , 0.6875    , 0.        , 0.        , 0.        ,\n",
       "        0.        , 0.        , 0.        , 0.        , 0.        ,\n",
       "        0.        , 0.        , 0.03125   , 0.03125   , 0.        ,\n",
       "        0.        , 0.        , 0.09375   ],\n",
       "       [0.        , 0.14705882, 0.61764706, 0.        , 0.        ,\n",
       "        0.08823529, 0.        , 0.02941176, 0.        , 0.        ,\n",
       "        0.05882353, 0.        , 0.        , 0.        , 0.        ,\n",
       "        0.        , 0.        , 0.05882353],\n",
       "       [0.08823529, 0.        , 0.14705882, 0.61764706, 0.        ,\n",
       "        0.08823529, 0.        , 0.02941176, 0.        , 0.        ,\n",
       "        0.02941176, 0.        , 0.        , 0.        , 0.        ,\n",
       "        0.        , 0.        , 0.        ],\n",
       "       [0.        , 0.        , 0.        , 0.19230769, 0.42307692,\n",
       "        0.        , 0.11538462, 0.        , 0.03846154, 0.07692308,\n",
       "        0.07692308, 0.        , 0.        , 0.03846154, 0.        ,\n",
       "        0.03846154, 0.        , 0.        ],\n",
       "       [0.        , 0.        , 0.        , 0.        , 0.23809524,\n",
       "        0.52380952, 0.        , 0.04761905, 0.        , 0.        ,\n",
       "        0.14285714, 0.        , 0.        , 0.        , 0.        ,\n",
       "        0.        , 0.        , 0.04761905],\n",
       "       [0.        , 0.04545455, 0.        , 0.        , 0.04545455,\n",
       "        0.22727273, 0.        , 0.36363636, 0.        , 0.04545455,\n",
       "        0.22727273, 0.        , 0.04545455, 0.        , 0.        ,\n",
       "        0.        , 0.        , 0.        ],\n",
       "       [0.        , 0.11111111, 0.        , 0.        , 0.        ,\n",
       "        0.        , 0.55555556, 0.22222222, 0.        , 0.        ,\n",
       "        0.11111111, 0.        , 0.        , 0.        , 0.        ,\n",
       "        0.        , 0.        , 0.        ],\n",
       "       [0.        , 0.        , 0.        , 0.        , 0.19047619,\n",
       "        0.        , 0.04761905, 0.23809524, 0.        , 0.        ,\n",
       "        0.        , 0.04761905, 0.23809524, 0.        , 0.0952381 ,\n",
       "        0.        , 0.        , 0.14285714],\n",
       "       [0.        , 0.        , 0.        , 0.        , 0.        ,\n",
       "        0.        , 0.        , 0.        , 0.83333333, 0.        ,\n",
       "        0.        , 0.        , 0.        , 0.        , 0.        ,\n",
       "        0.        , 0.16666667, 0.        ],\n",
       "       [0.        , 0.        , 0.25      , 0.        , 0.        ,\n",
       "        0.        , 0.        , 0.        , 0.        , 0.625     ,\n",
       "        0.        , 0.        , 0.        , 0.        , 0.        ,\n",
       "        0.        , 0.        , 0.125     ],\n",
       "       [0.        , 0.26315789, 0.        , 0.        , 0.        ,\n",
       "        0.        , 0.        , 0.        , 0.        , 0.        ,\n",
       "        0.26315789, 0.        , 0.05263158, 0.        , 0.        ,\n",
       "        0.        , 0.        , 0.42105263],\n",
       "       [0.16666667, 0.        , 0.        , 0.        , 0.        ,\n",
       "        0.        , 0.        , 0.        , 0.        , 0.        ,\n",
       "        0.        , 0.83333333, 0.        , 0.        , 0.        ,\n",
       "        0.        , 0.        , 0.        ],\n",
       "       [0.        , 0.        , 0.46153846, 0.        , 0.        ,\n",
       "        0.        , 0.        , 0.07692308, 0.        , 0.        ,\n",
       "        0.        , 0.        , 0.38461538, 0.        , 0.        ,\n",
       "        0.        , 0.        , 0.07692308],\n",
       "       [0.        , 0.        , 0.        , 0.        , 0.        ,\n",
       "        0.        , 0.        , 0.28571429, 0.        , 0.        ,\n",
       "        0.        , 0.        , 0.        , 0.71428571, 0.        ,\n",
       "        0.        , 0.        , 0.        ],\n",
       "       [0.        , 0.        , 0.        , 0.        , 0.        ,\n",
       "        0.        , 0.        , 0.        , 0.        , 0.        ,\n",
       "        0.        , 0.        , 0.        , 0.        , 0.71428571,\n",
       "        0.        , 0.        , 0.28571429],\n",
       "       [0.16666667, 0.        , 0.        , 0.        , 0.        ,\n",
       "        0.        , 0.        , 0.        , 0.        , 0.        ,\n",
       "        0.        , 0.        , 0.        , 0.        , 0.        ,\n",
       "        0.83333333, 0.        , 0.        ],\n",
       "       [0.16666667, 0.        , 0.        , 0.        , 0.        ,\n",
       "        0.        , 0.        , 0.        , 0.        , 0.        ,\n",
       "        0.        , 0.        , 0.        , 0.        , 0.        ,\n",
       "        0.        , 0.83333333, 0.        ],\n",
       "       [0.80769231, 0.        , 0.        , 0.        , 0.        ,\n",
       "        0.        , 0.        , 0.        , 0.        , 0.        ,\n",
       "        0.        , 0.        , 0.        , 0.        , 0.        ,\n",
       "        0.        , 0.        , 0.19230769]])"
      ]
     },
     "execution_count": 33,
     "metadata": {},
     "output_type": "execute_result"
    }
   ],
   "source": [
    "probTransitions"
   ]
  },
  {
   "cell_type": "markdown",
   "metadata": {},
   "source": [
    "Verificamos que cumplan la propiedad que la suma de probabilidades de 1"
   ]
  },
  {
   "cell_type": "code",
   "execution_count": 34,
   "metadata": {},
   "outputs": [
    {
     "data": {
      "text/plain": [
       "array([1., 1., 1., 1., 1., 1., 1., 1., 1., 1., 1., 1., 1., 1., 1., 1., 1.,\n",
       "       1.])"
      ]
     },
     "execution_count": 34,
     "metadata": {},
     "output_type": "execute_result"
    }
   ],
   "source": [
    "probTransitions.sum(axis=1)"
   ]
  },
  {
   "cell_type": "markdown",
   "metadata": {},
   "source": [
    "# Probabilidades Pi"
   ]
  },
  {
   "cell_type": "markdown",
   "metadata": {},
   "source": [
    "Ahora calcularemos las probabilidades sin dependencia a priori o tambien conocidas como probabilidades iniciales. Para esto vemos cuantas veces se repiten los fonemas en cada palabra.\n",
    "\n",
    "Inicializamos cada conteo en 0 de cada fonema"
   ]
  },
  {
   "cell_type": "code",
   "execution_count": 35,
   "metadata": {},
   "outputs": [],
   "source": [
    "phonemsPI = {\n",
    "    'e':0,'s':0,'t':0,'u':0,'d':0,'i':0,'k':0,'a':0,'ch':0,'l':0,\n",
    "    'o':0,'m':0,'n':0,'f':0,'r':0,'p':0,'':0,' ':0\n",
    "}"
   ]
  },
  {
   "cell_type": "markdown",
   "metadata": {},
   "source": [
    "Luego realizamos el correspondiente conteo"
   ]
  },
  {
   "cell_type": "code",
   "execution_count": 36,
   "metadata": {},
   "outputs": [
    {
     "name": "stdout",
     "output_type": "stream",
     "text": [
      "Palabra:  [' ', 'e', 's', 't', 'u', 'ca', 'a', 'd', 'o', ' ']\n",
      "Palabra:  [' ', 'e', 's', 't', 'u', 'ca', 'a', 'r', ' ']\n",
      "Palabra:  [' ', 'e', 's', 't', 'u', 'ch', 'h', 'e', ' ']\n",
      "Palabra:  [' ', 'e', 's', 't', 'u', 'co', 'o', ' ']\n",
      "Palabra:  [' ', 'e', 's', 't', 'u', 'd', 'i', 'a', 'd', 'o', ' ']\n",
      "Palabra:  [' ', 'e', 's', 't', 'u', 'd', 'i', 'a', 'n', 't', 'a', 'd', 'o', ' ']\n",
      "Palabra:  [' ', 'e', 's', 't', 'u', 'd', 'i', 'a', 'n', 't', 'e', ' ']\n",
      "Palabra:  [' ', 'e', 's', 't', 'u', 'd', 'i', 'a', 'n', 't', 'e', 's', ' ']\n",
      "Palabra:  [' ', 'e', 's', 't', 'u', 'd', 'i', 'a', 'n', 't', 'i', 'l', ' ']\n",
      "Palabra:  [' ', 'e', 's', 't', 'u', 'd', 'i', 'a', 'n', 't', 'i', 'n', 'a', ' ']\n",
      "Palabra:  [' ', 'e', 's', 't', 'u', 'd', 'i', 'a', 'r', ' ']\n",
      "Palabra:  [' ', 'e', 's', 't', 'u', 'd', 'i', 'o', ' ']\n",
      "Palabra:  [' ', 'e', 's', 't', 'u', 'd', 'i', 'o', 's', ' ']\n",
      "Palabra:  [' ', 'e', 's', 't', 'u', 'd', 'i', 'o', 's', 'a', 'm', 'e', 'n', 't', 'e', ' ']\n",
      "Palabra:  [' ', 'e', 's', 't', 'u', 'd', 'i', 'o', 's', 'o', ' ']\n",
      "Palabra:  [' ', 'e', 's', 't', 'u', 'f', 'a', ' ']\n",
      "Palabra:  [' ', 'e', 's', 't', 'u', 'l', 't', 'i', 'ci', 'i', 'a', ' ']\n",
      "Palabra:  [' ', 'e', 's', 't', 'u', 'l', 't', 'o', ' ']\n",
      "Palabra:  [' ', 'e', 's', 't', 'u', 'o', 's', 'i', 'd', 'a', 'd', ' ']\n",
      "Palabra:  [' ', 'e', 's', 't', 'u', 'o', 's', 'o', ' ']\n",
      "Palabra:  [' ', 'e', 's', 't', 'u', 'p', 'e', 'f', 'a', 'cc', 'ci', 'i', 'o', 'n', ' ']\n"
     ]
    }
   ],
   "source": [
    "for word in words:\n",
    "    phonems = getPhonems(word,letter2phonem) #representacion fonetica de palabra\n",
    "    for phonem in phonems:\n",
    "        phonemsPI[phonem]+=1 # añade conteo cada vez que se encuentra el fonema"
   ]
  },
  {
   "cell_type": "code",
   "execution_count": 37,
   "metadata": {},
   "outputs": [],
   "source": [
    "PI = phonemsPI.copy()\n",
    "totalLetters = sum(PI.values()) # sumamos el numero de veces que aparecen todos los fonemas\n",
    "for key in PI.keys():\n",
    "    PI[key] = PI[key]/totalLetters  # lo convertimos a probabilidad"
   ]
  },
  {
   "cell_type": "code",
   "execution_count": 38,
   "metadata": {},
   "outputs": [
    {
     "data": {
      "text/plain": [
       "{'e': 27,\n",
       " 's': 29,\n",
       " 't': 29,\n",
       " 'u': 21,\n",
       " 'd': 16,\n",
       " 'i': 17,\n",
       " 'k': 4,\n",
       " 'a': 16,\n",
       " 'ch': 1,\n",
       " 'l': 3,\n",
       " 'o': 14,\n",
       " 'm': 1,\n",
       " 'n': 8,\n",
       " 'f': 2,\n",
       " 'r': 2,\n",
       " 'p': 1,\n",
       " '': 1,\n",
       " ' ': 42}"
      ]
     },
     "execution_count": 38,
     "metadata": {},
     "output_type": "execute_result"
    }
   ],
   "source": [
    "phonemsPI"
   ]
  },
  {
   "cell_type": "markdown",
   "metadata": {},
   "source": [
    "Mostramos las probabilidades iniciales de cada fonema, notemas que la mayo prbabilidad recae en silencio."
   ]
  },
  {
   "cell_type": "code",
   "execution_count": 39,
   "metadata": {},
   "outputs": [
    {
     "data": {
      "text/plain": [
       "{'e': 0.11538461538461539,\n",
       " 's': 0.12393162393162394,\n",
       " 't': 0.12393162393162394,\n",
       " 'u': 0.08974358974358974,\n",
       " 'd': 0.06837606837606838,\n",
       " 'i': 0.07264957264957266,\n",
       " 'k': 0.017094017094017096,\n",
       " 'a': 0.06837606837606838,\n",
       " 'ch': 0.004273504273504274,\n",
       " 'l': 0.01282051282051282,\n",
       " 'o': 0.05982905982905983,\n",
       " 'm': 0.004273504273504274,\n",
       " 'n': 0.03418803418803419,\n",
       " 'f': 0.008547008547008548,\n",
       " 'r': 0.008547008547008548,\n",
       " 'p': 0.004273504273504274,\n",
       " '': 0.004273504273504274,\n",
       " ' ': 0.1794871794871795}"
      ]
     },
     "execution_count": 39,
     "metadata": {},
     "output_type": "execute_result"
    }
   ],
   "source": [
    "PI"
   ]
  },
  {
   "cell_type": "markdown",
   "metadata": {},
   "source": [
    "# HMM"
   ]
  },
  {
   "cell_type": "markdown",
   "metadata": {},
   "source": [
    "Ahora procederemos finalmente a ajustar nuestro modelo Gaussianiano mixto"
   ]
  },
  {
   "cell_type": "code",
   "execution_count": 40,
   "metadata": {},
   "outputs": [],
   "source": [
    "from hmmlearn.hmm import GaussianHMM"
   ]
  },
  {
   "cell_type": "code",
   "execution_count": 41,
   "metadata": {},
   "outputs": [],
   "source": [
    "HMMmodel = GaussianHMM(n_components=18,covariance_type=\"full\") # 18 componentes por que tenemos 18 fonemas\n",
    "HMMmodel.startprob_ = list(PI.values()) # Vector de probabilidades iniciales\n",
    "HMMmodel.transmat_ = probTransitions    # Matriz de transicion\n",
    "HMMmodel.means_ = means                 # Matriz de medias\n",
    "HMMmodel.covars_ = cov                  # Matriz de covarianzas"
   ]
  },
  {
   "cell_type": "code",
   "execution_count": 42,
   "metadata": {},
   "outputs": [],
   "source": [
    "# Diccionario para traducir indices a fonemas\n",
    "index2phonem = {\n",
    "    0:'e',1:'s',2:'t',3:'u',4:'d',5:'i',6:'k',7:'a',8:'ch',\n",
    "    9:'l',10:'o',11:'m',12:'n',13:'f',14:'r',15:'p',16:'',17:' '\n",
    "}"
   ]
  },
  {
   "cell_type": "markdown",
   "metadata": {},
   "source": [
    "Verificamos que las predicciones se ajusten un poco a las palabras reales, es notable que no será perfecto pues, tenemos muy pocos datos (Voces). Sin embargo como elegimos palabras muy parecidas predicen muy bien la 'estructura' de la mayoría de palabras."
   ]
  },
  {
   "cell_type": "code",
   "execution_count": 43,
   "metadata": {},
   "outputs": [
    {
     "name": "stdout",
     "output_type": "stream",
     "text": [
      "Palabra:  estucado  --->   eeeeesttttttttaaaadddooooost\n",
      "Palabra:  estucar  --->    eestttttttttttttuukkaaaaaa estttt\n",
      "Palabra:  estuche  --->    eeesttttttttttuuuudill  eeeeeeees\n",
      "Palabra:  estuco  --->   eeesttossttttttuuuuuuooooo est\n",
      "Palabra:  estudiado  --->   eesttttttuuudddddiaaaddostttttt\n",
      "Palabra:  estudiantado  --->   eeestttttuuudddddiaaadddostttadddoostttt\n",
      "Palabra:  estudiante  --->    eeesttttttttttuudddddddiaaaaaanntttttteeeeest\n",
      "Palabra:  estudiantes  --->    eeeessstttttttuuuuudddiiaaaaaa esttteeeeeestttttt\n",
      "Palabra:  estudiantil  --->    eestttosttttttuuddddostiaaa ee    esttttttttttttt\n",
      "Palabra:  estudiantina  --->    eeeessstttttttuuuuddddiiaaddosonttttttiiiistttttttttt\n",
      "Palabra:  estudiar  --->   eeessstttttuuudddiaaaaadostt\n",
      "Palabra:  estudio  --->   eesttttttttuuudddiooooo  \n",
      "Palabra:  estudios  --->   eesttttttttudddddiooooosss e\n",
      "Palabra:  estudiosamente  --->   eeessttttttudddddiooooossssaameeeeentttttttto \n",
      "Palabra:  estudioso  --->   eeessssstttuuudddiooooosooooo  \n",
      "Palabra:  estufa  --->   eeessstttttuuuuddaaa  \n",
      "Palabra:  estulticia  --->   eeessttttttuuultttttooosssiiistttt\n",
      "Palabra:  estulto  --->   eeessttttttuuultttttoooss\n",
      "Palabra:  estuosidad  --->   eeessttttttuooooosssstudddaddddd  \n",
      "Palabra:  estuoso  --->   eesttttttttuooooosooooo  \n",
      "Palabra:  estupefaccion  --->   estttuuuostuuuuo eee esta esssssiooooostttt\n"
     ]
    }
   ],
   "source": [
    "# Prediciendo las palabras\n",
    "for i,palabra in enumerate(words):\n",
    "    R = np.concatenate(fonemas[i],axis=1)\n",
    "    predtictWord = HMMmodel.predict(R.T)\n",
    "    print(\"Palabra:\",palabra,\"--->\",reduce(lambda x,y : x+y, [index2phonem[l] for l in predtictWord]))"
   ]
  },
  {
   "cell_type": "markdown",
   "metadata": {},
   "source": [
    "## Predicción Nuevas Palabras"
   ]
  },
  {
   "cell_type": "markdown",
   "metadata": {},
   "source": [
    "Para realizar unas últimas pruebas se realizaron 10 nuevas grabaciones y se utilizó el modelo para predecir sus fonemas"
   ]
  },
  {
   "cell_type": "code",
   "execution_count": 44,
   "metadata": {},
   "outputs": [],
   "source": [
    "dia, fs = sf.read('Audios/dia.wav', dtype='float32')\n",
    "tu, fs = sf.read('Audios/tu.wav', dtype='float32')\n",
    "antes, fs = sf.read('Audios/antes.wav', dtype='float32')\n",
    "carro, fs = sf.read('Audios/carro.wav', dtype='float32')\n",
    "dado, fs = sf.read('Audios/dado.wav', dtype='float32')\n",
    "mente, fs = sf.read('Audios/mente.wav', dtype='float32')\n",
    "tina, fs = sf.read('Audios/tina.wav', dtype='float32')\n",
    "si, fs = sf.read('Audios/si.wav', dtype='float32')\n",
    "carroceria, fs = sf.read('Audios/carroceria.wav', dtype='float32')\n",
    "faccion, fs = sf.read('Audios/faccion.wav', dtype='float32')\n"
   ]
  },
  {
   "cell_type": "code",
   "execution_count": 45,
   "metadata": {},
   "outputs": [],
   "source": [
    "# la lista nos sera util para no repetir funciones\n",
    "lista_sonidosp =[(dia,5),(tu,4),(antes,7),(carro,7),(dado,5),(mente,7),(tina,6),(si,4),(carroceria,12),(faccion,8)]"
   ]
  },
  {
   "cell_type": "code",
   "execution_count": 46,
   "metadata": {},
   "outputs": [],
   "source": [
    "wordsp = ['dia','tu','antes','carro','dado','mente','tina','si','carroceria','faccion']\n",
    "wordsp = [' '+n+' ' for n in wordsp]"
   ]
  },
  {
   "cell_type": "code",
   "execution_count": 47,
   "metadata": {},
   "outputs": [],
   "source": [
    "# Creando la matriz del espectrograma\n",
    "n_window = int(0.02*fs)\n",
    "len_over = int(0.01*fs) # Number overlap between samples\n",
    "nfft = 512              # Number Points FFT\n",
    "n_mels = 39\n",
    "lista_espectrogramas_melp =[]\n",
    "for sonido in lista_sonidosp: # Iteramos por cada sonido\n",
    "    mel = librosa.feature.melspectrogram(sonido[0],sr=fs,n_fft=512,win_length=n_window,window='hann',n_mels=n_mels) # obteniendo coeficientes mel\n",
    "    lista_espectrogramas_melp.append((mel,sonido[1]))"
   ]
  },
  {
   "cell_type": "code",
   "execution_count": 48,
   "metadata": {},
   "outputs": [],
   "source": [
    "fonemasp = [getFonemas(melSpec,nFonem) for melSpec,nFonem in lista_espectrogramas_melp] "
   ]
  },
  {
   "cell_type": "code",
   "execution_count": 49,
   "metadata": {},
   "outputs": [
    {
     "name": "stdout",
     "output_type": "stream",
     "text": [
      "Palabra:  dia  ---> fffffffffffffff\n",
      "Palabra:  tu  ---> uuuuuuuuuuuuuudd\n",
      "Palabra:  antes  ---> rrrrr   eesto       e\n",
      "Palabra:  carro  ---> rrrrrrrr             \n",
      "Palabra:  dado  ---> pppppppppee         \n",
      "Palabra:  mente  ---> nnnn      esttto   e \n",
      "Palabra:  tina  ---> llllltulllllll   e\n",
      "Palabra:  si  ---> lllll     es\n",
      "Palabra:  carroceria  ---> rrrrrrrrrrrrr   eee            efffa\n",
      "Palabra:  faccion  ---> rrrrrrrrrrr  es  e esinnnnn    e\n"
     ]
    }
   ],
   "source": [
    "# Prediciendo las palabras\n",
    "for i,palabra in enumerate(wordsp):\n",
    "    R = np.concatenate(fonemasp[i],axis=1)\n",
    "    predtictWord = HMMmodel.predict(R.T)\n",
    "    print(\"Palabra:\",palabra,\"--->\",reduce(lambda x,y : x+y, [index2phonem[l] for l in predtictWord]))"
   ]
  },
  {
   "cell_type": "markdown",
   "metadata": {},
   "source": [
    "Se puede observar que claramente los resultados son malos, esto se puede deber a que las pruebas anteriores se realziaron con las mismas palabras de entrenamiento y, además, las nuevas palabras no contienen los patrones de estu- que si están en todas las de entrenamiento.\n",
    "\n",
    "Este modelo funciona muy bien con las palabras de entrenamiento, en comparación con la red neuronal que se implementó. "
   ]
  },
  {
   "cell_type": "code",
   "execution_count": null,
   "metadata": {},
   "outputs": [],
   "source": []
  }
 ],
 "metadata": {
  "kernelspec": {
   "display_name": "Python 3",
   "language": "python",
   "name": "python3"
  },
  "language_info": {
   "codemirror_mode": {
    "name": "ipython",
    "version": 3
   },
   "file_extension": ".py",
   "mimetype": "text/x-python",
   "name": "python",
   "nbconvert_exporter": "python",
   "pygments_lexer": "ipython3",
   "version": "3.8.8"
  },
  "latex_envs": {
   "LaTeX_envs_menu_present": true,
   "autoclose": false,
   "autocomplete": true,
   "bibliofile": "biblio.bib",
   "cite_by": "apalike",
   "current_citInitial": 1,
   "eqLabelWithNumbers": true,
   "eqNumInitial": 1,
   "hotkeys": {
    "equation": "Ctrl-E",
    "itemize": "Ctrl-I"
   },
   "labels_anchors": false,
   "latex_user_defs": false,
   "report_style_numbering": false,
   "user_envs_cfg": false
  }
 },
 "nbformat": 4,
 "nbformat_minor": 2
}
