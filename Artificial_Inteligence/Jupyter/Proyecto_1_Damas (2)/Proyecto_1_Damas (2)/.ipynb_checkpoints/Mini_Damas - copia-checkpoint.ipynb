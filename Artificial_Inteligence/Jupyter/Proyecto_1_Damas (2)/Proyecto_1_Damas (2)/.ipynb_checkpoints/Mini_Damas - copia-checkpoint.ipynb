{
 "cells": [
  {
   "cell_type": "markdown",
   "metadata": {},
   "source": [
    "Juan Miguel Gutierrez Vidal\n",
    "\n",
    "Juan Camilo Llanos"
   ]
  },
  {
   "cell_type": "markdown",
   "metadata": {},
   "source": [
    "# Solución al problema de Mini-damas"
   ]
  },
  {
   "cell_type": "markdown",
   "metadata": {},
   "source": [
    "Las  damas  inglesas,  o  mas  conocida  como  “chekers”,  es  uno  de  los  juegos  m ́as  viejos  que  hansobrevivido al paso del tiempo.El juego de las damas posee cerca de 500 billones de billones deposibles posiciones (5×1020).  Dado la complejidad computacional necesaria para solucionar el juego, decidimosconvertirlo en un mini-damas de (4×4), con 4 fichas. Para solucionar un juego de 10 fichas, esnecesario guardar las posiciones en 237 GB ,ya que para 10 fichas en un tablero de 8×8, existen39, trillones de posiciones. "
   ]
  },
  {
   "cell_type": "markdown",
   "metadata": {},
   "source": [
    "\\begin{figure}[H]\n",
    "    \\centering\n",
    "    \\includegraphics[width=2cm]{./Imagenes_informe/minidamas.jpg} }}%\n",
    "\\end{figure}"
   ]
  },
  {
   "cell_type": "markdown",
   "metadata": {},
   "source": [
    "## Reglas Mini-Damas\n",
    "\n",
    "\\begin{itemize}\n",
    "    \\item \\textbf{Objetivo:} Eliminar todas las fichas del oponente.\n",
    "    \\item \\textbf{Numero de jugadores:} 2, uno juega con fichas blancas y otro con negras.\n",
    "    \\item \\textbf{Configuración:} Cada jugador hace sus jugadas por turnos en un tablero $4\\times4$. Cada uno inicia con dos fichas: Las blancas inician con las dos fichas en la posición $(0,0)$ y $(2,0)$. Las negras inician con las dos fichas en la posición $(1,3)$ y $(3,3)$ (Figura \\ref{fig:config1}).\n",
    "    \\item \\textbf{Movimientos}: \n",
    "    \\begin{itemize}\n",
    "        \\item Los peones siempre se mueven diagonalmente hacia adelante, hacia el lado del oponente (Figura \\ref{fig:config1}).\n",
    "        \\item Para mover un peón en un espacio diagonal , es necesario que el espacio se encuentre vacío. Si el espacio se encuentra ocupado por una ficha del oponente  y se encuentra el espacio diagonal en la misma dirección vacía, se mueve a este espacio vacío y se captura la ficha del contrincante (Figura \\ref{fig:config2}).\n",
    "        \\item Si todos los cuadrados adyacentes (Diagonales) al peón, se encuentran ocupados, el peón no se podrá mover (Figura \\ref{fig:config2}).\n",
    "    \\end{itemize}\n",
    "    \\item \\textbf{Reinas:} Si las fichas llegan a la primera fila del bando el oponente, se convierten en reinas, estas pueden moverse  y comer diagonalmente hacia atrás y adelante.\n",
    "    \\item \\textbf{Ganador:} El primer jugador que capture todas las damas del oponente , gana !\n",
    "    \\item \\textbf{Empate:}: Se considera empate si después de 10 movidas ninguna ficha se come a otra.(En las damas $8\\times8$ son entre 40 y 50 movimientos \\cite{lib1})\n",
    "    \n",
    "\\end{itemize}"
   ]
  },
  {
   "cell_type": "markdown",
   "metadata": {},
   "source": [
    "### Definicion Formal\n",
    "\n",
    "La solución al problema requiere una definición formal previa a la implementación en python, que es la siguiente:\n",
    "\n",
    "\\noindent \\textbf{Estado Inicial:} Situación del entorno desde el cual comienza el juego. En el caso de las damas, el estado inicial es el tablero con las 2 fichas de cada bando en sus posiciones respectivas.\n",
    "\n",
    "\\noindent \\textbf{Turno($s$)-Jugador($s$):} Define cuál jugador tiene el turno en el estado $s$, el cual puede ser \\textit{blancas} o \\textit{negras}. (Realmente es un propiedad del objeto damas, no una función).\n",
    "\n",
    "\\noindent \\textbf{Llenar($s$):} Llena el tablero con la configuración inicial del juego. Se debe correr este método al inicializar el objeto damas (El juego).\n",
    "\n",
    "\\noindent \\textbf{Posibles acciones($s$):} Descripción de las posibles acciones del Jugador($s$), dado un estado $s$. En este caso, para cada ficha del jugador los posibles movimientos que puede realizar en un movimiento.\n",
    "\n",
    "\\noindent \\textbf{Funciones de transiciones ($s,f,m$):} Descripción del entorno que resulta de la ejecución de mover la ficha $f$ utilizando el movimiento $m$, por el Jugador($s$) en el estado $s$. Junto con el estado inicial y las posibles acciones, la función de transiciones define el espacio de estados del juego.\n",
    "\n",
    "\\noindent \\textbf{Prueba de objetivo ($s$):} Permite determinar si el juego se termina cuando se obtiene el estado $s$. Esto sucede si algún jugador, no tiene fichas con las que jugar, o han pasado mas de 10 jugadas sin comerse una ficha.\n",
    "\n",
    "\\noindent \\textbf{Función de utilidad ($s$):} Definida sólo cuando el juego se termina en el estado $s$, y especifica la utilidad asociada al estado $s$. En el caso de las damas asumiremos que si el ganador son las \\textbf{blancas}, la utilidad es 1; si el ganador son las \\textit{negras}, la utilidad es -1; en caso de empate, la utilidad es 0."
   ]
  },
  {
   "cell_type": "markdown",
   "metadata": {},
   "source": [
    "\\begin{figure}[H]\n",
    "    \\centering\n",
    "    \\includegraphics[width=2cm]{./Imagenes_informe/jupyter1.png} }}%\n",
    "\\end{figure}"
   ]
  },
  {
   "cell_type": "markdown",
   "metadata": {},
   "source": [
    "\\begin{figure}[H]\n",
    "    \\centering\n",
    "    \\includegraphics[width=2cm]{./Imagenes_informe/jupyter2.png} }}%\n",
    "\\end{figure}"
   ]
  },
  {
   "cell_type": "markdown",
   "metadata": {},
   "source": [
    "## Simplificacion\n",
    "1. Si una ficha come otra, sigue el turno del siguiente contricante.\n",
    "2. 4x4\n",
    "3. Si despues de 10 turnos, ninguna ficha nueva ha sido comida, es empate (se considera 40 movidas para que sea empate)."
   ]
  },
  {
   "cell_type": "markdown",
   "metadata": {},
   "source": [
    "### Implementacion"
   ]
  },
  {
   "cell_type": "code",
   "execution_count": 80,
   "metadata": {},
   "outputs": [],
   "source": [
    "import matplotlib.pyplot as plt\n",
    "import matplotlib.patches as patches\n",
    "from matplotlib.offsetbox import AnnotationBbox, OffsetImage\n",
    "import numpy as np\n",
    "from random import choice\n",
    "import copy\n",
    "import operator\n",
    "from IPython.display import clear_output\n",
    "import time\n",
    "\n",
    "%matplotlib inline"
   ]
  },
  {
   "cell_type": "code",
   "execution_count": 88,
   "metadata": {},
   "outputs": [],
   "source": [
    "class damas:\n",
    "    \n",
    "    def __init__(self):\n",
    "        self.estado = None# matriz 4x4\n",
    "        self.blancas = [] # # lista de posiciones (x,y) de fichas blancas\n",
    "        self.negras = [] # # lista de posiciones (x,y) de fichas negras\n",
    "        self.turno = 2  # primero comienzan blancas\n",
    "        self.reinas_blancas= [] # #reinas son figuras que coronan hasta la última linea\n",
    "        self.reinas_negras= [] #  #reinas son figuras que coronan hasta la última linea\n",
    "        self.empate = 0 #\n",
    "    \n",
    "    def estado_inicial(self):\n",
    "        return np.matrix([[0]*4]*4)\n",
    "    \n",
    "    def pintar_estado(self, estado):\n",
    "        # Dibuja el tablero correspondiente al estado\n",
    "        # Input: estado, que es una 3-lista de 3-listas\n",
    "        fig, axes = plt.subplots(figsize=(9,8))\n",
    "\n",
    "        # Dibujo el tablero\n",
    "        step = 1./4\n",
    "        offset = 0.001\n",
    "        tangulos = []\n",
    "\n",
    "        # Borde del tablero\n",
    "        tangulos.append(patches.Rectangle((0,0),0.998,0.998,\\\n",
    "                                          facecolor='cornsilk',\\\n",
    "                                         edgecolor='black',\\\n",
    "                                         linewidth=2))\n",
    "\n",
    "        # Creo las líneas del tablero\n",
    "        for j in range(4):\n",
    "            locacion = j * step\n",
    "            # Crea linea horizontal en el rectangulo\n",
    "            tangulos.append(patches.Rectangle(*[(0, locacion), 1, 0.008],\\\n",
    "                    facecolor='black'))\n",
    "            # Crea linea vertical en el rectangulo\n",
    "            tangulos.append(patches.Rectangle(*[(locacion, 0), 0.008, 1],\\\n",
    "                    facecolor='black'))\n",
    "\n",
    "        for t in tangulos:\n",
    "            axes.add_patch(t)\n",
    "\n",
    "        # Cargando imagen de O\n",
    "        arr_img_O = plt.imread(\"./imagenes/negra.png\", format='png')\n",
    "        image_O = OffsetImage(arr_img_O, zoom=0.13)\n",
    "        image_O.image.axes = axes\n",
    "\n",
    "        # Cargando imagen de X\n",
    "        arr_img_X = plt.imread(\"./imagenes/blanca.png\", format='png')\n",
    "        image_X = OffsetImage(arr_img_X, zoom=0.13)\n",
    "        image_X.image.axes = axes\n",
    "\n",
    "        offsetX = 0.13\n",
    "        offsetY = 0.13\n",
    "\n",
    "        # ASUMO QUE LAS 'blancas' SE REPRESENTAN CON 1 EN LA MATRIZ\n",
    "        # Y QUE LAS 'negras' SE REPRESENTAN CON 2\n",
    "        for i in range(4):\n",
    "            for j in range(4):\n",
    "                if estado[j, i] == 1:\n",
    "                    # print(\"O en (\" + str(i) + \", \" + str(j) + \")\")\n",
    "                    Y = 3 - j\n",
    "                    X = i\n",
    "                    # print(\"(\" + str(X) + \", \" + str(Y) + \")\")\n",
    "                    ab = AnnotationBbox(\n",
    "                        image_O, \n",
    "                        [(X*step) + offsetX, (Y*step) + offsetY], \n",
    "                        frameon=False)\n",
    "                    axes.add_artist(ab)\n",
    "                if estado[j, i] == 2:\n",
    "                    # print(\"X en (\" + str(i) + \", \" + str(j) + \")\")\n",
    "                    Y = 3 - j\n",
    "                    X = i\n",
    "                    # print(\"(\" + str(X) + \", \" + str(Y) + \")\")\n",
    "                    ab = AnnotationBbox(\n",
    "                        image_X, \n",
    "                        [(X*step) + offsetX, (Y*step) + offsetY], \n",
    "                        frameon=False)\n",
    "                    axes.add_artist(ab)\n",
    "        \n",
    "        axes.axis('off')\n",
    "        return axes\n",
    "    \n",
    "    \n",
    "##################################################### ACCIONES APLICABLES ######################################################\n",
    "\n",
    "    def acciones_aplicables(self, estado):\n",
    "        # Devuelve una lista de parejas que representan las casillas vacías\n",
    "        # Input: estado, que es una np.matrix(8x8)\n",
    "        # Output: dictionario de movimientos de cada ficha del turno del jugador\n",
    "        movimientos={}\n",
    "        if self.turno == 1: # si juegan las 'negras'\n",
    "            \n",
    "            ## NORMALES NEGRAS\n",
    "            for posicion in self.negras: #mirando los posibles movimientos de las negras\n",
    "                pos_x = posicion[0]\n",
    "                pos_y = posicion[1]\n",
    "                #dic.setdefault(key,[]).append(value), lo que hace es agregar valor si no existe, y si no lo añade a la lista\n",
    "                if pos_x>=1 and pos_y>=1:\n",
    "                    if estado[pos_y-1,pos_x-1]==0: #⬉\n",
    "                        movimientos.setdefault(posicion,[]).append((pos_x-1,pos_y-1))\n",
    "                if pos_x<=2 and pos_y>=1:\n",
    "                    if estado[pos_y-1,pos_x+1]==0:#⬈\n",
    "                        movimientos.setdefault(posicion,[]).append((pos_x+1,pos_y-1))\n",
    "            ## Comida de otra ficha\n",
    "                if pos_x>=2 and pos_y>=2:\n",
    "                    if estado[pos_y-1,pos_x-1]==2 and estado[pos_y-2,pos_x-2]==0: #⬉\n",
    "                        movimientos.setdefault(posicion,[]).append((pos_x-2,pos_y-2))\n",
    "                if pos_x<=1 and pos_y>=2:\n",
    "                    if estado[pos_y-1,pos_x+1]==2 and estado[pos_y-2,pos_x+2]==0:#⬈\n",
    "                        movimientos.setdefault(posicion,[]).append((pos_x+2,pos_y-2))\n",
    "                        \n",
    "                        \n",
    "\n",
    "            for posicion in self.reinas_negras: #mirando los posibles movimientos de las negras\n",
    "                pos_x = posicion[0]\n",
    "                pos_y = posicion[1]\n",
    "                #dic.setdefault(key,[]).append(value), lo que hace es agregar valor si no existe, y si no lo añade a la lista\n",
    "                if pos_x>=1 and pos_y>=1:\n",
    "                    if estado[pos_y-1,pos_x-1]==0: #⬉\n",
    "                        movimientos.setdefault(posicion,[]).append((pos_x-1,pos_y-1))\n",
    "                if pos_x<=2 and pos_y>=1:\n",
    "                    if estado[pos_y-1,pos_x+1]==0:#⬈\n",
    "                        movimientos.setdefault(posicion,[]).append((pos_x+1,pos_y-1))\n",
    "                if pos_x<=2 and pos_y<=2:\n",
    "                    if estado[pos_y+1,pos_x+1]==0 :#⬊\n",
    "                        movimientos.setdefault(posicion,[]).append((pos_x+1,pos_y+1))\n",
    "                if pos_x>=1 and pos_y<=2:\n",
    "                    if estado[pos_y+1,pos_x-1]==0 :#⬋\n",
    "                        movimientos.setdefault(posicion,[]).append((pos_x-1,pos_y+1))\n",
    "            ## Comida de otra ficha\n",
    "                if pos_x>=2 and pos_y>=2:\n",
    "                    if estado[pos_y-1,pos_x-1]==2 and estado[pos_y-2,pos_x-2]==0: #⬉\n",
    "                        movimientos.setdefault(posicion,[]).append((pos_x-2,pos_y-2))\n",
    "                if pos_x<=1 and pos_y>=2:\n",
    "                    if estado[pos_y-1,pos_x+1]==2 and estado[pos_y-2,pos_x+2]==0:#⬈\n",
    "                        movimientos.setdefault(posicion,[]).append((pos_x+2,pos_y-2))\n",
    "                if pos_x<=1 and pos_y<=1:\n",
    "                    if estado[pos_y+1,pos_x+1]==2 and estado[pos_y+2,pos_x+2]==0:#⬊\n",
    "                        movimientos.setdefault(posicion,[]).append((pos_x+2,pos_y+2)) \n",
    "                if pos_x>=2 and pos_y<=1:\n",
    "                    if estado[pos_y+1,pos_x-1]==2 and estado[pos_y+2,pos_x-2]==0 :#⬋\n",
    "                        movimientos.setdefault(posicion,[]).append((pos_x-2,pos_y+2))\n",
    "        \n",
    "        \n",
    "        \n",
    "        \n",
    "        elif self.turno == 2: # si juegan las 'blancas'\n",
    "            ## NORMALES BLANCAS\n",
    "            for posicion in self.blancas: #mirando los posibles movimientos de las blancas\n",
    "                pos_x = posicion[0]\n",
    "                pos_y = posicion[1]\n",
    "                #dic.setdefault(key,[]).append(value), lo que hace es agregar valor si no existe, y si no lo añade a la lista\n",
    "                if pos_x<=2 and pos_y<=2:\n",
    "                    if estado[pos_y+1,pos_x+1]==0 :#⬊\n",
    "                        movimientos.setdefault(posicion,[]).append((pos_x+1,pos_y+1))\n",
    "                if pos_x>=1 and pos_y<=2:\n",
    "                    if estado[pos_y+1,pos_x-1]==0 :#⬋\n",
    "                        movimientos.setdefault(posicion,[]).append((pos_x-1,pos_y+1))\n",
    "            ## Comida de otra ficha\n",
    "                if pos_x<=1 and pos_y<=1:\n",
    "                    if estado[pos_y+1,pos_x+1]==1 and estado[pos_y+2,pos_x+2]==0:#⬊\n",
    "                        movimientos.setdefault(posicion,[]).append((pos_x+2,pos_y+2)) \n",
    "                if pos_x>=2 and pos_y<=1:\n",
    "                    if estado[pos_y+1,pos_x-1]==1 and estado[pos_y+2,pos_x-2]==0 :#⬋\n",
    "                        movimientos.setdefault(posicion,[]).append((pos_x-2,pos_y+2))\n",
    "                        \n",
    "                        \n",
    "\n",
    "            for posicion in self.reinas_blancas: #mirando los posibles movimientos de las negras\n",
    "                pos_x = posicion[0]\n",
    "                pos_y = posicion[1]\n",
    "                #dic.setdefault(key,[]).append(value), lo que hace es agregar valor si no existe, y si no lo añade a la lista\n",
    "                if pos_x>=1 and pos_y>=1:\n",
    "                    if estado[pos_y-1,pos_x-1]==0: #⬉\n",
    "                        movimientos.setdefault(posicion,[]).append((pos_x-1,pos_y-1))\n",
    "                if pos_x<=2 and pos_y>=1:\n",
    "                    if estado[pos_y-1,pos_x+1]==0:#⬈\n",
    "                        movimientos.setdefault(posicion,[]).append((pos_x+1,pos_y-1))\n",
    "                if pos_x<=2 and pos_y<=2:\n",
    "                    if estado[pos_y+1,pos_x+1]==0 :#⬊\n",
    "                        movimientos.setdefault(posicion,[]).append((pos_x+1,pos_y+1))\n",
    "                if pos_x>=1 and pos_y<=2:\n",
    "                    if estado[pos_y+1,pos_x-1]==0 :#⬋\n",
    "                        movimientos.setdefault(posicion,[]).append((pos_x-1,pos_y+1)) \n",
    "            ## Comida de otra ficha\n",
    "                if pos_x>=2 and pos_y>=2:\n",
    "                    if estado[pos_y-1,pos_x-1]==1 and estado[pos_y-2,pos_x-2]==0: #⬉\n",
    "                        movimientos.setdefault(posicion,[]).append((pos_x-2,pos_y-2))\n",
    "                if pos_x<=1 and pos_y>=2:\n",
    "                    if estado[pos_y-1,pos_x+1]==1 and estado[pos_y-2,pos_x+2]==0:#⬈\n",
    "                        movimientos.setdefault(posicion,[]).append((pos_x+2,pos_y-2))\n",
    "                if pos_x<=1 and pos_y<=1:\n",
    "                    if estado[pos_y+1,pos_x+1]==1 and estado[pos_y+2,pos_x+2]==0:#⬊\n",
    "                        movimientos.setdefault(posicion,[]).append((pos_x+2,pos_y+2)) \n",
    "                if pos_x>=2 and pos_y<=1:\n",
    "                    if estado[pos_y+1,pos_x-1]==1 and estado[pos_y+2,pos_x-2]==0 :#⬋\n",
    "                        movimientos.setdefault(posicion,[]).append((pos_x-2,pos_y+2))\n",
    "                \n",
    "        return movimientos\n",
    "    \n",
    "################################################################################################################################    \n",
    "    \n",
    "    def llenar(self,estado):\n",
    "        # Llena el tablero con las posiciones iniciales\n",
    "        # Input: estado, qie es una np.matrix(8x8)\n",
    "        # Output : estado, con el tablero llenado, listo para jugar\n",
    "        blancas =[(0,0),(2,0)] #(x,y) = (⮕,⬇)\n",
    "        negras =[(1,3),(3,3)]\n",
    "        #Falta agregar negras\n",
    "        for posicion in blancas: #llenando con fichas blancas\n",
    "            # estado[(y,x)]\n",
    "            estado[posicion[1],posicion[0]]=2\n",
    "        for posicion in negras: #llenando con fichas negras\n",
    "            # estado[(y,x)]\n",
    "            estado[posicion[1],posicion[0]]=1        \n",
    "        self.estado = estado\n",
    "        self.blancas = blancas\n",
    "        self.negras = negras\n",
    "        return estado\n",
    "    \n",
    "    def llenar1(self,estado):\n",
    "        blancas =[(2,0)] #(x,y) = (⮕,⬇)\n",
    "        negras =[(3,1)]\n",
    "        #Falta agregar negras\n",
    "        for posicion in blancas: #llenando con fichas blancas\n",
    "            # estado[(y,x)]\n",
    "            estado[posicion[1],posicion[0]]=2\n",
    "        for posicion in negras: #llenando con fichas negras\n",
    "            # estado[(y,x)]\n",
    "            estado[posicion[1],posicion[0]]=1        \n",
    "        self.estado = estado\n",
    "        self.blancas = blancas\n",
    "        self.negras = negras\n",
    "        return estado\n",
    "\n",
    "    def transicion(self, estado,ficha,movimiento):\n",
    "        # Devuelve el tablero incluyendo una O o X en el indice,\n",
    "        # dependiendo del jugador que tiene el turno\n",
    "        # Input: estado, que es una np.matrix(8x8)\n",
    "        #        indice, de la forma (x,y)\n",
    "        # Output: estado, que es una np.matrix(8x8)\n",
    "        \n",
    "        s = copy.deepcopy(estado)\n",
    "        jugador = self.turno\n",
    "        s[ficha[1],ficha[0]]= 0 #eliminando posicion antigua ficha\n",
    "        s[movimiento[1],movimiento[0]] = jugador #agregando movimiento\n",
    "        if jugador == 2: # mueve blancas\n",
    "            self.turno =1 #cambia turno a negras\n",
    "            if ficha in self.blancas : \n",
    "                self.blancas.remove(ficha) #elimina posicion en lista blancas\n",
    "                if movimiento[1] != 3:\n",
    "                    self.blancas.append(movimiento)\n",
    "                elif movimiento[1]==3:\n",
    "                    self.reinas_blancas.append(movimiento)\n",
    "            elif ficha in self.reinas_blancas:\n",
    "                    self.reinas_blancas.remove(ficha) \n",
    "                    self.reinas_blancas.append(movimiento)\n",
    "            # Caso se movio diagonal comiendo\n",
    "            if abs(movimiento[1]-ficha[1])==2 or abs(movimiento[0]-ficha[0])==2:\n",
    "                #print(\"comio blancas\")\n",
    "                self.empate = -1 # si se come una ficha se reinicia conteo para empate, -1 por que despues se suma 1, evitar mas operacionas\n",
    "                # movimiento (y,x)\n",
    "                if movimiento[1]>ficha[1] and movimiento[0]>ficha[0]:\n",
    "                    #print(\"Entro\")\n",
    "                    ficha = (movimiento[1]-1,movimiento[0]-1)\n",
    "                    print(ficha)\n",
    "                elif movimiento[1]>ficha[1] and movimiento[0]<ficha[0]:    \n",
    "                    ficha = (movimiento[1]-1,ficha[0]-1)\n",
    "                elif movimiento[1]<ficha[1] and movimiento[0]<ficha[0]:    \n",
    "                    ficha = (ficha[1]-1,ficha[0]-1)                \n",
    "                elif movimiento[1]<ficha[1] and movimiento[0]>ficha[0]:    \n",
    "                    ficha = (ficha[1]-1,movimiento[0]-1)      \n",
    "                    \n",
    "                s[ficha[1],ficha[0]]=0\n",
    "                #print(\"sel_blancas :\",self.blancas)\n",
    "                #print(\"sel_negras :\",self.negras)\n",
    "                if ficha in self.negras:\n",
    "                    #print(\"eliminada\")\n",
    "                    self.negras.remove(ficha)\n",
    "                elif ficha in self.reinas_negras: self.reinas_negras.remove(ficha) \n",
    "                    \n",
    "        elif jugador == 1: # mueve negras\n",
    "            self.turno =2 #cambia turno a blancas\n",
    "            if ficha in self.negras : \n",
    "                self.negras.remove(ficha) #elimina posicion en lista blancas\n",
    "                if movimiento[1] != 0:\n",
    "                    self.negras.append(movimiento)\n",
    "                elif movimiento[1]==0:\n",
    "                    self.reinas_negras.append(movimiento)\n",
    "            elif ficha in self.reinas_negras:\n",
    "                    self.reinas_negras.remove(ficha) \n",
    "                    self.reinas_negras.append(movimiento)   \n",
    "            if abs(movimiento[1]-ficha[1])==2 or abs(movimiento[0]-ficha[0])==2:\n",
    "                #print(\"comio negras\")\n",
    "                self.empate = -1 # si se come una ficha se reinicia conteo para empate\n",
    "                # movimiento (y,x)\n",
    "                if movimiento[1]>ficha[1] and movimiento[0]>ficha[0]:\n",
    "                    ficha = (movimiento[1]-1,movimiento[0]-1)\n",
    "                elif movimiento[1]>ficha[1] and movimiento[0]<ficha[0]:    \n",
    "                    ficha = (movimiento[1]-1,ficha[0]-1)\n",
    "                elif movimiento[1]<ficha[1] and movimiento[0]<ficha[0]:    \n",
    "                    ficha = (ficha[1]-1,ficha[0]-1)                \n",
    "                elif movimiento[1]<ficha[1] and movimiento[0]>ficha[0]:    \n",
    "                    ficha = (ficha[1]-1,movimiento[0]-1)\n",
    "                    \n",
    "                s[ficha[1],ficha[0]]=0     \n",
    "                if ficha in self.blancas: self.blancas.remove(ficha)\n",
    "                elif ficha in self.reinas_blancas: self.reinas_blancas.remove(ficha)                     \n",
    "        self.estado = s\n",
    "        self.empate = self.empate +1\n",
    "        return s\n",
    "    \n",
    "    def test_objetivo(self, estado):\n",
    "        # Devuelve True/False dependiendo si el juego se acabó\n",
    "        # Input: estado, que es una np.matrix(8x8)\n",
    "        # Output: objetivo, True/False\n",
    "        # print(\"Determinando si no hay casillas vacías...\")\n",
    "        # ⚠️ Modificar self empate : facil identificacino\n",
    "        if self.empate >=9:\n",
    "            return True\n",
    "        if len(self.blancas)==0 and len(self.reinas_blancas)==0: # No existen mas fichas blancas\n",
    "            return True\n",
    "        if len(self.negras)==0 and len(self.reinas_negras)==0: # No existen mas fichas negras\n",
    "            return True\n",
    "        else:\n",
    "            movimientos = self.acciones_aplicables(estado)\n",
    "            if (not movimientos) == True: #si ya no hay mas posibles movimientos para un jugador\n",
    "                return True\n",
    "            else:            # Si hay fichas que todavian pueden moverse           \n",
    "                return False \n",
    "\n",
    "    def utilidad(self, estado):\n",
    "        # Devuelve la utilidad del estado donde termina el juego\n",
    "        # Input: estado, que es una np.matrix(3x3)\n",
    "        # Output: utilidad, que es un valor -1, 0, 1\n",
    "        obj = self.test_objetivo(estado)\n",
    "        # ⚠️ Modificar self empate : facil identificacino\n",
    "        if self.empate >=9: # se considera empate,si despues 40 movidas nadie se come a otra ficha, disminuimos a 10\n",
    "            # por costo computacional y saber si funciona correctamente\n",
    "            return 0\n",
    "        if obj:\n",
    "            if len(self.blancas)==0 and len(self.reinas_blancas)==0: # No existen mas fichas blancas\n",
    "                return -1 # ganaron negras\n",
    "            if len(self.negras)==0 and len(self.reinas_negras)==0: # No existen mas fichas negras\n",
    "                return 1  # ganaron blancas\n",
    "            else:\n",
    "                movimientos = self.acciones_aplicables(estado) #movimientos posibles del turno actual\n",
    "                if (not movimientos) == True: #si ya no hay mas posibles movimientos para un jugador\n",
    "                    if self.turno == 2: #las blancas no se pueden mover\n",
    "                        return -1 #ganan negras\n",
    "                    else:  #las negras no se pueden mover\n",
    "                        return 1 #ganan blancas\n",
    "        \n",
    "\n",
    "        return None"
   ]
  },
  {
   "cell_type": "markdown",
   "metadata": {},
   "source": [
    "## 💯 Pruebas Unitarias de funcionamiento"
   ]
  },
  {
   "cell_type": "markdown",
   "metadata": {},
   "source": [
    "### Llenar tablero inicial"
   ]
  },
  {
   "cell_type": "code",
   "execution_count": 82,
   "metadata": {},
   "outputs": [
    {
     "data": {
      "text/plain": [
       "<matplotlib.axes._subplots.AxesSubplot at 0x210b38f1ac8>"
      ]
     },
     "execution_count": 82,
     "metadata": {},
     "output_type": "execute_result"
    },
    {
     "data": {
      "image/png": "[encoded data removed]",
      "text/plain": [
       "<Figure size 648x576 with 1 Axes>"
      ]
     },
     "metadata": {
      "needs_background": "light"
     },
     "output_type": "display_data"
    }
   ],
   "source": [
    "D = damas()\n",
    "s = D.estado_inicial()\n",
    "s = D.llenar(s)\n",
    "D.pintar_estado(s)"
   ]
  },
  {
   "cell_type": "markdown",
   "metadata": {},
   "source": [
    "### Ver movimientos"
   ]
  },
  {
   "cell_type": "markdown",
   "metadata": {},
   "source": [
    "Es posible llevar que el juego funciona correctamente corriendo estas dos celdas iterativamente, la primera para las fichas blancas y la segunda para las fichas negras\n",
    "\n",
    "#### Blancas"
   ]
  },
  {
   "cell_type": "code",
   "execution_count": 84,
   "metadata": {},
   "outputs": [
    {
     "data": {
      "text/plain": [
       "<matplotlib.axes._subplots.AxesSubplot at 0x210cd96a648>"
      ]
     },
     "execution_count": 84,
     "metadata": {},
     "output_type": "execute_result"
    },
    {
     "data": {
      "image/png": "[encoded data removed]",
      "text/plain": [
       "<Figure size 648x576 with 1 Axes>"
      ]
     },
     "metadata": {
      "needs_background": "light"
     },
     "output_type": "display_data"
    }
   ],
   "source": [
    "mov = D.acciones_aplicables(s)\n",
    "ficha , movimientos_ficha = choice(list(mov.items()))\n",
    "movimiento_ficha = choice(movimientos_ficha)\n",
    "s = D.transicion(s,ficha,movimiento_ficha)\n",
    "D.pintar_estado(s)"
   ]
  },
  {
   "cell_type": "markdown",
   "metadata": {},
   "source": [
    "#### Negras"
   ]
  },
  {
   "cell_type": "code",
   "execution_count": 86,
   "metadata": {},
   "outputs": [
    {
     "data": {
      "text/plain": [
       "<matplotlib.axes._subplots.AxesSubplot at 0x210c31cdac8>"
      ]
     },
     "execution_count": 86,
     "metadata": {},
     "output_type": "execute_result"
    },
    {
     "data": {
      "image/png": "[encoded data removed]",
      "text/plain": [
       "<Figure size 648x576 with 1 Axes>"
      ]
     },
     "metadata": {
      "needs_background": "light"
     },
     "output_type": "display_data"
    }
   ],
   "source": [
    "mov = D.acciones_aplicables(s)\n",
    "ficha , movimientos_ficha = choice(list(mov.items()))\n",
    "movimiento_ficha = choice(movimientos_ficha)\n",
    "s = D.transicion(s,ficha,movimiento_ficha)\n",
    "D.pintar_estado(s)"
   ]
  },
  {
   "cell_type": "markdown",
   "metadata": {},
   "source": [
    "### Árbol de confrontación\n",
    "\n",
    "Debemos ahora definir un programa para el agente que juega mini-damas. Este programa debe consistir, de manera general, en una función que percibe un tablero de dama y devuelve una acción (Ficha y movimiento). Más concretamente, el agente recibe un estado `s` y devuelve un mapa  `Ficha:[Movimientos]` `(x,y):[(x_1,y_1),(x_2,y_2)]`, en el cual ha de ponerse la dama correspondiente (o bien $blancas$ o bien $negras$). \n",
    "\n",
    "los algoritmos que utilizaremos para definir el programa se llamaran *minmax* y *ab_decision*. El nombre de *minmax* es muy acertado, toda vez que evoca simultáneamente la confrontación entre los jugadores así como la manera como se representa dicha confrontación. Esto es, un jugador buscará el mínimo y el otro el máximo de la utilidad. Esta es la razón por la cual se definió la función de utilidad de tal manera que un estado en el que gane el jugador de las $negras$ vale -1 y uno en que gane el jugador de las $blancas$ vale 1. El primer jugador será `min` y el segundo `max`. El nombre de $\\alpha-\\beta$ surge de que es una capa que mejora el proceso computacional de *minmax*, esto es una vez encuentra un maximo, y el siguiente es es menor que este maximo, se deduce que la mejor eleccion es este máximo.\n",
    "\n",
    "Dado un estado `s`, se define un árbol de confrontación para `s` de la siguiente manera. Se consideran todas las acciones aplicables (ficha y movmiento) de `Jugador(s)`, y para cada una de ellas se encuentra el correspondiente estado `s`$_i$. Luego, para cada uno de estos, se consideran todas las acciones aplicables de `Jugador(s`$_i$`)` y se encuentran los correspondientes estados. Así hasta llegar a los estados en los cuales el juego se termina.\n",
    "\n",
    "Ahora debemos considerar cómo se obtienen los valores minmax a partir de la utilidad asignada a los estados en los cuales el juego se termina. También debemos entender cómo funciona la toma de decisiones una vez construido el árbol con los respectivos valores minmax en cada nodo. Explicaremos primero esto último, con base en el siguiente ejemplo:\n",
    "\n",
    "\\begin{figure}[H]\n",
    "    \\centering\n",
    "    \\includegraphics[width=2cm]{./Imagenes_informe/jupyter3.png} }}%\n",
    "\\end{figure}\n",
    "\n",
    "Supongamos que nos es dado el árbol de confrontación anterior, construido a partir del estado inicial, que se encuentra en la raíz. No obstante, observe que en la figura sólo se nos muestra una parte del árbol, en el cual el juego ya ha avanzado. En el nodo que vemos más arriba, el jugador de las $blancas$ es quien tiene el turno, es decir, juega `max`. Él debe seleccionar la opción que le reporte el máximo de los valores minmax de sus hijos. En este caso, debe seleccionar la única opción con valor 1. Observe que, si seleccionara cualquier otra opción (las cuales tienen valor $\\{-1,0\\}$, entonces `min` ganaría (esto es, suponiendo que `min` juega de la mejor manera posible).\n",
    "\n",
    "Volviendo a la explicación, `max` selecciona la opción de más a la izquierda, en la que captura la dama $negra$. Consideremos ahora el juego desde el punto de vista de $negras$. En este turno el jugador $negro$ debe seleccionar la opción con menor valor minmax, en este caso, la opción con valor en la que no se encuentre capturada su ficha. No sabemos con seguridad por que el arbol sigue creciendo de manera indefinida (El arbol termina siendo muy grande)."
   ]
  },
  {
   "cell_type": "markdown",
   "metadata": {},
   "source": [
    "### Algoritmo minmax\n",
    "\n",
    "El siguiente es el pseudo código del algoritmo de decisión minmax, el cual genera, mediante una metodología deep-first, el árbol de confrontación para un estado dado `s` en el cual le corresponde el turno a `max`:\n",
    "\n",
    "\\begin{figure}[H]\n",
    "    \\centering\n",
    "    \\includegraphics[width=2cm]{./Imagenes_informe/jupyter4.png} }}%\n",
    "\\end{figure}"
   ]
  },
  {
   "cell_type": "markdown",
   "metadata": {},
   "source": [
    "## Implementación Min-Max\n",
    "\n",
    "En el siguiente codigo implementamos el pseudocodigo en nuestro juego (Claramente el psudocodigo esta ajustado para nuestro juego)."
   ]
  },
  {
   "cell_type": "code",
   "execution_count": 95,
   "metadata": {},
   "outputs": [],
   "source": [
    "def min_value(juego, estado):\n",
    "    if juego.test_objetivo(estado):\n",
    "        return juego.utilidad(estado)\n",
    "    else:\n",
    "        lista = []\n",
    "        movimientos = juego.acciones_aplicables(estado)\n",
    "        for ficha in movimientos:\n",
    "            for mov in movimientos[ficha]:\n",
    "                lista.append(max_value(juego, juego.transicion(estado, ficha,mov)))\n",
    "        return min(lista)        \n",
    "                \n",
    "            \n",
    "\n",
    "def max_value(juego, estado):\n",
    "    if juego.test_objetivo(estado):\n",
    "        return juego.utilidad(estado)\n",
    "    else:\n",
    "        lista = []\n",
    "        movimientos = juego.acciones_aplicables(estado)\n",
    "        for ficha in movimientos:\n",
    "            for mov in movimientos[ficha]:\n",
    "                lista.append(min_value(juego, juego.transicion(estado, ficha,mov)))\n",
    "        return max(lista)    \n",
    "\n",
    "def minimax_decision(juego, estado):\n",
    "    # movimientos.setdefault(posicion,[]).append((pos_x-1,pos_y-1))\n",
    "    # Retorna la acción optima en el estado, para el jugador que lleva el turno\n",
    "    movimientos = juego.acciones_aplicables(estado)\n",
    "    print(\"Movimientos :\",movimientos)\n",
    "    juego1 = copy.deepcopy(juego) #⚠️ guardando copia previa del min max\n",
    "    lista = {}\n",
    "    if juego.turno==2:\n",
    "        for ficha in movimientos:\n",
    "            for mov in movimientos[ficha]:\n",
    "                lista.setdefault(ficha,[]).append(max_value(juego, juego.transicion(estado, ficha,mov)))\n",
    "        juego.turno =2\n",
    "    \n",
    "    elif juego.turno==1:\n",
    "        for ficha in movimientos:\n",
    "            for mov in movimientos[ficha]:\n",
    "                lista.setdefault(ficha,[]).append(min_value(juego, juego.transicion(estado, ficha,mov)))\n",
    "        juego.turno =1\n",
    "    print(\"Movimientos : Puntajes -> \",lista)\n",
    "    ficha = max(lista, key=lista.get) # obtiene la ficha que se debe mover para mayor ganancia\n",
    "    indice = np.argmax(max(lista.values())) # obtiene el movimiento que causa mayor ganancia\n",
    "    juego = copy.deepcopy(juego1) # el min max modifica el estao del juego ! \n",
    "    #print(\"Ficha: \",ficha,\"Movimientos :\",movimientos[ficha],\"Indice :\",indice)\n",
    "    return ficha,movimientos[ficha][indice],juego"
   ]
  },
  {
   "cell_type": "markdown",
   "metadata": {},
   "source": [
    "## Reinicio Juego"
   ]
  },
  {
   "cell_type": "markdown",
   "metadata": {},
   "source": [
    "Reiniciaremos el juego a su configuracion inicial"
   ]
  },
  {
   "cell_type": "code",
   "execution_count": 96,
   "metadata": {},
   "outputs": [
    {
     "name": "stdout",
     "output_type": "stream",
     "text": [
      "Movimientos : {(0, 0): [(1, 1)], (2, 0): [(3, 1), (1, 1)]}\n",
      "(2, 2)\n",
      "Movimientos : Puntajes ->  {(0, 0): [-1], (2, 0): [-1, -1]}\n",
      "Computador juega en (Ficha,movimiento) -> (2, 0) (3, 1)\n"
     ]
    },
    {
     "data": {
      "image/png": "[encoded data removed]",
      "text/plain": [
       "<Figure size 648x576 with 1 Axes>"
      ]
     },
     "metadata": {
      "needs_background": "light"
     },
     "output_type": "display_data"
    }
   ],
   "source": [
    "D = damas()\n",
    "s = D.estado_inicial()\n",
    "s = D.llenar(s)\n",
    "D.pintar_estado(s)\n",
    "ficha, movimiento_ficha, D = minimax_decision(D, s)\n",
    "print(\"Computador juega en (Ficha,movimiento) ->\", ficha, movimiento_ficha)"
   ]
  },
  {
   "cell_type": "markdown",
   "metadata": {},
   "source": [
    "## Simulación min-max\n"
   ]
  },
  {
   "cell_type": "markdown",
   "metadata": {},
   "source": [
    "El siguiente codigo muestra en tiempo real como van jugando las dos maquinas encontra. (No deberia verse todas la imagenes, si no como se va jugando).\n",
    "\n",
    "Si desea, puede aumentar el tiempo de demora, para ver mas lento que esta sucediendo en el juego (`time.sleep()`)"
   ]
  },
  {
   "cell_type": "markdown",
   "metadata": {},
   "source": [
    "%matplotlib inline"
   ]
  },
  {
   "cell_type": "code",
   "execution_count": 97,
   "metadata": {},
   "outputs": [
    {
     "name": "stdout",
     "output_type": "stream",
     "text": [
      "Movimientos : {(1, 1): [(0, 0), (2, 2), (0, 2)]}\n",
      "Movimientos : Puntajes ->  {(1, 1): [0, 0, 0]}\n",
      "Negra:  [(3, 3)]\n",
      "Reinas Negras:  [(2, 0)]\n",
      "Blancas:  []\n",
      "Reinas Blancas:  [(0, 0)]\n",
      "Turno:  1\n"
     ]
    },
    {
     "data": {
      "image/png": "[encoded data removed]",
      "text/plain": [
       "<Figure size 648x576 with 1 Axes>"
      ]
     },
     "metadata": {
      "needs_background": "light"
     },
     "output_type": "display_data"
    }
   ],
   "source": [
    "D = damas()\n",
    "s = D.estado_inicial()\n",
    "s = D.llenar(s)\n",
    "D.pintar_estado(s)\n",
    "ficha, movimiento_ficha, D = ab_decision(D, s)\n",
    "print(\"Ficha :\",ficha, \"Movimiento :\",movimiento_ficha)\n",
    "print(\"Negra: \",D.negras)\n",
    "print(\"Reinas Negras: \",D.reinas_negras)\n",
    "print(\"Blancas: \",D.blancas)\n",
    "print(\"Reinas Blancas: \",D.reinas_blancas)\n",
    "print(\"Turno: \",D.turno)\n",
    "time.sleep(1)\n",
    "\n",
    "while D.test_objetivo(s) == False:\n",
    "    clear_output(wait=True)\n",
    "    ficha, movimiento_ficha, D = minimax_decision(D, s)\n",
    "    s = D.transicion(s,ficha, movimiento_ficha)\n",
    "    D.pintar_estado(s)\n",
    "    print(\"Negra: \",D.negras)\n",
    "    print(\"Reinas Negras: \",D.reinas_negras)\n",
    "    print(\"Blancas: \",D.blancas)\n",
    "    print(\"Reinas Blancas: \",D.reinas_blancas)\n",
    "    print(\"Turno: \",D.turno)\n",
    "    plt.show()\n",
    "    time.sleep(1)"
   ]
  },
  {
   "cell_type": "markdown",
   "metadata": {},
   "source": [
    "## Alpha Beta\n"
   ]
  },
  {
   "cell_type": "markdown",
   "metadata": {},
   "source": [
    "En la siguiente veremos la simulación implementando el algoritmo alfa-beta, veremos que obtenemos el mismo resultado que min-max !"
   ]
  },
  {
   "cell_type": "code",
   "execution_count": 98,
   "metadata": {},
   "outputs": [],
   "source": [
    "def min_value_ab(juego, estado,alfa,beta):\n",
    "    if juego.test_objetivo(estado):\n",
    "        return juego.utilidad(estado)\n",
    "    else:\n",
    "        lista = []\n",
    "        movimientos = juego.acciones_aplicables(estado)\n",
    "        for ficha in movimientos:\n",
    "            for mov in movimientos[ficha]:\n",
    "                lista.append(max_value(juego, juego.transicion(estado, ficha,mov)))\n",
    "        v= min(lista)        \n",
    "        if v <= alfa:\n",
    "            return v\n",
    "        beta = min(beta,v)\n",
    "        return v                \n",
    "            \n",
    "\n",
    "def max_value_ab(juego, estado,alfa,beta):\n",
    "    if juego.test_objetivo(estado):\n",
    "        return juego.utilidad(estado)\n",
    "    else:\n",
    "        lista = []\n",
    "        movimientos = juego.acciones_aplicables(estado)\n",
    "        for ficha in movimientos:\n",
    "            for mov in movimientos[ficha]:\n",
    "                lista.append(min_value(juego, juego.transicion(estado, ficha,mov)))\n",
    "        v = max(lista)\n",
    "        if v >= beta:\n",
    "            return v\n",
    "        alfa = max(alfa,v)\n",
    "        return v        \n",
    "\n",
    "def ab_decision(juego, estado):\n",
    "    # movimientos.setdefault(posicion,[]).append((pos_x-1,pos_y-1))\n",
    "    # Retorna la acción optima en el estado, para el jugador que lleva el turno\n",
    "    movimientos = juego.acciones_aplicables(estado)\n",
    "    juego1 = copy.deepcopy(juego) #⚠️ guardando copia previa del min max\n",
    "    lista = {}\n",
    "    if juego.turno==2:\n",
    "        for ficha in movimientos:\n",
    "            for mov in movimientos[ficha]:\n",
    "                lista.setdefault(ficha,[]).append(min_value_ab(juego, juego.transicion(estado, ficha,mov),float('-inf'),\\\n",
    "                                                               float('-inf')))\n",
    "        juego.turno =2\n",
    "    \n",
    "    elif juego.turno==1:\n",
    "        for ficha in movimientos:\n",
    "            for mov in movimientos[ficha]:\n",
    "                lista.setdefault(ficha,[]).append(min_value_ab(juego, juego.transicion(estado, ficha,mov),float('-inf'),\\\n",
    "                                                               float('-inf')))\n",
    "        juego.turno =1\n",
    "    print(\"Movimientos : Puntajes -> \",lista)\n",
    "    ficha = max(lista, key=lista.get) # obtiene la ficha que se debe mover para mayor ganancia\n",
    "    indice = np.argmax(max(lista.values())) # obtiene el movimiento que causa mayor ganancia\n",
    "    juego = copy.deepcopy(juego1) # el min max modifica el estao del juego ! \n",
    "    print(\"Ficha: \",ficha,\"Movimientos :\",movimientos[ficha],\"Indice :\",indice)\n",
    "    return ficha,movimientos[ficha][indice],juego"
   ]
  },
  {
   "cell_type": "markdown",
   "metadata": {},
   "source": [
    "## Simulación Alpha- Beta"
   ]
  },
  {
   "cell_type": "code",
   "execution_count": 101,
   "metadata": {},
   "outputs": [
    {
     "name": "stdout",
     "output_type": "stream",
     "text": [
      "Movimientos : {(1, 1): [(0, 0), (2, 2), (0, 2)]}\n",
      "Movimientos : Puntajes ->  {(1, 1): [0, 0, 0]}\n",
      "Negra:  [(3, 3)]\n",
      "Reinas Negras:  [(2, 0)]\n",
      "Blancas:  []\n",
      "Reinas Blancas:  [(0, 0)]\n",
      "Turno:  1\n"
     ]
    },
    {
     "data": {
      "image/png": "[encoded data removed]",
      "text/plain": [
       "<Figure size 648x576 with 1 Axes>"
      ]
     },
     "metadata": {
      "needs_background": "light"
     },
     "output_type": "display_data"
    }
   ],
   "source": [
    "D = damas()\n",
    "s = D.estado_inicial()\n",
    "s = D.llenar(s)\n",
    "print(\"Ficha :\",ficha, \"Movimiento :\",movimiento_ficha)\n",
    "print(\"Negra: \",D.negras)\n",
    "print(\"Reinas Negras: \",D.reinas_negras)\n",
    "print(\"Blancas: \",D.blancas)\n",
    "print(\"Reinas Blancas: \",D.reinas_blancas)\n",
    "print(\"Turno: \",D.turno)\n",
    "D.pintar_estado(s)\n",
    "ficha, movimiento_ficha, D = ab_decision(D, s)\n",
    "time.sleep(1)\n",
    "\n",
    "while D.test_objetivo(s) == False:\n",
    "    clear_output(wait=True)\n",
    "    ficha, movimiento_ficha, D = minimax_decision(D, s)\n",
    "    s = D.transicion(s,ficha, movimiento_ficha)\n",
    "    D.pintar_estado(s)\n",
    "    print(\"Negra: \",D.negras)\n",
    "    print(\"Reinas Negras: \",D.reinas_negras)\n",
    "    print(\"Blancas: \",D.blancas)\n",
    "    print(\"Reinas Blancas: \",D.reinas_blancas)\n",
    "    print(\"Turno: \",D.turno)\n",
    "    plt.show()\n",
    "    time.sleep(1)"
   ]
  },
  {
   "cell_type": "markdown",
   "metadata": {},
   "source": [
    "-----------"
   ]
  },
  {
   "cell_type": "code",
   "execution_count": 76,
   "metadata": {},
   "outputs": [
    {
     "name": "stdout",
     "output_type": "stream",
     "text": [
      "Ficha : (2, 0) Movimiento : (3, 1)\n",
      "Negra:  [(3, 1)]\n",
      "Reinas Negras:  []\n",
      "Blancas:  [(2, 0)]\n",
      "Reinas Blancas:  []\n",
      "Turno:  2\n",
      "Movimientos : Puntajes ->  {(2, 0): [0]}\n",
      "Ficha:  (2, 0) Movimientos : [(1, 1)] Indice : 0\n"
     ]
    },
    {
     "data": {
      "image/png": "[encoded data removed]",
      "text/plain": [
       "<Figure size 648x576 with 1 Axes>"
      ]
     },
     "metadata": {
      "needs_background": "light"
     },
     "output_type": "display_data"
    }
   ],
   "source": [
    "D = damas()\n",
    "s = D.estado_inicial()\n",
    "s = D.llenar1(s)\n",
    "print(\"Ficha :\",ficha, \"Movimiento :\",movimiento_ficha)\n",
    "print(\"Negra: \",D.negras)\n",
    "print(\"Reinas Negras: \",D.reinas_negras)\n",
    "print(\"Blancas: \",D.blancas)\n",
    "print(\"Reinas Blancas: \",D.reinas_blancas)\n",
    "print(\"Turno: \",D.turno)\n",
    "D.pintar_estado(s)\n",
    "ficha, movimiento_ficha, D = ab_decision(D, s)"
   ]
  },
  {
   "cell_type": "code",
   "execution_count": null,
   "metadata": {},
   "outputs": [],
   "source": []
  },
  {
   "cell_type": "markdown",
   "metadata": {},
   "source": [
    "# References\n",
    "\n",
    "<mark> <b>The bib file biblio.bib was not found\n",
    "\n",
    "</b> </mark>(<a id=\"cit-lib1\" href=\"#call-lib1\">?</a>) !! _This reference was not found in biblio.bib _ !!\n",
    "\n"
   ]
  }
 ],
 "metadata": {
  "kernelspec": {
   "display_name": "Python 3",
   "language": "python",
   "name": "python3"
  },
  "language_info": {
   "codemirror_mode": {
    "name": "ipython",
    "version": 3
   },
   "file_extension": ".py",
   "mimetype": "text/x-python",
   "name": "python",
   "nbconvert_exporter": "python",
   "pygments_lexer": "ipython3",
   "version": "3.7.6"
  },
  "latex_envs": {
   "LaTeX_envs_menu_present": true,
   "autoclose": false,
   "autocomplete": true,
   "bibliofile": "biblio.bib",
   "cite_by": "apalike",
   "current_citInitial": 1,
   "eqLabelWithNumbers": true,
   "eqNumInitial": 1,
   "hotkeys": {
    "equation": "Ctrl-E",
    "itemize": "Ctrl-I"
   },
   "labels_anchors": false,
   "latex_user_defs": false,
   "report_style_numbering": false,
   "user_envs_cfg": false
  }
 },
 "nbformat": 4,
 "nbformat_minor": 4
}
