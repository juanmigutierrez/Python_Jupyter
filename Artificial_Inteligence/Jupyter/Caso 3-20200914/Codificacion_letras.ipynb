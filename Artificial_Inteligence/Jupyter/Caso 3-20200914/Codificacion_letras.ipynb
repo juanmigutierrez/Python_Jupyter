{
 "cells": [
  {
   "cell_type": "markdown",
   "metadata": {},
   "source": [
    "<table><tr>\n",
    "    <td><img src=\"imagenes/Macc.png\"/></td>\n",
    "    <td>Lógica para ciencias de la computación</td>\n",
    "</tr></table>\n",
    "\n",
    "# Representación de problemas mediante lógica proposicional y su implementación en Python"
   ]
  },
  {
   "cell_type": "markdown",
   "metadata": {},
   "source": [
    "### Objetivo\n",
    "\n",
    "En el taller anterior hemos visto una forma de representar una situación, sus restricciones, y el objetivo que se busca por medio de letras proposicionales y fórmulas lógicas. Ahora veremos una manera de pasar esto a un código Python.\n",
    "\n",
    "### Problema de ejemplo\n",
    "En este taller trabajaremos sobre el siguiente problema. Buscamos llenar todas las casillas en una tabla 2x2 con un número de 0 a 3, sin repetir. Por ejemplo:\n",
    "\n",
    "![ejemplo](imagenes/ejemplo.png)\n",
    "\n",
    "\n",
    "### Letras proposicionales\n",
    "Debemos primero representar las letras proposicionales, las cuales cruzan la información de qué número está en qué casilla:\n",
    "\n",
    "P(fila, columna, numero)\n",
    "\n",
    "Este problema será resuelto en dos etapas distintas: En primer lugar, codificaremos únicamente la fila y columna de las casillas del tablero. Después, nos basaremos en esta primera codificación para añadir información sobre el número dentro de la casilla.\n",
    "\n",
    "### Codificación de las letras en Python\n",
    "Como queremos que, al implementar el problema en Python, cada letra proposicional sea un único caracter, sugerimos usar las siguientes funciones de codificación y decodificación: "
   ]
  },
  {
   "cell_type": "code",
   "execution_count": 16,
   "metadata": {},
   "outputs": [],
   "source": [
    "def codifica(f, c, Nf, Nc):\n",
    "    # Funcion que codifica la fila f y columna c\n",
    "    assert((f >= 0) and (f <= Nf - 1)), 'Primer argumento incorrecto! Debe ser un numero entre 0 y ' + str(Nf) - 1  + \"\\nSe recibio \" + str(f)\n",
    "    assert((c >= 0) and (c <= Nc - 1)), 'Segundo argumento incorrecto! Debe ser un numero entre 0 y ' + str(Nc - 1)  + \"\\nSe recibio \" + str(c)\n",
    "    n = Nc * f + c\n",
    "    # print(u'Número a codificar:', n)\n",
    "    return n\n",
    "\n",
    "def decodifica(n, Nf, Nc):\n",
    "    # Funcion que codifica un caracter en su respectiva fila f y columna c de la tabla\n",
    "    assert((n >= 0) and (n <= Nf * Nc - 1)), 'Codigo incorrecto! Debe estar entre 0 y' + str(Nf * Nc - 1) + \"\\nSe recibio \" + str(n)\n",
    "    f = int(n / Nc)\n",
    "    c = n % Nc\n",
    "    return f, c"
   ]
  },
  {
   "cell_type": "markdown",
   "metadata": {},
   "source": [
    "Observe que la función `codifica` toma como parámetros el número de la fila, el número de la columna, la cantidad total de filas, y la cantidad total de columnas. Al realizar la operación Nc * f + c, se obtiene un valor como número entero, el cual será único para la casilla especificada. En el siguiente fragmento de código se observa como, en un solo número, es almacenada la información tanto de la fila como de la columna de la casilla dada."
   ]
  },
  {
   "cell_type": "code",
   "execution_count": 3,
   "metadata": {},
   "outputs": [
    {
     "name": "stdout",
     "output_type": "stream",
     "text": [
      "Números correspondientes a la codificación\n",
      "\n",
      "filas x columnas\n",
      "0 1 \n",
      "2 3 \n"
     ]
    }
   ],
   "source": [
    "Nfilas = 2\n",
    "Ncolumnas = 2\n",
    "print(u\"Números correspondientes a la codificación:\")\n",
    "print(\"\\nfilas x columnas\")\n",
    "for i in range(Nfilas):\n",
    "    for j in range(Ncolumnas):\n",
    "        v1 = codifica(i, j, Nfilas, Ncolumnas)\n",
    "        print(v1, end = \" \")\n",
    "    print(\"\")"
   ]
  },
  {
   "cell_type": "markdown",
   "metadata": {},
   "source": [
    "Esta función está muy relacionada con `decodifica`, la cual recibe como parámetros un número entero `n`, la cantidad total de filas `Nf`, y la cantidad total de columnas `Nc`. Halla la fila codificada tomando la parte entera de `n/Nc`, y encuentra la columna codificada al tomar el residuo de esta operación. De esta manera, se puede encontrar la casilla exacta representada por el número entero, únicamente conociendo las dimensiones del problema. Así, se pueden decodificar los números obtenidos anteriormente de la siguiente manera:"
   ]
  },
  {
   "cell_type": "code",
   "execution_count": 6,
   "metadata": {},
   "outputs": [
    {
     "name": "stdout",
     "output_type": "stream",
     "text": [
      "Código: 0, Fila: 0, Columna: 0\n",
      "Código: 1, Fila: 0, Columna: 1\n",
      "Código: 2, Fila: 1, Columna: 0\n",
      "Código: 3, Fila: 1, Columna: 1\n"
     ]
    }
   ],
   "source": [
    "for v1 in range(4):\n",
    "    f, c = decodifica(v1, Nfilas, Ncolumnas)\n",
    "    print('Código: '+str(v1)+', Fila: '+str(f)+', Columna: '+str(c))"
   ]
  },
  {
   "cell_type": "markdown",
   "metadata": {},
   "source": [
    "En un problema que solamente requiera cruzar información acerca de la fila y columna, se puede proceder a transformar la salida de la función `codifica` en caracteres. Se presentará el código en Python que cumple esta tarea, y después retomaremos el problema original, con tres variables.\n",
    "\n",
    "El siguiente código ilustra como utilizar la función `codifica` para representar cada letra proposicional como un único caracter. Para esto, se transforman los códigos generados en caracteres ASCII, y estos últimos se toman como las letras proposicionales del problema:"
   ]
  },
  {
   "cell_type": "code",
   "execution_count": 7,
   "metadata": {},
   "outputs": [
    {
     "name": "stdout",
     "output_type": "stream",
     "text": [
      "\n",
      "\n",
      "filas x columnas\n",
      "Ā ā \n",
      "Ă ă \n"
     ]
    }
   ],
   "source": [
    "letras = []\n",
    "print(\"\\n\\nfilas x columnas\")\n",
    "for i in range(Nfilas):\n",
    "    for j in range(Ncolumnas):\n",
    "        v1 = codifica(i, j, Nfilas, Ncolumnas)\n",
    "        cod = chr(v1 + 256)\n",
    "        print(cod, end = \" \")\n",
    "        letras.append(cod)\n",
    "    print(\"\")"
   ]
  },
  {
   "cell_type": "markdown",
   "metadata": {},
   "source": [
    "Similarmente, se utiliza la función `decodifica` de la siguiente manera, para obtener la fila y columna de la casilla representada por el caracter:"
   ]
  },
  {
   "cell_type": "code",
   "execution_count": 8,
   "metadata": {},
   "outputs": [
    {
     "name": "stdout",
     "output_type": "stream",
     "text": [
      "Letra = Ā, Fila = 0, Columna = 0\n",
      "Letra = ā, Fila = 0, Columna = 1\n",
      "Letra = Ă, Fila = 1, Columna = 0\n",
      "Letra = ă, Fila = 1, Columna = 1\n"
     ]
    }
   ],
   "source": [
    "for cod in letras:\n",
    "    print('Letra = '+cod, end=', ')\n",
    "    f, c = decodifica(ord(cod)-256, Nfilas, Ncolumnas)\n",
    "    print('Fila = '+str(f), end=', ')\n",
    "    print('Columna = '+str(c))"
   ]
  },
  {
   "cell_type": "markdown",
   "metadata": {},
   "source": [
    "Retomando el problema original, debemos almacenar en un mismo caracter la información correspondiente a la fila, la columna y, adicionalmente, al número que llena la casilla. Para esto, nos basaremos en los códigos anteriores para crear funciones que nos permitan codificar tres variables. Estas funciones, similares a la representación P(fila, columna, numero) mencionada anteriormente, son presentadas a continuación:"
   ]
  },
  {
   "cell_type": "code",
   "execution_count": 9,
   "metadata": {},
   "outputs": [],
   "source": [
    "def P(f, c, o, Nf, Nc, No):\n",
    "    # Funcion que codifica tres argumentos\n",
    "    assert((f >= 0) and (f <= Nf - 1)), 'Primer argumento incorrecto! Debe ser un numero entre 0 y ' + str(Nf - 1) + \"\\nSe recibio \" + str(f)\n",
    "    assert((c >= 0) and (c <= Nc - 1)), 'Segundo argumento incorrecto! Debe ser un numero entre 0 y ' + str(Nc - 1) + \"\\nSe recibio \" + str(c)\n",
    "    assert((o >= 0) and (o <= No - 1)), 'Tercer argumento incorrecto! Debe ser un numero entre 0 y ' + str(No - 1)  + \"\\nSe recibio \" + str(o)\n",
    "    v1 = codifica(f, c, Nf, Nc)\n",
    "    v2 = codifica(v1, o, Nf * Nc, No)\n",
    "    codigo = chr(256 + v2)\n",
    "    return codigo\n",
    "\n",
    "def Pinv(codigo, Nf, Nc, No):\n",
    "    # Funcion que codifica un caracter en su respectiva fila f, columna c y objeto o\n",
    "    x = ord(codigo) - 256\n",
    "    v1, o = decodifica(x, Nf * Nc, No)\n",
    "    f, c = decodifica(v1, Nf, Nc)\n",
    "    return f, c, o"
   ]
  },
  {
   "cell_type": "markdown",
   "metadata": {},
   "source": [
    "Ahora, se trabaja con una mayor cantidad de argumentos funcionales. Para usar la función `P`, se recibe la fila `f`, la columna `c`, el valor `o`, la cantidad total de filas `Nf`, la cantidad total de columnas `Nc`, y la cantidad total de valores `No`. Usando dos veces la función codifica, como se observa en el código, se obtiene una letra proposicional única para representar un número dado en una casilla específica. Similarmente, la función `Pinv` retorna la fila `f`, la columna `c`, y el número `o`, codificados en un caracter dado. A continuación, se presenta un posible uso de estas dos funciones:"
   ]
  },
  {
   "cell_type": "code",
   "execution_count": 12,
   "metadata": {},
   "outputs": [
    {
     "name": "stdout",
     "output_type": "stream",
     "text": [
      "Numero: 0\n",
      "filas x columnas\n",
      "Ā Ą \n",
      "Ĉ Č \n",
      "\n",
      "\n",
      "Numero: 1\n",
      "filas x columnas\n",
      "ā ą \n",
      "ĉ č \n",
      "\n",
      "\n",
      "Numero: 2\n",
      "filas x columnas\n",
      "Ă Ć \n",
      "Ċ Ď \n",
      "\n",
      "\n",
      "Numero: 3\n",
      "filas x columnas\n",
      "ă ć \n",
      "ċ ď \n",
      "\n",
      "\n"
     ]
    }
   ],
   "source": [
    "letras = []\n",
    "Nnumeros = 4\n",
    "for k in range(Nnumeros):\n",
    "    print(\"Numero: \"+str(k))\n",
    "    print(\"filas x columnas\")\n",
    "    for i in range(Nfilas):\n",
    "        for j in range(Ncolumnas):\n",
    "            cod = P(i, j, k, Nfilas, Ncolumnas, Nnumeros)\n",
    "            print(cod, end = \" \")\n",
    "            letras.append(cod)\n",
    "        print(\"\")\n",
    "    print('\\n')"
   ]
  },
  {
   "cell_type": "code",
   "execution_count": 13,
   "metadata": {},
   "outputs": [
    {
     "name": "stdout",
     "output_type": "stream",
     "text": [
      "Letra = Ā, Numero = 0, Fila = 0, Columna = 0\n",
      "Letra = Ą, Numero = 0, Fila = 0, Columna = 1\n",
      "Letra = Ĉ, Numero = 0, Fila = 1, Columna = 0\n",
      "Letra = Č, Numero = 0, Fila = 1, Columna = 1\n",
      "Letra = ā, Numero = 1, Fila = 0, Columna = 0\n",
      "Letra = ą, Numero = 1, Fila = 0, Columna = 1\n",
      "Letra = ĉ, Numero = 1, Fila = 1, Columna = 0\n",
      "Letra = č, Numero = 1, Fila = 1, Columna = 1\n",
      "Letra = Ă, Numero = 2, Fila = 0, Columna = 0\n",
      "Letra = Ć, Numero = 2, Fila = 0, Columna = 1\n",
      "Letra = Ċ, Numero = 2, Fila = 1, Columna = 0\n",
      "Letra = Ď, Numero = 2, Fila = 1, Columna = 1\n",
      "Letra = ă, Numero = 3, Fila = 0, Columna = 0\n",
      "Letra = ć, Numero = 3, Fila = 0, Columna = 1\n",
      "Letra = ċ, Numero = 3, Fila = 1, Columna = 0\n",
      "Letra = ď, Numero = 3, Fila = 1, Columna = 1\n"
     ]
    }
   ],
   "source": [
    "for cod in letras:\n",
    "    print('Letra = '+cod, end=', ')\n",
    "    f, c, o = Pinv(cod, Nfilas, Ncolumnas, Nnumeros)\n",
    "    print('Numero = '+str(o), end=', ')\n",
    "    print('Fila = '+str(f), end=', ')\n",
    "    print('Columna = '+str(c))"
   ]
  },
  {
   "cell_type": "markdown",
   "metadata": {},
   "source": [
    "### Restricciones del problema\n",
    "Ahora, es necesario crear las reglas que limitarán los posibles valores de verdad para las letras proposicionales. En nuestro problema de ejemplo, tenemos dos restricciones. La primera es que en cada celda solamente puede estar exactamente un número. La segunda, es que los números no pueden repetirse.\n",
    "\n",
    "Para representar estas restricciones, se propone el siguiente procedimiento:"
   ]
  },
  {
   "cell_type": "markdown",
   "metadata": {},
   "source": [
    "1) La fórmula para representar que, en la primera casilla, solo puede estar el número 0, es la siguiente:\n",
    "\n",
    "$$P(0,0,0) \\leftrightarrow \\neg\\left(\\bigvee_{x=1}^3P(0,0,x)\\right)$$\n",
    "\n",
    "Que se implementa en Python de la siguiente manera:"
   ]
  },
  {
   "cell_type": "code",
   "execution_count": 14,
   "metadata": {},
   "outputs": [
    {
     "name": "stdout",
     "output_type": "stream",
     "text": [
      "āĂOăO-Ā=\n"
     ]
    }
   ],
   "source": [
    "inicial = True\n",
    "for x in range(1,4):\n",
    "    if inicial:\n",
    "        formula1 = P(0, 0, x, Nfilas, Ncolumnas, Nnumeros)\n",
    "        inicial = False\n",
    "    else:\n",
    "        formula1 += P(0, 0, x, Nfilas, Ncolumnas, Nnumeros) + \"O\"\n",
    "\n",
    "formula1 = formula1 + \"-\" + P(0, 0, 0, Nfilas, Ncolumnas, Nnumeros) + '='\n",
    "print(formula1)"
   ]
  },
  {
   "cell_type": "markdown",
   "metadata": {},
   "source": [
    "Observe que la fórmula resultante es difícil de entender a simple vista, aunque un computador pueda trabajarla fácilmente. Para visualizar la fórmula anterior de manera más comprensible y entender el significado del string generado por el código anterior, usaremos la siguiente versión modificada de la función `Inorder`. Pero antes de esto, requerimos la función `String2Tree` para convertir la fórmula que viene en notación polaca inversa a una respresentación en árboles. A continuación, introducimos este árbol en la función `Inorderp`, la cual retorna una fórmula legible en función de las letras proposicionales que utilizamos."
   ]
  },
  {
   "cell_type": "code",
   "execution_count": 15,
   "metadata": {},
   "outputs": [
    {
     "name": "stdout",
     "output_type": "stream",
     "text": [
      "((0, 0, 0)=-((0, 0, 3)O((0, 0, 2)O(0, 0, 1))))\n"
     ]
    }
   ],
   "source": [
    "class Tree(object):\n",
    "    def __init__(self, label, left, right):\n",
    "        self.left = left\n",
    "        self.right = right\n",
    "        self.label = label\n",
    "        \n",
    "def String2Tree(A):\n",
    "    letrasProposicionales=[chr(x) for x in range(256, 600)]\n",
    "    Conectivos = ['O','Y','>','=']\n",
    "    Pila = []\n",
    "    for c in A:\n",
    "        if c in letrasProposicionales:\n",
    "            Pila.append(Tree(c,None,None))\n",
    "        elif c=='-':\n",
    "            FormulaAux = Tree(c,None,Pila[-1])\n",
    "            del Pila[-1]\n",
    "            Pila.append(FormulaAux)\n",
    "        elif c in Conectivos:\n",
    "            FormulaAux = Tree(c,Pila[-1],Pila[-2])\n",
    "            del Pila[-1]\n",
    "            del Pila[-1]\n",
    "            Pila.append(FormulaAux)\n",
    "        else:\n",
    "            print(u\"Hay un problema: el símbolo \" + str(c)+ \" no se reconoce\")\n",
    "    return Pila[-1]\n",
    "\n",
    "def Inorderp(f):\n",
    "    if f.right == None:\n",
    "        return str(Pinv(f.label, Nfilas, Ncolumnas, Nnumeros))\n",
    "    elif f.label == '-':\n",
    "        return f.label + Inorderp(f.right)\n",
    "    else:\n",
    "        return \"(\" + Inorderp(f.left) + f.label + Inorderp(f.right) + \")\"\n",
    "    \n",
    "print(Inorderp(String2Tree(formula1)))"
   ]
  },
  {
   "cell_type": "markdown",
   "metadata": {},
   "source": [
    "2) Para el siguiente paso, se debe replicar este procedimiento para los demás números dentro de las casillas. Es decir, se debe crear una regla que indique que, para cada número, este puede ocupar la primera casilla si y sólo si ninguno de los otros números ya la ocupa. La fórmula de lógica proposicional que expresa esta restricción es la siguiente:\n",
    "\n",
    "$$\\bigwedge_{i=0}^3\\left(P(0,0,i) \\leftrightarrow \\neg\\left(\\bigvee_{x\\neq i}P(0,0,x)\\right)\\right)$$\n",
    "\n",
    "**Ejercicio 1:** Implemente la fórmula anterior como un string de Python."
   ]
  },
  {
   "cell_type": "code",
   "execution_count": 11,
   "metadata": {},
   "outputs": [],
   "source": [
    "# Implemente en esta celda la formula anterior, como un string\n",
    "# en notacion polaca inversa, y visualicela mediante el inorderp"
   ]
  },
  {
   "cell_type": "markdown",
   "metadata": {},
   "source": [
    "---"
   ]
  },
  {
   "cell_type": "markdown",
   "metadata": {},
   "source": [
    "3) Ahora que hemos creado la restricción para la primera celda, el siguiente paso consiste en replicar esta misma para todas las demás celdas. Con esto, tendremos que cada celda podrá ser ocupada por exactamente un número. La fórmula lógica que expresa esta restricción es la siguiente:\n",
    "\n",
    "$$\\bigwedge_{f=0}^1\\left(\\bigwedge_{c=0}^1\\left(\\bigwedge_{n=0}^3\\left(P(f,c,n) \\leftrightarrow \\neg\\left(\\bigvee_{x\\neq n}P(f,c,x)\\right)\\right)\\right)\\right)$$\n",
    "\n",
    "En este caso, `f` representa la fila de la casilla, `c` representa la columna de la casilla, `n` representa el valor dentro de la casilla, y `x` representa a algún valor que no ocupa la casilla.\n",
    "\n",
    "**Ejercicio 2:** Implemente la fórmula anterior como un string de Python."
   ]
  },
  {
   "cell_type": "code",
   "execution_count": 12,
   "metadata": {},
   "outputs": [],
   "source": [
    "# Implemente en esta celda la formula anterior, como un string \n",
    "# en notacion polaca inversa, y visualicela mediante el inorderp"
   ]
  },
  {
   "cell_type": "markdown",
   "metadata": {},
   "source": [
    "---"
   ]
  },
  {
   "cell_type": "markdown",
   "metadata": {},
   "source": [
    "4) Hasta el momento, tenemos que sólo puede haber exactamente un número por celda. Para terminar de representar el problema, debemos añadir que los números no pueden repetirse. Es decir, si el número `n` se encuentra dentro de la casilla `(f,c)`, este mismo número no puede estar dentro de alguna otra casilla `(i,j)`. La fórmula lógica que representa esta restricción es la siguiente:\n",
    "\n",
    "$$\\bigwedge_{f=0}^1\\left(\\bigwedge_{c=0}^1\\left(\\bigwedge_{n=0}^3\\left(P(f,c,n)\\to\\neg\\left(\\bigvee_{i\\neq f}\\left(\\bigvee_{j\\neq c} P(i,j,n)\\right)\\right)\\right)\\right)\\right)$$\n",
    "\n",
    "**Ejercicio 3:** Implemente la fórmula anterior como un string de Python."
   ]
  },
  {
   "cell_type": "code",
   "execution_count": null,
   "metadata": {},
   "outputs": [],
   "source": [
    "# Implemente en esta celda la formula anterior, como un string \n",
    "# en notacion polaca inversa, y visualicela mediante el inorderp"
   ]
  },
  {
   "cell_type": "markdown",
   "metadata": {},
   "source": [
    "---"
   ]
  },
  {
   "cell_type": "markdown",
   "metadata": {},
   "source": [
    "En este taller, usted aprendió a:\n",
    "\n",
    "1) Emplear letras proposicionales en Python para representar el cruce de información porcionada por dos o más variables.\n",
    "\n",
    "2) Usar la notación $P(x_1,...,x_n)$ en Python para cruzar información.\n",
    "\n",
    "3) Implementar las notaciones $\\displaystyle\\bigwedge_{x\\in SET}$  y  $\\displaystyle\\bigvee_{x\\in SET}$ dentro de Python.\n",
    "\n",
    "4) Empaquetar información mediante letras proposicionales equivalentes, en Python."
   ]
  }
 ],
 "metadata": {
  "kernelspec": {
   "display_name": "Python 3",
   "language": "python",
   "name": "python3"
  },
  "language_info": {
   "codemirror_mode": {
    "name": "ipython",
    "version": 3
   },
   "file_extension": ".py",
   "mimetype": "text/x-python",
   "name": "python",
   "nbconvert_exporter": "python",
   "pygments_lexer": "ipython3",
   "version": "3.8.3"
  }
 },
 "nbformat": 4,
 "nbformat_minor": 4
}
