{
 "cells": [
  {
   "cell_type": "markdown",
   "metadata": {
    "colab_type": "text",
    "id": "TpmFfXsQ0dYI"
   },
   "source": [
    "## Quiz 2: Funciones heurísticas para el 8-puzzle\n",
    "\n",
    "Adaptado de Russell and Norvig (2016), cap. 3."
   ]
  },
  {
   "cell_type": "markdown",
   "metadata": {
    "colab_type": "text",
    "id": "S4x5lJfd0dYM"
   },
   "source": [
    "### 8-puzzle\n",
    "\n",
    "El siguiente problema se conoce como el 8-puzzle. En un tablero $3\\times 3$ se ponen ocho fichas, cada una con un número del 1 al 8, dejando un espacio vacío. Partiendo de una configuración aleatoria, el objetivo es encontrar una secuencia de desplazamientos de fichas al espacio vacío, una a la vez, hasta llegar a un tablero ordenado, como se muestra en la siguiente figura:\n",
    "\n",
    "\n",
    "<img src=\"./imagenes/8-puzzle.png\" width=\"300\">"
   ]
  },
  {
   "cell_type": "markdown",
   "metadata": {
    "colab_type": "text",
    "id": "vL49lY0r0dYP"
   },
   "source": [
    "**Ejercicio 1:**\n",
    "\n",
    "Proporcione la descripción formal del problema:\n",
    "\n",
    "* **Estado inicial**: La configuración inicial del tablero, la cual es aleatoria.\n",
    "\n",
    "* **Posibles acciones**: Dado un estado del tablero (Matriz 3x3), las posibles acciones son que fichas se pueden mover y en que dirección.\n",
    "\n",
    "* **Función de transiciones**: La funcion toma un tablero 3x3 con ciertas posiciones de los numeros (Digamos el numero $a$, se encuentra en la fila $i$ y columna $j$ en la iteracion $t$, denotado como $a_{(i,j)}(t)$) y nos devuelve un tablero 3x3 con  por lo menos un $a$ cumpla $a_{(i,j)}(t+1) \\neq a_{i,j}(t)$. Es decir un nuevo tablero con diferentes posiciones.\n",
    "\n",
    "* **Prueba de satisfacción del objetivo**: El estado objetivo, es que los numeros esten ordenados en el tablero, note que se debe cumplir que el numero derecha debe ser el numero +1 $(a_{(i,j)}+1 =a_{(i,j+1)})$. y el número debajo debe ser el numero +3 $(a_{(i,j)}+3 =a_{(i+1,j)})$; todo esto enmarcado en el tablero 3x3.\n",
    "\n",
    "* **Función de costo**: No hemos definido una función de costos todavía."
   ]
  },
  {
   "cell_type": "markdown",
   "metadata": {},
   "source": [
    "----"
   ]
  },
  {
   "cell_type": "markdown",
   "metadata": {
    "colab_type": "text",
    "id": "ESao4G9n0dYP"
   },
   "source": [
    "\n",
    "**Implementación del problema**\n",
    "\n",
    "Implementaremos el problema del 8-puzzle."
   ]
  },
  {
   "cell_type": "code",
   "execution_count": 1,
   "metadata": {
    "colab": {},
    "colab_type": "code",
    "id": "73kSrhUo0dYQ"
   },
   "outputs": [],
   "source": [
    "import numpy as np\n",
    "from random import choice\n",
    "import copy\n",
    "from scipy.spatial import distance_matrix\n",
    "import itertools \n",
    "\n",
    "%matplotlib inline"
   ]
  },
  {
   "cell_type": "code",
   "execution_count": 2,
   "metadata": {
    "colab": {},
    "colab_type": "code",
    "id": "p9AyvGbc0dYV"
   },
   "outputs": [],
   "source": [
    "class ocho_puzzle:\n",
    "    \n",
    "    def estado_inicial(self):\n",
    "        estado = list(np.random.choice(9, 9, replace=False)) #Genera entero aleatorio [0,9] en nueve posiciones, sin repeticiones (replace)\n",
    "        estado = np.reshape(estado, (3,3)) #Lo convierte en matriz 3x3\n",
    "        return estado\n",
    "    \n",
    "    def estado_inicial1(self):\n",
    "        estado = list([2,6,7,5,0,3,1,8,4]) #Genera matriz ya dada en nueve posiciones, sin repeticiones (replace)\n",
    "        estado = np.reshape(estado, (3,3)) #Lo convierte en matriz 3x3\n",
    "        return estado\n",
    "    \n",
    "    def acciones_aplicables(self, estado):\n",
    "        # Devuelve una lista de fichas que es posible mover\n",
    "        # y en qué dirección\n",
    "        # Input: estado, que es una np.matrix(3x3)\n",
    "        # Output: lista de parejas ((x1,y1), (x2,y2))\n",
    "        # Es decir, la ficha en la posición (x1,y1) puede moverse a (x2,y2)\n",
    "        y, x = np.where(estado == 0)\n",
    "        y = y[0]\n",
    "        x = x[0]\n",
    "        if x == 0:\n",
    "            if y == 0:\n",
    "                return [((x + 1, y), (x, y)), \n",
    "                        ((x, y + 1), (x, y))\n",
    "                       ]\n",
    "            elif y == 2:\n",
    "                return [((x + 1, y), (x, y)), \n",
    "                        ((x, y - 1), (x, y))\n",
    "                       ]\n",
    "            else:\n",
    "                return [((x + 1, y), (x, y)), \n",
    "                        ((x, y + 1), (x, y)),\n",
    "                        ((x, y - 1), (x, y))\n",
    "                       ]\n",
    "        if x == 2:\n",
    "            if y == 0:\n",
    "                return [((x - 1, y), (x, y)), \n",
    "                        ((x, y + 1), (x, y))\n",
    "                       ]\n",
    "            elif y == 2:\n",
    "                return [((x - 1, y), (x, y)), \n",
    "                        ((x, y - 1), (x, y))\n",
    "                       ]\n",
    "            else:\n",
    "                return [((x - 1, y), (x, y)), \n",
    "                        ((x, y + 1), (x, y)),\n",
    "                        ((x, y - 1), (x, y))\n",
    "                       ]\n",
    "        else:\n",
    "            if y == 0:\n",
    "                return [((x - 1, y), (x, y)),\n",
    "                        ((x + 1, y), (x, y)),\n",
    "                        ((x, y + 1), (x, y))\n",
    "                       ]\n",
    "            elif y == 2:\n",
    "                return [((x - 1, y), (x, y)),\n",
    "                        ((x + 1, y), (x, y)),\n",
    "                        ((x, y - 1), (x, y))\n",
    "                       ]\n",
    "            else:\n",
    "                return [((x - 1, y), (x, y)), \n",
    "                        ((x + 1, y), (x, y)),\n",
    "                        ((x, y + 1), (x, y)),\n",
    "                        ((x, y - 1), (x, y))\n",
    "                       ]\n",
    "\n",
    "    def transicion(self, estado, indices):\n",
    "        # Devuelve el tablero moviendo la ficha en indice\n",
    "        # Input: estado, que es una np.matrix(3x3)\n",
    "        #        indice, de la forma ((x1,y1), (x2,y2))\n",
    "        # Output: estado, que es una np.matrix(8x8)\n",
    "        \n",
    "        s = copy.deepcopy(estado)\n",
    "        x1, y1 = indices[0]\n",
    "        x2, y2 = indices[1]\n",
    "        s[y2, x2] = estado[y1, x1]\n",
    "        s[y1, x1] = 0\n",
    "        return s\n",
    "    \n",
    "    def test_objetivo(self, estado):\n",
    "        # Devuelve True/False dependiendo si el estado\n",
    "        # resuelve el problema\n",
    "        # Input: estado, que es una np.matrix(3x3)\n",
    "        # Output: True/False\n",
    "        k = list(np.reshape(estado, (9,1)))\n",
    "        k = [x[0] for x in k]\n",
    "        objetivo = list(range(9))\n",
    "        return (k == objetivo)\n",
    "        \n",
    "    def costo(self, estado, accion):\n",
    "        return 1"
   ]
  },
  {
   "cell_type": "markdown",
   "metadata": {
    "colab_type": "text",
    "id": "ym7uBBHr0dYe"
   },
   "source": [
    "### Funciones heurísticas\n",
    "\n",
    "Heurística es una palabra que viene del griego εὑρίσκειν, y que significa \"hallar\" o \"inventar\". Una función heurística es una manera de usar conocimiento sobre el problema (*domain knowledge*) para buscar una solución de manera más eficiente que las estrategias no informadas.\n",
    "\n",
    "Para el 8-puzzle se han encontrado dos funciones con muy buenos resultados:\n",
    "\n",
    "- $h_1 = $ número de fichas que no corresponden al orden del estado objetivo.\n",
    "\n",
    "- $h_2 = $ suma de la distancia de cada ficha a su lugar en el estado objetivo, usando la distancia Manhattan, también conocida como la [distancia del taxista](https://es.wikipedia.org/wiki/Geometr%C3%ADa_del_taxista). "
   ]
  },
  {
   "cell_type": "markdown",
   "metadata": {},
   "source": [
    "**Ejercicio 2:**\n",
    "\n",
    "Implemente las dos funciones heurísticas, $h_1$ y $h_2$, para el 8-puzzle. "
   ]
  },
  {
   "cell_type": "code",
   "execution_count": 3,
   "metadata": {},
   "outputs": [
    {
     "name": "stdout",
     "output_type": "stream",
     "text": [
      "[[0 5 4]\n",
      " [8 2 7]\n",
      " [6 1 3]]\n"
     ]
    },
    {
     "data": {
      "text/plain": [
       "7"
      ]
     },
     "execution_count": 3,
     "metadata": {},
     "output_type": "execute_result"
    }
   ],
   "source": [
    "def heuristica1(estado):\n",
    "        # Devuelve True/False dependiendo si el estado\n",
    "        # resuelve el problema\n",
    "        # Input: estado, que es una np.matrix(3x3)\n",
    "        # Output: True/False\n",
    "        k = list(np.reshape(estado, (9,1))) #convierte el estado en una lista\n",
    "        k = [x[0] for x in k]\n",
    "        costo1 = 0\n",
    "        for i in range(9):\n",
    "            if k[i]!= i:\n",
    "                costo1 = costo1+1 # mira cuantos elementos no see encuentran en su posicion\n",
    "        return costo1    \n",
    "\n",
    "problema= ocho_puzzle()\n",
    "s = problema.estado_inicial()\n",
    "print(s)\n",
    "heuristica1(s)"
   ]
  },
  {
   "cell_type": "code",
   "execution_count": 4,
   "metadata": {},
   "outputs": [
    {
     "name": "stdout",
     "output_type": "stream",
     "text": [
      "[[0 1 2]\n",
      " [3 4 5]\n",
      " [6 7 8]]\n",
      "True\n"
     ]
    },
    {
     "data": {
      "text/plain": [
       "16"
      ]
     },
     "execution_count": 4,
     "metadata": {},
     "output_type": "execute_result"
    }
   ],
   "source": [
    "objetivo = np.arange(0,9)\n",
    "objetivo = np.reshape(objetivo, (3,3))\n",
    "print(objetivo)\n",
    "print(problema.test_objetivo(objetivo))\n",
    "def heuristica2(estado,objetivo):\n",
    "        #Convirtiendo en vectores\n",
    "        s = estado\n",
    "        \n",
    "        #Distancia Manhattan\n",
    "        Manhattan = []\n",
    "\n",
    "        for i in range(3): #iterando matriz\n",
    "            for j in range(3): #iterando matriz\n",
    "                if s[i][j]!=0: #0, la casilla que no posee nada\n",
    "                    x,y = divmod(s[i][j],3) #devuelve la tupla de x:cociente y :residuo, es decir sus coordenadas\n",
    "                    Manhattan.append(abs(x-i)+abs(y-j)) #aplicando definición de distancia Manhattan\n",
    "                else:\n",
    "                    Manhattan.append(0)\n",
    "        # print(Manhattan)\n",
    "        return sum(Manhattan) #retorna la suma de todas las distancias Manhattan\n",
    "#EJEMPLIFICACION    \n",
    "Manhattan = heuristica2(s,objetivo)\n",
    "Manhattan "
   ]
  },
  {
   "cell_type": "markdown",
   "metadata": {},
   "source": [
    "---"
   ]
  },
  {
   "cell_type": "markdown",
   "metadata": {
    "colab_type": "text",
    "id": "7KKT2A0G0dYu"
   },
   "source": [
    "**Ejercicio 3:**\n",
    "\n",
    "Lea la sección 3.5.1 del texto guía e implemente el algoritmo *greedy best-first search*. Use este algoritmo para encontrar una solución al 8-puzzle."
   ]
  },
  {
   "cell_type": "code",
   "execution_count": 5,
   "metadata": {},
   "outputs": [],
   "source": [
    "class nodo:\n",
    "    \n",
    "    # Clase para crear los nodos\n",
    "    \n",
    "    def __init__(self, estado, madre, accion, costo):\n",
    "        self.estado = estado\n",
    "        self.madre = madre\n",
    "        self.accion = accion\n",
    "        self.costo = costo\n",
    "        \n",
    "def nodo_hijo(problema, madre, accion):\n",
    "    \n",
    "    # Función para crear un nuevo nodo\n",
    "    # Input: problema, que es un objeto de clase ocho_reinas\n",
    "    #        madre, que es un nodo,\n",
    "    #        accion, que es una acción que da lugar al estado del nuevo nodo\n",
    "    # Output: nodo\n",
    "\n",
    "    return nodo(problema.transicion(madre.estado, accion),\n",
    "                madre,\n",
    "                accion,\n",
    "                costo = madre.costo + problema.costo(madre.estado, accion)\n",
    "               )"
   ]
  },
  {
   "cell_type": "code",
   "execution_count": 6,
   "metadata": {},
   "outputs": [],
   "source": [
    "# Ejemplo de creación de un nodo a partir de la raíz\n",
    "raiz = nodo(problema.estado_inicial(), None, None, 0)\n",
    "acciones = problema.acciones_aplicables(raiz.estado)"
   ]
  },
  {
   "cell_type": "code",
   "execution_count": 7,
   "metadata": {},
   "outputs": [],
   "source": [
    "def greedy_best_first_search(problema,heuristica_f):\n",
    "    \n",
    "    # Función de búsqueda mediante la construcción\n",
    "    # del arbol en breadth-first\n",
    "    \n",
    "    raiz = nodo(problema.estado_inicial1(), None, None, 0)\n",
    "    \n",
    "    if problema.test_objetivo(raiz.estado):\n",
    "            return raiz\n",
    "    else:\n",
    "        frontera = [raiz]\n",
    "        explored = [] #Va guardas las tuplas estado en forma de lista y la accion que se tomo en ese estado para evitar bucles\n",
    "\n",
    "    print(\"\\nProblema Inicial:\")   \n",
    "    print(raiz.estado)\n",
    "    while len(frontera) > 0:\n",
    "        heuristica=[] #Lista temporal que  contendra heuristicas\n",
    "        #print(\"\\n------------\")  \n",
    "        for i in range(len(frontera)): #Por cada nodo, vemos su heurisita aplicada\n",
    "                h_temp = heuristica_f(frontera[i].estado,objetivo)\n",
    "                heuristica.append(h_temp)\n",
    "        # Seleccion nodo con el menor puntaje de heuristica\n",
    "        \n",
    "        min_h = min(heuristica)\n",
    "        #print(min_h) #imprime la minima heurisitca, sirve para revisar que cada vez disminuye el puntaje, como queremos\n",
    "        indice = heuristica.index(min_h)\n",
    "        n = frontera[indice]\n",
    "        if min_h == 0: # si encuentra solucion, sale\n",
    "            return N\n",
    "        frontera.remove(n) \n",
    "        \n",
    "        explored.append([list(n.estado.reshape(1,9)[0]),n.accion])\n",
    "        acciones = problema.acciones_aplicables(n.estado)\n",
    "        \n",
    "        # Limitamos las acciones aplicables a aquellas que no se han echo antes en estados ya pasados\n",
    "\n",
    "        for a in acciones: # Solo tomamos las 3 primeras acciones\n",
    "            N = nodo_hijo(problema, n, a)\n",
    "            if problema.test_objetivo(N.estado):\n",
    "                return N\n",
    "            elif [list(N.estado.reshape(1,9)[0]),N.accion] not in explored :                \n",
    "                # print(\"Nodo a incluir:\")\n",
    "                # print(N.estado)\n",
    "                frontera.append(N)\n",
    "\n",
    "    \n",
    "    return None"
   ]
  },
  {
   "cell_type": "code",
   "execution_count": 8,
   "metadata": {},
   "outputs": [
    {
     "name": "stdout",
     "output_type": "stream",
     "text": [
      "\n",
      "Problema Inicial:\n",
      "[[2 6 7]\n",
      " [5 0 3]\n",
      " [1 8 4]]\n",
      "[[0 1 2]\n",
      " [3 4 5]\n",
      " [6 7 8]]\n"
     ]
    }
   ],
   "source": [
    "# En algunos casos se demora mucho, pero es posible notar que gradualmente disminuye la distancia de manhattan \n",
    "# y despues aveces aumenta por que por donde lo habia echo no era la solución y tiene que buscar otra opción\n",
    "# Elegi un caso base, que se que siempre lo va solucionar rapido, para mostrar (Estado_inicial1()), en cualqueir caso aleatoria\n",
    "# deberia funcionar\n",
    "\n",
    "# Utilizo la heuristica 2 que es mejor que la heuristica 1\n",
    "\n",
    "problema = ocho_puzzle()\n",
    "l = greedy_best_first_search(problema,heuristica2)\n",
    "print(l.estado)"
   ]
  },
  {
   "cell_type": "markdown",
   "metadata": {},
   "source": [
    "Para hallar el numero de pasos recurrimos a la solucion previa que obtuvimos"
   ]
  },
  {
   "cell_type": "code",
   "execution_count": 9,
   "metadata": {},
   "outputs": [],
   "source": [
    "def solucion(n):\n",
    "    \n",
    "    # Devuelve la secuencia de estados que va desde la raíz\n",
    "    # hasta el nodo n\n",
    "    # Input: n, nodo\n",
    "    # Output: l, lista de acciones\n",
    "    \n",
    "    acciones_invertidas = []\n",
    "    m = copy.deepcopy(n)\n",
    "    while m.madre != None:\n",
    "        acciones_invertidas.append(m.accion)\n",
    "        m = m.madre\n",
    "    \n",
    "    num_acciones = len(acciones_invertidas)\n",
    "    acciones = []\n",
    "    for i in range(1, num_acciones + 1):\n",
    "        acciones.append(acciones_invertidas[num_acciones - i])\n",
    "    \n",
    "    return acciones"
   ]
  },
  {
   "cell_type": "code",
   "execution_count": 10,
   "metadata": {},
   "outputs": [
    {
     "data": {
      "text/plain": [
       "[((2, 1), (1, 1)),\n",
       " ((2, 2), (2, 1)),\n",
       " ((1, 2), (2, 2)),\n",
       " ((0, 2), (1, 2)),\n",
       " ((0, 1), (0, 2)),\n",
       " ((1, 1), (0, 1)),\n",
       " ((1, 0), (1, 1)),\n",
       " ((0, 0), (1, 0)),\n",
       " ((0, 1), (0, 0)),\n",
       " ((1, 1), (0, 1)),\n",
       " ((2, 1), (1, 1)),\n",
       " ((2, 0), (2, 1)),\n",
       " ((1, 0), (2, 0)),\n",
       " ((1, 1), (1, 0)),\n",
       " ((1, 2), (1, 1)),\n",
       " ((0, 2), (1, 2)),\n",
       " ((0, 1), (0, 2)),\n",
       " ((0, 0), (0, 1)),\n",
       " ((1, 0), (0, 0)),\n",
       " ((1, 1), (1, 0)),\n",
       " ((2, 1), (1, 1)),\n",
       " ((2, 2), (2, 1)),\n",
       " ((1, 2), (2, 2)),\n",
       " ((1, 1), (1, 2)),\n",
       " ((0, 1), (1, 1)),\n",
       " ((0, 0), (0, 1)),\n",
       " ((1, 0), (0, 0)),\n",
       " ((1, 1), (1, 0)),\n",
       " ((0, 1), (1, 1)),\n",
       " ((0, 2), (0, 1)),\n",
       " ((1, 2), (0, 2)),\n",
       " ((1, 1), (1, 2)),\n",
       " ((1, 0), (1, 1)),\n",
       " ((0, 0), (1, 0)),\n",
       " ((0, 1), (0, 0)),\n",
       " ((1, 1), (0, 1)),\n",
       " ((1, 2), (1, 1)),\n",
       " ((0, 2), (1, 2)),\n",
       " ((0, 1), (0, 2)),\n",
       " ((0, 0), (0, 1)),\n",
       " ((1, 0), (0, 0)),\n",
       " ((1, 1), (1, 0)),\n",
       " ((0, 1), (1, 1)),\n",
       " ((0, 2), (0, 1)),\n",
       " ((1, 2), (0, 2)),\n",
       " ((1, 1), (1, 2)),\n",
       " ((1, 0), (1, 1)),\n",
       " ((0, 0), (1, 0)),\n",
       " ((0, 1), (0, 0)),\n",
       " ((0, 2), (0, 1)),\n",
       " ((1, 2), (0, 2)),\n",
       " ((2, 2), (1, 2)),\n",
       " ((2, 1), (2, 2)),\n",
       " ((1, 1), (2, 1)),\n",
       " ((0, 1), (1, 1)),\n",
       " ((0, 2), (0, 1)),\n",
       " ((1, 2), (0, 2)),\n",
       " ((1, 1), (1, 2)),\n",
       " ((2, 1), (1, 1)),\n",
       " ((2, 2), (2, 1)),\n",
       " ((1, 2), (2, 2)),\n",
       " ((0, 2), (1, 2)),\n",
       " ((0, 1), (0, 2)),\n",
       " ((1, 1), (0, 1)),\n",
       " ((1, 2), (1, 1)),\n",
       " ((2, 2), (1, 2)),\n",
       " ((2, 1), (2, 2)),\n",
       " ((1, 1), (2, 1)),\n",
       " ((0, 1), (1, 1)),\n",
       " ((0, 0), (0, 1))]"
      ]
     },
     "execution_count": 10,
     "metadata": {},
     "output_type": "execute_result"
    }
   ],
   "source": [
    "pasos = solucion(l)\n",
    "pasos"
   ]
  },
  {
   "cell_type": "markdown",
   "metadata": {},
   "source": [
    "### En este notebook usted aprendió\n",
    "\n",
    "* El concepto de función heurística en la búsqueda de soluciones para implementar *domain knowledge*.\n",
    "\n",
    "* Implementar el método de búsqueda *greedy best-first search*."
   ]
  },
  {
   "cell_type": "markdown",
   "metadata": {},
   "source": [
    "### Previos intentos de solución"
   ]
  },
  {
   "cell_type": "code",
   "execution_count": 12,
   "metadata": {},
   "outputs": [],
   "source": [
    "def greedy_best_first_search1(problema,objetivo):\n",
    "    \n",
    "    # Función de búsqueda mediante la construcción\n",
    "    # del arbol de búsqueda de manera aleatoria\n",
    "    \n",
    "    raiz = nodo(problema.estado_inicial(), None, None, 0)\n",
    "    \n",
    "    frontera = [raiz]\n",
    "    \n",
    "    while len(frontera) > 0:\n",
    "        # print(\"len(frontera)\", len(frontera))\n",
    "        n = choice(frontera) # Seleccionamos un nodo aleatorio\n",
    "        # print(\"*****************\")\n",
    "        # print(n.estado)\n",
    "        frontera.remove(n)\n",
    "        if problema.test_objetivo(n.estado):\n",
    "            return n\n",
    "        else:\n",
    "            acciones = problema.acciones_aplicables(n.estado)\n",
    "            # Limitamos las acciones aplicables a aquellas\n",
    "            # que están en la columna siguiente a la última dama\n",
    "            heuristica = []\n",
    "            #print(\"\\nAcciones posibles:\")\n",
    "            #print(acciones_por_columna)\n",
    "            for i in range(len(acciones)): # Solo tomamos las 3 primeras acciones\n",
    "                N = nodo_hijo(problema, n, acciones[i])\n",
    "                h_temp = heuristica2(N.estado,objetivo)\n",
    "                heuristica.append(h_temp)\n",
    "                # print(\"Nodo a incluir:\")\n",
    "                # print(N.estado)\n",
    "            min_h = min(heuristica)\n",
    "            indice = heuristica.index(min_h)\n",
    "            N = nodo_hijo(problema, n, acciones[i])\n",
    "            frontera.append(N)\n",
    "    \n",
    "    return None"
   ]
  },
  {
   "cell_type": "code",
   "execution_count": 14,
   "metadata": {},
   "outputs": [],
   "source": [
    "def greedy_best_first_search2(problema,objetivo):\n",
    "    \n",
    "    # Función de búsqueda mediante la construcción\n",
    "    # del arbol en breadth-first\n",
    "    \n",
    "    raiz = nodo(problema.estado_inicial(), None, None, 0)\n",
    "    \n",
    "    if problema.test_objetivo(raiz.estado):\n",
    "            return raiz\n",
    "    else:\n",
    "        frontera = [raiz]\n",
    "        explored = []\n",
    "        sucesores =[]\n",
    "    \n",
    "    while len(frontera) > 0:\n",
    "        # print(\"len(frontera)\", len(frontera))\n",
    "        n = frontera[0] # Seleccionamos el nodo con menor altura\n",
    "        # print(\"*****************\")\n",
    "        # print(n.estado)\n",
    "        heuristica = []\n",
    "        frontera.remove(n)\n",
    "        explored.append(n)\n",
    "        acciones = problema.acciones_aplicables(n.estado)\n",
    "        # Limitamos las acciones aplicables a aquellas\n",
    "        # que están en la columna siguiente a la última dama\n",
    "        # print(\"\\nAcciones posibles:\")\n",
    "        # print(acciones_por_columna)\n",
    "        for i in range(len(acciones)): # Solo tomamos las 3 primeras acciones\n",
    "                N = nodo_hijo(problema, n, acciones[i])\n",
    "                h_temp = heuristica2(N.estado,objetivo)\n",
    "                heuristica.append(h_temp)\n",
    "                # print(\"Nodo a incluir:\")\n",
    "                # print(N.estado)\n",
    "        min_h = min(heuristica)\n",
    "        indice = heuristica.index(min_h)\n",
    "        N = nodo_hijo(problema, n, acciones[i])\n",
    "        frontera.append(N)\n",
    "        if problema.test_objetivo(N.estado):\n",
    "            return N\n",
    "        elif N not in explored:                \n",
    "            # print(\"Nodo a incluir:\")\n",
    "            # print(N.estado)\n",
    "            frontera.append(N)\n",
    "    \n",
    "    return None"
   ]
  },
  {
   "cell_type": "code",
   "execution_count": null,
   "metadata": {},
   "outputs": [],
   "source": []
  }
 ],
 "metadata": {
  "colab": {
   "name": "arboles_busqueda.ipynb",
   "provenance": []
  },
  "kernelspec": {
   "display_name": "Python 3",
   "language": "python",
   "name": "python3"
  },
  "language_info": {
   "codemirror_mode": {
    "name": "ipython",
    "version": 3
   },
   "file_extension": ".py",
   "mimetype": "text/x-python",
   "name": "python",
   "nbconvert_exporter": "python",
   "pygments_lexer": "ipython3",
   "version": "3.7.6"
  },
  "latex_envs": {
   "LaTeX_envs_menu_present": true,
   "autoclose": false,
   "autocomplete": true,
   "bibliofile": "biblio.bib",
   "cite_by": "apalike",
   "current_citInitial": 1,
   "eqLabelWithNumbers": true,
   "eqNumInitial": 1,
   "hotkeys": {
    "equation": "Ctrl-E",
    "itemize": "Ctrl-I"
   },
   "labels_anchors": false,
   "latex_user_defs": false,
   "report_style_numbering": false,
   "user_envs_cfg": false
  }
 },
 "nbformat": 4,
 "nbformat_minor": 1
}
