{
 "cells": [
  {
   "cell_type": "markdown",
   "metadata": {},
   "source": [
    "# Búsqueda en juegos competitivos\n",
    "\n",
    "Adaptado de Russell & Norvig (2016), cap. 5.\n",
    "\n",
    "### Problemas de confrontación\n",
    "\n",
    "En clase discutimos la propuesta de Alan Turing frente a la pregunta \"¿Pueden pensar las máquinas?\", según la cual debemos considerar que un computador piensa si logra ganar el *juego de la imitación*. El objetivo de fondo de este juego es que el computador debe demostrar un comportamiento que los humanos juzguamos como inteligente. \n",
    "\n",
    "Ahora bien, el juego de la imitiación puede reformularse de manera más sencilla y a la vez más convienientes para las máquinas, sobre todo aquellas que existían en la segunda mitad del siglo XX. Por ejemplo, un computador puede exhibir un comportamiento inteligente si tiene un buen desempeño en los juegos que los humanos juzgamos como desafiantes y que requieren (por lo menos una buena dosis) de inteligencia. Esta es una de las razones por las cuales el ajedrez computarizado fue tan relevante en los inicios de la IA. \n",
    "\n",
    "En este notebook veremos el problema de ganar un juego competitivo contra un humano como el desafío que debe superar una máquina y así, al hacerlo, exhibir una dosis de inteligencia.\n",
    "\n",
    "\n",
    "### Objetivo\n",
    "\n",
    "Estudiar algunas estrategias para la búsqueda de soluciones en juegos de dos jugadores. Estos escenarios son muy convenientes, toda vez que corresponden a entornos completamente observables, deterministas, discretos y conocidos. El desafío respecto al caso anterior es que ahora el entorno es dinámico, toda vez que este cambiará de acuerdo a las acciones del contrincante. \n",
    "\n",
    "### Secciones\n",
    "\n",
    "Desarrollaremos la explicación de la siguiente manera:\n",
    "\n",
    "1. Definición formal del problema de confrontación del triqui y su implementación en python.\n",
    "2. Algoritmo minmax para resolver el triqui y su implementación en python."
   ]
  },
  {
   "cell_type": "markdown",
   "metadata": {},
   "source": [
    "### Juegos competitivos\n",
    "\n",
    "La **definición formal** de un juego competitivo se hace con base en las siguientes características:\n",
    "\n",
    "* **Estado inicial:** Situación del entorno desde el cual comienza el juego. En el caso del triqui, el estado inicial es el tablero vacío.\n",
    "\n",
    "* **Jugador(s):** Define cuál jugador tiene el turno en el estado `s`, el cual puede ser `O` o `X`.\n",
    "\n",
    "* **Posibles acciones(s):** Descripción de las posibles acciones del Jugador(`s`), dado un estado `s`. En este caso, poner o bien una `O` o bien una `X` en una casilla vacía.\n",
    "\n",
    "* **Función de transiciones(s, a):** Descripción del entorno que resulta de la ejecución de la acción `a` por el `Jugador(s)` en el estado `s`. Junto con el estado inicial y las posibles acciones, la función de transiciones define el espacio de estados del juego.\n",
    "\n",
    "* **Prueba de objetivo(s):** Permite determinar si el juego se termina cuando se obtiene el estado `s`. \n",
    "\n",
    "* **Función de utilidad(s):** Definida sólo para aquellos estados `s` en los cuales el juego se termina. Esta función establece la utilidad en `s`. En nuestro caso del triqui, asumiremos que si el ganador es el jugador de las $O$, la utilidad es -1; si el ganador es el jugador de las $X$, la utilidad es 1; y en caso de empate la utilidad es 0."
   ]
  },
  {
   "cell_type": "markdown",
   "metadata": {},
   "source": [
    "**Implementación en python**\n",
    "\n",
    "Una posible implementación del juego del triqui en python es la siguiente."
   ]
  },
  {
   "cell_type": "code",
   "execution_count": 2,
   "metadata": {},
   "outputs": [],
   "source": [
    "import matplotlib.pyplot as plt\n",
    "import matplotlib.patches as patches\n",
    "from matplotlib.offsetbox import AnnotationBbox, OffsetImage\n",
    "import numpy as np\n",
    "from random import choice\n",
    "import copy\n",
    "\n",
    "%matplotlib inline"
   ]
  },
  {
   "cell_type": "code",
   "execution_count": 3,
   "metadata": {},
   "outputs": [],
   "source": [
    "class triqui:\n",
    "    \n",
    "    def estado_inicial(self):\n",
    "        return np.matrix([[0]*3]*3)\n",
    "    \n",
    "    def pintar_estado(self, estado):\n",
    "        # Dibuja el tablero correspondiente al estado\n",
    "        # Input: estado, que es una 3-lista de 3-listas\n",
    "        fig, axes = plt.subplots()\n",
    "\n",
    "        # Dibujo el tablero\n",
    "        step = 1./3\n",
    "        offset = 0.001\n",
    "        tangulos = []\n",
    "\n",
    "        # Borde del tablero\n",
    "        tangulos.append(patches.Rectangle((0,0),0.998,0.998,\\\n",
    "                                          facecolor='cornsilk',\\\n",
    "                                         edgecolor='black',\\\n",
    "                                         linewidth=2))\n",
    "\n",
    "        # Creo las líneas del tablero\n",
    "        for j in range(3):\n",
    "            locacion = j * step\n",
    "            # Crea linea horizontal en el rectangulo\n",
    "            tangulos.append(patches.Rectangle(*[(0, locacion), 1, 0.008],\\\n",
    "                    facecolor='black'))\n",
    "            # Crea linea vertical en el rectangulo\n",
    "            tangulos.append(patches.Rectangle(*[(locacion, 0), 0.008, 1],\\\n",
    "                    facecolor='black'))\n",
    "\n",
    "        for t in tangulos:\n",
    "            axes.add_patch(t)\n",
    "\n",
    "        # Cargando imagen de O\n",
    "        arr_img_O = plt.imread(\"./imagenes/O.png\", format='png')\n",
    "        image_O = OffsetImage(arr_img_O, zoom=0.14)\n",
    "        image_O.image.axes = axes\n",
    "\n",
    "        # Cargando imagen de X\n",
    "        arr_img_X = plt.imread(\"./imagenes/X.png\", format='png')\n",
    "        image_X = OffsetImage(arr_img_X, zoom=0.14)\n",
    "        image_X.image.axes = axes\n",
    "\n",
    "        offsetX = 0.15\n",
    "        offsetY = 0.15\n",
    "\n",
    "        # ASUMO QUE LAS O SE REPRESENTAN CON 1 EN LA MATRIZ\n",
    "        # Y QUE LAS X SE REPRESENTAN CON 2\n",
    "        for i in range(3):\n",
    "            for j in range(3):\n",
    "                if estado[j, i] == 1:\n",
    "                    # print(\"O en (\" + str(i) + \", \" + str(j) + \")\")\n",
    "                    Y = 2 - j\n",
    "                    X = i\n",
    "                    # print(\"(\" + str(X) + \", \" + str(Y) + \")\")\n",
    "                    ab = AnnotationBbox(\n",
    "                        image_O, \n",
    "                        [(X*step) + offsetX, (Y*step) + offsetY], \n",
    "                        frameon=False)\n",
    "                    axes.add_artist(ab)\n",
    "                if estado[j, i] == 2:\n",
    "                    # print(\"X en (\" + str(i) + \", \" + str(j) + \")\")\n",
    "                    Y = 2 - j\n",
    "                    X = i\n",
    "                    # print(\"(\" + str(X) + \", \" + str(Y) + \")\")\n",
    "                    ab = AnnotationBbox(\n",
    "                        image_X, \n",
    "                        [(X*step) + offsetX, (Y*step) + offsetY], \n",
    "                        frameon=False)\n",
    "                    axes.add_artist(ab)\n",
    "        \n",
    "        axes.axis('off')\n",
    "        return axes\n",
    "    \n",
    "    def jugador(self, estado):\n",
    "        # Devuelve el número del jugador a quien corresponde el turno\n",
    "        # 1 para las O\n",
    "        # 2 para las X\n",
    "        num_Os = np.count_nonzero(estado==1)\n",
    "        num_Xs = np.count_nonzero(estado==2)\n",
    "        # print(\"Cantidad O:\", num_Os, \" Cantidad X:\", num_Xs)\n",
    "        if num_Os < num_Xs:\n",
    "            return 1\n",
    "        else:\n",
    "            return 2\n",
    "    \n",
    "    def acciones_aplicables(self, estado):\n",
    "        # Devuelve una lista de parejas que representan las casillas vacías\n",
    "        # Input: estado, que es una np.matrix(3x3)\n",
    "        # Output: lista de índices (x,y)\n",
    "        pass\n",
    "\n",
    "    def transicion(self, estado, indice):\n",
    "        # Devuelve el tablero incluyendo una O o X en el indice,\n",
    "        # dependiendo del jugador que tiene el turno\n",
    "        # Input: estado, que es una np.matrix(3x3)\n",
    "        #        indice, de la forma (x,y)\n",
    "        # Output: estado, que es una np.matrix(3x3)\n",
    "        pass\n",
    "    \n",
    "    def test_objetivo(self, estado):\n",
    "        # Devuelve True/False dependiendo si el juego se acabó\n",
    "        # Input: estado, que es una np.matrix(3x3)\n",
    "        # Output: True/False\n",
    "        # print(\"Determinando si no hay casillas vacías...\")\n",
    "        pass\n",
    "\n",
    "    def utilidad(self, estado):\n",
    "        # Devuelve la utilidad del estado donde termina el juego\n",
    "        # Input: estado, que es una np.matrix(3x3)\n",
    "        # Output: utilidad, que es un valor -1, 0, 1\n",
    "        pass"
   ]
  },
  {
   "cell_type": "markdown",
   "metadata": {},
   "source": [
    "**Ejercicio 1:** \n",
    "\n",
    "Implemente los métodos `acciones_aplicables`, `transicion`, `test_objetivo`, y `utilidad` para la clase `triqui`. Compruebe el funcionamiento de su implementación corriendo la siguiente celda:"
   ]
  },
  {
   "cell_type": "code",
   "execution_count": null,
   "metadata": {},
   "outputs": [],
   "source": []
  },
  {
   "cell_type": "code",
   "execution_count": null,
   "metadata": {},
   "outputs": [],
   "source": [
    "T = triqui()\n",
    "s = T.estado_inicial()\n",
    "a = choice(T.acciones_aplicables(s))\n",
    "print(\"Este es el tablero con una X en\", a)\n",
    "s1 = T.transicion(s, a)\n",
    "T.pintar_estado(s1)\n",
    "print(\"Juego terminado?:\", T.test_objetivo(s1)) # Debe ser None\n",
    "print(\"Utilidad:\", T.utilidad(s1)) # Debe ser None"
   ]
  },
  {
   "cell_type": "markdown",
   "metadata": {},
   "source": [
    "---"
   ]
  },
  {
   "cell_type": "markdown",
   "metadata": {},
   "source": [
    "### Árbol de confrontación\n",
    "\n",
    "Debemos ahora definir un programa para el agente que juega triqui. Este programa debe consistir, de manera general, en una función que percibe un tablero de triqui y devuelve una acción. Más concretamente, el agente recibe un estado `s` y devuelve un índice `(x,y)`, el el cual ha de ponerse el símbolo correspondiente (o bien $O$ o bien $X$). \n",
    "\n",
    "El algoritmo que utilizaremos para definir el programa se llama *minmax*. Este nombre es muy acertado. Evoca a la vez la confrontación entre los jugadores así como la manera como se representa dicha confrontación. Esto es, un jugador buscará el mínimo y el otro el máximo de la utilidad. Esta es la razón por la cual se definió la función de utilidad de tal manera que un estado en el que gane el jugador de las $O$ vale -1 y uno en que gane el jugador de las $X$ vale 1. El primero será el jugador `min` y el segundo el `max`.\n",
    "\n",
    "Dado un estado `s`, se define un árbol de confrontación para `s` de la siguiente manera. Se consideran todas las acciones aplicables de `Jugador(s)`, y para cada una de ellas se encuentra el correspondiente estado `s`$_i$. Luego, para cada uno de estos, se consideran todas las acciones aplicables de `Jugador(s`$_i$`)` y se encuentran los correspondientes estados. Así hasta llegar a los estados en los cuales el juego se termina.\n",
    "\n",
    "Ahora debemos considerar cómo se obtienen los valores minmax a partir de la utilidad asignada a los estados en los cuales el juego se termina. También debemos entender cómo funciona la toma de decisiones una vez construido el árbol con los respectivos valores minmax en cada nodo. Explicaremos primero esto último, con base en el siguiente ejemplo:\n",
    "\n",
    "<img src=\"imagenes/ejemplo-minmax.png\" width=\"550px\">\n",
    "\n",
    "Supongamos dado el árbol de confrontación anterior, construido a partir del estado que se encuentra en la raíz. Este árbol se construye para decidir qué acción tomar cuando el turno le corresponde a `max`, es decir, el jugador de las $X$. Este debe seleccionar la opción que le reporte el máximo de los valores minmax de sus hijos. En este caso, debe seleccionar la única opción con valor 0. Observe que, si seleccionara cualquier otra opción (las cuales tienen valor $-1$), entonces `min` ganaría (esto es, suponiendo que `min` juega de la mejor manera posible).\n",
    "\n",
    "Volviendo a la explicación, `max` selecciona la opción de más a la derecha, en la que bloquea el triqui de $O$. Consideremos ahora el juego desde el punto de vista de $O$. En este turno el jugador $O$ debe seleccionar la opción con menor valor minmax, en este caso, la opción con valor 0. Si fuera a seleccionar la opción con valor 1, entonces las $X$ ganarían."
   ]
  },
  {
   "cell_type": "markdown",
   "metadata": {},
   "source": [
    "### Algoritmo minmax\n",
    "\n",
    "El siguiente es el pseudo código del algoritmo de decisión minmax, el cual genera, mediante una metodología deep-first, el árbol de confrontación para un estado dado `s` en el cual le corresponde el turno a `max`:\n",
    "\n",
    "<img src=\"imagenes/busqueda-minmax.png\" width=\"400px\">"
   ]
  },
  {
   "cell_type": "markdown",
   "metadata": {},
   "source": [
    "**Ejercicio 2:**\n",
    "\n",
    "Implemente la función `minimax_decision`."
   ]
  },
  {
   "cell_type": "code",
   "execution_count": 1,
   "metadata": {},
   "outputs": [],
   "source": [
    "# AQUI CODIGO"
   ]
  },
  {
   "cell_type": "markdown",
   "metadata": {},
   "source": [
    "Compruebe su código con los siguientes tableros:"
   ]
  },
  {
   "cell_type": "code",
   "execution_count": null,
   "metadata": {},
   "outputs": [],
   "source": [
    "# Primer tablero de prueba\n",
    "s1 = T.transicion(s, (1,1))\n",
    "s1 = T.transicion(s1, (0,1))\n",
    "s1 = T.transicion(s1, (2,1))\n",
    "s1 = T.transicion(s1, (2,2))\n",
    "s1 = T.transicion(s1, (1,0))\n",
    "s1 = T.transicion(s1, (2,0))\n",
    "T.pintar_estado(s1)\n",
    "print(\"Computador juega en:\", minimax_decision(T, s1)) # Debe ser (1, 2)"
   ]
  },
  {
   "cell_type": "code",
   "execution_count": null,
   "metadata": {},
   "outputs": [],
   "source": [
    "# Segundo tablero de prueba\n",
    "s1 = T.transicion(s, (2,1))\n",
    "s1 = T.transicion(s1, (0,1))\n",
    "s1 = T.transicion(s1, (1,2))\n",
    "s1 = T.transicion(s1, (1,0))\n",
    "s1 = T.transicion(s1, (1,1))\n",
    "s1 = T.transicion(s1, (0,2))\n",
    "T.pintar_estado(s1)\n",
    "print(\"Computador juega en:\", minimax_decision(T, s1)) # Debe ser (0, 0)"
   ]
  },
  {
   "cell_type": "code",
   "execution_count": null,
   "metadata": {},
   "outputs": [],
   "source": [
    "# Tercer tablero de prueba\n",
    "s1 = T.transicion(s, (1,1))\n",
    "s1 = T.transicion(s1, (0,1))\n",
    "s1 = T.transicion(s1, (0,0))\n",
    "s1 = T.transicion(s1, (2,2))\n",
    "T.pintar_estado(s1)\n",
    "print(\"Computador juega en:\", minimax_decision(T, s1)) # Debe ser (1, 0) o (2, 0)"
   ]
  },
  {
   "cell_type": "markdown",
   "metadata": {},
   "source": [
    "---"
   ]
  },
  {
   "cell_type": "markdown",
   "metadata": {},
   "source": [
    "**Ejercicio 3:**\n",
    "\n",
    "Adapte el código de `minimax_decision` para que pueda tomar una decisión cuando le corresponda el turno a cualquiera de los dos jugadores."
   ]
  },
  {
   "cell_type": "code",
   "execution_count": 32,
   "metadata": {},
   "outputs": [],
   "source": [
    "# AQUI CODIGO"
   ]
  },
  {
   "cell_type": "markdown",
   "metadata": {},
   "source": [
    "Verifique su implementación con los siguientes tableros:"
   ]
  },
  {
   "cell_type": "code",
   "execution_count": null,
   "metadata": {},
   "outputs": [],
   "source": [
    "# Cuarto tablero de prueba\n",
    "s1 = T.transicion(s, (2,1))\n",
    "s1 = T.transicion(s1, (1,1))\n",
    "s1 = T.transicion(s1, (1,2))\n",
    "s1 = T.transicion(s1, (0,2))\n",
    "s1 = T.transicion(s1, (0,0))\n",
    "T.pintar_estado(s1)\n",
    "print(\"Computador juega en:\", minimax_decision(T, s1)) # Debe ser (2, 0)"
   ]
  },
  {
   "cell_type": "code",
   "execution_count": null,
   "metadata": {},
   "outputs": [],
   "source": [
    "# Quinto tablero de prueba\n",
    "s1 = T.transicion(s, (1,1))\n",
    "s1 = T.transicion(s1, (0,0))\n",
    "s1 = T.transicion(s1, (2,2))\n",
    "T.pintar_estado(s1)\n",
    "print(\"Computador juega en:\", minimax_decision(T, s1)) # Debe ser (0, 2)"
   ]
  },
  {
   "cell_type": "code",
   "execution_count": null,
   "metadata": {},
   "outputs": [],
   "source": [
    "# Sexto tablero de prueba\n",
    "s1 = T.transicion(s, (2,0))\n",
    "s1 = T.transicion(s1, (1,1))\n",
    "s1 = T.transicion(s1, (2,2))\n",
    "s1 = T.transicion(s1, (2,1))\n",
    "s1 = T.transicion(s1, (0,1))\n",
    "s1 = T.transicion(s1, (0,0))\n",
    "s1 = T.transicion(s1, (0,2))\n",
    "T.pintar_estado(s1)\n",
    "print(\"Computador juega en:\", minimax_decision(T, s1)) # Debe ser (1, 2)"
   ]
  },
  {
   "cell_type": "markdown",
   "metadata": {},
   "source": [
    "---"
   ]
  },
  {
   "cell_type": "markdown",
   "metadata": {},
   "source": [
    "**Ejercicio 4:**\n",
    "\n",
    "Leer la sección 5.3 del libro de texto en la cual se explica el algoritmo alpha-beta pruning."
   ]
  },
  {
   "cell_type": "markdown",
   "metadata": {},
   "source": [
    "---"
   ]
  },
  {
   "cell_type": "markdown",
   "metadata": {},
   "source": [
    "**Ejercicio 5:**\n",
    "\n",
    "Leer la sección 5.4 del libro de texto en la cual se explican las técnicas de decisión imperfecta basadas en funciones de evaluación, cutting off y forward pruning."
   ]
  },
  {
   "cell_type": "markdown",
   "metadata": {},
   "source": [
    "---"
   ]
  }
 ],
 "metadata": {
  "kernelspec": {
   "display_name": "Python 3",
   "language": "python",
   "name": "python3"
  },
  "language_info": {
   "codemirror_mode": {
    "name": "ipython",
    "version": 3
   },
   "file_extension": ".py",
   "mimetype": "text/x-python",
   "name": "python",
   "nbconvert_exporter": "python",
   "pygments_lexer": "ipython3",
   "version": "3.7.6"
  },
  "latex_envs": {
   "LaTeX_envs_menu_present": true,
   "autoclose": false,
   "autocomplete": true,
   "bibliofile": "biblio.bib",
   "cite_by": "apalike",
   "current_citInitial": 1,
   "eqLabelWithNumbers": true,
   "eqNumInitial": 1,
   "hotkeys": {
    "equation": "Ctrl-E",
    "itemize": "Ctrl-I"
   },
   "labels_anchors": false,
   "latex_user_defs": false,
   "report_style_numbering": false,
   "user_envs_cfg": false
  }
 },
 "nbformat": 4,
 "nbformat_minor": 4
}
