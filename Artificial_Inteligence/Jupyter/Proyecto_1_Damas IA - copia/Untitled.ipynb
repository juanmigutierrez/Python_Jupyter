{
 "cells": [
  {
   "cell_type": "code",
   "execution_count": 1,
   "metadata": {},
   "outputs": [
    {
     "name": "stdout",
     "output_type": "stream",
     "text": [
      "loading image to medium\n",
      "loading image to medium\n",
      "loading image to medium\n",
      "loading image to medium\n",
      "loading image to medium\n",
      "loading image to medium\n",
      "loading image to medium\n",
      "loading image to medium\n",
      "\n",
      "\n",
      "Image Storage Information from Medium\n",
      "-------------------------------------\n",
      "\n",
      "[\n",
      "    {\n",
      "        \"data\": {\n",
      "            \"url\": \"https://cdn-images-1.medium.com/proxy/1*joonZQPb6KPo12aML522SQ.png\",\n",
      "            \"md5\": \"joonZQPb6KPo12aML522SQ\"\n",
      "        }\n",
      "    },\n",
      "    {\n",
      "        \"data\": {\n",
      "            \"url\": \"https://cdn-images-1.medium.com/proxy/1*KIWxvsSdQt_knZE0mmNHig.png\",\n",
      "            \"md5\": \"KIWxvsSdQt_knZE0mmNHig\"\n",
      "        }\n",
      "    },\n",
      "    {\n",
      "        \"data\": {\n",
      "            \"url\": \"https://cdn-images-1.medium.com/proxy/1*Bj2D9Fszvs_hoK_7P46x_w.png\",\n",
      "            \"md5\": \"Bj2D9Fszvs_hoK_7P46x_w\"\n",
      "        }\n",
      "    },\n",
      "    {\n",
      "        \"data\": {\n",
      "            \"url\": \"https://cdn-images-1.medium.com/proxy/1*joonZQPb6KPo12aML522SQ.png\",\n",
      "            \"md5\": \"joonZQPb6KPo12aML522SQ\"\n",
      "        }\n",
      "    },\n",
      "    {\n",
      "        \"data\": {\n",
      "            \"url\": \"https://cdn-images-1.medium.com/proxy/1*rN_xhVoqp3e7GHyyti3XAg.png\",\n",
      "            \"md5\": \"rN_xhVoqp3e7GHyyti3XAg\"\n",
      "        }\n",
      "    },\n",
      "    {\n",
      "        \"data\": {\n",
      "            \"url\": \"https://cdn-images-1.medium.com/proxy/1*HT8BuiHEjelMYnmzQJzNrw.png\",\n",
      "            \"md5\": \"HT8BuiHEjelMYnmzQJzNrw\"\n",
      "        }\n",
      "    },\n",
      "    {\n",
      "        \"data\": {\n",
      "            \"url\": \"https://cdn-images-1.medium.com/proxy/1*2n0quyMJCzxiAGm68IT7DQ.png\",\n",
      "            \"md5\": \"2n0quyMJCzxiAGm68IT7DQ\"\n",
      "        }\n",
      "    },\n",
      "    {\n",
      "        \"data\": {\n",
      "            \"url\": \"https://cdn-images-1.medium.com/proxy/1*2n0quyMJCzxiAGm68IT7DQ.png\",\n",
      "            \"md5\": \"2n0quyMJCzxiAGm68IT7DQ\"\n",
      "        }\n",
      "    }\n",
      "]\n",
      "\n",
      "\n",
      "\n",
      "Successfully posted to Medium!!!\n",
      "--------------------------------\n",
      "id                  48fde7adcf91\n",
      "title               Mini_Damas\n",
      "authorId            1de29df8344816bca1d21a1f927a10d0ae5fff9defd50a3d3f04ba97cef7f94d1\n",
      "url                 https://medium.com/@juanmi.gutierrez/48fde7adcf91\n",
      "canonicalUrl        \n",
      "publishStatus       draft\n",
      "license             all-rights-reserved\n",
      "licenseUrl          https://policy.medium.com/medium-terms-of-service-9db0094a1e0f\n",
      "tags                []\n"
     ]
    },
    {
     "data": {
      "text/plain": [
       "{'data': {'id': '48fde7adcf91',\n",
       "  'title': 'Mini_Damas',\n",
       "  'authorId': '1de29df8344816bca1d21a1f927a10d0ae5fff9defd50a3d3f04ba97cef7f94d1',\n",
       "  'url': 'https://medium.com/@juanmi.gutierrez/48fde7adcf91',\n",
       "  'canonicalUrl': '',\n",
       "  'publishStatus': 'draft',\n",
       "  'license': 'all-rights-reserved',\n",
       "  'licenseUrl': 'https://policy.medium.com/medium-terms-of-service-9db0094a1e0f',\n",
       "  'tags': []}}"
      ]
     },
     "execution_count": 1,
     "metadata": {},
     "output_type": "execute_result"
    }
   ],
   "source": [
    "import jupyter_to_medium as jtm\n",
    "jtm.publish('Mini_Damas.ipynb',\n",
    "            integration_token=None,\n",
    "            pub_name=None,\n",
    "            title=None,\n",
    "            tags=None,\n",
    "            publish_status='draft',\n",
    "            notify_followers=False,\n",
    "            license='all-rights-reserved',\n",
    "            canonical_url=None,\n",
    "            chrome_path=None,\n",
    "            save_markdown=False,\n",
    "            table_conversion='chrome'\n",
    "            )"
   ]
  },
  {
   "cell_type": "code",
   "execution_count": null,
   "metadata": {},
   "outputs": [],
   "source": []
  }
 ],
 "metadata": {
  "kernelspec": {
   "display_name": "Python 3",
   "language": "python",
   "name": "python3"
  },
  "language_info": {
   "codemirror_mode": {
    "name": "ipython",
    "version": 3
   },
   "file_extension": ".py",
   "mimetype": "text/x-python",
   "name": "python",
   "nbconvert_exporter": "python",
   "pygments_lexer": "ipython3",
   "version": "3.8.2"
  },
  "latex_envs": {
   "LaTeX_envs_menu_present": true,
   "autoclose": false,
   "autocomplete": true,
   "bibliofile": "biblio.bib",
   "cite_by": "apalike",
   "current_citInitial": 1,
   "eqLabelWithNumbers": true,
   "eqNumInitial": 1,
   "hotkeys": {
    "equation": "Ctrl-E",
    "itemize": "Ctrl-I"
   },
   "labels_anchors": false,
   "latex_user_defs": false,
   "report_style_numbering": false,
   "user_envs_cfg": false
  }
 },
 "nbformat": 4,
 "nbformat_minor": 4
}
