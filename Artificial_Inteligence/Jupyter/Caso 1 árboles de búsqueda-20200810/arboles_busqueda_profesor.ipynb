{
 "cells": [
  {
   "cell_type": "markdown",
   "metadata": {
    "colab_type": "text",
    "id": "TpmFfXsQ0dYI"
   },
   "source": [
    "## Búsqueda en espacio de estados\n",
    "\n",
    "Adaptado de Russell & Norvig (2016), cap. 3."
   ]
  },
  {
   "cell_type": "markdown",
   "metadata": {
    "colab_type": "text",
    "id": "V3SkDSWJ0dYJ"
   },
   "source": [
    "### Objetivo\n",
    "\n",
    "El estudio de búsqueda de soluciones para problemas abstractos es uno de los temas originales en la historia de la inteligencia artificial. Existen varios métodos para la búsqueda de soluciones, pero aquí nos enfocaremos en la creación de un árbol de estados y estudiaremos algunas estrategias para la búsqueda de una solución en este espacio."
   ]
  },
  {
   "cell_type": "markdown",
   "metadata": {
    "colab_type": "text",
    "id": "5HnQ_gA70dYL"
   },
   "source": [
    "### Secciones\n",
    "\n",
    "Desarrollaremos la explicación de la siguiente manera:\n",
    "\n",
    "1. Presentación de un problema de ejemplo.\n",
    "* Implementación del problema en Python.\n",
    "* Definición de árboles de búsqueda y su implementación en Python.\n",
    "* Estrategias de búsqueda y su implementación en Python."
   ]
  },
  {
   "cell_type": "markdown",
   "metadata": {
    "colab_type": "text",
    "id": "S4x5lJfd0dYM"
   },
   "source": [
    "### Problema de ejemplo\n",
    "\n",
    "El siguiente problema se conoce como las *ocho reinas*, el cual consiste en poner ocho reinas en un tablero de ajerdez de tal manera que ninguna pueda atacar a las demás. \n",
    "\n",
    "En el siguiente tablero hay siete reinas. ¿Es esta una situación admisible? ¿Cuál puede ser una solución al problema?\n",
    "\n",
    "<img src=\"./imagenes/ocho_reinas.png\" width=\"230\">"
   ]
  },
  {
   "cell_type": "markdown",
   "metadata": {
    "colab_type": "text",
    "id": "4601LZmB0dYN"
   },
   "source": [
    "¿Cómo definimos el *entorno*? Este puede representarse como una colección de estados, donde cada uno de ellos representa el tablero con cero o más reinas. Por su parte, las acciones del agente consisten en poner una reina en una casilla vacía del tablero (aunque no todas las acciones serán *aplicables* dado un estado del tablero)."
   ]
  },
  {
   "cell_type": "markdown",
   "metadata": {
    "colab_type": "text",
    "id": "P60dU8Mg0dYO"
   },
   "source": [
    "**Ejercicio 1:**\n",
    "\n",
    "De acuerdo con la formulación de entornos hecha durante la clase, ¿cuáles características considera usted que  tiene el *entorno* en este problema?\n",
    "\n",
    "| Opción 1 | Opción 2 |\n",
    "| :---: | :---: |\n",
    "| $\\checkmark$ Completamente observable | Parcialmente observable|\n",
    "| $\\checkmark$ Agente único | Multiagente |\n",
    "| $\\checkmark$ Determinista | Estocástico |\n",
    "| Episódico    | $\\checkmark$ secuencial  |\n",
    "| $\\checkmark$ Estático     | dinámico    |\n",
    "| $\\checkmark$ Discreto     | continuo    |\n",
    "| $\\checkmark$ Conocido     | desconocido |"
   ]
  },
  {
   "cell_type": "markdown",
   "metadata": {},
   "source": [
    "----"
   ]
  },
  {
   "cell_type": "markdown",
   "metadata": {
    "colab_type": "text",
    "id": "vL49lY0r0dYP"
   },
   "source": [
    "La **definición formal** del problema se hace con base en la definición de las siguientes características:\n",
    "\n",
    "* **Estado inicial**: Situación del entorno desde la cual el agente comienza a resolver el problema. En nuestro ejemplo, el estado inicial es el tablero vacío.\n",
    "\n",
    "* **Posibles acciones**: Descripción de las posibles acciones del agente en el entorno, dado un estado `s`. Estas acciones se llaman las *acciones aplicables* en `s`. En nuestro problema, dado un estado con $k$ reinas ($k<8$), las acciones aplicables son poner una reina en una de las casillas vacías que no es atacada por ninguna de las otras reinas.\n",
    "\n",
    "* **Función de transiciones**: Descripción del entorno que resulta de la ejecución de una de las acciones del agente. Junto con el estado inicial y las posibles acciones, la función de transiciones define el *espacio de estados* del problema. En nuestro ejemplo, la función toma un tablero con $k$ reinas ($k<8$) y devuelve un tablero con $k+1$ reinas.\n",
    "\n",
    "* **Prueba de satisfacción del objetivo**: Es una prueba que permite determinar si un estado es un *estado objetivo* en el cual se resuelve el problema. Esta prueba puede contener una colección de estados objetivo (para chequear si el estado es uno de ellos) o puede estar dada en términos de una condición explícita que debe cumplir un estado. En nuestro ejemplo, la prueba debe verificar la condición de si un tablero dado contiene ocho reinas en el cual niguna puede atacar a la otra.\n",
    "\n",
    "* **Función de costo**: Determina el costo numérico asociado a cada camino entre estados. En nuestro ejemplo, dicha función no es esencial, pero consideraremos que cada acción tiene el mismo costo, de tal manera que la función de costo es la cantidad de acciones realizadas (siempre devolverá el valor de 8 en cualquier solución). "
   ]
  },
  {
   "cell_type": "markdown",
   "metadata": {
    "colab_type": "text",
    "id": "ESao4G9n0dYP"
   },
   "source": [
    "\n",
    "**Implementación del problema**\n",
    "\n",
    "Implementaremos el problema de las ocho reinas mediante una clase en Python."
   ]
  },
  {
   "cell_type": "code",
   "execution_count": 1,
   "metadata": {
    "colab": {},
    "colab_type": "code",
    "id": "73kSrhUo0dYQ"
   },
   "outputs": [],
   "source": [
    "import matplotlib.pyplot as plt\n",
    "import matplotlib.patches as patches\n",
    "from matplotlib.offsetbox import AnnotationBbox, OffsetImage\n",
    "import numpy as np\n",
    "from random import choice\n",
    "import copy\n",
    "\n",
    "%matplotlib inline"
   ]
  },
  {
   "cell_type": "code",
   "execution_count": 2,
   "metadata": {
    "colab": {},
    "colab_type": "code",
    "id": "p9AyvGbc0dYV"
   },
   "outputs": [],
   "source": [
    "class ocho_reinas:\n",
    "    \n",
    "    def estado_inicial(self):\n",
    "        return np.matrix([[0]*8]*8)\n",
    "    \n",
    "    def pintar_estado(self, estado):\n",
    "        # Dibuja el tablero correspondiente al estado\n",
    "        # Input: estado, que es una 8-lista de 8-listas\n",
    "        fig, axes = plt.subplots()\n",
    "\n",
    "        # Dibujo el tablero\n",
    "        step = 1./8\n",
    "        offset = 0.001\n",
    "        tangulos = []\n",
    "\n",
    "        # Borde del tablero\n",
    "        tangulos.append(patches.Rectangle((0,0),0.998,0.998,\\\n",
    "                                          facecolor='cornsilk',\\\n",
    "                                         edgecolor='black',\\\n",
    "                                         linewidth=2))\n",
    "\n",
    "        # Creo los cuadrados oscuros en el tablero\n",
    "        for i in range(4):\n",
    "            for j in range(4):\n",
    "                tangulos.append(\n",
    "                    patches.Rectangle(\n",
    "                                      (2 * i * step, 2 * j * step), \\\n",
    "                                       step - offset, \\\n",
    "                                       step,\\\n",
    "                                       facecolor='lightslategrey')\\\n",
    "                                       )\n",
    "                tangulos.append(\n",
    "                    patches.Rectangle(\n",
    "                                      (step + 2 * i * step, (2 * j + 1) * step), \\\n",
    "                                       step - offset, \\\n",
    "                                       step,\\\n",
    "                                       facecolor='lightslategrey')\\\n",
    "                                       )\n",
    "\n",
    "        # Creo las líneas del tablero\n",
    "        for j in range(8):\n",
    "            locacion = j * step\n",
    "            # Crea linea horizontal en el rectangulo\n",
    "            tangulos.append(patches.Rectangle(*[(0, locacion), 1, 0.008],\\\n",
    "                    facecolor='black'))\n",
    "            # Crea linea vertical en el rectangulo\n",
    "            tangulos.append(patches.Rectangle(*[(locacion, 0), 0.008, 1],\\\n",
    "                    facecolor='black'))\n",
    "\n",
    "        for t in tangulos:\n",
    "            axes.add_patch(t)\n",
    "\n",
    "        # Cargando imagen de la reina\n",
    "        arr_img = plt.imread(\"./imagenes/reina.png\", format='png')\n",
    "        imagebox = OffsetImage(arr_img, zoom=0.048)\n",
    "        imagebox.image.axes = axes\n",
    "    \n",
    "        offsetX = 0.065\n",
    "        offsetY = 0.065\n",
    "        for i in range(8):\n",
    "            for j in range(8):\n",
    "                if estado[j, i] == 1:\n",
    "                    # print(\"Reina en (\" + str(i) + \", \" + str(j) + \")\")\n",
    "                    Y = 7 - j\n",
    "                    X = i\n",
    "                    # print(\"(\" + str(X) + \", \" + str(Y) + \")\")\n",
    "                    ab = AnnotationBbox(\n",
    "                        imagebox, \n",
    "                        [(X*step) + offsetX, (Y*step) + offsetY], \n",
    "                        frameon=False)\n",
    "                    axes.add_artist(ab)\n",
    "        \n",
    "        axes.axis('off')\n",
    "        return axes\n",
    "    \n",
    "    def acciones_aplicables(self, estado):\n",
    "        # Devuelve una lista de parejas que representan\n",
    "        # las casillas vacías en las que es permitido\n",
    "        # poner una reina adicional\n",
    "        # Input: estado, que es una np.matrix(8x8)\n",
    "        # Output: lista de indices (x,y)\n",
    "        indices = [(x, y) for x in range(8) for y in range(8)]\n",
    "        indices_bloqueados = []\n",
    "        # Chequeamos primero que haya menos de ocho reinas\n",
    "        if estado.sum() >= 8:\n",
    "            return []\n",
    "        else:\n",
    "            # Bloqueamos índices por cada reina encontrada\n",
    "            for x in range(8):\n",
    "                for y in range(8):\n",
    "                    if estado[y, x]==1:\n",
    "                        #print(\"Reina encontrada en\", x, y)\n",
    "                        # Encuentra una reina\n",
    "                        # Elimina la fila\n",
    "                        #print(\"Bloqueando filas...\")\n",
    "                        indices_bloqueados += [(i, y) for i in range(8)]\n",
    "                        # Elimina la columna\n",
    "                        #print(\"Bloqueando columnas...\")\n",
    "                        indices_bloqueados += [(x, i) for i in range(8)]\n",
    "                        # Elimina las diagonales \\\n",
    "                        # print(\"\\nBloqueando diagonales...\")\n",
    "                        dif = np.abs(x-y)\n",
    "                        offset_x = 0\n",
    "                        offset_y = 0\n",
    "                        for i in range(1, 8 - dif):\n",
    "                            if (y + i) == 8:\n",
    "                                offset_x = - (x + i)\n",
    "                                offset_y = dif\n",
    "                            if (x + i) == 8:\n",
    "                                offset_x = dif\n",
    "                                offset_y = - (y + i)\n",
    "                            xB = (x + i + offset_x) % 8\n",
    "                            yB = (y + i + offset_y) % 8\n",
    "                            # print(\"(\" + str(xB) + \", \" + str(yB) + \")\", end=\"\")\n",
    "                            indices_bloqueados.append((xB, yB))\n",
    "                        # Elimina las transversales /\n",
    "                        # print(\"\\nBloqueando transversales...\")\n",
    "                        dif1 = np.abs((7-x)-y)\n",
    "                        # print(\"\\n Dif\", dif1)\n",
    "                        offset_x = 0\n",
    "                        offset_y = 0\n",
    "                        for i in range(1, 8 - dif1):\n",
    "                            xB = (x + i + offset_x) % 8\n",
    "                            yB = (y - i + offset_y) % 8\n",
    "                            # print(\"(\" + str(xB) + \", \" + str(yB) + \")\", end=\"\")\n",
    "                            indices_bloqueados.append((xB, yB))\n",
    "                            if yB == 0:\n",
    "                                offset_x = - (x + i + 1)\n",
    "                                offset_y = x + i + 1\n",
    "                            if xB == 7:\n",
    "                                offset_x = y - (i + 1) - 7\n",
    "                                offset_y = 8 - (y - i)\n",
    "\n",
    "            return list(set(indices) - set(indices_bloqueados))\n",
    "\n",
    "    def transicion(self, estado, indices):\n",
    "        # Devuelve el tablero incluyendo una reina en el indice\n",
    "        # Input: estado, que es una np.matrix(8x8)\n",
    "        #        indice, de la forma (x,y)\n",
    "        # Output: estado, que es una np.matrix(8x8)\n",
    "        \n",
    "        s = copy.deepcopy(estado)\n",
    "        x = indices[0]\n",
    "        y = indices[1]\n",
    "        s[y, x] = 1\n",
    "        return s\n",
    "    \n",
    "    def test_objetivo(self, estado):\n",
    "        # Devuelve True/False dependiendo si el estado\n",
    "        # resuelve el problema\n",
    "        # Input: estado, que es una np.matrix(8x8)\n",
    "        # Output: True/False\n",
    "        # print(\"Determinando si hay exactamente ocho reinas...\")\n",
    "        num_reinas = estado.sum()\n",
    "        if num_reinas != 8:\n",
    "            # print(\"Numero incorrecto de reinas!\")\n",
    "            return False\n",
    "        else:\n",
    "            # print(\"Determinando si las reinas no se atacan...\")\n",
    "            # print(\"Buscando reina por fila...\")\n",
    "            filas = [i[0] for i in estado.sum(axis=1).tolist()]\n",
    "            if any(i>1 for i in filas):\n",
    "                # print(\"Dos reinas en la misma fila!\")\n",
    "                return False\n",
    "            else:\n",
    "                # print(\"Buscando reina por columna...\")\n",
    "                columnas = estado.sum(axis=0).tolist()[0]\n",
    "                if any(j>1 for j in columnas):\n",
    "                    # print(\"Dos reinas en la misma columna!\")\n",
    "                    return False\n",
    "                else:\n",
    "                    for x in range(8):\n",
    "                        for y in range(8):\n",
    "                            if estado[y, x]==1:\n",
    "                                # print(\"Reina encontrada en (\" + str(x) + \", \" + str(y) + \")\")\n",
    "                                # print(\"Buscando otra reina en la misma diagonal...\")\n",
    "                                dif = np.abs(x-y)\n",
    "                                offset_x = 0\n",
    "                                offset_y = 0\n",
    "                                for i in range(1, 8 - dif):\n",
    "                                    if (y + i) == 8:\n",
    "                                        offset_x = - (x + i)\n",
    "                                        offset_y = dif\n",
    "                                    if (x + i) == 8:\n",
    "                                        offset_x = dif\n",
    "                                        offset_y = - (y + i)\n",
    "                                    xB = (x + i + offset_x) % 8\n",
    "                                    yB = (y + i + offset_y) % 8\n",
    "                                    if estado[yB, xB] == 1:\n",
    "                                        #print(\"Dos reinas en la misma diagonal!\")\n",
    "                                        return False\n",
    "            \n",
    "                                # print(\"Buscando otra reina en la misma transversal...\")\n",
    "                                dif1 = np.abs((7-x)-y)\n",
    "                                # print(\"\\n Dif\", dif1)\n",
    "                                offset_x = 0\n",
    "                                offset_y = 0\n",
    "                                for i in range(1, 8 - dif1):\n",
    "                                    xB = (x + i + offset_x) % 8\n",
    "                                    yB = (y - i + offset_y) % 8\n",
    "                                    # print(\"(\" + str(xB) + \", \" + str(yB) + \")\", end=\"\")\n",
    "                                    if estado[yB, xB]==1:\n",
    "                                        # print(\"Dos reinas en la misma transversal!\")\n",
    "                                        return False\n",
    "                                    if yB == 0:\n",
    "                                        offset_x = - (x + i + 1)\n",
    "                                        offset_y = x + i + 1\n",
    "                                    if xB == 7:\n",
    "                                        offset_x = y - (i + 1) - 7\n",
    "                                        offset_y = 8 - (y - i)\n",
    "                                        \n",
    "        return True \n",
    "    \n",
    "    def costo(self, estado, accion):\n",
    "        return 1"
   ]
  },
  {
   "cell_type": "code",
   "execution_count": 9,
   "metadata": {
    "colab": {},
    "colab_type": "code",
    "id": "ZzcB3xN70dYZ",
    "outputId": "3d01fdf5-3ee2-42ce-ef97-21232a3d47f0"
   },
   "outputs": [
    {
     "name": "stdout",
     "output_type": "stream",
     "text": [
      "Este es el estado inicial:\n",
      "Problema solucionado? False\n"
     ]
    },
    {
     "data": {
      "image/png": "[encoded data removed]",
      "text/plain": [
       "<Figure size 432x288 with 1 Axes>"
      ]
     },
     "metadata": {
      "needs_background": "light"
     },
     "output_type": "display_data"
    }
   ],
   "source": [
    "problema = ocho_reinas()\n",
    "s = problema.estado_inicial()\n",
    "print(\"Este es el estado inicial:\")\n",
    "problema.pintar_estado(s)\n",
    "print(\"Problema solucionado?\", problema.test_objetivo(s))"
   ]
  },
  {
   "cell_type": "code",
   "execution_count": 18,
   "metadata": {},
   "outputs": [
    {
     "data": {
      "text/plain": [
       "False"
      ]
     },
     "execution_count": 18,
     "metadata": {},
     "output_type": "execute_result"
    },
    {
     "data": {
      "image/png": "[encoded data removed]",
      "text/plain": [
       "<Figure size 432x288 with 1 Axes>"
      ]
     },
     "metadata": {
      "needs_background": "light"
     },
     "output_type": "display_data"
    }
   ],
   "source": [
    "s1 = problema.transicion(s,problema.acciones_aplicables(s)[0]) #Elige la primera opcion de poner una reina en una casilla vacia\n",
    "s1 = problema.transicion(s1,problema.acciones_aplicables(s1)[0])\n",
    "problema.pintar_estado(s1)\n",
    "problema.test_objetivo(s1)"
   ]
  },
  {
   "cell_type": "markdown",
   "metadata": {
    "colab_type": "text",
    "id": "ym7uBBHr0dYe"
   },
   "source": [
    "### Árboles de búsqueda"
   ]
  },
  {
   "cell_type": "markdown",
   "metadata": {
    "colab_type": "text",
    "id": "g-vBVxFj0dYf"
   },
   "source": [
    "Una vez definido el espacio de estados del problema, realizamos la búsqueda de una solución mediante un árbol de búsqueda. Recuerde que estamos considerando que una solución es una secuencia de acciones, que en nuestro caso resultará en una secuencia de posiciones en donde poner cada una de las ocho damas.\n",
    "\n",
    "La intuición detrás de la construcción del árbol de búsqueda es suficientemente clara. Comenzamos con la raíz del árbol, la cual es el estado inicial del problema. Las aristas del árbol serán las acciones aplicables y los nodos los estados que se obtienen al realizar la correspondiente acción. Así pues, una solución será la rama que conduce desde la raíz hasta uno de los nodos que sea un estado objetivo del problema.\n",
    "\n",
    "![](./imagenes/arbol.png)\n",
    "\n",
    "El siguiente es el pseudocódigo del método de construcción del árbol, el cual explicaremos con un poco más de detalle a continuación:\n",
    "\n",
    "<img src=\"./imagenes/tree_search.png\" width=\"400px\"/>\n",
    "\n",
    "El método itera sobre la *frontera*, la cual consiste en los nodos que vamos a ir expandiendo para formar el árbol. Iremos analizando la frontera de manera iterativa hasta que se cumpla una de dos condiciones: la frontera es el conjunto vacío, en cuyo caso el problema no tiene solución; o el nodo sobre el cual se está trabajando es un estado objetivo, en cuyo caso la solución será la rama que va desde la raíz hasta el estado objetivo (observe que no está garantizado que este método siempre termine, debido a la posibilidad de caminos redundantes, ver ejercicio 4). \n",
    "\n",
    "En cualquier iteración, lo primero que debemos hacer es seleccionar un nodo `s` dentro de la frontera (sobre el método de selección volveremos más adelante; por el momento podemos asumir que se selecciona aleatoriamente). Retiramos a `s` de la frontera y revisamos si es un estado objetivo. Si sí, regresamos la solución; si no, debemos encontrar las acciones aplicables desde `s` y luego expandir la frontera con los estados que se obtienen a partir de las acciones aplicables.\n",
    "\n",
    "Observe que no hemos dicho nada acerca de cómo seleccionar el nodo que se va a expandir. Esta elección es lo que constituirá la *estratégia de búsqueda*, sobre la cual volveremos más adelante."
   ]
  },
  {
   "cell_type": "markdown",
   "metadata": {
    "colab_type": "text",
    "id": "c568WQRP0dYv"
   },
   "source": [
    "**Implementación de los árboles**"
   ]
  },
  {
   "cell_type": "code",
   "execution_count": 21,
   "metadata": {
    "colab": {},
    "colab_type": "code",
    "id": "x6tDfxY10dYg"
   },
   "outputs": [],
   "source": [
    "class nodo:\n",
    "    \n",
    "    # Clase para crear los nodos\n",
    "    \n",
    "    def __init__(self, estado, madre, accion, costo):\n",
    "        self.estado = estado\n",
    "        self.madre = madre\n",
    "        self.accion = accion\n",
    "        self.costo = costo\n",
    "        \n",
    "def nodo_hijo(problema, madre, accion):\n",
    "    \n",
    "    # Función para crear un nuevo nodo\n",
    "    # Input: problema, que es un objeto de clase ocho_reinas\n",
    "    #        madre, que es un nodo,\n",
    "    #        accion, que es una acción que da lugar al estado del nuevo nodo\n",
    "    # Output: nodo\n",
    "\n",
    "    return nodo(problema.transicion(madre.estado, accion),\n",
    "                madre,\n",
    "                accion,\n",
    "                costo = madre.costo + problema.costo(madre.estado, accion)\n",
    "               )"
   ]
  },
  {
   "cell_type": "code",
   "execution_count": 22,
   "metadata": {
    "colab": {},
    "colab_type": "code",
    "id": "Ag4i7XTQ0dYk",
    "outputId": "beac631a-6a24-45fc-a168-f45272817293"
   },
   "outputs": [
    {
     "data": {
      "text/plain": [
       "<matplotlib.axes._subplots.AxesSubplot at 0x1b7abdff588>"
      ]
     },
     "execution_count": 22,
     "metadata": {},
     "output_type": "execute_result"
    },
    {
     "data": {
      "image/png": "[encoded data removed]",
      "text/plain": [
       "<Figure size 432x288 with 1 Axes>"
      ]
     },
     "metadata": {
      "needs_background": "light"
     },
     "output_type": "display_data"
    }
   ],
   "source": [
    "# Ejemplo de creación de un nodo a partir de la raíz\n",
    "raiz = nodo(problema.estado_inicial(), None, None, 0)\n",
    "acciones = problema.acciones_aplicables(raiz.estado)\n",
    "a = choice(acciones)\n",
    "n1 = nodo_hijo(problema, raiz, a)\n",
    "acciones = problema.acciones_aplicables(n1.estado)\n",
    "a = choice(acciones)\n",
    "n2 = nodo_hijo(problema, n1, a)\n",
    "problema.pintar_estado(n2.estado)"
   ]
  },
  {
   "cell_type": "markdown",
   "metadata": {},
   "source": [
    "**Ejercicio 2:**\n",
    "\n",
    "Implemente la función `solucion`, la cual toma un nodo `n` y devuelve la secuencia de acciones que va desde la raíz hasta `n`."
   ]
  },
  {
   "cell_type": "markdown",
   "metadata": {},
   "source": [
    "**Respuesta:**\n",
    "\n",
    "Una posible implementación es la siguiente:"
   ]
  },
  {
   "cell_type": "code",
   "execution_count": 23,
   "metadata": {},
   "outputs": [],
   "source": [
    "def solucion(n):\n",
    "    \n",
    "    # Devuelve la secuencia de estados que va desde la raíz\n",
    "    # hasta el nodo n\n",
    "    # Input: n, nodo\n",
    "    # Output: l, lista de acciones\n",
    "    \n",
    "    acciones_invertidas = []\n",
    "    m = copy.deepcopy(n)\n",
    "    while m.madre != None:\n",
    "        acciones_invertidas.append(m.accion)\n",
    "        m = m.madre\n",
    "    \n",
    "    num_acciones = len(acciones_invertidas)\n",
    "    acciones = []\n",
    "    for i in range(1, num_acciones + 1):\n",
    "        acciones.append(acciones_invertidas[num_acciones - i])\n",
    "    \n",
    "    return acciones"
   ]
  },
  {
   "cell_type": "markdown",
   "metadata": {},
   "source": [
    "Otra posible implementación usando recursión es la siguiente:"
   ]
  },
  {
   "cell_type": "code",
   "execution_count": 24,
   "metadata": {},
   "outputs": [],
   "source": [
    "def obtiene_acciones(n):\n",
    "    if n.madre == None:\n",
    "        return []\n",
    "    else:\n",
    "        return [n.accion] + obtiene_acciones(n.madre)\n",
    "    \n",
    "def solucion(n):\n",
    "    acciones_invertidas = obtiene_acciones(n)\n",
    "    N = len(acciones_invertidas)\n",
    "    return [acciones_invertidas[N - i] for i in range(1, N + 1)]"
   ]
  },
  {
   "cell_type": "code",
   "execution_count": 25,
   "metadata": {},
   "outputs": [
    {
     "data": {
      "text/plain": [
       "[(0, 7), (3, 0)]"
      ]
     },
     "execution_count": 25,
     "metadata": {},
     "output_type": "execute_result"
    }
   ],
   "source": [
    "solucion(n2)"
   ]
  },
  {
   "cell_type": "markdown",
   "metadata": {},
   "source": [
    "---"
   ]
  },
  {
   "cell_type": "markdown",
   "metadata": {},
   "source": [
    "**Ejercicio 3:**\n",
    "\n",
    "Use una lista como la variable *frontera* e implemente la función `tree_search` para resolver el problema de las ocho damas.\n",
    "\n",
    "***Importante:*** Limíte la cantidad de hijos generados por un nodo a sólo 3."
   ]
  },
  {
   "cell_type": "markdown",
   "metadata": {},
   "source": [
    "**Respuesta:**\n",
    "\n",
    "Una posible implementación es la siguiente:"
   ]
  },
  {
   "cell_type": "code",
   "execution_count": 63,
   "metadata": {},
   "outputs": [],
   "source": [
    "def tree_search(problema):\n",
    "    \n",
    "    # Función de búsqueda mediante la construcción\n",
    "    # del arbol de búsqueda de manera aleatoria\n",
    "    \n",
    "    raiz = nodo(problema.estado_inicial(), None, None, 0)\n",
    "    \n",
    "    frontera = [raiz]\n",
    "    \n",
    "    while len(frontera) > 0:\n",
    "        # print(\"len(frontera)\", len(frontera))\n",
    "        n = choice(frontera) # Seleccionamos un nodo aleatorio\n",
    "        # print(\"*****************\")\n",
    "        # print(n.estado)\n",
    "        frontera.remove(n)\n",
    "        if problema.test_objetivo(n.estado):\n",
    "            return n\n",
    "        else:\n",
    "            acciones = problema.acciones_aplicables(n.estado)\n",
    "            # Limitamos las acciones aplicables a aquellas\n",
    "            # que están en la columna siguiente a la última dama\n",
    "            #print(\"\\nAcciones posibles:\")\n",
    "            #print([a for a in acciones])\n",
    "            acciones_por_columna = [a for a in acciones if a[0]==n.estado.sum()]\n",
    "            #print(\"\\nAcciones posibles:\")\n",
    "            #print(acciones_por_columna)\n",
    "            for a in acciones_por_columna[:3]: # Solo tomamos las 3 primeras acciones\n",
    "                N = nodo_hijo(problema, n, a)\n",
    "                # print(\"Nodo a incluir:\")\n",
    "                # print(N.estado)\n",
    "                frontera.append(N)\n",
    "    \n",
    "    return None"
   ]
  },
  {
   "cell_type": "code",
   "execution_count": 64,
   "metadata": {},
   "outputs": [
    {
     "data": {
      "image/png": "[encoded data removed]",
      "text/plain": [
       "<Figure size 432x288 with 1 Axes>"
      ]
     },
     "metadata": {
      "needs_background": "light"
     },
     "output_type": "display_data"
    }
   ],
   "source": [
    "l = tree_search(problema)\n",
    "if l: \n",
    "    problema.pintar_estado(l.estado)"
   ]
  },
  {
   "cell_type": "markdown",
   "metadata": {},
   "source": [
    "---"
   ]
  },
  {
   "cell_type": "markdown",
   "metadata": {
    "colab_type": "text",
    "id": "7KKT2A0G0dYu"
   },
   "source": [
    "**Ejercicio 4:**\n",
    "\n",
    "Leer en el texto guía la discusión sobre caminos redundantes y el algoritmo `graph_search` (sección 3.3, págs. 76-77)."
   ]
  },
  {
   "cell_type": "markdown",
   "metadata": {},
   "source": [
    "---"
   ]
  },
  {
   "cell_type": "markdown",
   "metadata": {
    "colab_type": "text",
    "id": "UgFieF2s0dY2"
   },
   "source": [
    "### Estrategias de búsqueda\n",
    "\n",
    "Las estrategias que consideraremos aquí son algunas de las llamadas *estrategias ciegas* o *estrategias desinformadas*, las cuales consideran todas las acciones posibles en cualquier estado. A este tipo de estrategias se le opone el tipo de estrategias llamadas *estrategias informadas* o *heurísticas*, las cuales usan conocimiento específico del problema, más allá de su definición, para buscar soluciones de manera más eficiente.\n",
    "\n",
    "Las dos estrategias ciegas que consideraremos son la *breadth-first* y *depth-first*. Observe que distintas estrategias tienen asociada una complejidad distinta, la cual también es importante examinar."
   ]
  },
  {
   "cell_type": "markdown",
   "metadata": {
    "colab_type": "text",
    "id": "88SthCKr0dY3"
   },
   "source": [
    "**Breadth-first search**\n",
    "\n",
    "Lo que define a una estrategia de búsqueda de la forma *breadth-first* es que, después de expandir la raíz, se expanden primero todos sus hijos antes de expandir cualquier nieto, y así sucesivamente. En otras palabras, se expande la raíz, luego el primer nivel, luego el segundo, etc.\n",
    "\n",
    "Implementar esta estrategia es fácil cuando se usa la variable `frontera` como una lista en python. En lugar de seleccionar un nodo aleatorio, se selecciona el primer nodo de la lista (`frontera[0]`). Observe que al expandir un nodo se agregan sus hijos a la lista mediante `append`, entonces los nodos de menor altura siempre van quedando al comienzo de la lista y los de mayor altura al final de esta.\n",
    "\n",
    "El siguiente es el pseudo código que implementa esta estrategia, sobre el cual debemos hacer un par de aclaraciones:\n",
    "\n",
    "<img src=\"./imagenes/breadth_first_search.png\" width=\"450px\"/>\n",
    "\n",
    "La primera aclaración es que se ha modificado el lugar en el cual se determina si el nodo es un estado objetivo. Observe que se hace esta prueba justo después de crear el estado inicial, y luego también antes de incluir un nodo en la frontera. La razón de esta modificación es por eficiencia, toda vez que este procedimiento permite ahorrarse la generación de un nivel completo de nodos.\n",
    "\n",
    "La segunda es que se está usando un conjunto llamado `explored`, el cual guarda la información de cuáles nodos ya han sido creados en el árbol. Esta es la manera de evitar caminos redundantes (ver ejercicio 4).\n",
    "\n",
    "La presente estrategia de búsqueda garantiza que, si la solución existe, esta será encontrada en algún momento. Además, se encontrará la solución de menor altura en el árbol.\n",
    "\n",
    "Las malas noticias es que su complejidad computacional es muy grande. Consideremos primero la siguiente notación:\n",
    "\n",
    "* Sea $b$ la cantidad máxima de acciones posibles con respecto a cualquier estado. Observe que $b$ corresponde a la cantidad máxima de nodos que se incluirán en la frontera al expandir un nodo.\n",
    "\n",
    "* Sea $d$ la altura del primer nodo que contenga un estado solución del problema.\n",
    "\n",
    "Observe que en la primera iteración se generan $b$ nodos a partir de la raíz, luego $b$ nodos por cada uno de estos primeros $b$ nodos, y así, de tal manera que en la altura $d$ se generan $b^d$ nodos. Bajo la convención de medir el tiempo de ejecución del algoritmo solo en términos de la cantidad de nodos generados, se tiene que la complejidad de la estrategia `breadth-first` es $O(b + b^2 + b^3 + \\ldots + b^d) = O(b^d)$.\n",
    "\n",
    "Si medimos la cantidad de memoria requerida solo en términos de cuántos nodos debemos guardar en un instante dado, entonces debemos considerar que la `frontera` se expande con $b^n$ nodos en cada nivel. Por lo tanto, la complejidad con respecto a la memoria para obtener una solución con altura $d$ es también $O(b^d)$.\n",
    "\n",
    "La siguiente tabla es muy ilustrativa del problema:\n",
    "\n",
    "<img src=\"./imagenes/tabla_breadht_first.png\" width=\"500px\"/>\n",
    "\n",
    "Observe que esta estimación determina que, para resolver el problema de las ocho reinas (altura 8) se requerirían 2 minutos y **103 gigabytes** de memoria (el estimado debe ser más alto, toda  vez que la tabla está pensada para un $b$ de 10, mientras que el problema de las ocho reinas tiene un $b$ promedio un poco más alto)."
   ]
  },
  {
   "cell_type": "markdown",
   "metadata": {},
   "source": [
    "**Ejercicio 5:**\n",
    "\n",
    "Implemente la función `breadth_first_search`.\n",
    "\n",
    "***Importante:*** Limíte la cantidad de hijos generados por un nodo a solo 3!"
   ]
  },
  {
   "cell_type": "markdown",
   "metadata": {},
   "source": [
    "**Respuesta:**\n",
    "\n",
    "Una posible solución es la siguiente:"
   ]
  },
  {
   "cell_type": "code",
   "execution_count": 67,
   "metadata": {},
   "outputs": [],
   "source": [
    "def breadth_first_search(problema):\n",
    "    \n",
    "    # Función de búsqueda mediante la construcción\n",
    "    # del arbol en breadth-first\n",
    "    \n",
    "    raiz = nodo(problema.estado_inicial(), None, None, 0)\n",
    "    \n",
    "    if problema.test_objetivo(raiz.estado):\n",
    "            return raiz\n",
    "    else:\n",
    "        frontera = [raiz]\n",
    "        explored = []\n",
    "    \n",
    "    while len(frontera) > 0:\n",
    "        # print(\"len(frontera)\", len(frontera))\n",
    "        n = frontera[0] # Seleccionamos el nodo con menor altura\n",
    "        # print(\"*****************\")\n",
    "        # print(n.estado)\n",
    "        frontera.remove(n)\n",
    "        explored.append(n)\n",
    "        acciones = problema.acciones_aplicables(n.estado)\n",
    "        # Limitamos las acciones aplicables a aquellas\n",
    "        # que están en la columna siguiente a la última dama\n",
    "        acciones_por_columna = [a for a in acciones if a[0]==n.estado.sum()]\n",
    "        # print(\"\\nAcciones posibles:\")\n",
    "        # print(acciones_por_columna)\n",
    "        for a in acciones_por_columna[:3]: # Solo tomamos las 3 primeras acciones\n",
    "            N = nodo_hijo(problema, n, a)\n",
    "            if problema.test_objetivo(N.estado):\n",
    "                return N\n",
    "            elif N not in explored:                \n",
    "                # print(\"Nodo a incluir:\")\n",
    "                # print(N.estado)\n",
    "                frontera.append(N)\n",
    "    \n",
    "    return None"
   ]
  },
  {
   "cell_type": "code",
   "execution_count": 68,
   "metadata": {},
   "outputs": [
    {
     "data": {
      "image/png": "[encoded data removed]",
      "text/plain": [
       "<Figure size 432x288 with 1 Axes>"
      ]
     },
     "metadata": {
      "needs_background": "light"
     },
     "output_type": "display_data"
    }
   ],
   "source": [
    "l = breadth_first_search(problema)\n",
    "if l:\n",
    "    problema.pintar_estado(l.estado)"
   ]
  },
  {
   "cell_type": "markdown",
   "metadata": {},
   "source": [
    "---"
   ]
  },
  {
   "cell_type": "markdown",
   "metadata": {
    "colab_type": "text",
    "id": "bdjQNvbG0dY4"
   },
   "source": [
    "**Depth-limited search**\n",
    "\n",
    "A diferencia del anterior método de búsqueda, el *depth-first* siempre expande el nodo de mayor altura en la `frontera`. En el siguiente ejemplo, el método está recorriendo la rama de más a la izquierda antes de considerar nodos en otras ramas:\n",
    "\n",
    "![](./imagenes/tree_depth_first_search.png)\n",
    "\n",
    "A pesar de que podríamos implementar este método usando el código anterior - en donde el nodo a explorar no es el primero sino el último, de manera que se seleccione uno de los nodos de mayor altura - es más usual implementar *depth-first* de manera recursiva.\n",
    "\n",
    "Antes de ver los detalles de esta implementación, observe que es muy importante evitar el problema de los caminos redundantes. Es posible usar el conjunto `explored`, como en la implementación del método de la sección anterior, pero lo más usual es considerar una búsqueda recursiva estableciendo de antemano una profundidad máxima de recursiones.\n",
    "\n",
    "El pseudo código del algoritmo es el siguiente:\n",
    "\n",
    "<img src=\"./imagenes/depth_limited_search.png\" width=\"450px\"/>\n",
    "\n",
    "La desventaja principal de este método es que es posible explorar muchísimos nodos antes de encontrar una solución que está a muy poca altura en una rama que tarda en ser explorada. Por ejemplo, este sería el caso si en el árbol anterior la solución fuera el nodo `C`, toda vez que el algoritmo exploraría primero todos los nodos de las ramas izquierdas. Esto pone al método en una complejidad $O(b^m)$, donde $m$ es la máxima altura del árbol. \n",
    "\n",
    "No obstante, esta es una consideración sobre la peor situación posible, la cual debemos sopesar frente a la ventaja principal del método, a saber, un uso muchísimo más eficiente de la memoria. En efecto, sólo es necesario mantener en memoria a los hijos asociados a una sola rama del árbol, y es posible ir eliminando nodos tan pronto nos encontremos con un callejón sin salida (un nodo sin acciones aplicables). Esto pone la complejidad en memoria en el orden $O(bm)$; muchísmo menor que el $O(b^d)$ del método de la sección anterior."
   ]
  },
  {
   "cell_type": "markdown",
   "metadata": {
    "colab_type": "text",
    "id": "a0jRiPtK0dY3"
   },
   "source": [
    "**Ejercicio 6:**\n",
    "\n",
    "Implemente la función `depth_limited_search`."
   ]
  },
  {
   "cell_type": "markdown",
   "metadata": {},
   "source": [
    "**Respuesta:**\n",
    "\n",
    "Una posible solución es la siguiente:"
   ]
  },
  {
   "cell_type": "code",
   "execution_count": 17,
   "metadata": {},
   "outputs": [],
   "source": [
    "def depth_limited_search(problema, limite):\n",
    "    \n",
    "    # Función de búsqueda que apela al algoritmo\n",
    "    # recursive_DLS\n",
    "    \n",
    "    raiz = nodo(problema.estado_inicial(), None, None, 0)\n",
    "    \n",
    "    return recursive_DLS(raiz, problema, limite)\n",
    "\n",
    "def recursive_DLS(n, problema, limite):\n",
    "    \n",
    "    # Función recursiva que recorre el árbol de\n",
    "    # forma depth-limited.\n",
    "\n",
    "    if problema.test_objetivo(n.estado):\n",
    "            return n\n",
    "    elif limite == 0:\n",
    "        return \"Cutoff\"\n",
    "    else:\n",
    "        cutoff = False\n",
    "        acciones = problema.acciones_aplicables(n.estado)\n",
    "        for a in acciones:\n",
    "            N = nodo_hijo(problema, n, a)\n",
    "            resultado = recursive_DLS(N, problema, limite - 1)\n",
    "            if resultado == \"Cutoff\":\n",
    "                cutoff = True\n",
    "            elif resultado != None:\n",
    "                return resultado\n",
    "        \n",
    "        if cutoff:\n",
    "            return \"Cutoff\"\n",
    "        else:\n",
    "            return None"
   ]
  },
  {
   "cell_type": "code",
   "execution_count": 21,
   "metadata": {},
   "outputs": [
    {
     "data": {
      "image/png": "[encoded data removed]",
      "text/plain": [
       "<Figure size 432x288 with 1 Axes>"
      ]
     },
     "metadata": {
      "needs_background": "light"
     },
     "output_type": "display_data"
    }
   ],
   "source": [
    "l = depth_limited_search(problema, 8)\n",
    "if l:\n",
    "    if l == \"Cutoff\":\n",
    "        print(l)\n",
    "    else:\n",
    "        problema.pintar_estado(l.estado)"
   ]
  },
  {
   "cell_type": "markdown",
   "metadata": {},
   "source": [
    "**Ejercicio 7:**\n",
    "\n",
    "Lea la explicación sobre el *iterative deepening depth-first search*, en la sección 3.4.5 del texto guía, págs. 88-90."
   ]
  },
  {
   "cell_type": "markdown",
   "metadata": {},
   "source": [
    "---"
   ]
  },
  {
   "cell_type": "markdown",
   "metadata": {},
   "source": [
    "### En este notebook usted aprendió\n",
    "\n",
    "* Cómo definir formalmente un problema e implementarlo en python.\n",
    "\n",
    "* En qué consiste un árbol de búsqueda y cómo implementarlo en python.\n",
    "\n",
    "* Cómo realizar una búsqueda mediante los métodos *breadth-first* y *depth-limited* e implementarlos en python."
   ]
  }
 ],
 "metadata": {
  "colab": {
   "name": "arboles_busqueda.ipynb",
   "provenance": []
  },
  "kernelspec": {
   "display_name": "Python 3",
   "language": "python",
   "name": "python3"
  },
  "language_info": {
   "codemirror_mode": {
    "name": "ipython",
    "version": 3
   },
   "file_extension": ".py",
   "mimetype": "text/x-python",
   "name": "python",
   "nbconvert_exporter": "python",
   "pygments_lexer": "ipython3",
   "version": "3.7.6"
  },
  "latex_envs": {
   "LaTeX_envs_menu_present": true,
   "autoclose": false,
   "autocomplete": true,
   "bibliofile": "biblio.bib",
   "cite_by": "apalike",
   "current_citInitial": 1,
   "eqLabelWithNumbers": true,
   "eqNumInitial": 1,
   "hotkeys": {
    "equation": "Ctrl-E",
    "itemize": "Ctrl-I"
   },
   "labels_anchors": false,
   "latex_user_defs": false,
   "report_style_numbering": false,
   "user_envs_cfg": false
  }
 },
 "nbformat": 4,
 "nbformat_minor": 1
}
