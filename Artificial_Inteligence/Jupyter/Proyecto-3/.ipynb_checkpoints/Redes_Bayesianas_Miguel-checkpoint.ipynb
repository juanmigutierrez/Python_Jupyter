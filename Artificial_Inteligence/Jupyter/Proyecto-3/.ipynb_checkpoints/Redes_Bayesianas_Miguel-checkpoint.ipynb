{
 "cells": [
  {
   "cell_type": "markdown",
   "metadata": {},
   "source": [
    "# Juan Miguel Gutierrez Caso 5"
   ]
  },
  {
   "cell_type": "markdown",
   "metadata": {},
   "source": [
    "# Redes Bayesianas\n",
    "\n",
    "Adaptado de Russell & Norvig (2016), caps. 13 y 14."
   ]
  },
  {
   "cell_type": "markdown",
   "metadata": {},
   "source": [
    "### Objetivo\n",
    "\n",
    "En este notebook estudiaremos una herramienta muy útil para representar situaciones de incertidumbre, como las que aparecen, por ejemplo, en el mundo del Wumpus, aunque el rango de aplicaciones es muy amplio. Esta herramienta se llama las **redes bayesianas** y está basada, como su nombre lo indica, en la regla de Bayes, pero también en otras nociones fundamentales de la teoría de las probabilidades, como la independencia y la independencia condicional.\n",
    "\n",
    "### Secciones\n",
    "\n",
    "1. Implementación de la estructura de una red bayesiana.\n",
    "* Implementación de las funciones de probabilidad.\n",
    "* Inferencia probabilística y consultas basadas en evidencia.\n",
    "\n",
    "### Estructura de una red bayesiana\n",
    "\n",
    "Una **red bayesiana** está basada en un grafo dirigido, en donde cada vértice está etiquetado con una tabla de probabilidad condicional en función de su ascendencia. Para la implementación aquí realizada, usaremos el paquete igraph (correr en el terminal ``pip install python-igraph`` si aún no tiene instalado igraph). "
   ]
  },
  {
   "cell_type": "code",
   "execution_count": 1,
   "metadata": {},
   "outputs": [],
   "source": [
    "import igraph as ig\n",
    "import itertools\n",
    "import numpy as np\n",
    "import cairo"
   ]
  },
  {
   "cell_type": "markdown",
   "metadata": {},
   "source": [
    "El siguiente código crea una clase llamada `red_bayesiana`, la cual tiene 2 atributos y 7 métodos:\n",
    "\n",
    "**Atributos:**\n",
    "\n",
    "1. `.red`: Objeto igraph en donde cada vértice tiene los atributos `nombre`, `valores`, `padres`, `probabilidades`.\n",
    "* `.evidencia`: Diccionario de la forma `{variable:valor}`.\n",
    "\n",
    "**Métodos:**\n",
    "\n",
    "1. `.__init__()`: Inicializa el grafo subyacente a la red.\n",
    "* `.crear_nodo()`: Crea un nuevo vértice y lo adiciona al grafo subyacente.\n",
    "* `.crear_dependencia()`: Crea una arista dirigida, en el grafo subyacente, desde el nodo madre al nodo hijo. Representa la dependencia probabilística entre variables.\n",
    "* `.asignar_probabilidades_m()`: Método para introducir la tabla de probabilidades de un nodo de manera manual. Se considera el número de `padres` que tiene el nodo en el grafo subyacente.\n",
    "* `.asignar_probabilidades()`: Método para introducir la tabla de probabilidades con base en un diccionario de la forma `{(valores_variables_padres):[probabilidades_valores_nodo]}`.\n",
    "* `.ver_nodo()`: Muestra la tabla de probabilidades del nodo.\n",
    "* `.ver_red()`: Muestra el grafo subyacente de la red."
   ]
  },
  {
   "cell_type": "code",
   "execution_count": 2,
   "metadata": {},
   "outputs": [],
   "source": [
    "class red_bayesiana:\n",
    "    '''\n",
    "    Clase para generar una red bayesiana.\n",
    "    Requiere import igraph as ig\n",
    "    '''\n",
    "    def __init__(self):\n",
    "        red = ig.Graph(directed=True)\n",
    "        red.vs['nombre'] = []\n",
    "        red.vs['valores'] = []\n",
    "        red.vs['padres'] = []\n",
    "        red.vs['probabilidades'] = []\n",
    "        self.red = red\n",
    "        self.evidencia = {}\n",
    "        \n",
    "    def crear_nodo(self, nombre, valores):\n",
    "        '''\n",
    "        Crea un nuevo vértice y lo adiciona al grafo subyacente.\n",
    "        Input: nombre, que es el nombre del nodo.\n",
    "               valores, que es una lista de valores que puede tomar la variable.\n",
    "        '''\n",
    "        self.red.add_vertices(1)\n",
    "        self.red.vs[-1]['nombre'] = nombre\n",
    "        self.red.vs[-1]['valores'] = valores\n",
    "        self.red.vs[-1]['padres'] = []\n",
    "        self.red.vs[-1]['probabilidades'] = []\n",
    "    \n",
    "    def crear_dependencia(self, madre, hijo):\n",
    "        '''\n",
    "        Crea una arista dirigida, en el grafo subyacente, desde el nodo madre al nodo hijo. Modifica el atributo `padres`\n",
    "        del nodo hijo para incluir a la madre.\n",
    "        Input: madre, que es el nombre del nodo desde donde parte la arista.\n",
    "               hijo, que es el nombre del nodo al cual llega la arista.\n",
    "        '''\n",
    "        n1 = self.red.vs.find(nombre=madre).index\n",
    "        n2 = self.red.vs.find(nombre=hijo).index\n",
    "        self.red.add_edges([(n1, n2)])\n",
    "        self.red.vs[n2]['padres'] += [madre]\n",
    "        print(f\"Dependencia creada: {madre} --> {hijo}\")\n",
    "        \n",
    "    def asignar_probabilidades_m(self, nombre):\n",
    "        '''\n",
    "        Introducir la tabla de probabilidades de un nodo de manera manual.\n",
    "        Input: nombre, que es el nombre de la variable.\n",
    "        '''\n",
    "        indice = self.red.vs.find(nombre=nombre).index\n",
    "        nodo = self.red.vs[indice]\n",
    "        padres = nodo['padres']\n",
    "        if len(padres) == 0:\n",
    "            print(f\"Introduzca las probabilidades {nodo['valores']} para {nombre}\")\n",
    "            p = input()\n",
    "            p = [float(x) for x in p.split(',')]\n",
    "            if np.sum(p) != 1:\n",
    "                print(\"Error: probabilidades deben sumar 1.\")\n",
    "            else:\n",
    "                nodo['probabilidades'] = p\n",
    "        elif len(padres) == 1:\n",
    "            indices_padres = [self.red.vs.find(nombre=n).index for n in padres]\n",
    "            valores = [self.red.vs[i]['valores'] for i in indices_padres][0]\n",
    "            nodo['probabilidades'] = {}\n",
    "            inicial = True\n",
    "            nodo['probabilidades'] = {}\n",
    "            for t in valores:\n",
    "                print(f\"Introduzca las probabilidades {nodo['valores']} para {nombre}\")\n",
    "                print(f\"dado el valor {t} de {padres[0]}\")\n",
    "                p = input()\n",
    "                p = [float(x) for x in p.split(',')]\n",
    "                if np.sum(p) != 1:\n",
    "                    print(\"Error: probabilidades deben sumar 1.\")\n",
    "                    break\n",
    "                else:\n",
    "                    nodo['probabilidades'][t] = p\n",
    "        else:\n",
    "            indices_padres = [self.red.vs.find(nombre=n).index for n in padres]\n",
    "            valores = [self.red.vs[i]['valores'] for i in indices_padres]\n",
    "            tuplas = list(itertools.product(*valores))\n",
    "            nodo['probabilidades'] = {}\n",
    "            inicial = True\n",
    "            for v in padres:\n",
    "                if inicial:\n",
    "                    cadena = v\n",
    "                    inicial = False\n",
    "                else:\n",
    "                    cadena += \" x \" + v\n",
    "            nodo['probabilidades'] = {}\n",
    "            for t in tuplas:\n",
    "                print(f\"Introduzca las probabilidades {nodo['valores']} para {nombre}\")\n",
    "                print(f\"dados los valores {t} de {padres}\")\n",
    "                p = input()\n",
    "                p = [float(x) for x in p.split(',')]\n",
    "                if np.sum(p) != 1:\n",
    "                    print(\"Error: probabilidades deben sumar 1.\")\n",
    "                    break\n",
    "                else:\n",
    "                    nodo['probabilidades'][t] = p\n",
    "\n",
    "    def asignar_probabilidades(self, nombre, p):\n",
    "        '''\n",
    "        Introducir la tabla de probabilidades para un nodo. \n",
    "        Input: nombre, que es el nombre de la variable.\n",
    "               p, que es un diccionario de la forma {(valores_variables_padres):[probabilidades_valores_nodo]}.\n",
    "        '''\n",
    "        indice = self.red.vs.find(nombre=nombre).index\n",
    "        nodo = self.red.vs[indice]\n",
    "        nodo['probabilidades'] = p\n",
    "\n",
    "    def ver_nodo(self, nombre):\n",
    "        '''\n",
    "        Muestra la tabla de probabilidades del nodo.\n",
    "        Input: nombre, que es el nombre de la variable.\n",
    "        '''\n",
    "        indice = self.red.vs.find(nombre=nombre).index\n",
    "        nodo = self.red.vs[indice]\n",
    "        padres = nodo['padres']\n",
    "        v = len(padres)\n",
    "        probs = [str(p) for p in nodo['probabilidades']]\n",
    "        if len(probs) == 0:\n",
    "            print(f\"Nodo {nombre} no tiene probabilidades asignadas.\")\n",
    "        elif v == 0:\n",
    "            l = len(nodo['valores'])\n",
    "            print(\"-\"*11*l)\n",
    "            print(f\"{nodo['nombre']}\")\n",
    "            print(\"-\"*11*l)\n",
    "            for i in nodo['valores']:\n",
    "                k = len(i)\n",
    "                valor = i + ' '*(9 - k) if k < 10 else i[:10]\n",
    "                print(f\"{valor}\\t\", end=\"\")\n",
    "            print(\"\")\n",
    "            for p in probs:\n",
    "                k = len(p)\n",
    "                valor = p + ' '*(9 - k) if k < 10 else i[:10]\n",
    "                print(f\"{valor}\\t\", end=\"\")\n",
    "            print(\"\\n\"+\"-\"*11*l)\n",
    "        elif v == 1:\n",
    "            l = len(nodo['valores']) + 1\n",
    "            print(\"-\"*13*l)\n",
    "            print(f\"{nodo['nombre']}\")\n",
    "            print(\"-\"*13*l)\n",
    "            k = len(padres[0])\n",
    "            valor = padres[0] + ' '*(9 - k) if k < 10 else padres[0][:10]\n",
    "            print(f\"{valor}\\t\", end=\"\")                \n",
    "            for i in nodo['valores']:\n",
    "                k = len(i)\n",
    "                valor = i + ' '*(9 - k) if k < 10 else i[:10]\n",
    "                print(f\"{valor}\\t\", end=\"\")\n",
    "            print(\"\")\n",
    "            for t in nodo['probabilidades'].keys():\n",
    "                k = len(t)\n",
    "                valor = t + ' '*(9 - k) if k < 10 else t[:10]\n",
    "                print(f\"{valor}\\t\", end=\"\")\n",
    "                prob = [str(p) for p in nodo['probabilidades'][t]]\n",
    "                for p in prob:\n",
    "                    k = len(p)\n",
    "                    valor = p + ' '*(9 - k) if k < 10 else p[:10]\n",
    "                    print(f\"{valor}\\t\", end=\"\")\n",
    "                print(\"\")\n",
    "            print(\"\\n\"+\"-\"*13*l)\n",
    "        elif v > 1:\n",
    "            l = len(nodo['valores']) + 1\n",
    "            print(\"-\"*18*l)\n",
    "            print(f\"{nodo['nombre']}\")\n",
    "            print(\"-\"*18*l)\n",
    "            for i in padres:\n",
    "                k = len(i)\n",
    "                valor = i + ' '*(9 - k) if k < 10 else i[:10]\n",
    "                print(f\"{valor}\\t\", end=\"\")                \n",
    "            for i in nodo['valores']:\n",
    "                k = len(i)\n",
    "                valor = i + ' '*(9 - k) if k < 10 else i[:10]\n",
    "                print(f\"{valor}\\t\", end=\"\")\n",
    "            print(\"\")\n",
    "            for tupla in nodo['probabilidades'].keys():\n",
    "                for t in tupla:\n",
    "                    k = len(t)\n",
    "                    valor = t + ' '*(9 - k) if k < 10 else i[:10]\n",
    "                    print(f\"{valor}\\t\", end=\"\")\n",
    "                prob = [str(p) for p in nodo['probabilidades'][tupla]]\n",
    "                for p in prob:\n",
    "                    k = len(p)\n",
    "                    valor = p + ' '*(9 - k) if k < 10 else i[:10]\n",
    "                    print(f\"{valor}\\t\", end=\"\")\n",
    "                print(\"\")\n",
    "            print(\"\\n\"+\"-\"*18*l)\n",
    "    \n",
    "    def ver_red(self):\n",
    "        '''\n",
    "        Muestra el grafo subyacente de la red.\n",
    "        '''        \n",
    "        return ig.plot(self.red, \n",
    "            layout=self.red.layout(\"kk\"), \n",
    "            vertex_label = [l for l in self.red.vs['nombre']],\n",
    "            bbox = (200, 200), \n",
    "            margin = 50\n",
    "           )"
   ]
  },
  {
   "cell_type": "markdown",
   "metadata": {},
   "source": [
    "**Mi primera red bayesiana**\n",
    "\n",
    "Vamos a implementar la red del ejercicio 1 de las diapositivas:\n",
    "\n",
    "<img src=\"./imagenes/ejercicio1.png\" width=\"600\">\n",
    "\n",
    "Para comenzar, inicializamos una instancia de la red bayesiana:"
   ]
  },
  {
   "cell_type": "code",
   "execution_count": 3,
   "metadata": {},
   "outputs": [],
   "source": [
    "B = red_bayesiana()"
   ]
  },
  {
   "cell_type": "markdown",
   "metadata": {},
   "source": [
    "Creamos los nodos para la lluvia y la manguera:"
   ]
  },
  {
   "cell_type": "code",
   "execution_count": 4,
   "metadata": {},
   "outputs": [],
   "source": [
    "B.crear_nodo(\"Lluvia\", [\"verdadero\", \"falso\"])\n",
    "B.crear_nodo(\"Manguera\", [\"verdadero\", \"falso\"])"
   ]
  },
  {
   "cell_type": "markdown",
   "metadata": {},
   "source": [
    "Creamos la dependencia de la manguera con respecto a la lluvia:"
   ]
  },
  {
   "cell_type": "code",
   "execution_count": 5,
   "metadata": {},
   "outputs": [
    {
     "name": "stdout",
     "output_type": "stream",
     "text": [
      "Dependencia creada: Lluvia --> Manguera\n"
     ]
    }
   ],
   "source": [
    "B.crear_dependencia(\"Lluvia\", \"Manguera\")"
   ]
  },
  {
   "cell_type": "markdown",
   "metadata": {},
   "source": [
    "**Ejercicio 1:**\n",
    "\n",
    "Cree el nodo `JardinMojado` con sus respectivas dependencias."
   ]
  },
  {
   "cell_type": "code",
   "execution_count": 6,
   "metadata": {},
   "outputs": [
    {
     "name": "stdout",
     "output_type": "stream",
     "text": [
      "Dependencia creada: Lluvia --> JardinMojado\n",
      "Dependencia creada: Manguera --> JardinMojado\n"
     ]
    }
   ],
   "source": [
    "B.crear_nodo(\"JardinMojado\", [\"verdadero\", \"falso\"])\n",
    "B.crear_dependencia(\"Lluvia\", \"JardinMojado\")\n",
    "B.crear_dependencia(\"Manguera\", \"JardinMojado\")                    "
   ]
  },
  {
   "cell_type": "markdown",
   "metadata": {},
   "source": [
    "----"
   ]
  },
  {
   "cell_type": "markdown",
   "metadata": {},
   "source": [
    "Ya podemos visualizar el grafo subyacente mediante la siguiente instrucción:"
   ]
  },
  {
   "cell_type": "code",
   "execution_count": 7,
   "metadata": {},
   "outputs": [
    {
     "data": {
      "image/svg+xml": [
       "<?xml version=\"1.0\" encoding=\"UTF-8\"?>\n",
       "<svg xmlns=\"http://www.w3.org/2000/svg\" xmlns:xlink=\"http://www.w3.org/1999/xlink\" width=\"200pt\" height=\"200pt\" viewBox=\"0 0 200 200\" version=\"1.1\">\n",
       "<defs>\n",
       "<g>\n",
       "<symbol overflow=\"visible\" id=\"glyph0-0\">\n",
       "<path style=\"stroke:none;\" d=\"M 1.75 0 L 1.75 -8.75 L 8.75 -8.75 L 8.75 0 Z M 1.96875 -0.21875 L 8.53125 -0.21875 L 8.53125 -8.53125 L 1.96875 -8.53125 Z M 1.96875 -0.21875 \"/>\n",
       "</symbol>\n",
       "<symbol overflow=\"visible\" id=\"glyph0-1\">\n",
       "<path style=\"stroke:none;\" d=\"M 1.023438 0 L 1.023438 -10.023438 L 2.351563 -10.023438 L 2.351563 -1.183594 L 7.289063 -1.183594 L 7.289063 0 Z M 1.023438 0 \"/>\n",
       "</symbol>\n",
       "<symbol overflow=\"visible\" id=\"glyph0-2\">\n",
       "<path style=\"stroke:none;\" d=\"M 0.894531 0 L 0.894531 -10.023438 L 2.125 -10.023438 L 2.125 0 Z M 0.894531 0 \"/>\n",
       "</symbol>\n",
       "<symbol overflow=\"visible\" id=\"glyph0-3\">\n",
       "<path style=\"stroke:none;\" d=\"M 5.679688 0 L 5.679688 -1.066406 C 5.109375 -0.246094 4.34375 0.164063 3.375 0.164063 C 2.945313 0.164063 2.542969 0.0820313 2.175781 -0.0820313 C 1.800781 -0.246094 1.527344 -0.449219 1.347656 -0.699219 C 1.167969 -0.945313 1.039063 -1.25 0.96875 -1.613281 C 0.914063 -1.851563 0.890625 -2.234375 0.894531 -2.761719 L 0.894531 -7.257813 L 2.125 -7.257813 L 2.125 -3.234375 C 2.121094 -2.589844 2.148438 -2.15625 2.203125 -1.933594 C 2.277344 -1.609375 2.4375 -1.355469 2.691406 -1.171875 C 2.941406 -0.984375 3.253906 -0.890625 3.625 -0.894531 C 3.988281 -0.890625 4.332031 -0.984375 4.660156 -1.175781 C 4.980469 -1.363281 5.210938 -1.621094 5.347656 -1.949219 C 5.480469 -2.273438 5.546875 -2.746094 5.550781 -3.371094 L 5.550781 -7.257813 L 6.78125 -7.257813 L 6.78125 0 Z M 5.679688 0 \"/>\n",
       "</symbol>\n",
       "<symbol overflow=\"visible\" id=\"glyph0-4\">\n",
       "<path style=\"stroke:none;\" d=\"M 2.9375 0 L 0.179688 -7.257813 L 1.476563 -7.257813 L 3.035156 -2.914063 C 3.203125 -2.4375 3.355469 -1.949219 3.5 -1.449219 C 3.605469 -1.828125 3.757813 -2.289063 3.957031 -2.828125 L 5.570313 -7.257813 L 6.835938 -7.257813 L 4.085938 0 Z M 2.9375 0 \"/>\n",
       "</symbol>\n",
       "<symbol overflow=\"visible\" id=\"glyph0-5\">\n",
       "<path style=\"stroke:none;\" d=\"M 0.929688 -8.605469 L 0.929688 -10.023438 L 2.160156 -10.023438 L 2.160156 -8.605469 Z M 0.929688 0 L 0.929688 -7.257813 L 2.160156 -7.257813 L 2.160156 0 Z M 0.929688 0 \"/>\n",
       "</symbol>\n",
       "<symbol overflow=\"visible\" id=\"glyph0-6\">\n",
       "<path style=\"stroke:none;\" d=\"M 5.660156 -0.894531 C 5.203125 -0.503906 4.761719 -0.230469 4.34375 -0.0742188 C 3.917969 0.0859375 3.46875 0.164063 2.988281 0.164063 C 2.1875 0.164063 1.574219 -0.0273438 1.148438 -0.417969 C 0.71875 -0.804688 0.503906 -1.304688 0.507813 -1.914063 C 0.503906 -2.265625 0.585938 -2.589844 0.75 -2.886719 C 0.910156 -3.179688 1.121094 -3.414063 1.382813 -3.59375 C 1.644531 -3.769531 1.9375 -3.90625 2.269531 -4 C 2.507813 -4.058594 2.875 -4.121094 3.363281 -4.183594 C 4.355469 -4.300781 5.085938 -4.441406 5.558594 -4.609375 C 5.558594 -4.773438 5.558594 -4.878906 5.5625 -4.929688 C 5.558594 -5.425781 5.445313 -5.78125 5.214844 -5.988281 C 4.898438 -6.265625 4.429688 -6.402344 3.8125 -6.40625 C 3.230469 -6.402344 2.804688 -6.300781 2.53125 -6.101563 C 2.253906 -5.894531 2.050781 -5.535156 1.921875 -5.023438 L 0.71875 -5.1875 C 0.824219 -5.699219 1.003906 -6.117188 1.257813 -6.433594 C 1.503906 -6.75 1.867188 -6.992188 2.34375 -7.164063 C 2.816406 -7.332031 3.363281 -7.417969 3.992188 -7.421875 C 4.609375 -7.417969 5.113281 -7.34375 5.503906 -7.203125 C 5.886719 -7.054688 6.171875 -6.871094 6.359375 -6.652344 C 6.539063 -6.429688 6.667969 -6.152344 6.742188 -5.816406 C 6.777344 -5.605469 6.796875 -5.226563 6.800781 -4.683594 L 6.800781 -3.042969 C 6.796875 -1.894531 6.824219 -1.171875 6.878906 -0.871094 C 6.933594 -0.566406 7.035156 -0.277344 7.191406 0 L 5.90625 0 C 5.777344 -0.253906 5.695313 -0.550781 5.660156 -0.894531 Z M 5.558594 -3.644531 C 5.109375 -3.460938 4.4375 -3.304688 3.546875 -3.179688 C 3.039063 -3.105469 2.683594 -3.023438 2.472656 -2.933594 C 2.261719 -2.839844 2.097656 -2.707031 1.988281 -2.53125 C 1.871094 -2.355469 1.816406 -2.160156 1.820313 -1.949219 C 1.816406 -1.617188 1.941406 -1.34375 2.191406 -1.128906 C 2.4375 -0.90625 2.800781 -0.796875 3.28125 -0.800781 C 3.753906 -0.796875 4.175781 -0.898438 4.546875 -1.109375 C 4.914063 -1.3125 5.183594 -1.597656 5.359375 -1.960938 C 5.488281 -2.238281 5.554688 -2.648438 5.558594 -3.191406 Z M 5.558594 -3.644531 \"/>\n",
       "</symbol>\n",
       "<symbol overflow=\"visible\" id=\"glyph0-7\">\n",
       "<path style=\"stroke:none;\" d=\"M 1.039063 0 L 1.039063 -10.023438 L 3.035156 -10.023438 L 5.40625 -2.925781 C 5.621094 -2.261719 5.78125 -1.769531 5.886719 -1.441406 C 5.996094 -1.804688 6.171875 -2.339844 6.417969 -3.046875 L 8.820313 -10.023438 L 10.601563 -10.023438 L 10.601563 0 L 9.324219 0 L 9.324219 -8.386719 L 6.414063 0 L 5.214844 0 L 2.316406 -8.53125 L 2.316406 0 Z M 1.039063 0 \"/>\n",
       "</symbol>\n",
       "<symbol overflow=\"visible\" id=\"glyph0-8\">\n",
       "<path style=\"stroke:none;\" d=\"M 0.921875 0 L 0.921875 -7.257813 L 2.03125 -7.257813 L 2.03125 -6.226563 C 2.558594 -7.019531 3.328125 -7.417969 4.339844 -7.421875 C 4.773438 -7.417969 5.175781 -7.339844 5.546875 -7.1875 C 5.910156 -7.027344 6.183594 -6.820313 6.371094 -6.570313 C 6.550781 -6.3125 6.679688 -6.011719 6.753906 -5.660156 C 6.796875 -5.433594 6.820313 -5.035156 6.820313 -4.464844 L 6.820313 0 L 5.59375 0 L 5.59375 -4.414063 C 5.589844 -4.914063 5.542969 -5.289063 5.449219 -5.539063 C 5.351563 -5.785156 5.179688 -5.984375 4.9375 -6.136719 C 4.691406 -6.28125 4.40625 -6.355469 4.082031 -6.359375 C 3.554688 -6.355469 3.101563 -6.191406 2.722656 -5.859375 C 2.339844 -5.523438 2.148438 -4.890625 2.152344 -3.964844 L 2.152344 0 Z M 0.921875 0 \"/>\n",
       "</symbol>\n",
       "<symbol overflow=\"visible\" id=\"glyph0-9\">\n",
       "<path style=\"stroke:none;\" d=\"M 0.695313 0.601563 L 1.894531 0.78125 C 1.941406 1.144531 2.082031 1.414063 2.3125 1.585938 C 2.613281 1.8125 3.03125 1.925781 3.5625 1.929688 C 4.128906 1.925781 4.566406 1.8125 4.878906 1.585938 C 5.1875 1.355469 5.398438 1.035156 5.507813 0.628906 C 5.570313 0.375 5.597656 -0.148438 5.597656 -0.949219 C 5.058594 -0.316406 4.390625 0 3.589844 0 C 2.589844 0 1.816406 -0.359375 1.273438 -1.078125 C 0.722656 -1.796875 0.449219 -2.660156 0.453125 -3.671875 C 0.449219 -4.363281 0.574219 -5.003906 0.828125 -5.589844 C 1.074219 -6.175781 1.4375 -6.625 1.917969 -6.945313 C 2.390625 -7.257813 2.949219 -7.417969 3.59375 -7.421875 C 4.449219 -7.417969 5.15625 -7.070313 5.714844 -6.382813 L 5.714844 -7.257813 L 6.851563 -7.257813 L 6.851563 -0.984375 C 6.847656 0.144531 6.734375 0.945313 6.503906 1.417969 C 6.273438 1.886719 5.90625 2.257813 5.410156 2.535156 C 4.910156 2.804688 4.296875 2.941406 3.570313 2.945313 C 2.699219 2.941406 2 2.746094 1.46875 2.359375 C 0.933594 1.96875 0.675781 1.382813 0.695313 0.601563 Z M 1.714844 -3.757813 C 1.710938 -2.804688 1.898438 -2.113281 2.28125 -1.675781 C 2.65625 -1.238281 3.132813 -1.019531 3.703125 -1.019531 C 4.269531 -1.019531 4.742188 -1.234375 5.128906 -1.671875 C 5.507813 -2.101563 5.699219 -2.785156 5.703125 -3.71875 C 5.699219 -4.605469 5.503906 -5.273438 5.109375 -5.726563 C 4.714844 -6.175781 4.238281 -6.402344 3.683594 -6.40625 C 3.132813 -6.402344 2.667969 -6.179688 2.289063 -5.738281 C 1.902344 -5.289063 1.710938 -4.628906 1.714844 -3.757813 Z M 1.714844 -3.757813 \"/>\n",
       "</symbol>\n",
       "<symbol overflow=\"visible\" id=\"glyph0-10\">\n",
       "<path style=\"stroke:none;\" d=\"M 5.890625 -2.335938 L 7.164063 -2.179688 C 6.960938 -1.4375 6.589844 -0.859375 6.046875 -0.449219 C 5.503906 -0.0390625 4.8125 0.164063 3.972656 0.164063 C 2.910156 0.164063 2.066406 -0.160156 1.445313 -0.816406 C 0.820313 -1.464844 0.507813 -2.382813 0.511719 -3.570313 C 0.507813 -4.785156 0.824219 -5.734375 1.453125 -6.410156 C 2.082031 -7.082031 2.898438 -7.417969 3.902344 -7.421875 C 4.871094 -7.417969 5.664063 -7.085938 6.28125 -6.429688 C 6.894531 -5.765625 7.199219 -4.839844 7.203125 -3.644531 C 7.199219 -3.570313 7.199219 -3.460938 7.199219 -3.316406 L 1.785156 -3.316406 C 1.828125 -2.515625 2.054688 -1.902344 2.460938 -1.480469 C 2.867188 -1.054688 3.371094 -0.84375 3.976563 -0.847656 C 4.425781 -0.84375 4.8125 -0.960938 5.132813 -1.203125 C 5.453125 -1.4375 5.703125 -1.816406 5.890625 -2.335938 Z M 1.851563 -4.328125 L 5.90625 -4.328125 C 5.851563 -4.933594 5.695313 -5.390625 5.441406 -5.703125 C 5.046875 -6.171875 4.539063 -6.410156 3.917969 -6.414063 C 3.351563 -6.410156 2.875 -6.21875 2.492188 -5.84375 C 2.101563 -5.460938 1.890625 -4.957031 1.851563 -4.328125 Z M 1.851563 -4.328125 \"/>\n",
       "</symbol>\n",
       "<symbol overflow=\"visible\" id=\"glyph0-11\">\n",
       "<path style=\"stroke:none;\" d=\"M 0.910156 0 L 0.910156 -7.257813 L 2.015625 -7.257813 L 2.015625 -6.160156 C 2.296875 -6.667969 2.554688 -7.007813 2.796875 -7.175781 C 3.03125 -7.335938 3.296875 -7.417969 3.589844 -7.421875 C 4 -7.417969 4.421875 -7.285156 4.851563 -7.027344 L 4.429688 -5.886719 C 4.125 -6.0625 3.824219 -6.152344 3.527344 -6.152344 C 3.257813 -6.152344 3.015625 -6.070313 2.800781 -5.910156 C 2.585938 -5.746094 2.433594 -5.519531 2.34375 -5.234375 C 2.207031 -4.792969 2.136719 -4.316406 2.140625 -3.800781 L 2.140625 0 Z M 0.910156 0 \"/>\n",
       "</symbol>\n",
       "<symbol overflow=\"visible\" id=\"glyph0-12\">\n",
       "<path style=\"stroke:none;\" d=\"M 0.402344 -2.84375 L 1.601563 -3.007813 C 1.628906 -2.238281 1.773438 -1.714844 2.03125 -1.433594 C 2.285156 -1.148438 2.636719 -1.007813 3.089844 -1.011719 C 3.417969 -1.007813 3.707031 -1.082031 3.949219 -1.238281 C 4.191406 -1.386719 4.355469 -1.597656 4.449219 -1.863281 C 4.535156 -2.125 4.582031 -2.542969 4.585938 -3.117188 L 4.585938 -10.023438 L 5.914063 -10.023438 L 5.914063 -3.191406 C 5.910156 -2.351563 5.808594 -1.703125 5.609375 -1.242188 C 5.402344 -0.78125 5.082031 -0.429688 4.644531 -0.191406 C 4.203125 0.0507813 3.6875 0.167969 3.097656 0.171875 C 2.214844 0.167969 1.539063 -0.0820313 1.074219 -0.585938 C 0.605469 -1.09375 0.382813 -1.84375 0.402344 -2.84375 Z M 0.402344 -2.84375 \"/>\n",
       "</symbol>\n",
       "<symbol overflow=\"visible\" id=\"glyph0-13\">\n",
       "<path style=\"stroke:none;\" d=\"M 5.632813 0 L 5.632813 -0.914063 C 5.167969 -0.195313 4.492188 0.164063 3.601563 0.164063 C 3.019531 0.164063 2.488281 0.0078125 2.003906 -0.3125 C 1.519531 -0.628906 1.140625 -1.074219 0.875 -1.648438 C 0.605469 -2.21875 0.472656 -2.878906 0.476563 -3.625 C 0.472656 -4.347656 0.59375 -5.003906 0.839844 -5.59375 C 1.078125 -6.183594 1.441406 -6.636719 1.925781 -6.949219 C 2.40625 -7.261719 2.945313 -7.417969 3.546875 -7.421875 C 3.980469 -7.417969 4.371094 -7.324219 4.714844 -7.144531 C 5.054688 -6.957031 5.332031 -6.71875 5.550781 -6.425781 L 5.550781 -10.023438 L 6.773438 -10.023438 L 6.773438 0 Z M 1.742188 -3.625 C 1.738281 -2.691406 1.933594 -1.996094 2.328125 -1.535156 C 2.71875 -1.074219 3.183594 -0.84375 3.71875 -0.847656 C 4.253906 -0.84375 4.710938 -1.0625 5.085938 -1.507813 C 5.460938 -1.945313 5.648438 -2.617188 5.652344 -3.519531 C 5.648438 -4.511719 5.457031 -5.242188 5.078125 -5.707031 C 4.691406 -6.171875 4.21875 -6.402344 3.664063 -6.40625 C 3.113281 -6.402344 2.65625 -6.179688 2.292969 -5.734375 C 1.921875 -5.285156 1.738281 -4.582031 1.742188 -3.625 Z M 1.742188 -3.625 \"/>\n",
       "</symbol>\n",
       "<symbol overflow=\"visible\" id=\"glyph0-14\">\n",
       "<path style=\"stroke:none;\" d=\"M 0.464844 -3.628906 C 0.460938 -4.972656 0.835938 -5.96875 1.585938 -6.617188 C 2.207031 -7.148438 2.96875 -7.417969 3.867188 -7.421875 C 4.867188 -7.417969 5.683594 -7.089844 6.316406 -6.441406 C 6.949219 -5.785156 7.265625 -4.882813 7.265625 -3.734375 C 7.265625 -2.796875 7.125 -2.0625 6.84375 -1.527344 C 6.5625 -0.992188 6.152344 -0.578125 5.621094 -0.28125 C 5.082031 0.015625 4.5 0.164063 3.867188 0.164063 C 2.851563 0.164063 2.027344 -0.160156 1.402344 -0.8125 C 0.773438 -1.460938 0.460938 -2.398438 0.464844 -3.628906 Z M 1.730469 -3.628906 C 1.726563 -2.695313 1.929688 -2 2.335938 -1.539063 C 2.738281 -1.074219 3.25 -0.84375 3.867188 -0.847656 C 4.476563 -0.84375 4.984375 -1.074219 5.390625 -1.542969 C 5.796875 -2.003906 6 -2.714844 6 -3.671875 C 6 -4.566406 5.792969 -5.246094 5.386719 -5.710938 C 4.976563 -6.171875 4.472656 -6.402344 3.867188 -6.40625 C 3.25 -6.402344 2.738281 -6.171875 2.335938 -5.714844 C 1.929688 -5.25 1.726563 -4.554688 1.730469 -3.628906 Z M 1.730469 -3.628906 \"/>\n",
       "</symbol>\n",
       "<symbol overflow=\"visible\" id=\"glyph0-15\">\n",
       "<path style=\"stroke:none;\" d=\"M 0.914063 -8.59375 L 0.914063 -10.023438 L 2.148438 -10.023438 L 2.148438 -8.59375 Z M -0.640625 2.816406 L -0.410156 1.769531 C -0.160156 1.832031 0.03125 1.863281 0.171875 1.867188 C 0.417969 1.863281 0.605469 1.78125 0.730469 1.617188 C 0.851563 1.449219 0.914063 1.03125 0.914063 0.367188 L 0.914063 -7.257813 L 2.148438 -7.257813 L 2.148438 0.398438 C 2.144531 1.289063 2.027344 1.910156 1.796875 2.261719 C 1.496094 2.714844 1.003906 2.941406 0.320313 2.945313 C -0.0117188 2.941406 -0.328125 2.898438 -0.640625 2.816406 Z M -0.640625 2.816406 \"/>\n",
       "</symbol>\n",
       "</g>\n",
       "</defs>\n",
       "<g id=\"surface2\">\n",
       "<rect x=\"0\" y=\"0\" width=\"200\" height=\"200\" style=\"fill:rgb(100%,100%,100%);fill-opacity:1;stroke:none;\"/>\n",
       "<path style=\"fill:none;stroke-width:1;stroke-linecap:butt;stroke-linejoin:miter;stroke:rgb(26.666667%,26.666667%,26.666667%);stroke-opacity:1;stroke-miterlimit:10;\" d=\"M 150 100 L 71.703125 139.148438 \"/>\n",
       "<path style=\" stroke:none;fill-rule:nonzero;fill:rgb(26.666667%,26.666667%,26.666667%);fill-opacity:1;\" d=\"M 58.945313 145.527344 L 69.632813 135.003906 L 73.777344 143.292969 L 58.945313 145.527344 \"/>\n",
       "<path style=\"fill:none;stroke-width:1;stroke-linecap:butt;stroke-linejoin:miter;stroke:rgb(26.666667%,26.666667%,26.666667%);stroke-opacity:1;stroke-miterlimit:10;\" d=\"M 150 100 L 71.703125 60.851563 \"/>\n",
       "<path style=\" stroke:none;fill-rule:nonzero;fill:rgb(26.666667%,26.666667%,26.666667%);fill-opacity:1;\" d=\"M 58.945313 54.472656 L 73.777344 56.707031 L 69.632813 64.996094 L 58.945313 54.472656 \"/>\n",
       "<path style=\"fill:none;stroke-width:1;stroke-linecap:butt;stroke-linejoin:miter;stroke:rgb(26.666667%,26.666667%,26.666667%);stroke-opacity:1;stroke-miterlimit:10;\" d=\"M 50 150 L 50 74.265625 \"/>\n",
       "<path style=\" stroke:none;fill-rule:nonzero;fill:rgb(26.666667%,26.666667%,26.666667%);fill-opacity:1;\" d=\"M 50 60 L 54.636719 74.265625 L 45.363281 74.265625 L 50 60 \"/>\n",
       "<path style=\"fill-rule:nonzero;fill:rgb(100%,0%,0%);fill-opacity:1;stroke-width:1;stroke-linecap:butt;stroke-linejoin:miter;stroke:rgb(0%,0%,0%);stroke-opacity:1;stroke-miterlimit:10;\" d=\"M 160 100 C 160 105.523438 155.523438 110 150 110 C 144.476563 110 140 105.523438 140 100 C 140 94.476563 144.476563 90 150 90 C 155.523438 90 160 94.476563 160 100 \"/>\n",
       "<path style=\"fill-rule:nonzero;fill:rgb(100%,0%,0%);fill-opacity:1;stroke-width:1;stroke-linecap:butt;stroke-linejoin:miter;stroke:rgb(0%,0%,0%);stroke-opacity:1;stroke-miterlimit:10;\" d=\"M 60 150 C 60 155.523438 55.523438 160 50 160 C 44.476563 160 40 155.523438 40 150 C 40 144.476563 44.476563 140 50 140 C 55.523438 140 60 144.476563 60 150 \"/>\n",
       "<path style=\"fill-rule:nonzero;fill:rgb(100%,0%,0%);fill-opacity:1;stroke-width:1;stroke-linecap:butt;stroke-linejoin:miter;stroke:rgb(0%,0%,0%);stroke-opacity:1;stroke-miterlimit:10;\" d=\"M 60 50 C 60 55.523438 55.523438 60 50 60 C 44.476563 60 40 55.523438 40 50 C 40 44.476563 44.476563 40 50 40 C 55.523438 40 60 44.476563 60 50 \"/>\n",
       "<g style=\"fill:rgb(0%,0%,0%);fill-opacity:1;\">\n",
       "  <use xlink:href=\"#glyph0-1\" x=\"131.496094\" y=\"106.511719\"/>\n",
       "  <use xlink:href=\"#glyph0-2\" x=\"139.282227\" y=\"106.511719\"/>\n",
       "  <use xlink:href=\"#glyph0-3\" x=\"142.392578\" y=\"106.511719\"/>\n",
       "  <use xlink:href=\"#glyph0-4\" x=\"150.178711\" y=\"106.511719\"/>\n",
       "  <use xlink:href=\"#glyph0-5\" x=\"157.178711\" y=\"106.511719\"/>\n",
       "  <use xlink:href=\"#glyph0-6\" x=\"160.289063\" y=\"106.511719\"/>\n",
       "</g>\n",
       "<g style=\"fill:rgb(0%,0%,0%);fill-opacity:1;\">\n",
       "  <use xlink:href=\"#glyph0-7\" x=\"18.257813\" y=\"156.511719\"/>\n",
       "  <use xlink:href=\"#glyph0-6\" x=\"29.919922\" y=\"156.511719\"/>\n",
       "  <use xlink:href=\"#glyph0-8\" x=\"37.706055\" y=\"156.511719\"/>\n",
       "  <use xlink:href=\"#glyph0-9\" x=\"45.492188\" y=\"156.511719\"/>\n",
       "  <use xlink:href=\"#glyph0-3\" x=\"53.27832\" y=\"156.511719\"/>\n",
       "  <use xlink:href=\"#glyph0-10\" x=\"61.064453\" y=\"156.511719\"/>\n",
       "  <use xlink:href=\"#glyph0-11\" x=\"68.850586\" y=\"156.511719\"/>\n",
       "  <use xlink:href=\"#glyph0-6\" x=\"73.512695\" y=\"156.511719\"/>\n",
       "</g>\n",
       "<g style=\"fill:rgb(0%,0%,0%);fill-opacity:1;\">\n",
       "  <use xlink:href=\"#glyph0-12\" x=\"8.046875\" y=\"56.511719\"/>\n",
       "  <use xlink:href=\"#glyph0-6\" x=\"15.046875\" y=\"56.511719\"/>\n",
       "  <use xlink:href=\"#glyph0-11\" x=\"22.833008\" y=\"56.511719\"/>\n",
       "  <use xlink:href=\"#glyph0-13\" x=\"27.495117\" y=\"56.511719\"/>\n",
       "  <use xlink:href=\"#glyph0-5\" x=\"35.28125\" y=\"56.511719\"/>\n",
       "  <use xlink:href=\"#glyph0-8\" x=\"38.391602\" y=\"56.511719\"/>\n",
       "  <use xlink:href=\"#glyph0-7\" x=\"46.177734\" y=\"56.511719\"/>\n",
       "  <use xlink:href=\"#glyph0-14\" x=\"57.839844\" y=\"56.511719\"/>\n",
       "  <use xlink:href=\"#glyph0-15\" x=\"65.625977\" y=\"56.511719\"/>\n",
       "  <use xlink:href=\"#glyph0-6\" x=\"68.736328\" y=\"56.511719\"/>\n",
       "  <use xlink:href=\"#glyph0-13\" x=\"76.522461\" y=\"56.511719\"/>\n",
       "  <use xlink:href=\"#glyph0-14\" x=\"84.308594\" y=\"56.511719\"/>\n",
       "</g>\n",
       "</g>\n",
       "</svg>\n"
      ],
      "text/plain": [
       "<igraph.drawing.Plot at 0xc05b5e0>"
      ]
     },
     "execution_count": 7,
     "metadata": {
      "image/svg+xml": {
       "isolated": true
      }
     },
     "output_type": "execute_result"
    }
   ],
   "source": [
    "B.ver_red()"
   ]
  },
  {
   "cell_type": "markdown",
   "metadata": {},
   "source": [
    "Ahora debemos asignar las probabilidades. Lo haremos de manera manual, comenzando con la variable `Lluvia`. Corra la siguiente celda e incluya los valores de acuerdo al ejercicio (observe que esta variable no depende de ninguna otra):"
   ]
  },
  {
   "cell_type": "code",
   "execution_count": 8,
   "metadata": {},
   "outputs": [
    {
     "name": "stdout",
     "output_type": "stream",
     "text": [
      "Introduzca las probabilidades ['verdadero', 'falso'] para Lluvia\n"
     ]
    },
    {
     "ename": "KeyboardInterrupt",
     "evalue": "Interrupted by user",
     "output_type": "error",
     "traceback": [
      "\u001b[1;31m---------------------------------------------------------------------------\u001b[0m",
      "\u001b[1;31mKeyboardInterrupt\u001b[0m                         Traceback (most recent call last)",
      "\u001b[1;32m<ipython-input-8-ed4522b8cb3e>\u001b[0m in \u001b[0;36m<module>\u001b[1;34m\u001b[0m\n\u001b[1;32m----> 1\u001b[1;33m \u001b[0mB\u001b[0m\u001b[1;33m.\u001b[0m\u001b[0masignar_probabilidades_m\u001b[0m\u001b[1;33m(\u001b[0m\u001b[1;34m\"Lluvia\"\u001b[0m\u001b[1;33m)\u001b[0m\u001b[1;33m\u001b[0m\u001b[1;33m\u001b[0m\u001b[0m\n\u001b[0m",
      "\u001b[1;32m<ipython-input-2-58664534c7e7>\u001b[0m in \u001b[0;36masignar_probabilidades_m\u001b[1;34m(self, nombre)\u001b[0m\n\u001b[0;32m     48\u001b[0m         \u001b[1;32mif\u001b[0m \u001b[0mlen\u001b[0m\u001b[1;33m(\u001b[0m\u001b[0mpadres\u001b[0m\u001b[1;33m)\u001b[0m \u001b[1;33m==\u001b[0m \u001b[1;36m0\u001b[0m\u001b[1;33m:\u001b[0m\u001b[1;33m\u001b[0m\u001b[1;33m\u001b[0m\u001b[0m\n\u001b[0;32m     49\u001b[0m             \u001b[0mprint\u001b[0m\u001b[1;33m(\u001b[0m\u001b[1;34mf\"Introduzca las probabilidades {nodo['valores']} para {nombre}\"\u001b[0m\u001b[1;33m)\u001b[0m\u001b[1;33m\u001b[0m\u001b[1;33m\u001b[0m\u001b[0m\n\u001b[1;32m---> 50\u001b[1;33m             \u001b[0mp\u001b[0m \u001b[1;33m=\u001b[0m \u001b[0minput\u001b[0m\u001b[1;33m(\u001b[0m\u001b[1;33m)\u001b[0m\u001b[1;33m\u001b[0m\u001b[1;33m\u001b[0m\u001b[0m\n\u001b[0m\u001b[0;32m     51\u001b[0m             \u001b[0mp\u001b[0m \u001b[1;33m=\u001b[0m \u001b[1;33m[\u001b[0m\u001b[0mfloat\u001b[0m\u001b[1;33m(\u001b[0m\u001b[0mx\u001b[0m\u001b[1;33m)\u001b[0m \u001b[1;32mfor\u001b[0m \u001b[0mx\u001b[0m \u001b[1;32min\u001b[0m \u001b[0mp\u001b[0m\u001b[1;33m.\u001b[0m\u001b[0msplit\u001b[0m\u001b[1;33m(\u001b[0m\u001b[1;34m','\u001b[0m\u001b[1;33m)\u001b[0m\u001b[1;33m]\u001b[0m\u001b[1;33m\u001b[0m\u001b[1;33m\u001b[0m\u001b[0m\n\u001b[0;32m     52\u001b[0m             \u001b[1;32mif\u001b[0m \u001b[0mnp\u001b[0m\u001b[1;33m.\u001b[0m\u001b[0msum\u001b[0m\u001b[1;33m(\u001b[0m\u001b[0mp\u001b[0m\u001b[1;33m)\u001b[0m \u001b[1;33m!=\u001b[0m \u001b[1;36m1\u001b[0m\u001b[1;33m:\u001b[0m\u001b[1;33m\u001b[0m\u001b[1;33m\u001b[0m\u001b[0m\n",
      "\u001b[1;32mc:\\users\\miguel gutierrez\\appdata\\local\\programs\\python\\python38-32\\lib\\site-packages\\ipykernel\\kernelbase.py\u001b[0m in \u001b[0;36mraw_input\u001b[1;34m(self, prompt)\u001b[0m\n\u001b[0;32m    858\u001b[0m                 \u001b[1;34m\"raw_input was called, but this frontend does not support input requests.\"\u001b[0m\u001b[1;33m\u001b[0m\u001b[1;33m\u001b[0m\u001b[0m\n\u001b[0;32m    859\u001b[0m             )\n\u001b[1;32m--> 860\u001b[1;33m         return self._input_request(str(prompt),\n\u001b[0m\u001b[0;32m    861\u001b[0m             \u001b[0mself\u001b[0m\u001b[1;33m.\u001b[0m\u001b[0m_parent_ident\u001b[0m\u001b[1;33m,\u001b[0m\u001b[1;33m\u001b[0m\u001b[1;33m\u001b[0m\u001b[0m\n\u001b[0;32m    862\u001b[0m             \u001b[0mself\u001b[0m\u001b[1;33m.\u001b[0m\u001b[0m_parent_header\u001b[0m\u001b[1;33m,\u001b[0m\u001b[1;33m\u001b[0m\u001b[1;33m\u001b[0m\u001b[0m\n",
      "\u001b[1;32mc:\\users\\miguel gutierrez\\appdata\\local\\programs\\python\\python38-32\\lib\\site-packages\\ipykernel\\kernelbase.py\u001b[0m in \u001b[0;36m_input_request\u001b[1;34m(self, prompt, ident, parent, password)\u001b[0m\n\u001b[0;32m    902\u001b[0m             \u001b[1;32mexcept\u001b[0m \u001b[0mKeyboardInterrupt\u001b[0m\u001b[1;33m:\u001b[0m\u001b[1;33m\u001b[0m\u001b[1;33m\u001b[0m\u001b[0m\n\u001b[0;32m    903\u001b[0m                 \u001b[1;31m# re-raise KeyboardInterrupt, to truncate traceback\u001b[0m\u001b[1;33m\u001b[0m\u001b[1;33m\u001b[0m\u001b[1;33m\u001b[0m\u001b[0m\n\u001b[1;32m--> 904\u001b[1;33m                 \u001b[1;32mraise\u001b[0m \u001b[0mKeyboardInterrupt\u001b[0m\u001b[1;33m(\u001b[0m\u001b[1;34m\"Interrupted by user\"\u001b[0m\u001b[1;33m)\u001b[0m \u001b[1;32mfrom\u001b[0m \u001b[1;32mNone\u001b[0m\u001b[1;33m\u001b[0m\u001b[1;33m\u001b[0m\u001b[0m\n\u001b[0m\u001b[0;32m    905\u001b[0m             \u001b[1;32mexcept\u001b[0m \u001b[0mException\u001b[0m \u001b[1;32mas\u001b[0m \u001b[0me\u001b[0m\u001b[1;33m:\u001b[0m\u001b[1;33m\u001b[0m\u001b[1;33m\u001b[0m\u001b[0m\n\u001b[0;32m    906\u001b[0m                 \u001b[0mself\u001b[0m\u001b[1;33m.\u001b[0m\u001b[0mlog\u001b[0m\u001b[1;33m.\u001b[0m\u001b[0mwarning\u001b[0m\u001b[1;33m(\u001b[0m\u001b[1;34m\"Invalid Message:\"\u001b[0m\u001b[1;33m,\u001b[0m \u001b[0mexc_info\u001b[0m\u001b[1;33m=\u001b[0m\u001b[1;32mTrue\u001b[0m\u001b[1;33m)\u001b[0m\u001b[1;33m\u001b[0m\u001b[1;33m\u001b[0m\u001b[0m\n",
      "\u001b[1;31mKeyboardInterrupt\u001b[0m: Interrupted by user"
     ]
    }
   ],
   "source": [
    "B.asignar_probabilidades_m(\"Lluvia\")"
   ]
  },
  {
   "cell_type": "code",
   "execution_count": null,
   "metadata": {},
   "outputs": [],
   "source": [
    "B.ver_nodo(\"Lluvia\")"
   ]
  },
  {
   "cell_type": "markdown",
   "metadata": {},
   "source": [
    "**Ejercicio 2:**\n",
    "\n",
    "Corra las dos celdas siguientes para introducir manualmente las probabilidades de las variables `Manguera` y `JardinMojado`."
   ]
  },
  {
   "cell_type": "code",
   "execution_count": 38,
   "metadata": {},
   "outputs": [
    {
     "name": "stdout",
     "output_type": "stream",
     "text": [
      "Introduzca las probabilidades ['verdadero', 'falso'] para Manguera\n",
      "dado el valor verdadero de Lluvia\n",
      "0.01,0.99\n",
      "Introduzca las probabilidades ['verdadero', 'falso'] para Manguera\n",
      "dado el valor falso de Lluvia\n",
      "0.4,0.6\n"
     ]
    }
   ],
   "source": [
    "B.asignar_probabilidades_m(\"Manguera\")"
   ]
  },
  {
   "cell_type": "code",
   "execution_count": 39,
   "metadata": {},
   "outputs": [
    {
     "name": "stdout",
     "output_type": "stream",
     "text": [
      "Introduzca las probabilidades ['verdadero', 'falso'] para JardinMojado\n",
      "dados los valores ('verdadero', 'verdadero') de ['Lluvia', 'Manguera']\n",
      "0.99,0.01\n",
      "Introduzca las probabilidades ['verdadero', 'falso'] para JardinMojado\n",
      "dados los valores ('verdadero', 'falso') de ['Lluvia', 'Manguera']\n",
      "0.8,0.2\n",
      "Introduzca las probabilidades ['verdadero', 'falso'] para JardinMojado\n",
      "dados los valores ('falso', 'verdadero') de ['Lluvia', 'Manguera']\n",
      "0.9,0.1\n",
      "Introduzca las probabilidades ['verdadero', 'falso'] para JardinMojado\n",
      "dados los valores ('falso', 'falso') de ['Lluvia', 'Manguera']\n",
      "0,1\n"
     ]
    }
   ],
   "source": [
    "B.asignar_probabilidades_m(\"JardinMojado\")"
   ]
  },
  {
   "cell_type": "markdown",
   "metadata": {},
   "source": [
    "Corra las siguientes dos celdas para comprobar las tablas de probabilidad respectivas."
   ]
  },
  {
   "cell_type": "code",
   "execution_count": 40,
   "metadata": {},
   "outputs": [
    {
     "name": "stdout",
     "output_type": "stream",
     "text": [
      "---------------------------------------\n",
      "Manguera\n",
      "---------------------------------------\n",
      "Lluvia   \tverdadero\tfalso    \t\n",
      "verdadero\t0.01     \t0.99     \t\n",
      "falso    \t0.4      \t0.6      \t\n",
      "\n",
      "---------------------------------------\n"
     ]
    }
   ],
   "source": [
    "B.ver_nodo(\"Manguera\")"
   ]
  },
  {
   "cell_type": "code",
   "execution_count": 41,
   "metadata": {},
   "outputs": [
    {
     "name": "stdout",
     "output_type": "stream",
     "text": [
      "------------------------------------------------------\n",
      "JardinMojado\n",
      "------------------------------------------------------\n",
      "Lluvia   \tManguera \tverdadero\tfalso    \t\n",
      "verdadero\tverdadero\t0.99     \t0.01     \t\n",
      "verdadero\tfalso    \t0.8      \t0.2      \t\n",
      "falso    \tverdadero\t0.9      \t0.1      \t\n",
      "falso    \tfalso    \t0.0      \t1.0      \t\n",
      "\n",
      "------------------------------------------------------\n"
     ]
    }
   ],
   "source": [
    "B.ver_nodo(\"JardinMojado\")"
   ]
  },
  {
   "cell_type": "markdown",
   "metadata": {},
   "source": [
    "Desde aca comienzo a trabajar, por que es demorado digitar cada vez las probabilidades"
   ]
  },
  {
   "cell_type": "code",
   "execution_count": 5,
   "metadata": {},
   "outputs": [
    {
     "name": "stdout",
     "output_type": "stream",
     "text": [
      "Dependencia creada: Lluvia --> Manguera\n",
      "Dependencia creada: Manguera --> JardinMojado\n",
      "Dependencia creada: Lluvia --> JardinMojado\n"
     ]
    }
   ],
   "source": [
    "B = red_bayesiana()\n",
    "B.crear_nodo(\"Lluvia\", [\"verdadero\", \"falso\"])\n",
    "B.crear_nodo(\"Manguera\", [\"verdadero\", \"falso\"])\n",
    "B.crear_nodo(\"JardinMojado\", [\"verdadero\", \"falso\"])\n",
    "B.crear_dependencia(\"Lluvia\", \"Manguera\")\n",
    "B.crear_dependencia(\"Manguera\", \"JardinMojado\")\n",
    "B.crear_dependencia(\"Lluvia\", \"JardinMojado\")\n",
    "B.asignar_probabilidades(\"Lluvia\", [0.2, 0.8])\n",
    "B.asignar_probabilidades(\"Manguera\", {'verdadero': [0.01, 0.99], 'falso': [0.4, 0.6]})\n",
    "B.asignar_probabilidades(\"JardinMojado\", {('verdadero', 'verdadero'): [0.99, 0.01], ('verdadero', 'falso'): [0.9, 0.1], ('falso', 'verdadero'): [0.8, 0.2], ('falso', 'falso'): [0.0, 1.0]})"
   ]
  },
  {
   "cell_type": "code",
   "execution_count": 6,
   "metadata": {},
   "outputs": [
    {
     "data": {
      "image/svg+xml": [
       "<?xml version=\"1.0\" encoding=\"UTF-8\"?>\n",
       "<svg xmlns=\"http://www.w3.org/2000/svg\" xmlns:xlink=\"http://www.w3.org/1999/xlink\" width=\"200pt\" height=\"200pt\" viewBox=\"0 0 200 200\" version=\"1.1\">\n",
       "<defs>\n",
       "<g>\n",
       "<symbol overflow=\"visible\" id=\"glyph0-0\">\n",
       "<path style=\"stroke:none;\" d=\"M 1.75 0 L 1.75 -8.75 L 8.75 -8.75 L 8.75 0 Z M 1.96875 -0.21875 L 8.53125 -0.21875 L 8.53125 -8.53125 L 1.96875 -8.53125 Z M 1.96875 -0.21875 \"/>\n",
       "</symbol>\n",
       "<symbol overflow=\"visible\" id=\"glyph0-1\">\n",
       "<path style=\"stroke:none;\" d=\"M 1.023438 0 L 1.023438 -10.023438 L 2.351563 -10.023438 L 2.351563 -1.183594 L 7.289063 -1.183594 L 7.289063 0 Z M 1.023438 0 \"/>\n",
       "</symbol>\n",
       "<symbol overflow=\"visible\" id=\"glyph0-2\">\n",
       "<path style=\"stroke:none;\" d=\"M 0.894531 0 L 0.894531 -10.023438 L 2.125 -10.023438 L 2.125 0 Z M 0.894531 0 \"/>\n",
       "</symbol>\n",
       "<symbol overflow=\"visible\" id=\"glyph0-3\">\n",
       "<path style=\"stroke:none;\" d=\"M 5.679688 0 L 5.679688 -1.066406 C 5.109375 -0.246094 4.34375 0.164063 3.375 0.164063 C 2.945313 0.164063 2.542969 0.0820313 2.175781 -0.0820313 C 1.800781 -0.246094 1.527344 -0.449219 1.347656 -0.699219 C 1.167969 -0.945313 1.039063 -1.25 0.96875 -1.613281 C 0.914063 -1.851563 0.890625 -2.234375 0.894531 -2.761719 L 0.894531 -7.257813 L 2.125 -7.257813 L 2.125 -3.234375 C 2.121094 -2.589844 2.148438 -2.15625 2.203125 -1.933594 C 2.277344 -1.609375 2.4375 -1.355469 2.691406 -1.171875 C 2.941406 -0.984375 3.253906 -0.890625 3.625 -0.894531 C 3.988281 -0.890625 4.332031 -0.984375 4.660156 -1.175781 C 4.980469 -1.363281 5.210938 -1.621094 5.347656 -1.949219 C 5.480469 -2.273438 5.546875 -2.746094 5.550781 -3.371094 L 5.550781 -7.257813 L 6.78125 -7.257813 L 6.78125 0 Z M 5.679688 0 \"/>\n",
       "</symbol>\n",
       "<symbol overflow=\"visible\" id=\"glyph0-4\">\n",
       "<path style=\"stroke:none;\" d=\"M 2.9375 0 L 0.179688 -7.257813 L 1.476563 -7.257813 L 3.035156 -2.914063 C 3.203125 -2.4375 3.355469 -1.949219 3.5 -1.449219 C 3.605469 -1.828125 3.757813 -2.289063 3.957031 -2.828125 L 5.570313 -7.257813 L 6.835938 -7.257813 L 4.085938 0 Z M 2.9375 0 \"/>\n",
       "</symbol>\n",
       "<symbol overflow=\"visible\" id=\"glyph0-5\">\n",
       "<path style=\"stroke:none;\" d=\"M 0.929688 -8.605469 L 0.929688 -10.023438 L 2.160156 -10.023438 L 2.160156 -8.605469 Z M 0.929688 0 L 0.929688 -7.257813 L 2.160156 -7.257813 L 2.160156 0 Z M 0.929688 0 \"/>\n",
       "</symbol>\n",
       "<symbol overflow=\"visible\" id=\"glyph0-6\">\n",
       "<path style=\"stroke:none;\" d=\"M 5.660156 -0.894531 C 5.203125 -0.503906 4.761719 -0.230469 4.34375 -0.0742188 C 3.917969 0.0859375 3.46875 0.164063 2.988281 0.164063 C 2.1875 0.164063 1.574219 -0.0273438 1.148438 -0.417969 C 0.71875 -0.804688 0.503906 -1.304688 0.507813 -1.914063 C 0.503906 -2.265625 0.585938 -2.589844 0.75 -2.886719 C 0.910156 -3.179688 1.121094 -3.414063 1.382813 -3.59375 C 1.644531 -3.769531 1.9375 -3.90625 2.269531 -4 C 2.507813 -4.058594 2.875 -4.121094 3.363281 -4.183594 C 4.355469 -4.300781 5.085938 -4.441406 5.558594 -4.609375 C 5.558594 -4.773438 5.558594 -4.878906 5.5625 -4.929688 C 5.558594 -5.425781 5.445313 -5.78125 5.214844 -5.988281 C 4.898438 -6.265625 4.429688 -6.402344 3.8125 -6.40625 C 3.230469 -6.402344 2.804688 -6.300781 2.53125 -6.101563 C 2.253906 -5.894531 2.050781 -5.535156 1.921875 -5.023438 L 0.71875 -5.1875 C 0.824219 -5.699219 1.003906 -6.117188 1.257813 -6.433594 C 1.503906 -6.75 1.867188 -6.992188 2.34375 -7.164063 C 2.816406 -7.332031 3.363281 -7.417969 3.992188 -7.421875 C 4.609375 -7.417969 5.113281 -7.34375 5.503906 -7.203125 C 5.886719 -7.054688 6.171875 -6.871094 6.359375 -6.652344 C 6.539063 -6.429688 6.667969 -6.152344 6.742188 -5.816406 C 6.777344 -5.605469 6.796875 -5.226563 6.800781 -4.683594 L 6.800781 -3.042969 C 6.796875 -1.894531 6.824219 -1.171875 6.878906 -0.871094 C 6.933594 -0.566406 7.035156 -0.277344 7.191406 0 L 5.90625 0 C 5.777344 -0.253906 5.695313 -0.550781 5.660156 -0.894531 Z M 5.558594 -3.644531 C 5.109375 -3.460938 4.4375 -3.304688 3.546875 -3.179688 C 3.039063 -3.105469 2.683594 -3.023438 2.472656 -2.933594 C 2.261719 -2.839844 2.097656 -2.707031 1.988281 -2.53125 C 1.871094 -2.355469 1.816406 -2.160156 1.820313 -1.949219 C 1.816406 -1.617188 1.941406 -1.34375 2.191406 -1.128906 C 2.4375 -0.90625 2.800781 -0.796875 3.28125 -0.800781 C 3.753906 -0.796875 4.175781 -0.898438 4.546875 -1.109375 C 4.914063 -1.3125 5.183594 -1.597656 5.359375 -1.960938 C 5.488281 -2.238281 5.554688 -2.648438 5.558594 -3.191406 Z M 5.558594 -3.644531 \"/>\n",
       "</symbol>\n",
       "<symbol overflow=\"visible\" id=\"glyph0-7\">\n",
       "<path style=\"stroke:none;\" d=\"M 1.039063 0 L 1.039063 -10.023438 L 3.035156 -10.023438 L 5.40625 -2.925781 C 5.621094 -2.261719 5.78125 -1.769531 5.886719 -1.441406 C 5.996094 -1.804688 6.171875 -2.339844 6.417969 -3.046875 L 8.820313 -10.023438 L 10.601563 -10.023438 L 10.601563 0 L 9.324219 0 L 9.324219 -8.386719 L 6.414063 0 L 5.214844 0 L 2.316406 -8.53125 L 2.316406 0 Z M 1.039063 0 \"/>\n",
       "</symbol>\n",
       "<symbol overflow=\"visible\" id=\"glyph0-8\">\n",
       "<path style=\"stroke:none;\" d=\"M 0.921875 0 L 0.921875 -7.257813 L 2.03125 -7.257813 L 2.03125 -6.226563 C 2.558594 -7.019531 3.328125 -7.417969 4.339844 -7.421875 C 4.773438 -7.417969 5.175781 -7.339844 5.546875 -7.1875 C 5.910156 -7.027344 6.183594 -6.820313 6.371094 -6.570313 C 6.550781 -6.3125 6.679688 -6.011719 6.753906 -5.660156 C 6.796875 -5.433594 6.820313 -5.035156 6.820313 -4.464844 L 6.820313 0 L 5.59375 0 L 5.59375 -4.414063 C 5.589844 -4.914063 5.542969 -5.289063 5.449219 -5.539063 C 5.351563 -5.785156 5.179688 -5.984375 4.9375 -6.136719 C 4.691406 -6.28125 4.40625 -6.355469 4.082031 -6.359375 C 3.554688 -6.355469 3.101563 -6.191406 2.722656 -5.859375 C 2.339844 -5.523438 2.148438 -4.890625 2.152344 -3.964844 L 2.152344 0 Z M 0.921875 0 \"/>\n",
       "</symbol>\n",
       "<symbol overflow=\"visible\" id=\"glyph0-9\">\n",
       "<path style=\"stroke:none;\" d=\"M 0.695313 0.601563 L 1.894531 0.78125 C 1.941406 1.144531 2.082031 1.414063 2.3125 1.585938 C 2.613281 1.8125 3.03125 1.925781 3.5625 1.929688 C 4.128906 1.925781 4.566406 1.8125 4.878906 1.585938 C 5.1875 1.355469 5.398438 1.035156 5.507813 0.628906 C 5.570313 0.375 5.597656 -0.148438 5.597656 -0.949219 C 5.058594 -0.316406 4.390625 0 3.589844 0 C 2.589844 0 1.816406 -0.359375 1.273438 -1.078125 C 0.722656 -1.796875 0.449219 -2.660156 0.453125 -3.671875 C 0.449219 -4.363281 0.574219 -5.003906 0.828125 -5.589844 C 1.074219 -6.175781 1.4375 -6.625 1.917969 -6.945313 C 2.390625 -7.257813 2.949219 -7.417969 3.59375 -7.421875 C 4.449219 -7.417969 5.15625 -7.070313 5.714844 -6.382813 L 5.714844 -7.257813 L 6.851563 -7.257813 L 6.851563 -0.984375 C 6.847656 0.144531 6.734375 0.945313 6.503906 1.417969 C 6.273438 1.886719 5.90625 2.257813 5.410156 2.535156 C 4.910156 2.804688 4.296875 2.941406 3.570313 2.945313 C 2.699219 2.941406 2 2.746094 1.46875 2.359375 C 0.933594 1.96875 0.675781 1.382813 0.695313 0.601563 Z M 1.714844 -3.757813 C 1.710938 -2.804688 1.898438 -2.113281 2.28125 -1.675781 C 2.65625 -1.238281 3.132813 -1.019531 3.703125 -1.019531 C 4.269531 -1.019531 4.742188 -1.234375 5.128906 -1.671875 C 5.507813 -2.101563 5.699219 -2.785156 5.703125 -3.71875 C 5.699219 -4.605469 5.503906 -5.273438 5.109375 -5.726563 C 4.714844 -6.175781 4.238281 -6.402344 3.683594 -6.40625 C 3.132813 -6.402344 2.667969 -6.179688 2.289063 -5.738281 C 1.902344 -5.289063 1.710938 -4.628906 1.714844 -3.757813 Z M 1.714844 -3.757813 \"/>\n",
       "</symbol>\n",
       "<symbol overflow=\"visible\" id=\"glyph0-10\">\n",
       "<path style=\"stroke:none;\" d=\"M 5.890625 -2.335938 L 7.164063 -2.179688 C 6.960938 -1.4375 6.589844 -0.859375 6.046875 -0.449219 C 5.503906 -0.0390625 4.8125 0.164063 3.972656 0.164063 C 2.910156 0.164063 2.066406 -0.160156 1.445313 -0.816406 C 0.820313 -1.464844 0.507813 -2.382813 0.511719 -3.570313 C 0.507813 -4.785156 0.824219 -5.734375 1.453125 -6.410156 C 2.082031 -7.082031 2.898438 -7.417969 3.902344 -7.421875 C 4.871094 -7.417969 5.664063 -7.085938 6.28125 -6.429688 C 6.894531 -5.765625 7.199219 -4.839844 7.203125 -3.644531 C 7.199219 -3.570313 7.199219 -3.460938 7.199219 -3.316406 L 1.785156 -3.316406 C 1.828125 -2.515625 2.054688 -1.902344 2.460938 -1.480469 C 2.867188 -1.054688 3.371094 -0.84375 3.976563 -0.847656 C 4.425781 -0.84375 4.8125 -0.960938 5.132813 -1.203125 C 5.453125 -1.4375 5.703125 -1.816406 5.890625 -2.335938 Z M 1.851563 -4.328125 L 5.90625 -4.328125 C 5.851563 -4.933594 5.695313 -5.390625 5.441406 -5.703125 C 5.046875 -6.171875 4.539063 -6.410156 3.917969 -6.414063 C 3.351563 -6.410156 2.875 -6.21875 2.492188 -5.84375 C 2.101563 -5.460938 1.890625 -4.957031 1.851563 -4.328125 Z M 1.851563 -4.328125 \"/>\n",
       "</symbol>\n",
       "<symbol overflow=\"visible\" id=\"glyph0-11\">\n",
       "<path style=\"stroke:none;\" d=\"M 0.910156 0 L 0.910156 -7.257813 L 2.015625 -7.257813 L 2.015625 -6.160156 C 2.296875 -6.667969 2.554688 -7.007813 2.796875 -7.175781 C 3.03125 -7.335938 3.296875 -7.417969 3.589844 -7.421875 C 4 -7.417969 4.421875 -7.285156 4.851563 -7.027344 L 4.429688 -5.886719 C 4.125 -6.0625 3.824219 -6.152344 3.527344 -6.152344 C 3.257813 -6.152344 3.015625 -6.070313 2.800781 -5.910156 C 2.585938 -5.746094 2.433594 -5.519531 2.34375 -5.234375 C 2.207031 -4.792969 2.136719 -4.316406 2.140625 -3.800781 L 2.140625 0 Z M 0.910156 0 \"/>\n",
       "</symbol>\n",
       "<symbol overflow=\"visible\" id=\"glyph0-12\">\n",
       "<path style=\"stroke:none;\" d=\"M 0.402344 -2.84375 L 1.601563 -3.007813 C 1.628906 -2.238281 1.773438 -1.714844 2.03125 -1.433594 C 2.285156 -1.148438 2.636719 -1.007813 3.089844 -1.011719 C 3.417969 -1.007813 3.707031 -1.082031 3.949219 -1.238281 C 4.191406 -1.386719 4.355469 -1.597656 4.449219 -1.863281 C 4.535156 -2.125 4.582031 -2.542969 4.585938 -3.117188 L 4.585938 -10.023438 L 5.914063 -10.023438 L 5.914063 -3.191406 C 5.910156 -2.351563 5.808594 -1.703125 5.609375 -1.242188 C 5.402344 -0.78125 5.082031 -0.429688 4.644531 -0.191406 C 4.203125 0.0507813 3.6875 0.167969 3.097656 0.171875 C 2.214844 0.167969 1.539063 -0.0820313 1.074219 -0.585938 C 0.605469 -1.09375 0.382813 -1.84375 0.402344 -2.84375 Z M 0.402344 -2.84375 \"/>\n",
       "</symbol>\n",
       "<symbol overflow=\"visible\" id=\"glyph0-13\">\n",
       "<path style=\"stroke:none;\" d=\"M 5.632813 0 L 5.632813 -0.914063 C 5.167969 -0.195313 4.492188 0.164063 3.601563 0.164063 C 3.019531 0.164063 2.488281 0.0078125 2.003906 -0.3125 C 1.519531 -0.628906 1.140625 -1.074219 0.875 -1.648438 C 0.605469 -2.21875 0.472656 -2.878906 0.476563 -3.625 C 0.472656 -4.347656 0.59375 -5.003906 0.839844 -5.59375 C 1.078125 -6.183594 1.441406 -6.636719 1.925781 -6.949219 C 2.40625 -7.261719 2.945313 -7.417969 3.546875 -7.421875 C 3.980469 -7.417969 4.371094 -7.324219 4.714844 -7.144531 C 5.054688 -6.957031 5.332031 -6.71875 5.550781 -6.425781 L 5.550781 -10.023438 L 6.773438 -10.023438 L 6.773438 0 Z M 1.742188 -3.625 C 1.738281 -2.691406 1.933594 -1.996094 2.328125 -1.535156 C 2.71875 -1.074219 3.183594 -0.84375 3.71875 -0.847656 C 4.253906 -0.84375 4.710938 -1.0625 5.085938 -1.507813 C 5.460938 -1.945313 5.648438 -2.617188 5.652344 -3.519531 C 5.648438 -4.511719 5.457031 -5.242188 5.078125 -5.707031 C 4.691406 -6.171875 4.21875 -6.402344 3.664063 -6.40625 C 3.113281 -6.402344 2.65625 -6.179688 2.292969 -5.734375 C 1.921875 -5.285156 1.738281 -4.582031 1.742188 -3.625 Z M 1.742188 -3.625 \"/>\n",
       "</symbol>\n",
       "<symbol overflow=\"visible\" id=\"glyph0-14\">\n",
       "<path style=\"stroke:none;\" d=\"M 0.464844 -3.628906 C 0.460938 -4.972656 0.835938 -5.96875 1.585938 -6.617188 C 2.207031 -7.148438 2.96875 -7.417969 3.867188 -7.421875 C 4.867188 -7.417969 5.683594 -7.089844 6.316406 -6.441406 C 6.949219 -5.785156 7.265625 -4.882813 7.265625 -3.734375 C 7.265625 -2.796875 7.125 -2.0625 6.84375 -1.527344 C 6.5625 -0.992188 6.152344 -0.578125 5.621094 -0.28125 C 5.082031 0.015625 4.5 0.164063 3.867188 0.164063 C 2.851563 0.164063 2.027344 -0.160156 1.402344 -0.8125 C 0.773438 -1.460938 0.460938 -2.398438 0.464844 -3.628906 Z M 1.730469 -3.628906 C 1.726563 -2.695313 1.929688 -2 2.335938 -1.539063 C 2.738281 -1.074219 3.25 -0.84375 3.867188 -0.847656 C 4.476563 -0.84375 4.984375 -1.074219 5.390625 -1.542969 C 5.796875 -2.003906 6 -2.714844 6 -3.671875 C 6 -4.566406 5.792969 -5.246094 5.386719 -5.710938 C 4.976563 -6.171875 4.472656 -6.402344 3.867188 -6.40625 C 3.25 -6.402344 2.738281 -6.171875 2.335938 -5.714844 C 1.929688 -5.25 1.726563 -4.554688 1.730469 -3.628906 Z M 1.730469 -3.628906 \"/>\n",
       "</symbol>\n",
       "<symbol overflow=\"visible\" id=\"glyph0-15\">\n",
       "<path style=\"stroke:none;\" d=\"M 0.914063 -8.59375 L 0.914063 -10.023438 L 2.148438 -10.023438 L 2.148438 -8.59375 Z M -0.640625 2.816406 L -0.410156 1.769531 C -0.160156 1.832031 0.03125 1.863281 0.171875 1.867188 C 0.417969 1.863281 0.605469 1.78125 0.730469 1.617188 C 0.851563 1.449219 0.914063 1.03125 0.914063 0.367188 L 0.914063 -7.257813 L 2.148438 -7.257813 L 2.148438 0.398438 C 2.144531 1.289063 2.027344 1.910156 1.796875 2.261719 C 1.496094 2.714844 1.003906 2.941406 0.320313 2.945313 C -0.0117188 2.941406 -0.328125 2.898438 -0.640625 2.816406 Z M -0.640625 2.816406 \"/>\n",
       "</symbol>\n",
       "</g>\n",
       "</defs>\n",
       "<g id=\"surface2\">\n",
       "<rect x=\"0\" y=\"0\" width=\"200\" height=\"200\" style=\"fill:rgb(100%,100%,100%);fill-opacity:1;stroke:none;\"/>\n",
       "<path style=\"fill:none;stroke-width:1;stroke-linecap:butt;stroke-linejoin:miter;stroke:rgb(26.666667%,26.666667%,26.666667%);stroke-opacity:1;stroke-miterlimit:10;\" d=\"M 150 100 L 71.703125 139.148438 \"/>\n",
       "<path style=\" stroke:none;fill-rule:nonzero;fill:rgb(26.666667%,26.666667%,26.666667%);fill-opacity:1;\" d=\"M 58.945313 145.527344 L 69.632813 135.003906 L 73.777344 143.292969 L 58.945313 145.527344 \"/>\n",
       "<path style=\"fill:none;stroke-width:1;stroke-linecap:butt;stroke-linejoin:miter;stroke:rgb(26.666667%,26.666667%,26.666667%);stroke-opacity:1;stroke-miterlimit:10;\" d=\"M 50 150 L 50 74.265625 \"/>\n",
       "<path style=\" stroke:none;fill-rule:nonzero;fill:rgb(26.666667%,26.666667%,26.666667%);fill-opacity:1;\" d=\"M 50 60 L 54.636719 74.265625 L 45.363281 74.265625 L 50 60 \"/>\n",
       "<path style=\"fill:none;stroke-width:1;stroke-linecap:butt;stroke-linejoin:miter;stroke:rgb(26.666667%,26.666667%,26.666667%);stroke-opacity:1;stroke-miterlimit:10;\" d=\"M 150 100 L 71.703125 60.851563 \"/>\n",
       "<path style=\" stroke:none;fill-rule:nonzero;fill:rgb(26.666667%,26.666667%,26.666667%);fill-opacity:1;\" d=\"M 58.945313 54.472656 L 73.777344 56.707031 L 69.632813 64.996094 L 58.945313 54.472656 \"/>\n",
       "<path style=\"fill-rule:nonzero;fill:rgb(100%,0%,0%);fill-opacity:1;stroke-width:1;stroke-linecap:butt;stroke-linejoin:miter;stroke:rgb(0%,0%,0%);stroke-opacity:1;stroke-miterlimit:10;\" d=\"M 160 100 C 160 105.523438 155.523438 110 150 110 C 144.476563 110 140 105.523438 140 100 C 140 94.476563 144.476563 90 150 90 C 155.523438 90 160 94.476563 160 100 \"/>\n",
       "<path style=\"fill-rule:nonzero;fill:rgb(100%,0%,0%);fill-opacity:1;stroke-width:1;stroke-linecap:butt;stroke-linejoin:miter;stroke:rgb(0%,0%,0%);stroke-opacity:1;stroke-miterlimit:10;\" d=\"M 60 150 C 60 155.523438 55.523438 160 50 160 C 44.476563 160 40 155.523438 40 150 C 40 144.476563 44.476563 140 50 140 C 55.523438 140 60 144.476563 60 150 \"/>\n",
       "<path style=\"fill-rule:nonzero;fill:rgb(100%,0%,0%);fill-opacity:1;stroke-width:1;stroke-linecap:butt;stroke-linejoin:miter;stroke:rgb(0%,0%,0%);stroke-opacity:1;stroke-miterlimit:10;\" d=\"M 60 50 C 60 55.523438 55.523438 60 50 60 C 44.476563 60 40 55.523438 40 50 C 40 44.476563 44.476563 40 50 40 C 55.523438 40 60 44.476563 60 50 \"/>\n",
       "<g style=\"fill:rgb(0%,0%,0%);fill-opacity:1;\">\n",
       "  <use xlink:href=\"#glyph0-1\" x=\"131.496094\" y=\"106.511719\"/>\n",
       "  <use xlink:href=\"#glyph0-2\" x=\"139.282227\" y=\"106.511719\"/>\n",
       "  <use xlink:href=\"#glyph0-3\" x=\"142.392578\" y=\"106.511719\"/>\n",
       "  <use xlink:href=\"#glyph0-4\" x=\"150.178711\" y=\"106.511719\"/>\n",
       "  <use xlink:href=\"#glyph0-5\" x=\"157.178711\" y=\"106.511719\"/>\n",
       "  <use xlink:href=\"#glyph0-6\" x=\"160.289063\" y=\"106.511719\"/>\n",
       "</g>\n",
       "<g style=\"fill:rgb(0%,0%,0%);fill-opacity:1;\">\n",
       "  <use xlink:href=\"#glyph0-7\" x=\"18.257813\" y=\"156.511719\"/>\n",
       "  <use xlink:href=\"#glyph0-6\" x=\"29.919922\" y=\"156.511719\"/>\n",
       "  <use xlink:href=\"#glyph0-8\" x=\"37.706055\" y=\"156.511719\"/>\n",
       "  <use xlink:href=\"#glyph0-9\" x=\"45.492188\" y=\"156.511719\"/>\n",
       "  <use xlink:href=\"#glyph0-3\" x=\"53.27832\" y=\"156.511719\"/>\n",
       "  <use xlink:href=\"#glyph0-10\" x=\"61.064453\" y=\"156.511719\"/>\n",
       "  <use xlink:href=\"#glyph0-11\" x=\"68.850586\" y=\"156.511719\"/>\n",
       "  <use xlink:href=\"#glyph0-6\" x=\"73.512695\" y=\"156.511719\"/>\n",
       "</g>\n",
       "<g style=\"fill:rgb(0%,0%,0%);fill-opacity:1;\">\n",
       "  <use xlink:href=\"#glyph0-12\" x=\"8.046875\" y=\"56.511719\"/>\n",
       "  <use xlink:href=\"#glyph0-6\" x=\"15.046875\" y=\"56.511719\"/>\n",
       "  <use xlink:href=\"#glyph0-11\" x=\"22.833008\" y=\"56.511719\"/>\n",
       "  <use xlink:href=\"#glyph0-13\" x=\"27.495117\" y=\"56.511719\"/>\n",
       "  <use xlink:href=\"#glyph0-5\" x=\"35.28125\" y=\"56.511719\"/>\n",
       "  <use xlink:href=\"#glyph0-8\" x=\"38.391602\" y=\"56.511719\"/>\n",
       "  <use xlink:href=\"#glyph0-7\" x=\"46.177734\" y=\"56.511719\"/>\n",
       "  <use xlink:href=\"#glyph0-14\" x=\"57.839844\" y=\"56.511719\"/>\n",
       "  <use xlink:href=\"#glyph0-15\" x=\"65.625977\" y=\"56.511719\"/>\n",
       "  <use xlink:href=\"#glyph0-6\" x=\"68.736328\" y=\"56.511719\"/>\n",
       "  <use xlink:href=\"#glyph0-13\" x=\"76.522461\" y=\"56.511719\"/>\n",
       "  <use xlink:href=\"#glyph0-14\" x=\"84.308594\" y=\"56.511719\"/>\n",
       "</g>\n",
       "</g>\n",
       "</svg>\n"
      ],
      "text/plain": [
       "<igraph.drawing.Plot at 0xbb988e0>"
      ]
     },
     "execution_count": 6,
     "metadata": {
      "image/svg+xml": {
       "isolated": true
      }
     },
     "output_type": "execute_result"
    }
   ],
   "source": [
    "B.ver_red()"
   ]
  },
  {
   "cell_type": "markdown",
   "metadata": {},
   "source": [
    "---"
   ]
  },
  {
   "cell_type": "markdown",
   "metadata": {},
   "source": [
    "Para que se familiarice un poco con el atributo `.red`, el cual es un objeto igraph que representa el grafo subyacente, se sugiere realizar el siguiente ejercicio.\n",
    "\n",
    "**Ejercicio 3:**\n",
    "\n",
    "Complete la siguiente implementación de la función `clausura_ascendencia`, la cual toma una lista de variables y retorna una lista sin repeticiones que incluye tanto estas variables como todos sus respectivos padres y los padres de sus padres, etc. Por ejemplo, `clausura_ascendencia([JardinMojado])=[Lluvia, Manguera, JardinMojado]`. "
   ]
  },
  {
   "cell_type": "code",
   "execution_count": 7,
   "metadata": {},
   "outputs": [],
   "source": [
    "def clausura_ascendencia(self, variables):\n",
    "    lista = []\n",
    "    for variable in variables:\n",
    "        indice = self.red.vs.find(nombre=variable).index\n",
    "        nodo = self.red.vs[indice]\n",
    "        padres = nodo['padres']\n",
    "        if len(padres) == 0:\n",
    "            pass\n",
    "        else:\n",
    "            lista += self.clausura_ascendencia(padres)\n",
    "            lista = list(set(lista))\n",
    "    return lista + variables\n",
    "\n",
    "# Se incluye esta función como método de la clase `red_bayesiana`.\n",
    "setattr(red_bayesiana, \"clausura_ascendencia\", clausura_ascendencia)"
   ]
  },
  {
   "cell_type": "code",
   "execution_count": 8,
   "metadata": {},
   "outputs": [
    {
     "data": {
      "text/plain": [
       "['Manguera', 'Lluvia', 'JardinMojado']"
      ]
     },
     "execution_count": 8,
     "metadata": {},
     "output_type": "execute_result"
    }
   ],
   "source": [
    "B.clausura_ascendencia([\"JardinMojado\"])"
   ]
  },
  {
   "cell_type": "markdown",
   "metadata": {},
   "source": [
    "---"
   ]
  },
  {
   "cell_type": "markdown",
   "metadata": {},
   "source": [
    "### Implementación de las funciones de probabilidad\n",
    "\n",
    "En este momento ya tenemos la estructura de la red lista. Ahora la tarea es implementar las funciones de probabilidad. La primera de ellas es la probabilidad de que una variable tome un valor específico, dados los valores de todos sus padres (y de los padres de sus padres, etc.). Para ello, primero implementaremos una función muy útil, cuya tarea será determinar si un diccionario de la forma `{variable:valor}` incluye valores para toda la ascendencia (padres, los padres de los padres, etc.) de una variable dada.\n",
    "\n",
    "**Ejercicio 4:**\n",
    "\n",
    "Implemente la función `contiene_ascendencia`, la cual toma una `variable` y un diccionario de la forma `{variable:valor}` y verifica que incluye valores para todos sus padres (y los padres de sus padres, etc.). Observe que no se requiere que el diccionario incluya valores para `variable`."
   ]
  },
  {
   "cell_type": "code",
   "execution_count": 9,
   "metadata": {},
   "outputs": [],
   "source": [
    "def contiene_ascendencia(self, variable, variables):\n",
    "    ascendencia = self.clausura_ascendencia([variable])\n",
    "    ascendencia.remove(variable)\n",
    "    return set(ascendencia).issubset(set(variables))\n",
    "\n",
    "setattr(red_bayesiana, \"contiene_ascendencia\", contiene_ascendencia)"
   ]
  },
  {
   "cell_type": "code",
   "execution_count": 10,
   "metadata": {},
   "outputs": [
    {
     "data": {
      "text/plain": [
       "True"
      ]
     },
     "execution_count": 10,
     "metadata": {},
     "output_type": "execute_result"
    }
   ],
   "source": [
    "B.contiene_ascendencia(\"JardinMojado\", [\"Manguera\",\"Lluvia\"])"
   ]
  },
  {
   "cell_type": "markdown",
   "metadata": {},
   "source": [
    "---"
   ]
  },
  {
   "cell_type": "markdown",
   "metadata": {},
   "source": [
    "La primera función que implementamos consiste en devolver la probabilidad de que `variable` tome un valor específico, dados los valores de todos sus padres (y de los padres de sus padres, etc.). La implementación es un poco intrincada, debido a los tres tipos posibles de tablas de verdad, basados en si la variable no tiene padres, uno solo, o varios. Se presenta comleta en la siguiente celda."
   ]
  },
  {
   "cell_type": "code",
   "execution_count": 11,
   "metadata": {},
   "outputs": [],
   "source": [
    "def P_cond(self, variable, valor, variables_valores):\n",
    "    if self.contiene_ascendencia(variable, variables_valores.keys()):\n",
    "        indice = self.red.vs.find(nombre=variable).index\n",
    "        nodo = self.red.vs[indice]\n",
    "        padres = nodo['padres']\n",
    "        indice_valor = nodo['valores'].index(valor)\n",
    "        if len(padres) == 0:\n",
    "            return nodo['probabilidades'][indice_valor]\n",
    "        elif len(padres) == 1:\n",
    "            madre = padres[0]\n",
    "            valor_madre = variables_valores[madre]\n",
    "            return nodo['probabilidades'][valor_madre][indice_valor]\n",
    "        else:\n",
    "            valor = tuple([variables_valores[v] for v in nodo['padres']])\n",
    "            return nodo['probabilidades'][valor][indice_valor]\n",
    "    else:\n",
    "        print(\"Faltan valores de variables. Una alternativa que puede usar es el método consulta().\")\n",
    "        raise\n",
    "\n",
    "setattr(red_bayesiana, \"P_cond\", P_cond)"
   ]
  },
  {
   "cell_type": "code",
   "execution_count": 12,
   "metadata": {},
   "outputs": [
    {
     "data": {
      "text/plain": [
       "0.4"
      ]
     },
     "execution_count": 12,
     "metadata": {},
     "output_type": "execute_result"
    }
   ],
   "source": [
    "B.P_cond(\"Manguera\", \"verdadero\", {\"Lluvia\":\"falso\"})"
   ]
  },
  {
   "cell_type": "markdown",
   "metadata": {},
   "source": [
    "La tarea ahora es implementar la función semántica de las redes bayesianas. Recuerde que la estructura de este tipo de reds permite determinar cualquier **probabilidad conjunta** de una serie de variables. Comenzaremos con la suposición de que dicha serie es cerrada bajo ascendencia:\n",
    "\n",
    "$P(X_1,\\ldots,X_n)=\\Pi_{i_1}^n P(X_i|Padres(X_i))$, donde $Padres(X_i)\\subseteq\\{X_1,\\ldots,X_n\\}$.\n",
    "\n",
    "**Ejercicio 5:**\n",
    "\n",
    "Use el método `P_cond` para implementar la función `P_conj`, la cual devuelve **la probabilidad conjunta** de los valores de una serie de variables, la cual viene implementada como un diccionario de la forma `{variable:valor}`. "
   ]
  },
  {
   "cell_type": "code",
   "execution_count": 13,
   "metadata": {},
   "outputs": [],
   "source": [
    "def P_conj(self, variables_valores):\n",
    "    Prob_conj=1\n",
    "    for variable in variables_valores:\n",
    "            prob = self.P_cond(variable,variables_valores[variable],variables_valores)\n",
    "            Prob_conj = Prob_conj*prob\n",
    "    return Prob_conj\n",
    "\n",
    "setattr(red_bayesiana, \"P_conj\", P_conj)"
   ]
  },
  {
   "cell_type": "code",
   "execution_count": 14,
   "metadata": {},
   "outputs": [
    {
     "data": {
      "text/plain": [
       "0.198"
      ]
     },
     "execution_count": 14,
     "metadata": {},
     "output_type": "execute_result"
    }
   ],
   "source": [
    "B.P_conj({\"Lluvia\":\"verdadero\", \"Manguera\":\"falso\"})"
   ]
  },
  {
   "cell_type": "markdown",
   "metadata": {},
   "source": [
    "---"
   ]
  },
  {
   "cell_type": "markdown",
   "metadata": {},
   "source": [
    "La tercera función de probabilidad que implementaremos es la de **probabilidad marginal**, la cual devuelve la probabilidad conjunta de una lista de variables, pero en la cual falta información (valores para alguno de los ascendientes de las variables). Estas variables faltantes las simbolizaremos por $Y$, de tal manera que la probabilidad marginal la obtenemos mediante la siguiente fórmula:\n",
    "\n",
    "$P(X_1,\\ldots,X_n)=\\sum_Y P(X_1,\\ldots,X_n,Y)$\n",
    "\n",
    "La implementación de esta función también es un poco intrincada, así que presentamos el código completo en la siguiente celda:"
   ]
  },
  {
   "cell_type": "code",
   "execution_count": 15,
   "metadata": {},
   "outputs": [],
   "source": [
    "def P_marg(self, variables_valores):\n",
    "    variables = self.red.vs['nombre']\n",
    "    variables_consulta = list(variables_valores.keys())\n",
    "    variables_ocultas = self.clausura_ascendencia(variables_consulta)\n",
    "    variables_ocultas = [v for v in variables_ocultas if v not in variables_consulta]\n",
    "    indices = [self.red.vs.find(nombre=n).index for n in variables_ocultas]\n",
    "    valores = [self.red.vs[i]['valores'] for i in indices]\n",
    "    tuplas = list(itertools.product(*valores))\n",
    "    suma = 0\n",
    "    for tupla in tuplas:\n",
    "        dict_aux = variables_valores.copy()\n",
    "        for i in range(len(tupla)):\n",
    "            dict_aux[self.red.vs['nombre'][indices[i]]] = tupla[i]\n",
    "        p = self.P_conj(dict_aux)\n",
    "        suma += p\n",
    "    return suma\n",
    "\n",
    "setattr(red_bayesiana, \"P_marg\", P_marg)"
   ]
  },
  {
   "cell_type": "code",
   "execution_count": 16,
   "metadata": {},
   "outputs": [
    {
     "data": {
      "text/plain": [
       "0.32200000000000006"
      ]
     },
     "execution_count": 16,
     "metadata": {},
     "output_type": "execute_result"
    }
   ],
   "source": [
    "B.P_marg({\"Manguera\":\"verdadero\"})"
   ]
  },
  {
   "cell_type": "markdown",
   "metadata": {},
   "source": [
    "### Consultas\n",
    "\n",
    "Tenemos ya todas las herramientas para calcular cualquier consulta que se nos presente. Las consultas consisten en saber cuál es la probabilidad de que una variable o variables tomen un valor o valores determinados. Consideraremos dos tipos de consultas, aunque ambas irán en la misma función. \n",
    "\n",
    "El primero es cuando no hay evidencia disponible. En este caso, la respuesta a la consulta es simplemente la probabilidad **marginal** de que las variables tomen los valores respectivos. \n",
    "\n",
    "El segundo tipo es cuando hay evidencia disponible $E$ (que viene dada en forma de un diccionario `{variable:valor}`). Aquí, la respuesta a la consulta es la probabilidad **condicional** de que las variables tomen los valores respectivos dada la evidencia. Para encontrar esta probabilidad con base en las funciones ya definidas mediante la fórmula `P_marg(variables_valores + evidencia)`/`P_marg(evidencia)`.\n",
    "\n",
    "La evidencia se guardará en el atributo `.evidencia` del objeto `red_bayesiana`."
   ]
  },
  {
   "cell_type": "code",
   "execution_count": 17,
   "metadata": {},
   "outputs": [],
   "source": [
    "def incluir_evidencia(self, nombre, valor):\n",
    "    self.evidencia[nombre] = valor\n",
    "    \n",
    "setattr(red_bayesiana, \"incluir_evidencia\", incluir_evidencia)"
   ]
  },
  {
   "cell_type": "code",
   "execution_count": 18,
   "metadata": {},
   "outputs": [],
   "source": [
    "B.incluir_evidencia(\"JardinMojado\", \"verdadero\")"
   ]
  },
  {
   "cell_type": "code",
   "execution_count": 33,
   "metadata": {},
   "outputs": [
    {
     "data": {
      "text/plain": [
       "{'JardinMojado': 'verdadero'}"
      ]
     },
     "execution_count": 33,
     "metadata": {},
     "output_type": "execute_result"
    }
   ],
   "source": [
    "B.evidencia"
   ]
  },
  {
   "cell_type": "markdown",
   "metadata": {},
   "source": [
    "**Ejercicio 6:**\n",
    "\n",
    "Implemente la función `consulta` la cual toma una lista de variables con sus respectivos valores y calcula la consulta, teniendo en cuenta si hay evidencia disponible o no."
   ]
  },
  {
   "cell_type": "code",
   "execution_count": 21,
   "metadata": {},
   "outputs": [],
   "source": [
    "def consulta(self, variables_valores):\n",
    "    if (bool(self.evidencia)): # Si no hay evidencia\n",
    "        x = {**variables_valores,**self.evidencia} #Remplaza los probabilidas por los que ya sabemos como evidencia\n",
    "        prob_temp = self.P_marg(x)/self.P_marg(self.evidencia)\n",
    "        print(\"La probabilidad de\",variables_valores,\"\\n dada la evidencia \",self.evidencia,\"es\",prob_temp)\n",
    "    else:\n",
    "        prob_temp = self.P_marg(variables_valores)\n",
    "        print(\"La probabilidad de\",variables_valores,\"\\n sin evidencia es\",prob_temp)\n",
    "    \n",
    "\n",
    "setattr(red_bayesiana, \"consulta\", consulta)"
   ]
  },
  {
   "cell_type": "code",
   "execution_count": 22,
   "metadata": {},
   "outputs": [
    {
     "name": "stdout",
     "output_type": "stream",
     "text": [
      "La probabilidad de {'Lluvia': 'verdadero'} \n",
      " dada la evidencia  {'JardinMojado': 'verdadero'} es 0.3576876756322763\n"
     ]
    }
   ],
   "source": [
    "B.consulta({\"Lluvia\":\"verdadero\"})"
   ]
  },
  {
   "cell_type": "markdown",
   "metadata": {},
   "source": [
    "**Ejercicio 7:**\n",
    "\n",
    "Implemente la red bayesiana del ejercicio 2 de las diapositivas y determine la probabilidad de robo dado que John y Mary llaman.\n",
    "\n",
    "<img src=\"./imagenes/ejercicio2.png\" width=\"600\">"
   ]
  },
  {
   "cell_type": "code",
   "execution_count": 35,
   "metadata": {},
   "outputs": [
    {
     "name": "stdout",
     "output_type": "stream",
     "text": [
      "Dependencia creada: Robo --> Alarma\n",
      "Dependencia creada: Temblor --> Alarma\n",
      "Dependencia creada: Alarma --> JohnCalls\n",
      "Dependencia creada: Alarma --> MaryCalls\n"
     ]
    },
    {
     "data": {
      "image/svg+xml": [
       "<?xml version=\"1.0\" encoding=\"UTF-8\"?>\n",
       "<svg xmlns=\"http://www.w3.org/2000/svg\" xmlns:xlink=\"http://www.w3.org/1999/xlink\" width=\"200pt\" height=\"200pt\" viewBox=\"0 0 200 200\" version=\"1.1\">\n",
       "<defs>\n",
       "<g>\n",
       "<symbol overflow=\"visible\" id=\"glyph0-0\">\n",
       "<path style=\"stroke:none;\" d=\"M 1.75 0 L 1.75 -8.75 L 8.75 -8.75 L 8.75 0 Z M 1.96875 -0.21875 L 8.53125 -0.21875 L 8.53125 -8.53125 L 1.96875 -8.53125 Z M 1.96875 -0.21875 \"/>\n",
       "</symbol>\n",
       "<symbol overflow=\"visible\" id=\"glyph0-1\">\n",
       "<path style=\"stroke:none;\" d=\"M 1.101563 0 L 1.101563 -10.023438 L 5.542969 -10.023438 C 6.433594 -10.019531 7.109375 -9.929688 7.578125 -9.75 C 8.039063 -9.570313 8.414063 -9.25 8.695313 -8.796875 C 8.972656 -8.335938 9.109375 -7.835938 9.113281 -7.289063 C 9.109375 -6.574219 8.878906 -5.972656 8.421875 -5.488281 C 7.957031 -5 7.246094 -4.691406 6.289063 -4.558594 C 6.636719 -4.386719 6.90625 -4.21875 7.089844 -4.0625 C 7.476563 -3.703125 7.839844 -3.257813 8.1875 -2.726563 L 9.933594 0 L 8.265625 0 L 6.9375 -2.085938 C 6.550781 -2.6875 6.230469 -3.144531 5.980469 -3.464844 C 5.726563 -3.78125 5.503906 -4.007813 5.308594 -4.136719 C 5.109375 -4.261719 4.90625 -4.347656 4.703125 -4.402344 C 4.550781 -4.429688 4.304688 -4.445313 3.964844 -4.449219 L 2.425781 -4.449219 L 2.425781 0 Z M 2.425781 -5.597656 L 5.277344 -5.597656 C 5.882813 -5.59375 6.355469 -5.65625 6.699219 -5.785156 C 7.035156 -5.910156 7.296875 -6.113281 7.476563 -6.386719 C 7.65625 -6.660156 7.746094 -6.960938 7.746094 -7.289063 C 7.746094 -7.761719 7.570313 -8.148438 7.226563 -8.457031 C 6.878906 -8.757813 6.335938 -8.910156 5.597656 -8.914063 L 2.425781 -8.914063 Z M 2.425781 -5.597656 \"/>\n",
       "</symbol>\n",
       "<symbol overflow=\"visible\" id=\"glyph0-2\">\n",
       "<path style=\"stroke:none;\" d=\"M 0.464844 -3.628906 C 0.460938 -4.972656 0.835938 -5.96875 1.585938 -6.617188 C 2.207031 -7.148438 2.96875 -7.417969 3.867188 -7.421875 C 4.867188 -7.417969 5.683594 -7.089844 6.316406 -6.441406 C 6.949219 -5.785156 7.265625 -4.882813 7.265625 -3.734375 C 7.265625 -2.796875 7.125 -2.0625 6.84375 -1.527344 C 6.5625 -0.992188 6.152344 -0.578125 5.621094 -0.28125 C 5.082031 0.015625 4.5 0.164063 3.867188 0.164063 C 2.851563 0.164063 2.027344 -0.160156 1.402344 -0.8125 C 0.773438 -1.460938 0.460938 -2.398438 0.464844 -3.628906 Z M 1.730469 -3.628906 C 1.726563 -2.695313 1.929688 -2 2.335938 -1.539063 C 2.738281 -1.074219 3.25 -0.84375 3.867188 -0.847656 C 4.476563 -0.84375 4.984375 -1.074219 5.390625 -1.542969 C 5.796875 -2.003906 6 -2.714844 6 -3.671875 C 6 -4.566406 5.792969 -5.246094 5.386719 -5.710938 C 4.976563 -6.171875 4.472656 -6.402344 3.867188 -6.40625 C 3.25 -6.402344 2.738281 -6.171875 2.335938 -5.714844 C 1.929688 -5.25 1.726563 -4.554688 1.730469 -3.628906 Z M 1.730469 -3.628906 \"/>\n",
       "</symbol>\n",
       "<symbol overflow=\"visible\" id=\"glyph0-3\">\n",
       "<path style=\"stroke:none;\" d=\"M 2.058594 0 L 0.914063 0 L 0.914063 -10.023438 L 2.148438 -10.023438 L 2.148438 -6.445313 C 2.664063 -7.09375 3.328125 -7.417969 4.136719 -7.421875 C 4.582031 -7.417969 5.003906 -7.328125 5.402344 -7.152344 C 5.800781 -6.96875 6.128906 -6.714844 6.386719 -6.394531 C 6.644531 -6.066406 6.84375 -5.675781 6.992188 -5.214844 C 7.132813 -4.753906 7.207031 -4.261719 7.210938 -3.738281 C 7.207031 -2.496094 6.898438 -1.535156 6.289063 -0.855469 C 5.671875 -0.175781 4.933594 0.164063 4.074219 0.164063 C 3.214844 0.164063 2.542969 -0.191406 2.058594 -0.910156 Z M 2.042969 -3.683594 C 2.039063 -2.8125 2.15625 -2.183594 2.398438 -1.796875 C 2.78125 -1.160156 3.308594 -0.84375 3.972656 -0.847656 C 4.507813 -0.84375 4.96875 -1.078125 5.363281 -1.546875 C 5.753906 -2.015625 5.953125 -2.710938 5.953125 -3.636719 C 5.953125 -4.582031 5.765625 -5.28125 5.390625 -5.734375 C 5.015625 -6.183594 4.558594 -6.410156 4.027344 -6.414063 C 3.484375 -6.410156 3.019531 -6.175781 2.628906 -5.710938 C 2.234375 -5.242188 2.039063 -4.566406 2.042969 -3.683594 Z M 2.042969 -3.683594 \"/>\n",
       "</symbol>\n",
       "<symbol overflow=\"visible\" id=\"glyph0-4\">\n",
       "<path style=\"stroke:none;\" d=\"M 0.402344 -2.84375 L 1.601563 -3.007813 C 1.628906 -2.238281 1.773438 -1.714844 2.03125 -1.433594 C 2.285156 -1.148438 2.636719 -1.007813 3.089844 -1.011719 C 3.417969 -1.007813 3.707031 -1.082031 3.949219 -1.238281 C 4.191406 -1.386719 4.355469 -1.597656 4.449219 -1.863281 C 4.535156 -2.125 4.582031 -2.542969 4.585938 -3.117188 L 4.585938 -10.023438 L 5.914063 -10.023438 L 5.914063 -3.191406 C 5.910156 -2.351563 5.808594 -1.703125 5.609375 -1.242188 C 5.402344 -0.78125 5.082031 -0.429688 4.644531 -0.191406 C 4.203125 0.0507813 3.6875 0.167969 3.097656 0.171875 C 2.214844 0.167969 1.539063 -0.0820313 1.074219 -0.585938 C 0.605469 -1.09375 0.382813 -1.84375 0.402344 -2.84375 Z M 0.402344 -2.84375 \"/>\n",
       "</symbol>\n",
       "<symbol overflow=\"visible\" id=\"glyph0-5\">\n",
       "<path style=\"stroke:none;\" d=\"M 0.921875 0 L 0.921875 -10.023438 L 2.152344 -10.023438 L 2.152344 -6.425781 C 2.722656 -7.085938 3.449219 -7.417969 4.328125 -7.421875 C 4.863281 -7.417969 5.328125 -7.3125 5.726563 -7.105469 C 6.121094 -6.890625 6.40625 -6.597656 6.578125 -6.226563 C 6.746094 -5.851563 6.832031 -5.308594 6.835938 -4.601563 L 6.835938 0 L 5.605469 0 L 5.605469 -4.601563 C 5.601563 -5.210938 5.46875 -5.660156 5.203125 -5.941406 C 4.9375 -6.222656 4.558594 -6.363281 4.074219 -6.363281 C 3.707031 -6.363281 3.363281 -6.265625 3.042969 -6.078125 C 2.71875 -5.886719 2.492188 -5.632813 2.355469 -5.3125 C 2.21875 -4.988281 2.148438 -4.542969 2.152344 -3.972656 L 2.152344 0 Z M 0.921875 0 \"/>\n",
       "</symbol>\n",
       "<symbol overflow=\"visible\" id=\"glyph0-6\">\n",
       "<path style=\"stroke:none;\" d=\"M 0.921875 0 L 0.921875 -7.257813 L 2.03125 -7.257813 L 2.03125 -6.226563 C 2.558594 -7.019531 3.328125 -7.417969 4.339844 -7.421875 C 4.773438 -7.417969 5.175781 -7.339844 5.546875 -7.1875 C 5.910156 -7.027344 6.183594 -6.820313 6.371094 -6.570313 C 6.550781 -6.3125 6.679688 -6.011719 6.753906 -5.660156 C 6.796875 -5.433594 6.820313 -5.035156 6.820313 -4.464844 L 6.820313 0 L 5.59375 0 L 5.59375 -4.414063 C 5.589844 -4.914063 5.542969 -5.289063 5.449219 -5.539063 C 5.351563 -5.785156 5.179688 -5.984375 4.9375 -6.136719 C 4.691406 -6.28125 4.40625 -6.355469 4.082031 -6.359375 C 3.554688 -6.355469 3.101563 -6.191406 2.722656 -5.859375 C 2.339844 -5.523438 2.148438 -4.890625 2.152344 -3.964844 L 2.152344 0 Z M 0.921875 0 \"/>\n",
       "</symbol>\n",
       "<symbol overflow=\"visible\" id=\"glyph0-7\">\n",
       "<path style=\"stroke:none;\" d=\"M 8.230469 -3.515625 L 9.554688 -3.179688 C 9.277344 -2.089844 8.777344 -1.257813 8.054688 -0.6875 C 7.332031 -0.113281 6.449219 0.167969 5.40625 0.171875 C 4.324219 0.167969 3.445313 -0.046875 2.773438 -0.488281 C 2.09375 -0.925781 1.578125 -1.5625 1.226563 -2.398438 C 0.867188 -3.226563 0.691406 -4.125 0.695313 -5.085938 C 0.691406 -6.128906 0.890625 -7.039063 1.292969 -7.816406 C 1.691406 -8.59375 2.257813 -9.183594 2.996094 -9.585938 C 3.730469 -9.988281 4.542969 -10.1875 5.429688 -10.191406 C 6.425781 -10.1875 7.269531 -9.933594 7.957031 -9.425781 C 8.640625 -8.914063 9.117188 -8.195313 9.386719 -7.273438 L 8.078125 -6.964844 C 7.84375 -7.691406 7.507813 -8.222656 7.066406 -8.558594 C 6.625 -8.890625 6.066406 -9.058594 5.398438 -9.058594 C 4.625 -9.058594 3.984375 -8.871094 3.46875 -8.503906 C 2.953125 -8.128906 2.589844 -7.632813 2.378906 -7.015625 C 2.167969 -6.390625 2.0625 -5.75 2.0625 -5.09375 C 2.0625 -4.234375 2.183594 -3.492188 2.433594 -2.859375 C 2.679688 -2.222656 3.066406 -1.746094 3.59375 -1.433594 C 4.117188 -1.117188 4.6875 -0.960938 5.296875 -0.964844 C 6.039063 -0.960938 6.667969 -1.175781 7.183594 -1.605469 C 7.699219 -2.035156 8.046875 -2.671875 8.230469 -3.515625 Z M 8.230469 -3.515625 \"/>\n",
       "</symbol>\n",
       "<symbol overflow=\"visible\" id=\"glyph0-8\">\n",
       "<path style=\"stroke:none;\" d=\"M 5.660156 -0.894531 C 5.203125 -0.503906 4.761719 -0.230469 4.34375 -0.0742188 C 3.917969 0.0859375 3.46875 0.164063 2.988281 0.164063 C 2.1875 0.164063 1.574219 -0.0273438 1.148438 -0.417969 C 0.71875 -0.804688 0.503906 -1.304688 0.507813 -1.914063 C 0.503906 -2.265625 0.585938 -2.589844 0.75 -2.886719 C 0.910156 -3.179688 1.121094 -3.414063 1.382813 -3.59375 C 1.644531 -3.769531 1.9375 -3.90625 2.269531 -4 C 2.507813 -4.058594 2.875 -4.121094 3.363281 -4.183594 C 4.355469 -4.300781 5.085938 -4.441406 5.558594 -4.609375 C 5.558594 -4.773438 5.558594 -4.878906 5.5625 -4.929688 C 5.558594 -5.425781 5.445313 -5.78125 5.214844 -5.988281 C 4.898438 -6.265625 4.429688 -6.402344 3.8125 -6.40625 C 3.230469 -6.402344 2.804688 -6.300781 2.53125 -6.101563 C 2.253906 -5.894531 2.050781 -5.535156 1.921875 -5.023438 L 0.71875 -5.1875 C 0.824219 -5.699219 1.003906 -6.117188 1.257813 -6.433594 C 1.503906 -6.75 1.867188 -6.992188 2.34375 -7.164063 C 2.816406 -7.332031 3.363281 -7.417969 3.992188 -7.421875 C 4.609375 -7.417969 5.113281 -7.34375 5.503906 -7.203125 C 5.886719 -7.054688 6.171875 -6.871094 6.359375 -6.652344 C 6.539063 -6.429688 6.667969 -6.152344 6.742188 -5.816406 C 6.777344 -5.605469 6.796875 -5.226563 6.800781 -4.683594 L 6.800781 -3.042969 C 6.796875 -1.894531 6.824219 -1.171875 6.878906 -0.871094 C 6.933594 -0.566406 7.035156 -0.277344 7.191406 0 L 5.90625 0 C 5.777344 -0.253906 5.695313 -0.550781 5.660156 -0.894531 Z M 5.558594 -3.644531 C 5.109375 -3.460938 4.4375 -3.304688 3.546875 -3.179688 C 3.039063 -3.105469 2.683594 -3.023438 2.472656 -2.933594 C 2.261719 -2.839844 2.097656 -2.707031 1.988281 -2.53125 C 1.871094 -2.355469 1.816406 -2.160156 1.820313 -1.949219 C 1.816406 -1.617188 1.941406 -1.34375 2.191406 -1.128906 C 2.4375 -0.90625 2.800781 -0.796875 3.28125 -0.800781 C 3.753906 -0.796875 4.175781 -0.898438 4.546875 -1.109375 C 4.914063 -1.3125 5.183594 -1.597656 5.359375 -1.960938 C 5.488281 -2.238281 5.554688 -2.648438 5.558594 -3.191406 Z M 5.558594 -3.644531 \"/>\n",
       "</symbol>\n",
       "<symbol overflow=\"visible\" id=\"glyph0-9\">\n",
       "<path style=\"stroke:none;\" d=\"M 0.894531 0 L 0.894531 -10.023438 L 2.125 -10.023438 L 2.125 0 Z M 0.894531 0 \"/>\n",
       "</symbol>\n",
       "<symbol overflow=\"visible\" id=\"glyph0-10\">\n",
       "<path style=\"stroke:none;\" d=\"M 0.429688 -2.167969 L 1.648438 -2.359375 C 1.710938 -1.867188 1.902344 -1.492188 2.21875 -1.234375 C 2.527344 -0.972656 2.964844 -0.84375 3.527344 -0.847656 C 4.089844 -0.84375 4.507813 -0.957031 4.785156 -1.191406 C 5.054688 -1.417969 5.191406 -1.691406 5.195313 -2.003906 C 5.191406 -2.28125 5.070313 -2.5 4.832031 -2.660156 C 4.660156 -2.769531 4.242188 -2.90625 3.574219 -3.078125 C 2.671875 -3.300781 2.046875 -3.5 1.699219 -3.667969 C 1.347656 -3.832031 1.082031 -4.058594 0.90625 -4.355469 C 0.722656 -4.644531 0.632813 -4.972656 0.636719 -5.332031 C 0.632813 -5.652344 0.707031 -5.949219 0.855469 -6.230469 C 1.003906 -6.503906 1.203125 -6.734375 1.460938 -6.917969 C 1.648438 -7.054688 1.910156 -7.171875 2.246094 -7.273438 C 2.574219 -7.367188 2.929688 -7.417969 3.308594 -7.421875 C 3.875 -7.417969 4.375 -7.335938 4.808594 -7.175781 C 5.234375 -7.007813 5.550781 -6.785156 5.761719 -6.507813 C 5.964844 -6.226563 6.109375 -5.851563 6.1875 -5.386719 L 4.984375 -5.222656 C 4.925781 -5.589844 4.765625 -5.882813 4.507813 -6.097656 C 4.242188 -6.304688 3.875 -6.410156 3.398438 -6.414063 C 2.832031 -6.410156 2.425781 -6.316406 2.1875 -6.132813 C 1.941406 -5.941406 1.820313 -5.722656 1.824219 -5.476563 C 1.820313 -5.3125 1.871094 -5.167969 1.976563 -5.046875 C 2.070313 -4.910156 2.226563 -4.800781 2.445313 -4.71875 C 2.566406 -4.667969 2.929688 -4.5625 3.535156 -4.402344 C 4.402344 -4.167969 5.011719 -3.980469 5.355469 -3.832031 C 5.699219 -3.683594 5.96875 -3.464844 6.164063 -3.183594 C 6.359375 -2.898438 6.457031 -2.550781 6.460938 -2.132813 C 6.457031 -1.71875 6.335938 -1.332031 6.101563 -0.972656 C 5.859375 -0.609375 5.515625 -0.328125 5.066406 -0.132813 C 4.613281 0.0664063 4.101563 0.164063 3.535156 0.164063 C 2.585938 0.164063 1.867188 -0.03125 1.375 -0.421875 C 0.878906 -0.8125 0.5625 -1.394531 0.429688 -2.167969 Z M 0.429688 -2.167969 \"/>\n",
       "</symbol>\n",
       "<symbol overflow=\"visible\" id=\"glyph0-11\">\n",
       "<path style=\"stroke:none;\" d=\"M 3.628906 0 L 3.628906 -8.839844 L 0.328125 -8.839844 L 0.328125 -10.023438 L 8.273438 -10.023438 L 8.273438 -8.839844 L 4.957031 -8.839844 L 4.957031 0 Z M 3.628906 0 \"/>\n",
       "</symbol>\n",
       "<symbol overflow=\"visible\" id=\"glyph0-12\">\n",
       "<path style=\"stroke:none;\" d=\"M 5.890625 -2.335938 L 7.164063 -2.179688 C 6.960938 -1.4375 6.589844 -0.859375 6.046875 -0.449219 C 5.503906 -0.0390625 4.8125 0.164063 3.972656 0.164063 C 2.910156 0.164063 2.066406 -0.160156 1.445313 -0.816406 C 0.820313 -1.464844 0.507813 -2.382813 0.511719 -3.570313 C 0.507813 -4.785156 0.824219 -5.734375 1.453125 -6.410156 C 2.082031 -7.082031 2.898438 -7.417969 3.902344 -7.421875 C 4.871094 -7.417969 5.664063 -7.085938 6.28125 -6.429688 C 6.894531 -5.765625 7.199219 -4.839844 7.203125 -3.644531 C 7.199219 -3.570313 7.199219 -3.460938 7.199219 -3.316406 L 1.785156 -3.316406 C 1.828125 -2.515625 2.054688 -1.902344 2.460938 -1.480469 C 2.867188 -1.054688 3.371094 -0.84375 3.976563 -0.847656 C 4.425781 -0.84375 4.8125 -0.960938 5.132813 -1.203125 C 5.453125 -1.4375 5.703125 -1.816406 5.890625 -2.335938 Z M 1.851563 -4.328125 L 5.90625 -4.328125 C 5.851563 -4.933594 5.695313 -5.390625 5.441406 -5.703125 C 5.046875 -6.171875 4.539063 -6.410156 3.917969 -6.414063 C 3.351563 -6.410156 2.875 -6.21875 2.492188 -5.84375 C 2.101563 -5.460938 1.890625 -4.957031 1.851563 -4.328125 Z M 1.851563 -4.328125 \"/>\n",
       "</symbol>\n",
       "<symbol overflow=\"visible\" id=\"glyph0-13\">\n",
       "<path style=\"stroke:none;\" d=\"M 0.921875 0 L 0.921875 -7.257813 L 2.023438 -7.257813 L 2.023438 -6.242188 C 2.25 -6.59375 2.554688 -6.878906 2.933594 -7.097656 C 3.308594 -7.308594 3.738281 -7.417969 4.226563 -7.421875 C 4.757813 -7.417969 5.199219 -7.304688 5.546875 -7.085938 C 5.886719 -6.859375 6.128906 -6.550781 6.273438 -6.152344 C 6.847656 -6.996094 7.59375 -7.417969 8.515625 -7.421875 C 9.234375 -7.417969 9.789063 -7.21875 10.175781 -6.824219 C 10.5625 -6.421875 10.757813 -5.808594 10.757813 -4.984375 L 10.757813 0 L 9.535156 0 L 9.535156 -4.574219 C 9.53125 -5.0625 9.492188 -5.417969 9.414063 -5.636719 C 9.332031 -5.851563 9.1875 -6.023438 8.980469 -6.160156 C 8.769531 -6.289063 8.523438 -6.355469 8.242188 -6.359375 C 7.730469 -6.355469 7.308594 -6.1875 6.972656 -5.847656 C 6.636719 -5.507813 6.46875 -4.964844 6.46875 -4.21875 L 6.46875 0 L 5.234375 0 L 5.234375 -4.71875 C 5.230469 -5.261719 5.132813 -5.671875 4.933594 -5.949219 C 4.730469 -6.21875 4.402344 -6.355469 3.953125 -6.359375 C 3.601563 -6.355469 3.28125 -6.265625 2.988281 -6.085938 C 2.695313 -5.902344 2.480469 -5.636719 2.351563 -5.285156 C 2.214844 -4.933594 2.148438 -4.425781 2.152344 -3.765625 L 2.152344 0 Z M 0.921875 0 \"/>\n",
       "</symbol>\n",
       "<symbol overflow=\"visible\" id=\"glyph0-14\">\n",
       "<path style=\"stroke:none;\" d=\"M 0.910156 0 L 0.910156 -7.257813 L 2.015625 -7.257813 L 2.015625 -6.160156 C 2.296875 -6.667969 2.554688 -7.007813 2.796875 -7.175781 C 3.03125 -7.335938 3.296875 -7.417969 3.589844 -7.421875 C 4 -7.417969 4.421875 -7.285156 4.851563 -7.027344 L 4.429688 -5.886719 C 4.125 -6.0625 3.824219 -6.152344 3.527344 -6.152344 C 3.257813 -6.152344 3.015625 -6.070313 2.800781 -5.910156 C 2.585938 -5.746094 2.433594 -5.519531 2.34375 -5.234375 C 2.207031 -4.792969 2.136719 -4.316406 2.140625 -3.800781 L 2.140625 0 Z M 0.910156 0 \"/>\n",
       "</symbol>\n",
       "<symbol overflow=\"visible\" id=\"glyph0-15\">\n",
       "<path style=\"stroke:none;\" d=\"M 1.039063 0 L 1.039063 -10.023438 L 3.035156 -10.023438 L 5.40625 -2.925781 C 5.621094 -2.261719 5.78125 -1.769531 5.886719 -1.441406 C 5.996094 -1.804688 6.171875 -2.339844 6.417969 -3.046875 L 8.820313 -10.023438 L 10.601563 -10.023438 L 10.601563 0 L 9.324219 0 L 9.324219 -8.386719 L 6.414063 0 L 5.214844 0 L 2.316406 -8.53125 L 2.316406 0 Z M 1.039063 0 \"/>\n",
       "</symbol>\n",
       "<symbol overflow=\"visible\" id=\"glyph0-16\">\n",
       "<path style=\"stroke:none;\" d=\"M 0.867188 2.796875 L 0.730469 1.640625 C 0.996094 1.710938 1.230469 1.746094 1.4375 1.75 C 1.703125 1.746094 1.921875 1.699219 2.089844 1.613281 C 2.25 1.519531 2.386719 1.394531 2.496094 1.230469 C 2.570313 1.105469 2.695313 0.796875 2.871094 0.3125 C 2.894531 0.242188 2.929688 0.144531 2.980469 0.015625 L 0.226563 -7.257813 L 1.550781 -7.257813 L 3.0625 -3.054688 C 3.253906 -2.519531 3.429688 -1.960938 3.589844 -1.375 C 3.726563 -1.9375 3.894531 -2.488281 4.09375 -3.027344 L 5.648438 -7.257813 L 6.875 -7.257813 L 4.117188 0.125 C 3.816406 0.917969 3.585938 1.46875 3.425781 1.769531 C 3.203125 2.175781 2.953125 2.472656 2.671875 2.660156 C 2.390625 2.847656 2.050781 2.941406 1.660156 2.945313 C 1.417969 2.941406 1.15625 2.890625 0.867188 2.796875 Z M 0.867188 2.796875 \"/>\n",
       "</symbol>\n",
       "<symbol overflow=\"visible\" id=\"glyph0-17\">\n",
       "<path style=\"stroke:none;\" d=\"M -0.0195313 0 L 3.828125 -10.023438 L 5.257813 -10.023438 L 9.359375 0 L 7.847656 0 L 6.679688 -3.035156 L 2.488281 -3.035156 L 1.386719 0 Z M 2.871094 -4.117188 L 6.269531 -4.117188 L 5.222656 -6.890625 C 4.898438 -7.734375 4.664063 -8.425781 4.511719 -8.96875 C 4.382813 -8.324219 4.203125 -7.6875 3.972656 -7.054688 Z M 2.871094 -4.117188 \"/>\n",
       "</symbol>\n",
       "</g>\n",
       "</defs>\n",
       "<g id=\"surface38\">\n",
       "<rect x=\"0\" y=\"0\" width=\"200\" height=\"200\" style=\"fill:rgb(100%,100%,100%);fill-opacity:1;stroke:none;\"/>\n",
       "<path style=\"fill:none;stroke-width:1;stroke-linecap:butt;stroke-linejoin:miter;stroke:rgb(26.666667%,26.666667%,26.666667%);stroke-opacity:1;stroke-miterlimit:10;\" d=\"M 138.9375 50 L 114.910156 80.855469 \"/>\n",
       "<path style=\" stroke:none;fill-rule:nonzero;fill:rgb(26.666667%,26.666667%,26.666667%);fill-opacity:1;\" d=\"M 106.144531 92.109375 L 111.253906 78.007813 L 118.566406 83.703125 L 106.144531 92.109375 \"/>\n",
       "<path style=\"fill:none;stroke-width:1;stroke-linecap:butt;stroke-linejoin:miter;stroke:rgb(26.666667%,26.666667%,26.666667%);stroke-opacity:1;stroke-miterlimit:10;\" d=\"M 61.0625 150 L 85.089844 119.144531 \"/>\n",
       "<path style=\" stroke:none;fill-rule:nonzero;fill:rgb(26.666667%,26.666667%,26.666667%);fill-opacity:1;\" d=\"M 93.855469 107.890625 L 88.746094 121.992188 L 81.433594 116.296875 L 93.855469 107.890625 \"/>\n",
       "<path style=\"fill:none;stroke-width:1;stroke-linecap:butt;stroke-linejoin:miter;stroke:rgb(26.666667%,26.666667%,26.666667%);stroke-opacity:1;stroke-miterlimit:10;\" d=\"M 100 100 L 130.855469 124.03125 \"/>\n",
       "<path style=\" stroke:none;fill-rule:nonzero;fill:rgb(26.666667%,26.666667%,26.666667%);fill-opacity:1;\" d=\"M 142.109375 132.792969 L 128.007813 127.6875 L 133.703125 120.371094 L 142.109375 132.792969 \"/>\n",
       "<path style=\"fill:none;stroke-width:1;stroke-linecap:butt;stroke-linejoin:miter;stroke:rgb(26.666667%,26.666667%,26.666667%);stroke-opacity:1;stroke-miterlimit:10;\" d=\"M 100 100 L 69.144531 75.96875 \"/>\n",
       "<path style=\" stroke:none;fill-rule:nonzero;fill:rgb(26.666667%,26.666667%,26.666667%);fill-opacity:1;\" d=\"M 57.890625 67.207031 L 71.992188 72.3125 L 66.296875 79.628906 L 57.890625 67.207031 \"/>\n",
       "<path style=\"fill-rule:nonzero;fill:rgb(100%,0%,0%);fill-opacity:1;stroke-width:1;stroke-linecap:butt;stroke-linejoin:miter;stroke:rgb(0%,0%,0%);stroke-opacity:1;stroke-miterlimit:10;\" d=\"M 148.9375 50 C 148.9375 55.523438 144.460938 60 138.9375 60 C 133.417969 60 128.9375 55.523438 128.9375 50 C 128.9375 44.476563 133.417969 40 138.9375 40 C 144.460938 40 148.9375 44.476563 148.9375 50 \"/>\n",
       "<path style=\"fill-rule:nonzero;fill:rgb(100%,0%,0%);fill-opacity:1;stroke-width:1;stroke-linecap:butt;stroke-linejoin:miter;stroke:rgb(0%,0%,0%);stroke-opacity:1;stroke-miterlimit:10;\" d=\"M 160 138.9375 C 160 144.460938 155.523438 148.9375 150 148.9375 C 144.476563 148.9375 140 144.460938 140 138.9375 C 140 133.417969 144.476563 128.9375 150 128.9375 C 155.523438 128.9375 160 133.417969 160 138.9375 \"/>\n",
       "<path style=\"fill-rule:nonzero;fill:rgb(100%,0%,0%);fill-opacity:1;stroke-width:1;stroke-linecap:butt;stroke-linejoin:miter;stroke:rgb(0%,0%,0%);stroke-opacity:1;stroke-miterlimit:10;\" d=\"M 71.0625 150 C 71.0625 155.523438 66.582031 160 61.0625 160 C 55.539063 160 51.0625 155.523438 51.0625 150 C 51.0625 144.476563 55.539063 140 61.0625 140 C 66.582031 140 71.0625 144.476563 71.0625 150 \"/>\n",
       "<path style=\"fill-rule:nonzero;fill:rgb(100%,0%,0%);fill-opacity:1;stroke-width:1;stroke-linecap:butt;stroke-linejoin:miter;stroke:rgb(0%,0%,0%);stroke-opacity:1;stroke-miterlimit:10;\" d=\"M 60 61.0625 C 60 66.582031 55.523438 71.0625 50 71.0625 C 44.476563 71.0625 40 66.582031 40 61.0625 C 40 55.539063 44.476563 51.0625 50 51.0625 C 55.523438 51.0625 60 55.539063 60 61.0625 \"/>\n",
       "<path style=\"fill-rule:nonzero;fill:rgb(100%,0%,0%);fill-opacity:1;stroke-width:1;stroke-linecap:butt;stroke-linejoin:miter;stroke:rgb(0%,0%,0%);stroke-opacity:1;stroke-miterlimit:10;\" d=\"M 110 100 C 110 105.523438 105.523438 110 100 110 C 94.476563 110 90 105.523438 90 100 C 90 94.476563 94.476563 90 100 90 C 105.523438 90 110 94.476563 110 100 \"/>\n",
       "<g style=\"fill:rgb(0%,0%,0%);fill-opacity:1;\">\n",
       "  <use xlink:href=\"#glyph0-1\" x=\"121.914063\" y=\"56.511719\"/>\n",
       "  <use xlink:href=\"#glyph0-2\" x=\"132.024414\" y=\"56.511719\"/>\n",
       "  <use xlink:href=\"#glyph0-3\" x=\"139.810547\" y=\"56.511719\"/>\n",
       "  <use xlink:href=\"#glyph0-2\" x=\"147.59668\" y=\"56.511719\"/>\n",
       "</g>\n",
       "<g style=\"fill:rgb(0%,0%,0%);fill-opacity:1;\">\n",
       "  <use xlink:href=\"#glyph0-4\" x=\"119.34375\" y=\"145.535156\"/>\n",
       "  <use xlink:href=\"#glyph0-2\" x=\"126.34375\" y=\"145.535156\"/>\n",
       "  <use xlink:href=\"#glyph0-5\" x=\"134.129883\" y=\"145.535156\"/>\n",
       "  <use xlink:href=\"#glyph0-6\" x=\"141.916016\" y=\"145.535156\"/>\n",
       "  <use xlink:href=\"#glyph0-7\" x=\"149.702148\" y=\"145.535156\"/>\n",
       "  <use xlink:href=\"#glyph0-8\" x=\"159.8125\" y=\"145.535156\"/>\n",
       "  <use xlink:href=\"#glyph0-9\" x=\"167.598633\" y=\"145.535156\"/>\n",
       "  <use xlink:href=\"#glyph0-9\" x=\"170.708984\" y=\"145.535156\"/>\n",
       "  <use xlink:href=\"#glyph0-10\" x=\"173.819336\" y=\"145.535156\"/>\n",
       "</g>\n",
       "<g style=\"fill:rgb(0%,0%,0%);fill-opacity:1;\">\n",
       "  <use xlink:href=\"#glyph0-11\" x=\"35.128906\" y=\"156.511719\"/>\n",
       "  <use xlink:href=\"#glyph0-12\" x=\"43.680664\" y=\"156.511719\"/>\n",
       "  <use xlink:href=\"#glyph0-13\" x=\"51.466797\" y=\"156.511719\"/>\n",
       "  <use xlink:href=\"#glyph0-3\" x=\"63.128906\" y=\"156.511719\"/>\n",
       "  <use xlink:href=\"#glyph0-9\" x=\"70.915039\" y=\"156.511719\"/>\n",
       "  <use xlink:href=\"#glyph0-2\" x=\"74.025391\" y=\"156.511719\"/>\n",
       "  <use xlink:href=\"#glyph0-14\" x=\"81.811523\" y=\"156.511719\"/>\n",
       "</g>\n",
       "<g style=\"fill:rgb(0%,0%,0%);fill-opacity:1;\">\n",
       "  <use xlink:href=\"#glyph0-15\" x=\"18.636719\" y=\"67.65625\"/>\n",
       "  <use xlink:href=\"#glyph0-8\" x=\"30.298828\" y=\"67.65625\"/>\n",
       "  <use xlink:href=\"#glyph0-14\" x=\"38.084961\" y=\"67.65625\"/>\n",
       "  <use xlink:href=\"#glyph0-16\" x=\"42.74707\" y=\"67.65625\"/>\n",
       "  <use xlink:href=\"#glyph0-7\" x=\"49.74707\" y=\"67.65625\"/>\n",
       "  <use xlink:href=\"#glyph0-8\" x=\"59.857422\" y=\"67.65625\"/>\n",
       "  <use xlink:href=\"#glyph0-9\" x=\"67.643555\" y=\"67.65625\"/>\n",
       "  <use xlink:href=\"#glyph0-9\" x=\"70.753906\" y=\"67.65625\"/>\n",
       "  <use xlink:href=\"#glyph0-10\" x=\"73.864258\" y=\"67.65625\"/>\n",
       "</g>\n",
       "<g style=\"fill:rgb(0%,0%,0%);fill-opacity:1;\">\n",
       "  <use xlink:href=\"#glyph0-17\" x=\"78.136719\" y=\"106.511719\"/>\n",
       "  <use xlink:href=\"#glyph0-9\" x=\"87.474609\" y=\"106.511719\"/>\n",
       "  <use xlink:href=\"#glyph0-8\" x=\"90.584961\" y=\"106.511719\"/>\n",
       "  <use xlink:href=\"#glyph0-14\" x=\"98.371094\" y=\"106.511719\"/>\n",
       "  <use xlink:href=\"#glyph0-13\" x=\"103.033203\" y=\"106.511719\"/>\n",
       "  <use xlink:href=\"#glyph0-8\" x=\"114.695313\" y=\"106.511719\"/>\n",
       "</g>\n",
       "</g>\n",
       "</svg>\n"
      ],
      "text/plain": [
       "<igraph.drawing.Plot at 0xbbe08c8>"
      ]
     },
     "execution_count": 35,
     "metadata": {
      "image/svg+xml": {
       "isolated": true
      }
     },
     "output_type": "execute_result"
    }
   ],
   "source": [
    "B = red_bayesiana()\n",
    "B.crear_nodo(\"Robo\", [\"verdadero\", \"falso\"])\n",
    "B.crear_nodo(\"JohnCalls\", [\"verdadero\", \"falso\"])\n",
    "B.crear_nodo(\"Temblor\", [\"verdadero\", \"falso\"])\n",
    "B.crear_nodo(\"MaryCalls\", [\"verdadero\", \"falso\"])\n",
    "B.crear_nodo(\"Alarma\", [\"verdadero\", \"falso\"])\n",
    "\n",
    "\n",
    "B.crear_dependencia(\"Robo\", \"Alarma\")\n",
    "B.crear_dependencia(\"Temblor\", \"Alarma\")\n",
    "B.crear_dependencia(\"Alarma\", \"JohnCalls\")\n",
    "B.crear_dependencia(\"Alarma\", \"MaryCalls\")\n",
    "\n",
    "\n",
    "B.ver_red()"
   ]
  },
  {
   "cell_type": "code",
   "execution_count": 36,
   "metadata": {},
   "outputs": [],
   "source": [
    "B.asignar_probabilidades(\"Robo\", [0.001, 0.999])\n",
    "B.asignar_probabilidades(\"Temblor\", [0.002, 0.998])\n",
    "B.asignar_probabilidades(\"JohnCalls\", {'verdadero': [0.9, 0.1], 'falso': [0.05, 0.95]})\n",
    "B.asignar_probabilidades(\"MaryCalls\", {'verdadero': [0.7, 0.3], 'falso': [0.01, 0.99]})\n",
    "B.asignar_probabilidades(\"Alarma\", {('verdadero', 'verdadero'): [0.95, 0.05], ('verdadero', 'falso'): [0.94, 0.06], ('falso', 'verdadero'): [0.29, 0.71], ('falso', 'falso'): [0.001, 0.999]})"
   ]
  },
  {
   "cell_type": "code",
   "execution_count": 37,
   "metadata": {},
   "outputs": [
    {
     "name": "stdout",
     "output_type": "stream",
     "text": [
      "La probabilidad de {'Robo': 'verdadero'} \n",
      " dada la evidencia  {'JohnCalls': 'verdadero', 'MaryCalls': 'verdadero'} es 0.28417183536439294\n"
     ]
    }
   ],
   "source": [
    "B.incluir_evidencia(\"JohnCalls\", \"verdadero\")\n",
    "B.incluir_evidencia(\"MaryCalls\", \"verdadero\")\n",
    "B.consulta({\"Robo\":\"verdadero\"})"
   ]
  },
  {
   "cell_type": "markdown",
   "metadata": {},
   "source": [
    "---"
   ]
  },
  {
   "cell_type": "markdown",
   "metadata": {},
   "source": [
    "**Ejercicio 8:**\n",
    "\n",
    "Implemente la red bayesiana del ejercicio 3 de las diapositivas y determine la probabilidad de haya un pozo en $(0,2)$ dado que hay brisa en $(1,0)$ y en $(0,1)$.\n",
    "\n",
    "<img src=\"./imagenes/ejercicio3.png\" width=\"600\">"
   ]
  },
  {
   "cell_type": "code",
   "execution_count": 38,
   "metadata": {},
   "outputs": [
    {
     "name": "stdout",
     "output_type": "stream",
     "text": [
      "Dependencia creada: Pozo(2,0) --> Brisa(1,0)\n",
      "Dependencia creada: Pozo(1,1) --> Brisa(1,0)\n",
      "Dependencia creada: Pozo(1,1) --> Brisa(0,1)\n",
      "Dependencia creada: Pozo(0,2) --> Brisa(0,1)\n"
     ]
    },
    {
     "data": {
      "image/svg+xml": [
       "<?xml version=\"1.0\" encoding=\"UTF-8\"?>\n",
       "<svg xmlns=\"http://www.w3.org/2000/svg\" xmlns:xlink=\"http://www.w3.org/1999/xlink\" width=\"200pt\" height=\"200pt\" viewBox=\"0 0 200 200\" version=\"1.1\">\n",
       "<defs>\n",
       "<g>\n",
       "<symbol overflow=\"visible\" id=\"glyph0-0\">\n",
       "<path style=\"stroke:none;\" d=\"M 1.75 0 L 1.75 -8.75 L 8.75 -8.75 L 8.75 0 Z M 1.96875 -0.21875 L 8.53125 -0.21875 L 8.53125 -8.53125 L 1.96875 -8.53125 Z M 1.96875 -0.21875 \"/>\n",
       "</symbol>\n",
       "<symbol overflow=\"visible\" id=\"glyph0-1\">\n",
       "<path style=\"stroke:none;\" d=\"M 1.078125 0 L 1.078125 -10.023438 L 4.859375 -10.023438 C 5.523438 -10.019531 6.03125 -9.988281 6.382813 -9.925781 C 6.875 -9.84375 7.289063 -9.6875 7.621094 -9.457031 C 7.953125 -9.226563 8.222656 -8.902344 8.425781 -8.488281 C 8.628906 -8.070313 8.730469 -7.617188 8.730469 -7.125 C 8.730469 -6.269531 8.457031 -5.546875 7.914063 -4.957031 C 7.371094 -4.367188 6.390625 -4.070313 4.976563 -4.074219 L 2.40625 -4.074219 L 2.40625 0 Z M 2.40625 -5.257813 L 4.996094 -5.257813 C 5.851563 -5.253906 6.460938 -5.414063 6.820313 -5.734375 C 7.179688 -6.050781 7.359375 -6.5 7.363281 -7.082031 C 7.359375 -7.5 7.253906 -7.859375 7.042969 -8.15625 C 6.832031 -8.453125 6.550781 -8.648438 6.207031 -8.75 C 5.980469 -8.804688 5.570313 -8.835938 4.96875 -8.839844 L 2.40625 -8.839844 Z M 2.40625 -5.257813 \"/>\n",
       "</symbol>\n",
       "<symbol overflow=\"visible\" id=\"glyph0-2\">\n",
       "<path style=\"stroke:none;\" d=\"M 0.464844 -3.628906 C 0.460938 -4.972656 0.835938 -5.96875 1.585938 -6.617188 C 2.207031 -7.148438 2.96875 -7.417969 3.867188 -7.421875 C 4.867188 -7.417969 5.683594 -7.089844 6.316406 -6.441406 C 6.949219 -5.785156 7.265625 -4.882813 7.265625 -3.734375 C 7.265625 -2.796875 7.125 -2.0625 6.84375 -1.527344 C 6.5625 -0.992188 6.152344 -0.578125 5.621094 -0.28125 C 5.082031 0.015625 4.5 0.164063 3.867188 0.164063 C 2.851563 0.164063 2.027344 -0.160156 1.402344 -0.8125 C 0.773438 -1.460938 0.460938 -2.398438 0.464844 -3.628906 Z M 1.730469 -3.628906 C 1.726563 -2.695313 1.929688 -2 2.335938 -1.539063 C 2.738281 -1.074219 3.25 -0.84375 3.867188 -0.847656 C 4.476563 -0.84375 4.984375 -1.074219 5.390625 -1.542969 C 5.796875 -2.003906 6 -2.714844 6 -3.671875 C 6 -4.566406 5.792969 -5.246094 5.386719 -5.710938 C 4.976563 -6.171875 4.472656 -6.402344 3.867188 -6.40625 C 3.25 -6.402344 2.738281 -6.171875 2.335938 -5.714844 C 1.929688 -5.25 1.726563 -4.554688 1.730469 -3.628906 Z M 1.730469 -3.628906 \"/>\n",
       "</symbol>\n",
       "<symbol overflow=\"visible\" id=\"glyph0-3\">\n",
       "<path style=\"stroke:none;\" d=\"M 0.273438 0 L 0.273438 -1 L 4.894531 -6.304688 C 4.367188 -6.273438 3.90625 -6.257813 3.507813 -6.261719 L 0.546875 -6.261719 L 0.546875 -7.257813 L 6.480469 -7.257813 L 6.480469 -6.445313 L 2.550781 -1.839844 L 1.789063 -1 C 2.335938 -1.035156 2.855469 -1.054688 3.34375 -1.058594 L 6.699219 -1.058594 L 6.699219 0 Z M 0.273438 0 \"/>\n",
       "</symbol>\n",
       "<symbol overflow=\"visible\" id=\"glyph0-4\">\n",
       "<path style=\"stroke:none;\" d=\"M 3.273438 2.945313 C 2.59375 2.085938 2.019531 1.085938 1.550781 -0.0625 C 1.078125 -1.207031 0.84375 -2.394531 0.847656 -3.628906 C 0.84375 -4.710938 1.019531 -5.75 1.375 -6.746094 C 1.78125 -7.894531 2.414063 -9.042969 3.273438 -10.191406 L 4.15625 -10.191406 C 3.601563 -9.238281 3.238281 -8.5625 3.0625 -8.164063 C 2.78125 -7.53125 2.5625 -6.875 2.40625 -6.195313 C 2.207031 -5.335938 2.109375 -4.480469 2.113281 -3.625 C 2.109375 -1.429688 2.789063 0.757813 4.15625 2.945313 Z M 3.273438 2.945313 \"/>\n",
       "</symbol>\n",
       "<symbol overflow=\"visible\" id=\"glyph0-5\">\n",
       "<path style=\"stroke:none;\" d=\"M 7.046875 -1.183594 L 7.046875 0 L 0.421875 0 C 0.414063 -0.296875 0.460938 -0.582031 0.566406 -0.855469 C 0.734375 -1.304688 1.003906 -1.746094 1.375 -2.1875 C 1.746094 -2.621094 2.285156 -3.128906 2.988281 -3.703125 C 4.074219 -4.597656 4.808594 -5.304688 5.195313 -5.828125 C 5.574219 -6.347656 5.765625 -6.839844 5.769531 -7.308594 C 5.765625 -7.792969 5.589844 -8.203125 5.246094 -8.539063 C 4.894531 -8.871094 4.441406 -9.039063 3.882813 -9.042969 C 3.285156 -9.039063 2.8125 -8.863281 2.460938 -8.507813 C 2.105469 -8.152344 1.925781 -7.660156 1.921875 -7.035156 L 0.65625 -7.164063 C 0.742188 -8.105469 1.066406 -8.824219 1.632813 -9.320313 C 2.195313 -9.8125 2.953125 -10.058594 3.910156 -10.0625 C 4.867188 -10.058594 5.628906 -9.792969 6.191406 -9.261719 C 6.75 -8.726563 7.03125 -8.066406 7.035156 -7.28125 C 7.03125 -6.878906 6.949219 -6.484375 6.789063 -6.097656 C 6.621094 -5.707031 6.347656 -5.296875 5.96875 -4.871094 C 5.585938 -4.441406 4.953125 -3.855469 4.074219 -3.109375 C 3.332031 -2.488281 2.859375 -2.066406 2.652344 -1.847656 C 2.4375 -1.621094 2.265625 -1.402344 2.132813 -1.183594 Z M 7.046875 -1.183594 \"/>\n",
       "</symbol>\n",
       "<symbol overflow=\"visible\" id=\"glyph0-6\">\n",
       "<path style=\"stroke:none;\" d=\"M 1.242188 0 L 1.242188 -1.402344 L 2.644531 -1.402344 L 2.644531 0 C 2.640625 0.515625 2.550781 0.929688 2.371094 1.246094 C 2.1875 1.5625 1.898438 1.808594 1.503906 1.984375 L 1.164063 1.457031 C 1.417969 1.339844 1.609375 1.171875 1.734375 0.953125 C 1.859375 0.730469 1.925781 0.414063 1.941406 0 Z M 1.242188 0 \"/>\n",
       "</symbol>\n",
       "<symbol overflow=\"visible\" id=\"glyph0-7\">\n",
       "<path style=\"stroke:none;\" d=\"M 0.582031 -4.941406 C 0.578125 -6.121094 0.699219 -7.074219 0.945313 -7.800781 C 1.1875 -8.519531 1.550781 -9.078125 2.03125 -9.472656 C 2.511719 -9.863281 3.117188 -10.058594 3.847656 -10.0625 C 4.382813 -10.058594 4.855469 -9.953125 5.261719 -9.738281 C 5.667969 -9.519531 6 -9.207031 6.265625 -8.800781 C 6.527344 -8.390625 6.738281 -7.890625 6.890625 -7.308594 C 7.039063 -6.722656 7.113281 -5.933594 7.117188 -4.941406 C 7.113281 -3.761719 6.992188 -2.8125 6.753906 -2.09375 C 6.507813 -1.367188 6.144531 -0.808594 5.667969 -0.417969 C 5.183594 -0.0234375 4.578125 0.167969 3.847656 0.171875 C 2.878906 0.167969 2.121094 -0.175781 1.570313 -0.867188 C 0.910156 -1.699219 0.578125 -3.054688 0.582031 -4.941406 Z M 1.84375 -4.941406 C 1.839844 -3.292969 2.03125 -2.199219 2.421875 -1.65625 C 2.804688 -1.109375 3.28125 -0.835938 3.847656 -0.839844 C 4.410156 -0.835938 4.886719 -1.109375 5.273438 -1.660156 C 5.65625 -2.203125 5.847656 -3.296875 5.851563 -4.941406 C 5.847656 -6.589844 5.65625 -7.6875 5.273438 -8.230469 C 4.886719 -8.769531 4.40625 -9.039063 3.835938 -9.042969 C 3.269531 -9.039063 2.816406 -8.800781 2.480469 -8.328125 C 2.050781 -7.710938 1.839844 -6.582031 1.84375 -4.941406 Z M 1.84375 -4.941406 \"/>\n",
       "</symbol>\n",
       "<symbol overflow=\"visible\" id=\"glyph0-8\">\n",
       "<path style=\"stroke:none;\" d=\"M 1.730469 2.945313 L 0.847656 2.945313 C 2.207031 0.757813 2.886719 -1.429688 2.890625 -3.625 C 2.886719 -4.476563 2.789063 -5.324219 2.597656 -6.171875 C 2.441406 -6.851563 2.226563 -7.507813 1.949219 -8.140625 C 1.765625 -8.546875 1.398438 -9.230469 0.847656 -10.191406 L 1.730469 -10.191406 C 2.582031 -9.042969 3.214844 -7.894531 3.628906 -6.746094 C 3.976563 -5.75 4.152344 -4.710938 4.15625 -3.628906 C 4.152344 -2.394531 3.917969 -1.207031 3.449219 -0.0625 C 2.976563 1.085938 2.402344 2.085938 1.730469 2.945313 Z M 1.730469 2.945313 \"/>\n",
       "</symbol>\n",
       "<symbol overflow=\"visible\" id=\"glyph0-9\">\n",
       "<path style=\"stroke:none;\" d=\"M 5.214844 0 L 3.984375 0 L 3.984375 -7.839844 C 3.6875 -7.558594 3.296875 -7.273438 2.816406 -6.992188 C 2.335938 -6.707031 1.90625 -6.496094 1.523438 -6.359375 L 1.523438 -7.546875 C 2.210938 -7.867188 2.8125 -8.257813 3.328125 -8.722656 C 3.84375 -9.179688 4.207031 -9.625 4.421875 -10.0625 L 5.214844 -10.0625 Z M 5.214844 0 \"/>\n",
       "</symbol>\n",
       "<symbol overflow=\"visible\" id=\"glyph0-10\">\n",
       "<path style=\"stroke:none;\" d=\"M 1.023438 0 L 1.023438 -10.023438 L 4.785156 -10.023438 C 5.546875 -10.019531 6.160156 -9.917969 6.625 -9.71875 C 7.085938 -9.511719 7.449219 -9.199219 7.714844 -8.78125 C 7.976563 -8.355469 8.109375 -7.914063 8.109375 -7.457031 C 8.109375 -7.027344 7.992188 -6.625 7.757813 -6.246094 C 7.523438 -5.867188 7.171875 -5.5625 6.707031 -5.332031 C 7.3125 -5.152344 7.777344 -4.847656 8.105469 -4.421875 C 8.425781 -3.992188 8.589844 -3.488281 8.59375 -2.90625 C 8.589844 -2.4375 8.492188 -2 8.296875 -1.597656 C 8.097656 -1.191406 7.851563 -0.878906 7.5625 -0.664063 C 7.269531 -0.441406 6.902344 -0.277344 6.464844 -0.167969 C 6.019531 -0.0546875 5.480469 0 4.847656 0 Z M 2.351563 -5.8125 L 4.519531 -5.8125 C 5.101563 -5.8125 5.523438 -5.847656 5.78125 -5.925781 C 6.117188 -6.023438 6.371094 -6.191406 6.542969 -6.425781 C 6.710938 -6.65625 6.796875 -6.949219 6.800781 -7.300781 C 6.796875 -7.632813 6.71875 -7.925781 6.5625 -8.179688 C 6.402344 -8.429688 6.171875 -8.601563 5.878906 -8.699219 C 5.578125 -8.789063 5.070313 -8.835938 4.355469 -8.839844 L 2.351563 -8.839844 Z M 2.351563 -1.183594 L 4.847656 -1.183594 C 5.269531 -1.183594 5.570313 -1.199219 5.75 -1.230469 C 6.050781 -1.285156 6.304688 -1.375 6.511719 -1.503906 C 6.714844 -1.628906 6.886719 -1.8125 7.019531 -2.058594 C 7.152344 -2.300781 7.21875 -2.585938 7.21875 -2.90625 C 7.21875 -3.277344 7.121094 -3.601563 6.929688 -3.878906 C 6.738281 -4.152344 6.472656 -4.34375 6.132813 -4.460938 C 5.792969 -4.570313 5.304688 -4.628906 4.667969 -4.628906 L 2.351563 -4.628906 Z M 2.351563 -1.183594 \"/>\n",
       "</symbol>\n",
       "<symbol overflow=\"visible\" id=\"glyph0-11\">\n",
       "<path style=\"stroke:none;\" d=\"M 0.910156 0 L 0.910156 -7.257813 L 2.015625 -7.257813 L 2.015625 -6.160156 C 2.296875 -6.667969 2.554688 -7.007813 2.796875 -7.175781 C 3.03125 -7.335938 3.296875 -7.417969 3.589844 -7.421875 C 4 -7.417969 4.421875 -7.285156 4.851563 -7.027344 L 4.429688 -5.886719 C 4.125 -6.0625 3.824219 -6.152344 3.527344 -6.152344 C 3.257813 -6.152344 3.015625 -6.070313 2.800781 -5.910156 C 2.585938 -5.746094 2.433594 -5.519531 2.34375 -5.234375 C 2.207031 -4.792969 2.136719 -4.316406 2.140625 -3.800781 L 2.140625 0 Z M 0.910156 0 \"/>\n",
       "</symbol>\n",
       "<symbol overflow=\"visible\" id=\"glyph0-12\">\n",
       "<path style=\"stroke:none;\" d=\"M 0.929688 -8.605469 L 0.929688 -10.023438 L 2.160156 -10.023438 L 2.160156 -8.605469 Z M 0.929688 0 L 0.929688 -7.257813 L 2.160156 -7.257813 L 2.160156 0 Z M 0.929688 0 \"/>\n",
       "</symbol>\n",
       "<symbol overflow=\"visible\" id=\"glyph0-13\">\n",
       "<path style=\"stroke:none;\" d=\"M 0.429688 -2.167969 L 1.648438 -2.359375 C 1.710938 -1.867188 1.902344 -1.492188 2.21875 -1.234375 C 2.527344 -0.972656 2.964844 -0.84375 3.527344 -0.847656 C 4.089844 -0.84375 4.507813 -0.957031 4.785156 -1.191406 C 5.054688 -1.417969 5.191406 -1.691406 5.195313 -2.003906 C 5.191406 -2.28125 5.070313 -2.5 4.832031 -2.660156 C 4.660156 -2.769531 4.242188 -2.90625 3.574219 -3.078125 C 2.671875 -3.300781 2.046875 -3.5 1.699219 -3.667969 C 1.347656 -3.832031 1.082031 -4.058594 0.90625 -4.355469 C 0.722656 -4.644531 0.632813 -4.972656 0.636719 -5.332031 C 0.632813 -5.652344 0.707031 -5.949219 0.855469 -6.230469 C 1.003906 -6.503906 1.203125 -6.734375 1.460938 -6.917969 C 1.648438 -7.054688 1.910156 -7.171875 2.246094 -7.273438 C 2.574219 -7.367188 2.929688 -7.417969 3.308594 -7.421875 C 3.875 -7.417969 4.375 -7.335938 4.808594 -7.175781 C 5.234375 -7.007813 5.550781 -6.785156 5.761719 -6.507813 C 5.964844 -6.226563 6.109375 -5.851563 6.1875 -5.386719 L 4.984375 -5.222656 C 4.925781 -5.589844 4.765625 -5.882813 4.507813 -6.097656 C 4.242188 -6.304688 3.875 -6.410156 3.398438 -6.414063 C 2.832031 -6.410156 2.425781 -6.316406 2.1875 -6.132813 C 1.941406 -5.941406 1.820313 -5.722656 1.824219 -5.476563 C 1.820313 -5.3125 1.871094 -5.167969 1.976563 -5.046875 C 2.070313 -4.910156 2.226563 -4.800781 2.445313 -4.71875 C 2.566406 -4.667969 2.929688 -4.5625 3.535156 -4.402344 C 4.402344 -4.167969 5.011719 -3.980469 5.355469 -3.832031 C 5.699219 -3.683594 5.96875 -3.464844 6.164063 -3.183594 C 6.359375 -2.898438 6.457031 -2.550781 6.460938 -2.132813 C 6.457031 -1.71875 6.335938 -1.332031 6.101563 -0.972656 C 5.859375 -0.609375 5.515625 -0.328125 5.066406 -0.132813 C 4.613281 0.0664063 4.101563 0.164063 3.535156 0.164063 C 2.585938 0.164063 1.867188 -0.03125 1.375 -0.421875 C 0.878906 -0.8125 0.5625 -1.394531 0.429688 -2.167969 Z M 0.429688 -2.167969 \"/>\n",
       "</symbol>\n",
       "<symbol overflow=\"visible\" id=\"glyph0-14\">\n",
       "<path style=\"stroke:none;\" d=\"M 5.660156 -0.894531 C 5.203125 -0.503906 4.761719 -0.230469 4.34375 -0.0742188 C 3.917969 0.0859375 3.46875 0.164063 2.988281 0.164063 C 2.1875 0.164063 1.574219 -0.0273438 1.148438 -0.417969 C 0.71875 -0.804688 0.503906 -1.304688 0.507813 -1.914063 C 0.503906 -2.265625 0.585938 -2.589844 0.75 -2.886719 C 0.910156 -3.179688 1.121094 -3.414063 1.382813 -3.59375 C 1.644531 -3.769531 1.9375 -3.90625 2.269531 -4 C 2.507813 -4.058594 2.875 -4.121094 3.363281 -4.183594 C 4.355469 -4.300781 5.085938 -4.441406 5.558594 -4.609375 C 5.558594 -4.773438 5.558594 -4.878906 5.5625 -4.929688 C 5.558594 -5.425781 5.445313 -5.78125 5.214844 -5.988281 C 4.898438 -6.265625 4.429688 -6.402344 3.8125 -6.40625 C 3.230469 -6.402344 2.804688 -6.300781 2.53125 -6.101563 C 2.253906 -5.894531 2.050781 -5.535156 1.921875 -5.023438 L 0.71875 -5.1875 C 0.824219 -5.699219 1.003906 -6.117188 1.257813 -6.433594 C 1.503906 -6.75 1.867188 -6.992188 2.34375 -7.164063 C 2.816406 -7.332031 3.363281 -7.417969 3.992188 -7.421875 C 4.609375 -7.417969 5.113281 -7.34375 5.503906 -7.203125 C 5.886719 -7.054688 6.171875 -6.871094 6.359375 -6.652344 C 6.539063 -6.429688 6.667969 -6.152344 6.742188 -5.816406 C 6.777344 -5.605469 6.796875 -5.226563 6.800781 -4.683594 L 6.800781 -3.042969 C 6.796875 -1.894531 6.824219 -1.171875 6.878906 -0.871094 C 6.933594 -0.566406 7.035156 -0.277344 7.191406 0 L 5.90625 0 C 5.777344 -0.253906 5.695313 -0.550781 5.660156 -0.894531 Z M 5.558594 -3.644531 C 5.109375 -3.460938 4.4375 -3.304688 3.546875 -3.179688 C 3.039063 -3.105469 2.683594 -3.023438 2.472656 -2.933594 C 2.261719 -2.839844 2.097656 -2.707031 1.988281 -2.53125 C 1.871094 -2.355469 1.816406 -2.160156 1.820313 -1.949219 C 1.816406 -1.617188 1.941406 -1.34375 2.191406 -1.128906 C 2.4375 -0.90625 2.800781 -0.796875 3.28125 -0.800781 C 3.753906 -0.796875 4.175781 -0.898438 4.546875 -1.109375 C 4.914063 -1.3125 5.183594 -1.597656 5.359375 -1.960938 C 5.488281 -2.238281 5.554688 -2.648438 5.558594 -3.191406 Z M 5.558594 -3.644531 \"/>\n",
       "</symbol>\n",
       "</g>\n",
       "</defs>\n",
       "<g id=\"surface44\">\n",
       "<rect x=\"0\" y=\"0\" width=\"200\" height=\"200\" style=\"fill:rgb(100%,100%,100%);fill-opacity:1;stroke:none;\"/>\n",
       "<path style=\"fill:none;stroke-width:1;stroke-linecap:butt;stroke-linejoin:miter;stroke:rgb(26.666667%,26.666667%,26.666667%);stroke-opacity:1;stroke-miterlimit:10;\" d=\"M 150 150 L 142.160156 142.15625 \"/>\n",
       "<path style=\" stroke:none;fill-rule:nonzero;fill:rgb(26.666667%,26.666667%,26.666667%);fill-opacity:1;\" d=\"M 132.070313 132.070313 L 145.4375 138.878906 L 138.878906 145.433594 L 132.070313 132.070313 \"/>\n",
       "<path style=\"fill:none;stroke-width:1;stroke-linecap:butt;stroke-linejoin:miter;stroke:rgb(26.666667%,26.666667%,26.666667%);stroke-opacity:1;stroke-miterlimit:10;\" d=\"M 100 100 L 107.839844 107.839844 \"/>\n",
       "<path style=\" stroke:none;fill-rule:nonzero;fill:rgb(26.666667%,26.666667%,26.666667%);fill-opacity:1;\" d=\"M 117.929688 117.925781 L 104.5625 111.117188 L 111.117188 104.5625 L 117.929688 117.925781 \"/>\n",
       "<path style=\"fill:none;stroke-width:1;stroke-linecap:butt;stroke-linejoin:miter;stroke:rgb(26.666667%,26.666667%,26.666667%);stroke-opacity:1;stroke-miterlimit:10;\" d=\"M 100 100 L 92.160156 92.160156 \"/>\n",
       "<path style=\" stroke:none;fill-rule:nonzero;fill:rgb(26.666667%,26.666667%,26.666667%);fill-opacity:1;\" d=\"M 82.070313 82.070313 L 95.4375 88.878906 L 88.882813 95.4375 L 82.070313 82.070313 \"/>\n",
       "<path style=\"fill:none;stroke-width:1;stroke-linecap:butt;stroke-linejoin:miter;stroke:rgb(26.666667%,26.666667%,26.666667%);stroke-opacity:1;stroke-miterlimit:10;\" d=\"M 50 50 L 57.839844 57.839844 \"/>\n",
       "<path style=\" stroke:none;fill-rule:nonzero;fill:rgb(26.666667%,26.666667%,26.666667%);fill-opacity:1;\" d=\"M 67.929688 67.929688 L 54.5625 61.117188 L 61.117188 54.5625 L 67.929688 67.929688 \"/>\n",
       "<path style=\"fill-rule:nonzero;fill:rgb(100%,0%,0%);fill-opacity:1;stroke-width:1;stroke-linecap:butt;stroke-linejoin:miter;stroke:rgb(0%,0%,0%);stroke-opacity:1;stroke-miterlimit:10;\" d=\"M 160 150 C 160 155.523438 155.523438 160 150 160 C 144.476563 160 140 155.523438 140 150 C 140 144.476563 144.476563 140 150 140 C 155.523438 140 160 144.476563 160 150 \"/>\n",
       "<path style=\"fill-rule:nonzero;fill:rgb(100%,0%,0%);fill-opacity:1;stroke-width:1;stroke-linecap:butt;stroke-linejoin:miter;stroke:rgb(0%,0%,0%);stroke-opacity:1;stroke-miterlimit:10;\" d=\"M 110 100 C 110 105.523438 105.523438 110 100 110 C 94.476563 110 90 105.523438 90 100 C 90 94.476563 94.476563 90 100 90 C 105.523438 90 110 94.476563 110 100 \"/>\n",
       "<path style=\"fill-rule:nonzero;fill:rgb(100%,0%,0%);fill-opacity:1;stroke-width:1;stroke-linecap:butt;stroke-linejoin:miter;stroke:rgb(0%,0%,0%);stroke-opacity:1;stroke-miterlimit:10;\" d=\"M 60 50 C 60 55.523438 55.523438 60 50 60 C 44.476563 60 40 55.523438 40 50 C 40 44.476563 44.476563 40 50 40 C 55.523438 40 60 44.476563 60 50 \"/>\n",
       "<path style=\"fill-rule:nonzero;fill:rgb(100%,0%,0%);fill-opacity:1;stroke-width:1;stroke-linecap:butt;stroke-linejoin:miter;stroke:rgb(0%,0%,0%);stroke-opacity:1;stroke-miterlimit:10;\" d=\"M 135 125 C 135 130.519531 130.523438 135 125 135 C 119.476563 135 115 130.519531 115 125 C 115 119.476563 119.476563 115 125 115 C 130.523438 115 135 119.476563 135 125 \"/>\n",
       "<path style=\"fill-rule:nonzero;fill:rgb(100%,0%,0%);fill-opacity:1;stroke-width:1;stroke-linecap:butt;stroke-linejoin:miter;stroke:rgb(0%,0%,0%);stroke-opacity:1;stroke-miterlimit:10;\" d=\"M 85 75 C 85 80.523438 80.523438 85 75 85 C 69.476563 85 65 80.523438 65 75 C 65 69.476563 69.476563 65 75 65 C 80.523438 65 85 69.476563 85 75 \"/>\n",
       "<g style=\"fill:rgb(0%,0%,0%);fill-opacity:1;\">\n",
       "  <use xlink:href=\"#glyph0-1\" x=\"119.363281\" y=\"156.597656\"/>\n",
       "  <use xlink:href=\"#glyph0-2\" x=\"128.701172\" y=\"156.597656\"/>\n",
       "  <use xlink:href=\"#glyph0-3\" x=\"136.487305\" y=\"156.597656\"/>\n",
       "  <use xlink:href=\"#glyph0-2\" x=\"143.487305\" y=\"156.597656\"/>\n",
       "  <use xlink:href=\"#glyph0-4\" x=\"151.273438\" y=\"156.597656\"/>\n",
       "  <use xlink:href=\"#glyph0-5\" x=\"155.935547\" y=\"156.597656\"/>\n",
       "  <use xlink:href=\"#glyph0-6\" x=\"163.72168\" y=\"156.597656\"/>\n",
       "  <use xlink:href=\"#glyph0-7\" x=\"167.611328\" y=\"156.597656\"/>\n",
       "  <use xlink:href=\"#glyph0-8\" x=\"175.397461\" y=\"156.597656\"/>\n",
       "</g>\n",
       "<g style=\"fill:rgb(0%,0%,0%);fill-opacity:1;\">\n",
       "  <use xlink:href=\"#glyph0-1\" x=\"69.363281\" y=\"106.597656\"/>\n",
       "  <use xlink:href=\"#glyph0-2\" x=\"78.701172\" y=\"106.597656\"/>\n",
       "  <use xlink:href=\"#glyph0-3\" x=\"86.487305\" y=\"106.597656\"/>\n",
       "  <use xlink:href=\"#glyph0-2\" x=\"93.487305\" y=\"106.597656\"/>\n",
       "  <use xlink:href=\"#glyph0-4\" x=\"101.273438\" y=\"106.597656\"/>\n",
       "  <use xlink:href=\"#glyph0-9\" x=\"105.935547\" y=\"106.597656\"/>\n",
       "  <use xlink:href=\"#glyph0-6\" x=\"113.72168\" y=\"106.597656\"/>\n",
       "  <use xlink:href=\"#glyph0-9\" x=\"117.611328\" y=\"106.597656\"/>\n",
       "  <use xlink:href=\"#glyph0-8\" x=\"125.397461\" y=\"106.597656\"/>\n",
       "</g>\n",
       "<g style=\"fill:rgb(0%,0%,0%);fill-opacity:1;\">\n",
       "  <use xlink:href=\"#glyph0-1\" x=\"19.363281\" y=\"56.597656\"/>\n",
       "  <use xlink:href=\"#glyph0-2\" x=\"28.701172\" y=\"56.597656\"/>\n",
       "  <use xlink:href=\"#glyph0-3\" x=\"36.487305\" y=\"56.597656\"/>\n",
       "  <use xlink:href=\"#glyph0-2\" x=\"43.487305\" y=\"56.597656\"/>\n",
       "  <use xlink:href=\"#glyph0-4\" x=\"51.273438\" y=\"56.597656\"/>\n",
       "  <use xlink:href=\"#glyph0-7\" x=\"55.935547\" y=\"56.597656\"/>\n",
       "  <use xlink:href=\"#glyph0-6\" x=\"63.72168\" y=\"56.597656\"/>\n",
       "  <use xlink:href=\"#glyph0-5\" x=\"67.611328\" y=\"56.597656\"/>\n",
       "  <use xlink:href=\"#glyph0-8\" x=\"75.397461\" y=\"56.597656\"/>\n",
       "</g>\n",
       "<g style=\"fill:rgb(0%,0%,0%);fill-opacity:1;\">\n",
       "  <use xlink:href=\"#glyph0-10\" x=\"94.398438\" y=\"131.59375\"/>\n",
       "  <use xlink:href=\"#glyph0-11\" x=\"103.736328\" y=\"131.59375\"/>\n",
       "  <use xlink:href=\"#glyph0-12\" x=\"108.398438\" y=\"131.59375\"/>\n",
       "  <use xlink:href=\"#glyph0-13\" x=\"111.508789\" y=\"131.59375\"/>\n",
       "  <use xlink:href=\"#glyph0-14\" x=\"118.508789\" y=\"131.59375\"/>\n",
       "  <use xlink:href=\"#glyph0-4\" x=\"126.294922\" y=\"131.59375\"/>\n",
       "  <use xlink:href=\"#glyph0-9\" x=\"130.957031\" y=\"131.59375\"/>\n",
       "  <use xlink:href=\"#glyph0-6\" x=\"138.743164\" y=\"131.59375\"/>\n",
       "  <use xlink:href=\"#glyph0-7\" x=\"142.632813\" y=\"131.59375\"/>\n",
       "  <use xlink:href=\"#glyph0-8\" x=\"150.418945\" y=\"131.59375\"/>\n",
       "</g>\n",
       "<g style=\"fill:rgb(0%,0%,0%);fill-opacity:1;\">\n",
       "  <use xlink:href=\"#glyph0-10\" x=\"44.398438\" y=\"81.597656\"/>\n",
       "  <use xlink:href=\"#glyph0-11\" x=\"53.736328\" y=\"81.597656\"/>\n",
       "  <use xlink:href=\"#glyph0-12\" x=\"58.398438\" y=\"81.597656\"/>\n",
       "  <use xlink:href=\"#glyph0-13\" x=\"61.508789\" y=\"81.597656\"/>\n",
       "  <use xlink:href=\"#glyph0-14\" x=\"68.508789\" y=\"81.597656\"/>\n",
       "  <use xlink:href=\"#glyph0-4\" x=\"76.294922\" y=\"81.597656\"/>\n",
       "  <use xlink:href=\"#glyph0-7\" x=\"80.957031\" y=\"81.597656\"/>\n",
       "  <use xlink:href=\"#glyph0-6\" x=\"88.743164\" y=\"81.597656\"/>\n",
       "  <use xlink:href=\"#glyph0-9\" x=\"92.632813\" y=\"81.597656\"/>\n",
       "  <use xlink:href=\"#glyph0-8\" x=\"100.418945\" y=\"81.597656\"/>\n",
       "</g>\n",
       "</g>\n",
       "</svg>\n"
      ],
      "text/plain": [
       "<igraph.drawing.Plot at 0xbbe01f0>"
      ]
     },
     "execution_count": 38,
     "metadata": {
      "image/svg+xml": {
       "isolated": true
      }
     },
     "output_type": "execute_result"
    }
   ],
   "source": [
    "B = red_bayesiana()\n",
    "B.crear_nodo(\"Pozo(2,0)\", [\"verdadero\", \"falso\"])\n",
    "B.crear_nodo(\"Pozo(1,1)\", [\"verdadero\", \"falso\"])\n",
    "B.crear_nodo(\"Pozo(0,2)\", [\"verdadero\", \"falso\"])\n",
    "B.crear_nodo(\"Brisa(1,0)\", [\"verdadero\", \"falso\"])\n",
    "B.crear_nodo(\"Brisa(0,1)\", [\"verdadero\", \"falso\"])\n",
    "\n",
    "\n",
    "B.crear_dependencia(\"Pozo(2,0)\", \"Brisa(1,0)\")\n",
    "B.crear_dependencia(\"Pozo(1,1)\", \"Brisa(1,0)\")\n",
    "B.crear_dependencia(\"Pozo(1,1)\", \"Brisa(0,1)\")\n",
    "B.crear_dependencia(\"Pozo(0,2)\", \"Brisa(0,1)\")\n",
    "\n",
    "\n",
    "B.ver_red()"
   ]
  },
  {
   "cell_type": "code",
   "execution_count": 40,
   "metadata": {},
   "outputs": [],
   "source": [
    "B.asignar_probabilidades(\"Pozo(2,0)\", [0.2, 0.8])\n",
    "B.asignar_probabilidades(\"Pozo(1,1)\", [0.2, 0.8])\n",
    "B.asignar_probabilidades(\"Pozo(0,2)\", [0.2, 0.8])\n",
    "\n",
    "B.asignar_probabilidades(\"Brisa(0,1)\", {('verdadero', 'verdadero'): [1, 0], ('verdadero', 'falso'): [1, 0], ('falso', 'verdadero'): [1, 0], ('falso', 'falso'): [0.0, 0.1]})\n",
    "B.asignar_probabilidades(\"Brisa(1,0)\", {('verdadero', 'verdadero'): [1, 0], ('verdadero', 'falso'): [1, 0], ('falso', 'verdadero'): [1, 0] ,('falso', 'falso'): [0.0, 0.1]})"
   ]
  },
  {
   "cell_type": "code",
   "execution_count": 41,
   "metadata": {},
   "outputs": [
    {
     "name": "stdout",
     "output_type": "stream",
     "text": [
      "La probabilidad de {'Pozo(0,2)': 'verdadero'} \n",
      " dada la evidencia  {'Brisa(1,0)': 'verdadero', 'Brisa(0,1)': 'verdadero'} es 0.3103448275862069\n"
     ]
    }
   ],
   "source": [
    "B.incluir_evidencia(\"Brisa(1,0)\", \"verdadero\")\n",
    "B.incluir_evidencia(\"Brisa(0,1)\", \"verdadero\")\n",
    "B.consulta({\"Pozo(0,2)\":\"verdadero\"})"
   ]
  },
  {
   "cell_type": "code",
   "execution_count": null,
   "metadata": {},
   "outputs": [],
   "source": []
  }
 ],
 "metadata": {
  "kernelspec": {
   "display_name": "Python 3",
   "language": "python",
   "name": "python3"
  },
  "language_info": {
   "codemirror_mode": {
    "name": "ipython",
    "version": 3
   },
   "file_extension": ".py",
   "mimetype": "text/x-python",
   "name": "python",
   "nbconvert_exporter": "python",
   "pygments_lexer": "ipython3",
   "version": "3.8.2"
  },
  "latex_envs": {
   "LaTeX_envs_menu_present": true,
   "autoclose": false,
   "autocomplete": true,
   "bibliofile": "biblio.bib",
   "cite_by": "apalike",
   "current_citInitial": 1,
   "eqLabelWithNumbers": true,
   "eqNumInitial": 1,
   "hotkeys": {
    "equation": "Ctrl-E",
    "itemize": "Ctrl-I"
   },
   "labels_anchors": false,
   "latex_user_defs": false,
   "report_style_numbering": false,
   "user_envs_cfg": false
  }
 },
 "nbformat": 4,
 "nbformat_minor": 4
}
