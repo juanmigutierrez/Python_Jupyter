{
 "cells": [
  {
   "cell_type": "markdown",
   "metadata": {},
   "source": [
    "## Red Bayesiana para toma de decisiones medicas"
   ]
  },
  {
   "cell_type": "markdown",
   "metadata": {},
   "source": [
    "Miguel Gutierrez\n",
    "\n",
    "Andres Salazar"
   ]
  },
  {
   "cell_type": "markdown",
   "metadata": {},
   "source": [
    "**Librerias Necesarias para que funcione correctamente**: pyAgrum que depende de pydotplus ygraphviz"
   ]
  },
  {
   "cell_type": "markdown",
   "metadata": {},
   "source": [
    "Para instalar Graphviz, es necesario descargar de su pagina inicial los binarios, ellos ya tienen instaladores por defecto.\n",
    "https://graphviz.gitlab.io/download/"
   ]
  },
  {
   "cell_type": "code",
   "execution_count": 1,
   "metadata": {},
   "outputs": [],
   "source": [
    "%load_ext autoreload\n",
    "%autoreload 2\n",
    "\n",
    "import os\n",
    "\n",
    "%matplotlib inline\n",
    "from pylab import *\n",
    "import matplotlib.pyplot as plt"
   ]
  },
  {
   "cell_type": "code",
   "execution_count": 2,
   "metadata": {},
   "outputs": [],
   "source": [
    "import pyAgrum as gum\n",
    "import pyAgrum.lib.notebook as gnb"
   ]
  },
  {
   "cell_type": "markdown",
   "metadata": {},
   "source": [
    "Los diagramas de influencias son una representación gráfica de modelos de decisión que se complementan con los arboles de decisión. Los modelos de decisión permite a los médicos y analistas computar las utilidades esperadas en situaciones que involucran incertidumbre, complejidad y cambios dinámicos. Los diagramas de influencias  y los arboles de decisión son representaciones gráficas del mismo modelo matemático."
   ]
  },
  {
   "cell_type": "markdown",
   "metadata": {},
   "source": [
    "## Primero crearemos un problema simple de decision"
   ]
  },
  {
   "cell_type": "code",
   "execution_count": 3,
   "metadata": {},
   "outputs": [
    {
     "data": {
      "text/plain": [
       "2"
      ]
     },
     "execution_count": 3,
     "metadata": {},
     "output_type": "execute_result"
    }
   ],
   "source": [
    "diag=gum.InfluenceDiagram()\n",
    "diag.addChanceNode(gum.LabelizedVariable(\"Fuente\",\"Fuente\",2))\n",
    "diag.addDecisionNode(gum.LabelizedVariable(\"Decision\",\"Decision\",1))\n",
    "diag.addUtilityNode(gum.LabelizedVariable(\"Utilidad\",\"Utilidad\",1))"
   ]
  },
  {
   "cell_type": "code",
   "execution_count": 4,
   "metadata": {},
   "outputs": [
    {
     "data": {
      "text/html": [
       "<svg xmlns=\"http://www.w3.org/2000/svg\" xmlns:xlink=\"http://www.w3.org/1999/xlink\" width=\"290pt\" height=\"44pt\" viewBox=\"0.00 0.00 290.25 44.00\">\n",
       "<g id=\"graph0\" class=\"graph\" transform=\"scale(1 1) rotate(0) translate(4 40)\">\n",
       "<title>G</title>\n",
       "<!-- Fuente -->\n",
       "<g id=\"node1\" class=\"node\">\n",
       "<title>Fuente</title>\n",
       "<ellipse fill=\"#504a50\" stroke=\"#4a4a4a\" cx=\"35.1\" cy=\"-18\" rx=\"35.19\" ry=\"18\"/>\n",
       "<text text-anchor=\"middle\" x=\"35.1\" y=\"-14.3\" font-family=\"Times New Roman,serif\" font-size=\"14.00\" fill=\"white\">Fuente</text>\n",
       "</g>\n",
       "<!-- Decision -->\n",
       "<g id=\"node2\" class=\"node\">\n",
       "<title>Decision</title>\n",
       "<polygon fill=\"#50504a\" stroke=\"#4a4a4a\" points=\"153.6,-36 88.6,-36 88.6,0 153.6,0 153.6,-36\"/>\n",
       "<text text-anchor=\"middle\" x=\"121.1\" y=\"-14.3\" font-family=\"Times New Roman,serif\" font-size=\"14.00\" fill=\"white\">Decision</text>\n",
       "</g>\n",
       "<!-- Utilidad -->\n",
       "<g id=\"node3\" class=\"node\">\n",
       "<title>Utilidad</title>\n",
       "<polygon fill=\"#4a5050\" stroke=\"#4a4a4a\" points=\"227.1,-36 171.8,-18 227.1,0 282.4,-18 227.1,-36\"/>\n",
       "<text text-anchor=\"middle\" x=\"227.1\" y=\"-14.3\" font-family=\"Times New Roman,serif\" font-size=\"14.00\" fill=\"white\">Utilidad</text>\n",
       "</g>\n",
       "</g>\n",
       "</svg>"
      ],
      "text/plain": [
       "(gum::InfluenceDiagram<double>@0AFD2600) Influence Diagram{\n",
       "  chance: 1,\n",
       "  utility: 1,\n",
       "  decision: 1,\n",
       "  arcs: 0,\n",
       "  domainSize: 2\n",
       "}"
      ]
     },
     "execution_count": 4,
     "metadata": {},
     "output_type": "execute_result"
    }
   ],
   "source": [
    "diag"
   ]
  },
  {
   "cell_type": "markdown",
   "metadata": {},
   "source": [
    "Una de las ventajas al representar un problema con redes bayesianes, es que el tamaño del problema aumenta de manera lineal a medida que aumenta el tamaño del problema."
   ]
  },
  {
   "cell_type": "markdown",
   "metadata": {},
   "source": [
    "Un diagrama de influencia, contiene tres tipos de nodos:\n",
    "\n",
    "1. **Nodos de Chance**: Representan variables aleatorias, mas bien probabilidades, estas son heredadas de las redes bayesianas originales. Se representan de forma circular.\n",
    "2. **Nodos de decisión**: Representa las posibles alternativas a tomar. Este nodo esta conectado a los nodos chance/probabilidad cuyas distribuciones de probabilidad puedan afectar la decisión. Se representan de forma cuadrad.\n",
    "3. **Nodos de Utilidad**: Es una variable aleatoria cuyo valor depende de sus nodos padres, que representa las posibles utilidades dado sus padres. Se representan en forma de rombo."
   ]
  },
  {
   "cell_type": "code",
   "execution_count": 5,
   "metadata": {},
   "outputs": [
    {
     "data": {
      "text/html": [
       "<svg xmlns=\"http://www.w3.org/2000/svg\" xmlns:xlink=\"http://www.w3.org/1999/xlink\" width=\"168pt\" height=\"116pt\" viewBox=\"0.00 0.00 167.85 116.00\">\n",
       "<g id=\"graph0\" class=\"graph\" transform=\"scale(1 1) rotate(0) translate(4 112)\">\n",
       "<title>G</title>\n",
       "<!-- Chance -->\n",
       "<g id=\"node1\" class=\"node\">\n",
       "<title>Chance</title>\n",
       "<ellipse fill=\"#504a50\" stroke=\"#4a4a4a\" cx=\"38.35\" cy=\"-90\" rx=\"38.19\" ry=\"18\"/>\n",
       "<text text-anchor=\"middle\" x=\"38.35\" y=\"-86.3\" font-family=\"Times New Roman,serif\" font-size=\"14.00\" fill=\"white\">Chance</text>\n",
       "</g>\n",
       "<!-- Utilidad -->\n",
       "<g id=\"node3\" class=\"node\">\n",
       "<title>Utilidad</title>\n",
       "<polygon fill=\"#4a5050\" stroke=\"#4a4a4a\" points=\"82.35,-36 27.05,-18 82.35,0 137.65,-18 82.35,-36\"/>\n",
       "<text text-anchor=\"middle\" x=\"82.35\" y=\"-14.3\" font-family=\"Times New Roman,serif\" font-size=\"14.00\" fill=\"white\">Utilidad</text>\n",
       "</g>\n",
       "<!-- Chance&#45;&gt;Utilidad -->\n",
       "<g id=\"edge1\" class=\"edge\">\n",
       "<title>Chance-&gt;Utilidad</title>\n",
       "<path fill=\"none\" stroke=\"#4a4a4a\" d=\"M48.77,-72.41C54.46,-63.37 61.58,-52.04 67.8,-42.15\"/>\n",
       "<polygon fill=\"#4a4a4a\" stroke=\"#4a4a4a\" points=\"70.83,-43.9 73.19,-33.57 64.9,-40.17 70.83,-43.9\"/>\n",
       "</g>\n",
       "<!-- Decision -->\n",
       "<g id=\"node2\" class=\"node\">\n",
       "<title>Decision</title>\n",
       "<polygon fill=\"#50504a\" stroke=\"#4a4a4a\" points=\"159.85,-108 94.85,-108 94.85,-72 159.85,-72 159.85,-108\"/>\n",
       "<text text-anchor=\"middle\" x=\"127.35\" y=\"-86.3\" font-family=\"Times New Roman,serif\" font-size=\"14.00\" fill=\"white\">Decision</text>\n",
       "</g>\n",
       "<!-- Decision&#45;&gt;Utilidad -->\n",
       "<g id=\"edge2\" class=\"edge\">\n",
       "<title>Decision-&gt;Utilidad</title>\n",
       "<path fill=\"none\" stroke=\"#4a4a4a\" d=\"M116.22,-71.7C110.4,-62.65 103.21,-51.45 96.95,-41.71\"/>\n",
       "<polygon fill=\"#4a4a4a\" stroke=\"#4a4a4a\" points=\"99.88,-39.8 91.53,-33.28 93.99,-43.58 99.88,-39.8\"/>\n",
       "</g>\n",
       "</g>\n",
       "</svg>"
      ],
      "text/plain": [
       "(gum::InfluenceDiagram<double>@0B100290) Influence Diagram{\n",
       "  chance: 1,\n",
       "  utility: 1,\n",
       "  decision: 1,\n",
       "  arcs: 2,\n",
       "  domainSize: 4\n",
       "}"
      ]
     },
     "execution_count": 5,
     "metadata": {},
     "output_type": "execute_result"
    }
   ],
   "source": [
    "diag=gum.InfluenceDiagram()\n",
    "F=diag.addChanceNode(gum.LabelizedVariable(\"Chance\",\"Prob Stock\",2))\n",
    "D=diag.addDecisionNode(gum.LabelizedVariable(\"Decision\",\"Invest\",2))\n",
    "U=diag.addUtilityNode(gum.LabelizedVariable(\"Utilidad\",\"Expected Utility\",1))\n",
    "#Unir nodos\n",
    "diag.addArc(D,U)\n",
    "diag.addArc(F,U)\n",
    "diag"
   ]
  },
  {
   "cell_type": "markdown",
   "metadata": {},
   "source": [
    "En un diagrama de influencia, se denomina el conjunto $A=\\{a_1,a_2,...,a_n\\}$, de posibles acciones que deben ser mutuamente excluyentes, y $H$ el conjunto de variables determinantes. La tabla de utilidad $U(A,H)$, es obtenida de configurar cada accione con cada variable determinante. El problema de maximización de utilidad se soluciona entonces maximizando:\n",
    "\n",
    "$$E[U(a)]=\\prod_H U(a,H)P(H|a)$$"
   ]
  },
  {
   "cell_type": "markdown",
   "metadata": {},
   "source": [
    "Donde $U(a,H)$, son las entradas de elegir la accion $a$ con la variables $H$, más especificamente, son los nodos padres del nodo de utilidad $U$. Por otro lado la probabilidad condicional $P(H|a)$, se puede calcular calculando la probabilidad condicional de la variable $h_i\\in H$, dada la accion $a$. A continuación mostramos un ejemplo de diagrama de influencia."
   ]
  },
  {
   "cell_type": "markdown",
   "metadata": {},
   "source": [
    "## Ejemplo"
   ]
  },
  {
   "cell_type": "markdown",
   "metadata": {},
   "source": [
    "Consideremos el problema en el que ustes tiene \\\\$1000, y esta considerando comprar un stock de acciones $X$, cuyo precio actual es \\\\$10 por accion, el tiempo de espera es un mes, y un analista le comento que existe una probabilidad de $0.6$ que las acciones suban a \\\\$11 en un mes, mientras existe una probabilidad de 0.4, que se convierta en 0.9. Consideremos possibles acciones, invertir los \\\\$1000 en $X$ o no invertir."
   ]
  },
  {
   "cell_type": "code",
   "execution_count": 6,
   "metadata": {},
   "outputs": [
    {
     "data": {
      "text/html": [
       "<svg xmlns=\"http://www.w3.org/2000/svg\" xmlns:xlink=\"http://www.w3.org/1999/xlink\" width=\"156pt\" height=\"116pt\" viewBox=\"0.00 0.00 156.00 116.00\">\n",
       "<g id=\"graph0\" class=\"graph\" transform=\"scale(1 1) rotate(0) translate(4 112)\">\n",
       "<title>G</title>\n",
       "<!-- Stock -->\n",
       "<g id=\"node1\" class=\"node\">\n",
       "<title>Stock</title>\n",
       "<ellipse fill=\"#504a50\" stroke=\"#4a4a4a\" cx=\"32.5\" cy=\"-90\" rx=\"32.49\" ry=\"18\"/>\n",
       "<text text-anchor=\"middle\" x=\"32.5\" y=\"-86.3\" font-family=\"Times New Roman,serif\" font-size=\"14.00\" fill=\"white\">Stock</text>\n",
       "</g>\n",
       "<!-- Utility -->\n",
       "<g id=\"node3\" class=\"node\">\n",
       "<title>Utility</title>\n",
       "<polygon fill=\"#4a5050\" stroke=\"#4a4a4a\" points=\"73.5,-36 27.58,-18 73.5,0 119.41,-18 73.5,-36\"/>\n",
       "<text text-anchor=\"middle\" x=\"73.5\" y=\"-14.3\" font-family=\"Times New Roman,serif\" font-size=\"14.00\" fill=\"white\">Utility</text>\n",
       "</g>\n",
       "<!-- Stock&#45;&gt;Utility -->\n",
       "<g id=\"edge1\" class=\"edge\">\n",
       "<title>Stock-&gt;Utility</title>\n",
       "<path fill=\"none\" stroke=\"#4a4a4a\" d=\"M42.01,-72.76C47.37,-63.61 54.15,-52.03 60.05,-41.96\"/>\n",
       "<polygon fill=\"#4a4a4a\" stroke=\"#4a4a4a\" points=\"63.12,-43.65 65.15,-33.25 57.08,-40.11 63.12,-43.65\"/>\n",
       "</g>\n",
       "<!-- Decision -->\n",
       "<g id=\"node2\" class=\"node\">\n",
       "<title>Decision</title>\n",
       "<polygon fill=\"#50504a\" stroke=\"#4a4a4a\" points=\"148,-108 83,-108 83,-72 148,-72 148,-108\"/>\n",
       "<text text-anchor=\"middle\" x=\"115.5\" y=\"-86.3\" font-family=\"Times New Roman,serif\" font-size=\"14.00\" fill=\"white\">Decision</text>\n",
       "</g>\n",
       "<!-- Decision&#45;&gt;Utility -->\n",
       "<g id=\"edge2\" class=\"edge\">\n",
       "<title>Decision-&gt;Utility</title>\n",
       "<path fill=\"none\" stroke=\"#4a4a4a\" d=\"M105.12,-71.7C99.67,-62.62 92.92,-51.38 87.07,-41.61\"/>\n",
       "<polygon fill=\"#4a4a4a\" stroke=\"#4a4a4a\" points=\"89.94,-39.6 81.79,-32.82 83.94,-43.2 89.94,-39.6\"/>\n",
       "</g>\n",
       "</g>\n",
       "</svg>"
      ],
      "text/plain": [
       "(gum::InfluenceDiagram<double>@0B100920) Influence Diagram{\n",
       "  chance: 1,\n",
       "  utility: 1,\n",
       "  decision: 1,\n",
       "  arcs: 2,\n",
       "  domainSize: 4\n",
       "}"
      ]
     },
     "execution_count": 6,
     "metadata": {},
     "output_type": "execute_result"
    }
   ],
   "source": [
    "diag=gum.InfluenceDiagram()\n",
    "F=diag.addChanceNode(gum.LabelizedVariable(\"Stock\",\"Prob Stock\",2))\n",
    "D=diag.addDecisionNode(gum.LabelizedVariable(\"Decision\",\"Invest\",2))\n",
    "U=diag.addUtilityNode(gum.LabelizedVariable(\"Utility\",\"Expected Utility\",1))\n",
    "#Unir nodos\n",
    "diag.addArc(D,U)\n",
    "diag.addArc(F,U)\n",
    "diag"
   ]
  },
  {
   "cell_type": "markdown",
   "metadata": {},
   "source": [
    "Diremos que $0$ es no invertir y $1$ si decide invertir."
   ]
  },
  {
   "cell_type": "code",
   "execution_count": 7,
   "metadata": {},
   "outputs": [],
   "source": [
    "diag.cpt(F)[{'Decision':0}]=[1,0]\n",
    "diag.cpt(F)[{'Decision':1}]=[0.6,0.4]"
   ]
  },
  {
   "cell_type": "markdown",
   "metadata": {},
   "source": [
    "Verificamos, agregamos las probabilidades correspondientes."
   ]
  },
  {
   "cell_type": "code",
   "execution_count": 8,
   "metadata": {},
   "outputs": [
    {
     "data": {
      "text/html": [
       "<table style=\"border:1px solid black;\">\n",
       "<tr style='border:1px solid black;color:black;background-color:#808080'><th colspan='2'><center>Stock</center></th></tr>\n",
       "<tr><th style='border:1px solid black;border-bottom-style: double;color:black;background-color:#BBBBBB'><center>0</center></th><th style='border:1px solid black;border-bottom-style: double;color:black;background-color:#BBBBBB'><center>1</center></th></tr>\n",
       "<tr><td style='color:black;background-color:#b2cb64;text-align:right;'>0.6000</td><td style='color:black;background-color:#cbb264;text-align:right;'>0.4000</td></tr>\n",
       "</table>"
      ],
      "text/plain": [
       "(gum::Potential<double>@0B08BA70) <Stock:0> :: 0.6 /<Stock:1> :: 0.4"
      ]
     },
     "execution_count": 8,
     "metadata": {},
     "output_type": "execute_result"
    }
   ],
   "source": [
    "diag.cpt(F)"
   ]
  },
  {
   "cell_type": "markdown",
   "metadata": {},
   "source": [
    "Incluimos la utilidad recibida de cada caso de si se presenta la subida de stock, y si se toma la decisión de invertir o no."
   ]
  },
  {
   "cell_type": "code",
   "execution_count": 9,
   "metadata": {},
   "outputs": [],
   "source": [
    "diag.utility(U)[{'Stock':0,'Decision':1}]=1100\n",
    "diag.utility(U)[{'Stock':1,'Decision':1}]=900\n",
    "diag.utility(U)[{'Stock':0,'Decision':0}]=1000\n",
    "diag.utility(U)[{'Stock':1,'Decision':0}]=1000"
   ]
  },
  {
   "cell_type": "code",
   "execution_count": 10,
   "metadata": {},
   "outputs": [],
   "source": [
    "ie=gum.InfluenceDiagramInference(diag)"
   ]
  },
  {
   "cell_type": "code",
   "execution_count": 11,
   "metadata": {},
   "outputs": [
    {
     "data": {
      "text/html": [
       "<table style=\"border:1px solid black;\">\n",
       "<tr><th colspan='2'></th><th colspan='1' style='border:1px solid black;color:black;background-color:#808080;'><center>Utility</center></th></tr>\n",
       "<tr><th style='border:1px solid black;color:black;background-color:#808080'><center>Stock</center></th><th style='border:1px solid black;color:black;background-color:#808080'><center>Decision</center></th><th style='border:1px solid black;border-bottom-style: double;color:black;background-color:#BBBBBB'><center>0</center></th></tr>\n",
       "<tr><th style='border:1px solid black;color:black;background-color:#BBBBBB;' rowspan = '2'><center>0</center></th><th style='border:1px solid black;color:black;background-color:#BBBBBB'><center>0</center></th><td style='text-align:right;'>1000.0000</td></tr>\n",
       "<tr><th style='border:1px solid black;color:black;background-color:#BBBBBB'><center>1</center></th><td style='text-align:right;'>1100.0000</td></tr>\n",
       "<tr><th style='border:1px solid black;color:black;background-color:#BBBBBB;' rowspan = '2'><center>1</center></th><th style='border:1px solid black;color:black;background-color:#BBBBBB'><center>0</center></th><td style='text-align:right;'>1000.0000</td></tr>\n",
       "<tr><th style='border:1px solid black;color:black;background-color:#BBBBBB'><center>1</center></th><td style='text-align:right;'>900.0000</td></tr>\n",
       "</table>"
      ],
      "text/plain": [
       "(gum::Potential<double>@0B08BB78) <Utility:0|Decision:0|Stock:0> :: 1000 /<Utility:0|Decision:1|Stock:0> :: 1100 /<Utility:0|Decision:0|Stock:1> :: 1000 /<Utility:0|Decision:1|Stock:1> :: 900"
      ]
     },
     "execution_count": 11,
     "metadata": {},
     "output_type": "execute_result"
    }
   ],
   "source": [
    "table = diag.utility(\"Utility\")\n",
    "table"
   ]
  },
  {
   "cell_type": "markdown",
   "metadata": {},
   "source": [
    "### Maximización de la Utilidad"
   ]
  },
  {
   "cell_type": "markdown",
   "metadata": {},
   "source": [
    "Como ya presentamos anteriormente la maximización ocurre de tomar las decisiones que maximizan\n",
    "\n",
    "$$\\max E[U(a)]=\\prod_H U(a,H)P(H|a)$$\n",
    "\n",
    "En este ejemplo, el agente solo posee dos tipos de aciones $A=\\{Invertir,No \\ invertir\\}$. Para esto calculamos el valor esperado de cada decision, primero la de invertir\n",
    "\n",
    "$$E(D=1)=0.6($1100)+0.4($900)=1020$$\n",
    "\n",
    "Luego la si decide no invertir:\n",
    "\n",
    "$$E(D=0)=1000$$"
   ]
  },
  {
   "cell_type": "code",
   "execution_count": 12,
   "metadata": {},
   "outputs": [
    {
     "name": "stdout",
     "output_type": "stream",
     "text": [
      "Best decision to invest or not : 1\n",
      "For a maxEU : 1020.0\n"
     ]
    }
   ],
   "source": [
    "ie.makeInference()\n",
    "print(\"Best decision to invest or not : {0}\".format(ie.getBestDecisionChoice(diag.idFromName(\"Decision\"))))\n",
    "print(\"For a maxEU : {0}\".format(ie.getMEU()))"
   ]
  },
  {
   "cell_type": "markdown",
   "metadata": {},
   "source": [
    "Una vez entendemos como funciona un diagrama de decisión procederemos a modelar el problema de decisión de situación clinica de HIV. "
   ]
  },
  {
   "cell_type": "markdown",
   "metadata": {},
   "source": [
    "# Modelo HIV"
   ]
  },
  {
   "cell_type": "markdown",
   "metadata": {},
   "source": [
    "El problema que modelaremos, sera la decisión de testear a un bebe nacido de una madre que es infectada con el virus imunidefiencia HIV con la reaction polimerasa PCR, una tecnica de amplificacion de genes que es util para el diagnostico de HIV en bebes. La primera decisión constara en eelegir si se debe realicar PCR, y la segunda, si se debe trata la infección con Pneumocystis pneumonia PCP, una vez el resultado es conocido. Este articulo en el que nos basamos es un poco, viejo, en ese entonces es recomendado, la iniciacon de un PCP infectados de HIV. El beneficio que modelaremoz, sera de la esperanza de vias mas larga ajustada por calidad, si se utiliza la profilaxis de la PCP en el lactante infectado por HIV. El modelo que se propondrá es entonces:\n",
    "\n",
    "* El resultado PCR, depende de si el infante se encuentra infectado, el arco entre HIV estatus a PCR estas dos representa una dependencia probabilistica.\n",
    "* Se presenta un arco entre del estado de HIV y tratamiento a QALE(Esperanza de vida ajustada por calidad). Pero no existe un arco entre PCR a QALE, esto pues,dado el conocimiento del estado de infeccion de VIH y de si el paciente ha sido tratado. \n",
    "* El QALE no depende del resultado PCR, puesto que si sabemos que el paciente realmente tiene HIV y dependiendo si el paciente fue tratado o no, la informacion del resultado, no afecta su expectativa de vida.\n",
    "* El arco entre el resultado PCR y Tratamiento, inidica la decision que el paciente eligen una vez conoce el resultado para decidi entrarn en el tratamiento o no.\n",
    "* El resutlado del PCR es positivo o negativo, condicionado al estado de HIV, y si el test fue ordenado.\n",
    "\n",
    "Por otro lado si no existe un arco entre de un nodo de HIV estado a decision de tratamiento, indica que el tomador de la decision no ha observado del evento de HIV, para tomar la decisión. Esto es el decidido no conoce el estado de HIV, cuando decide tratarse o no.\n",
    "\n",
    "La tabla de PCR plantea que el resultado que si el paciente es infectado de PCR la probabilidad de un resultado positivo ($HIV+$) es de 0.98, mientras por el contrario un resultado negativo($HIV-$) tiene una probabilidad de 0.02. De la misma manera si la alternativa elegia es no testearse con el PCR el resultano no se encuentra disponible con probabilidad 1. "
   ]
  },
  {
   "cell_type": "markdown",
   "metadata": {},
   "source": [
    "<img src=\"./Imagenes/Figura2.PNG\" width=\"700px\">"
   ]
  },
  {
   "cell_type": "markdown",
   "metadata": {},
   "source": [
    "A continuacion mostramos la tabla que muestra los simbolos con sus respectivos significados.\n",
    "\n",
    "<img src=\"./Imagenes/Tabla1.PNG\" width=\"400px\">"
   ]
  },
  {
   "cell_type": "markdown",
   "metadata": {},
   "source": [
    "## Forma de evaluar los diagramas de influencia"
   ]
  },
  {
   "cell_type": "markdown",
   "metadata": {},
   "source": [
    "Como los arboles de decision y los diagramasde influencia representan el mismo modelo, la forma de evaluar los diagramas de influencia es similar a como se evaluan los arboles de decisión.\n",
    "\n",
    "1. Primero toma el valor esperado de cada nodo de chanes( Esto es sumando los productos de las probabilidades con la utilida de cada opcion probabilistica), sustitutye el valor esperado por el nodo, y repite el proceso hasta que encuentra un nodo de decisión. Este proceso se llama *removmiento de nodos de probabilidad*.\n",
    "2. En el nodo de decision el analista toma una alternativa con la mayor utilidad esperada y remueve el nodo de decisión. Este proceso se llama *eliminacion de nodo de decision por determinación de politica*.\n"
   ]
  },
  {
   "cell_type": "markdown",
   "metadata": {},
   "source": [
    "<img src=\"./Imagenes/Figura3.PNG\" width=\"700px\">"
   ]
  },
  {
   "cell_type": "markdown",
   "metadata": {},
   "source": [
    "Se han presentado varios algoritmos par evaluar diagramas de influencia, el mas simple es el metodo de arco reverso y removimiento de noso, creado por Shachter."
   ]
  },
  {
   "cell_type": "markdown",
   "metadata": {},
   "source": [
    "## Algoritmo de evaluación"
   ]
  },
  {
   "cell_type": "markdown",
   "metadata": {},
   "source": [
    "1. Eliminar todos los nodos(excepto los nodos de valor), que no apunto a otro nodo (nodos de barrera). En el ejemplo presentado anterior mente, tales nodos no existen.\n",
    "2. Cuando ya no existan mas nodos que apunte a un nodo de valor/utilidad, hace lo siguiente:\n",
    "\n",
    "    a. Si existe un nodo de decisión que apunto a un nodo de valor, y si todo los otros nodos que apuntan al valor nodo también apuntan al nodo de valor, también apunto al nodo de decisión, remover el nodo de decisión, por determinación de política. remover cualquier nodo (otro que no sea el nodo de valor), que no apunte a otro nodo.\n",
    "    \n",
    "    b. Si existe un nodo de posibilidad que apunte a un nodo de valor, removerlo por promedio, volver al paso 2.\n",
    "    \n",
    "    c. Encontrar un nodo de probabilidad que apunte a un nodo de valor y que no apunte a un nodo de decisión. Reversa los arcos(flechas), que apuntan del nodo de posibilidad a otro nodo de posibilidad que no cree un ciclo. Ahora el nodo de posibilidad apuntara solamente al nodo de valor. Volver al paso 2.\n",
    "    \n",
    "Algo importante que los autores recalcan, es que *a medida que se remueve un nodo, los hijos de los nodos heredan los arcos del nodo de valor/utilidad*"
   ]
  },
  {
   "cell_type": "markdown",
   "metadata": {},
   "source": [
    "## Tratarse o no tratarse (Tratamiento clinico)"
   ]
  },
  {
   "cell_type": "markdown",
   "metadata": {},
   "source": [
    "La modelación de tratamiento que trabajaremos sera :\n",
    "\n",
    "<img src=\"./Imagenes/Figura7a.PNG\" width=\"600px\">"
   ]
  },
  {
   "cell_type": "markdown",
   "metadata": {},
   "source": [
    "Comenzamos con el algoritmo donde el decedidor debete elegir si tratatse o no, si ninguna información como evidencia. No se presentan nodos de barrera. La condicion 2a, no se encuentra satisfechas --HIV Status no apunta a un nodo de decisión-- lo cual nos indica que el decididos no ha observado su estado HIV en el tiemp oque toma la decision,-- luego el nodo no puede ser removido todavia. Sin embargo la condicon del paso 2b son satisfechas, por lo tanto removemos el nodo *HIV status* promediandos. Al eliminar el nodo, QALE solo depende del nodo tratamiento y se calcula entonces la utilidad esperada de tratatse o no. Aca es raro, por que ya se sabe que la mejor opcion es tratarse en base al valor esperado, pero ellos siguen aplicando el algoritmo, probablemente, con fines ilustrativos. El valor esperado de tratarse es\n",
    "\n",
    "* $$EU(Tx+)=p(HIV*)U(HIV+,Tx+)+P(HIV-)U(HIV-,Tx+)\\\\ = (0.08)(10.50 \\ QALYs)+(0.92)(75.46 \\ QALYs)\\\\=0.2632 \\ QALYs$$\n",
    "\n",
    "\n",
    "Mientras el valor esperado de no tratarse es \n",
    "\n",
    "* $$EU(Tx-)=p(Hiv*)U(HIV+,Tx-)+P(HIV-)U(HIV-,Tx-)\\\\ = (0.08)(10.0 \\ QALYs)+(0.92)(75.5 \\ QALYs)\\\\=0.2600 \\ QALYs$$\n",
    "\n",
    "De aca ya es posible deducir que la mejor decision sin ninguna evidencia alguna es tratarse. Ahora lo que se hace es aplicar el logaritmo, para evaluar todos los posibles casos en los que se encuentre evidencia elegir el mejor caso.\n",
    "\n",
    "Para eliminar por promedios, debemos saber su valor, por lo tanto se reversa el arco que lo une con sus padres y se calcula sus probabilidades condicionales de la nueva tabla. Como en este caso no sucede el HIV status lo dejamos dependiente de el resultado PCR, y volvemos a calcular sus probabilidades. COMO ESAS SON LAS NUEVAS POSIBILIDADES?"
   ]
  },
  {
   "cell_type": "markdown",
   "metadata": {},
   "source": [
    "<img src=\"./Imagenes/Figura7b.PNG\" width=\"600px\">"
   ]
  },
  {
   "cell_type": "markdown",
   "metadata": {},
   "source": [
    "## Calculos\n",
    "\n",
    "____________________________________________________________________\n",
    "1. Calculo nueva tabla de PCR Result\n",
    "\n",
    "Para calcular el nuevo $P(HIV+)_{PCR+1}$, procedemos a calcular:\n",
    "\n",
    "$$P(HIV+)_{PCR+1}=P(HIV+)_{PCR}*P(HIV+)_{HIV Status}+P(HIV-)_{PCR}*P(HIV-)_{HIV Status}$$\n",
    "\n",
    "Esto es \n",
    "\n",
    "$$P(HIV+)_{PCR+1}=0.98\\cdot0.08+0.02\\cdot0.92$$\n",
    "\n",
    "\n",
    "Luego $P(HIV-)_{PCR+1} = 1-P(HIV+)_{PCR+1}$\n",
    "\n",
    "____________________________________________________________________\n",
    "2. Calculo nueva probabilidad condicional HIV Status,\n",
    "\n",
    "En este caso nos será útil utilizar el teorema de bayes que nos plantea :\n",
    "\n",
    "$$ P(A|B)=\\frac{P(B|A)P(A)}{P(B)}$$\n",
    "\n",
    "Para calcular las probabilidades de $HIV Status$ nuevas, por ejemplo $P(HIV*_{Status}|HIV+_{PCR \\ Result}) = \\frac{0.98\\cdot0.08}{0.0968}=0.8099$"
   ]
  },
  {
   "cell_type": "markdown",
   "metadata": {},
   "source": [
    "_______________________________________________________________________\n",
    "_______________________________________________________________________"
   ]
  },
  {
   "cell_type": "markdown",
   "metadata": {},
   "source": [
    "Despues procedemos a modificar los valores de utilidad de , para poder eliminar el nodo de HIV estatus, entonces.\n",
    "\n",
    "* $$U(HIV+|Tx+)_{PCR+1}=P(HIV+_{HIV Status}|HIV+_{PCR \\ Result})*U(HIV+|Tx+)+ \\\\ P(HIV-|HIV+_{PCR \\ Result})*U(HIV-|Tx+)=22.8489$$\n",
    "\n",
    "\n",
    "$\\;$\n",
    "\n",
    "\n",
    "* $$U(HIV+|Tx-)_{PCR+1}=P(HIV+_{HIV Status}|HIV+_{PCR \\ Result})*U(HIV+|Tx-)+ \\\\ P(HIV-|HIV+_{PCR \\ Result})*U(HIV-|Tx-)=22.4516$$\n",
    "\n",
    "$\\;$\n",
    "\n",
    "\n",
    "* $$U(HIV-|Tx+)_{PCR+1}=P(HIV+_{HIV Status}|HIV-_{PCR \\ Result})*U(HIV+|Tx+)+ \\\\ P(HIV-|HIV-_{PCR \\ Result})*U(HIV-|Tx+)=75.3431$$\n",
    "\n",
    "$\\;$\n",
    "\n",
    "\n",
    "* $$U(HIV-|Tx-)_{PCR+1}=P(HIV+_{HIV Status}|HIV-_{PCR \\ Result})*U(HIV+|Tx-)+ \\\\ P(HIV-|HIV-_{PCR \\ Result})*U(HIV-|Tx-)=75.3821$$\n"
   ]
  },
  {
   "cell_type": "markdown",
   "metadata": {},
   "source": [
    "Remplazamos la utilidades, y podemos eliminar el nodo chance"
   ]
  },
  {
   "cell_type": "markdown",
   "metadata": {},
   "source": [
    "<img src=\"./Imagenes/Figura7c.PNG\" width=\"600px\">"
   ]
  },
  {
   "cell_type": "markdown",
   "metadata": {},
   "source": [
    "Luego volvemos al paso 2, escojemos el maximo nodo de decision sujeto a la codicion del resultado, y elegimos las mejores opciones condicionadas al PCR result. Esto es, si el resultado es $HIV+$, lo mejor es tratarse, si el resultado es negativo $HIV-$, lo mejor no es tratarse. "
   ]
  },
  {
   "cell_type": "markdown",
   "metadata": {},
   "source": [
    "<img src=\"./Imagenes/Figura7d.PNG\" width=\"600px\">"
   ]
  },
  {
   "cell_type": "markdown",
   "metadata": {},
   "source": [
    "## Replicacion\n",
    "\n",
    "Ahora lo que haremos es replicar utilizando la libreria y deberiamos llegar a los mismos resultados planteados por el articulo."
   ]
  },
  {
   "cell_type": "code",
   "execution_count": 13,
   "metadata": {},
   "outputs": [
    {
     "data": {
      "text/html": [
       "<svg xmlns=\"http://www.w3.org/2000/svg\" xmlns:xlink=\"http://www.w3.org/1999/xlink\" width=\"154pt\" height=\"260pt\" viewBox=\"0.00 0.00 154.29 260.00\">\n",
       "<g id=\"graph0\" class=\"graph\" transform=\"scale(1 1) rotate(0) translate(4 256)\">\n",
       "<title>G</title>\n",
       "<!-- HIV Status -->\n",
       "<g id=\"node1\" class=\"node\">\n",
       "<title>HIV Status</title>\n",
       "<ellipse fill=\"#504a50\" stroke=\"#4a4a4a\" cx=\"94.95\" cy=\"-234\" rx=\"51.19\" ry=\"18\"/>\n",
       "<text text-anchor=\"middle\" x=\"94.95\" y=\"-230.3\" font-family=\"Times New Roman,serif\" font-size=\"14.00\" fill=\"white\">HIV Status</text>\n",
       "</g>\n",
       "<!-- PCR Result -->\n",
       "<g id=\"node2\" class=\"node\">\n",
       "<title>PCR Result</title>\n",
       "<ellipse fill=\"#504a50\" stroke=\"#4a4a4a\" cx=\"53.95\" cy=\"-162\" rx=\"53.89\" ry=\"18\"/>\n",
       "<text text-anchor=\"middle\" x=\"53.95\" y=\"-158.3\" font-family=\"Times New Roman,serif\" font-size=\"14.00\" fill=\"white\">PCR Result</text>\n",
       "</g>\n",
       "<!-- HIV Status&#45;&gt;PCR Result -->\n",
       "<g id=\"edge2\" class=\"edge\">\n",
       "<title>HIV Status-&gt;PCR Result</title>\n",
       "<path fill=\"none\" stroke=\"#4a4a4a\" d=\"M85.02,-216.05C80.19,-207.8 74.27,-197.7 68.9,-188.54\"/>\n",
       "<polygon fill=\"#4a4a4a\" stroke=\"#4a4a4a\" points=\"71.85,-186.65 63.78,-179.79 65.81,-190.19 71.85,-186.65\"/>\n",
       "</g>\n",
       "<!-- QALE -->\n",
       "<g id=\"node4\" class=\"node\">\n",
       "<title>QALE</title>\n",
       "<polygon fill=\"#4a5050\" stroke=\"#4a4a4a\" points=\"94.95,-36 46.01,-18 94.95,0 143.88,-18 94.95,-36\"/>\n",
       "<text text-anchor=\"middle\" x=\"94.95\" y=\"-14.3\" font-family=\"Times New Roman,serif\" font-size=\"14.00\" fill=\"white\">QALE</text>\n",
       "</g>\n",
       "<!-- HIV Status&#45;&gt;QALE -->\n",
       "<g id=\"edge1\" class=\"edge\">\n",
       "<title>HIV Status-&gt;QALE</title>\n",
       "<path fill=\"none\" stroke=\"#4a4a4a\" d=\"M104.08,-215.88C108.95,-205.76 114.45,-192.51 116.95,-180 119.72,-166.07 119.94,-92.17 115.95,-72 113.99,-62.12 110.27,-51.73 106.5,-42.79\"/>\n",
       "<polygon fill=\"#4a4a4a\" stroke=\"#4a4a4a\" points=\"109.59,-41.11 102.31,-33.41 103.2,-43.97 109.59,-41.11\"/>\n",
       "</g>\n",
       "<!-- Treat?(Yes/No) -->\n",
       "<g id=\"node3\" class=\"node\">\n",
       "<title>Treat?(Yes/No)</title>\n",
       "<polygon fill=\"#50504a\" stroke=\"#4a4a4a\" points=\"106.95,-108 2.95,-108 2.95,-72 106.95,-72 106.95,-108\"/>\n",
       "<text text-anchor=\"middle\" x=\"54.95\" y=\"-86.3\" font-family=\"Times New Roman,serif\" font-size=\"14.00\" fill=\"white\">Treat?(Yes/No)</text>\n",
       "</g>\n",
       "<!-- PCR Result&#45;&gt;Treat?(Yes/No) -->\n",
       "<g id=\"edge3\" class=\"edge\">\n",
       "<title>PCR Result-&gt;Treat?(Yes/No)</title>\n",
       "<path fill=\"none\" stroke=\"#4a4a4a\" d=\"M54.19,-143.7C54.3,-135.98 54.44,-126.71 54.56,-118.11\"/>\n",
       "<polygon fill=\"#4a4a4a\" stroke=\"#4a4a4a\" points=\"58.06,-118.15 54.7,-108.1 51.06,-118.05 58.06,-118.15\"/>\n",
       "</g>\n",
       "<!-- Treat?(Yes/No)&#45;&gt;QALE -->\n",
       "<g id=\"edge4\" class=\"edge\">\n",
       "<title>Treat?(Yes/No)-&gt;QALE</title>\n",
       "<path fill=\"none\" stroke=\"#4a4a4a\" d=\"M64.83,-71.7C69.95,-62.74 76.27,-51.68 81.8,-42.01\"/>\n",
       "<polygon fill=\"#4a4a4a\" stroke=\"#4a4a4a\" points=\"84.86,-43.7 86.79,-33.28 78.79,-40.22 84.86,-43.7\"/>\n",
       "</g>\n",
       "</g>\n",
       "</svg>"
      ],
      "text/plain": [
       "(gum::InfluenceDiagram<double>@0B101640) Influence Diagram{\n",
       "  chance: 2,\n",
       "  utility: 1,\n",
       "  decision: 1,\n",
       "  arcs: 4,\n",
       "  domainSize: 8\n",
       "}"
      ]
     },
     "execution_count": 13,
     "metadata": {},
     "output_type": "execute_result"
    }
   ],
   "source": [
    "HIV1=gum.InfluenceDiagram()\n",
    "S=HIV1.addChanceNode(gum.LabelizedVariable(\"HIV Status\",\"HIV Status\",2))\n",
    "R=HIV1.addChanceNode(gum.LabelizedVariable(\"PCR Result\",\"PCR Result\",2))\n",
    "T=HIV1.addDecisionNode(gum.LabelizedVariable(\"Treat?(Yes/No)\",\"Treat?\",2))\n",
    "Q=HIV1.addUtilityNode(gum.LabelizedVariable(\"QALE\",\"QALE\",1))\n",
    "#Unir nodos\n",
    "HIV1.addArc(S,Q)\n",
    "HIV1.addArc(S,R)\n",
    "HIV1.addArc(R,T)\n",
    "HIV1.addArc(T,Q)\n",
    "HIV1"
   ]
  },
  {
   "cell_type": "markdown",
   "metadata": {},
   "source": [
    "Diremos que $0$ es para $HIV-$ y $1$ para $HIV+$"
   ]
  },
  {
   "cell_type": "code",
   "execution_count": 14,
   "metadata": {},
   "outputs": [
    {
     "data": {
      "text/html": [
       "<table style=\"border:1px solid black;\">\n",
       "<tr style='border:1px solid black;color:black;background-color:#808080'><th colspan='2'><center>HIV Status</center></th></tr>\n",
       "<tr><th style='border:1px solid black;border-bottom-style: double;color:black;background-color:#BBBBBB'><center>0</center></th><th style='border:1px solid black;border-bottom-style: double;color:black;background-color:#BBBBBB'><center>1</center></th></tr>\n",
       "<tr><td style='color:black;background-color:#89f464;text-align:right;'>0.9200</td><td style='color:black;background-color:#f48964;text-align:right;'>0.0800</td></tr>\n",
       "</table>"
      ],
      "text/plain": [
       "(gum::Potential<double>@0B109FA0) <HIV Status:0> :: 0.92 /<HIV Status:1> :: 0.08"
      ]
     },
     "execution_count": 14,
     "metadata": {},
     "output_type": "execute_result"
    }
   ],
   "source": [
    "HIV1.cpt(S).fillWith([0.92,0.08])"
   ]
  },
  {
   "cell_type": "code",
   "execution_count": 15,
   "metadata": {},
   "outputs": [
    {
     "data": {
      "text/plain": [
       "['HIV Status', 'PCR Result']"
      ]
     },
     "execution_count": 15,
     "metadata": {},
     "output_type": "execute_result"
    }
   ],
   "source": [
    "HIV1.cpt(R).var_names"
   ]
  },
  {
   "cell_type": "code",
   "execution_count": 16,
   "metadata": {},
   "outputs": [
    {
     "data": {
      "text/html": [
       "<table style=\"border:1px solid black;\">\n",
       "<tr><th colspan='1'></th><th colspan='2' style='border:1px solid black;color:black;background-color:#808080;'><center>PCR Result</center></th></tr>\n",
       "<tr><th style='border:1px solid black;color:black;background-color:#808080'><center>HIV Status</center></th><th style='border:1px solid black;border-bottom-style: double;color:black;background-color:#BBBBBB'><center>0</center></th><th style='border:1px solid black;border-bottom-style: double;color:black;background-color:#BBBBBB'><center>1</center></th></tr>\n",
       "<tr><th style='border:1px solid black;color:black;background-color:#BBBBBB'><center>0</center></th><td style='color:black;background-color:#81fc64;text-align:right;'>0.9800</td><td style='color:black;background-color:#fc8164;text-align:right;'>0.0200</td></tr>\n",
       "<tr><th style='border:1px solid black;color:black;background-color:#BBBBBB'><center>1</center></th><td style='color:black;background-color:#fc8164;text-align:right;'>0.0200</td><td style='color:black;background-color:#81fc64;text-align:right;'>0.9800</td></tr>\n",
       "</table>"
      ],
      "text/plain": [
       "(gum::Potential<double>@0B10A210) <PCR Result:0|HIV Status:0> :: 0.98 /<PCR Result:1|HIV Status:0> :: 0.02 /<PCR Result:0|HIV Status:1> :: 0.02 /<PCR Result:1|HIV Status:1> :: 0.98"
      ]
     },
     "execution_count": 16,
     "metadata": {},
     "output_type": "execute_result"
    }
   ],
   "source": [
    "HIV1.cpt(R)[{'HIV Status':1}] = [0.02, 0.98]\n",
    "HIV1.cpt(R)[{'HIV Status':0}] = [0.98, 0.02]\n",
    "HIV1.cpt(R)"
   ]
  },
  {
   "cell_type": "code",
   "execution_count": 17,
   "metadata": {},
   "outputs": [
    {
     "data": {
      "text/html": [
       "<table style=\"border:1px solid black;\">\n",
       "<tr><th colspan='2'></th><th colspan='1' style='border:1px solid black;color:black;background-color:#808080;'><center>QALE</center></th></tr>\n",
       "<tr><th style='border:1px solid black;color:black;background-color:#808080'><center>Treat?(Yes/No)</center></th><th style='border:1px solid black;color:black;background-color:#808080'><center>HIV Status</center></th><th style='border:1px solid black;border-bottom-style: double;color:black;background-color:#BBBBBB'><center>0</center></th></tr>\n",
       "<tr><th style='border:1px solid black;color:black;background-color:#BBBBBB;' rowspan = '2'><center>0</center></th><th style='border:1px solid black;color:black;background-color:#BBBBBB'><center>0</center></th><td style='text-align:right;'>75.5000</td></tr>\n",
       "<tr><th style='border:1px solid black;color:black;background-color:#BBBBBB'><center>1</center></th><td style='text-align:right;'>10.0000</td></tr>\n",
       "<tr><th style='border:1px solid black;color:black;background-color:#BBBBBB;' rowspan = '2'><center>1</center></th><th style='border:1px solid black;color:black;background-color:#BBBBBB'><center>0</center></th><td style='text-align:right;'>75.4600</td></tr>\n",
       "<tr><th style='border:1px solid black;color:black;background-color:#BBBBBB'><center>1</center></th><td style='text-align:right;'>10.5000</td></tr>\n",
       "</table>"
      ],
      "text/plain": [
       "(gum::Potential<double>@0B10A228) <QALE:0|HIV Status:0|Treat?(Yes/No):0> :: 75.5 /<QALE:0|HIV Status:1|Treat?(Yes/No):0> :: 10 /<QALE:0|HIV Status:0|Treat?(Yes/No):1> :: 75.46 /<QALE:0|HIV Status:1|Treat?(Yes/No):1> :: 10.5"
      ]
     },
     "execution_count": 17,
     "metadata": {},
     "output_type": "execute_result"
    }
   ],
   "source": [
    "HIV1.utility(Q)[{'HIV Status':1,'Treat?(Yes/No)':1}]=10.5\n",
    "HIV1.utility(Q)[{'HIV Status':1,'Treat?(Yes/No)':0}]=10.0\n",
    "HIV1.utility(Q)[{'HIV Status':0,'Treat?(Yes/No)':1}]=75.46\n",
    "HIV1.utility(Q)[{'HIV Status':0,'Treat?(Yes/No)':0}]=75.50\n",
    "HIV1.utility(Q)"
   ]
  },
  {
   "cell_type": "markdown",
   "metadata": {},
   "source": [
    "Procedemos hacer la inferencia sin información."
   ]
  },
  {
   "cell_type": "code",
   "execution_count": 18,
   "metadata": {},
   "outputs": [
    {
     "name": "stdout",
     "output_type": "stream",
     "text": [
      "Best decision to Treat? (Yes/No) : 1\n",
      "For a maxEU : 70.29846400000001\n"
     ]
    }
   ],
   "source": [
    "ie=gum.InfluenceDiagramInference(HIV1)\n",
    "ie.eraseAllEvidence()\n",
    "ie.makeInference()\n",
    "print(\"Best decision to Treat? (Yes/No) : {0}\".format(ie.getBestDecisionChoice(HIV1.idFromName(\"Treat?(Yes/No)\"))))\n",
    "print(\"For a maxEU : {0}\".format(ie.getMEU()))"
   ]
  },
  {
   "cell_type": "markdown",
   "metadata": {},
   "source": [
    "Aca es posible notar, que se aplico el algoritmo y se llega al mismo resultado del articulo !, ahora pasemosle una evidencia, y nos debera resultar en una utilidad esperada calculada. Vamos a decir que el resutlado fue poistivo."
   ]
  },
  {
   "cell_type": "code",
   "execution_count": 19,
   "metadata": {},
   "outputs": [
    {
     "name": "stdout",
     "output_type": "stream",
     "text": [
      "Best decision to Treat? (Yes/No) : 1\n",
      "For a maxEU : 22.847768595041323\n"
     ]
    }
   ],
   "source": [
    "ie=gum.InfluenceDiagramInference(HIV1)\n",
    "ie.eraseAllEvidence()\n",
    "ie.setEvidence({'PCR Result':1})\n",
    "ie.makeInference()\n",
    "print(\"Best decision to Treat? (Yes/No) : {0}\".format(ie.getBestDecisionChoice(HIV1.idFromName(\"Treat?(Yes/No)\"))))\n",
    "print(\"For a maxEU : {0}\".format(ie.getMEU()))"
   ]
  },
  {
   "cell_type": "markdown",
   "metadata": {},
   "source": [
    "Es posible notar, que en la figura c, es el mismo resultado, el modelo, funciona correctamente !"
   ]
  },
  {
   "cell_type": "markdown",
   "metadata": {},
   "source": [
    "## Tratarse o no tratarse con test diagnostico\n"
   ]
  },
  {
   "cell_type": "markdown",
   "metadata": {},
   "source": [
    "En este caso se asume que ya se pidio un test diagnostico, y que es posible saber el resultado al momento de realizar el tratamiento. En este momento ya no nos iremos explicando detalladamente el proceso del algoritmo, pues es similar al anterior solo por una modificación."
   ]
  },
  {
   "cell_type": "markdown",
   "metadata": {},
   "source": [
    "<img src=\"./Imagenes/Figura8a.PNG\" width=\"600px\">"
   ]
  },
  {
   "cell_type": "markdown",
   "metadata": {},
   "source": [
    "Se hace el mismo procedimientoque anteriomente y se eliminar HIV Status, pero en este caso como HIV depende condicionalmente de PCR result y PCR, se crea una conexion entre Obtain PCR y PCR result a HIV Status."
   ]
  },
  {
   "cell_type": "markdown",
   "metadata": {},
   "source": [
    "<img src=\"./Imagenes/Figura8b.PNG\" width=\"600px\">"
   ]
  },
  {
   "cell_type": "markdown",
   "metadata": {},
   "source": [
    "Ya se puede eliminar HIV Status, y los nodos ahora apuntan al nodo de valor QALE. Pero antes de elminar el HIV Status, es necesario calcular las nuevas utilidades esperadas, de cada posible combinacione de los padres de QALE : $HIV+,Tx+;HIV*,TX-;HIV_,TX+ y HIV-,Tx-$."
   ]
  },
  {
   "cell_type": "markdown",
   "metadata": {},
   "source": [
    "<img src=\"./Imagenes/Figura8c.PNG\" width=\"600px\">"
   ]
  },
  {
   "cell_type": "markdown",
   "metadata": {},
   "source": [
    "Por ejemplo el calculo de los dos primeros valores es:\n",
    "\n",
    "* $$U(HIV+|Tx+)_{PCR+1}=P(HIV+_{HIV Status}|HIV+_{PCR \\ Result})*U(HIV+|Tx+)+ \\\\ P(HIV-|HIV+_{PCR \\ Result})*U(HIV-|Tx+)=22.8489$$\n",
    "\n",
    "* $$U(HIV+|Tx-)_{PCR+1}=P(HIV+_{HIV Status}|HIV+_{PCR \\ Result})*U(HIV+|Tx-)+ \\\\ P(HIV-|HIV+_{PCR \\ Result})*U(HIV-|Tx-)=22.4516$$\n"
   ]
  },
  {
   "cell_type": "markdown",
   "metadata": {},
   "source": [
    "Despues se procede a eliminar el nodo de Treat? Por determiniacón de politica."
   ]
  },
  {
   "cell_type": "markdown",
   "metadata": {},
   "source": [
    "<img src=\"./Imagenes/Figura8d.PNG\" width=\"600px\">"
   ]
  },
  {
   "cell_type": "markdown",
   "metadata": {},
   "source": [
    "Despues se procede a eliminar PCR result por promedio. <img src=\"./Imagenes/Figura8e.PNG\" width=\"600px\">"
   ]
  },
  {
   "cell_type": "markdown",
   "metadata": {},
   "source": [
    "## Replicación 2"
   ]
  },
  {
   "cell_type": "code",
   "execution_count": 20,
   "metadata": {},
   "outputs": [
    {
     "data": {
      "text/html": [
       "<svg xmlns=\"http://www.w3.org/2000/svg\" xmlns:xlink=\"http://www.w3.org/1999/xlink\" width=\"278pt\" height=\"260pt\" viewBox=\"0.00 0.00 277.85 260.00\">\n",
       "<g id=\"graph0\" class=\"graph\" transform=\"scale(1 1) rotate(0) translate(4 256)\">\n",
       "<title>G</title>\n",
       "<!-- HIV Status -->\n",
       "<g id=\"node1\" class=\"node\">\n",
       "<title>HIV Status</title>\n",
       "<ellipse fill=\"#504a50\" stroke=\"#4a4a4a\" cx=\"51.35\" cy=\"-234\" rx=\"51.19\" ry=\"18\"/>\n",
       "<text text-anchor=\"middle\" x=\"51.35\" y=\"-230.3\" font-family=\"Times New Roman,serif\" font-size=\"14.00\" fill=\"white\">HIV Status</text>\n",
       "</g>\n",
       "<!-- PCR Result -->\n",
       "<g id=\"node2\" class=\"node\">\n",
       "<title>PCR Result</title>\n",
       "<ellipse fill=\"#504a50\" stroke=\"#4a4a4a\" cx=\"122.35\" cy=\"-162\" rx=\"53.89\" ry=\"18\"/>\n",
       "<text text-anchor=\"middle\" x=\"122.35\" y=\"-158.3\" font-family=\"Times New Roman,serif\" font-size=\"14.00\" fill=\"white\">PCR Result</text>\n",
       "</g>\n",
       "<!-- HIV Status&#45;&gt;PCR Result -->\n",
       "<g id=\"edge1\" class=\"edge\">\n",
       "<title>HIV Status-&gt;PCR Result</title>\n",
       "<path fill=\"none\" stroke=\"#4a4a4a\" d=\"M67.81,-216.76C76.82,-207.88 88.15,-196.71 98.15,-186.85\"/>\n",
       "<polygon fill=\"#4a4a4a\" stroke=\"#4a4a4a\" points=\"100.81,-189.15 105.47,-179.63 95.9,-184.16 100.81,-189.15\"/>\n",
       "</g>\n",
       "<!-- QALE -->\n",
       "<g id=\"node5\" class=\"node\">\n",
       "<title>QALE</title>\n",
       "<polygon fill=\"#4a5050\" stroke=\"#4a4a4a\" points=\"81.35,-36 32.41,-18 81.35,0 130.28,-18 81.35,-36\"/>\n",
       "<text text-anchor=\"middle\" x=\"81.35\" y=\"-14.3\" font-family=\"Times New Roman,serif\" font-size=\"14.00\" fill=\"white\">QALE</text>\n",
       "</g>\n",
       "<!-- HIV Status&#45;&gt;QALE -->\n",
       "<g id=\"edge2\" class=\"edge\">\n",
       "<title>HIV Status-&gt;QALE</title>\n",
       "<path fill=\"none\" stroke=\"#4a4a4a\" d=\"M50.75,-215.85C50.08,-186.18 50.3,-123.48 61.35,-72 63.44,-62.22 67.03,-51.84 70.6,-42.89\"/>\n",
       "<polygon fill=\"#4a4a4a\" stroke=\"#4a4a4a\" points=\"73.9,-44.07 74.53,-33.49 67.44,-41.37 73.9,-44.07\"/>\n",
       "</g>\n",
       "<!-- Treat?(Yes/No) -->\n",
       "<g id=\"node3\" class=\"node\">\n",
       "<title>Treat?(Yes/No)</title>\n",
       "<polygon fill=\"#50504a\" stroke=\"#4a4a4a\" points=\"174.35,-108 70.35,-108 70.35,-72 174.35,-72 174.35,-108\"/>\n",
       "<text text-anchor=\"middle\" x=\"122.35\" y=\"-86.3\" font-family=\"Times New Roman,serif\" font-size=\"14.00\" fill=\"white\">Treat?(Yes/No)</text>\n",
       "</g>\n",
       "<!-- PCR Result&#45;&gt;Treat?(Yes/No) -->\n",
       "<g id=\"edge3\" class=\"edge\">\n",
       "<title>PCR Result-&gt;Treat?(Yes/No)</title>\n",
       "<path fill=\"none\" stroke=\"#4a4a4a\" d=\"M122.35,-143.7C122.35,-135.98 122.35,-126.71 122.35,-118.11\"/>\n",
       "<polygon fill=\"#4a4a4a\" stroke=\"#4a4a4a\" points=\"125.85,-118.1 122.35,-108.1 118.85,-118.1 125.85,-118.1\"/>\n",
       "</g>\n",
       "<!-- Treat?(Yes/No)&#45;&gt;QALE -->\n",
       "<g id=\"edge4\" class=\"edge\">\n",
       "<title>Treat?(Yes/No)-&gt;QALE</title>\n",
       "<path fill=\"none\" stroke=\"#4a4a4a\" d=\"M112.21,-71.7C106.96,-62.74 100.49,-51.68 94.82,-42.01\"/>\n",
       "<polygon fill=\"#4a4a4a\" stroke=\"#4a4a4a\" points=\"97.78,-40.14 89.71,-33.28 91.74,-43.68 97.78,-40.14\"/>\n",
       "</g>\n",
       "<!-- Obtain PCR?(Yes/No) -->\n",
       "<g id=\"node4\" class=\"node\">\n",
       "<title>Obtain PCR?(Yes/No)</title>\n",
       "<polygon fill=\"#50504a\" stroke=\"#4a4a4a\" points=\"269.85,-252 126.85,-252 126.85,-216 269.85,-216 269.85,-252\"/>\n",
       "<text text-anchor=\"middle\" x=\"198.35\" y=\"-230.3\" font-family=\"Times New Roman,serif\" font-size=\"14.00\" fill=\"white\">Obtain PCR?(Yes/No)</text>\n",
       "</g>\n",
       "<!-- Obtain PCR?(Yes/No)&#45;&gt;PCR Result -->\n",
       "<g id=\"edge5\" class=\"edge\">\n",
       "<title>Obtain PCR?(Yes/No)-&gt;PCR Result</title>\n",
       "<path fill=\"none\" stroke=\"#4a4a4a\" d=\"M179.56,-215.7C169.89,-206.79 157.97,-195.81 147.52,-186.19\"/>\n",
       "<polygon fill=\"#4a4a4a\" stroke=\"#4a4a4a\" points=\"149.6,-183.34 139.87,-179.14 144.86,-188.49 149.6,-183.34\"/>\n",
       "</g>\n",
       "<!-- Obtain PCR?(Yes/No)&#45;&gt;Treat?(Yes/No) -->\n",
       "<g id=\"edge6\" class=\"edge\">\n",
       "<title>Obtain PCR?(Yes/No)-&gt;Treat?(Yes/No)</title>\n",
       "<path fill=\"none\" stroke=\"#4a4a4a\" d=\"M199.34,-215.79C199.66,-196.97 197.88,-166.51 185.35,-144 178.98,-132.57 169.11,-122.54 159.06,-114.37\"/>\n",
       "<polygon fill=\"#4a4a4a\" stroke=\"#4a4a4a\" points=\"161.09,-111.51 151.02,-108.22 156.84,-117.08 161.09,-111.51\"/>\n",
       "</g>\n",
       "</g>\n",
       "</svg>"
      ],
      "text/plain": [
       "(gum::InfluenceDiagram<double>@0B100C68) Influence Diagram{\n",
       "  chance: 2,\n",
       "  utility: 1,\n",
       "  decision: 2,\n",
       "  arcs: 6,\n",
       "  domainSize: 24\n",
       "}"
      ]
     },
     "execution_count": 20,
     "metadata": {},
     "output_type": "execute_result"
    }
   ],
   "source": [
    "HIV1=gum.InfluenceDiagram()\n",
    "S=HIV1.addChanceNode(gum.LabelizedVariable(\"HIV Status\",\"HIV Status\",2))\n",
    "R=HIV1.addChanceNode(gum.LabelizedVariable(\"PCR Result\",\"PCR Result\",3))\n",
    "T=HIV1.addDecisionNode(gum.LabelizedVariable(\"Treat?(Yes/No)\",\"Treat?\",2))\n",
    "O=HIV1.addDecisionNode(gum.LabelizedVariable(\"Obtain PCR?(Yes/No)\",\"Obtain PCR?\",2))\n",
    "Q=HIV1.addUtilityNode(gum.LabelizedVariable(\"QALE\",\"QALE\",1))\n",
    "#Unir nodos\n",
    "HIV1.addArc(S,Q)\n",
    "HIV1.addArc(S,R)\n",
    "HIV1.addArc(R,T)\n",
    "HIV1.addArc(T,Q)\n",
    "HIV1.addArc(O,R)\n",
    "HIV1.addArc(O,T)\n",
    "HIV1"
   ]
  },
  {
   "cell_type": "code",
   "execution_count": 21,
   "metadata": {},
   "outputs": [
    {
     "data": {
      "text/html": [
       "<table style=\"border:1px solid black;\">\n",
       "<tr style='border:1px solid black;color:black;background-color:#808080'><th colspan='2'><center>HIV Status</center></th></tr>\n",
       "<tr><th style='border:1px solid black;border-bottom-style: double;color:black;background-color:#BBBBBB'><center>0</center></th><th style='border:1px solid black;border-bottom-style: double;color:black;background-color:#BBBBBB'><center>1</center></th></tr>\n",
       "<tr><td style='color:black;background-color:#89f464;text-align:right;'>0.9200</td><td style='color:black;background-color:#f48964;text-align:right;'>0.0800</td></tr>\n",
       "</table>"
      ],
      "text/plain": [
       "(gum::Potential<double>@0B10B660) <HIV Status:0> :: 0.92 /<HIV Status:1> :: 0.08"
      ]
     },
     "execution_count": 21,
     "metadata": {},
     "output_type": "execute_result"
    }
   ],
   "source": [
    "HIV1.cpt(S).fillWith([0.92,0.08])"
   ]
  },
  {
   "cell_type": "code",
   "execution_count": 22,
   "metadata": {},
   "outputs": [
    {
     "data": {
      "text/plain": [
       "['Obtain PCR?(Yes/No)', 'HIV Status', 'PCR Result']"
      ]
     },
     "execution_count": 22,
     "metadata": {},
     "output_type": "execute_result"
    }
   ],
   "source": [
    "HIV1.cpt(R).var_names"
   ]
  },
  {
   "cell_type": "code",
   "execution_count": 23,
   "metadata": {},
   "outputs": [
    {
     "data": {
      "text/html": [
       "<table style=\"border:1px solid black;\">\n",
       "<tr><th colspan='2'></th><th colspan='3' style='border:1px solid black;color:black;background-color:#808080;'><center>PCR Result</center></th></tr>\n",
       "<tr><th style='border:1px solid black;color:black;background-color:#808080'><center>Obtain PCR?(Yes/No)</center></th><th style='border:1px solid black;color:black;background-color:#808080'><center>HIV Status</center></th><th style='border:1px solid black;border-bottom-style: double;color:black;background-color:#BBBBBB'><center>0</center></th><th style='border:1px solid black;border-bottom-style: double;color:black;background-color:#BBBBBB'><center>1</center></th><th style='border:1px solid black;border-bottom-style: double;color:black;background-color:#BBBBBB'><center>2</center></th></tr>\n",
       "<tr><th style='border:1px solid black;color:black;background-color:#BBBBBB;' rowspan = '2'><center>0</center></th><th style='border:1px solid black;color:black;background-color:#BBBBBB'><center>0</center></th><td style='color:black;background-color:#ff7f64;text-align:right;'>0.0000</td><td style='color:black;background-color:#ff7f64;text-align:right;'>0.0000</td><td style='color:black;background-color:#7fff64;text-align:right;'>1.0000</td></tr>\n",
       "<tr><th style='border:1px solid black;color:black;background-color:#BBBBBB'><center>1</center></th><td style='color:black;background-color:#ff7f64;text-align:right;'>0.0000</td><td style='color:black;background-color:#ff7f64;text-align:right;'>0.0000</td><td style='color:black;background-color:#7fff64;text-align:right;'>1.0000</td></tr>\n",
       "<tr><th style='border:1px solid black;color:black;background-color:#BBBBBB;' rowspan = '2'><center>1</center></th><th style='border:1px solid black;color:black;background-color:#BBBBBB'><center>0</center></th><td style='color:black;background-color:#81fc64;text-align:right;'>0.9800</td><td style='color:black;background-color:#fc8164;text-align:right;'>0.0200</td><td style='color:black;background-color:#ff7f64;text-align:right;'>0.0000</td></tr>\n",
       "<tr><th style='border:1px solid black;color:black;background-color:#BBBBBB'><center>1</center></th><td style='color:black;background-color:#fc8164;text-align:right;'>0.0200</td><td style='color:black;background-color:#81fc64;text-align:right;'>0.9800</td><td style='color:black;background-color:#ff7f64;text-align:right;'>0.0000</td></tr>\n",
       "</table>"
      ],
      "text/plain": [
       "(gum::Potential<double>@0B10B7C8) <PCR Result:0|HIV Status:0|Obtain PCR?(Yes/No):0> :: 0 /<PCR Result:1|HIV Status:0|Obtain PCR?(Yes/No):0> :: 0 /<PCR Result:2|HIV Status:0|Obtain PCR?(Yes/No):0> :: 1 /<PCR Result:0|HIV Status:1|Obtain PCR?(Yes/No):0> :: 0 /<PCR Result:1|HIV Status:1|Obtain PCR?(Yes/No):0> :: 0 /<PCR Result:2|HIV Status:1|Obtain PCR?(Yes/No):0> :: 1 /<PCR Result:0|HIV Status:0|Obtain PCR?(Yes/No):1> :: 0.98 /<PCR Result:1|HIV Status:0|Obtain PCR?(Yes/No):1> :: 0.02 /<PCR Result:2|HIV Status:0|Obtain PCR?(Yes/No):1> :: 0 /<PCR Result:0|HIV Status:1|Obtain PCR?(Yes/No):1> :: 0.02 /<PCR Result:1|HIV Status:1|Obtain PCR?(Yes/No):1> :: 0.98 /<PCR Result:2|HIV Status:1|Obtain PCR?(Yes/No):1> :: 0"
      ]
     },
     "execution_count": 23,
     "metadata": {},
     "output_type": "execute_result"
    }
   ],
   "source": [
    "HIV1.cpt(R)[{'Obtain PCR?(Yes/No)':1,'HIV Status':1}] = [0.02, 0.98,0]\n",
    "HIV1.cpt(R)[{'Obtain PCR?(Yes/No)':1,'HIV Status':0}] = [0.98, 0.02,0]\n",
    "HIV1.cpt(R)[{'Obtain PCR?(Yes/No)':0,'HIV Status':0}] = [0, 0,1]\n",
    "HIV1.cpt(R)[{'Obtain PCR?(Yes/No)':0,'HIV Status':1}] = [0, 0,1]\n",
    "HIV1.cpt(R)"
   ]
  },
  {
   "cell_type": "code",
   "execution_count": 24,
   "metadata": {},
   "outputs": [
    {
     "data": {
      "text/html": [
       "<table style=\"border:1px solid black;\">\n",
       "<tr><th colspan='2'></th><th colspan='1' style='border:1px solid black;color:black;background-color:#808080;'><center>QALE</center></th></tr>\n",
       "<tr><th style='border:1px solid black;color:black;background-color:#808080'><center>Treat?(Yes/No)</center></th><th style='border:1px solid black;color:black;background-color:#808080'><center>HIV Status</center></th><th style='border:1px solid black;border-bottom-style: double;color:black;background-color:#BBBBBB'><center>0</center></th></tr>\n",
       "<tr><th style='border:1px solid black;color:black;background-color:#BBBBBB;' rowspan = '2'><center>0</center></th><th style='border:1px solid black;color:black;background-color:#BBBBBB'><center>0</center></th><td style='text-align:right;'>75.5000</td></tr>\n",
       "<tr><th style='border:1px solid black;color:black;background-color:#BBBBBB'><center>1</center></th><td style='text-align:right;'>10.0000</td></tr>\n",
       "<tr><th style='border:1px solid black;color:black;background-color:#BBBBBB;' rowspan = '2'><center>1</center></th><th style='border:1px solid black;color:black;background-color:#BBBBBB'><center>0</center></th><td style='text-align:right;'>75.4600</td></tr>\n",
       "<tr><th style='border:1px solid black;color:black;background-color:#BBBBBB'><center>1</center></th><td style='text-align:right;'>10.5000</td></tr>\n",
       "</table>"
      ],
      "text/plain": [
       "(gum::Potential<double>@0B10B8A0) <QALE:0|HIV Status:0|Treat?(Yes/No):0> :: 75.5 /<QALE:0|HIV Status:1|Treat?(Yes/No):0> :: 10 /<QALE:0|HIV Status:0|Treat?(Yes/No):1> :: 75.46 /<QALE:0|HIV Status:1|Treat?(Yes/No):1> :: 10.5"
      ]
     },
     "execution_count": 24,
     "metadata": {},
     "output_type": "execute_result"
    }
   ],
   "source": [
    "HIV1.utility(Q)[{'HIV Status':1,'Treat?(Yes/No)':1}]=10.5\n",
    "HIV1.utility(Q)[{'HIV Status':1,'Treat?(Yes/No)':0}]=10.0\n",
    "HIV1.utility(Q)[{'HIV Status':0,'Treat?(Yes/No)':1}]=75.46\n",
    "HIV1.utility(Q)[{'HIV Status':0,'Treat?(Yes/No)':0}]=75.50\n",
    "HIV1.utility(Q)"
   ]
  },
  {
   "cell_type": "code",
   "execution_count": 25,
   "metadata": {},
   "outputs": [
    {
     "name": "stdout",
     "output_type": "stream",
     "text": [
      "Best decision to Obtain PCR? (Yes/No) : 1\n",
      "Best decision to Treat? (Yes/No) : 0\n",
      "For a maxEU : 70.29846400000001\n"
     ]
    }
   ],
   "source": [
    "ie=gum.InfluenceDiagramInference(HIV1)\n",
    "ie.eraseAllEvidence()\n",
    "ie.makeInference()\n",
    "print(\"Best decision to Obtain PCR? (Yes/No) : {0}\".format(ie.getBestDecisionChoice(HIV1.idFromName(\"Obtain PCR?(Yes/No)\"))))\n",
    "print(\"Best decision to Treat? (Yes/No) : {0}\".format(ie.getBestDecisionChoice(HIV1.idFromName(\"Treat?(Yes/No)\"))))\n",
    "print(\"For a maxEU : {0}\".format(ie.getMEU()))"
   ]
  },
  {
   "cell_type": "code",
   "execution_count": 26,
   "metadata": {},
   "outputs": [
    {
     "name": "stdout",
     "output_type": "stream",
     "text": [
      "Best decision to Obtain PCR? (Yes/No) : 1\n",
      "Best decision to Treat? (Yes/No) : 0\n",
      "For a maxEU : 75.38396811337466\n"
     ]
    }
   ],
   "source": [
    "ie=gum.InfluenceDiagramInference(HIV1)\n",
    "ie.eraseAllEvidence()\n",
    "ie.setEvidence({'Obtain PCR?(Yes/No)':1,'PCR Result':0,'Treat?(Yes/No)':0})\n",
    "ie.makeInference()\n",
    "print(\"Best decision to Obtain PCR? (Yes/No) : {0}\".format(ie.getBestDecisionChoice(HIV1.idFromName(\"Obtain PCR?(Yes/No)\"))))\n",
    "print(\"Best decision to Treat? (Yes/No) : {0}\".format(ie.getBestDecisionChoice(HIV1.idFromName(\"Treat?(Yes/No)\"))))\n",
    "print(\"For a maxEU : {0}\".format(ie.getMEU()))"
   ]
  },
  {
   "cell_type": "markdown",
   "metadata": {},
   "source": [
    "Es posible notar que llegamos a lo mismos resultados ! El modelo esta bien implementado"
   ]
  },
  {
   "cell_type": "markdown",
   "metadata": {},
   "source": [
    "## Decision clinica compleja"
   ]
  },
  {
   "cell_type": "markdown",
   "metadata": {},
   "source": [
    "Sgun las reglas de auto-cuidado de los hopistales, si la prevalencia de HIV infeccion es de 1% o mas, se deben ofrecer volutariamente resultados de HIV a todos los pacientes. Se modelara el problema con una infección del 5%, ne este probleema se modelara para adultos, donde los test seran una seucneica de test de anticuerpos y Western >blot, utilizada para test en adultos. El modelo que se planteara, modelara el beneficio de que una persona se realize un test y el benefico de los compañeros sexuales, quienes se identifica con $HIV$. Se asume que la intervencion medica, incluida la prophylaxis de infecciones oportunistas y un tratamiento antiretoviral, extiende la vida aproximadameten un años, sin ajusto por calidad de vida.  Se asume que el 80% de las personas identificad on infeccion HIV, reduce el numero de contactos sexuales como resultado de consejo."
   ]
  },
  {
   "cell_type": "markdown",
   "metadata": {},
   "source": [
    "<img src=\"./Imagenes/Figura9.PNG\" width=\"600px\">"
   ]
  },
  {
   "cell_type": "code",
   "execution_count": 27,
   "metadata": {},
   "outputs": [
    {
     "data": {
      "text/html": [
       "<svg xmlns=\"http://www.w3.org/2000/svg\" xmlns:xlink=\"http://www.w3.org/1999/xlink\" width=\"360pt\" height=\"243pt\" viewBox=\"0.00 0.00 360.00 242.84\">\n",
       "<g id=\"graph0\" class=\"graph\" transform=\"scale(0.73 0.73) rotate(0) translate(4 328)\">\n",
       "<title>G</title>\n",
       "<!-- HIV Status -->\n",
       "<g id=\"node1\" class=\"node\">\n",
       "<title>HIV Status</title>\n",
       "<ellipse fill=\"#504a50\" stroke=\"#4a4a4a\" cx=\"51.35\" cy=\"-306\" rx=\"51.19\" ry=\"18\"/>\n",
       "<text text-anchor=\"middle\" x=\"51.35\" y=\"-302.3\" font-family=\"Times New Roman,serif\" font-size=\"14.00\" fill=\"white\">HIV Status</text>\n",
       "</g>\n",
       "<!-- HIV Result -->\n",
       "<g id=\"node2\" class=\"node\">\n",
       "<title>HIV Result</title>\n",
       "<ellipse fill=\"#504a50\" stroke=\"#4a4a4a\" cx=\"114.35\" cy=\"-234\" rx=\"51.99\" ry=\"18\"/>\n",
       "<text text-anchor=\"middle\" x=\"114.35\" y=\"-230.3\" font-family=\"Times New Roman,serif\" font-size=\"14.00\" fill=\"white\">HIV Result</text>\n",
       "</g>\n",
       "<!-- HIV Status&#45;&gt;HIV Result -->\n",
       "<g id=\"edge2\" class=\"edge\">\n",
       "<title>HIV Status-&gt;HIV Result</title>\n",
       "<path fill=\"none\" stroke=\"#4a4a4a\" d=\"M66.28,-288.41C74.2,-279.61 84.08,-268.63 92.82,-258.92\"/>\n",
       "<polygon fill=\"#4a4a4a\" stroke=\"#4a4a4a\" points=\"95.43,-261.24 99.52,-251.47 90.23,-256.56 95.43,-261.24\"/>\n",
       "</g>\n",
       "<!-- QALE -->\n",
       "<g id=\"node7\" class=\"node\">\n",
       "<title>QALE</title>\n",
       "<polygon fill=\"#4a5050\" stroke=\"#4a4a4a\" points=\"128.35,-36 79.41,-18 128.35,0 177.28,-18 128.35,-36\"/>\n",
       "<text text-anchor=\"middle\" x=\"128.35\" y=\"-14.3\" font-family=\"Times New Roman,serif\" font-size=\"14.00\" fill=\"white\">QALE</text>\n",
       "</g>\n",
       "<!-- HIV Status&#45;&gt;QALE -->\n",
       "<g id=\"edge1\" class=\"edge\">\n",
       "<title>HIV Status-&gt;QALE</title>\n",
       "<path fill=\"none\" stroke=\"#4a4a4a\" d=\"M46.52,-287.94C36.12,-247.61 15.46,-144.4 53.35,-72 62.61,-54.29 80.8,-41.21 96.94,-32.48\"/>\n",
       "<polygon fill=\"#4a4a4a\" stroke=\"#4a4a4a\" points=\"98.78,-35.47 106.12,-27.84 95.62,-29.22 98.78,-35.47\"/>\n",
       "</g>\n",
       "<!-- Treat?(Yes/No) -->\n",
       "<g id=\"node5\" class=\"node\">\n",
       "<title>Treat?(Yes/No)</title>\n",
       "<polygon fill=\"#50504a\" stroke=\"#4a4a4a\" points=\"213.35,-180 109.35,-180 109.35,-144 213.35,-144 213.35,-180\"/>\n",
       "<text text-anchor=\"middle\" x=\"161.35\" y=\"-158.3\" font-family=\"Times New Roman,serif\" font-size=\"14.00\" fill=\"white\">Treat?(Yes/No)</text>\n",
       "</g>\n",
       "<!-- HIV Result&#45;&gt;Treat?(Yes/No) -->\n",
       "<g id=\"edge3\" class=\"edge\">\n",
       "<title>HIV Result-&gt;Treat?(Yes/No)</title>\n",
       "<path fill=\"none\" stroke=\"#4a4a4a\" d=\"M125.48,-216.41C131,-208.2 137.78,-198.1 143.96,-188.9\"/>\n",
       "<polygon fill=\"#4a4a4a\" stroke=\"#4a4a4a\" points=\"146.96,-190.7 149.63,-180.45 141.15,-186.8 146.96,-190.7\"/>\n",
       "</g>\n",
       "<!-- Compliance with Medical Therapy -->\n",
       "<g id=\"node3\" class=\"node\">\n",
       "<title>Compliance with Medical Therapy</title>\n",
       "<ellipse fill=\"#504a50\" stroke=\"#4a4a4a\" cx=\"348.35\" cy=\"-90\" rx=\"135.68\" ry=\"18\"/>\n",
       "<text text-anchor=\"middle\" x=\"348.35\" y=\"-86.3\" font-family=\"Times New Roman,serif\" font-size=\"14.00\" fill=\"white\">Compliance with Medical Therapy</text>\n",
       "</g>\n",
       "<!-- Compliance with Medical Therapy&#45;&gt;QALE -->\n",
       "<g id=\"edge4\" class=\"edge\">\n",
       "<title>Compliance with Medical Therapy-&gt;QALE</title>\n",
       "<path fill=\"none\" stroke=\"#4a4a4a\" d=\"M298.7,-73.2C257.34,-60.04 199.5,-41.64 162.99,-30.02\"/>\n",
       "<polygon fill=\"#4a4a4a\" stroke=\"#4a4a4a\" points=\"163.88,-26.63 153.29,-26.94 161.76,-33.3 163.88,-26.63\"/>\n",
       "</g>\n",
       "<!-- Risk Behaviour -->\n",
       "<g id=\"node4\" class=\"node\">\n",
       "<title>Risk Behaviour</title>\n",
       "<ellipse fill=\"#504a50\" stroke=\"#4a4a4a\" cx=\"128.35\" cy=\"-90\" rx=\"66.09\" ry=\"18\"/>\n",
       "<text text-anchor=\"middle\" x=\"128.35\" y=\"-86.3\" font-family=\"Times New Roman,serif\" font-size=\"14.00\" fill=\"white\">Risk Behaviour</text>\n",
       "</g>\n",
       "<!-- Risk Behaviour&#45;&gt;QALE -->\n",
       "<g id=\"edge5\" class=\"edge\">\n",
       "<title>Risk Behaviour-&gt;QALE</title>\n",
       "<path fill=\"none\" stroke=\"#4a4a4a\" d=\"M128.35,-71.7C128.35,-63.98 128.35,-54.71 128.35,-46.11\"/>\n",
       "<polygon fill=\"#4a4a4a\" stroke=\"#4a4a4a\" points=\"131.85,-46.1 128.35,-36.1 124.85,-46.1 131.85,-46.1\"/>\n",
       "</g>\n",
       "<!-- Treat?(Yes/No)&#45;&gt;Compliance with Medical Therapy -->\n",
       "<g id=\"edge7\" class=\"edge\">\n",
       "<title>Treat?(Yes/No)-&gt;Compliance with Medical Therapy</title>\n",
       "<path fill=\"none\" stroke=\"#4a4a4a\" d=\"M207.09,-143.88C233.88,-133.85 267.83,-121.14 295.72,-110.7\"/>\n",
       "<polygon fill=\"#4a4a4a\" stroke=\"#4a4a4a\" points=\"297.18,-113.89 305.32,-107.11 294.73,-107.33 297.18,-113.89\"/>\n",
       "</g>\n",
       "<!-- Treat?(Yes/No)&#45;&gt;Risk Behaviour -->\n",
       "<g id=\"edge6\" class=\"edge\">\n",
       "<title>Treat?(Yes/No)-&gt;Risk Behaviour</title>\n",
       "<path fill=\"none\" stroke=\"#4a4a4a\" d=\"M153.19,-143.7C149.43,-135.73 144.89,-126.1 140.73,-117.26\"/>\n",
       "<polygon fill=\"#4a4a4a\" stroke=\"#4a4a4a\" points=\"143.84,-115.66 136.41,-108.1 137.51,-118.64 143.84,-115.66\"/>\n",
       "</g>\n",
       "<!-- Screen?(Yes/No) -->\n",
       "<g id=\"node6\" class=\"node\">\n",
       "<title>Screen?(Yes/No)</title>\n",
       "<polygon fill=\"#50504a\" stroke=\"#4a4a4a\" points=\"241.85,-324 128.85,-324 128.85,-288 241.85,-288 241.85,-324\"/>\n",
       "<text text-anchor=\"middle\" x=\"185.35\" y=\"-302.3\" font-family=\"Times New Roman,serif\" font-size=\"14.00\" fill=\"white\">Screen?(Yes/No)</text>\n",
       "</g>\n",
       "<!-- Screen?(Yes/No)&#45;&gt;HIV Result -->\n",
       "<g id=\"edge8\" class=\"edge\">\n",
       "<title>Screen?(Yes/No)-&gt;HIV Result</title>\n",
       "<path fill=\"none\" stroke=\"#4a4a4a\" d=\"M167.79,-287.7C158.76,-278.79 147.63,-267.81 137.86,-258.19\"/>\n",
       "<polygon fill=\"#4a4a4a\" stroke=\"#4a4a4a\" points=\"140.3,-255.67 130.72,-251.14 135.38,-260.66 140.3,-255.67\"/>\n",
       "</g>\n",
       "<!-- Screen?(Yes/No)&#45;&gt;Treat?(Yes/No) -->\n",
       "<g id=\"edge9\" class=\"edge\">\n",
       "<title>Screen?(Yes/No)-&gt;Treat?(Yes/No)</title>\n",
       "<path fill=\"none\" stroke=\"#4a4a4a\" d=\"M184.17,-287.83C182.75,-269.82 179.98,-240.76 175.35,-216 173.74,-207.45 171.5,-198.25 169.28,-189.95\"/>\n",
       "<polygon fill=\"#4a4a4a\" stroke=\"#4a4a4a\" points=\"172.58,-188.74 166.53,-180.04 165.83,-190.61 172.58,-188.74\"/>\n",
       "</g>\n",
       "</g>\n",
       "</svg>"
      ],
      "text/plain": [
       "(gum::InfluenceDiagram<double>@0B100FB0) Influence Diagram{\n",
       "  chance: 4,\n",
       "  utility: 1,\n",
       "  decision: 2,\n",
       "  arcs: 9,\n",
       "  domainSize: 96\n",
       "}"
      ]
     },
     "execution_count": 27,
     "metadata": {},
     "output_type": "execute_result"
    }
   ],
   "source": [
    "HIV1=gum.InfluenceDiagram()\n",
    "S=HIV1.addChanceNode(gum.LabelizedVariable(\"HIV Status\",\"HIV Status\",2))\n",
    "R=HIV1.addChanceNode(gum.LabelizedVariable(\"HIV Result\",\"HIV Result\",3))\n",
    "C=HIV1.addChanceNode(gum.LabelizedVariable(\"Compliance with Medical Therapy\",\"Compliance with Medical Therapy\",2))\n",
    "RB=HIV1.addChanceNode(gum.LabelizedVariable(\"Risk Behaviour\",\"Risk Behaviour\",2))\n",
    "T=HIV1.addDecisionNode(gum.LabelizedVariable(\"Treat?(Yes/No)\",\"Treat?\",2))\n",
    "O=HIV1.addDecisionNode(gum.LabelizedVariable(\"Screen?(Yes/No)\",\"Screen?\",2))\n",
    "Q=HIV1.addUtilityNode(gum.LabelizedVariable(\"QALE\",\"QALE\",1))\n",
    "#Unir nodos\n",
    "HIV1.addArc(S,Q)\n",
    "HIV1.addArc(S,R)\n",
    "HIV1.addArc(R,T)\n",
    "HIV1.addArc(O,R)\n",
    "HIV1.addArc(O,T)\n",
    "HIV1.addArc(T,RB)\n",
    "HIV1.addArc(T,C)\n",
    "HIV1.addArc(RB,Q)\n",
    "HIV1.addArc(C,Q)\n",
    "HIV1"
   ]
  },
  {
   "cell_type": "code",
   "execution_count": 28,
   "metadata": {},
   "outputs": [
    {
     "data": {
      "text/html": [
       "<table style=\"border:1px solid black;\">\n",
       "<tr style='border:1px solid black;color:black;background-color:#808080'><th colspan='2'><center>HIV Status</center></th></tr>\n",
       "<tr><th style='border:1px solid black;border-bottom-style: double;color:black;background-color:#BBBBBB'><center>0</center></th><th style='border:1px solid black;border-bottom-style: double;color:black;background-color:#BBBBBB'><center>1</center></th></tr>\n",
       "<tr><td style='color:black;background-color:#89f464;text-align:right;'>0.9200</td><td style='color:black;background-color:#f48964;text-align:right;'>0.0800</td></tr>\n",
       "</table>"
      ],
      "text/plain": [
       "(gum::Potential<double>@0B113488) <HIV Status:0> :: 0.92 /<HIV Status:1> :: 0.08"
      ]
     },
     "execution_count": 28,
     "metadata": {},
     "output_type": "execute_result"
    }
   ],
   "source": [
    "HIV1.cpt(S).fillWith([0.92,0.08])"
   ]
  },
  {
   "cell_type": "code",
   "execution_count": 29,
   "metadata": {},
   "outputs": [
    {
     "data": {
      "text/html": [
       "<table style=\"border:1px solid black;\">\n",
       "<tr><th colspan='2'></th><th colspan='3' style='border:1px solid black;color:black;background-color:#808080;'><center>HIV Result</center></th></tr>\n",
       "<tr><th style='border:1px solid black;color:black;background-color:#808080'><center>Screen?(Yes/No)</center></th><th style='border:1px solid black;color:black;background-color:#808080'><center>HIV Status</center></th><th style='border:1px solid black;border-bottom-style: double;color:black;background-color:#BBBBBB'><center>0</center></th><th style='border:1px solid black;border-bottom-style: double;color:black;background-color:#BBBBBB'><center>1</center></th><th style='border:1px solid black;border-bottom-style: double;color:black;background-color:#BBBBBB'><center>2</center></th></tr>\n",
       "<tr><th style='border:1px solid black;color:black;background-color:#BBBBBB;' rowspan = '2'><center>0</center></th><th style='border:1px solid black;color:black;background-color:#BBBBBB'><center>0</center></th><td style='color:black;background-color:#ff7f64;text-align:right;'>0.0000</td><td style='color:black;background-color:#ff7f64;text-align:right;'>0.0000</td><td style='color:black;background-color:#7fff64;text-align:right;'>1.0000</td></tr>\n",
       "<tr><th style='border:1px solid black;color:black;background-color:#BBBBBB'><center>1</center></th><td style='color:black;background-color:#ff7f64;text-align:right;'>0.0000</td><td style='color:black;background-color:#ff7f64;text-align:right;'>0.0000</td><td style='color:black;background-color:#7fff64;text-align:right;'>1.0000</td></tr>\n",
       "<tr><th style='border:1px solid black;color:black;background-color:#BBBBBB;' rowspan = '2'><center>1</center></th><th style='border:1px solid black;color:black;background-color:#BBBBBB'><center>0</center></th><td style='color:black;background-color:#81fc64;text-align:right;'>0.9800</td><td style='color:black;background-color:#fc8164;text-align:right;'>0.0200</td><td style='color:black;background-color:#ff7f64;text-align:right;'>0.0000</td></tr>\n",
       "<tr><th style='border:1px solid black;color:black;background-color:#BBBBBB'><center>1</center></th><td style='color:black;background-color:#fc8164;text-align:right;'>0.0200</td><td style='color:black;background-color:#81fc64;text-align:right;'>0.9800</td><td style='color:black;background-color:#ff7f64;text-align:right;'>0.0000</td></tr>\n",
       "</table>"
      ],
      "text/plain": [
       "(gum::Potential<double>@0B1137E8) <HIV Result:0|HIV Status:0|Screen?(Yes/No):0> :: 0 /<HIV Result:1|HIV Status:0|Screen?(Yes/No):0> :: 0 /<HIV Result:2|HIV Status:0|Screen?(Yes/No):0> :: 1 /<HIV Result:0|HIV Status:1|Screen?(Yes/No):0> :: 0 /<HIV Result:1|HIV Status:1|Screen?(Yes/No):0> :: 0 /<HIV Result:2|HIV Status:1|Screen?(Yes/No):0> :: 1 /<HIV Result:0|HIV Status:0|Screen?(Yes/No):1> :: 0.98 /<HIV Result:1|HIV Status:0|Screen?(Yes/No):1> :: 0.02 /<HIV Result:2|HIV Status:0|Screen?(Yes/No):1> :: 0 /<HIV Result:0|HIV Status:1|Screen?(Yes/No):1> :: 0.02 /<HIV Result:1|HIV Status:1|Screen?(Yes/No):1> :: 0.98 /<HIV Result:2|HIV Status:1|Screen?(Yes/No):1> :: 0"
      ]
     },
     "execution_count": 29,
     "metadata": {},
     "output_type": "execute_result"
    }
   ],
   "source": [
    "HIV1.cpt(R)[{'Screen?(Yes/No)':1,'HIV Status':1}] = [0.02, 0.98,0]\n",
    "HIV1.cpt(R)[{'Screen?(Yes/No)':1,'HIV Status':0}] = [0.98, 0.02,0]\n",
    "HIV1.cpt(R)[{'Screen?(Yes/No)':0,'HIV Status':0}] = [0, 0,1]\n",
    "HIV1.cpt(R)[{'Screen?(Yes/No)':0,'HIV Status':1}] = [0, 0,1]\n",
    "HIV1.cpt(R)"
   ]
  },
  {
   "cell_type": "code",
   "execution_count": 30,
   "metadata": {},
   "outputs": [
    {
     "data": {
      "text/html": [
       "<table style=\"border:1px solid black;\">\n",
       "<tr><th colspan='1'></th><th colspan='2' style='border:1px solid black;color:black;background-color:#808080;'><center>Compliance with Medical Therapy</center></th></tr>\n",
       "<tr><th style='border:1px solid black;color:black;background-color:#808080'><center>Treat?(Yes/No)</center></th><th style='border:1px solid black;border-bottom-style: double;color:black;background-color:#BBBBBB'><center>0</center></th><th style='border:1px solid black;border-bottom-style: double;color:black;background-color:#BBBBBB'><center>1</center></th></tr>\n",
       "<tr><th style='border:1px solid black;color:black;background-color:#BBBBBB'><center>0</center></th><td style='color:black;background-color:#7fff64;text-align:right;'>1.0000</td><td style='color:black;background-color:#ff7f64;text-align:right;'>0.0000</td></tr>\n",
       "<tr><th style='border:1px solid black;color:black;background-color:#BBBBBB'><center>1</center></th><td style='color:black;background-color:#f28b64;text-align:right;'>0.1000</td><td style='color:black;background-color:#8bf264;text-align:right;'>0.9000</td></tr>\n",
       "</table>"
      ],
      "text/plain": [
       "(gum::Potential<double>@0B113950) <Compliance with Medical Therapy:0|Treat?(Yes/No):0> :: 1 /<Compliance with Medical Therapy:1|Treat?(Yes/No):0> :: 0 /<Compliance with Medical Therapy:0|Treat?(Yes/No):1> :: 0.1 /<Compliance with Medical Therapy:1|Treat?(Yes/No):1> :: 0.9"
      ]
     },
     "execution_count": 30,
     "metadata": {},
     "output_type": "execute_result"
    }
   ],
   "source": [
    "HIV1.cpt(C)[{'Treat?(Yes/No)':1}] = [ 0.1,0.9]\n",
    "HIV1.cpt(C)[{'Treat?(Yes/No)':0}] = [1,0]\n",
    "HIV1.cpt(C)"
   ]
  },
  {
   "cell_type": "code",
   "execution_count": 31,
   "metadata": {},
   "outputs": [
    {
     "data": {
      "text/html": [
       "<table style=\"border:1px solid black;\">\n",
       "<tr><th colspan='1'></th><th colspan='2' style='border:1px solid black;color:black;background-color:#808080;'><center>Risk Behaviour</center></th></tr>\n",
       "<tr><th style='border:1px solid black;color:black;background-color:#808080'><center>Treat?(Yes/No)</center></th><th style='border:1px solid black;border-bottom-style: double;color:black;background-color:#BBBBBB'><center>0</center></th><th style='border:1px solid black;border-bottom-style: double;color:black;background-color:#BBBBBB'><center>1</center></th></tr>\n",
       "<tr><th style='border:1px solid black;color:black;background-color:#BBBBBB'><center>0</center></th><td style='color:black;background-color:#7fff64;text-align:right;'>1.0000</td><td style='color:black;background-color:#ff7f64;text-align:right;'>0.0000</td></tr>\n",
       "<tr><th style='border:1px solid black;color:black;background-color:#BBBBBB'><center>1</center></th><td style='color:black;background-color:#e59864;text-align:right;'>0.2000</td><td style='color:black;background-color:#98e564;text-align:right;'>0.8000</td></tr>\n",
       "</table>"
      ],
      "text/plain": [
       "(gum::Potential<double>@0B113938) <Risk Behaviour:0|Treat?(Yes/No):0> :: 1 /<Risk Behaviour:1|Treat?(Yes/No):0> :: 0 /<Risk Behaviour:0|Treat?(Yes/No):1> :: 0.2 /<Risk Behaviour:1|Treat?(Yes/No):1> :: 0.8"
      ]
     },
     "execution_count": 31,
     "metadata": {},
     "output_type": "execute_result"
    }
   ],
   "source": [
    "HIV1.cpt(RB)[{'Treat?(Yes/No)':1}] = [ 0.2,0.8]\n",
    "HIV1.cpt(RB)[{'Treat?(Yes/No)':0}] = [1,0]\n",
    "HIV1.cpt(RB)"
   ]
  },
  {
   "cell_type": "code",
   "execution_count": 32,
   "metadata": {},
   "outputs": [
    {
     "data": {
      "text/html": [
       "<table style=\"border:1px solid black;\">\n",
       "<tr><th colspan='3'></th><th colspan='1' style='border:1px solid black;color:black;background-color:#808080;'><center>QALE</center></th></tr>\n",
       "<tr><th style='border:1px solid black;color:black;background-color:#808080'><center>Compliance with Medical Therapy</center></th><th style='border:1px solid black;color:black;background-color:#808080'><center>Risk Behaviour</center></th><th style='border:1px solid black;color:black;background-color:#808080'><center>HIV Status</center></th><th style='border:1px solid black;border-bottom-style: double;color:black;background-color:#BBBBBB'><center>0</center></th></tr>\n",
       "<tr><th style='border:1px solid black;color:black;background-color:#BBBBBB;' rowspan = '4'><center>0</center></th><th style='border:1px solid black;color:black;background-color:#BBBBBB;' rowspan = '2'><center>0</center></th><th style='border:1px solid black;color:black;background-color:#BBBBBB'><center>0</center></th><td style='text-align:right;'>44.7900</td></tr>\n",
       "<tr><th style='border:1px solid black;color:black;background-color:#BBBBBB'><center>1</center></th><td style='text-align:right;'>4.2400</td></tr>\n",
       "<tr><th style='border:1px solid black;color:black;background-color:#BBBBBB;' rowspan = '2'><center>1</center></th><th style='border:1px solid black;color:black;background-color:#BBBBBB'><center>0</center></th><td style='text-align:right;'>44.7900</td></tr>\n",
       "<tr><th style='border:1px solid black;color:black;background-color:#BBBBBB'><center>1</center></th><td style='text-align:right;'>4.3700</td></tr>\n",
       "<tr><th style='border:1px solid black;color:black;background-color:#BBBBBB;' rowspan = '4'><center>1</center></th><th style='border:1px solid black;color:black;background-color:#BBBBBB;' rowspan = '2'><center>0</center></th><th style='border:1px solid black;color:black;background-color:#BBBBBB'><center>0</center></th><td style='text-align:right;'>44.5900</td></tr>\n",
       "<tr><th style='border:1px solid black;color:black;background-color:#BBBBBB'><center>1</center></th><td style='text-align:right;'>4.6900</td></tr>\n",
       "<tr><th style='border:1px solid black;color:black;background-color:#BBBBBB;' rowspan = '2'><center>1</center></th><th style='border:1px solid black;color:black;background-color:#BBBBBB'><center>0</center></th><td style='text-align:right;'>44.5900</td></tr>\n",
       "<tr><th style='border:1px solid black;color:black;background-color:#BBBBBB'><center>1</center></th><td style='text-align:right;'>4.8200</td></tr>\n",
       "</table>"
      ],
      "text/plain": [
       "(gum::Potential<double>@0B113A88) <QALE:0|HIV Status:0|Risk Behaviour:0|Compliance with Medical Therapy:0> :: 44.79 /<QALE:0|HIV Status:1|Risk Behaviour:0|Compliance with Medical Therapy:0> :: 4.24 /<QALE:0|HIV Status:0|Risk Behaviour:1|Compliance with Medical Therapy:0> :: 44.79 /<QALE:0|HIV Status:1|Risk Behaviour:1|Compliance with Medical Therapy:0> :: 4.37 /<QALE:0|HIV Status:0|Risk Behaviour:0|Compliance with Medical Therapy:1> :: 44.59 /<QALE:0|HIV Status:1|Risk Behaviour:0|Compliance with Medical Therapy:1> :: 4.69 /<QALE:0|HIV Status:0|Risk Behaviour:1|Compliance with Medical Therapy:1> :: 44.59 /<QALE:0|HIV Status:1|Risk Behaviour:1|Compliance with Medical Therapy:1> :: 4.82"
      ]
     },
     "execution_count": 32,
     "metadata": {},
     "output_type": "execute_result"
    }
   ],
   "source": [
    "HIV1.utility(Q)[{'HIV Status':1,'Compliance with Medical Therapy':1,'Risk Behaviour':1}]=4.82\n",
    "HIV1.utility(Q)[{'HIV Status':1,'Compliance with Medical Therapy':1,'Risk Behaviour':0}]=4.69\n",
    "HIV1.utility(Q)[{'HIV Status':1,'Compliance with Medical Therapy':0,'Risk Behaviour':1}]=4.37\n",
    "HIV1.utility(Q)[{'HIV Status':1,'Compliance with Medical Therapy':0,'Risk Behaviour':0}]=4.24\n",
    "HIV1.utility(Q)[{'HIV Status':0,'Compliance with Medical Therapy':1,'Risk Behaviour':1}]=44.59\n",
    "HIV1.utility(Q)[{'HIV Status':0,'Compliance with Medical Therapy':1,'Risk Behaviour':0}]=44.59\n",
    "HIV1.utility(Q)[{'HIV Status':0,'Compliance with Medical Therapy':0,'Risk Behaviour':1}]=44.79\n",
    "HIV1.utility(Q)[{'HIV Status':0,'Compliance with Medical Therapy':0,'Risk Behaviour':0}]=44.79\n",
    "HIV1.utility(Q)"
   ]
  },
  {
   "cell_type": "code",
   "execution_count": 33,
   "metadata": {},
   "outputs": [
    {
     "name": "stdout",
     "output_type": "stream",
     "text": [
      "Best decision to Screen?(Yes/No) : 1\n",
      "Best decision to Treat? (Yes/No) : 0\n",
      "For a maxEU : 41.58259359999999\n"
     ]
    }
   ],
   "source": [
    "ie=gum.InfluenceDiagramInference(HIV1)\n",
    "ie.eraseAllEvidence()\n",
    "ie.makeInference()\n",
    "print(\"Best decision to Screen?(Yes/No) : {0}\".format(ie.getBestDecisionChoice(HIV1.idFromName(\"Screen?(Yes/No)\"))))\n",
    "print(\"Best decision to Treat? (Yes/No) : {0}\".format(ie.getBestDecisionChoice(HIV1.idFromName(\"Treat?(Yes/No)\"))))\n",
    "print(\"For a maxEU : {0}\".format(ie.getMEU()))"
   ]
  },
  {
   "cell_type": "code",
   "execution_count": 34,
   "metadata": {},
   "outputs": [
    {
     "name": "stdout",
     "output_type": "stream",
     "text": [
      "Best decision to Screen?(Yes/No) : 0\n",
      "Best decision to Treat? (Yes/No) : 0\n",
      "For a maxEU : 4.749\n"
     ]
    }
   ],
   "source": [
    "ie=gum.InfluenceDiagramInference(HIV1)\n",
    "ie.eraseAllEvidence()\n",
    "ie.setEvidence({\"HIV Status\":1})\n",
    "ie.makeInference()\n",
    "print(\"Best decision to Screen?(Yes/No) : {0}\".format(ie.getBestDecisionChoice(HIV1.idFromName(\"Screen?(Yes/No)\"))))\n",
    "print(\"Best decision to Treat? (Yes/No) : {0}\".format(ie.getBestDecisionChoice(HIV1.idFromName(\"Treat?(Yes/No)\"))))\n",
    "print(\"For a maxEU : {0}\".format(ie.getMEU()))"
   ]
  },
  {
   "cell_type": "markdown",
   "metadata": {},
   "source": [
    "_________________________________________________________________________\n",
    "_________________________________________________________________________\n",
    "_________________________________________________________________________\n",
    "\n",
    "\n",
    "## Representaciones Graficas (No es necesario revisar)\n",
    "\n",
    "Las siguientes representaciones graficas solo muestran mas bonita los nodos de probabilidad, pero de estas no es posible obtenr inferencias del diagrama de influencia. Los autores de la Libreria nos recomendaron dejar los nodos de decision y utilidad con distribución uniforme. y pasar como evidencia alguna decision tomada con probabilidad 1. (https://gitlab.com/agrumery/aGrUM/-/issues/57), puesto la libreria todavia no posee esa función.\n",
    "\n",
    "## Replica 1"
   ]
  },
  {
   "cell_type": "code",
   "execution_count": 35,
   "metadata": {},
   "outputs": [
    {
     "data": {
      "text/html": [
       "<svg xmlns=\"http://www.w3.org/2000/svg\" xmlns:xlink=\"http://www.w3.org/1999/xlink\" width=\"175pt\" height=\"260pt\" viewBox=\"0.00 0.00 174.94 260.00\">\n",
       "<g id=\"graph0\" class=\"graph\" transform=\"scale(1 1) rotate(0) translate(4 256)\">\n",
       "<title>G</title>\n",
       "<!-- HIV Status -->\n",
       "<g id=\"node1\" class=\"node\">\n",
       "<title>HIV Status</title>\n",
       "<g id=\"a_node1\"><a xlink:title=\"(0) HIV Status\">\n",
       "<ellipse fill=\"#404040\" stroke=\"black\" cx=\"115.59\" cy=\"-234\" rx=\"51.19\" ry=\"18\"/>\n",
       "<text text-anchor=\"middle\" x=\"115.59\" y=\"-230.3\" font-family=\"Times New Roman,serif\" font-size=\"14.00\" fill=\"white\">HIV Status</text>\n",
       "</a>\n",
       "</g>\n",
       "</g>\n",
       "<!-- PCR Result -->\n",
       "<g id=\"node2\" class=\"node\">\n",
       "<title>PCR Result</title>\n",
       "<g id=\"a_node2\"><a xlink:title=\"(1) PCR Result\">\n",
       "<ellipse fill=\"#404040\" stroke=\"black\" cx=\"74.59\" cy=\"-162\" rx=\"53.89\" ry=\"18\"/>\n",
       "<text text-anchor=\"middle\" x=\"74.59\" y=\"-158.3\" font-family=\"Times New Roman,serif\" font-size=\"14.00\" fill=\"white\">PCR Result</text>\n",
       "</a>\n",
       "</g>\n",
       "</g>\n",
       "<!-- HIV Status&#45;&gt;PCR Result -->\n",
       "<g id=\"edge3\" class=\"edge\">\n",
       "<title>HIV Status-&gt;PCR Result</title>\n",
       "<g id=\"a_edge3\"><a xlink:title=\"(0, 1) : \">\n",
       "<path fill=\"none\" stroke=\"#4a4a4a\" d=\"M105.67,-216.05C100.83,-207.8 94.92,-197.7 89.55,-188.54\"/>\n",
       "<polygon fill=\"#4a4a4a\" stroke=\"#4a4a4a\" points=\"92.5,-186.65 84.43,-179.79 86.46,-190.19 92.5,-186.65\"/>\n",
       "</a>\n",
       "</g>\n",
       "</g>\n",
       "<!-- QALE -->\n",
       "<g id=\"node4\" class=\"node\">\n",
       "<title>QALE</title>\n",
       "<g id=\"a_node4\"><a xlink:title=\"(3) QALE\">\n",
       "<ellipse fill=\"#404040\" stroke=\"black\" cx=\"115.59\" cy=\"-18\" rx=\"34.39\" ry=\"18\"/>\n",
       "<text text-anchor=\"middle\" x=\"115.59\" y=\"-14.3\" font-family=\"Times New Roman,serif\" font-size=\"14.00\" fill=\"white\">QALE</text>\n",
       "</a>\n",
       "</g>\n",
       "</g>\n",
       "<!-- HIV Status&#45;&gt;QALE -->\n",
       "<g id=\"edge1\" class=\"edge\">\n",
       "<title>HIV Status-&gt;QALE</title>\n",
       "<g id=\"a_edge1\"><a xlink:title=\"(0, 3) : \">\n",
       "<path fill=\"none\" stroke=\"#4a4a4a\" d=\"M124.27,-215.78C129,-205.62 134.5,-192.37 137.59,-180 149.27,-133.34 156.51,-118.6 144.59,-72 142.11,-62.3 137.45,-52.46 132.58,-43.94\"/>\n",
       "<polygon fill=\"#4a4a4a\" stroke=\"#4a4a4a\" points=\"135.49,-42 127.3,-35.28 129.51,-45.64 135.49,-42\"/>\n",
       "</a>\n",
       "</g>\n",
       "</g>\n",
       "<!-- Treat?(Yes/No) -->\n",
       "<g id=\"node3\" class=\"node\">\n",
       "<title>Treat?(Yes/No)</title>\n",
       "<g id=\"a_node3\"><a xlink:title=\"(2) Treat?(Yes/No)\">\n",
       "<ellipse fill=\"#404040\" stroke=\"black\" cx=\"67.59\" cy=\"-90\" rx=\"67.69\" ry=\"18\"/>\n",
       "<text text-anchor=\"middle\" x=\"67.59\" y=\"-86.3\" font-family=\"Times New Roman,serif\" font-size=\"14.00\" fill=\"white\">Treat?(Yes/No)</text>\n",
       "</a>\n",
       "</g>\n",
       "</g>\n",
       "<!-- PCR Result&#45;&gt;Treat?(Yes/No) -->\n",
       "<g id=\"edge2\" class=\"edge\">\n",
       "<title>PCR Result-&gt;Treat?(Yes/No)</title>\n",
       "<g id=\"a_edge2\"><a xlink:title=\"(1, 2) : \">\n",
       "<path fill=\"none\" stroke=\"#4a4a4a\" d=\"M72.86,-143.7C72.09,-135.98 71.17,-126.71 70.31,-118.11\"/>\n",
       "<polygon fill=\"#4a4a4a\" stroke=\"#4a4a4a\" points=\"73.78,-117.71 69.3,-108.1 66.82,-118.4 73.78,-117.71\"/>\n",
       "</a>\n",
       "</g>\n",
       "</g>\n",
       "<!-- Treat?(Yes/No)&#45;&gt;QALE -->\n",
       "<g id=\"edge4\" class=\"edge\">\n",
       "<title>Treat?(Yes/No)-&gt;QALE</title>\n",
       "<g id=\"a_edge4\"><a xlink:title=\"(2, 3) : \">\n",
       "<path fill=\"none\" stroke=\"#4a4a4a\" d=\"M79.21,-72.05C85.08,-63.5 92.3,-52.97 98.76,-43.56\"/>\n",
       "<polygon fill=\"#4a4a4a\" stroke=\"#4a4a4a\" points=\"101.64,-45.53 104.41,-35.31 95.87,-41.57 101.64,-45.53\"/>\n",
       "</a>\n",
       "</g>\n",
       "</g>\n",
       "</g>\n",
       "</svg>"
      ],
      "text/plain": [
       "(gum::BayesNet<double>@0B0FD9E0) BN{nodes: 4, arcs: 4, domainSize: 8, dim: 14}"
      ]
     },
     "execution_count": 35,
     "metadata": {},
     "output_type": "execute_result"
    }
   ],
   "source": [
    "HIV1=gum.BayesNet('WaterSprinkler')\n",
    "S=HIV1.add(gum.LabelizedVariable(\"HIV Status\",\"HIV Status\",2))\n",
    "R=HIV1.add(gum.LabelizedVariable(\"PCR Result\",\"PCR Result\",2))\n",
    "T=HIV1.add(gum.LabelizedVariable(\"Treat?(Yes/No)\",\"Treat?\",2))\n",
    "Q=HIV1.add(gum.LabelizedVariable(\"QALE\",\"QALE\",1))\n",
    "#Unir nodos\n",
    "HIV1.addArc(S,Q)\n",
    "HIV1.addArc(S,R)\n",
    "HIV1.addArc(R,T)\n",
    "HIV1.addArc(T,Q)\n",
    "HIV1"
   ]
  },
  {
   "cell_type": "code",
   "execution_count": 36,
   "metadata": {},
   "outputs": [
    {
     "data": {
      "text/html": [
       "<table style=\"border:1px solid black;\">\n",
       "<tr style='border:1px solid black;color:black;background-color:#808080'><th colspan='2'><center>HIV Status</center></th></tr>\n",
       "<tr><th style='border:1px solid black;border-bottom-style: double;color:black;background-color:#BBBBBB'><center>0</center></th><th style='border:1px solid black;border-bottom-style: double;color:black;background-color:#BBBBBB'><center>1</center></th></tr>\n",
       "<tr><td style='color:black;background-color:#89f464;text-align:right;'>0.9200</td><td style='color:black;background-color:#f48964;text-align:right;'>0.0800</td></tr>\n",
       "</table>"
      ],
      "text/plain": [
       "(gum::Potential<double>@0B14A288) <HIV Status:0> :: 0.92 /<HIV Status:1> :: 0.08"
      ]
     },
     "execution_count": 36,
     "metadata": {},
     "output_type": "execute_result"
    }
   ],
   "source": [
    "HIV1.cpt(S).fillWith([0.92,0.08])"
   ]
  },
  {
   "cell_type": "code",
   "execution_count": 37,
   "metadata": {},
   "outputs": [],
   "source": [
    "HIV1.cpt(R)[{'HIV Status':1}] = [0.02, 0.98]\n",
    "HIV1.cpt(R)[{'HIV Status':0}] = [0.98, 0.02]"
   ]
  },
  {
   "cell_type": "code",
   "execution_count": 38,
   "metadata": {},
   "outputs": [
    {
     "data": {
      "text/html": [
       "<table style=\"border:1px solid black;\">\n",
       "<tr><th colspan='1'></th><th colspan='2' style='border:1px solid black;color:black;background-color:#808080;'><center>Treat?(Yes/No)</center></th></tr>\n",
       "<tr><th style='border:1px solid black;color:black;background-color:#808080'><center>PCR Result</center></th><th style='border:1px solid black;border-bottom-style: double;color:black;background-color:#BBBBBB'><center>0</center></th><th style='border:1px solid black;border-bottom-style: double;color:black;background-color:#BBBBBB'><center>1</center></th></tr>\n",
       "<tr><th style='border:1px solid black;color:black;background-color:#BBBBBB'><center>0</center></th><td style='color:black;background-color:#df9f64;text-align:right;'>0.2500</td><td style='color:black;background-color:#df9f64;text-align:right;'>0.2500</td></tr>\n",
       "<tr><th style='border:1px solid black;color:black;background-color:#BBBBBB'><center>1</center></th><td style='color:black;background-color:#df9f64;text-align:right;'>0.2500</td><td style='color:black;background-color:#df9f64;text-align:right;'>0.2500</td></tr>\n",
       "</table>"
      ],
      "text/plain": [
       "(gum::Potential<double>@0B14A810) <Treat?(Yes/No):0|PCR Result:0> :: 0.25 /<Treat?(Yes/No):1|PCR Result:0> :: 0.25 /<Treat?(Yes/No):0|PCR Result:1> :: 0.25 /<Treat?(Yes/No):1|PCR Result:1> :: 0.25"
      ]
     },
     "execution_count": 38,
     "metadata": {},
     "output_type": "execute_result"
    }
   ],
   "source": [
    "HIV1.cpt(T).fillWith([0.25,0.25,0.25,0.25])"
   ]
  },
  {
   "cell_type": "code",
   "execution_count": 39,
   "metadata": {},
   "outputs": [
    {
     "data": {
      "text/html": [
       "<table style=\"border:1px solid black;\">\n",
       "<tr><th colspan='2'></th><th colspan='1' style='border:1px solid black;color:black;background-color:#808080;'><center>QALE</center></th></tr>\n",
       "<tr><th style='border:1px solid black;color:black;background-color:#808080'><center>Treat?(Yes/No)</center></th><th style='border:1px solid black;color:black;background-color:#808080'><center>HIV Status</center></th><th style='border:1px solid black;border-bottom-style: double;color:black;background-color:#BBBBBB'><center>0</center></th></tr>\n",
       "<tr><th style='border:1px solid black;color:black;background-color:#BBBBBB;' rowspan = '2'><center>0</center></th><th style='border:1px solid black;color:black;background-color:#BBBBBB'><center>0</center></th><td style='color:black;background-color:#df9f64;text-align:right;'>0.2500</td></tr>\n",
       "<tr><th style='border:1px solid black;color:black;background-color:#BBBBBB'><center>1</center></th><td style='color:black;background-color:#df9f64;text-align:right;'>0.2500</td></tr>\n",
       "<tr><th style='border:1px solid black;color:black;background-color:#BBBBBB;' rowspan = '2'><center>1</center></th><th style='border:1px solid black;color:black;background-color:#BBBBBB'><center>0</center></th><td style='color:black;background-color:#df9f64;text-align:right;'>0.2500</td></tr>\n",
       "<tr><th style='border:1px solid black;color:black;background-color:#BBBBBB'><center>1</center></th><td style='color:black;background-color:#df9f64;text-align:right;'>0.2500</td></tr>\n",
       "</table>"
      ],
      "text/plain": [
       "(gum::Potential<double>@0B14A6D8) <QALE:0|HIV Status:0|Treat?(Yes/No):0> :: 0.25 /<QALE:0|HIV Status:1|Treat?(Yes/No):0> :: 0.25 /<QALE:0|HIV Status:0|Treat?(Yes/No):1> :: 0.25 /<QALE:0|HIV Status:1|Treat?(Yes/No):1> :: 0.25"
      ]
     },
     "execution_count": 39,
     "metadata": {},
     "output_type": "execute_result"
    }
   ],
   "source": [
    "HIV1.cpt(Q).fillWith([0.25,0.25,0.25,0.25])"
   ]
  },
  {
   "cell_type": "code",
   "execution_count": 40,
   "metadata": {},
   "outputs": [],
   "source": [
    "%matplotlib inline\n",
    "ie=gum.LazyPropagation(HIV1)\n",
    "ie.setEvidence({'Treat?(Yes/No)':1})\n",
    "ie.makeInference()"
   ]
  },
  {
   "cell_type": "code",
   "execution_count": 41,
   "metadata": {},
   "outputs": [
    {
     "data": {
      "image/svg+xml": [
       "<svg xmlns=\"http://www.w3.org/2000/svg\" xmlns:xlink=\"http://www.w3.org/1999/xlink\" width=\"174pt\" height=\"293pt\" viewBox=\"0.00 0.00 174.09 293.00\">\n",
       "<g id=\"graph0\" class=\"graph\" transform=\"scale(1 1) rotate(0) translate(4 289)\">\n",
       "<title>structs</title>\n",
       "<text text-anchor=\"middle\" x=\"83.05\" y=\"-7.8\" font-family=\"Times New Roman,serif\" font-size=\"14.00\" fill=\"#4a4a4a\">Inference in   1.00ms</text>\n",
       "<!-- HIV Status -->\n",
       "<g id=\"node1\" class=\"node\">\n",
       "<title>HIV Status</title>\n",
       "<polygon fill=\"white\" stroke=\"#000000\" points=\"166.09,-285 65.09,-285 65.09,-244 166.09,-244 166.09,-285\"/>\n",
       "<svg viewBox=\"0 0 132.1625 52.998125\" width=\"101px\" height=\"41px\" preserveAspectRatio=\"xMinYMin meet\" x=\"65.094\" y=\"-285\"> <defs>\n",
       "  <style type=\"text/css\">\n",
       "*{stroke-linecap:butt;stroke-linejoin:round;}\n",
       "  </style>\n",
       " </defs>\n",
       " <g id=\"figure_1\">\n",
       "  <g id=\"patch_1\">\n",
       "   <path d=\"M 0 52.998125  L 132.1625 52.998125  L 132.1625 0  L 0 0  z \" style=\"fill:none;\"/>\n",
       "  </g>\n",
       "  <g id=\"axes_1\">\n",
       "   <g id=\"patch_2\">\n",
       "    <path d=\"M 16.9625 45.898125  L 128.5625 45.898125  L 128.5625 18.718125  L 16.9625 18.718125  z \" style=\"fill:none;\"/>\n",
       "   </g>\n",
       "   <g id=\"patch_3\">\n",
       "    <path clip-path=\"url(#pbaf2f8adf0)\" d=\"M 16.9625 45.898125  L 25.8905 45.898125  L 25.8905 33.818125  L 16.9625 33.818125  z \" style=\"fill:#8fbc8f;\"/>\n",
       "   </g>\n",
       "   <g id=\"patch_4\">\n",
       "    <path clip-path=\"url(#pbaf2f8adf0)\" d=\"M 16.9625 30.798125  L 119.6345 30.798125  L 119.6345 18.718125  L 16.9625 18.718125  z \" style=\"fill:#8fbc8f;\"/>\n",
       "   </g>\n",
       "   <g id=\"matplotlib.axis_1\">\n",
       "    <g id=\"xtick_1\">\n",
       "     <g id=\"line2d_1\">\n",
       "      <path clip-path=\"url(#pbaf2f8adf0)\" d=\"M 16.9625 45.898125  L 16.9625 18.718125  \" style=\"fill:none;stroke:#b0b0b0;stroke-linecap:square;stroke-width:0.8;\"/>\n",
       "     </g>\n",
       "     <g id=\"line2d_2\">\n",
       "      <defs>\n",
       "       <path d=\"M 0 0  L 0 3.5  \" id=\"m57159a1fd0\" style=\"stroke:#000000;stroke-width:0.8;\"/>\n",
       "      </defs>\n",
       "      <g>\n",
       "       <use style=\"stroke:#000000;stroke-width:0.8;\" x=\"16.9625\" xlink:href=\"#m57159a1fd0\" y=\"45.898125\"/>\n",
       "      </g>\n",
       "     </g>\n",
       "    </g>\n",
       "    <g id=\"xtick_2\">\n",
       "     <g id=\"line2d_3\">\n",
       "      <path clip-path=\"url(#pbaf2f8adf0)\" d=\"M 72.7625 45.898125  L 72.7625 18.718125  \" style=\"fill:none;stroke:#b0b0b0;stroke-linecap:square;stroke-width:0.8;\"/>\n",
       "     </g>\n",
       "     <g id=\"line2d_4\">\n",
       "      <g>\n",
       "       <use style=\"stroke:#000000;stroke-width:0.8;\" x=\"72.7625\" xlink:href=\"#m57159a1fd0\" y=\"45.898125\"/>\n",
       "      </g>\n",
       "     </g>\n",
       "    </g>\n",
       "    <g id=\"xtick_3\">\n",
       "     <g id=\"line2d_5\">\n",
       "      <path clip-path=\"url(#pbaf2f8adf0)\" d=\"M 128.5625 45.898125  L 128.5625 18.718125  \" style=\"fill:none;stroke:#b0b0b0;stroke-linecap:square;stroke-width:0.8;\"/>\n",
       "     </g>\n",
       "     <g id=\"line2d_6\">\n",
       "      <g>\n",
       "       <use style=\"stroke:#000000;stroke-width:0.8;\" x=\"128.5625\" xlink:href=\"#m57159a1fd0\" y=\"45.898125\"/>\n",
       "      </g>\n",
       "     </g>\n",
       "    </g>\n",
       "   </g>\n",
       "   <g id=\"matplotlib.axis_2\">\n",
       "    <g id=\"ytick_1\">\n",
       "     <g id=\"line2d_7\">\n",
       "      <defs>\n",
       "       <path d=\"M 0 0  L -3.5 0  \" id=\"m2dbd7fe64c\" style=\"stroke:#000000;stroke-width:0.8;\"/>\n",
       "      </defs>\n",
       "      <g>\n",
       "       <use style=\"stroke:#000000;stroke-width:0.8;\" x=\"16.9625\" xlink:href=\"#m2dbd7fe64c\" y=\"39.858125\"/>\n",
       "      </g>\n",
       "     </g>\n",
       "     <g id=\"text_1\">\n",
       "      <!-- 1 -->\n",
       "      <defs>\n",
       "       <path d=\"M 12.40625 8.296875  L 28.515625 8.296875  L 28.515625 63.921875  L 10.984375 60.40625  L 10.984375 69.390625  L 28.421875 72.90625  L 38.28125 72.90625  L 38.28125 8.296875  L 54.390625 8.296875  L 54.390625 0  L 12.40625 0  z \" id=\"DejaVuSans-49\"/>\n",
       "      </defs>\n",
       "      <g transform=\"translate(3.6 43.657344)scale(0.1 -0.1)\">\n",
       "       <use xlink:href=\"#DejaVuSans-49\"/>\n",
       "      </g>\n",
       "     </g>\n",
       "    </g>\n",
       "    <g id=\"ytick_2\">\n",
       "     <g id=\"line2d_8\">\n",
       "      <g>\n",
       "       <use style=\"stroke:#000000;stroke-width:0.8;\" x=\"16.9625\" xlink:href=\"#m2dbd7fe64c\" y=\"24.758125\"/>\n",
       "      </g>\n",
       "     </g>\n",
       "     <g id=\"text_2\">\n",
       "      <!-- 0 -->\n",
       "      <defs>\n",
       "       <path d=\"M 31.78125 66.40625  Q 24.171875 66.40625 20.328125 58.90625  Q 16.5 51.421875 16.5 36.375  Q 16.5 21.390625 20.328125 13.890625  Q 24.171875 6.390625 31.78125 6.390625  Q 39.453125 6.390625 43.28125 13.890625  Q 47.125 21.390625 47.125 36.375  Q 47.125 51.421875 43.28125 58.90625  Q 39.453125 66.40625 31.78125 66.40625  z M 31.78125 74.21875  Q 44.046875 74.21875 50.515625 64.515625  Q 56.984375 54.828125 56.984375 36.375  Q 56.984375 17.96875 50.515625 8.265625  Q 44.046875 -1.421875 31.78125 -1.421875  Q 19.53125 -1.421875 13.0625 8.265625  Q 6.59375 17.96875 6.59375 36.375  Q 6.59375 54.828125 13.0625 64.515625  Q 19.53125 74.21875 31.78125 74.21875  z \" id=\"DejaVuSans-48\"/>\n",
       "      </defs>\n",
       "      <g transform=\"translate(3.6 28.557344)scale(0.1 -0.1)\">\n",
       "       <use xlink:href=\"#DejaVuSans-48\"/>\n",
       "      </g>\n",
       "     </g>\n",
       "    </g>\n",
       "   </g>\n",
       "   <g id=\"patch_5\">\n",
       "    <path d=\"M 16.9625 45.898125  L 16.9625 18.718125  \" style=\"fill:none;stroke:#000000;stroke-linecap:square;stroke-linejoin:miter;stroke-width:0.8;\"/>\n",
       "   </g>\n",
       "   <g id=\"patch_6\">\n",
       "    <path d=\"M 128.5625 45.898125  L 128.5625 18.718125  \" style=\"fill:none;stroke:#000000;stroke-linecap:square;stroke-linejoin:miter;stroke-width:0.8;\"/>\n",
       "   </g>\n",
       "   <g id=\"patch_7\">\n",
       "    <path d=\"M 16.9625 45.898125  L 128.5625 45.898125  \" style=\"fill:none;stroke:#000000;stroke-linecap:square;stroke-linejoin:miter;stroke-width:0.8;\"/>\n",
       "   </g>\n",
       "   <g id=\"patch_8\">\n",
       "    <path d=\"M 16.9625 18.718125  L 128.5625 18.718125  \" style=\"fill:none;stroke:#000000;stroke-linecap:square;stroke-linejoin:miter;stroke-width:0.8;\"/>\n",
       "   </g>\n",
       "   <g id=\"text_3\">\n",
       "    <!-- 8.00% -->\n",
       "    <defs>\n",
       "     <path d=\"M 31.78125 34.625  Q 24.75 34.625 20.71875 30.859375  Q 16.703125 27.09375 16.703125 20.515625  Q 16.703125 13.921875 20.71875 10.15625  Q 24.75 6.390625 31.78125 6.390625  Q 38.8125 6.390625 42.859375 10.171875  Q 46.921875 13.96875 46.921875 20.515625  Q 46.921875 27.09375 42.890625 30.859375  Q 38.875 34.625 31.78125 34.625  z M 21.921875 38.8125  Q 15.578125 40.375 12.03125 44.71875  Q 8.5 49.078125 8.5 55.328125  Q 8.5 64.0625 14.71875 69.140625  Q 20.953125 74.21875 31.78125 74.21875  Q 42.671875 74.21875 48.875 69.140625  Q 55.078125 64.0625 55.078125 55.328125  Q 55.078125 49.078125 51.53125 44.71875  Q 48 40.375 41.703125 38.8125  Q 48.828125 37.15625 52.796875 32.3125  Q 56.78125 27.484375 56.78125 20.515625  Q 56.78125 9.90625 50.3125 4.234375  Q 43.84375 -1.421875 31.78125 -1.421875  Q 19.734375 -1.421875 13.25 4.234375  Q 6.78125 9.90625 6.78125 20.515625  Q 6.78125 27.484375 10.78125 32.3125  Q 14.796875 37.15625 21.921875 38.8125  z M 18.3125 54.390625  Q 18.3125 48.734375 21.84375 45.5625  Q 25.390625 42.390625 31.78125 42.390625  Q 38.140625 42.390625 41.71875 45.5625  Q 45.3125 48.734375 45.3125 54.390625  Q 45.3125 60.0625 41.71875 63.234375  Q 38.140625 66.40625 31.78125 66.40625  Q 25.390625 66.40625 21.84375 63.234375  Q 18.3125 60.0625 18.3125 54.390625  z \" id=\"DejaVuSans-56\"/>\n",
       "     <path d=\"M 10.6875 12.40625  L 21 12.40625  L 21 0  L 10.6875 0  z \" id=\"DejaVuSans-46\"/>\n",
       "     <path d=\"M 72.703125 32.078125  Q 68.453125 32.078125 66.03125 28.46875  Q 63.625 24.859375 63.625 18.40625  Q 63.625 12.0625 66.03125 8.421875  Q 68.453125 4.78125 72.703125 4.78125  Q 76.859375 4.78125 79.265625 8.421875  Q 81.6875 12.0625 81.6875 18.40625  Q 81.6875 24.8125 79.265625 28.4375  Q 76.859375 32.078125 72.703125 32.078125  z M 72.703125 38.28125  Q 80.421875 38.28125 84.953125 32.90625  Q 89.5 27.546875 89.5 18.40625  Q 89.5 9.28125 84.9375 3.921875  Q 80.375 -1.421875 72.703125 -1.421875  Q 64.890625 -1.421875 60.34375 3.921875  Q 55.8125 9.28125 55.8125 18.40625  Q 55.8125 27.59375 60.375 32.9375  Q 64.9375 38.28125 72.703125 38.28125  z M 22.3125 68.015625  Q 18.109375 68.015625 15.6875 64.375  Q 13.28125 60.75 13.28125 54.390625  Q 13.28125 47.953125 15.671875 44.328125  Q 18.0625 40.71875 22.3125 40.71875  Q 26.5625 40.71875 28.96875 44.328125  Q 31.390625 47.953125 31.390625 54.390625  Q 31.390625 60.6875 28.953125 64.34375  Q 26.515625 68.015625 22.3125 68.015625  z M 66.40625 74.21875  L 74.21875 74.21875  L 28.609375 -1.421875  L 20.796875 -1.421875  z M 22.3125 74.21875  Q 30.03125 74.21875 34.609375 68.875  Q 39.203125 63.53125 39.203125 54.390625  Q 39.203125 45.171875 34.640625 39.84375  Q 30.078125 34.515625 22.3125 34.515625  Q 14.546875 34.515625 10.03125 39.859375  Q 5.515625 45.21875 5.515625 54.390625  Q 5.515625 63.484375 10.046875 68.84375  Q 14.59375 74.21875 22.3125 74.21875  z \" id=\"DejaVuSans-37\"/>\n",
       "    </defs>\n",
       "    <g transform=\"translate(96.795312 43.818437)scale(0.1 -0.1)\">\n",
       "     <use xlink:href=\"#DejaVuSans-56\"/>\n",
       "     <use x=\"63.623047\" xlink:href=\"#DejaVuSans-46\"/>\n",
       "     <use x=\"95.410156\" xlink:href=\"#DejaVuSans-48\"/>\n",
       "     <use x=\"159.033203\" xlink:href=\"#DejaVuSans-48\"/>\n",
       "     <use x=\"222.65625\" xlink:href=\"#DejaVuSans-37\"/>\n",
       "    </g>\n",
       "   </g>\n",
       "   <g id=\"text_4\">\n",
       "    <!-- 92.00% -->\n",
       "    <defs>\n",
       "     <path d=\"M 10.984375 1.515625  L 10.984375 10.5  Q 14.703125 8.734375 18.5 7.8125  Q 22.3125 6.890625 25.984375 6.890625  Q 35.75 6.890625 40.890625 13.453125  Q 46.046875 20.015625 46.78125 33.40625  Q 43.953125 29.203125 39.59375 26.953125  Q 35.25 24.703125 29.984375 24.703125  Q 19.046875 24.703125 12.671875 31.3125  Q 6.296875 37.9375 6.296875 49.421875  Q 6.296875 60.640625 12.9375 67.421875  Q 19.578125 74.21875 30.609375 74.21875  Q 43.265625 74.21875 49.921875 64.515625  Q 56.59375 54.828125 56.59375 36.375  Q 56.59375 19.140625 48.40625 8.859375  Q 40.234375 -1.421875 26.421875 -1.421875  Q 22.703125 -1.421875 18.890625 -0.6875  Q 15.09375 0.046875 10.984375 1.515625  z M 30.609375 32.421875  Q 37.25 32.421875 41.125 36.953125  Q 45.015625 41.5 45.015625 49.421875  Q 45.015625 57.28125 41.125 61.84375  Q 37.25 66.40625 30.609375 66.40625  Q 23.96875 66.40625 20.09375 61.84375  Q 16.21875 57.28125 16.21875 49.421875  Q 16.21875 41.5 20.09375 36.953125  Q 23.96875 32.421875 30.609375 32.421875  z \" id=\"DejaVuSans-57\"/>\n",
       "     <path d=\"M 19.1875 8.296875  L 53.609375 8.296875  L 53.609375 0  L 7.328125 0  L 7.328125 8.296875  Q 12.9375 14.109375 22.625 23.890625  Q 32.328125 33.6875 34.8125 36.53125  Q 39.546875 41.84375 41.421875 45.53125  Q 43.3125 49.21875 43.3125 52.78125  Q 43.3125 58.59375 39.234375 62.25  Q 35.15625 65.921875 28.609375 65.921875  Q 23.96875 65.921875 18.8125 64.3125  Q 13.671875 62.703125 7.8125 59.421875  L 7.8125 69.390625  Q 13.765625 71.78125 18.9375 73  Q 24.125 74.21875 28.421875 74.21875  Q 39.75 74.21875 46.484375 68.546875  Q 53.21875 62.890625 53.21875 53.421875  Q 53.21875 48.921875 51.53125 44.890625  Q 49.859375 40.875 45.40625 35.40625  Q 44.1875 33.984375 37.640625 27.21875  Q 31.109375 20.453125 19.1875 8.296875  z \" id=\"DejaVuSans-50\"/>\n",
       "    </defs>\n",
       "    <g transform=\"translate(90.432812 28.718437)scale(0.1 -0.1)\">\n",
       "     <use xlink:href=\"#DejaVuSans-57\"/>\n",
       "     <use x=\"63.623047\" xlink:href=\"#DejaVuSans-50\"/>\n",
       "     <use x=\"127.246094\" xlink:href=\"#DejaVuSans-46\"/>\n",
       "     <use x=\"159.033203\" xlink:href=\"#DejaVuSans-48\"/>\n",
       "     <use x=\"222.65625\" xlink:href=\"#DejaVuSans-48\"/>\n",
       "     <use x=\"286.279297\" xlink:href=\"#DejaVuSans-37\"/>\n",
       "    </g>\n",
       "   </g>\n",
       "   <g id=\"text_5\">\n",
       "    <!-- HIV Status -->\n",
       "    <defs>\n",
       "     <path d=\"M 9.8125 72.90625  L 19.671875 72.90625  L 19.671875 43.015625  L 55.515625 43.015625  L 55.515625 72.90625  L 65.375 72.90625  L 65.375 0  L 55.515625 0  L 55.515625 34.71875  L 19.671875 34.71875  L 19.671875 0  L 9.8125 0  z \" id=\"DejaVuSans-72\"/>\n",
       "     <path d=\"M 9.8125 72.90625  L 19.671875 72.90625  L 19.671875 0  L 9.8125 0  z \" id=\"DejaVuSans-73\"/>\n",
       "     <path d=\"M 28.609375 0  L 0.78125 72.90625  L 11.078125 72.90625  L 34.1875 11.53125  L 57.328125 72.90625  L 67.578125 72.90625  L 39.796875 0  z \" id=\"DejaVuSans-86\"/>\n",
       "     <path id=\"DejaVuSans-32\"/>\n",
       "     <path d=\"M 53.515625 70.515625  L 53.515625 60.890625  Q 47.90625 63.578125 42.921875 64.890625  Q 37.9375 66.21875 33.296875 66.21875  Q 25.25 66.21875 20.875 63.09375  Q 16.5 59.96875 16.5 54.203125  Q 16.5 49.359375 19.40625 46.890625  Q 22.3125 44.4375 30.421875 42.921875  L 36.375 41.703125  Q 47.40625 39.59375 52.65625 34.296875  Q 57.90625 29 57.90625 20.125  Q 57.90625 9.515625 50.796875 4.046875  Q 43.703125 -1.421875 29.984375 -1.421875  Q 24.8125 -1.421875 18.96875 -0.25  Q 13.140625 0.921875 6.890625 3.21875  L 6.890625 13.375  Q 12.890625 10.015625 18.65625 8.296875  Q 24.421875 6.59375 29.984375 6.59375  Q 38.421875 6.59375 43.015625 9.90625  Q 47.609375 13.234375 47.609375 19.390625  Q 47.609375 24.75 44.3125 27.78125  Q 41.015625 30.8125 33.5 32.328125  L 27.484375 33.5  Q 16.453125 35.6875 11.515625 40.375  Q 6.59375 45.0625 6.59375 53.421875  Q 6.59375 63.09375 13.40625 68.65625  Q 20.21875 74.21875 32.171875 74.21875  Q 37.3125 74.21875 42.625 73.28125  Q 47.953125 72.359375 53.515625 70.515625  z \" id=\"DejaVuSans-83\"/>\n",
       "     <path d=\"M 18.3125 70.21875  L 18.3125 54.6875  L 36.8125 54.6875  L 36.8125 47.703125  L 18.3125 47.703125  L 18.3125 18.015625  Q 18.3125 11.328125 20.140625 9.421875  Q 21.96875 7.515625 27.59375 7.515625  L 36.8125 7.515625  L 36.8125 0  L 27.59375 0  Q 17.1875 0 13.234375 3.875  Q 9.28125 7.765625 9.28125 18.015625  L 9.28125 47.703125  L 2.6875 47.703125  L 2.6875 54.6875  L 9.28125 54.6875  L 9.28125 70.21875  z \" id=\"DejaVuSans-116\"/>\n",
       "     <path d=\"M 34.28125 27.484375  Q 23.390625 27.484375 19.1875 25  Q 14.984375 22.515625 14.984375 16.5  Q 14.984375 11.71875 18.140625 8.90625  Q 21.296875 6.109375 26.703125 6.109375  Q 34.1875 6.109375 38.703125 11.40625  Q 43.21875 16.703125 43.21875 25.484375  L 43.21875 27.484375  z M 52.203125 31.203125  L 52.203125 0  L 43.21875 0  L 43.21875 8.296875  Q 40.140625 3.328125 35.546875 0.953125  Q 30.953125 -1.421875 24.3125 -1.421875  Q 15.921875 -1.421875 10.953125 3.296875  Q 6 8.015625 6 15.921875  Q 6 25.140625 12.171875 29.828125  Q 18.359375 34.515625 30.609375 34.515625  L 43.21875 34.515625  L 43.21875 35.40625  Q 43.21875 41.609375 39.140625 45  Q 35.0625 48.390625 27.6875 48.390625  Q 23 48.390625 18.546875 47.265625  Q 14.109375 46.140625 10.015625 43.890625  L 10.015625 52.203125  Q 14.9375 54.109375 19.578125 55.046875  Q 24.21875 56 28.609375 56  Q 40.484375 56 46.34375 49.84375  Q 52.203125 43.703125 52.203125 31.203125  z \" id=\"DejaVuSans-97\"/>\n",
       "     <path d=\"M 8.5 21.578125  L 8.5 54.6875  L 17.484375 54.6875  L 17.484375 21.921875  Q 17.484375 14.15625 20.5 10.265625  Q 23.53125 6.390625 29.59375 6.390625  Q 36.859375 6.390625 41.078125 11.03125  Q 45.3125 15.671875 45.3125 23.6875  L 45.3125 54.6875  L 54.296875 54.6875  L 54.296875 0  L 45.3125 0  L 45.3125 8.40625  Q 42.046875 3.421875 37.71875 1  Q 33.40625 -1.421875 27.6875 -1.421875  Q 18.265625 -1.421875 13.375 4.4375  Q 8.5 10.296875 8.5 21.578125  z M 31.109375 56  z \" id=\"DejaVuSans-117\"/>\n",
       "     <path d=\"M 44.28125 53.078125  L 44.28125 44.578125  Q 40.484375 46.53125 36.375 47.5  Q 32.28125 48.484375 27.875 48.484375  Q 21.1875 48.484375 17.84375 46.4375  Q 14.5 44.390625 14.5 40.28125  Q 14.5 37.15625 16.890625 35.375  Q 19.28125 33.59375 26.515625 31.984375  L 29.59375 31.296875  Q 39.15625 29.25 43.1875 25.515625  Q 47.21875 21.78125 47.21875 15.09375  Q 47.21875 7.46875 41.1875 3.015625  Q 35.15625 -1.421875 24.609375 -1.421875  Q 20.21875 -1.421875 15.453125 -0.5625  Q 10.6875 0.296875 5.421875 2  L 5.421875 11.28125  Q 10.40625 8.6875 15.234375 7.390625  Q 20.0625 6.109375 24.8125 6.109375  Q 31.15625 6.109375 34.5625 8.28125  Q 37.984375 10.453125 37.984375 14.40625  Q 37.984375 18.0625 35.515625 20.015625  Q 33.0625 21.96875 24.703125 23.78125  L 21.578125 24.515625  Q 13.234375 26.265625 9.515625 29.90625  Q 5.8125 33.546875 5.8125 39.890625  Q 5.8125 47.609375 11.28125 51.796875  Q 16.75 56 26.8125 56  Q 31.78125 56 36.171875 55.265625  Q 40.578125 54.546875 44.28125 53.078125  z \" id=\"DejaVuSans-115\"/>\n",
       "    </defs>\n",
       "    <g transform=\"translate(41.350625 12.718125)scale(0.12 -0.12)\">\n",
       "     <use xlink:href=\"#DejaVuSans-72\"/>\n",
       "     <use x=\"75.195312\" xlink:href=\"#DejaVuSans-73\"/>\n",
       "     <use x=\"104.6875\" xlink:href=\"#DejaVuSans-86\"/>\n",
       "     <use x=\"173.095703\" xlink:href=\"#DejaVuSans-32\"/>\n",
       "     <use x=\"204.882812\" xlink:href=\"#DejaVuSans-83\"/>\n",
       "     <use x=\"268.359375\" xlink:href=\"#DejaVuSans-116\"/>\n",
       "     <use x=\"307.568359\" xlink:href=\"#DejaVuSans-97\"/>\n",
       "     <use x=\"368.847656\" xlink:href=\"#DejaVuSans-116\"/>\n",
       "     <use x=\"408.056641\" xlink:href=\"#DejaVuSans-117\"/>\n",
       "     <use x=\"471.435547\" xlink:href=\"#DejaVuSans-115\"/>\n",
       "    </g>\n",
       "   </g>\n",
       "  </g>\n",
       " </g>\n",
       " <defs>\n",
       "  <clipPath id=\"pbaf2f8adf0\">\n",
       "   <rect height=\"27.18\" width=\"111.6\" x=\"16.9625\" y=\"18.718125\"/>\n",
       "  </clipPath>\n",
       " </defs>\n",
       "</svg>\n",
       "\n",
       "</g>\n",
       "<!-- PCR Result -->\n",
       "<g id=\"node2\" class=\"node\">\n",
       "<title>PCR Result</title>\n",
       "<polygon fill=\"white\" stroke=\"#000000\" points=\"127.09,-208 26.09,-208 26.09,-167 127.09,-167 127.09,-208\"/>\n",
       "<svg viewBox=\"0 0 132.1625 52.998125\" width=\"101px\" height=\"41px\" preserveAspectRatio=\"xMinYMin meet\" x=\"26.094\" y=\"-208\"> <defs>\n",
       "  <style type=\"text/css\">\n",
       "*{stroke-linecap:butt;stroke-linejoin:round;}\n",
       "  </style>\n",
       " </defs>\n",
       " <g id=\"figure_1\">\n",
       "  <g id=\"patch_1\">\n",
       "   <path d=\"M 0 52.998125  L 132.1625 52.998125  L 132.1625 0  L 0 0  z \" style=\"fill:none;\"/>\n",
       "  </g>\n",
       "  <g id=\"axes_1\">\n",
       "   <g id=\"patch_2\">\n",
       "    <path d=\"M 16.9625 45.898125  L 128.5625 45.898125  L 128.5625 18.718125  L 16.9625 18.718125  z \" style=\"fill:none;\"/>\n",
       "   </g>\n",
       "   <g id=\"patch_3\">\n",
       "    <path clip-path=\"url(#p0ea0c18d1c)\" d=\"M 16.9625 45.898125  L 27.76538 45.898125  L 27.76538 33.818125  L 16.9625 33.818125  z \" style=\"fill:#8fbc8f;\"/>\n",
       "   </g>\n",
       "   <g id=\"patch_4\">\n",
       "    <path clip-path=\"url(#p0ea0c18d1c)\" d=\"M 16.9625 30.798125  L 117.75962 30.798125  L 117.75962 18.718125  L 16.9625 18.718125  z \" style=\"fill:#8fbc8f;\"/>\n",
       "   </g>\n",
       "   <g id=\"matplotlib.axis_1\">\n",
       "    <g id=\"xtick_1\">\n",
       "     <g id=\"line2d_1\">\n",
       "      <path clip-path=\"url(#p0ea0c18d1c)\" d=\"M 16.9625 45.898125  L 16.9625 18.718125  \" style=\"fill:none;stroke:#b0b0b0;stroke-linecap:square;stroke-width:0.8;\"/>\n",
       "     </g>\n",
       "     <g id=\"line2d_2\">\n",
       "      <defs>\n",
       "       <path d=\"M 0 0  L 0 3.5  \" id=\"mf084e56833\" style=\"stroke:#000000;stroke-width:0.8;\"/>\n",
       "      </defs>\n",
       "      <g>\n",
       "       <use style=\"stroke:#000000;stroke-width:0.8;\" x=\"16.9625\" xlink:href=\"#mf084e56833\" y=\"45.898125\"/>\n",
       "      </g>\n",
       "     </g>\n",
       "    </g>\n",
       "    <g id=\"xtick_2\">\n",
       "     <g id=\"line2d_3\">\n",
       "      <path clip-path=\"url(#p0ea0c18d1c)\" d=\"M 72.7625 45.898125  L 72.7625 18.718125  \" style=\"fill:none;stroke:#b0b0b0;stroke-linecap:square;stroke-width:0.8;\"/>\n",
       "     </g>\n",
       "     <g id=\"line2d_4\">\n",
       "      <g>\n",
       "       <use style=\"stroke:#000000;stroke-width:0.8;\" x=\"72.7625\" xlink:href=\"#mf084e56833\" y=\"45.898125\"/>\n",
       "      </g>\n",
       "     </g>\n",
       "    </g>\n",
       "    <g id=\"xtick_3\">\n",
       "     <g id=\"line2d_5\">\n",
       "      <path clip-path=\"url(#p0ea0c18d1c)\" d=\"M 128.5625 45.898125  L 128.5625 18.718125  \" style=\"fill:none;stroke:#b0b0b0;stroke-linecap:square;stroke-width:0.8;\"/>\n",
       "     </g>\n",
       "     <g id=\"line2d_6\">\n",
       "      <g>\n",
       "       <use style=\"stroke:#000000;stroke-width:0.8;\" x=\"128.5625\" xlink:href=\"#mf084e56833\" y=\"45.898125\"/>\n",
       "      </g>\n",
       "     </g>\n",
       "    </g>\n",
       "   </g>\n",
       "   <g id=\"matplotlib.axis_2\">\n",
       "    <g id=\"ytick_1\">\n",
       "     <g id=\"line2d_7\">\n",
       "      <defs>\n",
       "       <path d=\"M 0 0  L -3.5 0  \" id=\"m1d70be7b32\" style=\"stroke:#000000;stroke-width:0.8;\"/>\n",
       "      </defs>\n",
       "      <g>\n",
       "       <use style=\"stroke:#000000;stroke-width:0.8;\" x=\"16.9625\" xlink:href=\"#m1d70be7b32\" y=\"39.858125\"/>\n",
       "      </g>\n",
       "     </g>\n",
       "     <g id=\"text_1\">\n",
       "      <!-- 1 -->\n",
       "      <defs>\n",
       "       <path d=\"M 12.40625 8.296875  L 28.515625 8.296875  L 28.515625 63.921875  L 10.984375 60.40625  L 10.984375 69.390625  L 28.421875 72.90625  L 38.28125 72.90625  L 38.28125 8.296875  L 54.390625 8.296875  L 54.390625 0  L 12.40625 0  z \" id=\"DejaVuSans-49\"/>\n",
       "      </defs>\n",
       "      <g transform=\"translate(3.6 43.657344)scale(0.1 -0.1)\">\n",
       "       <use xlink:href=\"#DejaVuSans-49\"/>\n",
       "      </g>\n",
       "     </g>\n",
       "    </g>\n",
       "    <g id=\"ytick_2\">\n",
       "     <g id=\"line2d_8\">\n",
       "      <g>\n",
       "       <use style=\"stroke:#000000;stroke-width:0.8;\" x=\"16.9625\" xlink:href=\"#m1d70be7b32\" y=\"24.758125\"/>\n",
       "      </g>\n",
       "     </g>\n",
       "     <g id=\"text_2\">\n",
       "      <!-- 0 -->\n",
       "      <defs>\n",
       "       <path d=\"M 31.78125 66.40625  Q 24.171875 66.40625 20.328125 58.90625  Q 16.5 51.421875 16.5 36.375  Q 16.5 21.390625 20.328125 13.890625  Q 24.171875 6.390625 31.78125 6.390625  Q 39.453125 6.390625 43.28125 13.890625  Q 47.125 21.390625 47.125 36.375  Q 47.125 51.421875 43.28125 58.90625  Q 39.453125 66.40625 31.78125 66.40625  z M 31.78125 74.21875  Q 44.046875 74.21875 50.515625 64.515625  Q 56.984375 54.828125 56.984375 36.375  Q 56.984375 17.96875 50.515625 8.265625  Q 44.046875 -1.421875 31.78125 -1.421875  Q 19.53125 -1.421875 13.0625 8.265625  Q 6.59375 17.96875 6.59375 36.375  Q 6.59375 54.828125 13.0625 64.515625  Q 19.53125 74.21875 31.78125 74.21875  z \" id=\"DejaVuSans-48\"/>\n",
       "      </defs>\n",
       "      <g transform=\"translate(3.6 28.557344)scale(0.1 -0.1)\">\n",
       "       <use xlink:href=\"#DejaVuSans-48\"/>\n",
       "      </g>\n",
       "     </g>\n",
       "    </g>\n",
       "   </g>\n",
       "   <g id=\"patch_5\">\n",
       "    <path d=\"M 16.9625 45.898125  L 16.9625 18.718125  \" style=\"fill:none;stroke:#000000;stroke-linecap:square;stroke-linejoin:miter;stroke-width:0.8;\"/>\n",
       "   </g>\n",
       "   <g id=\"patch_6\">\n",
       "    <path d=\"M 128.5625 45.898125  L 128.5625 18.718125  \" style=\"fill:none;stroke:#000000;stroke-linecap:square;stroke-linejoin:miter;stroke-width:0.8;\"/>\n",
       "   </g>\n",
       "   <g id=\"patch_7\">\n",
       "    <path d=\"M 16.9625 45.898125  L 128.5625 45.898125  \" style=\"fill:none;stroke:#000000;stroke-linecap:square;stroke-linejoin:miter;stroke-width:0.8;\"/>\n",
       "   </g>\n",
       "   <g id=\"patch_8\">\n",
       "    <path d=\"M 16.9625 18.718125  L 128.5625 18.718125  \" style=\"fill:none;stroke:#000000;stroke-linecap:square;stroke-linejoin:miter;stroke-width:0.8;\"/>\n",
       "   </g>\n",
       "   <g id=\"text_3\">\n",
       "    <!-- 9.68% -->\n",
       "    <defs>\n",
       "     <path d=\"M 10.984375 1.515625  L 10.984375 10.5  Q 14.703125 8.734375 18.5 7.8125  Q 22.3125 6.890625 25.984375 6.890625  Q 35.75 6.890625 40.890625 13.453125  Q 46.046875 20.015625 46.78125 33.40625  Q 43.953125 29.203125 39.59375 26.953125  Q 35.25 24.703125 29.984375 24.703125  Q 19.046875 24.703125 12.671875 31.3125  Q 6.296875 37.9375 6.296875 49.421875  Q 6.296875 60.640625 12.9375 67.421875  Q 19.578125 74.21875 30.609375 74.21875  Q 43.265625 74.21875 49.921875 64.515625  Q 56.59375 54.828125 56.59375 36.375  Q 56.59375 19.140625 48.40625 8.859375  Q 40.234375 -1.421875 26.421875 -1.421875  Q 22.703125 -1.421875 18.890625 -0.6875  Q 15.09375 0.046875 10.984375 1.515625  z M 30.609375 32.421875  Q 37.25 32.421875 41.125 36.953125  Q 45.015625 41.5 45.015625 49.421875  Q 45.015625 57.28125 41.125 61.84375  Q 37.25 66.40625 30.609375 66.40625  Q 23.96875 66.40625 20.09375 61.84375  Q 16.21875 57.28125 16.21875 49.421875  Q 16.21875 41.5 20.09375 36.953125  Q 23.96875 32.421875 30.609375 32.421875  z \" id=\"DejaVuSans-57\"/>\n",
       "     <path d=\"M 10.6875 12.40625  L 21 12.40625  L 21 0  L 10.6875 0  z \" id=\"DejaVuSans-46\"/>\n",
       "     <path d=\"M 33.015625 40.375  Q 26.375 40.375 22.484375 35.828125  Q 18.609375 31.296875 18.609375 23.390625  Q 18.609375 15.53125 22.484375 10.953125  Q 26.375 6.390625 33.015625 6.390625  Q 39.65625 6.390625 43.53125 10.953125  Q 47.40625 15.53125 47.40625 23.390625  Q 47.40625 31.296875 43.53125 35.828125  Q 39.65625 40.375 33.015625 40.375  z M 52.59375 71.296875  L 52.59375 62.3125  Q 48.875 64.0625 45.09375 64.984375  Q 41.3125 65.921875 37.59375 65.921875  Q 27.828125 65.921875 22.671875 59.328125  Q 17.53125 52.734375 16.796875 39.40625  Q 19.671875 43.65625 24.015625 45.921875  Q 28.375 48.1875 33.59375 48.1875  Q 44.578125 48.1875 50.953125 41.515625  Q 57.328125 34.859375 57.328125 23.390625  Q 57.328125 12.15625 50.6875 5.359375  Q 44.046875 -1.421875 33.015625 -1.421875  Q 20.359375 -1.421875 13.671875 8.265625  Q 6.984375 17.96875 6.984375 36.375  Q 6.984375 53.65625 15.1875 63.9375  Q 23.390625 74.21875 37.203125 74.21875  Q 40.921875 74.21875 44.703125 73.484375  Q 48.484375 72.75 52.59375 71.296875  z \" id=\"DejaVuSans-54\"/>\n",
       "     <path d=\"M 31.78125 34.625  Q 24.75 34.625 20.71875 30.859375  Q 16.703125 27.09375 16.703125 20.515625  Q 16.703125 13.921875 20.71875 10.15625  Q 24.75 6.390625 31.78125 6.390625  Q 38.8125 6.390625 42.859375 10.171875  Q 46.921875 13.96875 46.921875 20.515625  Q 46.921875 27.09375 42.890625 30.859375  Q 38.875 34.625 31.78125 34.625  z M 21.921875 38.8125  Q 15.578125 40.375 12.03125 44.71875  Q 8.5 49.078125 8.5 55.328125  Q 8.5 64.0625 14.71875 69.140625  Q 20.953125 74.21875 31.78125 74.21875  Q 42.671875 74.21875 48.875 69.140625  Q 55.078125 64.0625 55.078125 55.328125  Q 55.078125 49.078125 51.53125 44.71875  Q 48 40.375 41.703125 38.8125  Q 48.828125 37.15625 52.796875 32.3125  Q 56.78125 27.484375 56.78125 20.515625  Q 56.78125 9.90625 50.3125 4.234375  Q 43.84375 -1.421875 31.78125 -1.421875  Q 19.734375 -1.421875 13.25 4.234375  Q 6.78125 9.90625 6.78125 20.515625  Q 6.78125 27.484375 10.78125 32.3125  Q 14.796875 37.15625 21.921875 38.8125  z M 18.3125 54.390625  Q 18.3125 48.734375 21.84375 45.5625  Q 25.390625 42.390625 31.78125 42.390625  Q 38.140625 42.390625 41.71875 45.5625  Q 45.3125 48.734375 45.3125 54.390625  Q 45.3125 60.0625 41.71875 63.234375  Q 38.140625 66.40625 31.78125 66.40625  Q 25.390625 66.40625 21.84375 63.234375  Q 18.3125 60.0625 18.3125 54.390625  z \" id=\"DejaVuSans-56\"/>\n",
       "     <path d=\"M 72.703125 32.078125  Q 68.453125 32.078125 66.03125 28.46875  Q 63.625 24.859375 63.625 18.40625  Q 63.625 12.0625 66.03125 8.421875  Q 68.453125 4.78125 72.703125 4.78125  Q 76.859375 4.78125 79.265625 8.421875  Q 81.6875 12.0625 81.6875 18.40625  Q 81.6875 24.8125 79.265625 28.4375  Q 76.859375 32.078125 72.703125 32.078125  z M 72.703125 38.28125  Q 80.421875 38.28125 84.953125 32.90625  Q 89.5 27.546875 89.5 18.40625  Q 89.5 9.28125 84.9375 3.921875  Q 80.375 -1.421875 72.703125 -1.421875  Q 64.890625 -1.421875 60.34375 3.921875  Q 55.8125 9.28125 55.8125 18.40625  Q 55.8125 27.59375 60.375 32.9375  Q 64.9375 38.28125 72.703125 38.28125  z M 22.3125 68.015625  Q 18.109375 68.015625 15.6875 64.375  Q 13.28125 60.75 13.28125 54.390625  Q 13.28125 47.953125 15.671875 44.328125  Q 18.0625 40.71875 22.3125 40.71875  Q 26.5625 40.71875 28.96875 44.328125  Q 31.390625 47.953125 31.390625 54.390625  Q 31.390625 60.6875 28.953125 64.34375  Q 26.515625 68.015625 22.3125 68.015625  z M 66.40625 74.21875  L 74.21875 74.21875  L 28.609375 -1.421875  L 20.796875 -1.421875  z M 22.3125 74.21875  Q 30.03125 74.21875 34.609375 68.875  Q 39.203125 63.53125 39.203125 54.390625  Q 39.203125 45.171875 34.640625 39.84375  Q 30.078125 34.515625 22.3125 34.515625  Q 14.546875 34.515625 10.03125 39.859375  Q 5.515625 45.21875 5.515625 54.390625  Q 5.515625 63.484375 10.046875 68.84375  Q 14.59375 74.21875 22.3125 74.21875  z \" id=\"DejaVuSans-37\"/>\n",
       "    </defs>\n",
       "    <g transform=\"translate(96.795312 43.818437)scale(0.1 -0.1)\">\n",
       "     <use xlink:href=\"#DejaVuSans-57\"/>\n",
       "     <use x=\"63.623047\" xlink:href=\"#DejaVuSans-46\"/>\n",
       "     <use x=\"95.410156\" xlink:href=\"#DejaVuSans-54\"/>\n",
       "     <use x=\"159.033203\" xlink:href=\"#DejaVuSans-56\"/>\n",
       "     <use x=\"222.65625\" xlink:href=\"#DejaVuSans-37\"/>\n",
       "    </g>\n",
       "   </g>\n",
       "   <g id=\"text_4\">\n",
       "    <!-- 90.32% -->\n",
       "    <defs>\n",
       "     <path d=\"M 40.578125 39.3125  Q 47.65625 37.796875 51.625 33  Q 55.609375 28.21875 55.609375 21.1875  Q 55.609375 10.40625 48.1875 4.484375  Q 40.765625 -1.421875 27.09375 -1.421875  Q 22.515625 -1.421875 17.65625 -0.515625  Q 12.796875 0.390625 7.625 2.203125  L 7.625 11.71875  Q 11.71875 9.328125 16.59375 8.109375  Q 21.484375 6.890625 26.8125 6.890625  Q 36.078125 6.890625 40.9375 10.546875  Q 45.796875 14.203125 45.796875 21.1875  Q 45.796875 27.640625 41.28125 31.265625  Q 36.765625 34.90625 28.71875 34.90625  L 20.21875 34.90625  L 20.21875 43.015625  L 29.109375 43.015625  Q 36.375 43.015625 40.234375 45.921875  Q 44.09375 48.828125 44.09375 54.296875  Q 44.09375 59.90625 40.109375 62.90625  Q 36.140625 65.921875 28.71875 65.921875  Q 24.65625 65.921875 20.015625 65.03125  Q 15.375 64.15625 9.8125 62.3125  L 9.8125 71.09375  Q 15.4375 72.65625 20.34375 73.4375  Q 25.25 74.21875 29.59375 74.21875  Q 40.828125 74.21875 47.359375 69.109375  Q 53.90625 64.015625 53.90625 55.328125  Q 53.90625 49.265625 50.4375 45.09375  Q 46.96875 40.921875 40.578125 39.3125  z \" id=\"DejaVuSans-51\"/>\n",
       "     <path d=\"M 19.1875 8.296875  L 53.609375 8.296875  L 53.609375 0  L 7.328125 0  L 7.328125 8.296875  Q 12.9375 14.109375 22.625 23.890625  Q 32.328125 33.6875 34.8125 36.53125  Q 39.546875 41.84375 41.421875 45.53125  Q 43.3125 49.21875 43.3125 52.78125  Q 43.3125 58.59375 39.234375 62.25  Q 35.15625 65.921875 28.609375 65.921875  Q 23.96875 65.921875 18.8125 64.3125  Q 13.671875 62.703125 7.8125 59.421875  L 7.8125 69.390625  Q 13.765625 71.78125 18.9375 73  Q 24.125 74.21875 28.421875 74.21875  Q 39.75 74.21875 46.484375 68.546875  Q 53.21875 62.890625 53.21875 53.421875  Q 53.21875 48.921875 51.53125 44.890625  Q 49.859375 40.875 45.40625 35.40625  Q 44.1875 33.984375 37.640625 27.21875  Q 31.109375 20.453125 19.1875 8.296875  z \" id=\"DejaVuSans-50\"/>\n",
       "    </defs>\n",
       "    <g transform=\"translate(90.432812 28.718437)scale(0.1 -0.1)\">\n",
       "     <use xlink:href=\"#DejaVuSans-57\"/>\n",
       "     <use x=\"63.623047\" xlink:href=\"#DejaVuSans-48\"/>\n",
       "     <use x=\"127.246094\" xlink:href=\"#DejaVuSans-46\"/>\n",
       "     <use x=\"159.033203\" xlink:href=\"#DejaVuSans-51\"/>\n",
       "     <use x=\"222.65625\" xlink:href=\"#DejaVuSans-50\"/>\n",
       "     <use x=\"286.279297\" xlink:href=\"#DejaVuSans-37\"/>\n",
       "    </g>\n",
       "   </g>\n",
       "   <g id=\"text_5\">\n",
       "    <!-- PCR Result -->\n",
       "    <defs>\n",
       "     <path d=\"M 19.671875 64.796875  L 19.671875 37.40625  L 32.078125 37.40625  Q 38.96875 37.40625 42.71875 40.96875  Q 46.484375 44.53125 46.484375 51.125  Q 46.484375 57.671875 42.71875 61.234375  Q 38.96875 64.796875 32.078125 64.796875  z M 9.8125 72.90625  L 32.078125 72.90625  Q 44.34375 72.90625 50.609375 67.359375  Q 56.890625 61.8125 56.890625 51.125  Q 56.890625 40.328125 50.609375 34.8125  Q 44.34375 29.296875 32.078125 29.296875  L 19.671875 29.296875  L 19.671875 0  L 9.8125 0  z \" id=\"DejaVuSans-80\"/>\n",
       "     <path d=\"M 64.40625 67.28125  L 64.40625 56.890625  Q 59.421875 61.53125 53.78125 63.8125  Q 48.140625 66.109375 41.796875 66.109375  Q 29.296875 66.109375 22.65625 58.46875  Q 16.015625 50.828125 16.015625 36.375  Q 16.015625 21.96875 22.65625 14.328125  Q 29.296875 6.6875 41.796875 6.6875  Q 48.140625 6.6875 53.78125 8.984375  Q 59.421875 11.28125 64.40625 15.921875  L 64.40625 5.609375  Q 59.234375 2.09375 53.4375 0.328125  Q 47.65625 -1.421875 41.21875 -1.421875  Q 24.65625 -1.421875 15.125 8.703125  Q 5.609375 18.84375 5.609375 36.375  Q 5.609375 53.953125 15.125 64.078125  Q 24.65625 74.21875 41.21875 74.21875  Q 47.75 74.21875 53.53125 72.484375  Q 59.328125 70.75 64.40625 67.28125  z \" id=\"DejaVuSans-67\"/>\n",
       "     <path d=\"M 44.390625 34.1875  Q 47.5625 33.109375 50.5625 29.59375  Q 53.5625 26.078125 56.59375 19.921875  L 66.609375 0  L 56 0  L 46.6875 18.703125  Q 43.0625 26.03125 39.671875 28.421875  Q 36.28125 30.8125 30.421875 30.8125  L 19.671875 30.8125  L 19.671875 0  L 9.8125 0  L 9.8125 72.90625  L 32.078125 72.90625  Q 44.578125 72.90625 50.734375 67.671875  Q 56.890625 62.453125 56.890625 51.90625  Q 56.890625 45.015625 53.6875 40.46875  Q 50.484375 35.9375 44.390625 34.1875  z M 19.671875 64.796875  L 19.671875 38.921875  L 32.078125 38.921875  Q 39.203125 38.921875 42.84375 42.21875  Q 46.484375 45.515625 46.484375 51.90625  Q 46.484375 58.296875 42.84375 61.546875  Q 39.203125 64.796875 32.078125 64.796875  z \" id=\"DejaVuSans-82\"/>\n",
       "     <path id=\"DejaVuSans-32\"/>\n",
       "     <path d=\"M 56.203125 29.59375  L 56.203125 25.203125  L 14.890625 25.203125  Q 15.484375 15.921875 20.484375 11.0625  Q 25.484375 6.203125 34.421875 6.203125  Q 39.59375 6.203125 44.453125 7.46875  Q 49.3125 8.734375 54.109375 11.28125  L 54.109375 2.78125  Q 49.265625 0.734375 44.1875 -0.34375  Q 39.109375 -1.421875 33.890625 -1.421875  Q 20.796875 -1.421875 13.15625 6.1875  Q 5.515625 13.8125 5.515625 26.8125  Q 5.515625 40.234375 12.765625 48.109375  Q 20.015625 56 32.328125 56  Q 43.359375 56 49.78125 48.890625  Q 56.203125 41.796875 56.203125 29.59375  z M 47.21875 32.234375  Q 47.125 39.59375 43.09375 43.984375  Q 39.0625 48.390625 32.421875 48.390625  Q 24.90625 48.390625 20.390625 44.140625  Q 15.875 39.890625 15.1875 32.171875  z \" id=\"DejaVuSans-101\"/>\n",
       "     <path d=\"M 44.28125 53.078125  L 44.28125 44.578125  Q 40.484375 46.53125 36.375 47.5  Q 32.28125 48.484375 27.875 48.484375  Q 21.1875 48.484375 17.84375 46.4375  Q 14.5 44.390625 14.5 40.28125  Q 14.5 37.15625 16.890625 35.375  Q 19.28125 33.59375 26.515625 31.984375  L 29.59375 31.296875  Q 39.15625 29.25 43.1875 25.515625  Q 47.21875 21.78125 47.21875 15.09375  Q 47.21875 7.46875 41.1875 3.015625  Q 35.15625 -1.421875 24.609375 -1.421875  Q 20.21875 -1.421875 15.453125 -0.5625  Q 10.6875 0.296875 5.421875 2  L 5.421875 11.28125  Q 10.40625 8.6875 15.234375 7.390625  Q 20.0625 6.109375 24.8125 6.109375  Q 31.15625 6.109375 34.5625 8.28125  Q 37.984375 10.453125 37.984375 14.40625  Q 37.984375 18.0625 35.515625 20.015625  Q 33.0625 21.96875 24.703125 23.78125  L 21.578125 24.515625  Q 13.234375 26.265625 9.515625 29.90625  Q 5.8125 33.546875 5.8125 39.890625  Q 5.8125 47.609375 11.28125 51.796875  Q 16.75 56 26.8125 56  Q 31.78125 56 36.171875 55.265625  Q 40.578125 54.546875 44.28125 53.078125  z \" id=\"DejaVuSans-115\"/>\n",
       "     <path d=\"M 8.5 21.578125  L 8.5 54.6875  L 17.484375 54.6875  L 17.484375 21.921875  Q 17.484375 14.15625 20.5 10.265625  Q 23.53125 6.390625 29.59375 6.390625  Q 36.859375 6.390625 41.078125 11.03125  Q 45.3125 15.671875 45.3125 23.6875  L 45.3125 54.6875  L 54.296875 54.6875  L 54.296875 0  L 45.3125 0  L 45.3125 8.40625  Q 42.046875 3.421875 37.71875 1  Q 33.40625 -1.421875 27.6875 -1.421875  Q 18.265625 -1.421875 13.375 4.4375  Q 8.5 10.296875 8.5 21.578125  z M 31.109375 56  z \" id=\"DejaVuSans-117\"/>\n",
       "     <path d=\"M 9.421875 75.984375  L 18.40625 75.984375  L 18.40625 0  L 9.421875 0  z \" id=\"DejaVuSans-108\"/>\n",
       "     <path d=\"M 18.3125 70.21875  L 18.3125 54.6875  L 36.8125 54.6875  L 36.8125 47.703125  L 18.3125 47.703125  L 18.3125 18.015625  Q 18.3125 11.328125 20.140625 9.421875  Q 21.96875 7.515625 27.59375 7.515625  L 36.8125 7.515625  L 36.8125 0  L 27.59375 0  Q 17.1875 0 13.234375 3.875  Q 9.28125 7.765625 9.28125 18.015625  L 9.28125 47.703125  L 2.6875 47.703125  L 2.6875 54.6875  L 9.28125 54.6875  L 9.28125 70.21875  z \" id=\"DejaVuSans-116\"/>\n",
       "    </defs>\n",
       "    <g transform=\"translate(40.340938 12.718125)scale(0.12 -0.12)\">\n",
       "     <use xlink:href=\"#DejaVuSans-80\"/>\n",
       "     <use x=\"60.302734\" xlink:href=\"#DejaVuSans-67\"/>\n",
       "     <use x=\"130.126953\" xlink:href=\"#DejaVuSans-82\"/>\n",
       "     <use x=\"199.609375\" xlink:href=\"#DejaVuSans-32\"/>\n",
       "     <use x=\"231.396484\" xlink:href=\"#DejaVuSans-82\"/>\n",
       "     <use x=\"296.378906\" xlink:href=\"#DejaVuSans-101\"/>\n",
       "     <use x=\"357.902344\" xlink:href=\"#DejaVuSans-115\"/>\n",
       "     <use x=\"410.001953\" xlink:href=\"#DejaVuSans-117\"/>\n",
       "     <use x=\"473.380859\" xlink:href=\"#DejaVuSans-108\"/>\n",
       "     <use x=\"501.164062\" xlink:href=\"#DejaVuSans-116\"/>\n",
       "    </g>\n",
       "   </g>\n",
       "  </g>\n",
       " </g>\n",
       " <defs>\n",
       "  <clipPath id=\"p0ea0c18d1c\">\n",
       "   <rect height=\"27.18\" width=\"111.6\" x=\"16.9625\" y=\"18.718125\"/>\n",
       "  </clipPath>\n",
       " </defs>\n",
       "</svg>\n",
       "\n",
       "</g>\n",
       "<!-- HIV Status&#45;&gt;PCR Result -->\n",
       "<g id=\"edge3\" class=\"edge\">\n",
       "<title>HIV Status-&gt;PCR Result</title>\n",
       "<g id=\"a_edge3\"><a xlink:title=\"(0, 1):\">\n",
       "<path fill=\"none\" stroke=\"#4a4a4a\" d=\"M105.35,-243.79C101.09,-235.61 96.07,-225.96 91.43,-217.03\"/>\n",
       "<polygon fill=\"#4a4a4a\" stroke=\"#4a4a4a\" points=\"94.49,-215.33 86.77,-208.07 88.28,-218.56 94.49,-215.33\"/>\n",
       "</a>\n",
       "</g>\n",
       "</g>\n",
       "<!-- QALE -->\n",
       "<g id=\"node4\" class=\"node\">\n",
       "<title>QALE</title>\n",
       "<ellipse fill=\"#404040\" stroke=\"#000000\" cx=\"115.59\" cy=\"-41\" rx=\"34.39\" ry=\"18\"/>\n",
       "<text text-anchor=\"middle\" x=\"115.59\" y=\"-37.3\" font-family=\"Times New Roman,serif\" font-size=\"14.00\" fill=\"white\">QALE</text>\n",
       "</g>\n",
       "<!-- HIV Status&#45;&gt;QALE -->\n",
       "<g id=\"edge1\" class=\"edge\">\n",
       "<title>HIV Status-&gt;QALE</title>\n",
       "<g id=\"a_edge1\"><a xlink:title=\"(0, 3):\">\n",
       "<path fill=\"none\" stroke=\"#4a4a4a\" d=\"M124.29,-243.83C137.11,-212.16 158.16,-148.06 144.59,-95 142.11,-85.3 137.45,-75.46 132.58,-66.94\"/>\n",
       "<polygon fill=\"#4a4a4a\" stroke=\"#4a4a4a\" points=\"135.49,-65 127.3,-58.28 129.51,-68.64 135.49,-65\"/>\n",
       "</a>\n",
       "</g>\n",
       "</g>\n",
       "<!-- Treat?(Yes/No) -->\n",
       "<g id=\"node3\" class=\"node\">\n",
       "<title>Treat?(Yes/No)</title>\n",
       "<ellipse fill=\"#404040\" stroke=\"#000000\" cx=\"67.59\" cy=\"-113\" rx=\"67.69\" ry=\"18\"/>\n",
       "<text text-anchor=\"middle\" x=\"67.59\" y=\"-109.3\" font-family=\"Times New Roman,serif\" font-size=\"14.00\" fill=\"white\">Treat?(Yes/No)</text>\n",
       "</g>\n",
       "<!-- PCR Result&#45;&gt;Treat?(Yes/No) -->\n",
       "<g id=\"edge2\" class=\"edge\">\n",
       "<title>PCR Result-&gt;Treat?(Yes/No)</title>\n",
       "<g id=\"a_edge2\"><a xlink:title=\"(1, 2):\">\n",
       "<path fill=\"none\" stroke=\"#4a4a4a\" d=\"M74.13,-166.69C73.17,-158.91 72.04,-149.84 71,-141.45\"/>\n",
       "<polygon fill=\"#4a4a4a\" stroke=\"#4a4a4a\" points=\"74.45,-140.81 69.74,-131.32 67.5,-141.67 74.45,-140.81\"/>\n",
       "</a>\n",
       "</g>\n",
       "</g>\n",
       "<!-- Treat?(Yes/No)&#45;&gt;QALE -->\n",
       "<g id=\"edge4\" class=\"edge\">\n",
       "<title>Treat?(Yes/No)-&gt;QALE</title>\n",
       "<g id=\"a_edge4\"><a xlink:title=\"(2, 3):\">\n",
       "<path fill=\"none\" stroke=\"#4a4a4a\" d=\"M79.21,-95.05C85.08,-86.5 92.3,-75.97 98.76,-66.56\"/>\n",
       "<polygon fill=\"#4a4a4a\" stroke=\"#4a4a4a\" points=\"101.64,-68.53 104.41,-58.31 95.87,-64.57 101.64,-68.53\"/>\n",
       "</a>\n",
       "</g>\n",
       "</g>\n",
       "</g>\n",
       "</svg>"
      ],
      "text/plain": [
       "<IPython.core.display.SVG object>"
      ]
     },
     "metadata": {},
     "output_type": "display_data"
    }
   ],
   "source": [
    "gnb.showInference(HIV1,evs={},targets={'PCR Result','HIV Status'})"
   ]
  },
  {
   "cell_type": "markdown",
   "metadata": {},
   "source": [
    "## Replica 2"
   ]
  },
  {
   "cell_type": "code",
   "execution_count": 42,
   "metadata": {},
   "outputs": [
    {
     "data": {
      "text/html": [
       "<svg xmlns=\"http://www.w3.org/2000/svg\" xmlns:xlink=\"http://www.w3.org/1999/xlink\" width=\"314pt\" height=\"260pt\" viewBox=\"0.00 0.00 314.29 260.00\">\n",
       "<g id=\"graph0\" class=\"graph\" transform=\"scale(1 1) rotate(0) translate(4 256)\">\n",
       "<title>G</title>\n",
       "<!-- HIV Status -->\n",
       "<g id=\"node1\" class=\"node\">\n",
       "<title>HIV Status</title>\n",
       "<g id=\"a_node1\"><a xlink:title=\"(0) HIV Status\">\n",
       "<ellipse fill=\"#404040\" stroke=\"black\" cx=\"51.35\" cy=\"-234\" rx=\"51.19\" ry=\"18\"/>\n",
       "<text text-anchor=\"middle\" x=\"51.35\" y=\"-230.3\" font-family=\"Times New Roman,serif\" font-size=\"14.00\" fill=\"white\">HIV Status</text>\n",
       "</a>\n",
       "</g>\n",
       "</g>\n",
       "<!-- PCR Result -->\n",
       "<g id=\"node2\" class=\"node\">\n",
       "<title>PCR Result</title>\n",
       "<g id=\"a_node2\"><a xlink:title=\"(1) PCR Result\">\n",
       "<ellipse fill=\"#404040\" stroke=\"black\" cx=\"132.35\" cy=\"-162\" rx=\"53.89\" ry=\"18\"/>\n",
       "<text text-anchor=\"middle\" x=\"132.35\" y=\"-158.3\" font-family=\"Times New Roman,serif\" font-size=\"14.00\" fill=\"white\">PCR Result</text>\n",
       "</a>\n",
       "</g>\n",
       "</g>\n",
       "<!-- HIV Status&#45;&gt;PCR Result -->\n",
       "<g id=\"edge6\" class=\"edge\">\n",
       "<title>HIV Status-&gt;PCR Result</title>\n",
       "<g id=\"a_edge6\"><a xlink:title=\"(0, 1) : \">\n",
       "<path fill=\"none\" stroke=\"#4a4a4a\" d=\"M69.73,-217.12C80.42,-207.87 94.08,-196.07 105.92,-185.84\"/>\n",
       "<polygon fill=\"#4a4a4a\" stroke=\"#4a4a4a\" points=\"108.48,-188.25 113.76,-179.06 103.9,-182.95 108.48,-188.25\"/>\n",
       "</a>\n",
       "</g>\n",
       "</g>\n",
       "<!-- QALE -->\n",
       "<g id=\"node5\" class=\"node\">\n",
       "<title>QALE</title>\n",
       "<g id=\"a_node5\"><a xlink:title=\"(4) QALE\">\n",
       "<ellipse fill=\"#404040\" stroke=\"black\" cx=\"98.35\" cy=\"-18\" rx=\"34.39\" ry=\"18\"/>\n",
       "<text text-anchor=\"middle\" x=\"98.35\" y=\"-14.3\" font-family=\"Times New Roman,serif\" font-size=\"14.00\" fill=\"white\">QALE</text>\n",
       "</a>\n",
       "</g>\n",
       "</g>\n",
       "<!-- HIV Status&#45;&gt;QALE -->\n",
       "<g id=\"edge5\" class=\"edge\">\n",
       "<title>HIV Status-&gt;QALE</title>\n",
       "<g id=\"a_edge5\"><a xlink:title=\"(0, 4) : \">\n",
       "<path fill=\"none\" stroke=\"#4a4a4a\" d=\"M51.11,-215.63C51.18,-185.61 53.42,-122.42 69.35,-72 72.36,-62.45 77.16,-52.65 82,-44.12\"/>\n",
       "<polygon fill=\"#4a4a4a\" stroke=\"#4a4a4a\" points=\"85.06,-45.81 87.17,-35.43 79.05,-42.23 85.06,-45.81\"/>\n",
       "</a>\n",
       "</g>\n",
       "</g>\n",
       "<!-- Treat?(Yes/No) -->\n",
       "<g id=\"node3\" class=\"node\">\n",
       "<title>Treat?(Yes/No)</title>\n",
       "<g id=\"a_node3\"><a xlink:title=\"(2) Treat?(Yes/No)\">\n",
       "<ellipse fill=\"#404040\" stroke=\"black\" cx=\"146.35\" cy=\"-90\" rx=\"67.69\" ry=\"18\"/>\n",
       "<text text-anchor=\"middle\" x=\"146.35\" y=\"-86.3\" font-family=\"Times New Roman,serif\" font-size=\"14.00\" fill=\"white\">Treat?(Yes/No)</text>\n",
       "</a>\n",
       "</g>\n",
       "</g>\n",
       "<!-- PCR Result&#45;&gt;Treat?(Yes/No) -->\n",
       "<g id=\"edge3\" class=\"edge\">\n",
       "<title>PCR Result-&gt;Treat?(Yes/No)</title>\n",
       "<g id=\"a_edge3\"><a xlink:title=\"(1, 2) : \">\n",
       "<path fill=\"none\" stroke=\"#4a4a4a\" d=\"M135.81,-143.7C137.35,-135.98 139.2,-126.71 140.92,-118.11\"/>\n",
       "<polygon fill=\"#4a4a4a\" stroke=\"#4a4a4a\" points=\"144.4,-118.6 142.92,-108.1 137.53,-117.22 144.4,-118.6\"/>\n",
       "</a>\n",
       "</g>\n",
       "</g>\n",
       "<!-- Treat?(Yes/No)&#45;&gt;QALE -->\n",
       "<g id=\"edge4\" class=\"edge\">\n",
       "<title>Treat?(Yes/No)-&gt;QALE</title>\n",
       "<g id=\"a_edge4\"><a xlink:title=\"(2, 4) : \">\n",
       "<path fill=\"none\" stroke=\"#4a4a4a\" d=\"M134.73,-72.05C128.86,-63.5 121.64,-52.97 115.18,-43.56\"/>\n",
       "<polygon fill=\"#4a4a4a\" stroke=\"#4a4a4a\" points=\"118.07,-41.57 109.53,-35.31 112.3,-45.53 118.07,-41.57\"/>\n",
       "</a>\n",
       "</g>\n",
       "</g>\n",
       "<!-- Obtain PCR?(Yes/No) -->\n",
       "<g id=\"node4\" class=\"node\">\n",
       "<title>Obtain PCR?(Yes/No)</title>\n",
       "<g id=\"a_node4\"><a xlink:title=\"(3) Obtain PCR?(Yes/No)\">\n",
       "<ellipse fill=\"#404040\" stroke=\"black\" cx=\"213.35\" cy=\"-234\" rx=\"92.88\" ry=\"18\"/>\n",
       "<text text-anchor=\"middle\" x=\"213.35\" y=\"-230.3\" font-family=\"Times New Roman,serif\" font-size=\"14.00\" fill=\"white\">Obtain PCR?(Yes/No)</text>\n",
       "</a>\n",
       "</g>\n",
       "</g>\n",
       "<!-- Obtain PCR?(Yes/No)&#45;&gt;PCR Result -->\n",
       "<g id=\"edge2\" class=\"edge\">\n",
       "<title>Obtain PCR?(Yes/No)-&gt;PCR Result</title>\n",
       "<g id=\"a_edge2\"><a xlink:title=\"(3, 1) : \">\n",
       "<path fill=\"none\" stroke=\"#4a4a4a\" d=\"M193.74,-216.05C183.16,-206.92 169.97,-195.51 158.53,-185.63\"/>\n",
       "<polygon fill=\"#4a4a4a\" stroke=\"#4a4a4a\" points=\"160.79,-182.96 150.94,-179.07 156.22,-188.25 160.79,-182.96\"/>\n",
       "</a>\n",
       "</g>\n",
       "</g>\n",
       "<!-- Obtain PCR?(Yes/No)&#45;&gt;Treat?(Yes/No) -->\n",
       "<g id=\"edge1\" class=\"edge\">\n",
       "<title>Obtain PCR?(Yes/No)-&gt;Treat?(Yes/No)</title>\n",
       "<g id=\"a_edge1\"><a xlink:title=\"(3, 2) : \">\n",
       "<path fill=\"none\" stroke=\"#4a4a4a\" d=\"M212.6,-215.7C211.2,-197.07 207.12,-167.02 195.35,-144 189.78,-133.13 181.36,-122.85 173.05,-114.3\"/>\n",
       "<polygon fill=\"#4a4a4a\" stroke=\"#4a4a4a\" points=\"175.45,-111.75 165.86,-107.25 170.55,-116.75 175.45,-111.75\"/>\n",
       "</a>\n",
       "</g>\n",
       "</g>\n",
       "</g>\n",
       "</svg>"
      ],
      "text/plain": [
       "(gum::BayesNet<double>@0B0FD410) BN{nodes: 5, arcs: 6, domainSize: 24, dim: 32}"
      ]
     },
     "execution_count": 42,
     "metadata": {},
     "output_type": "execute_result"
    }
   ],
   "source": [
    "HIV1=gum.BayesNet('WaterSprinkler')\n",
    "S=HIV1.add(gum.LabelizedVariable(\"HIV Status\",\"HIV Status\",2))\n",
    "R=HIV1.add(gum.LabelizedVariable(\"PCR Result\",\"PCR Result\",3))\n",
    "T=HIV1.add(gum.LabelizedVariable(\"Treat?(Yes/No)\",\"Treat?\",2))\n",
    "O=HIV1.add(gum.LabelizedVariable(\"Obtain PCR?(Yes/No)\",\"Obtain PCR?\",2))\n",
    "Q=HIV1.add(gum.LabelizedVariable(\"QALE\",\"QALE\",1))\n",
    "#Unir nodos\n",
    "HIV1.addArc(S,Q)\n",
    "HIV1.addArc(S,R)\n",
    "HIV1.addArc(R,T)\n",
    "HIV1.addArc(T,Q)\n",
    "HIV1.addArc(O,R)\n",
    "HIV1.addArc(O,T)\n",
    "HIV1"
   ]
  },
  {
   "cell_type": "code",
   "execution_count": 43,
   "metadata": {},
   "outputs": [
    {
     "data": {
      "text/html": [
       "<table style=\"border:1px solid black;\">\n",
       "<tr style='border:1px solid black;color:black;background-color:#808080'><th colspan='2'><center>HIV Status</center></th></tr>\n",
       "<tr><th style='border:1px solid black;border-bottom-style: double;color:black;background-color:#BBBBBB'><center>0</center></th><th style='border:1px solid black;border-bottom-style: double;color:black;background-color:#BBBBBB'><center>1</center></th></tr>\n",
       "<tr><td style='color:black;background-color:#89f464;text-align:right;'>0.9200</td><td style='color:black;background-color:#f48964;text-align:right;'>0.0800</td></tr>\n",
       "</table>"
      ],
      "text/plain": [
       "(gum::Potential<double>@0B176028) <HIV Status:0> :: 0.92 /<HIV Status:1> :: 0.08"
      ]
     },
     "execution_count": 43,
     "metadata": {},
     "output_type": "execute_result"
    }
   ],
   "source": [
    "HIV1.cpt(S).fillWith([0.92,0.08])"
   ]
  },
  {
   "cell_type": "code",
   "execution_count": 44,
   "metadata": {},
   "outputs": [
    {
     "data": {
      "text/html": [
       "<table style=\"border:1px solid black;\">\n",
       "<tr><th colspan='2'></th><th colspan='3' style='border:1px solid black;color:black;background-color:#808080;'><center>PCR Result</center></th></tr>\n",
       "<tr><th style='border:1px solid black;color:black;background-color:#808080'><center>Obtain PCR?(Yes/No)</center></th><th style='border:1px solid black;color:black;background-color:#808080'><center>HIV Status</center></th><th style='border:1px solid black;border-bottom-style: double;color:black;background-color:#BBBBBB'><center>0</center></th><th style='border:1px solid black;border-bottom-style: double;color:black;background-color:#BBBBBB'><center>1</center></th><th style='border:1px solid black;border-bottom-style: double;color:black;background-color:#BBBBBB'><center>2</center></th></tr>\n",
       "<tr><th style='border:1px solid black;color:black;background-color:#BBBBBB;' rowspan = '2'><center>0</center></th><th style='border:1px solid black;color:black;background-color:#BBBBBB'><center>0</center></th><td style='color:black;background-color:#ff7f64;text-align:right;'>0.0000</td><td style='color:black;background-color:#ff7f64;text-align:right;'>0.0000</td><td style='color:black;background-color:#7fff64;text-align:right;'>1.0000</td></tr>\n",
       "<tr><th style='border:1px solid black;color:black;background-color:#BBBBBB'><center>1</center></th><td style='color:black;background-color:#ff7f64;text-align:right;'>0.0000</td><td style='color:black;background-color:#ff7f64;text-align:right;'>0.0000</td><td style='color:black;background-color:#7fff64;text-align:right;'>1.0000</td></tr>\n",
       "<tr><th style='border:1px solid black;color:black;background-color:#BBBBBB;' rowspan = '2'><center>1</center></th><th style='border:1px solid black;color:black;background-color:#BBBBBB'><center>0</center></th><td style='color:black;background-color:#81fc64;text-align:right;'>0.9800</td><td style='color:black;background-color:#fc8164;text-align:right;'>0.0200</td><td style='color:black;background-color:#ff7f64;text-align:right;'>0.0000</td></tr>\n",
       "<tr><th style='border:1px solid black;color:black;background-color:#BBBBBB'><center>1</center></th><td style='color:black;background-color:#fc8164;text-align:right;'>0.0200</td><td style='color:black;background-color:#81fc64;text-align:right;'>0.9800</td><td style='color:black;background-color:#ff7f64;text-align:right;'>0.0000</td></tr>\n",
       "</table>"
      ],
      "text/plain": [
       "(gum::Potential<double>@0B1763D0) <PCR Result:0|HIV Status:0|Obtain PCR?(Yes/No):0> :: 0 /<PCR Result:1|HIV Status:0|Obtain PCR?(Yes/No):0> :: 0 /<PCR Result:2|HIV Status:0|Obtain PCR?(Yes/No):0> :: 1 /<PCR Result:0|HIV Status:1|Obtain PCR?(Yes/No):0> :: 0 /<PCR Result:1|HIV Status:1|Obtain PCR?(Yes/No):0> :: 0 /<PCR Result:2|HIV Status:1|Obtain PCR?(Yes/No):0> :: 1 /<PCR Result:0|HIV Status:0|Obtain PCR?(Yes/No):1> :: 0.98 /<PCR Result:1|HIV Status:0|Obtain PCR?(Yes/No):1> :: 0.02 /<PCR Result:2|HIV Status:0|Obtain PCR?(Yes/No):1> :: 0 /<PCR Result:0|HIV Status:1|Obtain PCR?(Yes/No):1> :: 0.02 /<PCR Result:1|HIV Status:1|Obtain PCR?(Yes/No):1> :: 0.98 /<PCR Result:2|HIV Status:1|Obtain PCR?(Yes/No):1> :: 0"
      ]
     },
     "execution_count": 44,
     "metadata": {},
     "output_type": "execute_result"
    }
   ],
   "source": [
    "HIV1.cpt(R)[{'Obtain PCR?(Yes/No)':1,'HIV Status':1}] = [0.02, 0.98,0]\n",
    "HIV1.cpt(R)[{'Obtain PCR?(Yes/No)':1,'HIV Status':0}] = [0.98, 0.02,0]\n",
    "HIV1.cpt(R)[{'Obtain PCR?(Yes/No)':0,'HIV Status':0}] = [0, 0,1]\n",
    "HIV1.cpt(R)[{'Obtain PCR?(Yes/No)':0,'HIV Status':1}] = [0, 0,1]\n",
    "HIV1.cpt(R)"
   ]
  },
  {
   "cell_type": "code",
   "execution_count": 45,
   "metadata": {},
   "outputs": [
    {
     "data": {
      "text/html": [
       "<table style=\"border:1px solid black;\">\n",
       "<tr><th colspan='2'></th><th colspan='2' style='border:1px solid black;color:black;background-color:#808080;'><center>Treat?(Yes/No)</center></th></tr>\n",
       "<tr><th style='border:1px solid black;color:black;background-color:#808080'><center>Obtain PCR?(Yes/No)</center></th><th style='border:1px solid black;color:black;background-color:#808080'><center>PCR Result</center></th><th style='border:1px solid black;border-bottom-style: double;color:black;background-color:#BBBBBB'><center>0</center></th><th style='border:1px solid black;border-bottom-style: double;color:black;background-color:#BBBBBB'><center>1</center></th></tr>\n",
       "<tr><th style='border:1px solid black;color:black;background-color:#BBBBBB;' rowspan = '3'><center>0</center></th><th style='border:1px solid black;color:black;background-color:#BBBBBB'><center>0</center></th><td style='color:black;background-color:#f48964;text-align:right;'>0.0833</td><td style='color:black;background-color:#f48964;text-align:right;'>0.0833</td></tr>\n",
       "<tr><th style='border:1px solid black;color:black;background-color:#BBBBBB'><center>1</center></th><td style='color:black;background-color:#f48964;text-align:right;'>0.0833</td><td style='color:black;background-color:#f48964;text-align:right;'>0.0833</td></tr>\n",
       "<tr><th style='border:1px solid black;color:black;background-color:#BBBBBB'><center>2</center></th><td style='color:black;background-color:#f48964;text-align:right;'>0.0833</td><td style='color:black;background-color:#f48964;text-align:right;'>0.0833</td></tr>\n",
       "<tr><th style='border:1px solid black;color:black;background-color:#BBBBBB;' rowspan = '3'><center>1</center></th><th style='border:1px solid black;color:black;background-color:#BBBBBB'><center>0</center></th><td style='color:black;background-color:#f48964;text-align:right;'>0.0833</td><td style='color:black;background-color:#f48964;text-align:right;'>0.0833</td></tr>\n",
       "<tr><th style='border:1px solid black;color:black;background-color:#BBBBBB'><center>1</center></th><td style='color:black;background-color:#f48964;text-align:right;'>0.0833</td><td style='color:black;background-color:#f48964;text-align:right;'>0.0833</td></tr>\n",
       "<tr><th style='border:1px solid black;color:black;background-color:#BBBBBB'><center>2</center></th><td style='color:black;background-color:#f48964;text-align:right;'>0.0833</td><td style='color:black;background-color:#f48964;text-align:right;'>0.0833</td></tr>\n",
       "</table>"
      ],
      "text/plain": [
       "(gum::Potential<double>@0B1767A8) <Treat?(Yes/No):0|PCR Result:0|Obtain PCR?(Yes/No):0> :: 0.0833333 /<Treat?(Yes/No):1|PCR Result:0|Obtain PCR?(Yes/No):0> :: 0.0833333 /<Treat?(Yes/No):0|PCR Result:1|Obtain PCR?(Yes/No):0> :: 0.0833333 /<Treat?(Yes/No):1|PCR Result:1|Obtain PCR?(Yes/No):0> :: 0.0833333 /<Treat?(Yes/No):0|PCR Result:2|Obtain PCR?(Yes/No):0> :: 0.0833333 /<Treat?(Yes/No):1|PCR Result:2|Obtain PCR?(Yes/No):0> :: 0.0833333 /<Treat?(Yes/No):0|PCR Result:0|Obtain PCR?(Yes/No):1> :: 0.0833333 /<Treat?(Yes/No):1|PCR Result:0|Obtain PCR?(Yes/No):1> :: 0.0833333 /<Treat?(Yes/No):0|PCR Result:1|Obtain PCR?(Yes/No):1> :: 0.0833333 /<Treat?(Yes/No):1|PCR Result:1|Obtain PCR?(Yes/No):1> :: 0.0833333 /<Treat?(Yes/No):0|PCR Result:2|Obtain PCR?(Yes/No):1> :: 0.0833333 /<Treat?(Yes/No):1|PCR Result:2|Obtain PCR?(Yes/No):1> :: 0.0833333"
      ]
     },
     "execution_count": 45,
     "metadata": {},
     "output_type": "execute_result"
    }
   ],
   "source": [
    "HIV1.cpt(T).fillWith([1/12,1/12,1/12,1/12,1/12,1/12,1/12,1/12,1/12,1/12,1/12,1/12,])"
   ]
  },
  {
   "cell_type": "code",
   "execution_count": 46,
   "metadata": {},
   "outputs": [
    {
     "data": {
      "text/html": [
       "<table style=\"border:1px solid black;\">\n",
       "<tr style='border:1px solid black;color:black;background-color:#808080'><th colspan='2'><center>Obtain PCR?(Yes/No)</center></th></tr>\n",
       "<tr><th style='border:1px solid black;border-bottom-style: double;color:black;background-color:#BBBBBB'><center>0</center></th><th style='border:1px solid black;border-bottom-style: double;color:black;background-color:#BBBBBB'><center>1</center></th></tr>\n",
       "<tr><td style='color:black;background-color:#bfbf64;text-align:right;'>0.5000</td><td style='color:black;background-color:#bfbf64;text-align:right;'>0.5000</td></tr>\n",
       "</table>"
      ],
      "text/plain": [
       "(gum::Potential<double>@0B176760) <Obtain PCR?(Yes/No):0> :: 0.5 /<Obtain PCR?(Yes/No):1> :: 0.5"
      ]
     },
     "execution_count": 46,
     "metadata": {},
     "output_type": "execute_result"
    }
   ],
   "source": [
    "HIV1.cpt(O).fillWith([1/2,1/2])"
   ]
  },
  {
   "cell_type": "code",
   "execution_count": 47,
   "metadata": {},
   "outputs": [
    {
     "data": {
      "text/html": [
       "<table style=\"border:1px solid black;\">\n",
       "<tr><th colspan='2'></th><th colspan='1' style='border:1px solid black;color:black;background-color:#808080;'><center>QALE</center></th></tr>\n",
       "<tr><th style='border:1px solid black;color:black;background-color:#808080'><center>Treat?(Yes/No)</center></th><th style='border:1px solid black;color:black;background-color:#808080'><center>HIV Status</center></th><th style='border:1px solid black;border-bottom-style: double;color:black;background-color:#BBBBBB'><center>0</center></th></tr>\n",
       "<tr><th style='border:1px solid black;color:black;background-color:#BBBBBB;' rowspan = '2'><center>0</center></th><th style='border:1px solid black;color:black;background-color:#BBBBBB'><center>0</center></th><td style='color:black;background-color:#df9f64;text-align:right;'>0.2500</td></tr>\n",
       "<tr><th style='border:1px solid black;color:black;background-color:#BBBBBB'><center>1</center></th><td style='color:black;background-color:#df9f64;text-align:right;'>0.2500</td></tr>\n",
       "<tr><th style='border:1px solid black;color:black;background-color:#BBBBBB;' rowspan = '2'><center>1</center></th><th style='border:1px solid black;color:black;background-color:#BBBBBB'><center>0</center></th><td style='color:black;background-color:#df9f64;text-align:right;'>0.2500</td></tr>\n",
       "<tr><th style='border:1px solid black;color:black;background-color:#BBBBBB'><center>1</center></th><td style='color:black;background-color:#df9f64;text-align:right;'>0.2500</td></tr>\n",
       "</table>"
      ],
      "text/plain": [
       "(gum::Potential<double>@0B176898) <QALE:0|HIV Status:0|Treat?(Yes/No):0> :: 0.25 /<QALE:0|HIV Status:1|Treat?(Yes/No):0> :: 0.25 /<QALE:0|HIV Status:0|Treat?(Yes/No):1> :: 0.25 /<QALE:0|HIV Status:1|Treat?(Yes/No):1> :: 0.25"
      ]
     },
     "execution_count": 47,
     "metadata": {},
     "output_type": "execute_result"
    }
   ],
   "source": [
    "HIV1.cpt(Q).fillWith([1/4,1/4,1/4,1/4])"
   ]
  },
  {
   "cell_type": "code",
   "execution_count": 48,
   "metadata": {},
   "outputs": [
    {
     "data": {
      "image/svg+xml": [
       "<svg xmlns=\"http://www.w3.org/2000/svg\" xmlns:xlink=\"http://www.w3.org/1999/xlink\" width=\"312pt\" height=\"304pt\" viewBox=\"0.00 0.00 312.44 304.00\">\n",
       "<g id=\"graph0\" class=\"graph\" transform=\"scale(1 1) rotate(0) translate(4 300)\">\n",
       "<title>structs</title>\n",
       "<text text-anchor=\"middle\" x=\"152.22\" y=\"-7.8\" font-family=\"Times New Roman,serif\" font-size=\"14.00\" fill=\"#4a4a4a\">Inference in   1.00ms</text>\n",
       "<!-- HIV Status -->\n",
       "<g id=\"node1\" class=\"node\">\n",
       "<title>HIV Status</title>\n",
       "<polygon fill=\"white\" stroke=\"#000000\" points=\"101,-296 0,-296 0,-255 101,-255 101,-296\"/>\n",
       "<svg viewBox=\"0 0 132.1625 52.998125\" width=\"101px\" height=\"41px\" preserveAspectRatio=\"xMinYMin meet\" x=\"0\" y=\"-296\"> <defs>\n",
       "  <style type=\"text/css\">\n",
       "*{stroke-linecap:butt;stroke-linejoin:round;}\n",
       "  </style>\n",
       " </defs>\n",
       " <g id=\"figure_1\">\n",
       "  <g id=\"patch_1\">\n",
       "   <path d=\"M 0 52.998125  L 132.1625 52.998125  L 132.1625 0  L 0 0  z \" style=\"fill:none;\"/>\n",
       "  </g>\n",
       "  <g id=\"axes_1\">\n",
       "   <g id=\"patch_2\">\n",
       "    <path d=\"M 16.9625 45.898125  L 128.5625 45.898125  L 128.5625 18.718125  L 16.9625 18.718125  z \" style=\"fill:none;\"/>\n",
       "   </g>\n",
       "   <g id=\"patch_3\">\n",
       "    <path clip-path=\"url(#p748728dd6d)\" d=\"M 16.9625 45.898125  L 25.8905 45.898125  L 25.8905 33.818125  L 16.9625 33.818125  z \" style=\"fill:#8fbc8f;\"/>\n",
       "   </g>\n",
       "   <g id=\"patch_4\">\n",
       "    <path clip-path=\"url(#p748728dd6d)\" d=\"M 16.9625 30.798125  L 119.6345 30.798125  L 119.6345 18.718125  L 16.9625 18.718125  z \" style=\"fill:#8fbc8f;\"/>\n",
       "   </g>\n",
       "   <g id=\"matplotlib.axis_1\">\n",
       "    <g id=\"xtick_1\">\n",
       "     <g id=\"line2d_1\">\n",
       "      <path clip-path=\"url(#p748728dd6d)\" d=\"M 16.9625 45.898125  L 16.9625 18.718125  \" style=\"fill:none;stroke:#b0b0b0;stroke-linecap:square;stroke-width:0.8;\"/>\n",
       "     </g>\n",
       "     <g id=\"line2d_2\">\n",
       "      <defs>\n",
       "       <path d=\"M 0 0  L 0 3.5  \" id=\"m6b2cdad6a8\" style=\"stroke:#000000;stroke-width:0.8;\"/>\n",
       "      </defs>\n",
       "      <g>\n",
       "       <use style=\"stroke:#000000;stroke-width:0.8;\" x=\"16.9625\" xlink:href=\"#m6b2cdad6a8\" y=\"45.898125\"/>\n",
       "      </g>\n",
       "     </g>\n",
       "    </g>\n",
       "    <g id=\"xtick_2\">\n",
       "     <g id=\"line2d_3\">\n",
       "      <path clip-path=\"url(#p748728dd6d)\" d=\"M 72.7625 45.898125  L 72.7625 18.718125  \" style=\"fill:none;stroke:#b0b0b0;stroke-linecap:square;stroke-width:0.8;\"/>\n",
       "     </g>\n",
       "     <g id=\"line2d_4\">\n",
       "      <g>\n",
       "       <use style=\"stroke:#000000;stroke-width:0.8;\" x=\"72.7625\" xlink:href=\"#m6b2cdad6a8\" y=\"45.898125\"/>\n",
       "      </g>\n",
       "     </g>\n",
       "    </g>\n",
       "    <g id=\"xtick_3\">\n",
       "     <g id=\"line2d_5\">\n",
       "      <path clip-path=\"url(#p748728dd6d)\" d=\"M 128.5625 45.898125  L 128.5625 18.718125  \" style=\"fill:none;stroke:#b0b0b0;stroke-linecap:square;stroke-width:0.8;\"/>\n",
       "     </g>\n",
       "     <g id=\"line2d_6\">\n",
       "      <g>\n",
       "       <use style=\"stroke:#000000;stroke-width:0.8;\" x=\"128.5625\" xlink:href=\"#m6b2cdad6a8\" y=\"45.898125\"/>\n",
       "      </g>\n",
       "     </g>\n",
       "    </g>\n",
       "   </g>\n",
       "   <g id=\"matplotlib.axis_2\">\n",
       "    <g id=\"ytick_1\">\n",
       "     <g id=\"line2d_7\">\n",
       "      <defs>\n",
       "       <path d=\"M 0 0  L -3.5 0  \" id=\"mbd20c35195\" style=\"stroke:#000000;stroke-width:0.8;\"/>\n",
       "      </defs>\n",
       "      <g>\n",
       "       <use style=\"stroke:#000000;stroke-width:0.8;\" x=\"16.9625\" xlink:href=\"#mbd20c35195\" y=\"39.858125\"/>\n",
       "      </g>\n",
       "     </g>\n",
       "     <g id=\"text_1\">\n",
       "      <!-- 1 -->\n",
       "      <defs>\n",
       "       <path d=\"M 12.40625 8.296875  L 28.515625 8.296875  L 28.515625 63.921875  L 10.984375 60.40625  L 10.984375 69.390625  L 28.421875 72.90625  L 38.28125 72.90625  L 38.28125 8.296875  L 54.390625 8.296875  L 54.390625 0  L 12.40625 0  z \" id=\"DejaVuSans-49\"/>\n",
       "      </defs>\n",
       "      <g transform=\"translate(3.6 43.657344)scale(0.1 -0.1)\">\n",
       "       <use xlink:href=\"#DejaVuSans-49\"/>\n",
       "      </g>\n",
       "     </g>\n",
       "    </g>\n",
       "    <g id=\"ytick_2\">\n",
       "     <g id=\"line2d_8\">\n",
       "      <g>\n",
       "       <use style=\"stroke:#000000;stroke-width:0.8;\" x=\"16.9625\" xlink:href=\"#mbd20c35195\" y=\"24.758125\"/>\n",
       "      </g>\n",
       "     </g>\n",
       "     <g id=\"text_2\">\n",
       "      <!-- 0 -->\n",
       "      <defs>\n",
       "       <path d=\"M 31.78125 66.40625  Q 24.171875 66.40625 20.328125 58.90625  Q 16.5 51.421875 16.5 36.375  Q 16.5 21.390625 20.328125 13.890625  Q 24.171875 6.390625 31.78125 6.390625  Q 39.453125 6.390625 43.28125 13.890625  Q 47.125 21.390625 47.125 36.375  Q 47.125 51.421875 43.28125 58.90625  Q 39.453125 66.40625 31.78125 66.40625  z M 31.78125 74.21875  Q 44.046875 74.21875 50.515625 64.515625  Q 56.984375 54.828125 56.984375 36.375  Q 56.984375 17.96875 50.515625 8.265625  Q 44.046875 -1.421875 31.78125 -1.421875  Q 19.53125 -1.421875 13.0625 8.265625  Q 6.59375 17.96875 6.59375 36.375  Q 6.59375 54.828125 13.0625 64.515625  Q 19.53125 74.21875 31.78125 74.21875  z \" id=\"DejaVuSans-48\"/>\n",
       "      </defs>\n",
       "      <g transform=\"translate(3.6 28.557344)scale(0.1 -0.1)\">\n",
       "       <use xlink:href=\"#DejaVuSans-48\"/>\n",
       "      </g>\n",
       "     </g>\n",
       "    </g>\n",
       "   </g>\n",
       "   <g id=\"patch_5\">\n",
       "    <path d=\"M 16.9625 45.898125  L 16.9625 18.718125  \" style=\"fill:none;stroke:#000000;stroke-linecap:square;stroke-linejoin:miter;stroke-width:0.8;\"/>\n",
       "   </g>\n",
       "   <g id=\"patch_6\">\n",
       "    <path d=\"M 128.5625 45.898125  L 128.5625 18.718125  \" style=\"fill:none;stroke:#000000;stroke-linecap:square;stroke-linejoin:miter;stroke-width:0.8;\"/>\n",
       "   </g>\n",
       "   <g id=\"patch_7\">\n",
       "    <path d=\"M 16.9625 45.898125  L 128.5625 45.898125  \" style=\"fill:none;stroke:#000000;stroke-linecap:square;stroke-linejoin:miter;stroke-width:0.8;\"/>\n",
       "   </g>\n",
       "   <g id=\"patch_8\">\n",
       "    <path d=\"M 16.9625 18.718125  L 128.5625 18.718125  \" style=\"fill:none;stroke:#000000;stroke-linecap:square;stroke-linejoin:miter;stroke-width:0.8;\"/>\n",
       "   </g>\n",
       "   <g id=\"text_3\">\n",
       "    <!-- 8.00% -->\n",
       "    <defs>\n",
       "     <path d=\"M 31.78125 34.625  Q 24.75 34.625 20.71875 30.859375  Q 16.703125 27.09375 16.703125 20.515625  Q 16.703125 13.921875 20.71875 10.15625  Q 24.75 6.390625 31.78125 6.390625  Q 38.8125 6.390625 42.859375 10.171875  Q 46.921875 13.96875 46.921875 20.515625  Q 46.921875 27.09375 42.890625 30.859375  Q 38.875 34.625 31.78125 34.625  z M 21.921875 38.8125  Q 15.578125 40.375 12.03125 44.71875  Q 8.5 49.078125 8.5 55.328125  Q 8.5 64.0625 14.71875 69.140625  Q 20.953125 74.21875 31.78125 74.21875  Q 42.671875 74.21875 48.875 69.140625  Q 55.078125 64.0625 55.078125 55.328125  Q 55.078125 49.078125 51.53125 44.71875  Q 48 40.375 41.703125 38.8125  Q 48.828125 37.15625 52.796875 32.3125  Q 56.78125 27.484375 56.78125 20.515625  Q 56.78125 9.90625 50.3125 4.234375  Q 43.84375 -1.421875 31.78125 -1.421875  Q 19.734375 -1.421875 13.25 4.234375  Q 6.78125 9.90625 6.78125 20.515625  Q 6.78125 27.484375 10.78125 32.3125  Q 14.796875 37.15625 21.921875 38.8125  z M 18.3125 54.390625  Q 18.3125 48.734375 21.84375 45.5625  Q 25.390625 42.390625 31.78125 42.390625  Q 38.140625 42.390625 41.71875 45.5625  Q 45.3125 48.734375 45.3125 54.390625  Q 45.3125 60.0625 41.71875 63.234375  Q 38.140625 66.40625 31.78125 66.40625  Q 25.390625 66.40625 21.84375 63.234375  Q 18.3125 60.0625 18.3125 54.390625  z \" id=\"DejaVuSans-56\"/>\n",
       "     <path d=\"M 10.6875 12.40625  L 21 12.40625  L 21 0  L 10.6875 0  z \" id=\"DejaVuSans-46\"/>\n",
       "     <path d=\"M 72.703125 32.078125  Q 68.453125 32.078125 66.03125 28.46875  Q 63.625 24.859375 63.625 18.40625  Q 63.625 12.0625 66.03125 8.421875  Q 68.453125 4.78125 72.703125 4.78125  Q 76.859375 4.78125 79.265625 8.421875  Q 81.6875 12.0625 81.6875 18.40625  Q 81.6875 24.8125 79.265625 28.4375  Q 76.859375 32.078125 72.703125 32.078125  z M 72.703125 38.28125  Q 80.421875 38.28125 84.953125 32.90625  Q 89.5 27.546875 89.5 18.40625  Q 89.5 9.28125 84.9375 3.921875  Q 80.375 -1.421875 72.703125 -1.421875  Q 64.890625 -1.421875 60.34375 3.921875  Q 55.8125 9.28125 55.8125 18.40625  Q 55.8125 27.59375 60.375 32.9375  Q 64.9375 38.28125 72.703125 38.28125  z M 22.3125 68.015625  Q 18.109375 68.015625 15.6875 64.375  Q 13.28125 60.75 13.28125 54.390625  Q 13.28125 47.953125 15.671875 44.328125  Q 18.0625 40.71875 22.3125 40.71875  Q 26.5625 40.71875 28.96875 44.328125  Q 31.390625 47.953125 31.390625 54.390625  Q 31.390625 60.6875 28.953125 64.34375  Q 26.515625 68.015625 22.3125 68.015625  z M 66.40625 74.21875  L 74.21875 74.21875  L 28.609375 -1.421875  L 20.796875 -1.421875  z M 22.3125 74.21875  Q 30.03125 74.21875 34.609375 68.875  Q 39.203125 63.53125 39.203125 54.390625  Q 39.203125 45.171875 34.640625 39.84375  Q 30.078125 34.515625 22.3125 34.515625  Q 14.546875 34.515625 10.03125 39.859375  Q 5.515625 45.21875 5.515625 54.390625  Q 5.515625 63.484375 10.046875 68.84375  Q 14.59375 74.21875 22.3125 74.21875  z \" id=\"DejaVuSans-37\"/>\n",
       "    </defs>\n",
       "    <g transform=\"translate(96.795312 43.818437)scale(0.1 -0.1)\">\n",
       "     <use xlink:href=\"#DejaVuSans-56\"/>\n",
       "     <use x=\"63.623047\" xlink:href=\"#DejaVuSans-46\"/>\n",
       "     <use x=\"95.410156\" xlink:href=\"#DejaVuSans-48\"/>\n",
       "     <use x=\"159.033203\" xlink:href=\"#DejaVuSans-48\"/>\n",
       "     <use x=\"222.65625\" xlink:href=\"#DejaVuSans-37\"/>\n",
       "    </g>\n",
       "   </g>\n",
       "   <g id=\"text_4\">\n",
       "    <!-- 92.00% -->\n",
       "    <defs>\n",
       "     <path d=\"M 10.984375 1.515625  L 10.984375 10.5  Q 14.703125 8.734375 18.5 7.8125  Q 22.3125 6.890625 25.984375 6.890625  Q 35.75 6.890625 40.890625 13.453125  Q 46.046875 20.015625 46.78125 33.40625  Q 43.953125 29.203125 39.59375 26.953125  Q 35.25 24.703125 29.984375 24.703125  Q 19.046875 24.703125 12.671875 31.3125  Q 6.296875 37.9375 6.296875 49.421875  Q 6.296875 60.640625 12.9375 67.421875  Q 19.578125 74.21875 30.609375 74.21875  Q 43.265625 74.21875 49.921875 64.515625  Q 56.59375 54.828125 56.59375 36.375  Q 56.59375 19.140625 48.40625 8.859375  Q 40.234375 -1.421875 26.421875 -1.421875  Q 22.703125 -1.421875 18.890625 -0.6875  Q 15.09375 0.046875 10.984375 1.515625  z M 30.609375 32.421875  Q 37.25 32.421875 41.125 36.953125  Q 45.015625 41.5 45.015625 49.421875  Q 45.015625 57.28125 41.125 61.84375  Q 37.25 66.40625 30.609375 66.40625  Q 23.96875 66.40625 20.09375 61.84375  Q 16.21875 57.28125 16.21875 49.421875  Q 16.21875 41.5 20.09375 36.953125  Q 23.96875 32.421875 30.609375 32.421875  z \" id=\"DejaVuSans-57\"/>\n",
       "     <path d=\"M 19.1875 8.296875  L 53.609375 8.296875  L 53.609375 0  L 7.328125 0  L 7.328125 8.296875  Q 12.9375 14.109375 22.625 23.890625  Q 32.328125 33.6875 34.8125 36.53125  Q 39.546875 41.84375 41.421875 45.53125  Q 43.3125 49.21875 43.3125 52.78125  Q 43.3125 58.59375 39.234375 62.25  Q 35.15625 65.921875 28.609375 65.921875  Q 23.96875 65.921875 18.8125 64.3125  Q 13.671875 62.703125 7.8125 59.421875  L 7.8125 69.390625  Q 13.765625 71.78125 18.9375 73  Q 24.125 74.21875 28.421875 74.21875  Q 39.75 74.21875 46.484375 68.546875  Q 53.21875 62.890625 53.21875 53.421875  Q 53.21875 48.921875 51.53125 44.890625  Q 49.859375 40.875 45.40625 35.40625  Q 44.1875 33.984375 37.640625 27.21875  Q 31.109375 20.453125 19.1875 8.296875  z \" id=\"DejaVuSans-50\"/>\n",
       "    </defs>\n",
       "    <g transform=\"translate(90.432812 28.718437)scale(0.1 -0.1)\">\n",
       "     <use xlink:href=\"#DejaVuSans-57\"/>\n",
       "     <use x=\"63.623047\" xlink:href=\"#DejaVuSans-50\"/>\n",
       "     <use x=\"127.246094\" xlink:href=\"#DejaVuSans-46\"/>\n",
       "     <use x=\"159.033203\" xlink:href=\"#DejaVuSans-48\"/>\n",
       "     <use x=\"222.65625\" xlink:href=\"#DejaVuSans-48\"/>\n",
       "     <use x=\"286.279297\" xlink:href=\"#DejaVuSans-37\"/>\n",
       "    </g>\n",
       "   </g>\n",
       "   <g id=\"text_5\">\n",
       "    <!-- HIV Status -->\n",
       "    <defs>\n",
       "     <path d=\"M 9.8125 72.90625  L 19.671875 72.90625  L 19.671875 43.015625  L 55.515625 43.015625  L 55.515625 72.90625  L 65.375 72.90625  L 65.375 0  L 55.515625 0  L 55.515625 34.71875  L 19.671875 34.71875  L 19.671875 0  L 9.8125 0  z \" id=\"DejaVuSans-72\"/>\n",
       "     <path d=\"M 9.8125 72.90625  L 19.671875 72.90625  L 19.671875 0  L 9.8125 0  z \" id=\"DejaVuSans-73\"/>\n",
       "     <path d=\"M 28.609375 0  L 0.78125 72.90625  L 11.078125 72.90625  L 34.1875 11.53125  L 57.328125 72.90625  L 67.578125 72.90625  L 39.796875 0  z \" id=\"DejaVuSans-86\"/>\n",
       "     <path id=\"DejaVuSans-32\"/>\n",
       "     <path d=\"M 53.515625 70.515625  L 53.515625 60.890625  Q 47.90625 63.578125 42.921875 64.890625  Q 37.9375 66.21875 33.296875 66.21875  Q 25.25 66.21875 20.875 63.09375  Q 16.5 59.96875 16.5 54.203125  Q 16.5 49.359375 19.40625 46.890625  Q 22.3125 44.4375 30.421875 42.921875  L 36.375 41.703125  Q 47.40625 39.59375 52.65625 34.296875  Q 57.90625 29 57.90625 20.125  Q 57.90625 9.515625 50.796875 4.046875  Q 43.703125 -1.421875 29.984375 -1.421875  Q 24.8125 -1.421875 18.96875 -0.25  Q 13.140625 0.921875 6.890625 3.21875  L 6.890625 13.375  Q 12.890625 10.015625 18.65625 8.296875  Q 24.421875 6.59375 29.984375 6.59375  Q 38.421875 6.59375 43.015625 9.90625  Q 47.609375 13.234375 47.609375 19.390625  Q 47.609375 24.75 44.3125 27.78125  Q 41.015625 30.8125 33.5 32.328125  L 27.484375 33.5  Q 16.453125 35.6875 11.515625 40.375  Q 6.59375 45.0625 6.59375 53.421875  Q 6.59375 63.09375 13.40625 68.65625  Q 20.21875 74.21875 32.171875 74.21875  Q 37.3125 74.21875 42.625 73.28125  Q 47.953125 72.359375 53.515625 70.515625  z \" id=\"DejaVuSans-83\"/>\n",
       "     <path d=\"M 18.3125 70.21875  L 18.3125 54.6875  L 36.8125 54.6875  L 36.8125 47.703125  L 18.3125 47.703125  L 18.3125 18.015625  Q 18.3125 11.328125 20.140625 9.421875  Q 21.96875 7.515625 27.59375 7.515625  L 36.8125 7.515625  L 36.8125 0  L 27.59375 0  Q 17.1875 0 13.234375 3.875  Q 9.28125 7.765625 9.28125 18.015625  L 9.28125 47.703125  L 2.6875 47.703125  L 2.6875 54.6875  L 9.28125 54.6875  L 9.28125 70.21875  z \" id=\"DejaVuSans-116\"/>\n",
       "     <path d=\"M 34.28125 27.484375  Q 23.390625 27.484375 19.1875 25  Q 14.984375 22.515625 14.984375 16.5  Q 14.984375 11.71875 18.140625 8.90625  Q 21.296875 6.109375 26.703125 6.109375  Q 34.1875 6.109375 38.703125 11.40625  Q 43.21875 16.703125 43.21875 25.484375  L 43.21875 27.484375  z M 52.203125 31.203125  L 52.203125 0  L 43.21875 0  L 43.21875 8.296875  Q 40.140625 3.328125 35.546875 0.953125  Q 30.953125 -1.421875 24.3125 -1.421875  Q 15.921875 -1.421875 10.953125 3.296875  Q 6 8.015625 6 15.921875  Q 6 25.140625 12.171875 29.828125  Q 18.359375 34.515625 30.609375 34.515625  L 43.21875 34.515625  L 43.21875 35.40625  Q 43.21875 41.609375 39.140625 45  Q 35.0625 48.390625 27.6875 48.390625  Q 23 48.390625 18.546875 47.265625  Q 14.109375 46.140625 10.015625 43.890625  L 10.015625 52.203125  Q 14.9375 54.109375 19.578125 55.046875  Q 24.21875 56 28.609375 56  Q 40.484375 56 46.34375 49.84375  Q 52.203125 43.703125 52.203125 31.203125  z \" id=\"DejaVuSans-97\"/>\n",
       "     <path d=\"M 8.5 21.578125  L 8.5 54.6875  L 17.484375 54.6875  L 17.484375 21.921875  Q 17.484375 14.15625 20.5 10.265625  Q 23.53125 6.390625 29.59375 6.390625  Q 36.859375 6.390625 41.078125 11.03125  Q 45.3125 15.671875 45.3125 23.6875  L 45.3125 54.6875  L 54.296875 54.6875  L 54.296875 0  L 45.3125 0  L 45.3125 8.40625  Q 42.046875 3.421875 37.71875 1  Q 33.40625 -1.421875 27.6875 -1.421875  Q 18.265625 -1.421875 13.375 4.4375  Q 8.5 10.296875 8.5 21.578125  z M 31.109375 56  z \" id=\"DejaVuSans-117\"/>\n",
       "     <path d=\"M 44.28125 53.078125  L 44.28125 44.578125  Q 40.484375 46.53125 36.375 47.5  Q 32.28125 48.484375 27.875 48.484375  Q 21.1875 48.484375 17.84375 46.4375  Q 14.5 44.390625 14.5 40.28125  Q 14.5 37.15625 16.890625 35.375  Q 19.28125 33.59375 26.515625 31.984375  L 29.59375 31.296875  Q 39.15625 29.25 43.1875 25.515625  Q 47.21875 21.78125 47.21875 15.09375  Q 47.21875 7.46875 41.1875 3.015625  Q 35.15625 -1.421875 24.609375 -1.421875  Q 20.21875 -1.421875 15.453125 -0.5625  Q 10.6875 0.296875 5.421875 2  L 5.421875 11.28125  Q 10.40625 8.6875 15.234375 7.390625  Q 20.0625 6.109375 24.8125 6.109375  Q 31.15625 6.109375 34.5625 8.28125  Q 37.984375 10.453125 37.984375 14.40625  Q 37.984375 18.0625 35.515625 20.015625  Q 33.0625 21.96875 24.703125 23.78125  L 21.578125 24.515625  Q 13.234375 26.265625 9.515625 29.90625  Q 5.8125 33.546875 5.8125 39.890625  Q 5.8125 47.609375 11.28125 51.796875  Q 16.75 56 26.8125 56  Q 31.78125 56 36.171875 55.265625  Q 40.578125 54.546875 44.28125 53.078125  z \" id=\"DejaVuSans-115\"/>\n",
       "    </defs>\n",
       "    <g transform=\"translate(41.350625 12.718125)scale(0.12 -0.12)\">\n",
       "     <use xlink:href=\"#DejaVuSans-72\"/>\n",
       "     <use x=\"75.195312\" xlink:href=\"#DejaVuSans-73\"/>\n",
       "     <use x=\"104.6875\" xlink:href=\"#DejaVuSans-86\"/>\n",
       "     <use x=\"173.095703\" xlink:href=\"#DejaVuSans-32\"/>\n",
       "     <use x=\"204.882812\" xlink:href=\"#DejaVuSans-83\"/>\n",
       "     <use x=\"268.359375\" xlink:href=\"#DejaVuSans-116\"/>\n",
       "     <use x=\"307.568359\" xlink:href=\"#DejaVuSans-97\"/>\n",
       "     <use x=\"368.847656\" xlink:href=\"#DejaVuSans-116\"/>\n",
       "     <use x=\"408.056641\" xlink:href=\"#DejaVuSans-117\"/>\n",
       "     <use x=\"471.435547\" xlink:href=\"#DejaVuSans-115\"/>\n",
       "    </g>\n",
       "   </g>\n",
       "  </g>\n",
       " </g>\n",
       " <defs>\n",
       "  <clipPath id=\"p748728dd6d\">\n",
       "   <rect height=\"27.18\" width=\"111.6\" x=\"16.9625\" y=\"18.718125\"/>\n",
       "  </clipPath>\n",
       " </defs>\n",
       "</svg>\n",
       "\n",
       "</g>\n",
       "<!-- PCR Result -->\n",
       "<g id=\"node2\" class=\"node\">\n",
       "<title>PCR Result</title>\n",
       "<polygon fill=\"white\" stroke=\"#000000\" points=\"183,-219 82,-219 82,-167 183,-167 183,-219\"/>\n",
       "<svg viewBox=\"0 0 132.1625 66.588125\" width=\"101px\" height=\"52px\" preserveAspectRatio=\"xMinYMin meet\" x=\"82\" y=\"-219\"> <defs>\n",
       "  <style type=\"text/css\">\n",
       "*{stroke-linecap:butt;stroke-linejoin:round;}\n",
       "  </style>\n",
       " </defs>\n",
       " <g id=\"figure_1\">\n",
       "  <g id=\"patch_1\">\n",
       "   <path d=\"M 0 66.588125  L 132.1625 66.588125  L 132.1625 0  L 0 0  z \" style=\"fill:none;\"/>\n",
       "  </g>\n",
       "  <g id=\"axes_1\">\n",
       "   <g id=\"patch_2\">\n",
       "    <path d=\"M 16.9625 59.488125  L 128.5625 59.488125  L 128.5625 18.718125  L 16.9625 18.718125  z \" style=\"fill:none;\"/>\n",
       "   </g>\n",
       "   <g id=\"patch_3\">\n",
       "    <path clip-path=\"url(#p418c98cc21)\" d=\"M 16.9625 59.488125  L 72.7625 59.488125  L 72.7625 47.839554  L 16.9625 47.839554  z \" style=\"fill:#8fbc8f;\"/>\n",
       "   </g>\n",
       "   <g id=\"patch_4\">\n",
       "    <path clip-path=\"url(#p418c98cc21)\" d=\"M 16.9625 44.927411  L 22.36394 44.927411  L 22.36394 33.278839  L 16.9625 33.278839  z \" style=\"fill:#8fbc8f;\"/>\n",
       "   </g>\n",
       "   <g id=\"patch_5\">\n",
       "    <path clip-path=\"url(#p418c98cc21)\" d=\"M 16.9625 30.366696  L 67.36106 30.366696  L 67.36106 18.718125  L 16.9625 18.718125  z \" style=\"fill:#8fbc8f;\"/>\n",
       "   </g>\n",
       "   <g id=\"matplotlib.axis_1\">\n",
       "    <g id=\"xtick_1\">\n",
       "     <g id=\"line2d_1\">\n",
       "      <path clip-path=\"url(#p418c98cc21)\" d=\"M 16.9625 59.488125  L 16.9625 18.718125  \" style=\"fill:none;stroke:#b0b0b0;stroke-linecap:square;stroke-width:0.8;\"/>\n",
       "     </g>\n",
       "     <g id=\"line2d_2\">\n",
       "      <defs>\n",
       "       <path d=\"M 0 0  L 0 3.5  \" id=\"mef1b626d3c\" style=\"stroke:#000000;stroke-width:0.8;\"/>\n",
       "      </defs>\n",
       "      <g>\n",
       "       <use style=\"stroke:#000000;stroke-width:0.8;\" x=\"16.9625\" xlink:href=\"#mef1b626d3c\" y=\"59.488125\"/>\n",
       "      </g>\n",
       "     </g>\n",
       "    </g>\n",
       "    <g id=\"xtick_2\">\n",
       "     <g id=\"line2d_3\">\n",
       "      <path clip-path=\"url(#p418c98cc21)\" d=\"M 72.7625 59.488125  L 72.7625 18.718125  \" style=\"fill:none;stroke:#b0b0b0;stroke-linecap:square;stroke-width:0.8;\"/>\n",
       "     </g>\n",
       "     <g id=\"line2d_4\">\n",
       "      <g>\n",
       "       <use style=\"stroke:#000000;stroke-width:0.8;\" x=\"72.7625\" xlink:href=\"#mef1b626d3c\" y=\"59.488125\"/>\n",
       "      </g>\n",
       "     </g>\n",
       "    </g>\n",
       "    <g id=\"xtick_3\">\n",
       "     <g id=\"line2d_5\">\n",
       "      <path clip-path=\"url(#p418c98cc21)\" d=\"M 128.5625 59.488125  L 128.5625 18.718125  \" style=\"fill:none;stroke:#b0b0b0;stroke-linecap:square;stroke-width:0.8;\"/>\n",
       "     </g>\n",
       "     <g id=\"line2d_6\">\n",
       "      <g>\n",
       "       <use style=\"stroke:#000000;stroke-width:0.8;\" x=\"128.5625\" xlink:href=\"#mef1b626d3c\" y=\"59.488125\"/>\n",
       "      </g>\n",
       "     </g>\n",
       "    </g>\n",
       "   </g>\n",
       "   <g id=\"matplotlib.axis_2\">\n",
       "    <g id=\"ytick_1\">\n",
       "     <g id=\"line2d_7\">\n",
       "      <defs>\n",
       "       <path d=\"M 0 0  L -3.5 0  \" id=\"m2dd061ef2e\" style=\"stroke:#000000;stroke-width:0.8;\"/>\n",
       "      </defs>\n",
       "      <g>\n",
       "       <use style=\"stroke:#000000;stroke-width:0.8;\" x=\"16.9625\" xlink:href=\"#m2dd061ef2e\" y=\"53.663839\"/>\n",
       "      </g>\n",
       "     </g>\n",
       "     <g id=\"text_1\">\n",
       "      <!-- 2 -->\n",
       "      <defs>\n",
       "       <path d=\"M 19.1875 8.296875  L 53.609375 8.296875  L 53.609375 0  L 7.328125 0  L 7.328125 8.296875  Q 12.9375 14.109375 22.625 23.890625  Q 32.328125 33.6875 34.8125 36.53125  Q 39.546875 41.84375 41.421875 45.53125  Q 43.3125 49.21875 43.3125 52.78125  Q 43.3125 58.59375 39.234375 62.25  Q 35.15625 65.921875 28.609375 65.921875  Q 23.96875 65.921875 18.8125 64.3125  Q 13.671875 62.703125 7.8125 59.421875  L 7.8125 69.390625  Q 13.765625 71.78125 18.9375 73  Q 24.125 74.21875 28.421875 74.21875  Q 39.75 74.21875 46.484375 68.546875  Q 53.21875 62.890625 53.21875 53.421875  Q 53.21875 48.921875 51.53125 44.890625  Q 49.859375 40.875 45.40625 35.40625  Q 44.1875 33.984375 37.640625 27.21875  Q 31.109375 20.453125 19.1875 8.296875  z \" id=\"DejaVuSans-50\"/>\n",
       "      </defs>\n",
       "      <g transform=\"translate(3.6 57.463058)scale(0.1 -0.1)\">\n",
       "       <use xlink:href=\"#DejaVuSans-50\"/>\n",
       "      </g>\n",
       "     </g>\n",
       "    </g>\n",
       "    <g id=\"ytick_2\">\n",
       "     <g id=\"line2d_8\">\n",
       "      <g>\n",
       "       <use style=\"stroke:#000000;stroke-width:0.8;\" x=\"16.9625\" xlink:href=\"#m2dd061ef2e\" y=\"39.103125\"/>\n",
       "      </g>\n",
       "     </g>\n",
       "     <g id=\"text_2\">\n",
       "      <!-- 1 -->\n",
       "      <defs>\n",
       "       <path d=\"M 12.40625 8.296875  L 28.515625 8.296875  L 28.515625 63.921875  L 10.984375 60.40625  L 10.984375 69.390625  L 28.421875 72.90625  L 38.28125 72.90625  L 38.28125 8.296875  L 54.390625 8.296875  L 54.390625 0  L 12.40625 0  z \" id=\"DejaVuSans-49\"/>\n",
       "      </defs>\n",
       "      <g transform=\"translate(3.6 42.902344)scale(0.1 -0.1)\">\n",
       "       <use xlink:href=\"#DejaVuSans-49\"/>\n",
       "      </g>\n",
       "     </g>\n",
       "    </g>\n",
       "    <g id=\"ytick_3\">\n",
       "     <g id=\"line2d_9\">\n",
       "      <g>\n",
       "       <use style=\"stroke:#000000;stroke-width:0.8;\" x=\"16.9625\" xlink:href=\"#m2dd061ef2e\" y=\"24.542411\"/>\n",
       "      </g>\n",
       "     </g>\n",
       "     <g id=\"text_3\">\n",
       "      <!-- 0 -->\n",
       "      <defs>\n",
       "       <path d=\"M 31.78125 66.40625  Q 24.171875 66.40625 20.328125 58.90625  Q 16.5 51.421875 16.5 36.375  Q 16.5 21.390625 20.328125 13.890625  Q 24.171875 6.390625 31.78125 6.390625  Q 39.453125 6.390625 43.28125 13.890625  Q 47.125 21.390625 47.125 36.375  Q 47.125 51.421875 43.28125 58.90625  Q 39.453125 66.40625 31.78125 66.40625  z M 31.78125 74.21875  Q 44.046875 74.21875 50.515625 64.515625  Q 56.984375 54.828125 56.984375 36.375  Q 56.984375 17.96875 50.515625 8.265625  Q 44.046875 -1.421875 31.78125 -1.421875  Q 19.53125 -1.421875 13.0625 8.265625  Q 6.59375 17.96875 6.59375 36.375  Q 6.59375 54.828125 13.0625 64.515625  Q 19.53125 74.21875 31.78125 74.21875  z \" id=\"DejaVuSans-48\"/>\n",
       "      </defs>\n",
       "      <g transform=\"translate(3.6 28.341629)scale(0.1 -0.1)\">\n",
       "       <use xlink:href=\"#DejaVuSans-48\"/>\n",
       "      </g>\n",
       "     </g>\n",
       "    </g>\n",
       "   </g>\n",
       "   <g id=\"patch_6\">\n",
       "    <path d=\"M 16.9625 59.488125  L 16.9625 18.718125  \" style=\"fill:none;stroke:#000000;stroke-linecap:square;stroke-linejoin:miter;stroke-width:0.8;\"/>\n",
       "   </g>\n",
       "   <g id=\"patch_7\">\n",
       "    <path d=\"M 128.5625 59.488125  L 128.5625 18.718125  \" style=\"fill:none;stroke:#000000;stroke-linecap:square;stroke-linejoin:miter;stroke-width:0.8;\"/>\n",
       "   </g>\n",
       "   <g id=\"patch_8\">\n",
       "    <path d=\"M 16.9625 59.488125  L 128.5625 59.488125  \" style=\"fill:none;stroke:#000000;stroke-linecap:square;stroke-linejoin:miter;stroke-width:0.8;\"/>\n",
       "   </g>\n",
       "   <g id=\"patch_9\">\n",
       "    <path d=\"M 16.9625 18.718125  L 128.5625 18.718125  \" style=\"fill:none;stroke:#000000;stroke-linecap:square;stroke-linejoin:miter;stroke-width:0.8;\"/>\n",
       "   </g>\n",
       "   <g id=\"text_4\">\n",
       "    <!-- 50.00% -->\n",
       "    <defs>\n",
       "     <path d=\"M 10.796875 72.90625  L 49.515625 72.90625  L 49.515625 64.59375  L 19.828125 64.59375  L 19.828125 46.734375  Q 21.96875 47.46875 24.109375 47.828125  Q 26.265625 48.1875 28.421875 48.1875  Q 40.625 48.1875 47.75 41.5  Q 54.890625 34.8125 54.890625 23.390625  Q 54.890625 11.625 47.5625 5.09375  Q 40.234375 -1.421875 26.90625 -1.421875  Q 22.3125 -1.421875 17.546875 -0.640625  Q 12.796875 0.140625 7.71875 1.703125  L 7.71875 11.625  Q 12.109375 9.234375 16.796875 8.0625  Q 21.484375 6.890625 26.703125 6.890625  Q 35.15625 6.890625 40.078125 11.328125  Q 45.015625 15.765625 45.015625 23.390625  Q 45.015625 31 40.078125 35.4375  Q 35.15625 39.890625 26.703125 39.890625  Q 22.75 39.890625 18.8125 39.015625  Q 14.890625 38.140625 10.796875 36.28125  z \" id=\"DejaVuSans-53\"/>\n",
       "     <path d=\"M 10.6875 12.40625  L 21 12.40625  L 21 0  L 10.6875 0  z \" id=\"DejaVuSans-46\"/>\n",
       "     <path d=\"M 72.703125 32.078125  Q 68.453125 32.078125 66.03125 28.46875  Q 63.625 24.859375 63.625 18.40625  Q 63.625 12.0625 66.03125 8.421875  Q 68.453125 4.78125 72.703125 4.78125  Q 76.859375 4.78125 79.265625 8.421875  Q 81.6875 12.0625 81.6875 18.40625  Q 81.6875 24.8125 79.265625 28.4375  Q 76.859375 32.078125 72.703125 32.078125  z M 72.703125 38.28125  Q 80.421875 38.28125 84.953125 32.90625  Q 89.5 27.546875 89.5 18.40625  Q 89.5 9.28125 84.9375 3.921875  Q 80.375 -1.421875 72.703125 -1.421875  Q 64.890625 -1.421875 60.34375 3.921875  Q 55.8125 9.28125 55.8125 18.40625  Q 55.8125 27.59375 60.375 32.9375  Q 64.9375 38.28125 72.703125 38.28125  z M 22.3125 68.015625  Q 18.109375 68.015625 15.6875 64.375  Q 13.28125 60.75 13.28125 54.390625  Q 13.28125 47.953125 15.671875 44.328125  Q 18.0625 40.71875 22.3125 40.71875  Q 26.5625 40.71875 28.96875 44.328125  Q 31.390625 47.953125 31.390625 54.390625  Q 31.390625 60.6875 28.953125 64.34375  Q 26.515625 68.015625 22.3125 68.015625  z M 66.40625 74.21875  L 74.21875 74.21875  L 28.609375 -1.421875  L 20.796875 -1.421875  z M 22.3125 74.21875  Q 30.03125 74.21875 34.609375 68.875  Q 39.203125 63.53125 39.203125 54.390625  Q 39.203125 45.171875 34.640625 39.84375  Q 30.078125 34.515625 22.3125 34.515625  Q 14.546875 34.515625 10.03125 39.859375  Q 5.515625 45.21875 5.515625 54.390625  Q 5.515625 63.484375 10.046875 68.84375  Q 14.59375 74.21875 22.3125 74.21875  z \" id=\"DejaVuSans-37\"/>\n",
       "    </defs>\n",
       "    <g transform=\"translate(90.432812 57.408438)scale(0.1 -0.1)\">\n",
       "     <use xlink:href=\"#DejaVuSans-53\"/>\n",
       "     <use x=\"63.623047\" xlink:href=\"#DejaVuSans-48\"/>\n",
       "     <use x=\"127.246094\" xlink:href=\"#DejaVuSans-46\"/>\n",
       "     <use x=\"159.033203\" xlink:href=\"#DejaVuSans-48\"/>\n",
       "     <use x=\"222.65625\" xlink:href=\"#DejaVuSans-48\"/>\n",
       "     <use x=\"286.279297\" xlink:href=\"#DejaVuSans-37\"/>\n",
       "    </g>\n",
       "   </g>\n",
       "   <g id=\"text_5\">\n",
       "    <!-- 4.84% -->\n",
       "    <defs>\n",
       "     <path d=\"M 37.796875 64.3125  L 12.890625 25.390625  L 37.796875 25.390625  z M 35.203125 72.90625  L 47.609375 72.90625  L 47.609375 25.390625  L 58.015625 25.390625  L 58.015625 17.1875  L 47.609375 17.1875  L 47.609375 0  L 37.796875 0  L 37.796875 17.1875  L 4.890625 17.1875  L 4.890625 26.703125  z \" id=\"DejaVuSans-52\"/>\n",
       "     <path d=\"M 31.78125 34.625  Q 24.75 34.625 20.71875 30.859375  Q 16.703125 27.09375 16.703125 20.515625  Q 16.703125 13.921875 20.71875 10.15625  Q 24.75 6.390625 31.78125 6.390625  Q 38.8125 6.390625 42.859375 10.171875  Q 46.921875 13.96875 46.921875 20.515625  Q 46.921875 27.09375 42.890625 30.859375  Q 38.875 34.625 31.78125 34.625  z M 21.921875 38.8125  Q 15.578125 40.375 12.03125 44.71875  Q 8.5 49.078125 8.5 55.328125  Q 8.5 64.0625 14.71875 69.140625  Q 20.953125 74.21875 31.78125 74.21875  Q 42.671875 74.21875 48.875 69.140625  Q 55.078125 64.0625 55.078125 55.328125  Q 55.078125 49.078125 51.53125 44.71875  Q 48 40.375 41.703125 38.8125  Q 48.828125 37.15625 52.796875 32.3125  Q 56.78125 27.484375 56.78125 20.515625  Q 56.78125 9.90625 50.3125 4.234375  Q 43.84375 -1.421875 31.78125 -1.421875  Q 19.734375 -1.421875 13.25 4.234375  Q 6.78125 9.90625 6.78125 20.515625  Q 6.78125 27.484375 10.78125 32.3125  Q 14.796875 37.15625 21.921875 38.8125  z M 18.3125 54.390625  Q 18.3125 48.734375 21.84375 45.5625  Q 25.390625 42.390625 31.78125 42.390625  Q 38.140625 42.390625 41.71875 45.5625  Q 45.3125 48.734375 45.3125 54.390625  Q 45.3125 60.0625 41.71875 63.234375  Q 38.140625 66.40625 31.78125 66.40625  Q 25.390625 66.40625 21.84375 63.234375  Q 18.3125 60.0625 18.3125 54.390625  z \" id=\"DejaVuSans-56\"/>\n",
       "    </defs>\n",
       "    <g transform=\"translate(96.795312 42.847723)scale(0.1 -0.1)\">\n",
       "     <use xlink:href=\"#DejaVuSans-52\"/>\n",
       "     <use x=\"63.623047\" xlink:href=\"#DejaVuSans-46\"/>\n",
       "     <use x=\"95.410156\" xlink:href=\"#DejaVuSans-56\"/>\n",
       "     <use x=\"159.033203\" xlink:href=\"#DejaVuSans-52\"/>\n",
       "     <use x=\"222.65625\" xlink:href=\"#DejaVuSans-37\"/>\n",
       "    </g>\n",
       "   </g>\n",
       "   <g id=\"text_6\">\n",
       "    <!-- 45.16% -->\n",
       "    <defs>\n",
       "     <path d=\"M 33.015625 40.375  Q 26.375 40.375 22.484375 35.828125  Q 18.609375 31.296875 18.609375 23.390625  Q 18.609375 15.53125 22.484375 10.953125  Q 26.375 6.390625 33.015625 6.390625  Q 39.65625 6.390625 43.53125 10.953125  Q 47.40625 15.53125 47.40625 23.390625  Q 47.40625 31.296875 43.53125 35.828125  Q 39.65625 40.375 33.015625 40.375  z M 52.59375 71.296875  L 52.59375 62.3125  Q 48.875 64.0625 45.09375 64.984375  Q 41.3125 65.921875 37.59375 65.921875  Q 27.828125 65.921875 22.671875 59.328125  Q 17.53125 52.734375 16.796875 39.40625  Q 19.671875 43.65625 24.015625 45.921875  Q 28.375 48.1875 33.59375 48.1875  Q 44.578125 48.1875 50.953125 41.515625  Q 57.328125 34.859375 57.328125 23.390625  Q 57.328125 12.15625 50.6875 5.359375  Q 44.046875 -1.421875 33.015625 -1.421875  Q 20.359375 -1.421875 13.671875 8.265625  Q 6.984375 17.96875 6.984375 36.375  Q 6.984375 53.65625 15.1875 63.9375  Q 23.390625 74.21875 37.203125 74.21875  Q 40.921875 74.21875 44.703125 73.484375  Q 48.484375 72.75 52.59375 71.296875  z \" id=\"DejaVuSans-54\"/>\n",
       "    </defs>\n",
       "    <g transform=\"translate(90.432812 28.287009)scale(0.1 -0.1)\">\n",
       "     <use xlink:href=\"#DejaVuSans-52\"/>\n",
       "     <use x=\"63.623047\" xlink:href=\"#DejaVuSans-53\"/>\n",
       "     <use x=\"127.246094\" xlink:href=\"#DejaVuSans-46\"/>\n",
       "     <use x=\"159.033203\" xlink:href=\"#DejaVuSans-49\"/>\n",
       "     <use x=\"222.65625\" xlink:href=\"#DejaVuSans-54\"/>\n",
       "     <use x=\"286.279297\" xlink:href=\"#DejaVuSans-37\"/>\n",
       "    </g>\n",
       "   </g>\n",
       "   <g id=\"text_7\">\n",
       "    <!-- PCR Result -->\n",
       "    <defs>\n",
       "     <path d=\"M 19.671875 64.796875  L 19.671875 37.40625  L 32.078125 37.40625  Q 38.96875 37.40625 42.71875 40.96875  Q 46.484375 44.53125 46.484375 51.125  Q 46.484375 57.671875 42.71875 61.234375  Q 38.96875 64.796875 32.078125 64.796875  z M 9.8125 72.90625  L 32.078125 72.90625  Q 44.34375 72.90625 50.609375 67.359375  Q 56.890625 61.8125 56.890625 51.125  Q 56.890625 40.328125 50.609375 34.8125  Q 44.34375 29.296875 32.078125 29.296875  L 19.671875 29.296875  L 19.671875 0  L 9.8125 0  z \" id=\"DejaVuSans-80\"/>\n",
       "     <path d=\"M 64.40625 67.28125  L 64.40625 56.890625  Q 59.421875 61.53125 53.78125 63.8125  Q 48.140625 66.109375 41.796875 66.109375  Q 29.296875 66.109375 22.65625 58.46875  Q 16.015625 50.828125 16.015625 36.375  Q 16.015625 21.96875 22.65625 14.328125  Q 29.296875 6.6875 41.796875 6.6875  Q 48.140625 6.6875 53.78125 8.984375  Q 59.421875 11.28125 64.40625 15.921875  L 64.40625 5.609375  Q 59.234375 2.09375 53.4375 0.328125  Q 47.65625 -1.421875 41.21875 -1.421875  Q 24.65625 -1.421875 15.125 8.703125  Q 5.609375 18.84375 5.609375 36.375  Q 5.609375 53.953125 15.125 64.078125  Q 24.65625 74.21875 41.21875 74.21875  Q 47.75 74.21875 53.53125 72.484375  Q 59.328125 70.75 64.40625 67.28125  z \" id=\"DejaVuSans-67\"/>\n",
       "     <path d=\"M 44.390625 34.1875  Q 47.5625 33.109375 50.5625 29.59375  Q 53.5625 26.078125 56.59375 19.921875  L 66.609375 0  L 56 0  L 46.6875 18.703125  Q 43.0625 26.03125 39.671875 28.421875  Q 36.28125 30.8125 30.421875 30.8125  L 19.671875 30.8125  L 19.671875 0  L 9.8125 0  L 9.8125 72.90625  L 32.078125 72.90625  Q 44.578125 72.90625 50.734375 67.671875  Q 56.890625 62.453125 56.890625 51.90625  Q 56.890625 45.015625 53.6875 40.46875  Q 50.484375 35.9375 44.390625 34.1875  z M 19.671875 64.796875  L 19.671875 38.921875  L 32.078125 38.921875  Q 39.203125 38.921875 42.84375 42.21875  Q 46.484375 45.515625 46.484375 51.90625  Q 46.484375 58.296875 42.84375 61.546875  Q 39.203125 64.796875 32.078125 64.796875  z \" id=\"DejaVuSans-82\"/>\n",
       "     <path id=\"DejaVuSans-32\"/>\n",
       "     <path d=\"M 56.203125 29.59375  L 56.203125 25.203125  L 14.890625 25.203125  Q 15.484375 15.921875 20.484375 11.0625  Q 25.484375 6.203125 34.421875 6.203125  Q 39.59375 6.203125 44.453125 7.46875  Q 49.3125 8.734375 54.109375 11.28125  L 54.109375 2.78125  Q 49.265625 0.734375 44.1875 -0.34375  Q 39.109375 -1.421875 33.890625 -1.421875  Q 20.796875 -1.421875 13.15625 6.1875  Q 5.515625 13.8125 5.515625 26.8125  Q 5.515625 40.234375 12.765625 48.109375  Q 20.015625 56 32.328125 56  Q 43.359375 56 49.78125 48.890625  Q 56.203125 41.796875 56.203125 29.59375  z M 47.21875 32.234375  Q 47.125 39.59375 43.09375 43.984375  Q 39.0625 48.390625 32.421875 48.390625  Q 24.90625 48.390625 20.390625 44.140625  Q 15.875 39.890625 15.1875 32.171875  z \" id=\"DejaVuSans-101\"/>\n",
       "     <path d=\"M 44.28125 53.078125  L 44.28125 44.578125  Q 40.484375 46.53125 36.375 47.5  Q 32.28125 48.484375 27.875 48.484375  Q 21.1875 48.484375 17.84375 46.4375  Q 14.5 44.390625 14.5 40.28125  Q 14.5 37.15625 16.890625 35.375  Q 19.28125 33.59375 26.515625 31.984375  L 29.59375 31.296875  Q 39.15625 29.25 43.1875 25.515625  Q 47.21875 21.78125 47.21875 15.09375  Q 47.21875 7.46875 41.1875 3.015625  Q 35.15625 -1.421875 24.609375 -1.421875  Q 20.21875 -1.421875 15.453125 -0.5625  Q 10.6875 0.296875 5.421875 2  L 5.421875 11.28125  Q 10.40625 8.6875 15.234375 7.390625  Q 20.0625 6.109375 24.8125 6.109375  Q 31.15625 6.109375 34.5625 8.28125  Q 37.984375 10.453125 37.984375 14.40625  Q 37.984375 18.0625 35.515625 20.015625  Q 33.0625 21.96875 24.703125 23.78125  L 21.578125 24.515625  Q 13.234375 26.265625 9.515625 29.90625  Q 5.8125 33.546875 5.8125 39.890625  Q 5.8125 47.609375 11.28125 51.796875  Q 16.75 56 26.8125 56  Q 31.78125 56 36.171875 55.265625  Q 40.578125 54.546875 44.28125 53.078125  z \" id=\"DejaVuSans-115\"/>\n",
       "     <path d=\"M 8.5 21.578125  L 8.5 54.6875  L 17.484375 54.6875  L 17.484375 21.921875  Q 17.484375 14.15625 20.5 10.265625  Q 23.53125 6.390625 29.59375 6.390625  Q 36.859375 6.390625 41.078125 11.03125  Q 45.3125 15.671875 45.3125 23.6875  L 45.3125 54.6875  L 54.296875 54.6875  L 54.296875 0  L 45.3125 0  L 45.3125 8.40625  Q 42.046875 3.421875 37.71875 1  Q 33.40625 -1.421875 27.6875 -1.421875  Q 18.265625 -1.421875 13.375 4.4375  Q 8.5 10.296875 8.5 21.578125  z M 31.109375 56  z \" id=\"DejaVuSans-117\"/>\n",
       "     <path d=\"M 9.421875 75.984375  L 18.40625 75.984375  L 18.40625 0  L 9.421875 0  z \" id=\"DejaVuSans-108\"/>\n",
       "     <path d=\"M 18.3125 70.21875  L 18.3125 54.6875  L 36.8125 54.6875  L 36.8125 47.703125  L 18.3125 47.703125  L 18.3125 18.015625  Q 18.3125 11.328125 20.140625 9.421875  Q 21.96875 7.515625 27.59375 7.515625  L 36.8125 7.515625  L 36.8125 0  L 27.59375 0  Q 17.1875 0 13.234375 3.875  Q 9.28125 7.765625 9.28125 18.015625  L 9.28125 47.703125  L 2.6875 47.703125  L 2.6875 54.6875  L 9.28125 54.6875  L 9.28125 70.21875  z \" id=\"DejaVuSans-116\"/>\n",
       "    </defs>\n",
       "    <g transform=\"translate(40.340938 12.718125)scale(0.12 -0.12)\">\n",
       "     <use xlink:href=\"#DejaVuSans-80\"/>\n",
       "     <use x=\"60.302734\" xlink:href=\"#DejaVuSans-67\"/>\n",
       "     <use x=\"130.126953\" xlink:href=\"#DejaVuSans-82\"/>\n",
       "     <use x=\"199.609375\" xlink:href=\"#DejaVuSans-32\"/>\n",
       "     <use x=\"231.396484\" xlink:href=\"#DejaVuSans-82\"/>\n",
       "     <use x=\"296.378906\" xlink:href=\"#DejaVuSans-101\"/>\n",
       "     <use x=\"357.902344\" xlink:href=\"#DejaVuSans-115\"/>\n",
       "     <use x=\"410.001953\" xlink:href=\"#DejaVuSans-117\"/>\n",
       "     <use x=\"473.380859\" xlink:href=\"#DejaVuSans-108\"/>\n",
       "     <use x=\"501.164062\" xlink:href=\"#DejaVuSans-116\"/>\n",
       "    </g>\n",
       "   </g>\n",
       "  </g>\n",
       " </g>\n",
       " <defs>\n",
       "  <clipPath id=\"p418c98cc21\">\n",
       "   <rect height=\"40.77\" width=\"111.6\" x=\"16.9625\" y=\"18.718125\"/>\n",
       "  </clipPath>\n",
       " </defs>\n",
       "</svg>\n",
       "\n",
       "</g>\n",
       "<!-- HIV Status&#45;&gt;PCR Result -->\n",
       "<g id=\"edge6\" class=\"edge\">\n",
       "<title>HIV Status-&gt;PCR Result</title>\n",
       "<g id=\"a_edge6\"><a xlink:title=\"(0, 1):\">\n",
       "<path fill=\"none\" stroke=\"#4a4a4a\" d=\"M70.77,-254.6C79.46,-246.07 89.84,-235.88 99.59,-226.31\"/>\n",
       "<polygon fill=\"#4a4a4a\" stroke=\"#4a4a4a\" points=\"102.19,-228.66 106.88,-219.16 97.29,-223.66 102.19,-228.66\"/>\n",
       "</a>\n",
       "</g>\n",
       "</g>\n",
       "<!-- QALE -->\n",
       "<g id=\"node5\" class=\"node\">\n",
       "<title>QALE</title>\n",
       "<ellipse fill=\"#404040\" stroke=\"#000000\" cx=\"98.5\" cy=\"-41\" rx=\"34.39\" ry=\"18\"/>\n",
       "<text text-anchor=\"middle\" x=\"98.5\" y=\"-37.3\" font-family=\"Times New Roman,serif\" font-size=\"14.00\" fill=\"white\">QALE</text>\n",
       "</g>\n",
       "<!-- HIV Status&#45;&gt;QALE -->\n",
       "<g id=\"edge5\" class=\"edge\">\n",
       "<title>HIV Status-&gt;QALE</title>\n",
       "<g id=\"a_edge5\"><a xlink:title=\"(0, 4):\">\n",
       "<path fill=\"none\" stroke=\"#4a4a4a\" d=\"M50.09,-254.87C49.92,-221.3 51.96,-151.08 69.5,-95 72.49,-85.44 77.28,-75.64 82.12,-67.11\"/>\n",
       "<polygon fill=\"#4a4a4a\" stroke=\"#4a4a4a\" points=\"85.18,-68.8 87.3,-58.42 79.17,-65.22 85.18,-68.8\"/>\n",
       "</a>\n",
       "</g>\n",
       "</g>\n",
       "<!-- Treat?(Yes/No) -->\n",
       "<g id=\"node3\" class=\"node\">\n",
       "<title>Treat?(Yes/No)</title>\n",
       "<ellipse fill=\"#404040\" stroke=\"#000000\" cx=\"146.5\" cy=\"-113\" rx=\"67.69\" ry=\"18\"/>\n",
       "<text text-anchor=\"middle\" x=\"146.5\" y=\"-109.3\" font-family=\"Times New Roman,serif\" font-size=\"14.00\" fill=\"white\">Treat?(Yes/No)</text>\n",
       "</g>\n",
       "<!-- PCR Result&#45;&gt;Treat?(Yes/No) -->\n",
       "<g id=\"edge3\" class=\"edge\">\n",
       "<title>PCR Result-&gt;Treat?(Yes/No)</title>\n",
       "<g id=\"a_edge3\"><a xlink:title=\"(1, 2):\">\n",
       "<path fill=\"none\" stroke=\"#4a4a4a\" d=\"M137.01,-166.89C138.47,-158.75 140.1,-149.68 141.59,-141.38\"/>\n",
       "<polygon fill=\"#4a4a4a\" stroke=\"#4a4a4a\" points=\"145.05,-141.87 143.38,-131.41 138.16,-140.64 145.05,-141.87\"/>\n",
       "</a>\n",
       "</g>\n",
       "</g>\n",
       "<!-- Treat?(Yes/No)&#45;&gt;QALE -->\n",
       "<g id=\"edge4\" class=\"edge\">\n",
       "<title>Treat?(Yes/No)-&gt;QALE</title>\n",
       "<g id=\"a_edge4\"><a xlink:title=\"(2, 4):\">\n",
       "<path fill=\"none\" stroke=\"#4a4a4a\" d=\"M134.88,-95.05C129.02,-86.5 121.8,-75.97 115.34,-66.56\"/>\n",
       "<polygon fill=\"#4a4a4a\" stroke=\"#4a4a4a\" points=\"118.22,-64.57 109.68,-58.31 112.45,-68.53 118.22,-64.57\"/>\n",
       "</a>\n",
       "</g>\n",
       "</g>\n",
       "<!-- Obtain PCR?(Yes/No) -->\n",
       "<g id=\"node4\" class=\"node\">\n",
       "<title>Obtain PCR?(Yes/No)</title>\n",
       "<ellipse fill=\"#404040\" stroke=\"#000000\" cx=\"211.5\" cy=\"-275.5\" rx=\"92.88\" ry=\"18\"/>\n",
       "<text text-anchor=\"middle\" x=\"211.5\" y=\"-271.8\" font-family=\"Times New Roman,serif\" font-size=\"14.00\" fill=\"white\">Obtain PCR?(Yes/No)</text>\n",
       "</g>\n",
       "<!-- Obtain PCR?(Yes/No)&#45;&gt;PCR Result -->\n",
       "<g id=\"edge2\" class=\"edge\">\n",
       "<title>Obtain PCR?(Yes/No)-&gt;PCR Result</title>\n",
       "<g id=\"a_edge2\"><a xlink:title=\"(3, 1):\">\n",
       "<path fill=\"none\" stroke=\"#4a4a4a\" d=\"M194.75,-257.43C185.91,-248.43 174.78,-237.08 164.38,-226.49\"/>\n",
       "<polygon fill=\"#4a4a4a\" stroke=\"#4a4a4a\" points=\"166.84,-223.99 157.33,-219.31 161.84,-228.89 166.84,-223.99\"/>\n",
       "</a>\n",
       "</g>\n",
       "</g>\n",
       "<!-- Obtain PCR?(Yes/No)&#45;&gt;Treat?(Yes/No) -->\n",
       "<g id=\"edge1\" class=\"edge\">\n",
       "<title>Obtain PCR?(Yes/No)-&gt;Treat?(Yes/No)</title>\n",
       "<g id=\"a_edge1\"><a xlink:title=\"(3, 2):\">\n",
       "<path fill=\"none\" stroke=\"#4a4a4a\" d=\"M211.25,-257.26C210.33,-235.28 206.61,-196.6 192.5,-167 187.44,-156.39 179.66,-146.25 171.93,-137.73\"/>\n",
       "<polygon fill=\"#4a4a4a\" stroke=\"#4a4a4a\" points=\"174.37,-135.21 164.93,-130.4 169.31,-140.05 174.37,-135.21\"/>\n",
       "</a>\n",
       "</g>\n",
       "</g>\n",
       "</g>\n",
       "</svg>"
      ],
      "text/plain": [
       "<IPython.core.display.SVG object>"
      ]
     },
     "metadata": {},
     "output_type": "display_data"
    }
   ],
   "source": [
    "%matplotlib inline\n",
    "ie=gum.LazyPropagation(HIV1)\n",
    "ie.setEvidence({'Treat?(Yes/No)':1})\n",
    "ie.makeInference()\n",
    "gnb.showInference(HIV1,evs={},targets={'PCR Result','HIV Status'})"
   ]
  },
  {
   "cell_type": "markdown",
   "metadata": {},
   "source": [
    "## Replica 3"
   ]
  },
  {
   "cell_type": "code",
   "execution_count": 49,
   "metadata": {},
   "outputs": [
    {
     "data": {
      "text/html": [
       "<svg xmlns=\"http://www.w3.org/2000/svg\" xmlns:xlink=\"http://www.w3.org/1999/xlink\" width=\"360pt\" height=\"238pt\" viewBox=\"0.00 0.00 360.00 238.48\">\n",
       "<g id=\"graph0\" class=\"graph\" transform=\"scale(0.72 0.72) rotate(0) translate(4 328)\">\n",
       "<title>G</title>\n",
       "<!-- HIV Status -->\n",
       "<g id=\"node1\" class=\"node\">\n",
       "<title>HIV Status</title>\n",
       "<g id=\"a_node1\"><a xlink:title=\"(0) HIV Status\">\n",
       "<ellipse fill=\"#404040\" stroke=\"black\" cx=\"51.35\" cy=\"-306\" rx=\"51.19\" ry=\"18\"/>\n",
       "<text text-anchor=\"middle\" x=\"51.35\" y=\"-302.3\" font-family=\"Times New Roman,serif\" font-size=\"14.00\" fill=\"white\">HIV Status</text>\n",
       "</a>\n",
       "</g>\n",
       "</g>\n",
       "<!-- HIV Result -->\n",
       "<g id=\"node2\" class=\"node\">\n",
       "<title>HIV Result</title>\n",
       "<g id=\"a_node2\"><a xlink:title=\"(1) HIV Result\">\n",
       "<ellipse fill=\"#404040\" stroke=\"black\" cx=\"123.35\" cy=\"-234\" rx=\"51.99\" ry=\"18\"/>\n",
       "<text text-anchor=\"middle\" x=\"123.35\" y=\"-230.3\" font-family=\"Times New Roman,serif\" font-size=\"14.00\" fill=\"white\">HIV Result</text>\n",
       "</a>\n",
       "</g>\n",
       "</g>\n",
       "<!-- HIV Status&#45;&gt;HIV Result -->\n",
       "<g id=\"edge8\" class=\"edge\">\n",
       "<title>HIV Status-&gt;HIV Result</title>\n",
       "<g id=\"a_edge8\"><a xlink:title=\"(0, 1) : \">\n",
       "<path fill=\"none\" stroke=\"#4a4a4a\" d=\"M68.04,-288.76C77.4,-279.66 89.24,-268.16 99.55,-258.13\"/>\n",
       "<polygon fill=\"#4a4a4a\" stroke=\"#4a4a4a\" points=\"102.01,-260.63 106.74,-251.15 97.13,-255.61 102.01,-260.63\"/>\n",
       "</a>\n",
       "</g>\n",
       "</g>\n",
       "<!-- QALE -->\n",
       "<g id=\"node7\" class=\"node\">\n",
       "<title>QALE</title>\n",
       "<g id=\"a_node7\"><a xlink:title=\"(6) QALE\">\n",
       "<ellipse fill=\"#404040\" stroke=\"black\" cx=\"137.35\" cy=\"-18\" rx=\"34.39\" ry=\"18\"/>\n",
       "<text text-anchor=\"middle\" x=\"137.35\" y=\"-14.3\" font-family=\"Times New Roman,serif\" font-size=\"14.00\" fill=\"white\">QALE</text>\n",
       "</a>\n",
       "</g>\n",
       "</g>\n",
       "<!-- HIV Status&#45;&gt;QALE -->\n",
       "<g id=\"edge2\" class=\"edge\">\n",
       "<title>HIV Status-&gt;QALE</title>\n",
       "<g id=\"a_edge2\"><a xlink:title=\"(0, 6) : \">\n",
       "<path fill=\"none\" stroke=\"#4a4a4a\" d=\"M47.36,-287.85C38.91,-247.33 23.03,-143.73 62.35,-72 71.17,-55.91 87.22,-43.57 102.22,-34.87\"/>\n",
       "<polygon fill=\"#4a4a4a\" stroke=\"#4a4a4a\" points=\"104.22,-37.76 111.34,-29.91 100.88,-31.61 104.22,-37.76\"/>\n",
       "</a>\n",
       "</g>\n",
       "</g>\n",
       "<!-- Treat?(Yes/No) -->\n",
       "<g id=\"node5\" class=\"node\">\n",
       "<title>Treat?(Yes/No)</title>\n",
       "<g id=\"a_node5\"><a xlink:title=\"(4) Treat?(Yes/No)\">\n",
       "<ellipse fill=\"#404040\" stroke=\"black\" cx=\"171.35\" cy=\"-162\" rx=\"67.69\" ry=\"18\"/>\n",
       "<text text-anchor=\"middle\" x=\"171.35\" y=\"-158.3\" font-family=\"Times New Roman,serif\" font-size=\"14.00\" fill=\"white\">Treat?(Yes/No)</text>\n",
       "</a>\n",
       "</g>\n",
       "</g>\n",
       "<!-- HIV Result&#45;&gt;Treat?(Yes/No) -->\n",
       "<g id=\"edge7\" class=\"edge\">\n",
       "<title>HIV Result-&gt;Treat?(Yes/No)</title>\n",
       "<g id=\"a_edge7\"><a xlink:title=\"(1, 4) : \">\n",
       "<path fill=\"none\" stroke=\"#4a4a4a\" d=\"M134.72,-216.41C140.44,-208.08 147.48,-197.8 153.87,-188.49\"/>\n",
       "<polygon fill=\"#4a4a4a\" stroke=\"#4a4a4a\" points=\"156.95,-190.18 159.72,-179.96 151.18,-186.22 156.95,-190.18\"/>\n",
       "</a>\n",
       "</g>\n",
       "</g>\n",
       "<!-- Compliance with Medical Therapy -->\n",
       "<g id=\"node3\" class=\"node\">\n",
       "<title>Compliance with Medical Therapy</title>\n",
       "<g id=\"a_node3\"><a xlink:title=\"(2) Compliance with Medical Therapy\">\n",
       "<ellipse fill=\"#404040\" stroke=\"black\" cx=\"357.35\" cy=\"-90\" rx=\"135.68\" ry=\"18\"/>\n",
       "<text text-anchor=\"middle\" x=\"357.35\" y=\"-86.3\" font-family=\"Times New Roman,serif\" font-size=\"14.00\" fill=\"white\">Compliance with Medical Therapy</text>\n",
       "</a>\n",
       "</g>\n",
       "</g>\n",
       "<!-- Compliance with Medical Therapy&#45;&gt;QALE -->\n",
       "<g id=\"edge9\" class=\"edge\">\n",
       "<title>Compliance with Medical Therapy-&gt;QALE</title>\n",
       "<g id=\"a_edge9\"><a xlink:title=\"(2, 6) : \">\n",
       "<path fill=\"none\" stroke=\"#4a4a4a\" d=\"M307.7,-73.2C267.73,-60.49 212.37,-42.87 175.75,-31.22\"/>\n",
       "<polygon fill=\"#4a4a4a\" stroke=\"#4a4a4a\" points=\"176.53,-27.79 165.94,-28.1 174.41,-34.47 176.53,-27.79\"/>\n",
       "</a>\n",
       "</g>\n",
       "</g>\n",
       "<!-- Risk Behaviour -->\n",
       "<g id=\"node4\" class=\"node\">\n",
       "<title>Risk Behaviour</title>\n",
       "<g id=\"a_node4\"><a xlink:title=\"(3) Risk Behaviour\">\n",
       "<ellipse fill=\"#404040\" stroke=\"black\" cx=\"137.35\" cy=\"-90\" rx=\"66.09\" ry=\"18\"/>\n",
       "<text text-anchor=\"middle\" x=\"137.35\" y=\"-86.3\" font-family=\"Times New Roman,serif\" font-size=\"14.00\" fill=\"white\">Risk Behaviour</text>\n",
       "</a>\n",
       "</g>\n",
       "</g>\n",
       "<!-- Risk Behaviour&#45;&gt;QALE -->\n",
       "<g id=\"edge4\" class=\"edge\">\n",
       "<title>Risk Behaviour-&gt;QALE</title>\n",
       "<g id=\"a_edge4\"><a xlink:title=\"(3, 6) : \">\n",
       "<path fill=\"none\" stroke=\"#4a4a4a\" d=\"M137.35,-71.7C137.35,-63.98 137.35,-54.71 137.35,-46.11\"/>\n",
       "<polygon fill=\"#4a4a4a\" stroke=\"#4a4a4a\" points=\"140.85,-46.1 137.35,-36.1 133.85,-46.1 140.85,-46.1\"/>\n",
       "</a>\n",
       "</g>\n",
       "</g>\n",
       "<!-- Treat?(Yes/No)&#45;&gt;Compliance with Medical Therapy -->\n",
       "<g id=\"edge6\" class=\"edge\">\n",
       "<title>Treat?(Yes/No)-&gt;Compliance with Medical Therapy</title>\n",
       "<g id=\"a_edge6\"><a xlink:title=\"(4, 2) : \">\n",
       "<path fill=\"none\" stroke=\"#4a4a4a\" d=\"M208.99,-146.83C236.57,-136.45 274.38,-122.23 304.92,-110.73\"/>\n",
       "<polygon fill=\"#4a4a4a\" stroke=\"#4a4a4a\" points=\"306.43,-113.9 314.56,-107.1 303.96,-107.35 306.43,-113.9\"/>\n",
       "</a>\n",
       "</g>\n",
       "</g>\n",
       "<!-- Treat?(Yes/No)&#45;&gt;Risk Behaviour -->\n",
       "<g id=\"edge3\" class=\"edge\">\n",
       "<title>Treat?(Yes/No)-&gt;Risk Behaviour</title>\n",
       "<g id=\"a_edge3\"><a xlink:title=\"(4, 3) : \">\n",
       "<path fill=\"none\" stroke=\"#4a4a4a\" d=\"M163.11,-144.05C159.25,-136.09 154.54,-126.41 150.22,-117.51\"/>\n",
       "<polygon fill=\"#4a4a4a\" stroke=\"#4a4a4a\" points=\"153.25,-115.74 145.74,-108.28 146.96,-118.8 153.25,-115.74\"/>\n",
       "</a>\n",
       "</g>\n",
       "</g>\n",
       "<!-- Screen?(Yes/No) -->\n",
       "<g id=\"node6\" class=\"node\">\n",
       "<title>Screen?(Yes/No)</title>\n",
       "<g id=\"a_node6\"><a xlink:title=\"(5) Screen?(Yes/No)\">\n",
       "<ellipse fill=\"#404040\" stroke=\"black\" cx=\"198.35\" cy=\"-306\" rx=\"73.39\" ry=\"18\"/>\n",
       "<text text-anchor=\"middle\" x=\"198.35\" y=\"-302.3\" font-family=\"Times New Roman,serif\" font-size=\"14.00\" fill=\"white\">Screen?(Yes/No)</text>\n",
       "</a>\n",
       "</g>\n",
       "</g>\n",
       "<!-- Screen?(Yes/No)&#45;&gt;HIV Result -->\n",
       "<g id=\"edge1\" class=\"edge\">\n",
       "<title>Screen?(Yes/No)-&gt;HIV Result</title>\n",
       "<g id=\"a_edge1\"><a xlink:title=\"(5, 1) : \">\n",
       "<path fill=\"none\" stroke=\"#4a4a4a\" d=\"M180.57,-288.41C170.88,-279.37 158.73,-268.03 148.13,-258.13\"/>\n",
       "<polygon fill=\"#4a4a4a\" stroke=\"#4a4a4a\" points=\"150.43,-255.49 140.73,-251.23 145.66,-260.61 150.43,-255.49\"/>\n",
       "</a>\n",
       "</g>\n",
       "</g>\n",
       "<!-- Screen?(Yes/No)&#45;&gt;Treat?(Yes/No) -->\n",
       "<g id=\"edge5\" class=\"edge\">\n",
       "<title>Screen?(Yes/No)-&gt;Treat?(Yes/No)</title>\n",
       "<g id=\"a_edge5\"><a xlink:title=\"(5, 4) : \">\n",
       "<path fill=\"none\" stroke=\"#4a4a4a\" d=\"M196.09,-287.86C193.62,-269.88 189.34,-240.84 184.35,-216 182.64,-207.51 180.49,-198.33 178.44,-190.03\"/>\n",
       "<polygon fill=\"#4a4a4a\" stroke=\"#4a4a4a\" points=\"181.78,-188.94 175.93,-180.1 174.99,-190.66 181.78,-188.94\"/>\n",
       "</a>\n",
       "</g>\n",
       "</g>\n",
       "</g>\n",
       "</svg>"
      ],
      "text/plain": [
       "(gum::BayesNet<double>@0B0FCB58) BN{nodes: 7, arcs: 9, domainSize: 96, dim: 44}"
      ]
     },
     "execution_count": 49,
     "metadata": {},
     "output_type": "execute_result"
    }
   ],
   "source": [
    "HIV1=gum.BayesNet('WaterSprinkler')\n",
    "S=HIV1.add(gum.LabelizedVariable(\"HIV Status\",\"HIV Status\",2))\n",
    "R=HIV1.add(gum.LabelizedVariable(\"HIV Result\",\"HIV Result\",3))\n",
    "C=HIV1.add(gum.LabelizedVariable(\"Compliance with Medical Therapy\",\"Compliance with Medical Therapy\",2))\n",
    "RB=HIV1.add(gum.LabelizedVariable(\"Risk Behaviour\",\"Risk Behaviour\",2))\n",
    "T=HIV1.add(gum.LabelizedVariable(\"Treat?(Yes/No)\",\"Treat?\",2))\n",
    "O=HIV1.add(gum.LabelizedVariable(\"Screen?(Yes/No)\",\"Screen?\",2))\n",
    "Q=HIV1.add(gum.LabelizedVariable(\"QALE\",\"QALE\",1))\n",
    "#Unir nodos\n",
    "HIV1.addArc(S,Q)\n",
    "HIV1.addArc(S,R)\n",
    "HIV1.addArc(R,T)\n",
    "HIV1.addArc(O,R)\n",
    "HIV1.addArc(O,T)\n",
    "HIV1.addArc(T,RB)\n",
    "HIV1.addArc(T,C)\n",
    "HIV1.addArc(RB,Q)\n",
    "HIV1.addArc(C,Q)\n",
    "HIV1"
   ]
  },
  {
   "cell_type": "code",
   "execution_count": 50,
   "metadata": {},
   "outputs": [
    {
     "data": {
      "text/html": [
       "<table style=\"border:1px solid black;\">\n",
       "<tr style='border:1px solid black;color:black;background-color:#808080'><th colspan='2'><center>HIV Status</center></th></tr>\n",
       "<tr><th style='border:1px solid black;border-bottom-style: double;color:black;background-color:#BBBBBB'><center>0</center></th><th style='border:1px solid black;border-bottom-style: double;color:black;background-color:#BBBBBB'><center>1</center></th></tr>\n",
       "<tr><td style='color:black;background-color:#89f464;text-align:right;'>0.9200</td><td style='color:black;background-color:#f48964;text-align:right;'>0.0800</td></tr>\n",
       "</table>"
      ],
      "text/plain": [
       "(gum::Potential<double>@0B1BBEE0) <HIV Status:0> :: 0.92 /<HIV Status:1> :: 0.08"
      ]
     },
     "execution_count": 50,
     "metadata": {},
     "output_type": "execute_result"
    }
   ],
   "source": [
    "HIV1.cpt(S).fillWith([0.92,0.08])"
   ]
  },
  {
   "cell_type": "code",
   "execution_count": 51,
   "metadata": {},
   "outputs": [
    {
     "data": {
      "text/html": [
       "<table style=\"border:1px solid black;\">\n",
       "<tr><th colspan='2'></th><th colspan='3' style='border:1px solid black;color:black;background-color:#808080;'><center>HIV Result</center></th></tr>\n",
       "<tr><th style='border:1px solid black;color:black;background-color:#808080'><center>Screen?(Yes/No)</center></th><th style='border:1px solid black;color:black;background-color:#808080'><center>HIV Status</center></th><th style='border:1px solid black;border-bottom-style: double;color:black;background-color:#BBBBBB'><center>0</center></th><th style='border:1px solid black;border-bottom-style: double;color:black;background-color:#BBBBBB'><center>1</center></th><th style='border:1px solid black;border-bottom-style: double;color:black;background-color:#BBBBBB'><center>2</center></th></tr>\n",
       "<tr><th style='border:1px solid black;color:black;background-color:#BBBBBB;' rowspan = '2'><center>0</center></th><th style='border:1px solid black;color:black;background-color:#BBBBBB'><center>0</center></th><td style='color:black;background-color:#ff7f64;text-align:right;'>0.0000</td><td style='color:black;background-color:#ff7f64;text-align:right;'>0.0000</td><td style='color:black;background-color:#7fff64;text-align:right;'>1.0000</td></tr>\n",
       "<tr><th style='border:1px solid black;color:black;background-color:#BBBBBB'><center>1</center></th><td style='color:black;background-color:#ff7f64;text-align:right;'>0.0000</td><td style='color:black;background-color:#ff7f64;text-align:right;'>0.0000</td><td style='color:black;background-color:#7fff64;text-align:right;'>1.0000</td></tr>\n",
       "<tr><th style='border:1px solid black;color:black;background-color:#BBBBBB;' rowspan = '2'><center>1</center></th><th style='border:1px solid black;color:black;background-color:#BBBBBB'><center>0</center></th><td style='color:black;background-color:#81fc64;text-align:right;'>0.9800</td><td style='color:black;background-color:#fc8164;text-align:right;'>0.0200</td><td style='color:black;background-color:#ff7f64;text-align:right;'>0.0000</td></tr>\n",
       "<tr><th style='border:1px solid black;color:black;background-color:#BBBBBB'><center>1</center></th><td style='color:black;background-color:#fc8164;text-align:right;'>0.0200</td><td style='color:black;background-color:#81fc64;text-align:right;'>0.9800</td><td style='color:black;background-color:#ff7f64;text-align:right;'>0.0000</td></tr>\n",
       "</table>"
      ],
      "text/plain": [
       "(gum::Potential<double>@0B1BC258) <HIV Result:0|HIV Status:0|Screen?(Yes/No):0> :: 0 /<HIV Result:1|HIV Status:0|Screen?(Yes/No):0> :: 0 /<HIV Result:2|HIV Status:0|Screen?(Yes/No):0> :: 1 /<HIV Result:0|HIV Status:1|Screen?(Yes/No):0> :: 0 /<HIV Result:1|HIV Status:1|Screen?(Yes/No):0> :: 0 /<HIV Result:2|HIV Status:1|Screen?(Yes/No):0> :: 1 /<HIV Result:0|HIV Status:0|Screen?(Yes/No):1> :: 0.98 /<HIV Result:1|HIV Status:0|Screen?(Yes/No):1> :: 0.02 /<HIV Result:2|HIV Status:0|Screen?(Yes/No):1> :: 0 /<HIV Result:0|HIV Status:1|Screen?(Yes/No):1> :: 0.02 /<HIV Result:1|HIV Status:1|Screen?(Yes/No):1> :: 0.98 /<HIV Result:2|HIV Status:1|Screen?(Yes/No):1> :: 0"
      ]
     },
     "execution_count": 51,
     "metadata": {},
     "output_type": "execute_result"
    }
   ],
   "source": [
    "HIV1.cpt(R)[{'Screen?(Yes/No)':1,'HIV Status':1}] = [0.02, 0.98,0]\n",
    "HIV1.cpt(R)[{'Screen?(Yes/No)':1,'HIV Status':0}] = [0.98, 0.02,0]\n",
    "HIV1.cpt(R)[{'Screen?(Yes/No)':0,'HIV Status':0}] = [0, 0,1]\n",
    "HIV1.cpt(R)[{'Screen?(Yes/No)':0,'HIV Status':1}] = [0, 0,1]\n",
    "HIV1.cpt(R)"
   ]
  },
  {
   "cell_type": "code",
   "execution_count": 52,
   "metadata": {},
   "outputs": [
    {
     "data": {
      "text/html": [
       "<table style=\"border:1px solid black;\">\n",
       "<tr><th colspan='1'></th><th colspan='2' style='border:1px solid black;color:black;background-color:#808080;'><center>Compliance with Medical Therapy</center></th></tr>\n",
       "<tr><th style='border:1px solid black;color:black;background-color:#808080'><center>Treat?(Yes/No)</center></th><th style='border:1px solid black;border-bottom-style: double;color:black;background-color:#BBBBBB'><center>0</center></th><th style='border:1px solid black;border-bottom-style: double;color:black;background-color:#BBBBBB'><center>1</center></th></tr>\n",
       "<tr><th style='border:1px solid black;color:black;background-color:#BBBBBB'><center>0</center></th><td style='color:black;background-color:#7fff64;text-align:right;'>1.0000</td><td style='color:black;background-color:#ff7f64;text-align:right;'>0.0000</td></tr>\n",
       "<tr><th style='border:1px solid black;color:black;background-color:#BBBBBB'><center>1</center></th><td style='color:black;background-color:#f28b64;text-align:right;'>0.1000</td><td style='color:black;background-color:#8bf264;text-align:right;'>0.9000</td></tr>\n",
       "</table>"
      ],
      "text/plain": [
       "(gum::Potential<double>@0B1BC558) <Compliance with Medical Therapy:0|Treat?(Yes/No):0> :: 1 /<Compliance with Medical Therapy:1|Treat?(Yes/No):0> :: 0 /<Compliance with Medical Therapy:0|Treat?(Yes/No):1> :: 0.1 /<Compliance with Medical Therapy:1|Treat?(Yes/No):1> :: 0.9"
      ]
     },
     "execution_count": 52,
     "metadata": {},
     "output_type": "execute_result"
    }
   ],
   "source": [
    "HIV1.cpt(C)[{'Treat?(Yes/No)':1}] = [ 0.1,0.9]\n",
    "HIV1.cpt(C)[{'Treat?(Yes/No)':0}] = [1,0]\n",
    "HIV1.cpt(C)"
   ]
  },
  {
   "cell_type": "code",
   "execution_count": 53,
   "metadata": {},
   "outputs": [
    {
     "data": {
      "text/html": [
       "<table style=\"border:1px solid black;\">\n",
       "<tr><th colspan='1'></th><th colspan='2' style='border:1px solid black;color:black;background-color:#808080;'><center>Risk Behaviour</center></th></tr>\n",
       "<tr><th style='border:1px solid black;color:black;background-color:#808080'><center>Treat?(Yes/No)</center></th><th style='border:1px solid black;border-bottom-style: double;color:black;background-color:#BBBBBB'><center>0</center></th><th style='border:1px solid black;border-bottom-style: double;color:black;background-color:#BBBBBB'><center>1</center></th></tr>\n",
       "<tr><th style='border:1px solid black;color:black;background-color:#BBBBBB'><center>0</center></th><td style='color:black;background-color:#7fff64;text-align:right;'>1.0000</td><td style='color:black;background-color:#ff7f64;text-align:right;'>0.0000</td></tr>\n",
       "<tr><th style='border:1px solid black;color:black;background-color:#BBBBBB'><center>1</center></th><td style='color:black;background-color:#e59864;text-align:right;'>0.2000</td><td style='color:black;background-color:#98e564;text-align:right;'>0.8000</td></tr>\n",
       "</table>"
      ],
      "text/plain": [
       "(gum::Potential<double>@0B1BC930) <Risk Behaviour:0|Treat?(Yes/No):0> :: 1 /<Risk Behaviour:1|Treat?(Yes/No):0> :: 0 /<Risk Behaviour:0|Treat?(Yes/No):1> :: 0.2 /<Risk Behaviour:1|Treat?(Yes/No):1> :: 0.8"
      ]
     },
     "execution_count": 53,
     "metadata": {},
     "output_type": "execute_result"
    }
   ],
   "source": [
    "HIV1.cpt(RB)[{'Treat?(Yes/No)':1}] = [ 0.2,0.8]\n",
    "HIV1.cpt(RB)[{'Treat?(Yes/No)':0}] = [1,0]\n",
    "HIV1.cpt(RB)"
   ]
  },
  {
   "cell_type": "code",
   "execution_count": 54,
   "metadata": {},
   "outputs": [
    {
     "data": {
      "text/html": [
       "<table style=\"border:1px solid black;\">\n",
       "<tr><th colspan='2'></th><th colspan='2' style='border:1px solid black;color:black;background-color:#808080;'><center>Treat?(Yes/No)</center></th></tr>\n",
       "<tr><th style='border:1px solid black;color:black;background-color:#808080'><center>Screen?(Yes/No)</center></th><th style='border:1px solid black;color:black;background-color:#808080'><center>HIV Result</center></th><th style='border:1px solid black;border-bottom-style: double;color:black;background-color:#BBBBBB'><center>0</center></th><th style='border:1px solid black;border-bottom-style: double;color:black;background-color:#BBBBBB'><center>1</center></th></tr>\n",
       "<tr><th style='border:1px solid black;color:black;background-color:#BBBBBB;' rowspan = '3'><center>0</center></th><th style='border:1px solid black;color:black;background-color:#BBBBBB'><center>0</center></th><td style='color:black;background-color:#f48964;text-align:right;'>0.0833</td><td style='color:black;background-color:#f48964;text-align:right;'>0.0833</td></tr>\n",
       "<tr><th style='border:1px solid black;color:black;background-color:#BBBBBB'><center>1</center></th><td style='color:black;background-color:#f48964;text-align:right;'>0.0833</td><td style='color:black;background-color:#f48964;text-align:right;'>0.0833</td></tr>\n",
       "<tr><th style='border:1px solid black;color:black;background-color:#BBBBBB'><center>2</center></th><td style='color:black;background-color:#f48964;text-align:right;'>0.0833</td><td style='color:black;background-color:#f48964;text-align:right;'>0.0833</td></tr>\n",
       "<tr><th style='border:1px solid black;color:black;background-color:#BBBBBB;' rowspan = '3'><center>1</center></th><th style='border:1px solid black;color:black;background-color:#BBBBBB'><center>0</center></th><td style='color:black;background-color:#f48964;text-align:right;'>0.0833</td><td style='color:black;background-color:#f48964;text-align:right;'>0.0833</td></tr>\n",
       "<tr><th style='border:1px solid black;color:black;background-color:#BBBBBB'><center>1</center></th><td style='color:black;background-color:#f48964;text-align:right;'>0.0833</td><td style='color:black;background-color:#f48964;text-align:right;'>0.0833</td></tr>\n",
       "<tr><th style='border:1px solid black;color:black;background-color:#BBBBBB'><center>2</center></th><td style='color:black;background-color:#f48964;text-align:right;'>0.0833</td><td style='color:black;background-color:#f48964;text-align:right;'>0.0833</td></tr>\n",
       "</table>"
      ],
      "text/plain": [
       "(gum::Potential<double>@0B1BCAC8) <Treat?(Yes/No):0|HIV Result:0|Screen?(Yes/No):0> :: 0.0833333 /<Treat?(Yes/No):1|HIV Result:0|Screen?(Yes/No):0> :: 0.0833333 /<Treat?(Yes/No):0|HIV Result:1|Screen?(Yes/No):0> :: 0.0833333 /<Treat?(Yes/No):1|HIV Result:1|Screen?(Yes/No):0> :: 0.0833333 /<Treat?(Yes/No):0|HIV Result:2|Screen?(Yes/No):0> :: 0.0833333 /<Treat?(Yes/No):1|HIV Result:2|Screen?(Yes/No):0> :: 0.0833333 /<Treat?(Yes/No):0|HIV Result:0|Screen?(Yes/No):1> :: 0.0833333 /<Treat?(Yes/No):1|HIV Result:0|Screen?(Yes/No):1> :: 0.0833333 /<Treat?(Yes/No):0|HIV Result:1|Screen?(Yes/No):1> :: 0.0833333 /<Treat?(Yes/No):1|HIV Result:1|Screen?(Yes/No):1> :: 0.0833333 /<Treat?(Yes/No):0|HIV Result:2|Screen?(Yes/No):1> :: 0.0833333 /<Treat?(Yes/No):1|HIV Result:2|Screen?(Yes/No):1> :: 0.0833333"
      ]
     },
     "execution_count": 54,
     "metadata": {},
     "output_type": "execute_result"
    }
   ],
   "source": [
    "HIV1.cpt(T).fillWith([1/12,1/12,1/12,1/12,1/12,1/12,1/12,1/12,1/12,1/12,1/12,1/12,])"
   ]
  },
  {
   "cell_type": "code",
   "execution_count": 55,
   "metadata": {},
   "outputs": [
    {
     "data": {
      "text/html": [
       "<table style=\"border:1px solid black;\">\n",
       "<tr style='border:1px solid black;color:black;background-color:#808080'><th colspan='2'><center>Screen?(Yes/No)</center></th></tr>\n",
       "<tr><th style='border:1px solid black;border-bottom-style: double;color:black;background-color:#BBBBBB'><center>0</center></th><th style='border:1px solid black;border-bottom-style: double;color:black;background-color:#BBBBBB'><center>1</center></th></tr>\n",
       "<tr><td style='color:black;background-color:#bfbf64;text-align:right;'>0.5000</td><td style='color:black;background-color:#bfbf64;text-align:right;'>0.5000</td></tr>\n",
       "</table>"
      ],
      "text/plain": [
       "(gum::Potential<double>@0B1BC978) <Screen?(Yes/No):0> :: 0.5 /<Screen?(Yes/No):1> :: 0.5"
      ]
     },
     "execution_count": 55,
     "metadata": {},
     "output_type": "execute_result"
    }
   ],
   "source": [
    "HIV1.cpt(O).fillWith([1/2,1/2])"
   ]
  },
  {
   "cell_type": "code",
   "execution_count": 56,
   "metadata": {},
   "outputs": [
    {
     "data": {
      "text/html": [
       "<table style=\"border:1px solid black;\">\n",
       "<tr><th colspan='3'></th><th colspan='1' style='border:1px solid black;color:black;background-color:#808080;'><center>QALE</center></th></tr>\n",
       "<tr><th style='border:1px solid black;color:black;background-color:#808080'><center>Compliance with Medical Therapy</center></th><th style='border:1px solid black;color:black;background-color:#808080'><center>Risk Behaviour</center></th><th style='border:1px solid black;color:black;background-color:#808080'><center>HIV Status</center></th><th style='border:1px solid black;border-bottom-style: double;color:black;background-color:#BBBBBB'><center>0</center></th></tr>\n",
       "<tr><th style='border:1px solid black;color:black;background-color:#BBBBBB;' rowspan = '4'><center>0</center></th><th style='border:1px solid black;color:black;background-color:#BBBBBB;' rowspan = '2'><center>0</center></th><th style='border:1px solid black;color:black;background-color:#BBBBBB'><center>0</center></th><td style='color:black;background-color:#ef8f64;text-align:right;'>0.1250</td></tr>\n",
       "<tr><th style='border:1px solid black;color:black;background-color:#BBBBBB'><center>1</center></th><td style='color:black;background-color:#ef8f64;text-align:right;'>0.1250</td></tr>\n",
       "<tr><th style='border:1px solid black;color:black;background-color:#BBBBBB;' rowspan = '2'><center>1</center></th><th style='border:1px solid black;color:black;background-color:#BBBBBB'><center>0</center></th><td style='color:black;background-color:#ef8f64;text-align:right;'>0.1250</td></tr>\n",
       "<tr><th style='border:1px solid black;color:black;background-color:#BBBBBB'><center>1</center></th><td style='color:black;background-color:#ef8f64;text-align:right;'>0.1250</td></tr>\n",
       "<tr><th style='border:1px solid black;color:black;background-color:#BBBBBB;' rowspan = '4'><center>1</center></th><th style='border:1px solid black;color:black;background-color:#BBBBBB;' rowspan = '2'><center>0</center></th><th style='border:1px solid black;color:black;background-color:#BBBBBB'><center>0</center></th><td style='color:black;background-color:#ef8f64;text-align:right;'>0.1250</td></tr>\n",
       "<tr><th style='border:1px solid black;color:black;background-color:#BBBBBB'><center>1</center></th><td style='color:black;background-color:#ef8f64;text-align:right;'>0.1250</td></tr>\n",
       "<tr><th style='border:1px solid black;color:black;background-color:#BBBBBB;' rowspan = '2'><center>1</center></th><th style='border:1px solid black;color:black;background-color:#BBBBBB'><center>0</center></th><td style='color:black;background-color:#ef8f64;text-align:right;'>0.1250</td></tr>\n",
       "<tr><th style='border:1px solid black;color:black;background-color:#BBBBBB'><center>1</center></th><td style='color:black;background-color:#ef8f64;text-align:right;'>0.1250</td></tr>\n",
       "</table>"
      ],
      "text/plain": [
       "(gum::Potential<double>@0B1BCE58) <QALE:0|HIV Status:0|Risk Behaviour:0|Compliance with Medical Therapy:0> :: 0.125 /<QALE:0|HIV Status:1|Risk Behaviour:0|Compliance with Medical Therapy:0> :: 0.125 /<QALE:0|HIV Status:0|Risk Behaviour:1|Compliance with Medical Therapy:0> :: 0.125 /<QALE:0|HIV Status:1|Risk Behaviour:1|Compliance with Medical Therapy:0> :: 0.125 /<QALE:0|HIV Status:0|Risk Behaviour:0|Compliance with Medical Therapy:1> :: 0.125 /<QALE:0|HIV Status:1|Risk Behaviour:0|Compliance with Medical Therapy:1> :: 0.125 /<QALE:0|HIV Status:0|Risk Behaviour:1|Compliance with Medical Therapy:1> :: 0.125 /<QALE:0|HIV Status:1|Risk Behaviour:1|Compliance with Medical Therapy:1> :: 0.125"
      ]
     },
     "execution_count": 56,
     "metadata": {},
     "output_type": "execute_result"
    }
   ],
   "source": [
    "HIV1.cpt(Q).fillWith([1/8,1/8,1/8,1/8,1/8,1/8,1/8,1/8])"
   ]
  },
  {
   "cell_type": "code",
   "execution_count": 57,
   "metadata": {},
   "outputs": [
    {
     "data": {
      "image/svg+xml": [
       "<svg xmlns=\"http://www.w3.org/2000/svg\" xmlns:xlink=\"http://www.w3.org/1999/xlink\" width=\"339pt\" height=\"360pt\" viewBox=\"0.00 0.00 338.74 360.00\">\n",
       "<g id=\"graph0\" class=\"graph\" transform=\"scale(0.94 0.94) rotate(0) translate(4 377)\">\n",
       "<title>structs</title>\n",
       "<text text-anchor=\"middle\" x=\"175.25\" y=\"-7.8\" font-family=\"Times New Roman,serif\" font-size=\"14.00\" fill=\"#4a4a4a\">Inference in   1.00ms</text>\n",
       "<!-- HIV Status -->\n",
       "<g id=\"node1\" class=\"node\">\n",
       "<title>HIV Status</title>\n",
       "<polygon fill=\"white\" stroke=\"#000000\" points=\"101,-373 0,-373 0,-332 101,-332 101,-373\"/>\n",
       "<svg viewBox=\"0 0 132.1625 52.998125\" width=\"101px\" height=\"41px\" preserveAspectRatio=\"xMinYMin meet\" x=\"0\" y=\"-373\"> <defs>\n",
       "  <style type=\"text/css\">\n",
       "*{stroke-linecap:butt;stroke-linejoin:round;}\n",
       "  </style>\n",
       " </defs>\n",
       " <g id=\"figure_1\">\n",
       "  <g id=\"patch_1\">\n",
       "   <path d=\"M 0 52.998125  L 132.1625 52.998125  L 132.1625 0  L 0 0  z \" style=\"fill:none;\"/>\n",
       "  </g>\n",
       "  <g id=\"axes_1\">\n",
       "   <g id=\"patch_2\">\n",
       "    <path d=\"M 16.9625 45.898125  L 128.5625 45.898125  L 128.5625 18.718125  L 16.9625 18.718125  z \" style=\"fill:none;\"/>\n",
       "   </g>\n",
       "   <g id=\"patch_3\">\n",
       "    <path clip-path=\"url(#pc8fdae4b26)\" d=\"M 16.9625 45.898125  L 25.8905 45.898125  L 25.8905 33.818125  L 16.9625 33.818125  z \" style=\"fill:#8fbc8f;\"/>\n",
       "   </g>\n",
       "   <g id=\"patch_4\">\n",
       "    <path clip-path=\"url(#pc8fdae4b26)\" d=\"M 16.9625 30.798125  L 119.6345 30.798125  L 119.6345 18.718125  L 16.9625 18.718125  z \" style=\"fill:#8fbc8f;\"/>\n",
       "   </g>\n",
       "   <g id=\"matplotlib.axis_1\">\n",
       "    <g id=\"xtick_1\">\n",
       "     <g id=\"line2d_1\">\n",
       "      <path clip-path=\"url(#pc8fdae4b26)\" d=\"M 16.9625 45.898125  L 16.9625 18.718125  \" style=\"fill:none;stroke:#b0b0b0;stroke-linecap:square;stroke-width:0.8;\"/>\n",
       "     </g>\n",
       "     <g id=\"line2d_2\">\n",
       "      <defs>\n",
       "       <path d=\"M 0 0  L 0 3.5  \" id=\"md4b3b5d603\" style=\"stroke:#000000;stroke-width:0.8;\"/>\n",
       "      </defs>\n",
       "      <g>\n",
       "       <use style=\"stroke:#000000;stroke-width:0.8;\" x=\"16.9625\" xlink:href=\"#md4b3b5d603\" y=\"45.898125\"/>\n",
       "      </g>\n",
       "     </g>\n",
       "    </g>\n",
       "    <g id=\"xtick_2\">\n",
       "     <g id=\"line2d_3\">\n",
       "      <path clip-path=\"url(#pc8fdae4b26)\" d=\"M 72.7625 45.898125  L 72.7625 18.718125  \" style=\"fill:none;stroke:#b0b0b0;stroke-linecap:square;stroke-width:0.8;\"/>\n",
       "     </g>\n",
       "     <g id=\"line2d_4\">\n",
       "      <g>\n",
       "       <use style=\"stroke:#000000;stroke-width:0.8;\" x=\"72.7625\" xlink:href=\"#md4b3b5d603\" y=\"45.898125\"/>\n",
       "      </g>\n",
       "     </g>\n",
       "    </g>\n",
       "    <g id=\"xtick_3\">\n",
       "     <g id=\"line2d_5\">\n",
       "      <path clip-path=\"url(#pc8fdae4b26)\" d=\"M 128.5625 45.898125  L 128.5625 18.718125  \" style=\"fill:none;stroke:#b0b0b0;stroke-linecap:square;stroke-width:0.8;\"/>\n",
       "     </g>\n",
       "     <g id=\"line2d_6\">\n",
       "      <g>\n",
       "       <use style=\"stroke:#000000;stroke-width:0.8;\" x=\"128.5625\" xlink:href=\"#md4b3b5d603\" y=\"45.898125\"/>\n",
       "      </g>\n",
       "     </g>\n",
       "    </g>\n",
       "   </g>\n",
       "   <g id=\"matplotlib.axis_2\">\n",
       "    <g id=\"ytick_1\">\n",
       "     <g id=\"line2d_7\">\n",
       "      <defs>\n",
       "       <path d=\"M 0 0  L -3.5 0  \" id=\"m507601c299\" style=\"stroke:#000000;stroke-width:0.8;\"/>\n",
       "      </defs>\n",
       "      <g>\n",
       "       <use style=\"stroke:#000000;stroke-width:0.8;\" x=\"16.9625\" xlink:href=\"#m507601c299\" y=\"39.858125\"/>\n",
       "      </g>\n",
       "     </g>\n",
       "     <g id=\"text_1\">\n",
       "      <!-- 1 -->\n",
       "      <defs>\n",
       "       <path d=\"M 12.40625 8.296875  L 28.515625 8.296875  L 28.515625 63.921875  L 10.984375 60.40625  L 10.984375 69.390625  L 28.421875 72.90625  L 38.28125 72.90625  L 38.28125 8.296875  L 54.390625 8.296875  L 54.390625 0  L 12.40625 0  z \" id=\"DejaVuSans-49\"/>\n",
       "      </defs>\n",
       "      <g transform=\"translate(3.6 43.657344)scale(0.1 -0.1)\">\n",
       "       <use xlink:href=\"#DejaVuSans-49\"/>\n",
       "      </g>\n",
       "     </g>\n",
       "    </g>\n",
       "    <g id=\"ytick_2\">\n",
       "     <g id=\"line2d_8\">\n",
       "      <g>\n",
       "       <use style=\"stroke:#000000;stroke-width:0.8;\" x=\"16.9625\" xlink:href=\"#m507601c299\" y=\"24.758125\"/>\n",
       "      </g>\n",
       "     </g>\n",
       "     <g id=\"text_2\">\n",
       "      <!-- 0 -->\n",
       "      <defs>\n",
       "       <path d=\"M 31.78125 66.40625  Q 24.171875 66.40625 20.328125 58.90625  Q 16.5 51.421875 16.5 36.375  Q 16.5 21.390625 20.328125 13.890625  Q 24.171875 6.390625 31.78125 6.390625  Q 39.453125 6.390625 43.28125 13.890625  Q 47.125 21.390625 47.125 36.375  Q 47.125 51.421875 43.28125 58.90625  Q 39.453125 66.40625 31.78125 66.40625  z M 31.78125 74.21875  Q 44.046875 74.21875 50.515625 64.515625  Q 56.984375 54.828125 56.984375 36.375  Q 56.984375 17.96875 50.515625 8.265625  Q 44.046875 -1.421875 31.78125 -1.421875  Q 19.53125 -1.421875 13.0625 8.265625  Q 6.59375 17.96875 6.59375 36.375  Q 6.59375 54.828125 13.0625 64.515625  Q 19.53125 74.21875 31.78125 74.21875  z \" id=\"DejaVuSans-48\"/>\n",
       "      </defs>\n",
       "      <g transform=\"translate(3.6 28.557344)scale(0.1 -0.1)\">\n",
       "       <use xlink:href=\"#DejaVuSans-48\"/>\n",
       "      </g>\n",
       "     </g>\n",
       "    </g>\n",
       "   </g>\n",
       "   <g id=\"patch_5\">\n",
       "    <path d=\"M 16.9625 45.898125  L 16.9625 18.718125  \" style=\"fill:none;stroke:#000000;stroke-linecap:square;stroke-linejoin:miter;stroke-width:0.8;\"/>\n",
       "   </g>\n",
       "   <g id=\"patch_6\">\n",
       "    <path d=\"M 128.5625 45.898125  L 128.5625 18.718125  \" style=\"fill:none;stroke:#000000;stroke-linecap:square;stroke-linejoin:miter;stroke-width:0.8;\"/>\n",
       "   </g>\n",
       "   <g id=\"patch_7\">\n",
       "    <path d=\"M 16.9625 45.898125  L 128.5625 45.898125  \" style=\"fill:none;stroke:#000000;stroke-linecap:square;stroke-linejoin:miter;stroke-width:0.8;\"/>\n",
       "   </g>\n",
       "   <g id=\"patch_8\">\n",
       "    <path d=\"M 16.9625 18.718125  L 128.5625 18.718125  \" style=\"fill:none;stroke:#000000;stroke-linecap:square;stroke-linejoin:miter;stroke-width:0.8;\"/>\n",
       "   </g>\n",
       "   <g id=\"text_3\">\n",
       "    <!-- 8.00% -->\n",
       "    <defs>\n",
       "     <path d=\"M 31.78125 34.625  Q 24.75 34.625 20.71875 30.859375  Q 16.703125 27.09375 16.703125 20.515625  Q 16.703125 13.921875 20.71875 10.15625  Q 24.75 6.390625 31.78125 6.390625  Q 38.8125 6.390625 42.859375 10.171875  Q 46.921875 13.96875 46.921875 20.515625  Q 46.921875 27.09375 42.890625 30.859375  Q 38.875 34.625 31.78125 34.625  z M 21.921875 38.8125  Q 15.578125 40.375 12.03125 44.71875  Q 8.5 49.078125 8.5 55.328125  Q 8.5 64.0625 14.71875 69.140625  Q 20.953125 74.21875 31.78125 74.21875  Q 42.671875 74.21875 48.875 69.140625  Q 55.078125 64.0625 55.078125 55.328125  Q 55.078125 49.078125 51.53125 44.71875  Q 48 40.375 41.703125 38.8125  Q 48.828125 37.15625 52.796875 32.3125  Q 56.78125 27.484375 56.78125 20.515625  Q 56.78125 9.90625 50.3125 4.234375  Q 43.84375 -1.421875 31.78125 -1.421875  Q 19.734375 -1.421875 13.25 4.234375  Q 6.78125 9.90625 6.78125 20.515625  Q 6.78125 27.484375 10.78125 32.3125  Q 14.796875 37.15625 21.921875 38.8125  z M 18.3125 54.390625  Q 18.3125 48.734375 21.84375 45.5625  Q 25.390625 42.390625 31.78125 42.390625  Q 38.140625 42.390625 41.71875 45.5625  Q 45.3125 48.734375 45.3125 54.390625  Q 45.3125 60.0625 41.71875 63.234375  Q 38.140625 66.40625 31.78125 66.40625  Q 25.390625 66.40625 21.84375 63.234375  Q 18.3125 60.0625 18.3125 54.390625  z \" id=\"DejaVuSans-56\"/>\n",
       "     <path d=\"M 10.6875 12.40625  L 21 12.40625  L 21 0  L 10.6875 0  z \" id=\"DejaVuSans-46\"/>\n",
       "     <path d=\"M 72.703125 32.078125  Q 68.453125 32.078125 66.03125 28.46875  Q 63.625 24.859375 63.625 18.40625  Q 63.625 12.0625 66.03125 8.421875  Q 68.453125 4.78125 72.703125 4.78125  Q 76.859375 4.78125 79.265625 8.421875  Q 81.6875 12.0625 81.6875 18.40625  Q 81.6875 24.8125 79.265625 28.4375  Q 76.859375 32.078125 72.703125 32.078125  z M 72.703125 38.28125  Q 80.421875 38.28125 84.953125 32.90625  Q 89.5 27.546875 89.5 18.40625  Q 89.5 9.28125 84.9375 3.921875  Q 80.375 -1.421875 72.703125 -1.421875  Q 64.890625 -1.421875 60.34375 3.921875  Q 55.8125 9.28125 55.8125 18.40625  Q 55.8125 27.59375 60.375 32.9375  Q 64.9375 38.28125 72.703125 38.28125  z M 22.3125 68.015625  Q 18.109375 68.015625 15.6875 64.375  Q 13.28125 60.75 13.28125 54.390625  Q 13.28125 47.953125 15.671875 44.328125  Q 18.0625 40.71875 22.3125 40.71875  Q 26.5625 40.71875 28.96875 44.328125  Q 31.390625 47.953125 31.390625 54.390625  Q 31.390625 60.6875 28.953125 64.34375  Q 26.515625 68.015625 22.3125 68.015625  z M 66.40625 74.21875  L 74.21875 74.21875  L 28.609375 -1.421875  L 20.796875 -1.421875  z M 22.3125 74.21875  Q 30.03125 74.21875 34.609375 68.875  Q 39.203125 63.53125 39.203125 54.390625  Q 39.203125 45.171875 34.640625 39.84375  Q 30.078125 34.515625 22.3125 34.515625  Q 14.546875 34.515625 10.03125 39.859375  Q 5.515625 45.21875 5.515625 54.390625  Q 5.515625 63.484375 10.046875 68.84375  Q 14.59375 74.21875 22.3125 74.21875  z \" id=\"DejaVuSans-37\"/>\n",
       "    </defs>\n",
       "    <g transform=\"translate(96.795312 43.818437)scale(0.1 -0.1)\">\n",
       "     <use xlink:href=\"#DejaVuSans-56\"/>\n",
       "     <use x=\"63.623047\" xlink:href=\"#DejaVuSans-46\"/>\n",
       "     <use x=\"95.410156\" xlink:href=\"#DejaVuSans-48\"/>\n",
       "     <use x=\"159.033203\" xlink:href=\"#DejaVuSans-48\"/>\n",
       "     <use x=\"222.65625\" xlink:href=\"#DejaVuSans-37\"/>\n",
       "    </g>\n",
       "   </g>\n",
       "   <g id=\"text_4\">\n",
       "    <!-- 92.00% -->\n",
       "    <defs>\n",
       "     <path d=\"M 10.984375 1.515625  L 10.984375 10.5  Q 14.703125 8.734375 18.5 7.8125  Q 22.3125 6.890625 25.984375 6.890625  Q 35.75 6.890625 40.890625 13.453125  Q 46.046875 20.015625 46.78125 33.40625  Q 43.953125 29.203125 39.59375 26.953125  Q 35.25 24.703125 29.984375 24.703125  Q 19.046875 24.703125 12.671875 31.3125  Q 6.296875 37.9375 6.296875 49.421875  Q 6.296875 60.640625 12.9375 67.421875  Q 19.578125 74.21875 30.609375 74.21875  Q 43.265625 74.21875 49.921875 64.515625  Q 56.59375 54.828125 56.59375 36.375  Q 56.59375 19.140625 48.40625 8.859375  Q 40.234375 -1.421875 26.421875 -1.421875  Q 22.703125 -1.421875 18.890625 -0.6875  Q 15.09375 0.046875 10.984375 1.515625  z M 30.609375 32.421875  Q 37.25 32.421875 41.125 36.953125  Q 45.015625 41.5 45.015625 49.421875  Q 45.015625 57.28125 41.125 61.84375  Q 37.25 66.40625 30.609375 66.40625  Q 23.96875 66.40625 20.09375 61.84375  Q 16.21875 57.28125 16.21875 49.421875  Q 16.21875 41.5 20.09375 36.953125  Q 23.96875 32.421875 30.609375 32.421875  z \" id=\"DejaVuSans-57\"/>\n",
       "     <path d=\"M 19.1875 8.296875  L 53.609375 8.296875  L 53.609375 0  L 7.328125 0  L 7.328125 8.296875  Q 12.9375 14.109375 22.625 23.890625  Q 32.328125 33.6875 34.8125 36.53125  Q 39.546875 41.84375 41.421875 45.53125  Q 43.3125 49.21875 43.3125 52.78125  Q 43.3125 58.59375 39.234375 62.25  Q 35.15625 65.921875 28.609375 65.921875  Q 23.96875 65.921875 18.8125 64.3125  Q 13.671875 62.703125 7.8125 59.421875  L 7.8125 69.390625  Q 13.765625 71.78125 18.9375 73  Q 24.125 74.21875 28.421875 74.21875  Q 39.75 74.21875 46.484375 68.546875  Q 53.21875 62.890625 53.21875 53.421875  Q 53.21875 48.921875 51.53125 44.890625  Q 49.859375 40.875 45.40625 35.40625  Q 44.1875 33.984375 37.640625 27.21875  Q 31.109375 20.453125 19.1875 8.296875  z \" id=\"DejaVuSans-50\"/>\n",
       "    </defs>\n",
       "    <g transform=\"translate(90.432812 28.718437)scale(0.1 -0.1)\">\n",
       "     <use xlink:href=\"#DejaVuSans-57\"/>\n",
       "     <use x=\"63.623047\" xlink:href=\"#DejaVuSans-50\"/>\n",
       "     <use x=\"127.246094\" xlink:href=\"#DejaVuSans-46\"/>\n",
       "     <use x=\"159.033203\" xlink:href=\"#DejaVuSans-48\"/>\n",
       "     <use x=\"222.65625\" xlink:href=\"#DejaVuSans-48\"/>\n",
       "     <use x=\"286.279297\" xlink:href=\"#DejaVuSans-37\"/>\n",
       "    </g>\n",
       "   </g>\n",
       "   <g id=\"text_5\">\n",
       "    <!-- HIV Status -->\n",
       "    <defs>\n",
       "     <path d=\"M 9.8125 72.90625  L 19.671875 72.90625  L 19.671875 43.015625  L 55.515625 43.015625  L 55.515625 72.90625  L 65.375 72.90625  L 65.375 0  L 55.515625 0  L 55.515625 34.71875  L 19.671875 34.71875  L 19.671875 0  L 9.8125 0  z \" id=\"DejaVuSans-72\"/>\n",
       "     <path d=\"M 9.8125 72.90625  L 19.671875 72.90625  L 19.671875 0  L 9.8125 0  z \" id=\"DejaVuSans-73\"/>\n",
       "     <path d=\"M 28.609375 0  L 0.78125 72.90625  L 11.078125 72.90625  L 34.1875 11.53125  L 57.328125 72.90625  L 67.578125 72.90625  L 39.796875 0  z \" id=\"DejaVuSans-86\"/>\n",
       "     <path id=\"DejaVuSans-32\"/>\n",
       "     <path d=\"M 53.515625 70.515625  L 53.515625 60.890625  Q 47.90625 63.578125 42.921875 64.890625  Q 37.9375 66.21875 33.296875 66.21875  Q 25.25 66.21875 20.875 63.09375  Q 16.5 59.96875 16.5 54.203125  Q 16.5 49.359375 19.40625 46.890625  Q 22.3125 44.4375 30.421875 42.921875  L 36.375 41.703125  Q 47.40625 39.59375 52.65625 34.296875  Q 57.90625 29 57.90625 20.125  Q 57.90625 9.515625 50.796875 4.046875  Q 43.703125 -1.421875 29.984375 -1.421875  Q 24.8125 -1.421875 18.96875 -0.25  Q 13.140625 0.921875 6.890625 3.21875  L 6.890625 13.375  Q 12.890625 10.015625 18.65625 8.296875  Q 24.421875 6.59375 29.984375 6.59375  Q 38.421875 6.59375 43.015625 9.90625  Q 47.609375 13.234375 47.609375 19.390625  Q 47.609375 24.75 44.3125 27.78125  Q 41.015625 30.8125 33.5 32.328125  L 27.484375 33.5  Q 16.453125 35.6875 11.515625 40.375  Q 6.59375 45.0625 6.59375 53.421875  Q 6.59375 63.09375 13.40625 68.65625  Q 20.21875 74.21875 32.171875 74.21875  Q 37.3125 74.21875 42.625 73.28125  Q 47.953125 72.359375 53.515625 70.515625  z \" id=\"DejaVuSans-83\"/>\n",
       "     <path d=\"M 18.3125 70.21875  L 18.3125 54.6875  L 36.8125 54.6875  L 36.8125 47.703125  L 18.3125 47.703125  L 18.3125 18.015625  Q 18.3125 11.328125 20.140625 9.421875  Q 21.96875 7.515625 27.59375 7.515625  L 36.8125 7.515625  L 36.8125 0  L 27.59375 0  Q 17.1875 0 13.234375 3.875  Q 9.28125 7.765625 9.28125 18.015625  L 9.28125 47.703125  L 2.6875 47.703125  L 2.6875 54.6875  L 9.28125 54.6875  L 9.28125 70.21875  z \" id=\"DejaVuSans-116\"/>\n",
       "     <path d=\"M 34.28125 27.484375  Q 23.390625 27.484375 19.1875 25  Q 14.984375 22.515625 14.984375 16.5  Q 14.984375 11.71875 18.140625 8.90625  Q 21.296875 6.109375 26.703125 6.109375  Q 34.1875 6.109375 38.703125 11.40625  Q 43.21875 16.703125 43.21875 25.484375  L 43.21875 27.484375  z M 52.203125 31.203125  L 52.203125 0  L 43.21875 0  L 43.21875 8.296875  Q 40.140625 3.328125 35.546875 0.953125  Q 30.953125 -1.421875 24.3125 -1.421875  Q 15.921875 -1.421875 10.953125 3.296875  Q 6 8.015625 6 15.921875  Q 6 25.140625 12.171875 29.828125  Q 18.359375 34.515625 30.609375 34.515625  L 43.21875 34.515625  L 43.21875 35.40625  Q 43.21875 41.609375 39.140625 45  Q 35.0625 48.390625 27.6875 48.390625  Q 23 48.390625 18.546875 47.265625  Q 14.109375 46.140625 10.015625 43.890625  L 10.015625 52.203125  Q 14.9375 54.109375 19.578125 55.046875  Q 24.21875 56 28.609375 56  Q 40.484375 56 46.34375 49.84375  Q 52.203125 43.703125 52.203125 31.203125  z \" id=\"DejaVuSans-97\"/>\n",
       "     <path d=\"M 8.5 21.578125  L 8.5 54.6875  L 17.484375 54.6875  L 17.484375 21.921875  Q 17.484375 14.15625 20.5 10.265625  Q 23.53125 6.390625 29.59375 6.390625  Q 36.859375 6.390625 41.078125 11.03125  Q 45.3125 15.671875 45.3125 23.6875  L 45.3125 54.6875  L 54.296875 54.6875  L 54.296875 0  L 45.3125 0  L 45.3125 8.40625  Q 42.046875 3.421875 37.71875 1  Q 33.40625 -1.421875 27.6875 -1.421875  Q 18.265625 -1.421875 13.375 4.4375  Q 8.5 10.296875 8.5 21.578125  z M 31.109375 56  z \" id=\"DejaVuSans-117\"/>\n",
       "     <path d=\"M 44.28125 53.078125  L 44.28125 44.578125  Q 40.484375 46.53125 36.375 47.5  Q 32.28125 48.484375 27.875 48.484375  Q 21.1875 48.484375 17.84375 46.4375  Q 14.5 44.390625 14.5 40.28125  Q 14.5 37.15625 16.890625 35.375  Q 19.28125 33.59375 26.515625 31.984375  L 29.59375 31.296875  Q 39.15625 29.25 43.1875 25.515625  Q 47.21875 21.78125 47.21875 15.09375  Q 47.21875 7.46875 41.1875 3.015625  Q 35.15625 -1.421875 24.609375 -1.421875  Q 20.21875 -1.421875 15.453125 -0.5625  Q 10.6875 0.296875 5.421875 2  L 5.421875 11.28125  Q 10.40625 8.6875 15.234375 7.390625  Q 20.0625 6.109375 24.8125 6.109375  Q 31.15625 6.109375 34.5625 8.28125  Q 37.984375 10.453125 37.984375 14.40625  Q 37.984375 18.0625 35.515625 20.015625  Q 33.0625 21.96875 24.703125 23.78125  L 21.578125 24.515625  Q 13.234375 26.265625 9.515625 29.90625  Q 5.8125 33.546875 5.8125 39.890625  Q 5.8125 47.609375 11.28125 51.796875  Q 16.75 56 26.8125 56  Q 31.78125 56 36.171875 55.265625  Q 40.578125 54.546875 44.28125 53.078125  z \" id=\"DejaVuSans-115\"/>\n",
       "    </defs>\n",
       "    <g transform=\"translate(41.350625 12.718125)scale(0.12 -0.12)\">\n",
       "     <use xlink:href=\"#DejaVuSans-72\"/>\n",
       "     <use x=\"75.195312\" xlink:href=\"#DejaVuSans-73\"/>\n",
       "     <use x=\"104.6875\" xlink:href=\"#DejaVuSans-86\"/>\n",
       "     <use x=\"173.095703\" xlink:href=\"#DejaVuSans-32\"/>\n",
       "     <use x=\"204.882812\" xlink:href=\"#DejaVuSans-83\"/>\n",
       "     <use x=\"268.359375\" xlink:href=\"#DejaVuSans-116\"/>\n",
       "     <use x=\"307.568359\" xlink:href=\"#DejaVuSans-97\"/>\n",
       "     <use x=\"368.847656\" xlink:href=\"#DejaVuSans-116\"/>\n",
       "     <use x=\"408.056641\" xlink:href=\"#DejaVuSans-117\"/>\n",
       "     <use x=\"471.435547\" xlink:href=\"#DejaVuSans-115\"/>\n",
       "    </g>\n",
       "   </g>\n",
       "  </g>\n",
       " </g>\n",
       " <defs>\n",
       "  <clipPath id=\"pc8fdae4b26\">\n",
       "   <rect height=\"27.18\" width=\"111.6\" x=\"16.9625\" y=\"18.718125\"/>\n",
       "  </clipPath>\n",
       " </defs>\n",
       "</svg>\n",
       "\n",
       "</g>\n",
       "<!-- HIV Result -->\n",
       "<g id=\"node2\" class=\"node\">\n",
       "<title>HIV Result</title>\n",
       "<polygon fill=\"white\" stroke=\"#000000\" points=\"172,-296 71,-296 71,-244 172,-244 172,-296\"/>\n",
       "<svg viewBox=\"0 0 132.1625 66.588125\" width=\"101px\" height=\"52px\" preserveAspectRatio=\"xMinYMin meet\" x=\"71\" y=\"-296\"> <defs>\n",
       "  <style type=\"text/css\">\n",
       "*{stroke-linecap:butt;stroke-linejoin:round;}\n",
       "  </style>\n",
       " </defs>\n",
       " <g id=\"figure_1\">\n",
       "  <g id=\"patch_1\">\n",
       "   <path d=\"M 0 66.588125  L 132.1625 66.588125  L 132.1625 0  L 0 0  z \" style=\"fill:none;\"/>\n",
       "  </g>\n",
       "  <g id=\"axes_1\">\n",
       "   <g id=\"patch_2\">\n",
       "    <path d=\"M 16.9625 59.488125  L 128.5625 59.488125  L 128.5625 18.718125  L 16.9625 18.718125  z \" style=\"fill:none;\"/>\n",
       "   </g>\n",
       "   <g id=\"patch_3\">\n",
       "    <path clip-path=\"url(#p1114a3d126)\" d=\"M 16.9625 59.488125  L 72.7625 59.488125  L 72.7625 47.839554  L 16.9625 47.839554  z \" style=\"fill:#8fbc8f;\"/>\n",
       "   </g>\n",
       "   <g id=\"patch_4\">\n",
       "    <path clip-path=\"url(#p1114a3d126)\" d=\"M 16.9625 44.927411  L 22.36394 44.927411  L 22.36394 33.278839  L 16.9625 33.278839  z \" style=\"fill:#8fbc8f;\"/>\n",
       "   </g>\n",
       "   <g id=\"patch_5\">\n",
       "    <path clip-path=\"url(#p1114a3d126)\" d=\"M 16.9625 30.366696  L 67.36106 30.366696  L 67.36106 18.718125  L 16.9625 18.718125  z \" style=\"fill:#8fbc8f;\"/>\n",
       "   </g>\n",
       "   <g id=\"matplotlib.axis_1\">\n",
       "    <g id=\"xtick_1\">\n",
       "     <g id=\"line2d_1\">\n",
       "      <path clip-path=\"url(#p1114a3d126)\" d=\"M 16.9625 59.488125  L 16.9625 18.718125  \" style=\"fill:none;stroke:#b0b0b0;stroke-linecap:square;stroke-width:0.8;\"/>\n",
       "     </g>\n",
       "     <g id=\"line2d_2\">\n",
       "      <defs>\n",
       "       <path d=\"M 0 0  L 0 3.5  \" id=\"m5ffd5d7b17\" style=\"stroke:#000000;stroke-width:0.8;\"/>\n",
       "      </defs>\n",
       "      <g>\n",
       "       <use style=\"stroke:#000000;stroke-width:0.8;\" x=\"16.9625\" xlink:href=\"#m5ffd5d7b17\" y=\"59.488125\"/>\n",
       "      </g>\n",
       "     </g>\n",
       "    </g>\n",
       "    <g id=\"xtick_2\">\n",
       "     <g id=\"line2d_3\">\n",
       "      <path clip-path=\"url(#p1114a3d126)\" d=\"M 72.7625 59.488125  L 72.7625 18.718125  \" style=\"fill:none;stroke:#b0b0b0;stroke-linecap:square;stroke-width:0.8;\"/>\n",
       "     </g>\n",
       "     <g id=\"line2d_4\">\n",
       "      <g>\n",
       "       <use style=\"stroke:#000000;stroke-width:0.8;\" x=\"72.7625\" xlink:href=\"#m5ffd5d7b17\" y=\"59.488125\"/>\n",
       "      </g>\n",
       "     </g>\n",
       "    </g>\n",
       "    <g id=\"xtick_3\">\n",
       "     <g id=\"line2d_5\">\n",
       "      <path clip-path=\"url(#p1114a3d126)\" d=\"M 128.5625 59.488125  L 128.5625 18.718125  \" style=\"fill:none;stroke:#b0b0b0;stroke-linecap:square;stroke-width:0.8;\"/>\n",
       "     </g>\n",
       "     <g id=\"line2d_6\">\n",
       "      <g>\n",
       "       <use style=\"stroke:#000000;stroke-width:0.8;\" x=\"128.5625\" xlink:href=\"#m5ffd5d7b17\" y=\"59.488125\"/>\n",
       "      </g>\n",
       "     </g>\n",
       "    </g>\n",
       "   </g>\n",
       "   <g id=\"matplotlib.axis_2\">\n",
       "    <g id=\"ytick_1\">\n",
       "     <g id=\"line2d_7\">\n",
       "      <defs>\n",
       "       <path d=\"M 0 0  L -3.5 0  \" id=\"mf9f09ec0f6\" style=\"stroke:#000000;stroke-width:0.8;\"/>\n",
       "      </defs>\n",
       "      <g>\n",
       "       <use style=\"stroke:#000000;stroke-width:0.8;\" x=\"16.9625\" xlink:href=\"#mf9f09ec0f6\" y=\"53.663839\"/>\n",
       "      </g>\n",
       "     </g>\n",
       "     <g id=\"text_1\">\n",
       "      <!-- 2 -->\n",
       "      <defs>\n",
       "       <path d=\"M 19.1875 8.296875  L 53.609375 8.296875  L 53.609375 0  L 7.328125 0  L 7.328125 8.296875  Q 12.9375 14.109375 22.625 23.890625  Q 32.328125 33.6875 34.8125 36.53125  Q 39.546875 41.84375 41.421875 45.53125  Q 43.3125 49.21875 43.3125 52.78125  Q 43.3125 58.59375 39.234375 62.25  Q 35.15625 65.921875 28.609375 65.921875  Q 23.96875 65.921875 18.8125 64.3125  Q 13.671875 62.703125 7.8125 59.421875  L 7.8125 69.390625  Q 13.765625 71.78125 18.9375 73  Q 24.125 74.21875 28.421875 74.21875  Q 39.75 74.21875 46.484375 68.546875  Q 53.21875 62.890625 53.21875 53.421875  Q 53.21875 48.921875 51.53125 44.890625  Q 49.859375 40.875 45.40625 35.40625  Q 44.1875 33.984375 37.640625 27.21875  Q 31.109375 20.453125 19.1875 8.296875  z \" id=\"DejaVuSans-50\"/>\n",
       "      </defs>\n",
       "      <g transform=\"translate(3.6 57.463058)scale(0.1 -0.1)\">\n",
       "       <use xlink:href=\"#DejaVuSans-50\"/>\n",
       "      </g>\n",
       "     </g>\n",
       "    </g>\n",
       "    <g id=\"ytick_2\">\n",
       "     <g id=\"line2d_8\">\n",
       "      <g>\n",
       "       <use style=\"stroke:#000000;stroke-width:0.8;\" x=\"16.9625\" xlink:href=\"#mf9f09ec0f6\" y=\"39.103125\"/>\n",
       "      </g>\n",
       "     </g>\n",
       "     <g id=\"text_2\">\n",
       "      <!-- 1 -->\n",
       "      <defs>\n",
       "       <path d=\"M 12.40625 8.296875  L 28.515625 8.296875  L 28.515625 63.921875  L 10.984375 60.40625  L 10.984375 69.390625  L 28.421875 72.90625  L 38.28125 72.90625  L 38.28125 8.296875  L 54.390625 8.296875  L 54.390625 0  L 12.40625 0  z \" id=\"DejaVuSans-49\"/>\n",
       "      </defs>\n",
       "      <g transform=\"translate(3.6 42.902344)scale(0.1 -0.1)\">\n",
       "       <use xlink:href=\"#DejaVuSans-49\"/>\n",
       "      </g>\n",
       "     </g>\n",
       "    </g>\n",
       "    <g id=\"ytick_3\">\n",
       "     <g id=\"line2d_9\">\n",
       "      <g>\n",
       "       <use style=\"stroke:#000000;stroke-width:0.8;\" x=\"16.9625\" xlink:href=\"#mf9f09ec0f6\" y=\"24.542411\"/>\n",
       "      </g>\n",
       "     </g>\n",
       "     <g id=\"text_3\">\n",
       "      <!-- 0 -->\n",
       "      <defs>\n",
       "       <path d=\"M 31.78125 66.40625  Q 24.171875 66.40625 20.328125 58.90625  Q 16.5 51.421875 16.5 36.375  Q 16.5 21.390625 20.328125 13.890625  Q 24.171875 6.390625 31.78125 6.390625  Q 39.453125 6.390625 43.28125 13.890625  Q 47.125 21.390625 47.125 36.375  Q 47.125 51.421875 43.28125 58.90625  Q 39.453125 66.40625 31.78125 66.40625  z M 31.78125 74.21875  Q 44.046875 74.21875 50.515625 64.515625  Q 56.984375 54.828125 56.984375 36.375  Q 56.984375 17.96875 50.515625 8.265625  Q 44.046875 -1.421875 31.78125 -1.421875  Q 19.53125 -1.421875 13.0625 8.265625  Q 6.59375 17.96875 6.59375 36.375  Q 6.59375 54.828125 13.0625 64.515625  Q 19.53125 74.21875 31.78125 74.21875  z \" id=\"DejaVuSans-48\"/>\n",
       "      </defs>\n",
       "      <g transform=\"translate(3.6 28.341629)scale(0.1 -0.1)\">\n",
       "       <use xlink:href=\"#DejaVuSans-48\"/>\n",
       "      </g>\n",
       "     </g>\n",
       "    </g>\n",
       "   </g>\n",
       "   <g id=\"patch_6\">\n",
       "    <path d=\"M 16.9625 59.488125  L 16.9625 18.718125  \" style=\"fill:none;stroke:#000000;stroke-linecap:square;stroke-linejoin:miter;stroke-width:0.8;\"/>\n",
       "   </g>\n",
       "   <g id=\"patch_7\">\n",
       "    <path d=\"M 128.5625 59.488125  L 128.5625 18.718125  \" style=\"fill:none;stroke:#000000;stroke-linecap:square;stroke-linejoin:miter;stroke-width:0.8;\"/>\n",
       "   </g>\n",
       "   <g id=\"patch_8\">\n",
       "    <path d=\"M 16.9625 59.488125  L 128.5625 59.488125  \" style=\"fill:none;stroke:#000000;stroke-linecap:square;stroke-linejoin:miter;stroke-width:0.8;\"/>\n",
       "   </g>\n",
       "   <g id=\"patch_9\">\n",
       "    <path d=\"M 16.9625 18.718125  L 128.5625 18.718125  \" style=\"fill:none;stroke:#000000;stroke-linecap:square;stroke-linejoin:miter;stroke-width:0.8;\"/>\n",
       "   </g>\n",
       "   <g id=\"text_4\">\n",
       "    <!-- 50.00% -->\n",
       "    <defs>\n",
       "     <path d=\"M 10.796875 72.90625  L 49.515625 72.90625  L 49.515625 64.59375  L 19.828125 64.59375  L 19.828125 46.734375  Q 21.96875 47.46875 24.109375 47.828125  Q 26.265625 48.1875 28.421875 48.1875  Q 40.625 48.1875 47.75 41.5  Q 54.890625 34.8125 54.890625 23.390625  Q 54.890625 11.625 47.5625 5.09375  Q 40.234375 -1.421875 26.90625 -1.421875  Q 22.3125 -1.421875 17.546875 -0.640625  Q 12.796875 0.140625 7.71875 1.703125  L 7.71875 11.625  Q 12.109375 9.234375 16.796875 8.0625  Q 21.484375 6.890625 26.703125 6.890625  Q 35.15625 6.890625 40.078125 11.328125  Q 45.015625 15.765625 45.015625 23.390625  Q 45.015625 31 40.078125 35.4375  Q 35.15625 39.890625 26.703125 39.890625  Q 22.75 39.890625 18.8125 39.015625  Q 14.890625 38.140625 10.796875 36.28125  z \" id=\"DejaVuSans-53\"/>\n",
       "     <path d=\"M 10.6875 12.40625  L 21 12.40625  L 21 0  L 10.6875 0  z \" id=\"DejaVuSans-46\"/>\n",
       "     <path d=\"M 72.703125 32.078125  Q 68.453125 32.078125 66.03125 28.46875  Q 63.625 24.859375 63.625 18.40625  Q 63.625 12.0625 66.03125 8.421875  Q 68.453125 4.78125 72.703125 4.78125  Q 76.859375 4.78125 79.265625 8.421875  Q 81.6875 12.0625 81.6875 18.40625  Q 81.6875 24.8125 79.265625 28.4375  Q 76.859375 32.078125 72.703125 32.078125  z M 72.703125 38.28125  Q 80.421875 38.28125 84.953125 32.90625  Q 89.5 27.546875 89.5 18.40625  Q 89.5 9.28125 84.9375 3.921875  Q 80.375 -1.421875 72.703125 -1.421875  Q 64.890625 -1.421875 60.34375 3.921875  Q 55.8125 9.28125 55.8125 18.40625  Q 55.8125 27.59375 60.375 32.9375  Q 64.9375 38.28125 72.703125 38.28125  z M 22.3125 68.015625  Q 18.109375 68.015625 15.6875 64.375  Q 13.28125 60.75 13.28125 54.390625  Q 13.28125 47.953125 15.671875 44.328125  Q 18.0625 40.71875 22.3125 40.71875  Q 26.5625 40.71875 28.96875 44.328125  Q 31.390625 47.953125 31.390625 54.390625  Q 31.390625 60.6875 28.953125 64.34375  Q 26.515625 68.015625 22.3125 68.015625  z M 66.40625 74.21875  L 74.21875 74.21875  L 28.609375 -1.421875  L 20.796875 -1.421875  z M 22.3125 74.21875  Q 30.03125 74.21875 34.609375 68.875  Q 39.203125 63.53125 39.203125 54.390625  Q 39.203125 45.171875 34.640625 39.84375  Q 30.078125 34.515625 22.3125 34.515625  Q 14.546875 34.515625 10.03125 39.859375  Q 5.515625 45.21875 5.515625 54.390625  Q 5.515625 63.484375 10.046875 68.84375  Q 14.59375 74.21875 22.3125 74.21875  z \" id=\"DejaVuSans-37\"/>\n",
       "    </defs>\n",
       "    <g transform=\"translate(90.432812 57.408438)scale(0.1 -0.1)\">\n",
       "     <use xlink:href=\"#DejaVuSans-53\"/>\n",
       "     <use x=\"63.623047\" xlink:href=\"#DejaVuSans-48\"/>\n",
       "     <use x=\"127.246094\" xlink:href=\"#DejaVuSans-46\"/>\n",
       "     <use x=\"159.033203\" xlink:href=\"#DejaVuSans-48\"/>\n",
       "     <use x=\"222.65625\" xlink:href=\"#DejaVuSans-48\"/>\n",
       "     <use x=\"286.279297\" xlink:href=\"#DejaVuSans-37\"/>\n",
       "    </g>\n",
       "   </g>\n",
       "   <g id=\"text_5\">\n",
       "    <!-- 4.84% -->\n",
       "    <defs>\n",
       "     <path d=\"M 37.796875 64.3125  L 12.890625 25.390625  L 37.796875 25.390625  z M 35.203125 72.90625  L 47.609375 72.90625  L 47.609375 25.390625  L 58.015625 25.390625  L 58.015625 17.1875  L 47.609375 17.1875  L 47.609375 0  L 37.796875 0  L 37.796875 17.1875  L 4.890625 17.1875  L 4.890625 26.703125  z \" id=\"DejaVuSans-52\"/>\n",
       "     <path d=\"M 31.78125 34.625  Q 24.75 34.625 20.71875 30.859375  Q 16.703125 27.09375 16.703125 20.515625  Q 16.703125 13.921875 20.71875 10.15625  Q 24.75 6.390625 31.78125 6.390625  Q 38.8125 6.390625 42.859375 10.171875  Q 46.921875 13.96875 46.921875 20.515625  Q 46.921875 27.09375 42.890625 30.859375  Q 38.875 34.625 31.78125 34.625  z M 21.921875 38.8125  Q 15.578125 40.375 12.03125 44.71875  Q 8.5 49.078125 8.5 55.328125  Q 8.5 64.0625 14.71875 69.140625  Q 20.953125 74.21875 31.78125 74.21875  Q 42.671875 74.21875 48.875 69.140625  Q 55.078125 64.0625 55.078125 55.328125  Q 55.078125 49.078125 51.53125 44.71875  Q 48 40.375 41.703125 38.8125  Q 48.828125 37.15625 52.796875 32.3125  Q 56.78125 27.484375 56.78125 20.515625  Q 56.78125 9.90625 50.3125 4.234375  Q 43.84375 -1.421875 31.78125 -1.421875  Q 19.734375 -1.421875 13.25 4.234375  Q 6.78125 9.90625 6.78125 20.515625  Q 6.78125 27.484375 10.78125 32.3125  Q 14.796875 37.15625 21.921875 38.8125  z M 18.3125 54.390625  Q 18.3125 48.734375 21.84375 45.5625  Q 25.390625 42.390625 31.78125 42.390625  Q 38.140625 42.390625 41.71875 45.5625  Q 45.3125 48.734375 45.3125 54.390625  Q 45.3125 60.0625 41.71875 63.234375  Q 38.140625 66.40625 31.78125 66.40625  Q 25.390625 66.40625 21.84375 63.234375  Q 18.3125 60.0625 18.3125 54.390625  z \" id=\"DejaVuSans-56\"/>\n",
       "    </defs>\n",
       "    <g transform=\"translate(96.795312 42.847723)scale(0.1 -0.1)\">\n",
       "     <use xlink:href=\"#DejaVuSans-52\"/>\n",
       "     <use x=\"63.623047\" xlink:href=\"#DejaVuSans-46\"/>\n",
       "     <use x=\"95.410156\" xlink:href=\"#DejaVuSans-56\"/>\n",
       "     <use x=\"159.033203\" xlink:href=\"#DejaVuSans-52\"/>\n",
       "     <use x=\"222.65625\" xlink:href=\"#DejaVuSans-37\"/>\n",
       "    </g>\n",
       "   </g>\n",
       "   <g id=\"text_6\">\n",
       "    <!-- 45.16% -->\n",
       "    <defs>\n",
       "     <path d=\"M 33.015625 40.375  Q 26.375 40.375 22.484375 35.828125  Q 18.609375 31.296875 18.609375 23.390625  Q 18.609375 15.53125 22.484375 10.953125  Q 26.375 6.390625 33.015625 6.390625  Q 39.65625 6.390625 43.53125 10.953125  Q 47.40625 15.53125 47.40625 23.390625  Q 47.40625 31.296875 43.53125 35.828125  Q 39.65625 40.375 33.015625 40.375  z M 52.59375 71.296875  L 52.59375 62.3125  Q 48.875 64.0625 45.09375 64.984375  Q 41.3125 65.921875 37.59375 65.921875  Q 27.828125 65.921875 22.671875 59.328125  Q 17.53125 52.734375 16.796875 39.40625  Q 19.671875 43.65625 24.015625 45.921875  Q 28.375 48.1875 33.59375 48.1875  Q 44.578125 48.1875 50.953125 41.515625  Q 57.328125 34.859375 57.328125 23.390625  Q 57.328125 12.15625 50.6875 5.359375  Q 44.046875 -1.421875 33.015625 -1.421875  Q 20.359375 -1.421875 13.671875 8.265625  Q 6.984375 17.96875 6.984375 36.375  Q 6.984375 53.65625 15.1875 63.9375  Q 23.390625 74.21875 37.203125 74.21875  Q 40.921875 74.21875 44.703125 73.484375  Q 48.484375 72.75 52.59375 71.296875  z \" id=\"DejaVuSans-54\"/>\n",
       "    </defs>\n",
       "    <g transform=\"translate(90.432812 28.287009)scale(0.1 -0.1)\">\n",
       "     <use xlink:href=\"#DejaVuSans-52\"/>\n",
       "     <use x=\"63.623047\" xlink:href=\"#DejaVuSans-53\"/>\n",
       "     <use x=\"127.246094\" xlink:href=\"#DejaVuSans-46\"/>\n",
       "     <use x=\"159.033203\" xlink:href=\"#DejaVuSans-49\"/>\n",
       "     <use x=\"222.65625\" xlink:href=\"#DejaVuSans-54\"/>\n",
       "     <use x=\"286.279297\" xlink:href=\"#DejaVuSans-37\"/>\n",
       "    </g>\n",
       "   </g>\n",
       "   <g id=\"text_7\">\n",
       "    <!-- HIV Result -->\n",
       "    <defs>\n",
       "     <path d=\"M 9.8125 72.90625  L 19.671875 72.90625  L 19.671875 43.015625  L 55.515625 43.015625  L 55.515625 72.90625  L 65.375 72.90625  L 65.375 0  L 55.515625 0  L 55.515625 34.71875  L 19.671875 34.71875  L 19.671875 0  L 9.8125 0  z \" id=\"DejaVuSans-72\"/>\n",
       "     <path d=\"M 9.8125 72.90625  L 19.671875 72.90625  L 19.671875 0  L 9.8125 0  z \" id=\"DejaVuSans-73\"/>\n",
       "     <path d=\"M 28.609375 0  L 0.78125 72.90625  L 11.078125 72.90625  L 34.1875 11.53125  L 57.328125 72.90625  L 67.578125 72.90625  L 39.796875 0  z \" id=\"DejaVuSans-86\"/>\n",
       "     <path id=\"DejaVuSans-32\"/>\n",
       "     <path d=\"M 44.390625 34.1875  Q 47.5625 33.109375 50.5625 29.59375  Q 53.5625 26.078125 56.59375 19.921875  L 66.609375 0  L 56 0  L 46.6875 18.703125  Q 43.0625 26.03125 39.671875 28.421875  Q 36.28125 30.8125 30.421875 30.8125  L 19.671875 30.8125  L 19.671875 0  L 9.8125 0  L 9.8125 72.90625  L 32.078125 72.90625  Q 44.578125 72.90625 50.734375 67.671875  Q 56.890625 62.453125 56.890625 51.90625  Q 56.890625 45.015625 53.6875 40.46875  Q 50.484375 35.9375 44.390625 34.1875  z M 19.671875 64.796875  L 19.671875 38.921875  L 32.078125 38.921875  Q 39.203125 38.921875 42.84375 42.21875  Q 46.484375 45.515625 46.484375 51.90625  Q 46.484375 58.296875 42.84375 61.546875  Q 39.203125 64.796875 32.078125 64.796875  z \" id=\"DejaVuSans-82\"/>\n",
       "     <path d=\"M 56.203125 29.59375  L 56.203125 25.203125  L 14.890625 25.203125  Q 15.484375 15.921875 20.484375 11.0625  Q 25.484375 6.203125 34.421875 6.203125  Q 39.59375 6.203125 44.453125 7.46875  Q 49.3125 8.734375 54.109375 11.28125  L 54.109375 2.78125  Q 49.265625 0.734375 44.1875 -0.34375  Q 39.109375 -1.421875 33.890625 -1.421875  Q 20.796875 -1.421875 13.15625 6.1875  Q 5.515625 13.8125 5.515625 26.8125  Q 5.515625 40.234375 12.765625 48.109375  Q 20.015625 56 32.328125 56  Q 43.359375 56 49.78125 48.890625  Q 56.203125 41.796875 56.203125 29.59375  z M 47.21875 32.234375  Q 47.125 39.59375 43.09375 43.984375  Q 39.0625 48.390625 32.421875 48.390625  Q 24.90625 48.390625 20.390625 44.140625  Q 15.875 39.890625 15.1875 32.171875  z \" id=\"DejaVuSans-101\"/>\n",
       "     <path d=\"M 44.28125 53.078125  L 44.28125 44.578125  Q 40.484375 46.53125 36.375 47.5  Q 32.28125 48.484375 27.875 48.484375  Q 21.1875 48.484375 17.84375 46.4375  Q 14.5 44.390625 14.5 40.28125  Q 14.5 37.15625 16.890625 35.375  Q 19.28125 33.59375 26.515625 31.984375  L 29.59375 31.296875  Q 39.15625 29.25 43.1875 25.515625  Q 47.21875 21.78125 47.21875 15.09375  Q 47.21875 7.46875 41.1875 3.015625  Q 35.15625 -1.421875 24.609375 -1.421875  Q 20.21875 -1.421875 15.453125 -0.5625  Q 10.6875 0.296875 5.421875 2  L 5.421875 11.28125  Q 10.40625 8.6875 15.234375 7.390625  Q 20.0625 6.109375 24.8125 6.109375  Q 31.15625 6.109375 34.5625 8.28125  Q 37.984375 10.453125 37.984375 14.40625  Q 37.984375 18.0625 35.515625 20.015625  Q 33.0625 21.96875 24.703125 23.78125  L 21.578125 24.515625  Q 13.234375 26.265625 9.515625 29.90625  Q 5.8125 33.546875 5.8125 39.890625  Q 5.8125 47.609375 11.28125 51.796875  Q 16.75 56 26.8125 56  Q 31.78125 56 36.171875 55.265625  Q 40.578125 54.546875 44.28125 53.078125  z \" id=\"DejaVuSans-115\"/>\n",
       "     <path d=\"M 8.5 21.578125  L 8.5 54.6875  L 17.484375 54.6875  L 17.484375 21.921875  Q 17.484375 14.15625 20.5 10.265625  Q 23.53125 6.390625 29.59375 6.390625  Q 36.859375 6.390625 41.078125 11.03125  Q 45.3125 15.671875 45.3125 23.6875  L 45.3125 54.6875  L 54.296875 54.6875  L 54.296875 0  L 45.3125 0  L 45.3125 8.40625  Q 42.046875 3.421875 37.71875 1  Q 33.40625 -1.421875 27.6875 -1.421875  Q 18.265625 -1.421875 13.375 4.4375  Q 8.5 10.296875 8.5 21.578125  z M 31.109375 56  z \" id=\"DejaVuSans-117\"/>\n",
       "     <path d=\"M 9.421875 75.984375  L 18.40625 75.984375  L 18.40625 0  L 9.421875 0  z \" id=\"DejaVuSans-108\"/>\n",
       "     <path d=\"M 18.3125 70.21875  L 18.3125 54.6875  L 36.8125 54.6875  L 36.8125 47.703125  L 18.3125 47.703125  L 18.3125 18.015625  Q 18.3125 11.328125 20.140625 9.421875  Q 21.96875 7.515625 27.59375 7.515625  L 36.8125 7.515625  L 36.8125 0  L 27.59375 0  Q 17.1875 0 13.234375 3.875  Q 9.28125 7.765625 9.28125 18.015625  L 9.28125 47.703125  L 2.6875 47.703125  L 2.6875 54.6875  L 9.28125 54.6875  L 9.28125 70.21875  z \" id=\"DejaVuSans-116\"/>\n",
       "    </defs>\n",
       "    <g transform=\"translate(41.930937 12.718125)scale(0.12 -0.12)\">\n",
       "     <use xlink:href=\"#DejaVuSans-72\"/>\n",
       "     <use x=\"75.195312\" xlink:href=\"#DejaVuSans-73\"/>\n",
       "     <use x=\"104.6875\" xlink:href=\"#DejaVuSans-86\"/>\n",
       "     <use x=\"173.095703\" xlink:href=\"#DejaVuSans-32\"/>\n",
       "     <use x=\"204.882812\" xlink:href=\"#DejaVuSans-82\"/>\n",
       "     <use x=\"269.865234\" xlink:href=\"#DejaVuSans-101\"/>\n",
       "     <use x=\"331.388672\" xlink:href=\"#DejaVuSans-115\"/>\n",
       "     <use x=\"383.488281\" xlink:href=\"#DejaVuSans-117\"/>\n",
       "     <use x=\"446.867188\" xlink:href=\"#DejaVuSans-108\"/>\n",
       "     <use x=\"474.650391\" xlink:href=\"#DejaVuSans-116\"/>\n",
       "    </g>\n",
       "   </g>\n",
       "  </g>\n",
       " </g>\n",
       " <defs>\n",
       "  <clipPath id=\"p1114a3d126\">\n",
       "   <rect height=\"40.77\" width=\"111.6\" x=\"16.9625\" y=\"18.718125\"/>\n",
       "  </clipPath>\n",
       " </defs>\n",
       "</svg>\n",
       "\n",
       "</g>\n",
       "<!-- HIV Status&#45;&gt;HIV Result -->\n",
       "<g id=\"edge8\" class=\"edge\">\n",
       "<title>HIV Status-&gt;HIV Result</title>\n",
       "<g id=\"a_edge8\"><a xlink:title=\"(0, 1):\">\n",
       "<path fill=\"none\" stroke=\"#4a4a4a\" d=\"M68.05,-331.6C75.43,-323.23 84.21,-313.28 92.5,-303.87\"/>\n",
       "<polygon fill=\"#4a4a4a\" stroke=\"#4a4a4a\" points=\"95.32,-305.97 99.31,-296.16 90.07,-301.34 95.32,-305.97\"/>\n",
       "</a>\n",
       "</g>\n",
       "</g>\n",
       "<!-- QALE -->\n",
       "<g id=\"node7\" class=\"node\">\n",
       "<title>QALE</title>\n",
       "<ellipse fill=\"#404040\" stroke=\"#000000\" cx=\"121.5\" cy=\"-41\" rx=\"34.39\" ry=\"18\"/>\n",
       "<text text-anchor=\"middle\" x=\"121.5\" y=\"-37.3\" font-family=\"Times New Roman,serif\" font-size=\"14.00\" fill=\"white\">QALE</text>\n",
       "</g>\n",
       "<!-- HIV Status&#45;&gt;QALE -->\n",
       "<g id=\"edge2\" class=\"edge\">\n",
       "<title>HIV Status-&gt;QALE</title>\n",
       "<g id=\"a_edge2\"><a xlink:title=\"(0, 6):\">\n",
       "<path fill=\"none\" stroke=\"#4a4a4a\" d=\"M46.4,-331.93C38.07,-287.31 23.03,-175.66 61.5,-95 68,-81.37 79.79,-69.77 91.21,-60.92\"/>\n",
       "<polygon fill=\"#4a4a4a\" stroke=\"#4a4a4a\" points=\"93.35,-63.69 99.37,-54.98 89.23,-58.03 93.35,-63.69\"/>\n",
       "</a>\n",
       "</g>\n",
       "</g>\n",
       "<!-- Treat?(Yes/No) -->\n",
       "<g id=\"node5\" class=\"node\">\n",
       "<title>Treat?(Yes/No)</title>\n",
       "<ellipse fill=\"#404040\" stroke=\"#000000\" cx=\"169.5\" cy=\"-190\" rx=\"67.69\" ry=\"18\"/>\n",
       "<text text-anchor=\"middle\" x=\"169.5\" y=\"-186.3\" font-family=\"Times New Roman,serif\" font-size=\"14.00\" fill=\"white\">Treat?(Yes/No)</text>\n",
       "</g>\n",
       "<!-- HIV Result&#45;&gt;Treat?(Yes/No) -->\n",
       "<g id=\"edge7\" class=\"edge\">\n",
       "<title>HIV Result-&gt;Treat?(Yes/No)</title>\n",
       "<g id=\"a_edge7\"><a xlink:title=\"(1, 4):\">\n",
       "<path fill=\"none\" stroke=\"#4a4a4a\" d=\"M136.95,-243.89C142.32,-235.16 148.35,-225.37 153.74,-216.61\"/>\n",
       "<polygon fill=\"#4a4a4a\" stroke=\"#4a4a4a\" points=\"156.82,-218.28 159.08,-207.93 150.86,-214.61 156.82,-218.28\"/>\n",
       "</a>\n",
       "</g>\n",
       "</g>\n",
       "<!-- Compliance with Medical Therapy -->\n",
       "<g id=\"node3\" class=\"node\">\n",
       "<title>Compliance with Medical Therapy</title>\n",
       "<polygon fill=\"white\" stroke=\"#000000\" points=\"350.5,-136 190.5,-136 190.5,-95 350.5,-95 350.5,-136\"/>\n",
       "<svg viewBox=\"0 0 210.035625 52.998125\" width=\"160px\" height=\"41px\" preserveAspectRatio=\"xMinYMin meet\" x=\"190.5\" y=\"-136\"> <defs>\n",
       "  <style type=\"text/css\">\n",
       "*{stroke-linecap:butt;stroke-linejoin:round;}\n",
       "  </style>\n",
       " </defs>\n",
       " <g id=\"figure_1\">\n",
       "  <g id=\"patch_1\">\n",
       "   <path d=\"M 0 52.998125  L 210.035625 52.998125  L 210.035625 0  L 0 0  z \" style=\"fill:none;\"/>\n",
       "  </g>\n",
       "  <g id=\"axes_1\">\n",
       "   <g id=\"patch_2\">\n",
       "    <path d=\"M 49.217812 45.898125  L 160.817813 45.898125  L 160.817813 18.718125  L 49.217812 18.718125  z \" style=\"fill:none;\"/>\n",
       "   </g>\n",
       "   <g id=\"patch_3\">\n",
       "    <path clip-path=\"url(#pc583ca3d6f)\" d=\"M 49.217812 45.898125  L 99.437813 45.898125  L 99.437813 33.818125  L 49.217812 33.818125  z \" style=\"fill:#8fbc8f;\"/>\n",
       "   </g>\n",
       "   <g id=\"patch_4\">\n",
       "    <path clip-path=\"url(#pc583ca3d6f)\" d=\"M 49.217812 30.798125  L 110.597813 30.798125  L 110.597813 18.718125  L 49.217812 18.718125  z \" style=\"fill:#8fbc8f;\"/>\n",
       "   </g>\n",
       "   <g id=\"matplotlib.axis_1\">\n",
       "    <g id=\"xtick_1\">\n",
       "     <g id=\"line2d_1\">\n",
       "      <path clip-path=\"url(#pc583ca3d6f)\" d=\"M 49.217812 45.898125  L 49.217812 18.718125  \" style=\"fill:none;stroke:#b0b0b0;stroke-linecap:square;stroke-width:0.8;\"/>\n",
       "     </g>\n",
       "     <g id=\"line2d_2\">\n",
       "      <defs>\n",
       "       <path d=\"M 0 0  L 0 3.5  \" id=\"m98a136dcd0\" style=\"stroke:#000000;stroke-width:0.8;\"/>\n",
       "      </defs>\n",
       "      <g>\n",
       "       <use style=\"stroke:#000000;stroke-width:0.8;\" x=\"49.217812\" xlink:href=\"#m98a136dcd0\" y=\"45.898125\"/>\n",
       "      </g>\n",
       "     </g>\n",
       "    </g>\n",
       "    <g id=\"xtick_2\">\n",
       "     <g id=\"line2d_3\">\n",
       "      <path clip-path=\"url(#pc583ca3d6f)\" d=\"M 105.017812 45.898125  L 105.017812 18.718125  \" style=\"fill:none;stroke:#b0b0b0;stroke-linecap:square;stroke-width:0.8;\"/>\n",
       "     </g>\n",
       "     <g id=\"line2d_4\">\n",
       "      <g>\n",
       "       <use style=\"stroke:#000000;stroke-width:0.8;\" x=\"105.017812\" xlink:href=\"#m98a136dcd0\" y=\"45.898125\"/>\n",
       "      </g>\n",
       "     </g>\n",
       "    </g>\n",
       "    <g id=\"xtick_3\">\n",
       "     <g id=\"line2d_5\">\n",
       "      <path clip-path=\"url(#pc583ca3d6f)\" d=\"M 160.817813 45.898125  L 160.817813 18.718125  \" style=\"fill:none;stroke:#b0b0b0;stroke-linecap:square;stroke-width:0.8;\"/>\n",
       "     </g>\n",
       "     <g id=\"line2d_6\">\n",
       "      <g>\n",
       "       <use style=\"stroke:#000000;stroke-width:0.8;\" x=\"160.817813\" xlink:href=\"#m98a136dcd0\" y=\"45.898125\"/>\n",
       "      </g>\n",
       "     </g>\n",
       "    </g>\n",
       "   </g>\n",
       "   <g id=\"matplotlib.axis_2\">\n",
       "    <g id=\"ytick_1\">\n",
       "     <g id=\"line2d_7\">\n",
       "      <defs>\n",
       "       <path d=\"M 0 0  L -3.5 0  \" id=\"m70a7e7258d\" style=\"stroke:#000000;stroke-width:0.8;\"/>\n",
       "      </defs>\n",
       "      <g>\n",
       "       <use style=\"stroke:#000000;stroke-width:0.8;\" x=\"49.217812\" xlink:href=\"#m70a7e7258d\" y=\"39.858125\"/>\n",
       "      </g>\n",
       "     </g>\n",
       "     <g id=\"text_1\">\n",
       "      <!-- 1 -->\n",
       "      <defs>\n",
       "       <path d=\"M 12.40625 8.296875  L 28.515625 8.296875  L 28.515625 63.921875  L 10.984375 60.40625  L 10.984375 69.390625  L 28.421875 72.90625  L 38.28125 72.90625  L 38.28125 8.296875  L 54.390625 8.296875  L 54.390625 0  L 12.40625 0  z \" id=\"DejaVuSans-49\"/>\n",
       "      </defs>\n",
       "      <g transform=\"translate(35.855312 43.657344)scale(0.1 -0.1)\">\n",
       "       <use xlink:href=\"#DejaVuSans-49\"/>\n",
       "      </g>\n",
       "     </g>\n",
       "    </g>\n",
       "    <g id=\"ytick_2\">\n",
       "     <g id=\"line2d_8\">\n",
       "      <g>\n",
       "       <use style=\"stroke:#000000;stroke-width:0.8;\" x=\"49.217812\" xlink:href=\"#m70a7e7258d\" y=\"24.758125\"/>\n",
       "      </g>\n",
       "     </g>\n",
       "     <g id=\"text_2\">\n",
       "      <!-- 0 -->\n",
       "      <defs>\n",
       "       <path d=\"M 31.78125 66.40625  Q 24.171875 66.40625 20.328125 58.90625  Q 16.5 51.421875 16.5 36.375  Q 16.5 21.390625 20.328125 13.890625  Q 24.171875 6.390625 31.78125 6.390625  Q 39.453125 6.390625 43.28125 13.890625  Q 47.125 21.390625 47.125 36.375  Q 47.125 51.421875 43.28125 58.90625  Q 39.453125 66.40625 31.78125 66.40625  z M 31.78125 74.21875  Q 44.046875 74.21875 50.515625 64.515625  Q 56.984375 54.828125 56.984375 36.375  Q 56.984375 17.96875 50.515625 8.265625  Q 44.046875 -1.421875 31.78125 -1.421875  Q 19.53125 -1.421875 13.0625 8.265625  Q 6.59375 17.96875 6.59375 36.375  Q 6.59375 54.828125 13.0625 64.515625  Q 19.53125 74.21875 31.78125 74.21875  z \" id=\"DejaVuSans-48\"/>\n",
       "      </defs>\n",
       "      <g transform=\"translate(35.855312 28.557344)scale(0.1 -0.1)\">\n",
       "       <use xlink:href=\"#DejaVuSans-48\"/>\n",
       "      </g>\n",
       "     </g>\n",
       "    </g>\n",
       "   </g>\n",
       "   <g id=\"patch_5\">\n",
       "    <path d=\"M 49.217812 45.898125  L 49.217812 18.718125  \" style=\"fill:none;stroke:#000000;stroke-linecap:square;stroke-linejoin:miter;stroke-width:0.8;\"/>\n",
       "   </g>\n",
       "   <g id=\"patch_6\">\n",
       "    <path d=\"M 160.817813 45.898125  L 160.817813 18.718125  \" style=\"fill:none;stroke:#000000;stroke-linecap:square;stroke-linejoin:miter;stroke-width:0.8;\"/>\n",
       "   </g>\n",
       "   <g id=\"patch_7\">\n",
       "    <path d=\"M 49.217812 45.898125  L 160.817813 45.898125  \" style=\"fill:none;stroke:#000000;stroke-linecap:square;stroke-linejoin:miter;stroke-width:0.8;\"/>\n",
       "   </g>\n",
       "   <g id=\"patch_8\">\n",
       "    <path d=\"M 49.217812 18.718125  L 160.817813 18.718125  \" style=\"fill:none;stroke:#000000;stroke-linecap:square;stroke-linejoin:miter;stroke-width:0.8;\"/>\n",
       "   </g>\n",
       "   <g id=\"text_3\">\n",
       "    <!-- 45.00% -->\n",
       "    <defs>\n",
       "     <path d=\"M 37.796875 64.3125  L 12.890625 25.390625  L 37.796875 25.390625  z M 35.203125 72.90625  L 47.609375 72.90625  L 47.609375 25.390625  L 58.015625 25.390625  L 58.015625 17.1875  L 47.609375 17.1875  L 47.609375 0  L 37.796875 0  L 37.796875 17.1875  L 4.890625 17.1875  L 4.890625 26.703125  z \" id=\"DejaVuSans-52\"/>\n",
       "     <path d=\"M 10.796875 72.90625  L 49.515625 72.90625  L 49.515625 64.59375  L 19.828125 64.59375  L 19.828125 46.734375  Q 21.96875 47.46875 24.109375 47.828125  Q 26.265625 48.1875 28.421875 48.1875  Q 40.625 48.1875 47.75 41.5  Q 54.890625 34.8125 54.890625 23.390625  Q 54.890625 11.625 47.5625 5.09375  Q 40.234375 -1.421875 26.90625 -1.421875  Q 22.3125 -1.421875 17.546875 -0.640625  Q 12.796875 0.140625 7.71875 1.703125  L 7.71875 11.625  Q 12.109375 9.234375 16.796875 8.0625  Q 21.484375 6.890625 26.703125 6.890625  Q 35.15625 6.890625 40.078125 11.328125  Q 45.015625 15.765625 45.015625 23.390625  Q 45.015625 31 40.078125 35.4375  Q 35.15625 39.890625 26.703125 39.890625  Q 22.75 39.890625 18.8125 39.015625  Q 14.890625 38.140625 10.796875 36.28125  z \" id=\"DejaVuSans-53\"/>\n",
       "     <path d=\"M 10.6875 12.40625  L 21 12.40625  L 21 0  L 10.6875 0  z \" id=\"DejaVuSans-46\"/>\n",
       "     <path d=\"M 72.703125 32.078125  Q 68.453125 32.078125 66.03125 28.46875  Q 63.625 24.859375 63.625 18.40625  Q 63.625 12.0625 66.03125 8.421875  Q 68.453125 4.78125 72.703125 4.78125  Q 76.859375 4.78125 79.265625 8.421875  Q 81.6875 12.0625 81.6875 18.40625  Q 81.6875 24.8125 79.265625 28.4375  Q 76.859375 32.078125 72.703125 32.078125  z M 72.703125 38.28125  Q 80.421875 38.28125 84.953125 32.90625  Q 89.5 27.546875 89.5 18.40625  Q 89.5 9.28125 84.9375 3.921875  Q 80.375 -1.421875 72.703125 -1.421875  Q 64.890625 -1.421875 60.34375 3.921875  Q 55.8125 9.28125 55.8125 18.40625  Q 55.8125 27.59375 60.375 32.9375  Q 64.9375 38.28125 72.703125 38.28125  z M 22.3125 68.015625  Q 18.109375 68.015625 15.6875 64.375  Q 13.28125 60.75 13.28125 54.390625  Q 13.28125 47.953125 15.671875 44.328125  Q 18.0625 40.71875 22.3125 40.71875  Q 26.5625 40.71875 28.96875 44.328125  Q 31.390625 47.953125 31.390625 54.390625  Q 31.390625 60.6875 28.953125 64.34375  Q 26.515625 68.015625 22.3125 68.015625  z M 66.40625 74.21875  L 74.21875 74.21875  L 28.609375 -1.421875  L 20.796875 -1.421875  z M 22.3125 74.21875  Q 30.03125 74.21875 34.609375 68.875  Q 39.203125 63.53125 39.203125 54.390625  Q 39.203125 45.171875 34.640625 39.84375  Q 30.078125 34.515625 22.3125 34.515625  Q 14.546875 34.515625 10.03125 39.859375  Q 5.515625 45.21875 5.515625 54.390625  Q 5.515625 63.484375 10.046875 68.84375  Q 14.59375 74.21875 22.3125 74.21875  z \" id=\"DejaVuSans-37\"/>\n",
       "    </defs>\n",
       "    <g transform=\"translate(122.688125 43.818437)scale(0.1 -0.1)\">\n",
       "     <use xlink:href=\"#DejaVuSans-52\"/>\n",
       "     <use x=\"63.623047\" xlink:href=\"#DejaVuSans-53\"/>\n",
       "     <use x=\"127.246094\" xlink:href=\"#DejaVuSans-46\"/>\n",
       "     <use x=\"159.033203\" xlink:href=\"#DejaVuSans-48\"/>\n",
       "     <use x=\"222.65625\" xlink:href=\"#DejaVuSans-48\"/>\n",
       "     <use x=\"286.279297\" xlink:href=\"#DejaVuSans-37\"/>\n",
       "    </g>\n",
       "   </g>\n",
       "   <g id=\"text_4\">\n",
       "    <!-- 55.00% -->\n",
       "    <g transform=\"translate(122.688125 28.718437)scale(0.1 -0.1)\">\n",
       "     <use xlink:href=\"#DejaVuSans-53\"/>\n",
       "     <use x=\"63.623047\" xlink:href=\"#DejaVuSans-53\"/>\n",
       "     <use x=\"127.246094\" xlink:href=\"#DejaVuSans-46\"/>\n",
       "     <use x=\"159.033203\" xlink:href=\"#DejaVuSans-48\"/>\n",
       "     <use x=\"222.65625\" xlink:href=\"#DejaVuSans-48\"/>\n",
       "     <use x=\"286.279297\" xlink:href=\"#DejaVuSans-37\"/>\n",
       "    </g>\n",
       "   </g>\n",
       "   <g id=\"text_5\">\n",
       "    <!-- Compliance with Medical Therapy -->\n",
       "    <defs>\n",
       "     <path d=\"M 64.40625 67.28125  L 64.40625 56.890625  Q 59.421875 61.53125 53.78125 63.8125  Q 48.140625 66.109375 41.796875 66.109375  Q 29.296875 66.109375 22.65625 58.46875  Q 16.015625 50.828125 16.015625 36.375  Q 16.015625 21.96875 22.65625 14.328125  Q 29.296875 6.6875 41.796875 6.6875  Q 48.140625 6.6875 53.78125 8.984375  Q 59.421875 11.28125 64.40625 15.921875  L 64.40625 5.609375  Q 59.234375 2.09375 53.4375 0.328125  Q 47.65625 -1.421875 41.21875 -1.421875  Q 24.65625 -1.421875 15.125 8.703125  Q 5.609375 18.84375 5.609375 36.375  Q 5.609375 53.953125 15.125 64.078125  Q 24.65625 74.21875 41.21875 74.21875  Q 47.75 74.21875 53.53125 72.484375  Q 59.328125 70.75 64.40625 67.28125  z \" id=\"DejaVuSans-67\"/>\n",
       "     <path d=\"M 30.609375 48.390625  Q 23.390625 48.390625 19.1875 42.75  Q 14.984375 37.109375 14.984375 27.296875  Q 14.984375 17.484375 19.15625 11.84375  Q 23.34375 6.203125 30.609375 6.203125  Q 37.796875 6.203125 41.984375 11.859375  Q 46.1875 17.53125 46.1875 27.296875  Q 46.1875 37.015625 41.984375 42.703125  Q 37.796875 48.390625 30.609375 48.390625  z M 30.609375 56  Q 42.328125 56 49.015625 48.375  Q 55.71875 40.765625 55.71875 27.296875  Q 55.71875 13.875 49.015625 6.21875  Q 42.328125 -1.421875 30.609375 -1.421875  Q 18.84375 -1.421875 12.171875 6.21875  Q 5.515625 13.875 5.515625 27.296875  Q 5.515625 40.765625 12.171875 48.375  Q 18.84375 56 30.609375 56  z \" id=\"DejaVuSans-111\"/>\n",
       "     <path d=\"M 52 44.1875  Q 55.375 50.25 60.0625 53.125  Q 64.75 56 71.09375 56  Q 79.640625 56 84.28125 50.015625  Q 88.921875 44.046875 88.921875 33.015625  L 88.921875 0  L 79.890625 0  L 79.890625 32.71875  Q 79.890625 40.578125 77.09375 44.375  Q 74.3125 48.1875 68.609375 48.1875  Q 61.625 48.1875 57.5625 43.546875  Q 53.515625 38.921875 53.515625 30.90625  L 53.515625 0  L 44.484375 0  L 44.484375 32.71875  Q 44.484375 40.625 41.703125 44.40625  Q 38.921875 48.1875 33.109375 48.1875  Q 26.21875 48.1875 22.15625 43.53125  Q 18.109375 38.875 18.109375 30.90625  L 18.109375 0  L 9.078125 0  L 9.078125 54.6875  L 18.109375 54.6875  L 18.109375 46.1875  Q 21.1875 51.21875 25.484375 53.609375  Q 29.78125 56 35.6875 56  Q 41.65625 56 45.828125 52.96875  Q 50 49.953125 52 44.1875  z \" id=\"DejaVuSans-109\"/>\n",
       "     <path d=\"M 18.109375 8.203125  L 18.109375 -20.796875  L 9.078125 -20.796875  L 9.078125 54.6875  L 18.109375 54.6875  L 18.109375 46.390625  Q 20.953125 51.265625 25.265625 53.625  Q 29.59375 56 35.59375 56  Q 45.5625 56 51.78125 48.09375  Q 58.015625 40.1875 58.015625 27.296875  Q 58.015625 14.40625 51.78125 6.484375  Q 45.5625 -1.421875 35.59375 -1.421875  Q 29.59375 -1.421875 25.265625 0.953125  Q 20.953125 3.328125 18.109375 8.203125  z M 48.6875 27.296875  Q 48.6875 37.203125 44.609375 42.84375  Q 40.53125 48.484375 33.40625 48.484375  Q 26.265625 48.484375 22.1875 42.84375  Q 18.109375 37.203125 18.109375 27.296875  Q 18.109375 17.390625 22.1875 11.75  Q 26.265625 6.109375 33.40625 6.109375  Q 40.53125 6.109375 44.609375 11.75  Q 48.6875 17.390625 48.6875 27.296875  z \" id=\"DejaVuSans-112\"/>\n",
       "     <path d=\"M 9.421875 75.984375  L 18.40625 75.984375  L 18.40625 0  L 9.421875 0  z \" id=\"DejaVuSans-108\"/>\n",
       "     <path d=\"M 9.421875 54.6875  L 18.40625 54.6875  L 18.40625 0  L 9.421875 0  z M 9.421875 75.984375  L 18.40625 75.984375  L 18.40625 64.59375  L 9.421875 64.59375  z \" id=\"DejaVuSans-105\"/>\n",
       "     <path d=\"M 34.28125 27.484375  Q 23.390625 27.484375 19.1875 25  Q 14.984375 22.515625 14.984375 16.5  Q 14.984375 11.71875 18.140625 8.90625  Q 21.296875 6.109375 26.703125 6.109375  Q 34.1875 6.109375 38.703125 11.40625  Q 43.21875 16.703125 43.21875 25.484375  L 43.21875 27.484375  z M 52.203125 31.203125  L 52.203125 0  L 43.21875 0  L 43.21875 8.296875  Q 40.140625 3.328125 35.546875 0.953125  Q 30.953125 -1.421875 24.3125 -1.421875  Q 15.921875 -1.421875 10.953125 3.296875  Q 6 8.015625 6 15.921875  Q 6 25.140625 12.171875 29.828125  Q 18.359375 34.515625 30.609375 34.515625  L 43.21875 34.515625  L 43.21875 35.40625  Q 43.21875 41.609375 39.140625 45  Q 35.0625 48.390625 27.6875 48.390625  Q 23 48.390625 18.546875 47.265625  Q 14.109375 46.140625 10.015625 43.890625  L 10.015625 52.203125  Q 14.9375 54.109375 19.578125 55.046875  Q 24.21875 56 28.609375 56  Q 40.484375 56 46.34375 49.84375  Q 52.203125 43.703125 52.203125 31.203125  z \" id=\"DejaVuSans-97\"/>\n",
       "     <path d=\"M 54.890625 33.015625  L 54.890625 0  L 45.90625 0  L 45.90625 32.71875  Q 45.90625 40.484375 42.875 44.328125  Q 39.84375 48.1875 33.796875 48.1875  Q 26.515625 48.1875 22.3125 43.546875  Q 18.109375 38.921875 18.109375 30.90625  L 18.109375 0  L 9.078125 0  L 9.078125 54.6875  L 18.109375 54.6875  L 18.109375 46.1875  Q 21.34375 51.125 25.703125 53.5625  Q 30.078125 56 35.796875 56  Q 45.21875 56 50.046875 50.171875  Q 54.890625 44.34375 54.890625 33.015625  z \" id=\"DejaVuSans-110\"/>\n",
       "     <path d=\"M 48.78125 52.59375  L 48.78125 44.1875  Q 44.96875 46.296875 41.140625 47.34375  Q 37.3125 48.390625 33.40625 48.390625  Q 24.65625 48.390625 19.8125 42.84375  Q 14.984375 37.3125 14.984375 27.296875  Q 14.984375 17.28125 19.8125 11.734375  Q 24.65625 6.203125 33.40625 6.203125  Q 37.3125 6.203125 41.140625 7.25  Q 44.96875 8.296875 48.78125 10.40625  L 48.78125 2.09375  Q 45.015625 0.34375 40.984375 -0.53125  Q 36.96875 -1.421875 32.421875 -1.421875  Q 20.0625 -1.421875 12.78125 6.34375  Q 5.515625 14.109375 5.515625 27.296875  Q 5.515625 40.671875 12.859375 48.328125  Q 20.21875 56 33.015625 56  Q 37.15625 56 41.109375 55.140625  Q 45.0625 54.296875 48.78125 52.59375  z \" id=\"DejaVuSans-99\"/>\n",
       "     <path d=\"M 56.203125 29.59375  L 56.203125 25.203125  L 14.890625 25.203125  Q 15.484375 15.921875 20.484375 11.0625  Q 25.484375 6.203125 34.421875 6.203125  Q 39.59375 6.203125 44.453125 7.46875  Q 49.3125 8.734375 54.109375 11.28125  L 54.109375 2.78125  Q 49.265625 0.734375 44.1875 -0.34375  Q 39.109375 -1.421875 33.890625 -1.421875  Q 20.796875 -1.421875 13.15625 6.1875  Q 5.515625 13.8125 5.515625 26.8125  Q 5.515625 40.234375 12.765625 48.109375  Q 20.015625 56 32.328125 56  Q 43.359375 56 49.78125 48.890625  Q 56.203125 41.796875 56.203125 29.59375  z M 47.21875 32.234375  Q 47.125 39.59375 43.09375 43.984375  Q 39.0625 48.390625 32.421875 48.390625  Q 24.90625 48.390625 20.390625 44.140625  Q 15.875 39.890625 15.1875 32.171875  z \" id=\"DejaVuSans-101\"/>\n",
       "     <path id=\"DejaVuSans-32\"/>\n",
       "     <path d=\"M 4.203125 54.6875  L 13.1875 54.6875  L 24.421875 12.015625  L 35.59375 54.6875  L 46.1875 54.6875  L 57.421875 12.015625  L 68.609375 54.6875  L 77.59375 54.6875  L 63.28125 0  L 52.6875 0  L 40.921875 44.828125  L 29.109375 0  L 18.5 0  z \" id=\"DejaVuSans-119\"/>\n",
       "     <path d=\"M 18.3125 70.21875  L 18.3125 54.6875  L 36.8125 54.6875  L 36.8125 47.703125  L 18.3125 47.703125  L 18.3125 18.015625  Q 18.3125 11.328125 20.140625 9.421875  Q 21.96875 7.515625 27.59375 7.515625  L 36.8125 7.515625  L 36.8125 0  L 27.59375 0  Q 17.1875 0 13.234375 3.875  Q 9.28125 7.765625 9.28125 18.015625  L 9.28125 47.703125  L 2.6875 47.703125  L 2.6875 54.6875  L 9.28125 54.6875  L 9.28125 70.21875  z \" id=\"DejaVuSans-116\"/>\n",
       "     <path d=\"M 54.890625 33.015625  L 54.890625 0  L 45.90625 0  L 45.90625 32.71875  Q 45.90625 40.484375 42.875 44.328125  Q 39.84375 48.1875 33.796875 48.1875  Q 26.515625 48.1875 22.3125 43.546875  Q 18.109375 38.921875 18.109375 30.90625  L 18.109375 0  L 9.078125 0  L 9.078125 75.984375  L 18.109375 75.984375  L 18.109375 46.1875  Q 21.34375 51.125 25.703125 53.5625  Q 30.078125 56 35.796875 56  Q 45.21875 56 50.046875 50.171875  Q 54.890625 44.34375 54.890625 33.015625  z \" id=\"DejaVuSans-104\"/>\n",
       "     <path d=\"M 9.8125 72.90625  L 24.515625 72.90625  L 43.109375 23.296875  L 61.8125 72.90625  L 76.515625 72.90625  L 76.515625 0  L 66.890625 0  L 66.890625 64.015625  L 48.09375 14.015625  L 38.1875 14.015625  L 19.390625 64.015625  L 19.390625 0  L 9.8125 0  z \" id=\"DejaVuSans-77\"/>\n",
       "     <path d=\"M 45.40625 46.390625  L 45.40625 75.984375  L 54.390625 75.984375  L 54.390625 0  L 45.40625 0  L 45.40625 8.203125  Q 42.578125 3.328125 38.25 0.953125  Q 33.9375 -1.421875 27.875 -1.421875  Q 17.96875 -1.421875 11.734375 6.484375  Q 5.515625 14.40625 5.515625 27.296875  Q 5.515625 40.1875 11.734375 48.09375  Q 17.96875 56 27.875 56  Q 33.9375 56 38.25 53.625  Q 42.578125 51.265625 45.40625 46.390625  z M 14.796875 27.296875  Q 14.796875 17.390625 18.875 11.75  Q 22.953125 6.109375 30.078125 6.109375  Q 37.203125 6.109375 41.296875 11.75  Q 45.40625 17.390625 45.40625 27.296875  Q 45.40625 37.203125 41.296875 42.84375  Q 37.203125 48.484375 30.078125 48.484375  Q 22.953125 48.484375 18.875 42.84375  Q 14.796875 37.203125 14.796875 27.296875  z \" id=\"DejaVuSans-100\"/>\n",
       "     <path d=\"M -0.296875 72.90625  L 61.375 72.90625  L 61.375 64.59375  L 35.5 64.59375  L 35.5 0  L 25.59375 0  L 25.59375 64.59375  L -0.296875 64.59375  z \" id=\"DejaVuSans-84\"/>\n",
       "     <path d=\"M 41.109375 46.296875  Q 39.59375 47.171875 37.8125 47.578125  Q 36.03125 48 33.890625 48  Q 26.265625 48 22.1875 43.046875  Q 18.109375 38.09375 18.109375 28.8125  L 18.109375 0  L 9.078125 0  L 9.078125 54.6875  L 18.109375 54.6875  L 18.109375 46.1875  Q 20.953125 51.171875 25.484375 53.578125  Q 30.03125 56 36.53125 56  Q 37.453125 56 38.578125 55.875  Q 39.703125 55.765625 41.0625 55.515625  z \" id=\"DejaVuSans-114\"/>\n",
       "     <path d=\"M 32.171875 -5.078125  Q 28.375 -14.84375 24.75 -17.8125  Q 21.140625 -20.796875 15.09375 -20.796875  L 7.90625 -20.796875  L 7.90625 -13.28125  L 13.1875 -13.28125  Q 16.890625 -13.28125 18.9375 -11.515625  Q 21 -9.765625 23.484375 -3.21875  L 25.09375 0.875  L 2.984375 54.6875  L 12.5 54.6875  L 29.59375 11.921875  L 46.6875 54.6875  L 56.203125 54.6875  z \" id=\"DejaVuSans-121\"/>\n",
       "    </defs>\n",
       "    <g transform=\"translate(3.6 12.718125)scale(0.12 -0.12)\">\n",
       "     <use xlink:href=\"#DejaVuSans-67\"/>\n",
       "     <use x=\"69.824219\" xlink:href=\"#DejaVuSans-111\"/>\n",
       "     <use x=\"131.005859\" xlink:href=\"#DejaVuSans-109\"/>\n",
       "     <use x=\"228.417969\" xlink:href=\"#DejaVuSans-112\"/>\n",
       "     <use x=\"291.894531\" xlink:href=\"#DejaVuSans-108\"/>\n",
       "     <use x=\"319.677734\" xlink:href=\"#DejaVuSans-105\"/>\n",
       "     <use x=\"347.460938\" xlink:href=\"#DejaVuSans-97\"/>\n",
       "     <use x=\"408.740234\" xlink:href=\"#DejaVuSans-110\"/>\n",
       "     <use x=\"472.119141\" xlink:href=\"#DejaVuSans-99\"/>\n",
       "     <use x=\"527.099609\" xlink:href=\"#DejaVuSans-101\"/>\n",
       "     <use x=\"588.623047\" xlink:href=\"#DejaVuSans-32\"/>\n",
       "     <use x=\"620.410156\" xlink:href=\"#DejaVuSans-119\"/>\n",
       "     <use x=\"702.197266\" xlink:href=\"#DejaVuSans-105\"/>\n",
       "     <use x=\"729.980469\" xlink:href=\"#DejaVuSans-116\"/>\n",
       "     <use x=\"769.189453\" xlink:href=\"#DejaVuSans-104\"/>\n",
       "     <use x=\"832.568359\" xlink:href=\"#DejaVuSans-32\"/>\n",
       "     <use x=\"864.355469\" xlink:href=\"#DejaVuSans-77\"/>\n",
       "     <use x=\"950.634766\" xlink:href=\"#DejaVuSans-101\"/>\n",
       "     <use x=\"1012.158203\" xlink:href=\"#DejaVuSans-100\"/>\n",
       "     <use x=\"1075.634766\" xlink:href=\"#DejaVuSans-105\"/>\n",
       "     <use x=\"1103.417969\" xlink:href=\"#DejaVuSans-99\"/>\n",
       "     <use x=\"1158.398438\" xlink:href=\"#DejaVuSans-97\"/>\n",
       "     <use x=\"1219.677734\" xlink:href=\"#DejaVuSans-108\"/>\n",
       "     <use x=\"1247.460938\" xlink:href=\"#DejaVuSans-32\"/>\n",
       "     <use x=\"1279.248047\" xlink:href=\"#DejaVuSans-84\"/>\n",
       "     <use x=\"1340.332031\" xlink:href=\"#DejaVuSans-104\"/>\n",
       "     <use x=\"1403.710938\" xlink:href=\"#DejaVuSans-101\"/>\n",
       "     <use x=\"1465.234375\" xlink:href=\"#DejaVuSans-114\"/>\n",
       "     <use x=\"1506.347656\" xlink:href=\"#DejaVuSans-97\"/>\n",
       "     <use x=\"1567.626953\" xlink:href=\"#DejaVuSans-112\"/>\n",
       "     <use x=\"1631.103516\" xlink:href=\"#DejaVuSans-121\"/>\n",
       "    </g>\n",
       "   </g>\n",
       "  </g>\n",
       " </g>\n",
       " <defs>\n",
       "  <clipPath id=\"pc583ca3d6f\">\n",
       "   <rect height=\"27.18\" width=\"111.6\" x=\"49.217812\" y=\"18.718125\"/>\n",
       "  </clipPath>\n",
       " </defs>\n",
       "</svg>\n",
       "\n",
       "</g>\n",
       "<!-- Compliance with Medical Therapy&#45;&gt;QALE -->\n",
       "<g id=\"edge9\" class=\"edge\">\n",
       "<title>Compliance with Medical Therapy-&gt;QALE</title>\n",
       "<g id=\"a_edge9\"><a xlink:title=\"(2, 6):\">\n",
       "<path fill=\"none\" stroke=\"#4a4a4a\" d=\"M230.18,-94.88C206.65,-83.43 177.31,-69.16 155.05,-58.33\"/>\n",
       "<polygon fill=\"#4a4a4a\" stroke=\"#4a4a4a\" points=\"156.51,-55.14 145.98,-53.91 153.45,-61.44 156.51,-55.14\"/>\n",
       "</a>\n",
       "</g>\n",
       "</g>\n",
       "<!-- Risk Behaviour -->\n",
       "<g id=\"node4\" class=\"node\">\n",
       "<title>Risk Behaviour</title>\n",
       "<polygon fill=\"white\" stroke=\"#000000\" points=\"172,-136 71,-136 71,-95 172,-95 172,-136\"/>\n",
       "<svg viewBox=\"0 0 132.1625 52.998125\" width=\"101px\" height=\"41px\" preserveAspectRatio=\"xMinYMin meet\" x=\"71\" y=\"-136\"> <defs>\n",
       "  <style type=\"text/css\">\n",
       "*{stroke-linecap:butt;stroke-linejoin:round;}\n",
       "  </style>\n",
       " </defs>\n",
       " <g id=\"figure_1\">\n",
       "  <g id=\"patch_1\">\n",
       "   <path d=\"M 0 52.998125  L 132.1625 52.998125  L 132.1625 0  L 0 0  z \" style=\"fill:none;\"/>\n",
       "  </g>\n",
       "  <g id=\"axes_1\">\n",
       "   <g id=\"patch_2\">\n",
       "    <path d=\"M 16.9625 45.898125  L 128.5625 45.898125  L 128.5625 18.718125  L 16.9625 18.718125  z \" style=\"fill:none;\"/>\n",
       "   </g>\n",
       "   <g id=\"patch_3\">\n",
       "    <path clip-path=\"url(#pb1879ffb2e)\" d=\"M 16.9625 45.898125  L 61.6025 45.898125  L 61.6025 33.818125  L 16.9625 33.818125  z \" style=\"fill:#8fbc8f;\"/>\n",
       "   </g>\n",
       "   <g id=\"patch_4\">\n",
       "    <path clip-path=\"url(#pb1879ffb2e)\" d=\"M 16.9625 30.798125  L 83.9225 30.798125  L 83.9225 18.718125  L 16.9625 18.718125  z \" style=\"fill:#8fbc8f;\"/>\n",
       "   </g>\n",
       "   <g id=\"matplotlib.axis_1\">\n",
       "    <g id=\"xtick_1\">\n",
       "     <g id=\"line2d_1\">\n",
       "      <path clip-path=\"url(#pb1879ffb2e)\" d=\"M 16.9625 45.898125  L 16.9625 18.718125  \" style=\"fill:none;stroke:#b0b0b0;stroke-linecap:square;stroke-width:0.8;\"/>\n",
       "     </g>\n",
       "     <g id=\"line2d_2\">\n",
       "      <defs>\n",
       "       <path d=\"M 0 0  L 0 3.5  \" id=\"m787d973aee\" style=\"stroke:#000000;stroke-width:0.8;\"/>\n",
       "      </defs>\n",
       "      <g>\n",
       "       <use style=\"stroke:#000000;stroke-width:0.8;\" x=\"16.9625\" xlink:href=\"#m787d973aee\" y=\"45.898125\"/>\n",
       "      </g>\n",
       "     </g>\n",
       "    </g>\n",
       "    <g id=\"xtick_2\">\n",
       "     <g id=\"line2d_3\">\n",
       "      <path clip-path=\"url(#pb1879ffb2e)\" d=\"M 72.7625 45.898125  L 72.7625 18.718125  \" style=\"fill:none;stroke:#b0b0b0;stroke-linecap:square;stroke-width:0.8;\"/>\n",
       "     </g>\n",
       "     <g id=\"line2d_4\">\n",
       "      <g>\n",
       "       <use style=\"stroke:#000000;stroke-width:0.8;\" x=\"72.7625\" xlink:href=\"#m787d973aee\" y=\"45.898125\"/>\n",
       "      </g>\n",
       "     </g>\n",
       "    </g>\n",
       "    <g id=\"xtick_3\">\n",
       "     <g id=\"line2d_5\">\n",
       "      <path clip-path=\"url(#pb1879ffb2e)\" d=\"M 128.5625 45.898125  L 128.5625 18.718125  \" style=\"fill:none;stroke:#b0b0b0;stroke-linecap:square;stroke-width:0.8;\"/>\n",
       "     </g>\n",
       "     <g id=\"line2d_6\">\n",
       "      <g>\n",
       "       <use style=\"stroke:#000000;stroke-width:0.8;\" x=\"128.5625\" xlink:href=\"#m787d973aee\" y=\"45.898125\"/>\n",
       "      </g>\n",
       "     </g>\n",
       "    </g>\n",
       "   </g>\n",
       "   <g id=\"matplotlib.axis_2\">\n",
       "    <g id=\"ytick_1\">\n",
       "     <g id=\"line2d_7\">\n",
       "      <defs>\n",
       "       <path d=\"M 0 0  L -3.5 0  \" id=\"m61b9dc6f0d\" style=\"stroke:#000000;stroke-width:0.8;\"/>\n",
       "      </defs>\n",
       "      <g>\n",
       "       <use style=\"stroke:#000000;stroke-width:0.8;\" x=\"16.9625\" xlink:href=\"#m61b9dc6f0d\" y=\"39.858125\"/>\n",
       "      </g>\n",
       "     </g>\n",
       "     <g id=\"text_1\">\n",
       "      <!-- 1 -->\n",
       "      <defs>\n",
       "       <path d=\"M 12.40625 8.296875  L 28.515625 8.296875  L 28.515625 63.921875  L 10.984375 60.40625  L 10.984375 69.390625  L 28.421875 72.90625  L 38.28125 72.90625  L 38.28125 8.296875  L 54.390625 8.296875  L 54.390625 0  L 12.40625 0  z \" id=\"DejaVuSans-49\"/>\n",
       "      </defs>\n",
       "      <g transform=\"translate(3.6 43.657344)scale(0.1 -0.1)\">\n",
       "       <use xlink:href=\"#DejaVuSans-49\"/>\n",
       "      </g>\n",
       "     </g>\n",
       "    </g>\n",
       "    <g id=\"ytick_2\">\n",
       "     <g id=\"line2d_8\">\n",
       "      <g>\n",
       "       <use style=\"stroke:#000000;stroke-width:0.8;\" x=\"16.9625\" xlink:href=\"#m61b9dc6f0d\" y=\"24.758125\"/>\n",
       "      </g>\n",
       "     </g>\n",
       "     <g id=\"text_2\">\n",
       "      <!-- 0 -->\n",
       "      <defs>\n",
       "       <path d=\"M 31.78125 66.40625  Q 24.171875 66.40625 20.328125 58.90625  Q 16.5 51.421875 16.5 36.375  Q 16.5 21.390625 20.328125 13.890625  Q 24.171875 6.390625 31.78125 6.390625  Q 39.453125 6.390625 43.28125 13.890625  Q 47.125 21.390625 47.125 36.375  Q 47.125 51.421875 43.28125 58.90625  Q 39.453125 66.40625 31.78125 66.40625  z M 31.78125 74.21875  Q 44.046875 74.21875 50.515625 64.515625  Q 56.984375 54.828125 56.984375 36.375  Q 56.984375 17.96875 50.515625 8.265625  Q 44.046875 -1.421875 31.78125 -1.421875  Q 19.53125 -1.421875 13.0625 8.265625  Q 6.59375 17.96875 6.59375 36.375  Q 6.59375 54.828125 13.0625 64.515625  Q 19.53125 74.21875 31.78125 74.21875  z \" id=\"DejaVuSans-48\"/>\n",
       "      </defs>\n",
       "      <g transform=\"translate(3.6 28.557344)scale(0.1 -0.1)\">\n",
       "       <use xlink:href=\"#DejaVuSans-48\"/>\n",
       "      </g>\n",
       "     </g>\n",
       "    </g>\n",
       "   </g>\n",
       "   <g id=\"patch_5\">\n",
       "    <path d=\"M 16.9625 45.898125  L 16.9625 18.718125  \" style=\"fill:none;stroke:#000000;stroke-linecap:square;stroke-linejoin:miter;stroke-width:0.8;\"/>\n",
       "   </g>\n",
       "   <g id=\"patch_6\">\n",
       "    <path d=\"M 128.5625 45.898125  L 128.5625 18.718125  \" style=\"fill:none;stroke:#000000;stroke-linecap:square;stroke-linejoin:miter;stroke-width:0.8;\"/>\n",
       "   </g>\n",
       "   <g id=\"patch_7\">\n",
       "    <path d=\"M 16.9625 45.898125  L 128.5625 45.898125  \" style=\"fill:none;stroke:#000000;stroke-linecap:square;stroke-linejoin:miter;stroke-width:0.8;\"/>\n",
       "   </g>\n",
       "   <g id=\"patch_8\">\n",
       "    <path d=\"M 16.9625 18.718125  L 128.5625 18.718125  \" style=\"fill:none;stroke:#000000;stroke-linecap:square;stroke-linejoin:miter;stroke-width:0.8;\"/>\n",
       "   </g>\n",
       "   <g id=\"text_3\">\n",
       "    <!-- 40.00% -->\n",
       "    <defs>\n",
       "     <path d=\"M 37.796875 64.3125  L 12.890625 25.390625  L 37.796875 25.390625  z M 35.203125 72.90625  L 47.609375 72.90625  L 47.609375 25.390625  L 58.015625 25.390625  L 58.015625 17.1875  L 47.609375 17.1875  L 47.609375 0  L 37.796875 0  L 37.796875 17.1875  L 4.890625 17.1875  L 4.890625 26.703125  z \" id=\"DejaVuSans-52\"/>\n",
       "     <path d=\"M 10.6875 12.40625  L 21 12.40625  L 21 0  L 10.6875 0  z \" id=\"DejaVuSans-46\"/>\n",
       "     <path d=\"M 72.703125 32.078125  Q 68.453125 32.078125 66.03125 28.46875  Q 63.625 24.859375 63.625 18.40625  Q 63.625 12.0625 66.03125 8.421875  Q 68.453125 4.78125 72.703125 4.78125  Q 76.859375 4.78125 79.265625 8.421875  Q 81.6875 12.0625 81.6875 18.40625  Q 81.6875 24.8125 79.265625 28.4375  Q 76.859375 32.078125 72.703125 32.078125  z M 72.703125 38.28125  Q 80.421875 38.28125 84.953125 32.90625  Q 89.5 27.546875 89.5 18.40625  Q 89.5 9.28125 84.9375 3.921875  Q 80.375 -1.421875 72.703125 -1.421875  Q 64.890625 -1.421875 60.34375 3.921875  Q 55.8125 9.28125 55.8125 18.40625  Q 55.8125 27.59375 60.375 32.9375  Q 64.9375 38.28125 72.703125 38.28125  z M 22.3125 68.015625  Q 18.109375 68.015625 15.6875 64.375  Q 13.28125 60.75 13.28125 54.390625  Q 13.28125 47.953125 15.671875 44.328125  Q 18.0625 40.71875 22.3125 40.71875  Q 26.5625 40.71875 28.96875 44.328125  Q 31.390625 47.953125 31.390625 54.390625  Q 31.390625 60.6875 28.953125 64.34375  Q 26.515625 68.015625 22.3125 68.015625  z M 66.40625 74.21875  L 74.21875 74.21875  L 28.609375 -1.421875  L 20.796875 -1.421875  z M 22.3125 74.21875  Q 30.03125 74.21875 34.609375 68.875  Q 39.203125 63.53125 39.203125 54.390625  Q 39.203125 45.171875 34.640625 39.84375  Q 30.078125 34.515625 22.3125 34.515625  Q 14.546875 34.515625 10.03125 39.859375  Q 5.515625 45.21875 5.515625 54.390625  Q 5.515625 63.484375 10.046875 68.84375  Q 14.59375 74.21875 22.3125 74.21875  z \" id=\"DejaVuSans-37\"/>\n",
       "    </defs>\n",
       "    <g transform=\"translate(90.432812 43.818437)scale(0.1 -0.1)\">\n",
       "     <use xlink:href=\"#DejaVuSans-52\"/>\n",
       "     <use x=\"63.623047\" xlink:href=\"#DejaVuSans-48\"/>\n",
       "     <use x=\"127.246094\" xlink:href=\"#DejaVuSans-46\"/>\n",
       "     <use x=\"159.033203\" xlink:href=\"#DejaVuSans-48\"/>\n",
       "     <use x=\"222.65625\" xlink:href=\"#DejaVuSans-48\"/>\n",
       "     <use x=\"286.279297\" xlink:href=\"#DejaVuSans-37\"/>\n",
       "    </g>\n",
       "   </g>\n",
       "   <g id=\"text_4\">\n",
       "    <!-- 60.00% -->\n",
       "    <defs>\n",
       "     <path d=\"M 33.015625 40.375  Q 26.375 40.375 22.484375 35.828125  Q 18.609375 31.296875 18.609375 23.390625  Q 18.609375 15.53125 22.484375 10.953125  Q 26.375 6.390625 33.015625 6.390625  Q 39.65625 6.390625 43.53125 10.953125  Q 47.40625 15.53125 47.40625 23.390625  Q 47.40625 31.296875 43.53125 35.828125  Q 39.65625 40.375 33.015625 40.375  z M 52.59375 71.296875  L 52.59375 62.3125  Q 48.875 64.0625 45.09375 64.984375  Q 41.3125 65.921875 37.59375 65.921875  Q 27.828125 65.921875 22.671875 59.328125  Q 17.53125 52.734375 16.796875 39.40625  Q 19.671875 43.65625 24.015625 45.921875  Q 28.375 48.1875 33.59375 48.1875  Q 44.578125 48.1875 50.953125 41.515625  Q 57.328125 34.859375 57.328125 23.390625  Q 57.328125 12.15625 50.6875 5.359375  Q 44.046875 -1.421875 33.015625 -1.421875  Q 20.359375 -1.421875 13.671875 8.265625  Q 6.984375 17.96875 6.984375 36.375  Q 6.984375 53.65625 15.1875 63.9375  Q 23.390625 74.21875 37.203125 74.21875  Q 40.921875 74.21875 44.703125 73.484375  Q 48.484375 72.75 52.59375 71.296875  z \" id=\"DejaVuSans-54\"/>\n",
       "    </defs>\n",
       "    <g transform=\"translate(90.432812 28.718437)scale(0.1 -0.1)\">\n",
       "     <use xlink:href=\"#DejaVuSans-54\"/>\n",
       "     <use x=\"63.623047\" xlink:href=\"#DejaVuSans-48\"/>\n",
       "     <use x=\"127.246094\" xlink:href=\"#DejaVuSans-46\"/>\n",
       "     <use x=\"159.033203\" xlink:href=\"#DejaVuSans-48\"/>\n",
       "     <use x=\"222.65625\" xlink:href=\"#DejaVuSans-48\"/>\n",
       "     <use x=\"286.279297\" xlink:href=\"#DejaVuSans-37\"/>\n",
       "    </g>\n",
       "   </g>\n",
       "   <g id=\"text_5\">\n",
       "    <!-- Risk Behaviour -->\n",
       "    <defs>\n",
       "     <path d=\"M 44.390625 34.1875  Q 47.5625 33.109375 50.5625 29.59375  Q 53.5625 26.078125 56.59375 19.921875  L 66.609375 0  L 56 0  L 46.6875 18.703125  Q 43.0625 26.03125 39.671875 28.421875  Q 36.28125 30.8125 30.421875 30.8125  L 19.671875 30.8125  L 19.671875 0  L 9.8125 0  L 9.8125 72.90625  L 32.078125 72.90625  Q 44.578125 72.90625 50.734375 67.671875  Q 56.890625 62.453125 56.890625 51.90625  Q 56.890625 45.015625 53.6875 40.46875  Q 50.484375 35.9375 44.390625 34.1875  z M 19.671875 64.796875  L 19.671875 38.921875  L 32.078125 38.921875  Q 39.203125 38.921875 42.84375 42.21875  Q 46.484375 45.515625 46.484375 51.90625  Q 46.484375 58.296875 42.84375 61.546875  Q 39.203125 64.796875 32.078125 64.796875  z \" id=\"DejaVuSans-82\"/>\n",
       "     <path d=\"M 9.421875 54.6875  L 18.40625 54.6875  L 18.40625 0  L 9.421875 0  z M 9.421875 75.984375  L 18.40625 75.984375  L 18.40625 64.59375  L 9.421875 64.59375  z \" id=\"DejaVuSans-105\"/>\n",
       "     <path d=\"M 44.28125 53.078125  L 44.28125 44.578125  Q 40.484375 46.53125 36.375 47.5  Q 32.28125 48.484375 27.875 48.484375  Q 21.1875 48.484375 17.84375 46.4375  Q 14.5 44.390625 14.5 40.28125  Q 14.5 37.15625 16.890625 35.375  Q 19.28125 33.59375 26.515625 31.984375  L 29.59375 31.296875  Q 39.15625 29.25 43.1875 25.515625  Q 47.21875 21.78125 47.21875 15.09375  Q 47.21875 7.46875 41.1875 3.015625  Q 35.15625 -1.421875 24.609375 -1.421875  Q 20.21875 -1.421875 15.453125 -0.5625  Q 10.6875 0.296875 5.421875 2  L 5.421875 11.28125  Q 10.40625 8.6875 15.234375 7.390625  Q 20.0625 6.109375 24.8125 6.109375  Q 31.15625 6.109375 34.5625 8.28125  Q 37.984375 10.453125 37.984375 14.40625  Q 37.984375 18.0625 35.515625 20.015625  Q 33.0625 21.96875 24.703125 23.78125  L 21.578125 24.515625  Q 13.234375 26.265625 9.515625 29.90625  Q 5.8125 33.546875 5.8125 39.890625  Q 5.8125 47.609375 11.28125 51.796875  Q 16.75 56 26.8125 56  Q 31.78125 56 36.171875 55.265625  Q 40.578125 54.546875 44.28125 53.078125  z \" id=\"DejaVuSans-115\"/>\n",
       "     <path d=\"M 9.078125 75.984375  L 18.109375 75.984375  L 18.109375 31.109375  L 44.921875 54.6875  L 56.390625 54.6875  L 27.390625 29.109375  L 57.625 0  L 45.90625 0  L 18.109375 26.703125  L 18.109375 0  L 9.078125 0  z \" id=\"DejaVuSans-107\"/>\n",
       "     <path id=\"DejaVuSans-32\"/>\n",
       "     <path d=\"M 19.671875 34.8125  L 19.671875 8.109375  L 35.5 8.109375  Q 43.453125 8.109375 47.28125 11.40625  Q 51.125 14.703125 51.125 21.484375  Q 51.125 28.328125 47.28125 31.5625  Q 43.453125 34.8125 35.5 34.8125  z M 19.671875 64.796875  L 19.671875 42.828125  L 34.28125 42.828125  Q 41.5 42.828125 45.03125 45.53125  Q 48.578125 48.25 48.578125 53.8125  Q 48.578125 59.328125 45.03125 62.0625  Q 41.5 64.796875 34.28125 64.796875  z M 9.8125 72.90625  L 35.015625 72.90625  Q 46.296875 72.90625 52.390625 68.21875  Q 58.5 63.53125 58.5 54.890625  Q 58.5 48.1875 55.375 44.234375  Q 52.25 40.28125 46.1875 39.3125  Q 53.46875 37.75 57.5 32.78125  Q 61.53125 27.828125 61.53125 20.40625  Q 61.53125 10.640625 54.890625 5.3125  Q 48.25 0 35.984375 0  L 9.8125 0  z \" id=\"DejaVuSans-66\"/>\n",
       "     <path d=\"M 56.203125 29.59375  L 56.203125 25.203125  L 14.890625 25.203125  Q 15.484375 15.921875 20.484375 11.0625  Q 25.484375 6.203125 34.421875 6.203125  Q 39.59375 6.203125 44.453125 7.46875  Q 49.3125 8.734375 54.109375 11.28125  L 54.109375 2.78125  Q 49.265625 0.734375 44.1875 -0.34375  Q 39.109375 -1.421875 33.890625 -1.421875  Q 20.796875 -1.421875 13.15625 6.1875  Q 5.515625 13.8125 5.515625 26.8125  Q 5.515625 40.234375 12.765625 48.109375  Q 20.015625 56 32.328125 56  Q 43.359375 56 49.78125 48.890625  Q 56.203125 41.796875 56.203125 29.59375  z M 47.21875 32.234375  Q 47.125 39.59375 43.09375 43.984375  Q 39.0625 48.390625 32.421875 48.390625  Q 24.90625 48.390625 20.390625 44.140625  Q 15.875 39.890625 15.1875 32.171875  z \" id=\"DejaVuSans-101\"/>\n",
       "     <path d=\"M 54.890625 33.015625  L 54.890625 0  L 45.90625 0  L 45.90625 32.71875  Q 45.90625 40.484375 42.875 44.328125  Q 39.84375 48.1875 33.796875 48.1875  Q 26.515625 48.1875 22.3125 43.546875  Q 18.109375 38.921875 18.109375 30.90625  L 18.109375 0  L 9.078125 0  L 9.078125 75.984375  L 18.109375 75.984375  L 18.109375 46.1875  Q 21.34375 51.125 25.703125 53.5625  Q 30.078125 56 35.796875 56  Q 45.21875 56 50.046875 50.171875  Q 54.890625 44.34375 54.890625 33.015625  z \" id=\"DejaVuSans-104\"/>\n",
       "     <path d=\"M 34.28125 27.484375  Q 23.390625 27.484375 19.1875 25  Q 14.984375 22.515625 14.984375 16.5  Q 14.984375 11.71875 18.140625 8.90625  Q 21.296875 6.109375 26.703125 6.109375  Q 34.1875 6.109375 38.703125 11.40625  Q 43.21875 16.703125 43.21875 25.484375  L 43.21875 27.484375  z M 52.203125 31.203125  L 52.203125 0  L 43.21875 0  L 43.21875 8.296875  Q 40.140625 3.328125 35.546875 0.953125  Q 30.953125 -1.421875 24.3125 -1.421875  Q 15.921875 -1.421875 10.953125 3.296875  Q 6 8.015625 6 15.921875  Q 6 25.140625 12.171875 29.828125  Q 18.359375 34.515625 30.609375 34.515625  L 43.21875 34.515625  L 43.21875 35.40625  Q 43.21875 41.609375 39.140625 45  Q 35.0625 48.390625 27.6875 48.390625  Q 23 48.390625 18.546875 47.265625  Q 14.109375 46.140625 10.015625 43.890625  L 10.015625 52.203125  Q 14.9375 54.109375 19.578125 55.046875  Q 24.21875 56 28.609375 56  Q 40.484375 56 46.34375 49.84375  Q 52.203125 43.703125 52.203125 31.203125  z \" id=\"DejaVuSans-97\"/>\n",
       "     <path d=\"M 2.984375 54.6875  L 12.5 54.6875  L 29.59375 8.796875  L 46.6875 54.6875  L 56.203125 54.6875  L 35.6875 0  L 23.484375 0  z \" id=\"DejaVuSans-118\"/>\n",
       "     <path d=\"M 30.609375 48.390625  Q 23.390625 48.390625 19.1875 42.75  Q 14.984375 37.109375 14.984375 27.296875  Q 14.984375 17.484375 19.15625 11.84375  Q 23.34375 6.203125 30.609375 6.203125  Q 37.796875 6.203125 41.984375 11.859375  Q 46.1875 17.53125 46.1875 27.296875  Q 46.1875 37.015625 41.984375 42.703125  Q 37.796875 48.390625 30.609375 48.390625  z M 30.609375 56  Q 42.328125 56 49.015625 48.375  Q 55.71875 40.765625 55.71875 27.296875  Q 55.71875 13.875 49.015625 6.21875  Q 42.328125 -1.421875 30.609375 -1.421875  Q 18.84375 -1.421875 12.171875 6.21875  Q 5.515625 13.875 5.515625 27.296875  Q 5.515625 40.765625 12.171875 48.375  Q 18.84375 56 30.609375 56  z \" id=\"DejaVuSans-111\"/>\n",
       "     <path d=\"M 8.5 21.578125  L 8.5 54.6875  L 17.484375 54.6875  L 17.484375 21.921875  Q 17.484375 14.15625 20.5 10.265625  Q 23.53125 6.390625 29.59375 6.390625  Q 36.859375 6.390625 41.078125 11.03125  Q 45.3125 15.671875 45.3125 23.6875  L 45.3125 54.6875  L 54.296875 54.6875  L 54.296875 0  L 45.3125 0  L 45.3125 8.40625  Q 42.046875 3.421875 37.71875 1  Q 33.40625 -1.421875 27.6875 -1.421875  Q 18.265625 -1.421875 13.375 4.4375  Q 8.5 10.296875 8.5 21.578125  z M 31.109375 56  z \" id=\"DejaVuSans-117\"/>\n",
       "     <path d=\"M 41.109375 46.296875  Q 39.59375 47.171875 37.8125 47.578125  Q 36.03125 48 33.890625 48  Q 26.265625 48 22.1875 43.046875  Q 18.109375 38.09375 18.109375 28.8125  L 18.109375 0  L 9.078125 0  L 9.078125 54.6875  L 18.109375 54.6875  L 18.109375 46.1875  Q 20.953125 51.171875 25.484375 53.578125  Q 30.03125 56 36.53125 56  Q 37.453125 56 38.578125 55.875  Q 39.703125 55.765625 41.0625 55.515625  z \" id=\"DejaVuSans-114\"/>\n",
       "    </defs>\n",
       "    <g transform=\"translate(27.973438 12.718125)scale(0.12 -0.12)\">\n",
       "     <use xlink:href=\"#DejaVuSans-82\"/>\n",
       "     <use x=\"69.482422\" xlink:href=\"#DejaVuSans-105\"/>\n",
       "     <use x=\"97.265625\" xlink:href=\"#DejaVuSans-115\"/>\n",
       "     <use x=\"149.365234\" xlink:href=\"#DejaVuSans-107\"/>\n",
       "     <use x=\"207.275391\" xlink:href=\"#DejaVuSans-32\"/>\n",
       "     <use x=\"239.0625\" xlink:href=\"#DejaVuSans-66\"/>\n",
       "     <use x=\"307.666016\" xlink:href=\"#DejaVuSans-101\"/>\n",
       "     <use x=\"369.189453\" xlink:href=\"#DejaVuSans-104\"/>\n",
       "     <use x=\"432.568359\" xlink:href=\"#DejaVuSans-97\"/>\n",
       "     <use x=\"493.847656\" xlink:href=\"#DejaVuSans-118\"/>\n",
       "     <use x=\"553.027344\" xlink:href=\"#DejaVuSans-105\"/>\n",
       "     <use x=\"580.810547\" xlink:href=\"#DejaVuSans-111\"/>\n",
       "     <use x=\"641.992188\" xlink:href=\"#DejaVuSans-117\"/>\n",
       "     <use x=\"705.371094\" xlink:href=\"#DejaVuSans-114\"/>\n",
       "    </g>\n",
       "   </g>\n",
       "  </g>\n",
       " </g>\n",
       " <defs>\n",
       "  <clipPath id=\"pb1879ffb2e\">\n",
       "   <rect height=\"27.18\" width=\"111.6\" x=\"16.9625\" y=\"18.718125\"/>\n",
       "  </clipPath>\n",
       " </defs>\n",
       "</svg>\n",
       "\n",
       "</g>\n",
       "<!-- Risk Behaviour&#45;&gt;QALE -->\n",
       "<g id=\"edge4\" class=\"edge\">\n",
       "<title>Risk Behaviour-&gt;QALE</title>\n",
       "<g id=\"a_edge4\"><a xlink:title=\"(3, 6):\">\n",
       "<path fill=\"none\" stroke=\"#4a4a4a\" d=\"M121.5,-94.69C121.5,-86.91 121.5,-77.84 121.5,-69.45\"/>\n",
       "<polygon fill=\"#4a4a4a\" stroke=\"#4a4a4a\" points=\"125,-69.32 121.5,-59.32 118,-69.32 125,-69.32\"/>\n",
       "</a>\n",
       "</g>\n",
       "</g>\n",
       "<!-- Treat?(Yes/No)&#45;&gt;Compliance with Medical Therapy -->\n",
       "<g id=\"edge6\" class=\"edge\">\n",
       "<title>Treat?(Yes/No)-&gt;Compliance with Medical Therapy</title>\n",
       "<g id=\"a_edge6\"><a xlink:title=\"(4, 2):\">\n",
       "<path fill=\"none\" stroke=\"#4a4a4a\" d=\"M191.92,-172.91C204.55,-163.84 220.61,-152.31 234.93,-142.04\"/>\n",
       "<polygon fill=\"#4a4a4a\" stroke=\"#4a4a4a\" points=\"237.03,-144.84 243.11,-136.16 232.94,-139.15 237.03,-144.84\"/>\n",
       "</a>\n",
       "</g>\n",
       "</g>\n",
       "<!-- Treat?(Yes/No)&#45;&gt;Risk Behaviour -->\n",
       "<g id=\"edge3\" class=\"edge\">\n",
       "<title>Treat?(Yes/No)-&gt;Risk Behaviour</title>\n",
       "<g id=\"a_edge3\"><a xlink:title=\"(4, 3):\">\n",
       "<path fill=\"none\" stroke=\"#4a4a4a\" d=\"M158.37,-172.18C152.95,-164.01 146.3,-153.95 140.14,-144.65\"/>\n",
       "<polygon fill=\"#4a4a4a\" stroke=\"#4a4a4a\" points=\"142.88,-142.45 134.44,-136.05 137.04,-146.32 142.88,-142.45\"/>\n",
       "</a>\n",
       "</g>\n",
       "</g>\n",
       "<!-- Screen?(Yes/No) -->\n",
       "<g id=\"node6\" class=\"node\">\n",
       "<title>Screen?(Yes/No)</title>\n",
       "<ellipse fill=\"#404040\" stroke=\"#000000\" cx=\"196.5\" cy=\"-352.5\" rx=\"73.39\" ry=\"18\"/>\n",
       "<text text-anchor=\"middle\" x=\"196.5\" y=\"-348.8\" font-family=\"Times New Roman,serif\" font-size=\"14.00\" fill=\"white\">Screen?(Yes/No)</text>\n",
       "</g>\n",
       "<!-- Screen?(Yes/No)&#45;&gt;HIV Result -->\n",
       "<g id=\"edge1\" class=\"edge\">\n",
       "<title>Screen?(Yes/No)-&gt;HIV Result</title>\n",
       "<g id=\"a_edge1\"><a xlink:title=\"(5, 1):\">\n",
       "<path fill=\"none\" stroke=\"#4a4a4a\" d=\"M180.96,-334.82C172.6,-325.85 162,-314.47 152.07,-303.82\"/>\n",
       "<polygon fill=\"#4a4a4a\" stroke=\"#4a4a4a\" points=\"154.38,-301.16 145,-296.23 149.26,-305.93 154.38,-301.16\"/>\n",
       "</a>\n",
       "</g>\n",
       "</g>\n",
       "<!-- Screen?(Yes/No)&#45;&gt;Treat?(Yes/No) -->\n",
       "<g id=\"edge5\" class=\"edge\">\n",
       "<title>Screen?(Yes/No)-&gt;Treat?(Yes/No)</title>\n",
       "<g id=\"a_edge5\"><a xlink:title=\"(5, 4):\">\n",
       "<path fill=\"none\" stroke=\"#4a4a4a\" d=\"M194.55,-334.3C192.04,-313.01 187.29,-275.7 181.5,-244 179.95,-235.52 177.98,-226.33 176.08,-218.03\"/>\n",
       "<polygon fill=\"#4a4a4a\" stroke=\"#4a4a4a\" points=\"179.45,-217.05 173.76,-208.11 172.63,-218.65 179.45,-217.05\"/>\n",
       "</a>\n",
       "</g>\n",
       "</g>\n",
       "</g>\n",
       "</svg>"
      ],
      "text/plain": [
       "<IPython.core.display.SVG object>"
      ]
     },
     "metadata": {},
     "output_type": "display_data"
    }
   ],
   "source": [
    "%matplotlib inline\n",
    "ie=gum.LazyPropagation(HIV1)\n",
    "ie.setEvidence({'Treat?(Yes/No)':1,'Screen?(Yes/No)':1})\n",
    "ie.makeInference()\n",
    "gnb.showInference(HIV1,evs={},targets={'PCR Result','HIV Result','Risk Behaviour','Compliance with Medical Therapy','HIV Status'})"
   ]
  },
  {
   "cell_type": "code",
   "execution_count": null,
   "metadata": {},
   "outputs": [],
   "source": []
  },
  {
   "cell_type": "code",
   "execution_count": null,
   "metadata": {},
   "outputs": [],
   "source": []
  }
 ],
 "metadata": {
  "kernelspec": {
   "display_name": "Python 3",
   "language": "python",
   "name": "python3"
  },
  "language_info": {
   "codemirror_mode": {
    "name": "ipython",
    "version": 3
   },
   "file_extension": ".py",
   "mimetype": "text/x-python",
   "name": "python",
   "nbconvert_exporter": "python",
   "pygments_lexer": "ipython3",
   "version": "3.8.2"
  },
  "latex_envs": {
   "LaTeX_envs_menu_present": true,
   "autoclose": false,
   "autocomplete": true,
   "bibliofile": "biblio.bib",
   "cite_by": "apalike",
   "current_citInitial": 1,
   "eqLabelWithNumbers": true,
   "eqNumInitial": 1,
   "hotkeys": {
    "equation": "Ctrl-E",
    "itemize": "Ctrl-I"
   },
   "labels_anchors": false,
   "latex_user_defs": false,
   "report_style_numbering": false,
   "user_envs_cfg": false
  }
 },
 "nbformat": 4,
 "nbformat_minor": 4
}
