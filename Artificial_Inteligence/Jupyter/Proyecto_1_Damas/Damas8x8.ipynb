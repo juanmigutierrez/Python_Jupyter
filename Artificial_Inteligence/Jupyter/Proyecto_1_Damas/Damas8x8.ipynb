{
 "cells": [
  {
   "cell_type": "markdown",
   "metadata": {},
   "source": [
    "# Solución al problema de damas"
   ]
  },
  {
   "cell_type": "markdown",
   "metadata": {},
   "source": [
    "### Definicion Formal\n",
    "\n",
    "* **Estado inicial:** Situación del entorno desde el cual comienza el juego. En el caso de las damas, el estado inicial es el tablero con las 12 fichas de cada bando en sus posiciones respectivas.\n",
    "\n",
    "* **Jugador(s):** Define cuál jugador tiene el turno en el estado `s`, el cual puede ser `blancas` o `negras`.\n",
    "\n",
    "* **Posibles acciones(s):** Descripción de las posibles acciones del Jugador(`s`), dado un estado `s`. En este caso, poner o bien una dama `blanca` o bien una `negra` en una casilla vacía.\n",
    "\n",
    "* **Función de transiciones(s, a):** Descripción del entorno que resulta de la ejecución de la acción `a` por el `Jugador(s)` en el estado `s`. Junto con el estado inicial y las posibles acciones, la función de transiciones define el espacio de estados del juego.\n",
    "\n",
    "* **Prueba de objetivo(s):** Permite determinar si el juego se termina cuando se obtiene el estado `s`. \n",
    "\n",
    "* **Función de utilidad(s):** Definida sólo para aquellos estados `s` en los cuales el juego se termina. Esta función establece la utilidad en `s`. En nuestro caso del triqui, asumiremos que si el ganador es el jugador de las $O$, la utilidad es -1; si el ganador es el jugador de las $X$, la utilidad es 1; y en caso de empate la utilidad es 0."
   ]
  },
  {
   "cell_type": "markdown",
   "metadata": {},
   "source": [
    "### Implementacion"
   ]
  },
  {
   "cell_type": "code",
   "execution_count": 3,
   "metadata": {},
   "outputs": [],
   "source": [
    "import matplotlib.pyplot as plt\n",
    "import matplotlib.patches as patches\n",
    "from matplotlib.offsetbox import AnnotationBbox, OffsetImage\n",
    "import numpy as np\n",
    "from random import choice\n",
    "import copy\n",
    "\n",
    "%matplotlib inline"
   ]
  },
  {
   "cell_type": "code",
   "execution_count": 127,
   "metadata": {},
   "outputs": [],
   "source": [
    "class damas:\n",
    "    \n",
    "    def __init__(self):\n",
    "        self.estado = None# matriz 8x8\n",
    "        self.blancas = []# # lista de posiciones (x,y) de fichas blancas\n",
    "        self.negras = []# # lista de posiciones (x,y) de fichas blancas\n",
    "        self.turno = 2 # primero comienzan blancas\n",
    "        self.reinas_blancas= [] # #reinas son figuras que coronan hasta la última linea\n",
    "        self.reinas_negras= [] #  #reinas son figuras que coronan hasta la última linea\n",
    "    \n",
    "    def estado_inicial(self):\n",
    "        return np.matrix([[0]*8]*8)\n",
    "    \n",
    "    def pintar_estado(self, estado):\n",
    "        # Dibuja el tablero correspondiente al estado\n",
    "        # Input: estado, que es una 3-lista de 3-listas\n",
    "        fig, axes = plt.subplots(figsize=(9,8))\n",
    "\n",
    "        # Dibujo el tablero\n",
    "        step = 1./8\n",
    "        offset = 0.001\n",
    "        tangulos = []\n",
    "\n",
    "        # Borde del tablero\n",
    "        tangulos.append(patches.Rectangle((0,0),0.998,0.998,\\\n",
    "                                          facecolor='cornsilk',\\\n",
    "                                         edgecolor='black',\\\n",
    "                                         linewidth=2))\n",
    "\n",
    "        # Creo las líneas del tablero\n",
    "        for j in range(8):\n",
    "            locacion = j * step\n",
    "            # Crea linea horizontal en el rectangulo\n",
    "            tangulos.append(patches.Rectangle(*[(0, locacion), 1, 0.008],\\\n",
    "                    facecolor='black'))\n",
    "            # Crea linea vertical en el rectangulo\n",
    "            tangulos.append(patches.Rectangle(*[(locacion, 0), 0.008, 1],\\\n",
    "                    facecolor='black'))\n",
    "\n",
    "        for t in tangulos:\n",
    "            axes.add_patch(t)\n",
    "\n",
    "        # Cargando imagen de O\n",
    "        arr_img_O = plt.imread(\"./imagenes/negra.png\", format='png')\n",
    "        image_O = OffsetImage(arr_img_O, zoom=0.07)\n",
    "        image_O.image.axes = axes\n",
    "\n",
    "        # Cargando imagen de X\n",
    "        arr_img_X = plt.imread(\"./imagenes/blanca.png\", format='png')\n",
    "        image_X = OffsetImage(arr_img_X, zoom=0.07)\n",
    "        image_X.image.axes = axes\n",
    "\n",
    "        offsetX = 0.065\n",
    "        offsetY = 0.065\n",
    "\n",
    "        # ASUMO QUE LAS 'blancas' SE REPRESENTAN CON 1 EN LA MATRIZ\n",
    "        # Y QUE LAS 'negras' SE REPRESENTAN CON 2\n",
    "        for i in range(8):\n",
    "            for j in range(8):\n",
    "                if estado[j, i] == 1:\n",
    "                    # print(\"O en (\" + str(i) + \", \" + str(j) + \")\")\n",
    "                    Y = 7 - j\n",
    "                    X = i\n",
    "                    # print(\"(\" + str(X) + \", \" + str(Y) + \")\")\n",
    "                    ab = AnnotationBbox(\n",
    "                        image_O, \n",
    "                        [(X*step) + offsetX, (Y*step) + offsetY], \n",
    "                        frameon=False)\n",
    "                    axes.add_artist(ab)\n",
    "                if estado[j, i] == 2:\n",
    "                    # print(\"X en (\" + str(i) + \", \" + str(j) + \")\")\n",
    "                    Y = 7 - j\n",
    "                    X = i\n",
    "                    # print(\"(\" + str(X) + \", \" + str(Y) + \")\")\n",
    "                    ab = AnnotationBbox(\n",
    "                        image_X, \n",
    "                        [(X*step) + offsetX, (Y*step) + offsetY], \n",
    "                        frameon=False)\n",
    "                    axes.add_artist(ab)\n",
    "        \n",
    "        axes.axis('off')\n",
    "        return axes\n",
    "    \n",
    "    def jugador(self, estado):\n",
    "        # Devuelve el número del jugador a quien corresponde el turno\n",
    "        # 1 para las 'negras'\n",
    "        # 2 para las 'blancas'\n",
    "        num_Os = np.count_nonzero(estado==1)\n",
    "        num_Xs = np.count_nonzero(estado==2)\n",
    "        # print(\"Cantidad O:\", num_Os, \" Cantidad X:\", num_Xs)\n",
    "        if num_Os < num_Xs:\n",
    "            return 1\n",
    "        else:\n",
    "            return 2\n",
    "    \n",
    "    \n",
    "##################################################### ACCIONES APLICABLES ######################################################\n",
    "\n",
    "    def acciones_aplicables(self, estado):\n",
    "        # Devuelve una lista de parejas que representan las casillas vacías\n",
    "        # Input: estado, que es una np.matrix(8x8)\n",
    "        # Output: dictionario de movimientos de cada ficha del turno del jugador\n",
    "        movimientos={}\n",
    "        if self.turno == 1: # si juegan las 'negras'\n",
    "            ## NORMALES NEGRAS\n",
    "            for posicion in self.negras: #mirando los posibles movimientos de las negras\n",
    "                pos_x = posicion[0]\n",
    "                pos_y = posicion[1]\n",
    "                #dic.setdefault(key,[]).append(value), lo que hace es agregar valor si no existe, y si no lo añade a la lista\n",
    "                if pos_x>=1 and pos_y>=1:\n",
    "                    if estado[pos_y-1,pos_x-1]==0: #⬉\n",
    "                        movimientos.setdefault(posicion,[]).append((pos_x-1,pos_y-1))\n",
    "                if pos_x<=6 and pos_y>=1:\n",
    "                    if estado[pos_y-1,pos_x+1]==0:#⬈\n",
    "                        movimientos.setdefault(posicion,[]).append((pos_x+1,pos_y-1))\n",
    "            ## DAMAS NEGRAS ⚠️ No sabemos si existen errores todavia en esta parte del codigo\n",
    "            if self.reinas_negras != None:\n",
    "                for posicion in self.reinas_negras: #mirando los posibles movimientos de las negras\n",
    "                    pos_x = posicion[0]\n",
    "                    pos_y = posicion[1]\n",
    "                    #dic.setdefault(key,[]).append(value), lo que hace es agregar valor si no existe, y si no lo añade a la lista\n",
    "                    if pos_x>=1 and pos_y>=1:\n",
    "                        if estado[pos_y-1,pos_x-1]==0: #⬉\n",
    "                            movimientos.setdefault(posicion,[]).append((pos_x-1,pos_y-1))\n",
    "                    if pos_x<=6 and pos_y>=1:\n",
    "                        if estado[pos_y-1,pos_x+1]==0:#⬈\n",
    "                            movimientos.setdefault(posicion,[]).append((pos_x+1,pos_y-1))\n",
    "                    if pos_x<=6 and pos_y<=6:\n",
    "                        if estado[pos_y+1,pos_x+1]==0 :#⬊\n",
    "                            movimientos.setdefault(posicion,[]).append((pos_x+1,pos_y+1))\n",
    "                    if pos_x>=1 and pos_y<=6:\n",
    "                        if estado[pos_y+1,pos_x-1]==0 :#⬋\n",
    "                            movimientos.setdefault(posicion,[]).append((pos_x-1,pos_y+1))  \n",
    "                            \n",
    "        \n",
    "        \n",
    "        if self.turno == 2: # si juegan las 'blancas'\n",
    "            ## NORMALES BLANCAS\n",
    "            for posicion in self.blancas: #mirando los posibles movimientos de las blancas\n",
    "                pos_x = posicion[0]\n",
    "                pos_y = posicion[1]\n",
    "                #dic.setdefault(key,[]).append(value), lo que hace es agregar valor si no existe, y si no lo añade a la lista\n",
    "                if pos_x<=6 and pos_y<=6:\n",
    "                    if estado[pos_y+1,pos_x+1]==0 :#⬊\n",
    "                        movimientos.setdefault(posicion,[]).append((pos_x+1,pos_y+1))\n",
    "                if pos_x>=1 and pos_y<=6:\n",
    "                    if estado[pos_y+1,pos_x-1]==0 :#⬋\n",
    "                        movimientos.setdefault(posicion,[]).append((pos_x-1,pos_y+1))   \n",
    "            ## DAMAS BLANCAS ⚠️ No sabemos si existen errores todavia en esta parte del codigo\n",
    "            if self.reinas_blancas != None:\n",
    "                for posicion in self.reinas_blancas: #mirando los posibles movimientos de las negras\n",
    "                    pos_x = posicion[0]\n",
    "                    pos_y = posicion[1]\n",
    "                    #dic.setdefault(key,[]).append(value), lo que hace es agregar valor si no existe, y si no lo añade a la lista\n",
    "                    if pos_x>=1 and pos_y>=1:\n",
    "                        if estado[pos_y-1,pos_x-1]==0: #⬉\n",
    "                            movimientos.setdefault(posicion,[]).append((pos_x-1,pos_y-1))\n",
    "                    if pos_x<=6 and pos_y>=1:\n",
    "                        if estado[pos_y-1,pos_x+1]==0:#⬈\n",
    "                            movimientos.setdefault(posicion,[]).append((pos_x+1,pos_y-1))\n",
    "                    if pos_x<=6 and pos_y<=6:\n",
    "                        if estado[pos_y+1,pos_x+1]==0 :#⬊\n",
    "                            movimientos.setdefault(posicion,[]).append((pos_x+1,pos_y+1))\n",
    "                    if pos_x>=1 and pos_y<=6:\n",
    "                        if estado[pos_y+1,pos_x-1]==0 :#⬋\n",
    "                            movimientos.setdefault(posicion,[]).append((pos_x-1,pos_y+1))         \n",
    "        return movimientos\n",
    "    \n",
    "################################################################################################################################    \n",
    "    \n",
    "    def llenar(self,estado):\n",
    "        # Llena el tablero con las posiciones iniciales\n",
    "        # Input: estado, qie es una np.matrix(8x8)\n",
    "        # Output : estado, con el tablero llenado, listo para jugar\n",
    "        blancas =[(0,0),(2,0),(4,0),(6,0),(1,1),(3,1),(5,1),(7,1),(0,2),(2,2),(4,2),(6,2)] #(x,y) = (⮕,⬇)\n",
    "        negras =[(1,7),(3,7),(5,7),(7,7),(0,6),(2,6),(4,6),(6,6),(1,5),(3,5),(5,5),(7,5)]\n",
    "        #Falta agregar negras\n",
    "        for posicion in blancas: #llenando con fichas blancas\n",
    "            # estado[(y,x)]\n",
    "            estado[posicion[1],posicion[0]]=2\n",
    "        for posicion in negras: #llenando con fichas negras\n",
    "            # estado[(y,x)]\n",
    "            estado[posicion[1],posicion[0]]=1        \n",
    "        self.estado = estado\n",
    "        self.blancas = blancas\n",
    "        self.negras = negras\n",
    "        return estado\n",
    "\n",
    "    def transicion(self, estado,ficha,movimiento):\n",
    "        # Devuelve el tablero incluyendo una O o X en el indice,\n",
    "        # dependiendo del jugador que tiene el turno\n",
    "        # Input: estado, que es una np.matrix(8x8)\n",
    "        #        indice, de la forma (x,y)\n",
    "        # Output: estado, que es una np.matrix(8x8)\n",
    "        \n",
    "        s = copy.deepcopy(estado)\n",
    "        jugador = self.turno\n",
    "        s[ficha[1],ficha[0]]= 0 #eliminando posicion antigua ficha\n",
    "        s[movimiento[1],movimiento[0]] = jugador #agregando movimiento\n",
    "        if jugador == 2: # mueve blancas\n",
    "            self.blancas.remove(ficha) #elimina posicion en lista blancas\n",
    "            self.turno =1 #cambia turno a negras\n",
    "            if movimiento[1] != 7:\n",
    "                self.blancas.append(movimiento)\n",
    "            elif movimiento[1]==7:\n",
    "                self.reinas_blancas.append(movimiento)\n",
    "        elif jugador == 1: # mueve negras\n",
    "            self.negras.remove(ficha) #elimina posicion en lista negras\n",
    "            self.turno =2 #cambia turno a blancas\n",
    "            if movimiento[1] != 7:\n",
    "                self.negras.append(movimiento)\n",
    "            elif movimiento[1]==7:\n",
    "                self.reinas_negras.append(movimiento)            \n",
    "        self.estado = s                                    \n",
    "        return s\n",
    "    \n",
    "    def test_objetivo(self, estado):\n",
    "        # Devuelve True/False dependiendo si el juego se acabó\n",
    "        # Input: estado, que es una np.matrix(8x8)\n",
    "        # Output: objetivo, True/False\n",
    "        # print(\"Determinando si no hay casillas vacías...\")\n",
    "        if len(self.blancas)==0 and len(self.reinas_blancas)==0: # No existen mas fichas blancas\n",
    "            print(\"entro blancas\")\n",
    "            return True\n",
    "        elif len(self.negras)==0 and len(self.reinas_negras)==0: # No existen mas fichas negras\n",
    "            print(\"entro negras\")\n",
    "            return True\n",
    "        else:\n",
    "            movimientos = self.acciones_aplicables(estado)\n",
    "            if (not movimientos) == True: #si ya no hay mas posibles movimientos para un jugador\n",
    "                return True\n",
    "            else:            # Si hay fichas que todavian pueden moverse           \n",
    "                return False \n",
    "\n",
    "    def utilidad(self, estado):\n",
    "        # Devuelve la utilidad del estado donde termina el juego\n",
    "        # Input: estado, que es una np.matrix(3x3)\n",
    "        # Output: utilidad, que es un valor -1, 0, 1\n",
    "        ob = self.test_objetivo(estado)\n",
    "        if ob:\n",
    "            # Determina quién ganó la partida o si hay empate\n",
    "            # print(\"Buscando triqui horizontal...\")\n",
    "            for y in range(8):\n",
    "                num_Os = np.count_nonzero(estado[y,:]==1)\n",
    "                num_Xs = np.count_nonzero(estado[y,:]==2)\n",
    "                # print(\"Cantidad O:\", num_Os, \" Cantidad X:\", num_Xs)\n",
    "                if num_Os==8:\n",
    "                    return -1\n",
    "                elif num_Xs==8:\n",
    "                    return 1\n",
    "\n",
    "            # print(\"Buscando triqui vertical...\")\n",
    "            for x in range(8):\n",
    "                num_Os = np.count_nonzero(estado[:,x]==1)\n",
    "                num_Xs = np.count_nonzero(estado[:,x]==2)\n",
    "                # print(\"Cantidad O:\", num_Os, \" Cantidad X:\", num_Xs)\n",
    "                if num_Os==8:\n",
    "                    return -1\n",
    "                elif num_Xs==8:\n",
    "                    return 1\n",
    "\n",
    "            # print(\"Buscando triqui diagonal...\")\n",
    "            if (estado[0,0]==1) and (estado[1,1]==1) and (estado[2,2]==1):\n",
    "                return -1\n",
    "            if (estado[0,0]==2) and (estado[1,1]==2) and (estado[2,2]==2):\n",
    "                return 1\n",
    "\n",
    "            # print(\"Buscando triqui transversal...\")\n",
    "            if (estado[2,0]==1) and (estado[1,1]==1) and (estado[0,2]==1):\n",
    "                return -1\n",
    "            if (estado[2,0]==2) and (estado[1,1]==2) and (estado[0,2]==2):\n",
    "                return 1\n",
    "\n",
    "            if np.count_nonzero(estado==0)==0:\n",
    "                return 0\n",
    "\n",
    "        return None"
   ]
  },
  {
   "cell_type": "markdown",
   "metadata": {},
   "source": [
    "## 💯 Pruebas Unitarias de funcionamiento"
   ]
  },
  {
   "cell_type": "markdown",
   "metadata": {},
   "source": [
    "### Llenar tablero inicial"
   ]
  },
  {
   "cell_type": "code",
   "execution_count": 128,
   "metadata": {},
   "outputs": [
    {
     "data": {
      "text/plain": [
       "<matplotlib.axes._subplots.AxesSubplot at 0x1bd57ed0648>"
      ]
     },
     "execution_count": 128,
     "metadata": {},
     "output_type": "execute_result"
    },
    {
     "data": {
      "image/png": "[encoded data removed]",
      "text/plain": [
       "<Figure size 648x576 with 1 Axes>"
      ]
     },
     "metadata": {
      "needs_background": "light"
     },
     "output_type": "display_data"
    }
   ],
   "source": [
    "D = damas()\n",
    "s = D.estado_inicial()\n",
    "s = D.llenar(s)\n",
    "D.pintar_estado(s)"
   ]
  },
  {
   "cell_type": "markdown",
   "metadata": {},
   "source": [
    "### Ver movimientos"
   ]
  },
  {
   "cell_type": "markdown",
   "metadata": {},
   "source": [
    "Es posible llevar que el juego funciona correctamente corriendo estas dos celdas iterativamente, la primera para las fichas blancas y la segunda para las fichas negras\n",
    "\n",
    "#### Blancas"
   ]
  },
  {
   "cell_type": "code",
   "execution_count": 132,
   "metadata": {},
   "outputs": [
    {
     "data": {
      "text/plain": [
       "<matplotlib.axes._subplots.AxesSubplot at 0x1bd6dcc0dc8>"
      ]
     },
     "execution_count": 132,
     "metadata": {},
     "output_type": "execute_result"
    },
    {
     "data": {
      "image/png": "[encoded data removed]",
      "text/plain": [
       "<Figure size 648x576 with 1 Axes>"
      ]
     },
     "metadata": {
      "needs_background": "light"
     },
     "output_type": "display_data"
    }
   ],
   "source": [
    "mov = D.acciones_aplicables(s)\n",
    "ficha , movimientos_ficha = choice(list(mov.items()))\n",
    "movimiento_ficha = choice(movimientos_ficha)\n",
    "s = D.transicion(s,ficha,movimiento_ficha)\n",
    "D.pintar_estado(s)"
   ]
  },
  {
   "cell_type": "markdown",
   "metadata": {},
   "source": [
    "#### Negras"
   ]
  },
  {
   "cell_type": "code",
   "execution_count": 130,
   "metadata": {},
   "outputs": [
    {
     "data": {
      "text/plain": [
       "<matplotlib.axes._subplots.AxesSubplot at 0x1bd6627bcc8>"
      ]
     },
     "execution_count": 130,
     "metadata": {},
     "output_type": "execute_result"
    },
    {
     "data": {
      "image/png": "[encoded data removed]",
      "text/plain": [
       "<Figure size 648x576 with 1 Axes>"
      ]
     },
     "metadata": {
      "needs_background": "light"
     },
     "output_type": "display_data"
    }
   ],
   "source": [
    "mov = D.acciones_aplicables(s)\n",
    "ficha , movimientos_ficha = choice(list(mov.items()))\n",
    "movimiento_ficha = choice(movimientos_ficha)\n",
    "s = D.transicion(s,ficha,movimiento_ficha)\n",
    "D.pintar_estado(s)"
   ]
  },
  {
   "cell_type": "markdown",
   "metadata": {},
   "source": [
    "### Verificar funciona correctamente Test Objetivo"
   ]
  },
  {
   "cell_type": "code",
   "execution_count": 131,
   "metadata": {},
   "outputs": [
    {
     "data": {
      "text/plain": [
       "False"
      ]
     },
     "execution_count": 131,
     "metadata": {},
     "output_type": "execute_result"
    }
   ],
   "source": [
    "D.test_objetivo(s)"
   ]
  },
  {
   "cell_type": "code",
   "execution_count": 116,
   "metadata": {},
   "outputs": [
    {
     "data": {
      "text/plain": [
       "False"
      ]
     },
     "execution_count": 116,
     "metadata": {},
     "output_type": "execute_result"
    }
   ],
   "source": [
    "not movimientos_ficha"
   ]
  },
  {
   "cell_type": "code",
   "execution_count": null,
   "metadata": {},
   "outputs": [],
   "source": []
  }
 ],
 "metadata": {
  "kernelspec": {
   "display_name": "Python 3",
   "language": "python",
   "name": "python3"
  },
  "language_info": {
   "codemirror_mode": {
    "name": "ipython",
    "version": 3
   },
   "file_extension": ".py",
   "mimetype": "text/x-python",
   "name": "python",
   "nbconvert_exporter": "python",
   "pygments_lexer": "ipython3",
   "version": "3.7.6"
  },
  "latex_envs": {
   "LaTeX_envs_menu_present": true,
   "autoclose": false,
   "autocomplete": true,
   "bibliofile": "biblio.bib",
   "cite_by": "apalike",
   "current_citInitial": 1,
   "eqLabelWithNumbers": true,
   "eqNumInitial": 1,
   "hotkeys": {
    "equation": "Ctrl-E",
    "itemize": "Ctrl-I"
   },
   "labels_anchors": false,
   "latex_user_defs": false,
   "report_style_numbering": false,
   "user_envs_cfg": false
  }
 },
 "nbformat": 4,
 "nbformat_minor": 4
}
